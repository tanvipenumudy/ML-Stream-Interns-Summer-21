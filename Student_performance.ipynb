{
  "nbformat": 4,
  "nbformat_minor": 0,
  "metadata": {
    "colab": {
      "name": "Student_performance.ipynb",
      "provenance": [],
      "mount_file_id": "1kvaJagnEegNvnFA7nannMX93knkjhl17",
      "authorship_tag": "ABX9TyM2TsbgfcDdG5jAtd8TfKBW",
      "include_colab_link": true
    },
    "kernelspec": {
      "name": "python3",
      "display_name": "Python 3"
    },
    "language_info": {
      "name": "python"
    }
  },
  "cells": [
    {
      "cell_type": "markdown",
      "metadata": {
        "id": "view-in-github",
        "colab_type": "text"
      },
      "source": [
        "<a href=\"https://colab.research.google.com/github/tanvipenumudy/ML-Stream-Interns-Summer-21/blob/main/Student_performance.ipynb\" target=\"_parent\"><img src=\"https://colab.research.google.com/assets/colab-badge.svg\" alt=\"Open In Colab\"/></a>"
      ]
    },
    {
      "cell_type": "code",
      "metadata": {
        "id": "GQmF7B0kBRCq"
      },
      "source": [
        "import pandas as pd\n",
        "import seaborn as sns\n",
        "import numpy as np"
      ],
      "execution_count": 51,
      "outputs": []
    },
    {
      "cell_type": "code",
      "metadata": {
        "colab": {
          "base_uri": "https://localhost:8080/",
          "height": 204
        },
        "id": "AsvsvjeMCwg4",
        "outputId": "739d6baf-8f05-447d-b7b8-c9edd2e005f4"
      },
      "source": [
        "df=pd.read_csv(\"/content/drive/MyDrive/internity internship/Machine learning/StudentsPerformance.csv\")\n",
        "df.head()"
      ],
      "execution_count": 52,
      "outputs": [
        {
          "output_type": "execute_result",
          "data": {
            "text/html": [
              "<div>\n",
              "<style scoped>\n",
              "    .dataframe tbody tr th:only-of-type {\n",
              "        vertical-align: middle;\n",
              "    }\n",
              "\n",
              "    .dataframe tbody tr th {\n",
              "        vertical-align: top;\n",
              "    }\n",
              "\n",
              "    .dataframe thead th {\n",
              "        text-align: right;\n",
              "    }\n",
              "</style>\n",
              "<table border=\"1\" class=\"dataframe\">\n",
              "  <thead>\n",
              "    <tr style=\"text-align: right;\">\n",
              "      <th></th>\n",
              "      <th>gender</th>\n",
              "      <th>race/ethnicity</th>\n",
              "      <th>parental level of education</th>\n",
              "      <th>lunch</th>\n",
              "      <th>test preparation course</th>\n",
              "      <th>math score</th>\n",
              "      <th>reading score</th>\n",
              "      <th>writing score</th>\n",
              "    </tr>\n",
              "  </thead>\n",
              "  <tbody>\n",
              "    <tr>\n",
              "      <th>0</th>\n",
              "      <td>female</td>\n",
              "      <td>group B</td>\n",
              "      <td>bachelor's degree</td>\n",
              "      <td>standard</td>\n",
              "      <td>none</td>\n",
              "      <td>72</td>\n",
              "      <td>72</td>\n",
              "      <td>74</td>\n",
              "    </tr>\n",
              "    <tr>\n",
              "      <th>1</th>\n",
              "      <td>female</td>\n",
              "      <td>group C</td>\n",
              "      <td>some college</td>\n",
              "      <td>standard</td>\n",
              "      <td>completed</td>\n",
              "      <td>69</td>\n",
              "      <td>90</td>\n",
              "      <td>88</td>\n",
              "    </tr>\n",
              "    <tr>\n",
              "      <th>2</th>\n",
              "      <td>female</td>\n",
              "      <td>group B</td>\n",
              "      <td>master's degree</td>\n",
              "      <td>standard</td>\n",
              "      <td>none</td>\n",
              "      <td>90</td>\n",
              "      <td>95</td>\n",
              "      <td>93</td>\n",
              "    </tr>\n",
              "    <tr>\n",
              "      <th>3</th>\n",
              "      <td>male</td>\n",
              "      <td>group A</td>\n",
              "      <td>associate's degree</td>\n",
              "      <td>free/reduced</td>\n",
              "      <td>none</td>\n",
              "      <td>47</td>\n",
              "      <td>57</td>\n",
              "      <td>44</td>\n",
              "    </tr>\n",
              "    <tr>\n",
              "      <th>4</th>\n",
              "      <td>male</td>\n",
              "      <td>group C</td>\n",
              "      <td>some college</td>\n",
              "      <td>standard</td>\n",
              "      <td>none</td>\n",
              "      <td>76</td>\n",
              "      <td>78</td>\n",
              "      <td>75</td>\n",
              "    </tr>\n",
              "  </tbody>\n",
              "</table>\n",
              "</div>"
            ],
            "text/plain": [
              "   gender race/ethnicity  ... reading score writing score\n",
              "0  female        group B  ...            72            74\n",
              "1  female        group C  ...            90            88\n",
              "2  female        group B  ...            95            93\n",
              "3    male        group A  ...            57            44\n",
              "4    male        group C  ...            78            75\n",
              "\n",
              "[5 rows x 8 columns]"
            ]
          },
          "metadata": {
            "tags": []
          },
          "execution_count": 52
        }
      ]
    },
    {
      "cell_type": "code",
      "metadata": {
        "colab": {
          "base_uri": "https://localhost:8080/",
          "height": 296
        },
        "id": "HUpWwCGgLNWh",
        "outputId": "9d06ecf1-9796-4fc5-cb5b-5db05a29de39"
      },
      "source": [
        "df.rename(columns={\"parental level of education\": \"parental_education\",\"test preparation course\":\"preparation_status\",\"math score\":\"maths\",\"reading score\":\"reading\",\"writing score\":\"writing\"},inplace=True)\n",
        "df.describe()"
      ],
      "execution_count": 53,
      "outputs": [
        {
          "output_type": "execute_result",
          "data": {
            "text/html": [
              "<div>\n",
              "<style scoped>\n",
              "    .dataframe tbody tr th:only-of-type {\n",
              "        vertical-align: middle;\n",
              "    }\n",
              "\n",
              "    .dataframe tbody tr th {\n",
              "        vertical-align: top;\n",
              "    }\n",
              "\n",
              "    .dataframe thead th {\n",
              "        text-align: right;\n",
              "    }\n",
              "</style>\n",
              "<table border=\"1\" class=\"dataframe\">\n",
              "  <thead>\n",
              "    <tr style=\"text-align: right;\">\n",
              "      <th></th>\n",
              "      <th>maths</th>\n",
              "      <th>reading</th>\n",
              "      <th>writing</th>\n",
              "    </tr>\n",
              "  </thead>\n",
              "  <tbody>\n",
              "    <tr>\n",
              "      <th>count</th>\n",
              "      <td>1000.00000</td>\n",
              "      <td>1000.000000</td>\n",
              "      <td>1000.000000</td>\n",
              "    </tr>\n",
              "    <tr>\n",
              "      <th>mean</th>\n",
              "      <td>66.08900</td>\n",
              "      <td>69.169000</td>\n",
              "      <td>68.054000</td>\n",
              "    </tr>\n",
              "    <tr>\n",
              "      <th>std</th>\n",
              "      <td>15.16308</td>\n",
              "      <td>14.600192</td>\n",
              "      <td>15.195657</td>\n",
              "    </tr>\n",
              "    <tr>\n",
              "      <th>min</th>\n",
              "      <td>0.00000</td>\n",
              "      <td>17.000000</td>\n",
              "      <td>10.000000</td>\n",
              "    </tr>\n",
              "    <tr>\n",
              "      <th>25%</th>\n",
              "      <td>57.00000</td>\n",
              "      <td>59.000000</td>\n",
              "      <td>57.750000</td>\n",
              "    </tr>\n",
              "    <tr>\n",
              "      <th>50%</th>\n",
              "      <td>66.00000</td>\n",
              "      <td>70.000000</td>\n",
              "      <td>69.000000</td>\n",
              "    </tr>\n",
              "    <tr>\n",
              "      <th>75%</th>\n",
              "      <td>77.00000</td>\n",
              "      <td>79.000000</td>\n",
              "      <td>79.000000</td>\n",
              "    </tr>\n",
              "    <tr>\n",
              "      <th>max</th>\n",
              "      <td>100.00000</td>\n",
              "      <td>100.000000</td>\n",
              "      <td>100.000000</td>\n",
              "    </tr>\n",
              "  </tbody>\n",
              "</table>\n",
              "</div>"
            ],
            "text/plain": [
              "            maths      reading      writing\n",
              "count  1000.00000  1000.000000  1000.000000\n",
              "mean     66.08900    69.169000    68.054000\n",
              "std      15.16308    14.600192    15.195657\n",
              "min       0.00000    17.000000    10.000000\n",
              "25%      57.00000    59.000000    57.750000\n",
              "50%      66.00000    70.000000    69.000000\n",
              "75%      77.00000    79.000000    79.000000\n",
              "max     100.00000   100.000000   100.000000"
            ]
          },
          "metadata": {
            "tags": []
          },
          "execution_count": 53
        }
      ]
    },
    {
      "cell_type": "code",
      "metadata": {
        "colab": {
          "base_uri": "https://localhost:8080/",
          "height": 204
        },
        "id": "61WD6kk2nZXJ",
        "outputId": "ae4f1a23-0907-4368-d258-833a7dcbd1e2"
      },
      "source": [
        "df.head()"
      ],
      "execution_count": 54,
      "outputs": [
        {
          "output_type": "execute_result",
          "data": {
            "text/html": [
              "<div>\n",
              "<style scoped>\n",
              "    .dataframe tbody tr th:only-of-type {\n",
              "        vertical-align: middle;\n",
              "    }\n",
              "\n",
              "    .dataframe tbody tr th {\n",
              "        vertical-align: top;\n",
              "    }\n",
              "\n",
              "    .dataframe thead th {\n",
              "        text-align: right;\n",
              "    }\n",
              "</style>\n",
              "<table border=\"1\" class=\"dataframe\">\n",
              "  <thead>\n",
              "    <tr style=\"text-align: right;\">\n",
              "      <th></th>\n",
              "      <th>gender</th>\n",
              "      <th>race/ethnicity</th>\n",
              "      <th>parental_education</th>\n",
              "      <th>lunch</th>\n",
              "      <th>preparation_status</th>\n",
              "      <th>maths</th>\n",
              "      <th>reading</th>\n",
              "      <th>writing</th>\n",
              "    </tr>\n",
              "  </thead>\n",
              "  <tbody>\n",
              "    <tr>\n",
              "      <th>0</th>\n",
              "      <td>female</td>\n",
              "      <td>group B</td>\n",
              "      <td>bachelor's degree</td>\n",
              "      <td>standard</td>\n",
              "      <td>none</td>\n",
              "      <td>72</td>\n",
              "      <td>72</td>\n",
              "      <td>74</td>\n",
              "    </tr>\n",
              "    <tr>\n",
              "      <th>1</th>\n",
              "      <td>female</td>\n",
              "      <td>group C</td>\n",
              "      <td>some college</td>\n",
              "      <td>standard</td>\n",
              "      <td>completed</td>\n",
              "      <td>69</td>\n",
              "      <td>90</td>\n",
              "      <td>88</td>\n",
              "    </tr>\n",
              "    <tr>\n",
              "      <th>2</th>\n",
              "      <td>female</td>\n",
              "      <td>group B</td>\n",
              "      <td>master's degree</td>\n",
              "      <td>standard</td>\n",
              "      <td>none</td>\n",
              "      <td>90</td>\n",
              "      <td>95</td>\n",
              "      <td>93</td>\n",
              "    </tr>\n",
              "    <tr>\n",
              "      <th>3</th>\n",
              "      <td>male</td>\n",
              "      <td>group A</td>\n",
              "      <td>associate's degree</td>\n",
              "      <td>free/reduced</td>\n",
              "      <td>none</td>\n",
              "      <td>47</td>\n",
              "      <td>57</td>\n",
              "      <td>44</td>\n",
              "    </tr>\n",
              "    <tr>\n",
              "      <th>4</th>\n",
              "      <td>male</td>\n",
              "      <td>group C</td>\n",
              "      <td>some college</td>\n",
              "      <td>standard</td>\n",
              "      <td>none</td>\n",
              "      <td>76</td>\n",
              "      <td>78</td>\n",
              "      <td>75</td>\n",
              "    </tr>\n",
              "  </tbody>\n",
              "</table>\n",
              "</div>"
            ],
            "text/plain": [
              "   gender race/ethnicity  parental_education  ... maths reading  writing\n",
              "0  female        group B   bachelor's degree  ...    72      72       74\n",
              "1  female        group C        some college  ...    69      90       88\n",
              "2  female        group B     master's degree  ...    90      95       93\n",
              "3    male        group A  associate's degree  ...    47      57       44\n",
              "4    male        group C        some college  ...    76      78       75\n",
              "\n",
              "[5 rows x 8 columns]"
            ]
          },
          "metadata": {
            "tags": []
          },
          "execution_count": 54
        }
      ]
    },
    {
      "cell_type": "code",
      "metadata": {
        "colab": {
          "base_uri": "https://localhost:8080/"
        },
        "id": "XWDIvWCaLOHx",
        "outputId": "98b2bfc4-1ae7-4409-dc2b-b0aaeb7c0b82"
      },
      "source": [
        "df.info()"
      ],
      "execution_count": 55,
      "outputs": [
        {
          "output_type": "stream",
          "text": [
            "<class 'pandas.core.frame.DataFrame'>\n",
            "RangeIndex: 1000 entries, 0 to 999\n",
            "Data columns (total 8 columns):\n",
            " #   Column              Non-Null Count  Dtype \n",
            "---  ------              --------------  ----- \n",
            " 0   gender              1000 non-null   object\n",
            " 1   race/ethnicity      1000 non-null   object\n",
            " 2   parental_education  1000 non-null   object\n",
            " 3   lunch               1000 non-null   object\n",
            " 4   preparation_status  1000 non-null   object\n",
            " 5   maths               1000 non-null   int64 \n",
            " 6   reading             1000 non-null   int64 \n",
            " 7   writing             1000 non-null   int64 \n",
            "dtypes: int64(3), object(5)\n",
            "memory usage: 62.6+ KB\n"
          ],
          "name": "stdout"
        }
      ]
    },
    {
      "cell_type": "code",
      "metadata": {
        "colab": {
          "base_uri": "https://localhost:8080/"
        },
        "id": "GdSAaia6RCBn",
        "outputId": "f547bc4f-34cb-4445-eca4-45a7fa62387c"
      },
      "source": [
        "df.nunique()"
      ],
      "execution_count": 56,
      "outputs": [
        {
          "output_type": "execute_result",
          "data": {
            "text/plain": [
              "gender                 2\n",
              "race/ethnicity         5\n",
              "parental_education     6\n",
              "lunch                  2\n",
              "preparation_status     2\n",
              "maths                 81\n",
              "reading               72\n",
              "writing               77\n",
              "dtype: int64"
            ]
          },
          "metadata": {
            "tags": []
          },
          "execution_count": 56
        }
      ]
    },
    {
      "cell_type": "markdown",
      "metadata": {
        "id": "Zcs5eufZtw_V"
      },
      "source": [
        "NO OF BOYS AND GIRL APPEARED FOR EXAM"
      ]
    },
    {
      "cell_type": "code",
      "metadata": {
        "colab": {
          "base_uri": "https://localhost:8080/"
        },
        "id": "ugMx1RJ5RXPk",
        "outputId": "0879c9fc-432b-4d10-a2ab-4fd736dfaeef"
      },
      "source": [
        "df.groupby(\"gender\")[\"gender\"].count()"
      ],
      "execution_count": 57,
      "outputs": [
        {
          "output_type": "execute_result",
          "data": {
            "text/plain": [
              "gender\n",
              "female    518\n",
              "male      482\n",
              "Name: gender, dtype: int64"
            ]
          },
          "metadata": {
            "tags": []
          },
          "execution_count": 57
        }
      ]
    },
    {
      "cell_type": "markdown",
      "metadata": {
        "id": "s7khGgx0soS0"
      },
      "source": [
        "**PERFORMANCE OF STUDENT IN EXAM WITH RESPECT TO GENDER**        \n",
        "\n",
        "*DEFINED A FUNTION THAT GIVE THE OUTPUT WHO PERFORMED BETTER*"
      ]
    },
    {
      "cell_type": "code",
      "metadata": {
        "id": "ssYniBjlR4st"
      },
      "source": [
        "df_1=df.copy()\n",
        "boys=(df_1[(df_1[\"gender\"]==\"male\")&\n",
        "     (df_1[\"maths\"]>=df.maths.quantile(0.75))&\n",
        "     (df_1[\"reading\"]>=df.reading.quantile(0.75))&\n",
        "     (df_1[\"writing\"]>=df.writing.quantile(0.75))\n",
        "     ]).gender.count()"
      ],
      "execution_count": 58,
      "outputs": []
    },
    {
      "cell_type": "code",
      "metadata": {
        "id": "fpZjGpYHU1tw"
      },
      "source": [
        "df_1=df.copy()\n",
        "girls=(df_1[(df_1[\"gender\"]==\"female\")&\n",
        "     (df_1[\"maths\"]>=df.maths.quantile(0.75))&\n",
        "     (df_1[\"reading\"]>=df.reading.quantile(0.75))&\n",
        "     (df_1[\"writing\"]>=df.writing.quantile(0.75))\n",
        "     ]).gender.count()"
      ],
      "execution_count": 59,
      "outputs": []
    },
    {
      "cell_type": "code",
      "metadata": {
        "id": "dJj-TmH4VQH2"
      },
      "source": [
        "def performance(girls,boys):\n",
        "     if girls>boys :\n",
        "         return (\"Girls perform well. \")\n",
        "     else :\n",
        "         return (\"Boys played well. \")    "
      ],
      "execution_count": 60,
      "outputs": []
    },
    {
      "cell_type": "code",
      "metadata": {
        "colab": {
          "base_uri": "https://localhost:8080/",
          "height": 36
        },
        "id": "2KDHpAwQVRhw",
        "outputId": "f674bada-3481-4c3a-a10b-17e5abe227a1"
      },
      "source": [
        "performance(girls,boys)"
      ],
      "execution_count": 61,
      "outputs": [
        {
          "output_type": "execute_result",
          "data": {
            "application/vnd.google.colaboratory.intrinsic+json": {
              "type": "string"
            },
            "text/plain": [
              "'Girls perform well. '"
            ]
          },
          "metadata": {
            "tags": []
          },
          "execution_count": 61
        }
      ]
    },
    {
      "cell_type": "markdown",
      "metadata": {
        "id": "bycW9eyhscPS"
      },
      "source": [
        "**# NO OF STUDENT PASSED ACCORDING TO GENDER**"
      ]
    },
    {
      "cell_type": "code",
      "metadata": {
        "colab": {
          "base_uri": "https://localhost:8080/"
        },
        "id": "Bo3GvPa7XG1w",
        "outputId": "d9d2377b-11ec-40fd-faab-969584d6a1d2"
      },
      "source": [
        "df[(df[\"maths\"]>=60)&\n",
        "   (df[\"reading\"]>=60)&\n",
        "   (df[\"writing\"]>=60)].groupby(\"gender\")[\"gender\"].count()"
      ],
      "execution_count": 62,
      "outputs": [
        {
          "output_type": "execute_result",
          "data": {
            "text/plain": [
              "gender\n",
              "female    319\n",
              "male      284\n",
              "Name: gender, dtype: int64"
            ]
          },
          "metadata": {
            "tags": []
          },
          "execution_count": 62
        }
      ]
    },
    {
      "cell_type": "code",
      "metadata": {
        "colab": {
          "base_uri": "https://localhost:8080/",
          "height": 204
        },
        "id": "Cq2-PETarZMB",
        "outputId": "070389d2-2366-4126-b68c-650939d8a73b"
      },
      "source": [
        "df.head()"
      ],
      "execution_count": 63,
      "outputs": [
        {
          "output_type": "execute_result",
          "data": {
            "text/html": [
              "<div>\n",
              "<style scoped>\n",
              "    .dataframe tbody tr th:only-of-type {\n",
              "        vertical-align: middle;\n",
              "    }\n",
              "\n",
              "    .dataframe tbody tr th {\n",
              "        vertical-align: top;\n",
              "    }\n",
              "\n",
              "    .dataframe thead th {\n",
              "        text-align: right;\n",
              "    }\n",
              "</style>\n",
              "<table border=\"1\" class=\"dataframe\">\n",
              "  <thead>\n",
              "    <tr style=\"text-align: right;\">\n",
              "      <th></th>\n",
              "      <th>gender</th>\n",
              "      <th>race/ethnicity</th>\n",
              "      <th>parental_education</th>\n",
              "      <th>lunch</th>\n",
              "      <th>preparation_status</th>\n",
              "      <th>maths</th>\n",
              "      <th>reading</th>\n",
              "      <th>writing</th>\n",
              "    </tr>\n",
              "  </thead>\n",
              "  <tbody>\n",
              "    <tr>\n",
              "      <th>0</th>\n",
              "      <td>female</td>\n",
              "      <td>group B</td>\n",
              "      <td>bachelor's degree</td>\n",
              "      <td>standard</td>\n",
              "      <td>none</td>\n",
              "      <td>72</td>\n",
              "      <td>72</td>\n",
              "      <td>74</td>\n",
              "    </tr>\n",
              "    <tr>\n",
              "      <th>1</th>\n",
              "      <td>female</td>\n",
              "      <td>group C</td>\n",
              "      <td>some college</td>\n",
              "      <td>standard</td>\n",
              "      <td>completed</td>\n",
              "      <td>69</td>\n",
              "      <td>90</td>\n",
              "      <td>88</td>\n",
              "    </tr>\n",
              "    <tr>\n",
              "      <th>2</th>\n",
              "      <td>female</td>\n",
              "      <td>group B</td>\n",
              "      <td>master's degree</td>\n",
              "      <td>standard</td>\n",
              "      <td>none</td>\n",
              "      <td>90</td>\n",
              "      <td>95</td>\n",
              "      <td>93</td>\n",
              "    </tr>\n",
              "    <tr>\n",
              "      <th>3</th>\n",
              "      <td>male</td>\n",
              "      <td>group A</td>\n",
              "      <td>associate's degree</td>\n",
              "      <td>free/reduced</td>\n",
              "      <td>none</td>\n",
              "      <td>47</td>\n",
              "      <td>57</td>\n",
              "      <td>44</td>\n",
              "    </tr>\n",
              "    <tr>\n",
              "      <th>4</th>\n",
              "      <td>male</td>\n",
              "      <td>group C</td>\n",
              "      <td>some college</td>\n",
              "      <td>standard</td>\n",
              "      <td>none</td>\n",
              "      <td>76</td>\n",
              "      <td>78</td>\n",
              "      <td>75</td>\n",
              "    </tr>\n",
              "  </tbody>\n",
              "</table>\n",
              "</div>"
            ],
            "text/plain": [
              "   gender race/ethnicity  parental_education  ... maths reading  writing\n",
              "0  female        group B   bachelor's degree  ...    72      72       74\n",
              "1  female        group C        some college  ...    69      90       88\n",
              "2  female        group B     master's degree  ...    90      95       93\n",
              "3    male        group A  associate's degree  ...    47      57       44\n",
              "4    male        group C        some college  ...    76      78       75\n",
              "\n",
              "[5 rows x 8 columns]"
            ]
          },
          "metadata": {
            "tags": []
          },
          "execution_count": 63
        }
      ]
    },
    {
      "cell_type": "code",
      "metadata": {
        "id": "2fySAKh12a-4"
      },
      "source": [
        "def percent(a,b,c):\n",
        "    return((a+b+c)/3)"
      ],
      "execution_count": 64,
      "outputs": []
    },
    {
      "cell_type": "code",
      "metadata": {
        "id": "tAI5S8JgvaqM"
      },
      "source": [
        "df[\"percentage\"]=(df[\"maths\"]+df[\"reading\"]+df[\"writing\"])/3"
      ],
      "execution_count": 65,
      "outputs": []
    },
    {
      "cell_type": "code",
      "metadata": {
        "colab": {
          "base_uri": "https://localhost:8080/",
          "height": 418
        },
        "id": "aUME_e2Z3uQm",
        "outputId": "6956f5cf-9fc2-46f1-c175-d883f7f096b0"
      },
      "source": [
        "df"
      ],
      "execution_count": 66,
      "outputs": [
        {
          "output_type": "execute_result",
          "data": {
            "text/html": [
              "<div>\n",
              "<style scoped>\n",
              "    .dataframe tbody tr th:only-of-type {\n",
              "        vertical-align: middle;\n",
              "    }\n",
              "\n",
              "    .dataframe tbody tr th {\n",
              "        vertical-align: top;\n",
              "    }\n",
              "\n",
              "    .dataframe thead th {\n",
              "        text-align: right;\n",
              "    }\n",
              "</style>\n",
              "<table border=\"1\" class=\"dataframe\">\n",
              "  <thead>\n",
              "    <tr style=\"text-align: right;\">\n",
              "      <th></th>\n",
              "      <th>gender</th>\n",
              "      <th>race/ethnicity</th>\n",
              "      <th>parental_education</th>\n",
              "      <th>lunch</th>\n",
              "      <th>preparation_status</th>\n",
              "      <th>maths</th>\n",
              "      <th>reading</th>\n",
              "      <th>writing</th>\n",
              "      <th>percentage</th>\n",
              "    </tr>\n",
              "  </thead>\n",
              "  <tbody>\n",
              "    <tr>\n",
              "      <th>0</th>\n",
              "      <td>female</td>\n",
              "      <td>group B</td>\n",
              "      <td>bachelor's degree</td>\n",
              "      <td>standard</td>\n",
              "      <td>none</td>\n",
              "      <td>72</td>\n",
              "      <td>72</td>\n",
              "      <td>74</td>\n",
              "      <td>72.666667</td>\n",
              "    </tr>\n",
              "    <tr>\n",
              "      <th>1</th>\n",
              "      <td>female</td>\n",
              "      <td>group C</td>\n",
              "      <td>some college</td>\n",
              "      <td>standard</td>\n",
              "      <td>completed</td>\n",
              "      <td>69</td>\n",
              "      <td>90</td>\n",
              "      <td>88</td>\n",
              "      <td>82.333333</td>\n",
              "    </tr>\n",
              "    <tr>\n",
              "      <th>2</th>\n",
              "      <td>female</td>\n",
              "      <td>group B</td>\n",
              "      <td>master's degree</td>\n",
              "      <td>standard</td>\n",
              "      <td>none</td>\n",
              "      <td>90</td>\n",
              "      <td>95</td>\n",
              "      <td>93</td>\n",
              "      <td>92.666667</td>\n",
              "    </tr>\n",
              "    <tr>\n",
              "      <th>3</th>\n",
              "      <td>male</td>\n",
              "      <td>group A</td>\n",
              "      <td>associate's degree</td>\n",
              "      <td>free/reduced</td>\n",
              "      <td>none</td>\n",
              "      <td>47</td>\n",
              "      <td>57</td>\n",
              "      <td>44</td>\n",
              "      <td>49.333333</td>\n",
              "    </tr>\n",
              "    <tr>\n",
              "      <th>4</th>\n",
              "      <td>male</td>\n",
              "      <td>group C</td>\n",
              "      <td>some college</td>\n",
              "      <td>standard</td>\n",
              "      <td>none</td>\n",
              "      <td>76</td>\n",
              "      <td>78</td>\n",
              "      <td>75</td>\n",
              "      <td>76.333333</td>\n",
              "    </tr>\n",
              "    <tr>\n",
              "      <th>...</th>\n",
              "      <td>...</td>\n",
              "      <td>...</td>\n",
              "      <td>...</td>\n",
              "      <td>...</td>\n",
              "      <td>...</td>\n",
              "      <td>...</td>\n",
              "      <td>...</td>\n",
              "      <td>...</td>\n",
              "      <td>...</td>\n",
              "    </tr>\n",
              "    <tr>\n",
              "      <th>995</th>\n",
              "      <td>female</td>\n",
              "      <td>group E</td>\n",
              "      <td>master's degree</td>\n",
              "      <td>standard</td>\n",
              "      <td>completed</td>\n",
              "      <td>88</td>\n",
              "      <td>99</td>\n",
              "      <td>95</td>\n",
              "      <td>94.000000</td>\n",
              "    </tr>\n",
              "    <tr>\n",
              "      <th>996</th>\n",
              "      <td>male</td>\n",
              "      <td>group C</td>\n",
              "      <td>high school</td>\n",
              "      <td>free/reduced</td>\n",
              "      <td>none</td>\n",
              "      <td>62</td>\n",
              "      <td>55</td>\n",
              "      <td>55</td>\n",
              "      <td>57.333333</td>\n",
              "    </tr>\n",
              "    <tr>\n",
              "      <th>997</th>\n",
              "      <td>female</td>\n",
              "      <td>group C</td>\n",
              "      <td>high school</td>\n",
              "      <td>free/reduced</td>\n",
              "      <td>completed</td>\n",
              "      <td>59</td>\n",
              "      <td>71</td>\n",
              "      <td>65</td>\n",
              "      <td>65.000000</td>\n",
              "    </tr>\n",
              "    <tr>\n",
              "      <th>998</th>\n",
              "      <td>female</td>\n",
              "      <td>group D</td>\n",
              "      <td>some college</td>\n",
              "      <td>standard</td>\n",
              "      <td>completed</td>\n",
              "      <td>68</td>\n",
              "      <td>78</td>\n",
              "      <td>77</td>\n",
              "      <td>74.333333</td>\n",
              "    </tr>\n",
              "    <tr>\n",
              "      <th>999</th>\n",
              "      <td>female</td>\n",
              "      <td>group D</td>\n",
              "      <td>some college</td>\n",
              "      <td>free/reduced</td>\n",
              "      <td>none</td>\n",
              "      <td>77</td>\n",
              "      <td>86</td>\n",
              "      <td>86</td>\n",
              "      <td>83.000000</td>\n",
              "    </tr>\n",
              "  </tbody>\n",
              "</table>\n",
              "<p>1000 rows × 9 columns</p>\n",
              "</div>"
            ],
            "text/plain": [
              "     gender race/ethnicity  parental_education  ... reading writing  percentage\n",
              "0    female        group B   bachelor's degree  ...      72      74   72.666667\n",
              "1    female        group C        some college  ...      90      88   82.333333\n",
              "2    female        group B     master's degree  ...      95      93   92.666667\n",
              "3      male        group A  associate's degree  ...      57      44   49.333333\n",
              "4      male        group C        some college  ...      78      75   76.333333\n",
              "..      ...            ...                 ...  ...     ...     ...         ...\n",
              "995  female        group E     master's degree  ...      99      95   94.000000\n",
              "996    male        group C         high school  ...      55      55   57.333333\n",
              "997  female        group C         high school  ...      71      65   65.000000\n",
              "998  female        group D        some college  ...      78      77   74.333333\n",
              "999  female        group D        some college  ...      86      86   83.000000\n",
              "\n",
              "[1000 rows x 9 columns]"
            ]
          },
          "metadata": {
            "tags": []
          },
          "execution_count": 66
        }
      ]
    },
    {
      "cell_type": "code",
      "metadata": {
        "id": "F6qf2_O63vK6"
      },
      "source": [
        "X=df.iloc[:,5:8].values\n",
        "Y=df.iloc[:,8].values"
      ],
      "execution_count": 82,
      "outputs": []
    },
    {
      "cell_type": "code",
      "metadata": {
        "id": "O-Thvk3mC-YT"
      },
      "source": [
        "from sklearn.model_selection import train_test_split\n",
        "x_train, x_test, y_train, y_test = train_test_split(X, Y, test_size=0.30)"
      ],
      "execution_count": 73,
      "outputs": []
    },
    {
      "cell_type": "code",
      "metadata": {
        "colab": {
          "base_uri": "https://localhost:8080/"
        },
        "id": "hYM_Wak0FDVY",
        "outputId": "980a6fee-f075-4b37-ed98-52056e34eb4e"
      },
      "source": [
        "print(x_train.shape)\n",
        "print(y_train.shape)"
      ],
      "execution_count": 77,
      "outputs": [
        {
          "output_type": "stream",
          "text": [
            "(700, 3)\n",
            "(700,)\n"
          ],
          "name": "stdout"
        }
      ]
    },
    {
      "cell_type": "code",
      "metadata": {
        "colab": {
          "base_uri": "https://localhost:8080/"
        },
        "id": "7J13pFgiFW8y",
        "outputId": "f9a085c3-fa98-408f-9472-c427200be5d9"
      },
      "source": [
        "print(x_test.shape)\n",
        "print(y_test.shape)"
      ],
      "execution_count": 76,
      "outputs": [
        {
          "output_type": "stream",
          "text": [
            "(300, 3)\n",
            "(300,)\n"
          ],
          "name": "stdout"
        }
      ]
    },
    {
      "cell_type": "code",
      "metadata": {
        "id": "WxrjlhrfFa9A"
      },
      "source": [
        "n=len(X)"
      ],
      "execution_count": 84,
      "outputs": []
    },
    {
      "cell_type": "code",
      "metadata": {
        "id": "0zERfVB6Gmg4"
      },
      "source": [
        "mean_x=np.mean(X)\n",
        "mean_y=np.mean(Y)"
      ],
      "execution_count": 85,
      "outputs": []
    },
    {
      "cell_type": "code",
      "metadata": {
        "id": "SpS8GgpwIPWD"
      },
      "source": [
        "num=0\n",
        "denom=0\n",
        "for i in range(n):\n",
        "    num +=(X[i]-mean_x)*(Y[i]-mean_y)\n",
        "    denom +=(X[i]-mean_x)**2\n",
        "m=num/denom\n",
        "c=mean_y-(m*mean_x)"
      ],
      "execution_count": 87,
      "outputs": []
    },
    {
      "cell_type": "code",
      "metadata": {
        "colab": {
          "base_uri": "https://localhost:8080/"
        },
        "id": "03NBKLCvJog1",
        "outputId": "41fdfa52-cd31-487f-8025-9f72030099de"
      },
      "source": [
        "print(m,c)"
      ],
      "execution_count": 88,
      "outputs": [
        {
          "output_type": "stream",
          "text": [
            "[0.85335842 0.93892256 0.90572214] [9.93799731 4.13925915 6.38927368]\n"
          ],
          "name": "stdout"
        }
      ]
    },
    {
      "cell_type": "code",
      "metadata": {
        "colab": {
          "base_uri": "https://localhost:8080/"
        },
        "id": "a9iLTXddJuVV",
        "outputId": "f1f8d56e-15b3-4a6b-e355-74167dfee422"
      },
      "source": [
        "m"
      ],
      "execution_count": 89,
      "outputs": [
        {
          "output_type": "execute_result",
          "data": {
            "text/plain": [
              "array([0.85335842, 0.93892256, 0.90572214])"
            ]
          },
          "metadata": {
            "tags": []
          },
          "execution_count": 89
        }
      ]
    },
    {
      "cell_type": "code",
      "metadata": {
        "id": "trAUNhrsJ1Bz"
      },
      "source": [
        ""
      ],
      "execution_count": null,
      "outputs": []
    }
  ]
}