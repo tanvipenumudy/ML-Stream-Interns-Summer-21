{
 "cells": [
  {
   "cell_type": "markdown",
   "metadata": {},
   "source": [
    "p(y/X) = (p(x1/y) * p(x2/y) * ..... * p(xn/y))/p(X)\n",
    "\n",
    "y = argmax(log(p(y/X)))\n",
    "\n",
    "\n",
    "Class Conditonal Probability\n",
    "\n",
    "p(xi/y) = exp(-(xi-mean(y)^2/2*var(y)))/ sqrt(2 * pi * var(y))"
   ]
  },
  {
   "cell_type": "code",
   "execution_count": 1,
   "metadata": {},
   "outputs": [],
   "source": [
    "import numpy as np"
   ]
  },
  {
   "cell_type": "code",
   "execution_count": 17,
   "metadata": {},
   "outputs": [],
   "source": [
    "class NaiveBayes:   \n",
    "    def fit(self,X,y):\n",
    "        n , n_features = X.shape\n",
    "        self.classes = np.unique(y)\n",
    "        n_classes = len(self.classes)\n",
    "        \n",
    "        #init mean, variance\n",
    "        self._mean = np.zeros((n_classes,n_features), dtype = np.float64)\n",
    "        self._var = np.zeros((n_classes,n_features), dtype = np.float64)\n",
    "        self._priors = np.zeros(n_classes, dtype = np.float64)\n",
    "        \n",
    "        for c in self.classes:\n",
    "            X_c = X[c==y]\n",
    "            self._mean[c,:] = X_c.mean(axis = 0)\n",
    "            self._var[c,:] = X_c.var(axis=0)\n",
    "            self._priors[c] = X_c.shape[0] / float(n) #frequency of how the class \n",
    "        \n",
    "    def predict(self,X):\n",
    "        y_pred = [self._predict(x) for x in X] #predicting for each each sample \n",
    "        return y_pred\n",
    "        \n",
    "    def _predict(self,x):\n",
    "        posteriors = []\n",
    "        \n",
    "        for index,c in enumerate(self.classes):\n",
    "            prior = np.log(self._priors[index])\n",
    "            class_condition = np.sum(np.log(self.prob_dens_func(index, x)))\n",
    "            posterior = prior + class_condition\n",
    "            posteriors.append(posterior)\n",
    "        \n",
    "        return self.classes[np.argmax(posteriors)]\n",
    "            \n",
    "    def prob_dens_func(self, index, x):\n",
    "        mean = self._mean[index]\n",
    "        var = self._var[index]\n",
    "        numer = np.exp(-(x-mean)**2/(2*var))\n",
    "        denom = np.sqrt(2*np.pi * var)\n",
    "        return numer/denom\n",
    "        "
   ]
  },
  {
   "cell_type": "code",
   "execution_count": 18,
   "metadata": {},
   "outputs": [],
   "source": [
    "from sklearn.model_selection import train_test_split\n",
    "from sklearn import datasets"
   ]
  },
  {
   "cell_type": "code",
   "execution_count": 21,
   "metadata": {},
   "outputs": [
    {
     "name": "stdout",
     "output_type": "stream",
     "text": [
      "0.835\n"
     ]
    }
   ],
   "source": [
    "def accuracy(y_true,y_pred):\n",
    "    accuracy = np.sum(y_true==y_pred)/len(y_true)\n",
    "    return accuracy\n",
    "\n",
    "X,y = datasets.make_classification(n_samples =1000, n_features = 10, n_classes = 2, random_state =10)\n",
    "x_train,x_test,y_train,y_test = train_test_split(X,y,test_size=0.2,random_state=10)\n",
    "NB = NaiveBayes()\n",
    "NB.fit(x_train,y_train)\n",
    "predict = NB.predict(x_test)\n",
    "\n",
    "print(accuracy(y_test,predict))"
   ]
  },
  {
   "cell_type": "code",
   "execution_count": null,
   "metadata": {},
   "outputs": [],
   "source": []
  },
  {
   "cell_type": "code",
   "execution_count": null,
   "metadata": {},
   "outputs": [],
   "source": [
    " "
   ]
  }
 ],
 "metadata": {
  "kernelspec": {
   "display_name": "Python 3",
   "language": "python",
   "name": "python3"
  },
  "language_info": {
   "codemirror_mode": {
    "name": "ipython",
    "version": 3
   },
   "file_extension": ".py",
   "mimetype": "text/x-python",
   "name": "python",
   "nbconvert_exporter": "python",
   "pygments_lexer": "ipython3",
   "version": "3.8.5"
  }
 },
 "nbformat": 4,
 "nbformat_minor": 4
}
