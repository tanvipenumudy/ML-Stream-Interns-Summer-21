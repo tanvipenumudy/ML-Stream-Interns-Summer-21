{
 "cells": [
  {
   "cell_type": "markdown",
   "metadata": {},
   "source": [
    "margin1 w*x - b =1\n",
    "\n",
    "margin2 w*x - b =-1\n",
    "\n",
    "hyperplane w*x - b =0\n",
    "\n",
    "\n",
    "\n",
    "Linear Model\n",
    "\n",
    "w.x - b =0  => f(x)\n",
    "\n",
    "w.x(i)-b>=1 if y(i)=1\n",
    "\n",
    "w.x(i)-b<=-1 if y(i) =-1\n",
    "\n",
    "y(i) * f(x(i)) >= 1\n",
    "\n",
    "\n",
    "\n",
    "Cost Function\n",
    "\n",
    "l = max(0, 1-y(i) * f(x(i)))\n",
    "\n",
    "\n",
    "\n",
    "Regularizaton\n",
    "\n",
    "J = lambda||w||^2 + (1/n)sum(l(i))\n",
    "\n",
    "if y(i) * f(x(i)) >= 1\n",
    "\n",
    "dJ/dw = 2 * lambda * w \n",
    "\n",
    "dJ/db = 0\n",
    "\n",
    "else:\n",
    "\n",
    "dJ/dw = 2 * lambda * w - y(i) * x(i)\n",
    "\n",
    "dJ/db = y(i)\n",
    "\n",
    "\n",
    "\n",
    "Update rule:\n",
    "\n",
    "w = w-learn_rate.dw\n",
    "b = b-learn_rate.db"
   ]
  },
  {
   "cell_type": "code",
   "execution_count": 1,
   "metadata": {},
   "outputs": [],
   "source": [
    "import numpy as np"
   ]
  },
  {
   "cell_type": "code",
   "execution_count": 2,
   "metadata": {},
   "outputs": [],
   "source": [
    "class SVM:\n",
    "    def __init__(self,learn_rate = 0.001, lambda_param = 0.01, iters = 1000):\n",
    "        self.learn_rate = learn_rate\n",
    "        self.lambda_param = lambda_param\n",
    "        self.iters = iters\n",
    "        self.w=None\n",
    "        self.b = None\n",
    "    \n",
    "    def fit(self, X, y):\n",
    "        y_=np.where(y<=0,-1,1)\n",
    "        n,n_features = X.shape\n",
    "        self.w = np.zeros(n_features)\n",
    "        self.b = 0\n",
    "        \n",
    "        for i in range(self.iters):\n",
    "            for index , x in enumerate(X):\n",
    "                condition = y_[index]*(np.dot(x,self.w) - self.b) >=1\n",
    "                if condition:\n",
    "                    self.w -= self.learn_rate * (2 * self.lambda_param * self.w)\n",
    "                else:\n",
    "                    self.w -= self.learn_rate * (2 * self.lambda_param * self.w - np.dot(x, y_[index]))\n",
    "                    self.b -= self.learn_rate * y_[index]\n",
    "                            \n",
    "        \n",
    "    def predict(self, X):\n",
    "        linear_output = np.dot(X,self.w)-self.b\n",
    "        return np.sign(linear_output)"
   ]
  },
  {
   "cell_type": "code",
   "execution_count": 3,
   "metadata": {},
   "outputs": [],
   "source": [
    "import matplotlib.pyplot as plt\n",
    "from sklearn import datasets"
   ]
  },
  {
   "cell_type": "code",
   "execution_count": 4,
   "metadata": {},
   "outputs": [],
   "source": [
    "X , y = datasets.make_blobs(n_samples =50,n_features=2, centers = 2, cluster_std=1.05, random_state = 10)\n",
    "y = np.where(y==0,-1,1)"
   ]
  },
  {
   "cell_type": "code",
   "execution_count": 5,
   "metadata": {},
   "outputs": [
    {
     "data": {
      "text/plain": [
       "array([[  2.44638531,   6.01460373],\n",
       "       [  2.42917333,   4.44926231],\n",
       "       [  6.8003096 ,  -9.38019707],\n",
       "       [  2.60795707,   4.18449004],\n",
       "       [  2.10609167,   5.71964567],\n",
       "       [  1.08922714,   5.62770835],\n",
       "       [  2.1667669 ,   5.07014464],\n",
       "       [  4.58159217,  -9.80829353],\n",
       "       [  1.57557553,   4.13816839],\n",
       "       [  5.56575658, -10.08491013],\n",
       "       [  6.98517672, -10.71875614],\n",
       "       [  2.9010931 ,   2.88196419],\n",
       "       [  3.54131325,   2.92383992],\n",
       "       [  3.80374256,  -9.59376406],\n",
       "       [  3.00345617,   7.56711126],\n",
       "       [  6.74570874, -10.35352899],\n",
       "       [  4.41309391,  -8.50527323],\n",
       "       [  6.60628868,  -7.82870769],\n",
       "       [  2.79631414,   2.97324792],\n",
       "       [  3.55730067,   5.18983749],\n",
       "       [  6.11965599,  -9.9533765 ],\n",
       "       [  2.58778641,   4.42031677],\n",
       "       [  5.84663335,  -9.93947497],\n",
       "       [  6.07881564, -10.34105085],\n",
       "       [  5.70520003,  -9.47098506],\n",
       "       [  3.00828894,   5.4600257 ],\n",
       "       [  5.70578654,  -7.08074532],\n",
       "       [  4.44000784, -10.09876509],\n",
       "       [  5.39921226,  -9.2814121 ],\n",
       "       [  5.14572982, -10.16173548],\n",
       "       [  5.6664745 ,  -9.11756652],\n",
       "       [  3.83605835,   5.23284883],\n",
       "       [  3.42052167,   5.94026026],\n",
       "       [  5.53051954,  -8.11706482],\n",
       "       [  0.72396994,   4.74216527],\n",
       "       [  5.43091887,  -9.76829123],\n",
       "       [  3.7714567 ,   3.48659382],\n",
       "       [  5.07031561,  -9.25718258],\n",
       "       [  4.23298054,  -9.44306729],\n",
       "       [  3.34979817, -11.41550192],\n",
       "       [  2.62169266,   5.38908593],\n",
       "       [  5.18740355,   5.93940954],\n",
       "       [  4.75730352,   6.80813251],\n",
       "       [  2.5550786 ,   4.59578818],\n",
       "       [  3.85818911,   4.24337712],\n",
       "       [  6.01982317,  -9.73975228],\n",
       "       [  5.88109036,  -8.32177177],\n",
       "       [  2.29234056,   4.84807668],\n",
       "       [  2.60382446,   2.73777994],\n",
       "       [  5.14160248,  -8.94109662]])"
      ]
     },
     "execution_count": 5,
     "metadata": {},
     "output_type": "execute_result"
    }
   ],
   "source": [
    "X"
   ]
  },
  {
   "cell_type": "code",
   "execution_count": 6,
   "metadata": {},
   "outputs": [
    {
     "data": {
      "text/plain": [
       "array([ 1,  1, -1,  1,  1,  1,  1, -1,  1, -1, -1,  1,  1, -1,  1, -1, -1,\n",
       "       -1,  1,  1, -1,  1, -1, -1, -1,  1, -1, -1, -1, -1, -1,  1,  1, -1,\n",
       "        1, -1,  1, -1, -1, -1,  1,  1,  1,  1,  1, -1, -1,  1,  1, -1])"
      ]
     },
     "execution_count": 6,
     "metadata": {},
     "output_type": "execute_result"
    }
   ],
   "source": [
    "y"
   ]
  },
  {
   "cell_type": "code",
   "execution_count": 7,
   "metadata": {},
   "outputs": [
    {
     "name": "stdout",
     "output_type": "stream",
     "text": [
      "[0.09756229 0.23939937] -0.09300000000000007\n"
     ]
    }
   ],
   "source": [
    "clf = SVM()\n",
    "clf.fit(X,y)\n",
    "print(clf.w,clf.b)"
   ]
  },
  {
   "cell_type": "code",
   "execution_count": null,
   "metadata": {},
   "outputs": [],
   "source": []
  }
 ],
 "metadata": {
  "kernelspec": {
   "display_name": "Python 3",
   "language": "python",
   "name": "python3"
  },
  "language_info": {
   "codemirror_mode": {
    "name": "ipython",
    "version": 3
   },
   "file_extension": ".py",
   "mimetype": "text/x-python",
   "name": "python",
   "nbconvert_exporter": "python",
   "pygments_lexer": "ipython3",
   "version": "3.8.5"
  }
 },
 "nbformat": 4,
 "nbformat_minor": 4
}
