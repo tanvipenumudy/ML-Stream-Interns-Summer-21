{
  "nbformat": 4,
  "nbformat_minor": 0,
  "metadata": {
    "colab": {
      "name": "KNN_classifier.ipynb",
      "provenance": [],
      "collapsed_sections": []
    },
    "kernelspec": {
      "name": "python3",
      "display_name": "Python 3"
    },
    "language_info": {
      "name": "python"
    }
  },
  "cells": [
    {
      "cell_type": "code",
      "metadata": {
        "id": "psPAdtMY1RmQ"
      },
      "source": [
        "import numpy as np\n",
        "\n",
        "from collections import Counter"
      ],
      "execution_count": 63,
      "outputs": []
    },
    {
      "cell_type": "code",
      "metadata": {
        "id": "WSkxGM1TGI0x"
      },
      "source": [
        "from sklearn import datasets"
      ],
      "execution_count": 64,
      "outputs": []
    },
    {
      "cell_type": "code",
      "metadata": {
        "id": "aDF1EDhAGcwf"
      },
      "source": [
        "iris = datasets.load_iris()"
      ],
      "execution_count": 65,
      "outputs": []
    },
    {
      "cell_type": "code",
      "metadata": {
        "id": "qMi64mQzG6MD"
      },
      "source": [
        "from sklearn.model_selection import train_test_split\n",
        "X_train, X_test, y_train, y_test = train_test_split(iris.data, iris.target,random_state = 2, test_size=0.25)"
      ],
      "execution_count": 66,
      "outputs": []
    },
    {
      "cell_type": "code",
      "metadata": {
        "id": "Yph2d6enO4wv"
      },
      "source": [
        "def fit(X,y):        ### KNN first store the training data\n",
        "    X_train=X\n",
        "    y_train=y"
      ],
      "execution_count": 67,
      "outputs": []
    },
    {
      "cell_type": "code",
      "metadata": {
        "id": "8Lt07bzsosIt"
      },
      "source": [
        "def distance (X_1,X_2):         ### this is how we find eucleadin distance , in this we find the distance bw training data as X1 and testing data as X2\n",
        "    distance= np.sqrt(np.sum((X_1-X_2)**2))\n",
        "    return distance"
      ],
      "execution_count": 68,
      "outputs": []
    },
    {
      "cell_type": "code",
      "metadata": {
        "id": "wUinINCjpKbv"
      },
      "source": [
        "def predict(X_test,k):          ## we define a predict function with X-test data to be predicted \n",
        "    output=[]\n",
        "    for i in range(len(X_test)):\n",
        "        d=[]           ### we take a empty list \"d\" and append the ,distance bw X_train and X_test with index of training data i.e., \"j\", in list .\n",
        "        votes=[]\n",
        "        for j in range(len(X_train)):   \n",
        "            dist= np.sqrt(np.sum((X_train[j]-X_test[i])**2))\n",
        "            d.append([dist,j])\n",
        "        d.sort()            ## we sort the data with increasing distance\n",
        "        d=d[0:k]            ## among the list having distances , we choose the nearest one upto k values (If we choose 3 that means 3 nearest neigbors of test_data  )\n",
        "        for d,j in d :     ## for distaces and indexes in list d\n",
        "            votes.append(y_train[j])\n",
        "        ans=Counter(votes).most_common(1)[0][0]        ## First counter method will count the each values and then it selectt that occur more times and then select the particular distance .\n",
        "        output.append(ans)\n",
        "    return output\n"
      ],
      "execution_count": 69,
      "outputs": []
    },
    {
      "cell_type": "code",
      "metadata": {
        "colab": {
          "base_uri": "https://localhost:8080/"
        },
        "id": "6_RJKX9N2BVv",
        "outputId": "aa5be657-6e21-4289-ec65-f9e2864f6774"
      },
      "source": [
        "\n",
        "print(predict(X_test,k=3))"
      ],
      "execution_count": 70,
      "outputs": [
        {
          "output_type": "stream",
          "text": [
            "[0, 0, 2, 0, 0, 2, 0, 2, 2, 0, 0, 0, 0, 0, 1, 1, 0, 1, 2, 1, 1, 1, 2, 1, 1, 0, 0, 2, 0, 2, 2, 0, 1, 2, 1, 0, 2, 1]\n"
          ],
          "name": "stdout"
        }
      ]
    },
    {
      "cell_type": "code",
      "metadata": {
        "id": "iF6iZDpRmJyc"
      },
      "source": [
        "\n",
        "def score(X_test,y_test,k):\n",
        "    prediction=predict(X_test,k)\n",
        "    return (prediction==y_test).sum()/len(y_test)"
      ],
      "execution_count": 71,
      "outputs": []
    },
    {
      "cell_type": "code",
      "metadata": {
        "colab": {
          "base_uri": "https://localhost:8080/"
        },
        "id": "Dtw9EHLE3vQ3",
        "outputId": "2b01f717-8386-46ea-8669-979d342816e0"
      },
      "source": [
        "score(X_test,y_test,3)"
      ],
      "execution_count": 72,
      "outputs": [
        {
          "output_type": "execute_result",
          "data": {
            "text/plain": [
              "1.0"
            ]
          },
          "metadata": {
            "tags": []
          },
          "execution_count": 72
        }
      ]
    },
    {
      "cell_type": "markdown",
      "metadata": {
        "id": "YMkQwMGE5tD_"
      },
      "source": [
        "info about counter"
      ]
    },
    {
      "cell_type": "code",
      "metadata": {
        "colab": {
          "base_uri": "https://localhost:8080/"
        },
        "id": "09ZVGxs5pQ7H",
        "outputId": "c70f3754-f535-49ba-c375-be27bc903960"
      },
      "source": [
        "a=[[101,1],[1235,2],[1455,4],[17,3],[211,5]]\n",
        "a[0:4]"
      ],
      "execution_count": 73,
      "outputs": [
        {
          "output_type": "execute_result",
          "data": {
            "text/plain": [
              "[[101, 1], [1235, 2], [1455, 4], [17, 3]]"
            ]
          },
          "metadata": {
            "tags": []
          },
          "execution_count": 73
        }
      ]
    },
    {
      "cell_type": "code",
      "metadata": {
        "id": "k_vKVc0drH-I"
      },
      "source": [
        "a.append([11,55])"
      ],
      "execution_count": null,
      "outputs": []
    },
    {
      "cell_type": "code",
      "metadata": {
        "colab": {
          "base_uri": "https://localhost:8080/"
        },
        "id": "pi2EduOfrsmm",
        "outputId": "64c4a553-ab85-40c0-f8e1-9a39c6b8dac2"
      },
      "source": [
        "a"
      ],
      "execution_count": null,
      "outputs": [
        {
          "output_type": "execute_result",
          "data": {
            "text/plain": [
              "[[101, 1], [1235, 2], [1455, 4], [17, 3], [211, 5], [11, 55]]"
            ]
          },
          "metadata": {
            "tags": []
          },
          "execution_count": 96
        }
      ]
    },
    {
      "cell_type": "code",
      "metadata": {
        "id": "Ss5XjNSUrtOL"
      },
      "source": [
        "a.sort()"
      ],
      "execution_count": null,
      "outputs": []
    },
    {
      "cell_type": "code",
      "metadata": {
        "colab": {
          "base_uri": "https://localhost:8080/"
        },
        "id": "Km6Qv-NOr4ri",
        "outputId": "500a0963-5241-41aa-a97c-ec774b3de42e"
      },
      "source": [
        "a"
      ],
      "execution_count": 81,
      "outputs": [
        {
          "output_type": "execute_result",
          "data": {
            "text/plain": [
              "[[101, 1], [1235, 2], [1455, 4], [17, 3], [211, 5]]"
            ]
          },
          "metadata": {
            "tags": []
          },
          "execution_count": 81
        }
      ]
    },
    {
      "cell_type": "code",
      "metadata": {
        "id": "NymtQiuTvMqu"
      },
      "source": [
        "b=[1,2,4,5,5,6,5,5,8,4,6,8,7,9,5,4,3,2,5,65,5,8,7,7,6,1,7,3,7,7,5,7,7,5]"
      ],
      "execution_count": 84,
      "outputs": []
    },
    {
      "cell_type": "code",
      "metadata": {
        "colab": {
          "base_uri": "https://localhost:8080/"
        },
        "id": "JbahSm9p82dQ",
        "outputId": "357e49d4-0132-4626-e1ba-e2262137c2ba"
      },
      "source": [
        "f=[]\n",
        "for i, j in a :\n",
        "    f.append(b[j])            \n",
        "f"
      ],
      "execution_count": 87,
      "outputs": [
        {
          "output_type": "execute_result",
          "data": {
            "text/plain": [
              "[2, 4, 5, 5, 6]"
            ]
          },
          "metadata": {
            "tags": []
          },
          "execution_count": 87
        }
      ]
    },
    {
      "cell_type": "code",
      "metadata": {
        "colab": {
          "base_uri": "https://localhost:8080/"
        },
        "id": "f8TjeKB7CU2t",
        "outputId": "425bcbbe-4ae3-49d2-f1b7-69ee175ad11c"
      },
      "source": [
        "Counter(f)"
      ],
      "execution_count": 89,
      "outputs": [
        {
          "output_type": "execute_result",
          "data": {
            "text/plain": [
              "[(5, 2)]"
            ]
          },
          "metadata": {
            "tags": []
          },
          "execution_count": 89
        }
      ]
    },
    {
      "cell_type": "code",
      "metadata": {
        "colab": {
          "base_uri": "https://localhost:8080/"
        },
        "id": "EFqrIeX9Cgp9",
        "outputId": "0a2cadd1-b597-4b81-c02b-154b0b176866"
      },
      "source": [
        "Counter(f).most_common(1)"
      ],
      "execution_count": 91,
      "outputs": [
        {
          "output_type": "execute_result",
          "data": {
            "text/plain": [
              "[(5, 2)]"
            ]
          },
          "metadata": {
            "tags": []
          },
          "execution_count": 91
        }
      ]
    },
    {
      "cell_type": "code",
      "metadata": {
        "colab": {
          "base_uri": "https://localhost:8080/"
        },
        "id": "tH8toqhRu_Se",
        "outputId": "2cd9b864-4aff-4a64-c22d-445c9015c9b7"
      },
      "source": [
        "Counter(b)"
      ],
      "execution_count": 39,
      "outputs": [
        {
          "output_type": "execute_result",
          "data": {
            "text/plain": [
              "Counter({1: 3, 2: 2, 3: 2, 4: 3, 5: 8, 6: 3, 7: 8, 8: 3, 9: 1, 65: 1})"
            ]
          },
          "metadata": {
            "tags": []
          },
          "execution_count": 39
        }
      ]
    },
    {
      "cell_type": "code",
      "metadata": {
        "colab": {
          "base_uri": "https://localhost:8080/"
        },
        "id": "bT3wmrdE3mco",
        "outputId": "b2b07476-ff1d-445e-9e55-5331d28367c6"
      },
      "source": [
        "Counter(b).most_common(1)"
      ],
      "execution_count": 40,
      "outputs": [
        {
          "output_type": "execute_result",
          "data": {
            "text/plain": [
              "[(5, 8)]"
            ]
          },
          "metadata": {
            "tags": []
          },
          "execution_count": 40
        }
      ]
    },
    {
      "cell_type": "code",
      "metadata": {
        "colab": {
          "base_uri": "https://localhost:8080/"
        },
        "id": "nWko2ylivlJW",
        "outputId": "d74196e0-1dce-4825-c07a-88ce2080f7af"
      },
      "source": [
        "Counter(b).most_common(1)[0][0]"
      ],
      "execution_count": null,
      "outputs": [
        {
          "output_type": "execute_result",
          "data": {
            "text/plain": [
              "5"
            ]
          },
          "metadata": {
            "tags": []
          },
          "execution_count": 118
        }
      ]
    },
    {
      "cell_type": "code",
      "metadata": {
        "id": "eYI2WmqesBhD"
      },
      "source": [
        "Counter?"
      ],
      "execution_count": null,
      "outputs": []
    },
    {
      "cell_type": "code",
      "metadata": {
        "id": "ck5qklCksaoX"
      },
      "source": [
        ">>> c = Counter('abcdeabcdabcaba')  # count elements from a string\n",
        "\n",
        ">>> c.most_common(3)                # three most common elements\n",
        "[('a', 5), ('b', 4), ('c', 3)]\n",
        ">>> sorted(c)                 \n"
      ],
      "execution_count": null,
      "outputs": []
    },
    {
      "cell_type": "code",
      "metadata": {
        "id": "t2wV5zpyu4pX"
      },
      "source": [
        ">>> c = Counter('abcdeabcdabcaba')  # count elements from a string\n",
        "\n",
        ">>> c.most_common(3)                # three most common elements\n",
        "[('a', 5), ('b', 4), ('c', 3)]\n",
        ">>> sorted(c)                 "
      ],
      "execution_count": null,
      "outputs": []
    },
    {
      "cell_type": "code",
      "metadata": {
        "colab": {
          "base_uri": "https://localhost:8080/"
        },
        "id": "OqhTTL1R-Q4s",
        "outputId": "968c9971-9efb-4e75-d545-fca7859f1dff"
      },
      "source": [
        "type(X_train)"
      ],
      "execution_count": 78,
      "outputs": [
        {
          "output_type": "execute_result",
          "data": {
            "text/plain": [
              "numpy.ndarray"
            ]
          },
          "metadata": {
            "tags": []
          },
          "execution_count": 78
        }
      ]
    },
    {
      "cell_type": "markdown",
      "metadata": {
        "id": "pnq2KL-Q5-Gp"
      },
      "source": [
        "KNN WITH CLASS"
      ]
    },
    {
      "cell_type": "code",
      "metadata": {
        "id": "RazPvMB8Gjqm"
      },
      "source": [
        "class KNN:\n",
        "    def __init__(self, k):          ### INITIALIZATION\n",
        "        self.k = k\n",
        "        \n",
        "    def fit(self, X, y):            ### KNN first store the training data\n",
        "        self.X_train = X\n",
        "        self.y_train = y\n",
        "        \n",
        "    ## def distance(self, X1, X2):         ### this is how we find eucleadin distance , in this we find the distance bw training data as X1 and testing data as X2\n",
        "       ### distance = np.sqrt(np.sum((X1-X2)**2))\n",
        "\n",
        "    def predict(self, X_test):             ## we define a predict function with X-test data to be predicted \n",
        "        final_output = []                   \n",
        "        for i in range(len(X_test)):           ### we take a empty list \"d\" and append the ,distance bw X_train and X_test with index of training data i.e., \"j\", in list .\n",
        "            d = []\n",
        "            votes = []\n",
        "            for j in range(len(X_train)):\n",
        "                dist = np.sqrt(np.sum((X_train[j] - X_test[i])**2))\n",
        "                d.append([dist, j])\n",
        "            d.sort()                                ## we sort the data with increasing distance\n",
        "            d = d[0:self.k]                         ## among the list having distances , we choose the nearest one upto k values (If we choose 3 that means 3 nearest neigbors of test_data  )\n",
        "            for d, j in d:                          ## for distaces and indexes in list d\n",
        "                votes.append(y_train[j])            \n",
        "            ans = Counter(votes).most_common(1)[0][0]     ## First counter method will count the each values and then it selectt the most common 1 and then select the particular distance .\n",
        "            final_output.append(ans)\n",
        "            \n",
        "        return final_output\n",
        "    \n",
        "    def score(self, X_test, y_test):\n",
        "        predictions = self.predict(X_test)\n",
        "        return (predictions == y_test).sum() / len(y_test)"
      ],
      "execution_count": 23,
      "outputs": []
    },
    {
      "cell_type": "code",
      "metadata": {
        "colab": {
          "base_uri": "https://localhost:8080/"
        },
        "id": "CYIYi1UVKPQx",
        "outputId": "b4320908-368f-45f0-dce9-c8491f5eb82a"
      },
      "source": [
        "clf = KNN(3)\n",
        "clf.fit(X_train, y_train)\n",
        "prediction = clf.predict(X_test)\n",
        "for i in prediction:\n",
        "    print(i, end= ' ')"
      ],
      "execution_count": 24,
      "outputs": [
        {
          "output_type": "stream",
          "text": [
            "0 0 2 0 0 2 0 2 2 0 0 0 0 0 1 1 0 1 2 1 1 1 2 1 1 0 0 2 0 2 2 0 1 2 1 0 2 1 "
          ],
          "name": "stdout"
        }
      ]
    },
    {
      "cell_type": "code",
      "metadata": {
        "colab": {
          "base_uri": "https://localhost:8080/"
        },
        "id": "43X-0eHGKZao",
        "outputId": "14fe73b8-0f4e-4823-f2e7-d53bf32a173c"
      },
      "source": [
        "prediction == y_test"
      ],
      "execution_count": 61,
      "outputs": [
        {
          "output_type": "execute_result",
          "data": {
            "text/plain": [
              "array([ True,  True,  True,  True,  True,  True,  True,  True,  True,\n",
              "        True,  True,  True,  True,  True,  True,  True,  True,  True,\n",
              "        True,  True,  True,  True,  True,  True,  True,  True,  True,\n",
              "        True,  True,  True,  True,  True,  True,  True,  True,  True,\n",
              "        True,  True])"
            ]
          },
          "metadata": {
            "tags": []
          },
          "execution_count": 61
        }
      ]
    },
    {
      "cell_type": "code",
      "metadata": {
        "colab": {
          "base_uri": "https://localhost:8080/"
        },
        "id": "wz5rg1uBMCg3",
        "outputId": "12ad5247-c877-4c26-80c1-b60ac06a0342"
      },
      "source": [
        "clf.score(X_test, y_test)"
      ],
      "execution_count": 8,
      "outputs": [
        {
          "output_type": "execute_result",
          "data": {
            "text/plain": [
              "1.0"
            ]
          },
          "metadata": {
            "tags": []
          },
          "execution_count": 8
        }
      ]
    },
    {
      "cell_type": "code",
      "metadata": {
        "colab": {
          "base_uri": "https://localhost:8080/"
        },
        "id": "spzDMHtLG0Dm",
        "outputId": "c349c9a3-f022-434d-97a8-c173b8932741"
      },
      "source": [
        "X_train[0:5]"
      ],
      "execution_count": 93,
      "outputs": [
        {
          "output_type": "execute_result",
          "data": {
            "text/plain": [
              "array([[5.5, 2.3, 4. , 1.3],\n",
              "       [6.9, 3.1, 5.1, 2.3],\n",
              "       [6. , 2.9, 4.5, 1.5],\n",
              "       [6.2, 2.9, 4.3, 1.3],\n",
              "       [6.8, 3.2, 5.9, 2.3]])"
            ]
          },
          "metadata": {
            "tags": []
          },
          "execution_count": 93
        }
      ]
    },
    {
      "cell_type": "code",
      "metadata": {
        "colab": {
          "base_uri": "https://localhost:8080/"
        },
        "id": "2yAoGKzoG1DG",
        "outputId": "00ef21fa-bca0-43d0-f2d5-68ffd7f82009"
      },
      "source": [
        "X_test[0:5]"
      ],
      "execution_count": 94,
      "outputs": [
        {
          "output_type": "execute_result",
          "data": {
            "text/plain": [
              "array([[4.6, 3.4, 1.4, 0.3],\n",
              "       [4.6, 3.1, 1.5, 0.2],\n",
              "       [5.7, 2.5, 5. , 2. ],\n",
              "       [4.8, 3. , 1.4, 0.1],\n",
              "       [4.8, 3.4, 1.9, 0.2]])"
            ]
          },
          "metadata": {
            "tags": []
          },
          "execution_count": 94
        }
      ]
    },
    {
      "cell_type": "code",
      "metadata": {
        "colab": {
          "base_uri": "https://localhost:8080/"
        },
        "id": "cNV29ybqG6Ox",
        "outputId": "d163d5ab-710c-45b9-b851-c9c0510738df"
      },
      "source": [
        "y_train[0:5]"
      ],
      "execution_count": 96,
      "outputs": [
        {
          "output_type": "execute_result",
          "data": {
            "text/plain": [
              "array([1, 2, 1, 1, 2])"
            ]
          },
          "metadata": {
            "tags": []
          },
          "execution_count": 96
        }
      ]
    },
    {
      "cell_type": "code",
      "metadata": {
        "colab": {
          "base_uri": "https://localhost:8080/"
        },
        "id": "kH75R6vcG9PA",
        "outputId": "b339b20f-b162-468c-a2a3-843beba27e08"
      },
      "source": [
        "y_test[0:5]"
      ],
      "execution_count": 98,
      "outputs": [
        {
          "output_type": "execute_result",
          "data": {
            "text/plain": [
              "array([0, 0, 2, 0, 0])"
            ]
          },
          "metadata": {
            "tags": []
          },
          "execution_count": 98
        }
      ]
    },
    {
      "cell_type": "code",
      "metadata": {
        "colab": {
          "base_uri": "https://localhost:8080/"
        },
        "id": "P6xOGPsrHBEg",
        "outputId": "d2b848f7-81f5-4161-89fd-f4381f263207"
      },
      "source": [
        "X_train[0]"
      ],
      "execution_count": 99,
      "outputs": [
        {
          "output_type": "execute_result",
          "data": {
            "text/plain": [
              "array([5.5, 2.3, 4. , 1.3])"
            ]
          },
          "metadata": {
            "tags": []
          },
          "execution_count": 99
        }
      ]
    },
    {
      "cell_type": "code",
      "metadata": {
        "colab": {
          "base_uri": "https://localhost:8080/"
        },
        "id": "VGelcNqDHbAC",
        "outputId": "62c0febb-2087-4732-dd1f-8cbfeb0211c5"
      },
      "source": [
        "X_test[0]"
      ],
      "execution_count": 100,
      "outputs": [
        {
          "output_type": "execute_result",
          "data": {
            "text/plain": [
              "array([4.6, 3.4, 1.4, 0.3])"
            ]
          },
          "metadata": {
            "tags": []
          },
          "execution_count": 100
        }
      ]
    },
    {
      "cell_type": "code",
      "metadata": {
        "colab": {
          "base_uri": "https://localhost:8080/"
        },
        "id": "r2dIVtnwHebp",
        "outputId": "53f7a377-a1d1-4f6b-a277-d2d0d20d398e"
      },
      "source": [
        "X_train[0]-X_test[0]"
      ],
      "execution_count": 102,
      "outputs": [
        {
          "output_type": "execute_result",
          "data": {
            "text/plain": [
              "array([ 0.9, -1.1,  2.6,  1. ])"
            ]
          },
          "metadata": {
            "tags": []
          },
          "execution_count": 102
        }
      ]
    },
    {
      "cell_type": "code",
      "metadata": {
        "colab": {
          "base_uri": "https://localhost:8080/"
        },
        "id": "EWHnjXfAHimO",
        "outputId": "8dc1a138-a4b2-428a-b6b3-f9d863a0a01f"
      },
      "source": [
        "(X_train[0]-X_test[0])**2"
      ],
      "execution_count": 103,
      "outputs": [
        {
          "output_type": "execute_result",
          "data": {
            "text/plain": [
              "array([0.81, 1.21, 6.76, 1.  ])"
            ]
          },
          "metadata": {
            "tags": []
          },
          "execution_count": 103
        }
      ]
    },
    {
      "cell_type": "code",
      "metadata": {
        "colab": {
          "base_uri": "https://localhost:8080/"
        },
        "id": "vzYiAZq0Hw3l",
        "outputId": "a489045f-39e9-4416-e6ec-11dcb6710b33"
      },
      "source": [
        "np.sum((X_train[0]-X_test[0])**2)"
      ],
      "execution_count": 109,
      "outputs": [
        {
          "output_type": "execute_result",
          "data": {
            "text/plain": [
              "9.780000000000001"
            ]
          },
          "metadata": {
            "tags": []
          },
          "execution_count": 109
        }
      ]
    },
    {
      "cell_type": "code",
      "metadata": {
        "id": "2pH-8qiQHz6z"
      },
      "source": [
        ""
      ],
      "execution_count": null,
      "outputs": []
    }
  ]
}