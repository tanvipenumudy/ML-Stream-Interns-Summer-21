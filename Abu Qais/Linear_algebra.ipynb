{
  "nbformat": 4,
  "nbformat_minor": 0,
  "metadata": {
    "colab": {
      "name": "Linear_algebra.ipynb",
      "provenance": [],
      "collapsed_sections": []
    },
    "kernelspec": {
      "name": "python3",
      "display_name": "Python 3"
    },
    "language_info": {
      "name": "python"
    }
  },
  "cells": [
    {
      "cell_type": "code",
      "metadata": {
        "id": "RMZZQzn5wChS"
      },
      "source": [
        "import numpy as np"
      ],
      "execution_count": 1,
      "outputs": []
    },
    {
      "cell_type": "markdown",
      "metadata": {
        "id": "fXmZfVpOhX-O"
      },
      "source": [
        "In NumPy vectors are represented as n-dimensional arrays. To create a vector in R^3"
      ]
    },
    {
      "cell_type": "code",
      "metadata": {
        "id": "HML7UgeEhQmh"
      },
      "source": [
        "x=np.array([[1],\n",
        "           [2],\n",
        "           [3]])"
      ],
      "execution_count": 3,
      "outputs": []
    },
    {
      "cell_type": "code",
      "metadata": {
        "colab": {
          "base_uri": "https://localhost:8080/"
        },
        "id": "qQORlyrphi0P",
        "outputId": "7c5a3308-50fc-411b-b907-02168100ab3c"
      },
      "source": [
        "x.shape"
      ],
      "execution_count": 5,
      "outputs": [
        {
          "output_type": "execute_result",
          "data": {
            "text/plain": [
              "(3, 1)"
            ]
          },
          "metadata": {
            "tags": []
          },
          "execution_count": 5
        }
      ]
    },
    {
      "cell_type": "code",
      "metadata": {
        "colab": {
          "base_uri": "https://localhost:8080/"
        },
        "id": "uhOKReFChncR",
        "outputId": "b9c8dcb3-7d98-4422-aef9-d3c32e52b59d"
      },
      "source": [
        "print('A 3-dimensional vector:\\n{}'.format(x))"
      ],
      "execution_count": 9,
      "outputs": [
        {
          "output_type": "stream",
          "text": [
            "A 3-dimensional vector:\n",
            "[[1]\n",
            " [2]\n",
            " [3]]\n"
          ],
          "name": "stdout"
        }
      ]
    },
    {
      "cell_type": "markdown",
      "metadata": {
        "id": "pROcUH0wipN1"
      },
      "source": [
        "In NumPy, we add two vectors of the same with the + operator or the add method:\n",
        "\n"
      ]
    },
    {
      "cell_type": "code",
      "metadata": {
        "id": "UsRB0BXBh0bh"
      },
      "source": [
        "a = b = np.array([[10],\n",
        "                  [20],\n",
        "                  [30]])"
      ],
      "execution_count": 12,
      "outputs": []
    },
    {
      "cell_type": "code",
      "metadata": {
        "colab": {
          "base_uri": "https://localhost:8080/"
        },
        "id": "yiQFcEtcibzU",
        "outputId": "005ad368-a0e0-4995-fc8f-8367511b9956"
      },
      "source": [
        "a+b"
      ],
      "execution_count": 13,
      "outputs": [
        {
          "output_type": "execute_result",
          "data": {
            "text/plain": [
              "array([[20],\n",
              "       [40],\n",
              "       [60]])"
            ]
          },
          "metadata": {
            "tags": []
          },
          "execution_count": 13
        }
      ]
    },
    {
      "cell_type": "markdown",
      "metadata": {
        "id": "xlKxBgo1jD6u"
      },
      "source": [
        "In NumPy, we compute scalar-vector multiplication with the * operator:"
      ]
    },
    {
      "cell_type": "code",
      "metadata": {
        "colab": {
          "base_uri": "https://localhost:8080/"
        },
        "id": "YnKDyrIrihQS",
        "outputId": "53662af0-2c10-4404-d2f7-f64a86f22f1d"
      },
      "source": [
        "s=4\n",
        "s*a"
      ],
      "execution_count": 14,
      "outputs": [
        {
          "output_type": "execute_result",
          "data": {
            "text/plain": [
              "array([[ 40],\n",
              "       [ 80],\n",
              "       [120]])"
            ]
          },
          "metadata": {
            "tags": []
          },
          "execution_count": 14
        }
      ]
    },
    {
      "cell_type": "markdown",
      "metadata": {
        "id": "faOD1668jNtk"
      },
      "source": [
        ""
      ]
    },
    {
      "cell_type": "markdown",
      "metadata": {
        "id": "KJF1lrfKjNaH"
      },
      "source": [
        "In NumPy, we do linear combinations :"
      ]
    },
    {
      "cell_type": "code",
      "metadata": {
        "id": "NNanKGWgjJ2E"
      },
      "source": [
        "a,b=4,5\n",
        "x,y=np.array([[1],[2]]),np.array([[2],[3]])"
      ],
      "execution_count": 28,
      "outputs": []
    },
    {
      "cell_type": "code",
      "metadata": {
        "colab": {
          "base_uri": "https://localhost:8080/"
        },
        "id": "im9hm1SOjs3X",
        "outputId": "a9dd8a50-5358-43a6-e8e2-f2a55939ff26"
      },
      "source": [
        "print(\"x:\\n\",x)\n",
        "print(\"y:\\n\",y)"
      ],
      "execution_count": 29,
      "outputs": [
        {
          "output_type": "stream",
          "text": [
            "x:\n",
            " [[1]\n",
            " [2]]\n",
            "y:\n",
            " [[2]\n",
            " [3]]\n"
          ],
          "name": "stdout"
        }
      ]
    },
    {
      "cell_type": "code",
      "metadata": {
        "colab": {
          "base_uri": "https://localhost:8080/"
        },
        "id": "pP7Xqc01jiXu",
        "outputId": "4982cee5-81f0-45c0-babc-b590eb8f3386"
      },
      "source": [
        "a*x + b*y"
      ],
      "execution_count": 30,
      "outputs": [
        {
          "output_type": "execute_result",
          "data": {
            "text/plain": [
              "array([[14],\n",
              "       [23]])"
            ]
          },
          "metadata": {
            "tags": []
          },
          "execution_count": 30
        }
      ]
    },
    {
      "cell_type": "code",
      "metadata": {
        "colab": {
          "base_uri": "https://localhost:8080/"
        },
        "id": "kPcJ1wzNjpSW",
        "outputId": "b7f490e2-fd6b-4aa3-dc16-6f0384569423"
      },
      "source": [
        "x.T@y #1x2 2x1 =1x1"
      ],
      "execution_count": 35,
      "outputs": [
        {
          "output_type": "execute_result",
          "data": {
            "text/plain": [
              "array([[8]])"
            ]
          },
          "metadata": {
            "tags": []
          },
          "execution_count": 35
        }
      ]
    },
    {
      "cell_type": "markdown",
      "metadata": {
        "id": "jU1GYrd6k_DS"
      },
      "source": [
        "**In addition, vector addition and multiplication must follow these eight rules:**\n",
        "\n",
        "commutativity: x+y=y+x \n",
        "\n",
        "associativity: x+(y+x)=(y+x)+z \n",
        "\n",
        "unique zero vector such that: x+0=x for all  x\n",
        "\n",
        "for all x there is a unique vector x such that x+(−x)=0\n",
        "\n",
        "identity element of scalar multiplication: 1x=x\n",
        "\n",
        "distributivity of scalar multiplication w.r.t vector addition: x(y+z)=xz+zy\n",
        "\n",
        "x(yz)=(xy)z\n",
        "\n",
        "(y+z)x=yx+zx"
      ]
    },
    {
      "cell_type": "markdown",
      "metadata": {
        "id": "TiguOOc5mTt6"
      },
      "source": [
        "In NumPy, we can compute the L2 norm as:\n"
      ]
    },
    {
      "cell_type": "code",
      "metadata": {
        "colab": {
          "base_uri": "https://localhost:8080/"
        },
        "id": "YVQ-sKzKkd6j",
        "outputId": "a3ffe3dd-6405-48f6-fdef-dc01efb0a6b6"
      },
      "source": [
        "x = np.array([[3],[4]])\n",
        "np.linalg.norm(x, 2)"
      ],
      "execution_count": 38,
      "outputs": [
        {
          "output_type": "execute_result",
          "data": {
            "text/plain": [
              "5.0"
            ]
          },
          "metadata": {
            "tags": []
          },
          "execution_count": 38
        }
      ]
    },
    {
      "cell_type": "markdown",
      "metadata": {
        "id": "4sFwyhJJmws4"
      },
      "source": [
        "L1 norm"
      ]
    },
    {
      "cell_type": "code",
      "metadata": {
        "colab": {
          "base_uri": "https://localhost:8080/"
        },
        "id": "HC4z7T_GmXYO",
        "outputId": "cf6b798c-02cb-4622-f280-80d7b09e4160"
      },
      "source": [
        "x = np.array([[3],[-4]])\n",
        "np.linalg.norm(x, 1)"
      ],
      "execution_count": 39,
      "outputs": [
        {
          "output_type": "execute_result",
          "data": {
            "text/plain": [
              "7.0"
            ]
          },
          "metadata": {
            "tags": []
          },
          "execution_count": 39
        }
      ]
    },
    {
      "cell_type": "code",
      "metadata": {
        "colab": {
          "base_uri": "https://localhost:8080/"
        },
        "id": "ecrPj9fimqTw",
        "outputId": "c16276d6-c2f5-4a93-ce3a-f8162b68808a"
      },
      "source": [
        "A = np.array([[0,2],\n",
        "              [1,4]])\n",
        "B = np.array([[3,1],\n",
        "              [-3,2]])\n",
        "A+B"
      ],
      "execution_count": 40,
      "outputs": [
        {
          "output_type": "execute_result",
          "data": {
            "text/plain": [
              "array([[ 3,  3],\n",
              "       [-2,  6]])"
            ]
          },
          "metadata": {
            "tags": []
          },
          "execution_count": 40
        }
      ]
    },
    {
      "cell_type": "code",
      "metadata": {
        "colab": {
          "base_uri": "https://localhost:8080/"
        },
        "id": "bx_gF-xwpcnp",
        "outputId": "30238247-18f6-43e5-bb4c-39f4ac1d5dd1"
      },
      "source": [
        "A@B"
      ],
      "execution_count": 41,
      "outputs": [
        {
          "output_type": "execute_result",
          "data": {
            "text/plain": [
              "array([[-6,  4],\n",
              "       [-9,  9]])"
            ]
          },
          "metadata": {
            "tags": []
          },
          "execution_count": 41
        }
      ]
    },
    {
      "cell_type": "code",
      "metadata": {
        "id": "dr2L0jwPpirQ"
      },
      "source": [
        "A = np.array([[1, 2, 1],\n",
        "              [4, 4, 5],\n",
        "              [6, 7, 7]])\n"
      ],
      "execution_count": 42,
      "outputs": []
    },
    {
      "cell_type": "markdown",
      "metadata": {
        "id": "z71nn-KoqJL1"
      },
      "source": [
        "In NumPy, we can compute the inverse of a matrix :"
      ]
    },
    {
      "cell_type": "code",
      "metadata": {
        "colab": {
          "base_uri": "https://localhost:8080/"
        },
        "id": "SO0fjZOHpvks",
        "outputId": "dce427ef-0c48-4cdd-fd73-bd31279b3e42"
      },
      "source": [
        "A_i = np.linalg.inv(A)\n",
        "print(f'A inverse:\\n{A_i}')"
      ],
      "execution_count": 43,
      "outputs": [
        {
          "output_type": "stream",
          "text": [
            "A inverse:\n",
            "[[-7. -7.  6.]\n",
            " [ 2.  1. -1.]\n",
            " [ 4.  5. -4.]]\n"
          ],
          "name": "stdout"
        }
      ]
    },
    {
      "cell_type": "markdown",
      "metadata": {
        "id": "eEFvgK5vqO14"
      },
      "source": [
        "veryfying"
      ]
    },
    {
      "cell_type": "code",
      "metadata": {
        "colab": {
          "base_uri": "https://localhost:8080/"
        },
        "id": "1Br85RDppxY7",
        "outputId": "53c98f81-084e-45d6-866c-024923f52cb2"
      },
      "source": [
        "np.round(A_i@A) # we get identity matrix"
      ],
      "execution_count": 45,
      "outputs": [
        {
          "output_type": "execute_result",
          "data": {
            "text/plain": [
              "array([[ 1.,  0.,  0.],\n",
              "       [ 0.,  1., -0.],\n",
              "       [ 0., -0.,  1.]])"
            ]
          },
          "metadata": {
            "tags": []
          },
          "execution_count": 45
        }
      ]
    },
    {
      "cell_type": "code",
      "metadata": {
        "colab": {
          "base_uri": "https://localhost:8080/"
        },
        "id": "ccuTpGLLqUPc",
        "outputId": "195db149-0d76-4c0c-b332-799d9b7b4505"
      },
      "source": [
        "A.T"
      ],
      "execution_count": 46,
      "outputs": [
        {
          "output_type": "execute_result",
          "data": {
            "text/plain": [
              "array([[1, 4, 6],\n",
              "       [2, 4, 7],\n",
              "       [1, 5, 7]])"
            ]
          },
          "metadata": {
            "tags": []
          },
          "execution_count": 46
        }
      ]
    },
    {
      "cell_type": "markdown",
      "metadata": {
        "id": "OBd_oShbq7-s"
      },
      "source": [
        "matrix matrix multiplication"
      ]
    },
    {
      "cell_type": "code",
      "metadata": {
        "colab": {
          "base_uri": "https://localhost:8080/"
        },
        "id": "ap_WjYSTqlvm",
        "outputId": "a119e253-eec7-46e9-b263-78905c585335"
      },
      "source": [
        "A = np.array([[0,2],\n",
        "              [1,4]])\n",
        "B = np.array([[1,3],\n",
        "              [2,1]])\n",
        "A*B"
      ],
      "execution_count": 48,
      "outputs": [
        {
          "output_type": "execute_result",
          "data": {
            "text/plain": [
              "array([[0, 6],\n",
              "       [2, 4]])"
            ]
          },
          "metadata": {
            "tags": []
          },
          "execution_count": 48
        }
      ]
    },
    {
      "cell_type": "markdown",
      "metadata": {
        "id": "52oZ74LYrmeQ"
      },
      "source": [
        "Consider this eqn. AX=Y , we hv to find X\n",
        "\n",
        "In NumPy, we can solve a system of equations with Gaussian Eliminatioion."
      ]
    },
    {
      "cell_type": "code",
      "metadata": {
        "id": "pYV9zXwWqrf_"
      },
      "source": [
        "A = np.array([[1, 3, 5],\n",
        "              [2, 2, -1],\n",
        "              [1, 3, 2]])\n",
        "y = np.array([[-1],\n",
        "              [1],\n",
        "              [2]])"
      ],
      "execution_count": 49,
      "outputs": []
    },
    {
      "cell_type": "code",
      "metadata": {
        "colab": {
          "base_uri": "https://localhost:8080/"
        },
        "id": "TodCGH9orhMe",
        "outputId": "4dbabc67-2bf0-406a-8c3f-3d9a08938774"
      },
      "source": [
        "np.linalg.solve(A, y)"
      ],
      "execution_count": 50,
      "outputs": [
        {
          "output_type": "execute_result",
          "data": {
            "text/plain": [
              "array([[-2.],\n",
              "       [ 2.],\n",
              "       [-1.]])"
            ]
          },
          "metadata": {
            "tags": []
          },
          "execution_count": 50
        }
      ]
    },
    {
      "cell_type": "code",
      "metadata": {
        "id": "nIkmNf2KrkSQ"
      },
      "source": [
        ""
      ],
      "execution_count": null,
      "outputs": []
    }
  ]
}