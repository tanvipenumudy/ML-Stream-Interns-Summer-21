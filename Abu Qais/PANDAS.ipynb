{
  "nbformat": 4,
  "nbformat_minor": 0,
  "metadata": {
    "colab": {
      "name": "PANDAS.ipynb",
      "provenance": []
    },
    "kernelspec": {
      "name": "python3",
      "display_name": "Python 3"
    },
    "language_info": {
      "name": "python"
    }
  },
  "cells": [
    {
      "cell_type": "code",
      "metadata": {
        "id": "AhuZ3amyThmY"
      },
      "source": [
        "import pandas as pd\n",
        "import seaborn as sns\n",
        "import numpy as np"
      ],
      "execution_count": null,
      "outputs": []
    },
    {
      "cell_type": "markdown",
      "metadata": {
        "id": "_sDGbXxpTy88"
      },
      "source": [
        "Creating Series Objects"
      ]
    },
    {
      "cell_type": "code",
      "metadata": {
        "id": "4Ea28jZoUYv2"
      },
      "source": [
        "s=pd.Series([0,1.1,1,2,3,5,8,13]) #it create auto index\n",
        "s"
      ],
      "execution_count": null,
      "outputs": []
    },
    {
      "cell_type": "code",
      "metadata": {
        "id": "2j_hbMkiE2FO"
      },
      "source": [
        "s=pd.Series([1,1,2,3,5,8,13,21],index=['a','b','c','d','e','f','g','h'])\n",
        "print(s)"
      ],
      "execution_count": null,
      "outputs": []
    },
    {
      "cell_type": "code",
      "metadata": {
        "id": "YXU_nGdJf6Fm"
      },
      "source": [
        "s.std()"
      ],
      "execution_count": null,
      "outputs": []
    },
    {
      "cell_type": "code",
      "metadata": {
        "id": "wO47DOMAKeLn"
      },
      "source": [
        "s.iloc[0:4]"
      ],
      "execution_count": null,
      "outputs": []
    },
    {
      "cell_type": "code",
      "metadata": {
        "id": "Upp5oJCPLKBc"
      },
      "source": [
        "s.loc[\"a\":\"d\"]"
      ],
      "execution_count": null,
      "outputs": []
    },
    {
      "cell_type": "code",
      "metadata": {
        "id": "TPeUGzPwUwvP"
      },
      "source": [
        "s.values #iterable content "
      ],
      "execution_count": null,
      "outputs": []
    },
    {
      "cell_type": "code",
      "metadata": {
        "id": "2ZVKlU-nXTIR"
      },
      "source": [
        "[b for b in s]"
      ],
      "execution_count": null,
      "outputs": []
    },
    {
      "cell_type": "code",
      "metadata": {
        "id": "7pGGwF8cVI3r"
      },
      "source": [
        "s.index"
      ],
      "execution_count": null,
      "outputs": []
    },
    {
      "cell_type": "code",
      "metadata": {
        "id": "EH2VrSkVVnCf"
      },
      "source": [
        "[i for i in s.index]"
      ],
      "execution_count": null,
      "outputs": []
    },
    {
      "cell_type": "code",
      "metadata": {
        "id": "x8R6-i4LVtGG"
      },
      "source": [
        "for item in zip(s.index,s.values):\n",
        "    print(item)"
      ],
      "execution_count": null,
      "outputs": []
    },
    {
      "cell_type": "code",
      "metadata": {
        "id": "Gp2yiqWwaeIx"
      },
      "source": [
        "s[0]"
      ],
      "execution_count": null,
      "outputs": []
    },
    {
      "cell_type": "code",
      "metadata": {
        "id": "uBtCMQN-bHHD"
      },
      "source": [
        "s[2]"
      ],
      "execution_count": null,
      "outputs": []
    },
    {
      "cell_type": "code",
      "metadata": {
        "id": "fjI8gN37bIjC"
      },
      "source": [
        "s[6]=44"
      ],
      "execution_count": null,
      "outputs": []
    },
    {
      "cell_type": "code",
      "metadata": {
        "id": "2N_fBSuGbOME"
      },
      "source": [
        "s"
      ],
      "execution_count": null,
      "outputs": []
    },
    {
      "cell_type": "code",
      "metadata": {
        "id": "CcuxX3BLbYrQ"
      },
      "source": [
        "mars=pd.Series([0.33,57.99,4222.6],index=['mass','diameter','daylength'])\n",
        "mars"
      ],
      "execution_count": null,
      "outputs": []
    },
    {
      "cell_type": "code",
      "metadata": {
        "id": "DEFD7Ph5cWZ2"
      },
      "source": [
        "mars['mass']"
      ],
      "execution_count": null,
      "outputs": []
    },
    {
      "cell_type": "code",
      "metadata": {
        "id": "l9NCVgE1clAf"
      },
      "source": [
        "mars['daylength']"
      ],
      "execution_count": null,
      "outputs": []
    },
    {
      "cell_type": "code",
      "metadata": {
        "id": "HjVYbXSyctP2"
      },
      "source": [
        "arr=np.random.randint(1,11,10)\n",
        "index=np.arange(10,20)\n",
        "pd.Series(arr,index=index)"
      ],
      "execution_count": null,
      "outputs": []
    },
    {
      "cell_type": "code",
      "metadata": {
        "id": "13j_R_7Wdc2S"
      },
      "source": [
        "#dictionary to series\n",
        "d={}\n",
        "d['mass']=0.33\n",
        "d['diameter']=57.901\n",
        "d['daylenth']=4222.60\n",
        "d"
      ],
      "execution_count": null,
      "outputs": []
    },
    {
      "cell_type": "code",
      "metadata": {
        "id": "jolJZuKYeAGO"
      },
      "source": [
        "mars=pd.Series(d,index=[\"mass\",\"diameter\",\"a\"])"
      ],
      "execution_count": null,
      "outputs": []
    },
    {
      "cell_type": "code",
      "metadata": {
        "id": "h7d3DUGKfHg4"
      },
      "source": [
        "mars"
      ],
      "execution_count": null,
      "outputs": []
    },
    {
      "cell_type": "markdown",
      "metadata": {
        "id": "pK0QTrYf8ggu"
      },
      "source": [
        "LOC AND ILOC"
      ]
    },
    {
      "cell_type": "code",
      "metadata": {
        "id": "NZD_g9oIfhMU"
      },
      "source": [
        "s=pd.Series([0.0,1,1,2,4,4,5,88,6],index=[1,2,3,0,5,6,7,8,9])\n",
        "s"
      ],
      "execution_count": null,
      "outputs": []
    },
    {
      "cell_type": "code",
      "metadata": {
        "id": "pNIeUpGK820O"
      },
      "source": [
        "s.loc[0]"
      ],
      "execution_count": null,
      "outputs": []
    },
    {
      "cell_type": "code",
      "metadata": {
        "id": "TL7_lMIT9WUe"
      },
      "source": [
        "s.iloc[4]"
      ],
      "execution_count": null,
      "outputs": []
    },
    {
      "cell_type": "code",
      "metadata": {
        "id": "GJXQgPUt9xo4"
      },
      "source": [
        "mars"
      ],
      "execution_count": null,
      "outputs": []
    },
    {
      "cell_type": "code",
      "metadata": {
        "id": "12QuGkpb-W32"
      },
      "source": [
        "mars.iloc[2]"
      ],
      "execution_count": null,
      "outputs": []
    },
    {
      "cell_type": "code",
      "metadata": {
        "id": "Vctn3Dmi-bGg"
      },
      "source": [
        "mars.loc['mass']"
      ],
      "execution_count": null,
      "outputs": []
    },
    {
      "cell_type": "code",
      "metadata": {
        "id": "RruM17Bs-hb9"
      },
      "source": [
        "mars.iloc[0:1] # 1 is not included"
      ],
      "execution_count": null,
      "outputs": []
    },
    {
      "cell_type": "code",
      "metadata": {
        "id": "5COACA1y-pfY"
      },
      "source": [
        "mars.loc['mass':'daylength']"
      ],
      "execution_count": null,
      "outputs": []
    },
    {
      "cell_type": "code",
      "metadata": {
        "id": "SLEr7u1n_SpQ"
      },
      "source": [
        "mars.loc[:'daylength']"
      ],
      "execution_count": null,
      "outputs": []
    },
    {
      "cell_type": "code",
      "metadata": {
        "id": "bvhkgsdZ_qO2"
      },
      "source": [
        "mars.loc[:]"
      ],
      "execution_count": null,
      "outputs": []
    },
    {
      "cell_type": "code",
      "metadata": {
        "id": "AlA9kyhUAkXt"
      },
      "source": [
        "mars.iloc[:]"
      ],
      "execution_count": null,
      "outputs": []
    },
    {
      "cell_type": "code",
      "metadata": {
        "id": "MV_t4qZWAxIf"
      },
      "source": [
        "mars.iloc[0:]"
      ],
      "execution_count": null,
      "outputs": []
    },
    {
      "cell_type": "code",
      "metadata": {
        "id": "oXFf9fsxAtzn"
      },
      "source": [
        "mars.iloc[:3]"
      ],
      "execution_count": null,
      "outputs": []
    },
    {
      "cell_type": "code",
      "metadata": {
        "id": "AuYl-hNvA5lW"
      },
      "source": [
        "mass=pd.Series([0.33,4.87,5.97,0.642,1898,568,86.8,102,0.0146],index=['Mercury','Venus','Earth','Mars','Jupiter','Saturn','Uranus','Neptune','Pluto'])"
      ],
      "execution_count": null,
      "outputs": []
    },
    {
      "cell_type": "code",
      "metadata": {
        "id": "_JL8CVz2B68R"
      },
      "source": [
        "mass"
      ],
      "execution_count": null,
      "outputs": []
    },
    {
      "cell_type": "code",
      "metadata": {
        "id": "33DKJWN5B7tI"
      },
      "source": [
        "mass.iloc[1]"
      ],
      "execution_count": null,
      "outputs": []
    },
    {
      "cell_type": "code",
      "metadata": {
        "id": "SfFyw6CDCZCE"
      },
      "source": [
        "mass.iloc[2:5]"
      ],
      "execution_count": null,
      "outputs": []
    },
    {
      "cell_type": "code",
      "metadata": {
        "id": "W9niSiAsC9dI"
      },
      "source": [
        "mass>100"
      ],
      "execution_count": null,
      "outputs": []
    },
    {
      "cell_type": "code",
      "metadata": {
        "id": "duUYS1W0DAtN"
      },
      "source": [
        "mass[mass>100]"
      ],
      "execution_count": null,
      "outputs": []
    },
    {
      "cell_type": "code",
      "metadata": {
        "id": "EY4qRWqiDC2H"
      },
      "source": [
        "mass[(mass>100 ) & (mass<600)]"
      ],
      "execution_count": null,
      "outputs": []
    },
    {
      "cell_type": "code",
      "metadata": {
        "id": "93vr3Cq_DXY3"
      },
      "source": [
        "mass*2"
      ],
      "execution_count": null,
      "outputs": []
    },
    {
      "cell_type": "code",
      "metadata": {
        "id": "9k42aPYbDl9L"
      },
      "source": [
        "mass/10"
      ],
      "execution_count": null,
      "outputs": []
    },
    {
      "cell_type": "code",
      "metadata": {
        "id": "C5-qunHkDpBy"
      },
      "source": [
        "mass[mass>np.mean(mass)]"
      ],
      "execution_count": null,
      "outputs": []
    },
    {
      "cell_type": "code",
      "metadata": {
        "id": "tAa_1JYoRQI7"
      },
      "source": [
        "mass[mass>np.median(mass)]"
      ],
      "execution_count": null,
      "outputs": []
    },
    {
      "cell_type": "code",
      "metadata": {
        "id": "DpMSSHZUDtoA"
      },
      "source": [
        "np.amin(mass)"
      ],
      "execution_count": null,
      "outputs": []
    },
    {
      "cell_type": "code",
      "metadata": {
        "id": "HTlZmv-vEGR1"
      },
      "source": [
        "np.amax(mass)"
      ],
      "execution_count": null,
      "outputs": []
    },
    {
      "cell_type": "code",
      "metadata": {
        "id": "9OhElgYrEbil"
      },
      "source": [
        "np.argmax(mass)"
      ],
      "execution_count": null,
      "outputs": []
    },
    {
      "cell_type": "code",
      "metadata": {
        "id": "ndNWmxa3Eh1B"
      },
      "source": [
        "np.median(mass)"
      ],
      "execution_count": null,
      "outputs": []
    },
    {
      "cell_type": "code",
      "metadata": {
        "id": "QhOJtgONEpO_"
      },
      "source": [
        "np.std(mass)"
      ],
      "execution_count": null,
      "outputs": []
    },
    {
      "cell_type": "code",
      "metadata": {
        "id": "-zaKUCVCEt0Y"
      },
      "source": [
        "mass+mass"
      ],
      "execution_count": null,
      "outputs": []
    },
    {
      "cell_type": "code",
      "metadata": {
        "id": "6GbAd8u-EyN0"
      },
      "source": [
        "mass-mass"
      ],
      "execution_count": null,
      "outputs": []
    },
    {
      "cell_type": "code",
      "metadata": {
        "id": "dCIzIaJAE7Wj"
      },
      "source": [
        "big_mass=mass[mass>100]\n",
        "big_mass"
      ],
      "execution_count": null,
      "outputs": []
    },
    {
      "cell_type": "code",
      "metadata": {
        "id": "BoW0gaG2FG12"
      },
      "source": [
        "new_mass=mass+big_mass #adding the series  it take the intersection and then add \n",
        "new_mass"
      ],
      "execution_count": null,
      "outputs": []
    },
    {
      "cell_type": "code",
      "metadata": {
        "id": "U-6qwwJDFRsz"
      },
      "source": [
        "pd.isnull(new_mass) "
      ],
      "execution_count": null,
      "outputs": []
    },
    {
      "cell_type": "code",
      "metadata": {
        "id": "R1G6Ka0QF3pr"
      },
      "source": [
        "new_mass[~ pd.isnull(new_mass)] #subsetting the part of the series which is not null"
      ],
      "execution_count": null,
      "outputs": []
    },
    {
      "cell_type": "code",
      "metadata": {
        "id": "v0cAmTU-GI8w"
      },
      "source": [
        "mass['Moon']=.7346"
      ],
      "execution_count": null,
      "outputs": []
    },
    {
      "cell_type": "code",
      "metadata": {
        "id": "23tLxfKwGi3C"
      },
      "source": [
        "mass"
      ],
      "execution_count": null,
      "outputs": []
    },
    {
      "cell_type": "code",
      "metadata": {
        "id": "OQ-bSkIKGkS_"
      },
      "source": [
        "mass.drop(['Pluto'])"
      ],
      "execution_count": null,
      "outputs": []
    },
    {
      "cell_type": "markdown",
      "metadata": {
        "id": "uLXHhhXYGtWK"
      },
      "source": [
        "Collect numbers for the diameter of these planets (heavenly bodies) and store it as a series object. Then given these two series objects mass and diameter , compute the density of each planet."
      ]
    },
    {
      "cell_type": "code",
      "metadata": {
        "id": "byat__baVcBW"
      },
      "source": [
        "mass=pd.Series([0.33,4.87,5.97,0.642,1898,568,86.8,102,0.0146],index=['Mercury','Venus','Earth','Mars','Jupiter','Saturn','Uranus','Neptune','Pluto'])"
      ],
      "execution_count": null,
      "outputs": []
    },
    {
      "cell_type": "code",
      "metadata": {
        "id": "i2gXQswsGn_J"
      },
      "source": [
        "diameter = pd.Series([4880,12104,12742,6779,139820,116460,50724,49244,2376.8],index=mass.index)"
      ],
      "execution_count": null,
      "outputs": []
    },
    {
      "cell_type": "code",
      "metadata": {
        "id": "I2j6gf0EXfrC"
      },
      "source": [
        "\n"
      ],
      "execution_count": null,
      "outputs": []
    },
    {
      "cell_type": "code",
      "metadata": {
        "id": "yQYGpihjVsUV"
      },
      "source": [
        "volume=np.pi*np.power(diameter,3)/6\n",
        "volume"
      ],
      "execution_count": null,
      "outputs": []
    },
    {
      "cell_type": "code",
      "metadata": {
        "id": "jEP4oHn-Vs_2"
      },
      "source": [
        "density=mass/volume"
      ],
      "execution_count": null,
      "outputs": []
    },
    {
      "cell_type": "code",
      "metadata": {
        "id": "g9s1Oh94XH5C"
      },
      "source": [
        "mass['planetx']=6"
      ],
      "execution_count": null,
      "outputs": []
    },
    {
      "cell_type": "code",
      "metadata": {
        "id": "36y5gjaHXJCp"
      },
      "source": [
        "density"
      ],
      "execution_count": null,
      "outputs": []
    },
    {
      "cell_type": "code",
      "metadata": {
        "id": "hlV0mxcjSpqp"
      },
      "source": [
        "density.index"
      ],
      "execution_count": null,
      "outputs": []
    },
    {
      "cell_type": "code",
      "metadata": {
        "id": "4yU-vlH_Sur_"
      },
      "source": [
        "density_mean=np.mean(density)\n",
        "for key in density.index:\n",
        "    if pd.isnull(density[key]):\n",
        "        density[key]=density_mean"
      ],
      "execution_count": null,
      "outputs": []
    },
    {
      "cell_type": "code",
      "metadata": {
        "id": "8BFtriJkSU0T"
      },
      "source": [
        "density"
      ],
      "execution_count": null,
      "outputs": []
    },
    {
      "cell_type": "code",
      "metadata": {
        "id": "DDUzqGeNmhNw"
      },
      "source": [
        "#alt method\n",
        "density[pd.isnull(density)]=np.mean(density)"
      ],
      "execution_count": null,
      "outputs": []
    },
    {
      "cell_type": "code",
      "metadata": {
        "id": "dhcFShaOnQZf"
      },
      "source": [
        "density"
      ],
      "execution_count": null,
      "outputs": []
    },
    {
      "cell_type": "code",
      "metadata": {
        "id": "8YTFmvcXnXsk"
      },
      "source": [
        "#task 3\n",
        "%%timeit\n",
        "my_dict={}\n",
        "for i in range(10):\n",
        "    my_dict[i]=i*11\n",
        "    print(my_dict)\n"
      ],
      "execution_count": null,
      "outputs": []
    },
    {
      "cell_type": "code",
      "metadata": {
        "id": "4EzER5XioMfU"
      },
      "source": [
        "my_series=pd.Series(my_dict)"
      ],
      "execution_count": null,
      "outputs": []
    },
    {
      "cell_type": "code",
      "metadata": {
        "id": "bt9VcisApusB"
      },
      "source": [
        "arr=np.random.randint(0,100000,10000)"
      ],
      "execution_count": null,
      "outputs": []
    },
    {
      "cell_type": "code",
      "metadata": {
        "id": "0ok992DOqYUk"
      },
      "source": [
        "%%timeit\n",
        "for i in arr:\n",
        "    i in my_dict"
      ],
      "execution_count": null,
      "outputs": []
    },
    {
      "cell_type": "code",
      "metadata": {
        "id": "GQeYaZAMqYc3"
      },
      "source": [
        "%%timeit\n",
        "for i in arr:\n",
        "    i in my_series"
      ],
      "execution_count": null,
      "outputs": []
    },
    {
      "cell_type": "code",
      "metadata": {
        "id": "oh3iqJxFqYkw"
      },
      "source": [
        "%%timeit\n",
        "sum(my_dict.values())"
      ],
      "execution_count": null,
      "outputs": []
    },
    {
      "cell_type": "code",
      "metadata": {
        "id": "RgF_ahFbrVAw"
      },
      "source": [
        "%%timeit\n",
        "np.sum(my_series)"
      ],
      "execution_count": null,
      "outputs": []
    },
    {
      "cell_type": "code",
      "metadata": {
        "id": "cwi9Xyv9rqTO"
      },
      "source": [
        "nifty=pd.read_csv(\"/content/nifty (2).csv\",index_col=0).iloc[:,0]"
      ],
      "execution_count": null,
      "outputs": []
    },
    {
      "cell_type": "code",
      "metadata": {
        "id": "qeCbtSt0ZGzJ"
      },
      "source": [
        "nifty.head()"
      ],
      "execution_count": null,
      "outputs": []
    },
    {
      "cell_type": "code",
      "metadata": {
        "id": "cH1rTillZIGD"
      },
      "source": [
        "nifty[1:]"
      ],
      "execution_count": null,
      "outputs": []
    },
    {
      "cell_type": "code",
      "metadata": {
        "id": "dfbZMmqFZoSg"
      },
      "source": [
        "nifty[:-1]"
      ],
      "execution_count": null,
      "outputs": []
    },
    {
      "cell_type": "code",
      "metadata": {
        "id": "ycM1OkcceIo4"
      },
      "source": [
        "nifty.values[1:]-nifty.values[:-1]"
      ],
      "execution_count": null,
      "outputs": []
    },
    {
      "cell_type": "code",
      "metadata": {
        "id": "EVYBMne4-v9f"
      },
      "source": [
        "np.sum((nifty.values[1:]-nifty.values[:-1]>0))/len(nifty)"
      ],
      "execution_count": null,
      "outputs": []
    },
    {
      "cell_type": "code",
      "metadata": {
        "id": "9xHuqYa0h9WF"
      },
      "source": [
        "nifty.rolling(5).mean()"
      ],
      "execution_count": null,
      "outputs": []
    },
    {
      "cell_type": "code",
      "metadata": {
        "id": "57OrnARV_GzY"
      },
      "source": [
        "new_index=map(pd.Timestamp,nifty.index)"
      ],
      "execution_count": null,
      "outputs": []
    },
    {
      "cell_type": "code",
      "metadata": {
        "id": "RJveqdtWii6F"
      },
      "source": [
        "new_nifty=pd.Series(nifty,index=new_index)\n",
        "new_nifty"
      ],
      "execution_count": null,
      "outputs": []
    },
    {
      "cell_type": "code",
      "metadata": {
        "id": "EJ6RHWS0ijLx"
      },
      "source": [
        "new_nifty.index[0]"
      ],
      "execution_count": null,
      "outputs": []
    },
    {
      "cell_type": "code",
      "metadata": {
        "id": "VYw9BiLAlo30"
      },
      "source": [
        "new_nifty.rolling(\"5d\").mean()"
      ],
      "execution_count": null,
      "outputs": []
    },
    {
      "cell_type": "code",
      "metadata": {
        "id": "Zt8fl7y7CyJn"
      },
      "source": [
        "dow = new_nifty.copy()\n",
        "for i in dow.index:\n",
        "    dow[i] = i.dayofweek"
      ],
      "execution_count": null,
      "outputs": []
    },
    {
      "cell_type": "code",
      "metadata": {
        "id": "RZrmffT-DarZ"
      },
      "source": [
        "new_nifty[dow==4]"
      ],
      "execution_count": null,
      "outputs": []
    },
    {
      "cell_type": "code",
      "metadata": {
        "id": "8m61Ih-XDjWy"
      },
      "source": [
        "a=np.random.randint(0,20,(5,3))"
      ],
      "execution_count": null,
      "outputs": []
    },
    {
      "cell_type": "code",
      "metadata": {
        "id": "F6FaUYYuVPVy"
      },
      "source": [
        "df=pd.DataFrame(a)\n",
        "df"
      ],
      "execution_count": null,
      "outputs": []
    },
    {
      "cell_type": "code",
      "metadata": {
        "id": "3r03A_QCVQt2"
      },
      "source": [
        "df.index"
      ],
      "execution_count": null,
      "outputs": []
    },
    {
      "cell_type": "code",
      "metadata": {
        "id": "3PiuGo3dXJen"
      },
      "source": [
        "df.columns"
      ],
      "execution_count": null,
      "outputs": []
    },
    {
      "cell_type": "code",
      "metadata": {
        "id": "Uc_I1IqnXLWT"
      },
      "source": [
        "for c in df.index:\n",
        "    print(c)"
      ],
      "execution_count": null,
      "outputs": []
    },
    {
      "cell_type": "code",
      "metadata": {
        "id": "WNVzO5GFXSJr"
      },
      "source": [
        "df.index=[\"R1\",\"R2\",\"R3\",\"R4\",\"R5\"]\n",
        "df.columns=[\"C1\",\"C2\",\"C3\"]"
      ],
      "execution_count": null,
      "outputs": []
    },
    {
      "cell_type": "code",
      "metadata": {
        "id": "8XH3dcOAX5ms"
      },
      "source": [
        "df.loc[\"R3\",\"C2\"]"
      ],
      "execution_count": null,
      "outputs": []
    },
    {
      "cell_type": "code",
      "metadata": {
        "id": "Y6FL8zweYJ2T"
      },
      "source": [
        "df.iloc[2,1]"
      ],
      "execution_count": null,
      "outputs": []
    },
    {
      "cell_type": "code",
      "metadata": {
        "id": "v5QUHahlZ8RZ"
      },
      "source": [
        "df.iloc[2:4,1:3]"
      ],
      "execution_count": null,
      "outputs": []
    },
    {
      "cell_type": "code",
      "metadata": {
        "id": "5Yc1MOvNaL3P"
      },
      "source": [
        "df.T"
      ],
      "execution_count": null,
      "outputs": []
    },
    {
      "cell_type": "code",
      "metadata": {
        "id": "dk-ryH4Jb9y3"
      },
      "source": [
        "df.mean()"
      ],
      "execution_count": null,
      "outputs": []
    },
    {
      "cell_type": "code",
      "metadata": {
        "id": "16U8Ebzt_MIN"
      },
      "source": [
        "import numpy as np\n",
        "import pandas as pd"
      ],
      "execution_count": null,
      "outputs": []
    },
    {
      "cell_type": "code",
      "metadata": {
        "id": "Svy_U6SkcCuJ"
      },
      "source": [
        "def create_df(nR,nC,maxrand=10):\n",
        "    arr=np.random.randint(0,maxrand,(nR,nC))\n",
        "    df=pd.DataFrame(arr)\n",
        "    df.index=[\"R\"+str(i) for i in np.arange(1,nR+1)]\n",
        "    df.columns=[\"C\"+str(i) for i in np.arange(1,nC+1)]\n",
        "    return df"
      ],
      "execution_count": null,
      "outputs": []
    },
    {
      "cell_type": "code",
      "metadata": {
        "id": "fRjB-AUU_FM8"
      },
      "source": [
        "df=create_df(5,8)"
      ],
      "execution_count": null,
      "outputs": []
    },
    {
      "cell_type": "code",
      "metadata": {
        "id": "aKOD9qMd_IpO"
      },
      "source": [
        "a=pd.DataFrame({\"mass\":mass,\"diameter\":diameter})\n",
        "a"
      ],
      "execution_count": null,
      "outputs": []
    },
    {
      "cell_type": "code",
      "metadata": {
        "id": "rbVuFbg4COph"
      },
      "source": [
        "a.loc[\"planetx\"][\"diameter\"]=1000"
      ],
      "execution_count": null,
      "outputs": []
    },
    {
      "cell_type": "code",
      "metadata": {
        "id": "upUdunrsClHO"
      },
      "source": [
        "a"
      ],
      "execution_count": null,
      "outputs": []
    },
    {
      "cell_type": "code",
      "metadata": {
        "id": "el3gsBT7C3Cm"
      },
      "source": [
        "\n",
        "a.loc[\"planetx\",\"diameter\"]=1000"
      ],
      "execution_count": null,
      "outputs": []
    },
    {
      "cell_type": "code",
      "metadata": {
        "id": "GhCbs1p2DBiH"
      },
      "source": [
        "a"
      ],
      "execution_count": null,
      "outputs": []
    },
    {
      "cell_type": "code",
      "metadata": {
        "id": "u-aonFQXDInb"
      },
      "source": [
        "a[\"pop\"]=00"
      ],
      "execution_count": null,
      "outputs": []
    },
    {
      "cell_type": "code",
      "metadata": {
        "id": "tKt11TI9EQWI"
      },
      "source": [
        "a"
      ],
      "execution_count": null,
      "outputs": []
    },
    {
      "cell_type": "code",
      "metadata": {
        "id": "AVmiTnSFEQ7A"
      },
      "source": [
        "a[\"pop\"][\"Earth\"]=8000000"
      ],
      "execution_count": null,
      "outputs": []
    },
    {
      "cell_type": "code",
      "metadata": {
        "id": "_Duj93KNE8-H"
      },
      "source": [
        "a"
      ],
      "execution_count": null,
      "outputs": []
    },
    {
      "cell_type": "code",
      "metadata": {
        "id": "9TThbMVjE6Y9"
      },
      "source": [
        "a.loc[\"mean\"]=np.mean(a)"
      ],
      "execution_count": null,
      "outputs": []
    },
    {
      "cell_type": "code",
      "metadata": {
        "id": "CAOIVvK4Nhgw"
      },
      "source": [
        "a"
      ],
      "execution_count": null,
      "outputs": []
    },
    {
      "cell_type": "code",
      "metadata": {
        "id": "wm9z7KyVUNUT"
      },
      "source": [
        "df"
      ],
      "execution_count": null,
      "outputs": []
    },
    {
      "cell_type": "code",
      "metadata": {
        "id": "IvKerk7PYoRI"
      },
      "source": [
        "df.loc[\"MEAmN\"]=df.mean(axis=0)"
      ],
      "execution_count": null,
      "outputs": []
    },
    {
      "cell_type": "code",
      "metadata": {
        "id": "K_LtPtHtZKVB"
      },
      "source": [
        "\n",
        "df=df.drop(\"MEAmN\")"
      ],
      "execution_count": null,
      "outputs": []
    },
    {
      "cell_type": "code",
      "metadata": {
        "id": "HcrBNVttZXnj"
      },
      "source": [
        "df[\"Row_mean\"]=df.mean(axis=1)"
      ],
      "execution_count": null,
      "outputs": []
    },
    {
      "cell_type": "code",
      "metadata": {
        "id": "MzkOgFbQdedo"
      },
      "source": [
        "df.describe()"
      ],
      "execution_count": null,
      "outputs": []
    },
    {
      "cell_type": "code",
      "metadata": {
        "id": "VOnpqEBBe2X0"
      },
      "source": [
        "df"
      ],
      "execution_count": null,
      "outputs": []
    },
    {
      "cell_type": "code",
      "metadata": {
        "id": "9IUtu-ileTwG"
      },
      "source": [
        "df.drop(\"Row_mean\",axis=1,inplace=True)"
      ],
      "execution_count": null,
      "outputs": []
    },
    {
      "cell_type": "code",
      "metadata": {
        "id": "l2_O02SNd3k5"
      },
      "source": [
        "df"
      ],
      "execution_count": null,
      "outputs": []
    },
    {
      "cell_type": "code",
      "metadata": {
        "id": "DClsP80HfF89"
      },
      "source": [
        "import seaborn as sns\n",
        "import pandas as pd\n",
        "import numpy as np"
      ],
      "execution_count": null,
      "outputs": []
    },
    {
      "cell_type": "code",
      "metadata": {
        "id": "MjgoL0k_gfEa"
      },
      "source": [
        "sns.get_dataset_names()"
      ],
      "execution_count": null,
      "outputs": []
    },
    {
      "cell_type": "code",
      "metadata": {
        "id": "odo8kjoYgqw_"
      },
      "source": [
        "df=sns.load_dataset('planets')"
      ],
      "execution_count": null,
      "outputs": []
    },
    {
      "cell_type": "code",
      "metadata": {
        "id": "M6byFt5jhHok"
      },
      "source": [
        "df.info()"
      ],
      "execution_count": null,
      "outputs": []
    },
    {
      "cell_type": "code",
      "metadata": {
        "id": "sA9owYvah2Dr"
      },
      "source": [
        "df.describe()"
      ],
      "execution_count": null,
      "outputs": []
    },
    {
      "cell_type": "code",
      "metadata": {
        "id": "r95V_nwAi5CY"
      },
      "source": [
        "for r in df.index:\n",
        "    for c in df.columns:\n",
        "        if pd.isnull(df.loc[r,c]):\n",
        "            df.drop(r,inplace=True)\n",
        "            break"
      ],
      "execution_count": null,
      "outputs": []
    },
    {
      "cell_type": "code",
      "metadata": {
        "id": "nGq8gSlwxum3"
      },
      "source": [
        "for i, r in df.iterrows():\n",
        "    if pd.isnull(r).any():\n",
        "        df.drop(i,inplace=True)"
      ],
      "execution_count": null,
      "outputs": []
    },
    {
      "cell_type": "code",
      "metadata": {
        "id": "4oXvRWvCynnE"
      },
      "source": [
        "df.describe()"
      ],
      "execution_count": null,
      "outputs": []
    },
    {
      "cell_type": "code",
      "metadata": {
        "id": "rvf_A6VuWzJW"
      },
      "source": [
        "df"
      ],
      "execution_count": null,
      "outputs": []
    },
    {
      "cell_type": "code",
      "metadata": {
        "id": "HxS7jpdPg47P"
      },
      "source": [
        "df['method'].nunique()"
      ],
      "execution_count": null,
      "outputs": []
    },
    {
      "cell_type": "code",
      "metadata": {
        "id": "k3kC83axzVLt"
      },
      "source": [
        "df1=df.copy()\n",
        "per_75=df1.distance.quantile(0.75)\n",
        "for i,r in df1.iterrows():\n",
        "    if r['year']<2010:\n",
        "        df1.drop(i,inplace=True)\n",
        "        continue\n",
        "    if r['method'] != \"Radial Velocity\"  and r['method'] !=\"Transit\":\n",
        "        df1.drop(i,inplace=True)\n",
        "        continue\n",
        "    if r['distance'] < per_75:\n",
        "        df1.drop(i,inplace=True)\n",
        "        continue\n"
      ],
      "execution_count": null,
      "outputs": []
    },
    {
      "cell_type": "code",
      "metadata": {
        "id": "lCkL4B1JWCfT"
      },
      "source": [
        "df1.describe()"
      ],
      "execution_count": null,
      "outputs": []
    },
    {
      "cell_type": "code",
      "metadata": {
        "id": "LAjjgK0dSpZA"
      },
      "source": [
        "df_3=df.copy()\n",
        "per_50=df_3.distance.quantile(0.75)\n",
        "for i,r in df_3.iterrows():\n",
        "    if r[\"year\"]<2010:\n",
        "        df_3.drop(i,inplace=True)\n",
        "        continue\n",
        "    if r[\"method\"] != \"Radial Velocity\" and r[\"method\"] != \"Transit\":\n",
        "        df_3.drop(i,inplace=True)\n",
        "        continue\n",
        "    if r[\"distance\"] < per_50:\n",
        "        df_3.drop(i,inplace=True)\n",
        "        continue        \n"
      ],
      "execution_count": null,
      "outputs": []
    },
    {
      "cell_type": "code",
      "metadata": {
        "id": "DvnkzKKgV4Ag"
      },
      "source": [
        "df_3"
      ],
      "execution_count": null,
      "outputs": []
    },
    {
      "cell_type": "code",
      "metadata": {
        "id": "oNEkLkH2zwOc"
      },
      "source": [
        "df"
      ],
      "execution_count": null,
      "outputs": []
    },
    {
      "cell_type": "code",
      "metadata": {
        "id": "_zfB1J24_vte"
      },
      "source": [
        "df2=df.copy()\n",
        "a=df2[(df2[\"year\"]>=2010)&\n",
        "    ((df2[\"method\"]==\"Radial Velocity\") | (df2[\"method\"]==\"Transit\")) &\n",
        "    (df[\"distance\"]>per_75)]"
      ],
      "execution_count": null,
      "outputs": []
    },
    {
      "cell_type": "code",
      "metadata": {
        "id": "icymYJtZYNYz"
      },
      "source": [
        "df_4=df.copy()\n",
        "df_4[(df_4[\"year\"]>2010)&\n",
        "     ((df_4[\"method\"]==\"Radial Velocity\")| (df_4[\"method\"]==\"Transit\"))&\n",
        "     (df_4[\"distance\"]>per_50)]"
      ],
      "execution_count": null,
      "outputs": []
    },
    {
      "cell_type": "code",
      "metadata": {
        "id": "B-v0j_0cBaNX"
      },
      "source": [
        "df.info()"
      ],
      "execution_count": null,
      "outputs": []
    },
    {
      "cell_type": "code",
      "metadata": {
        "id": "vx_vckO5CbmP"
      },
      "source": [
        "for i,r in df_3.iterrows():\n",
        "    print(i)\n",
        "    print(r)\n",
        "    break\n"
      ],
      "execution_count": null,
      "outputs": []
    },
    {
      "cell_type": "code",
      "metadata": {
        "id": "slTIVzCqCj4M"
      },
      "source": [
        "##modifying the method column\n",
        "df.method.unique()"
      ],
      "execution_count": null,
      "outputs": []
    },
    {
      "cell_type": "code",
      "metadata": {
        "id": "f9h1EuuJDXS_"
      },
      "source": [
        "a=\"Orbital Brightness Modulation\"\n",
        "a.split(\" \")"
      ],
      "execution_count": null,
      "outputs": []
    },
    {
      "cell_type": "code",
      "metadata": {
        "id": "gzz6ERoOfNHG"
      },
      "source": [
        "\"\".join([x[0] for x in a.split(\" \")])"
      ],
      "execution_count": null,
      "outputs": []
    },
    {
      "cell_type": "code",
      "metadata": {
        "id": "03IQrkjRfkDY"
      },
      "source": [
        "short_names={}\n",
        "for s in df.method.unique():\n",
        "    short_names[s]=\"\".join([x[0] for x in s.split(\" \")])"
      ],
      "execution_count": null,
      "outputs": []
    },
    {
      "cell_type": "code",
      "metadata": {
        "id": "VULOiGmthUth"
      },
      "source": [
        "short_names"
      ],
      "execution_count": null,
      "outputs": []
    },
    {
      "cell_type": "code",
      "metadata": {
        "id": "ELPKRwXfnWbF"
      },
      "source": [
        "for i , r in df.iterrows():\n",
        "    df.loc[i,\"sho\"]=short_names.get(r['method'],r['method'])"
      ],
      "execution_count": null,
      "outputs": []
    },
    {
      "cell_type": "code",
      "metadata": {
        "id": "960UqR-lpDFz"
      },
      "source": [
        "df=sns.load_dataset('planets')"
      ],
      "execution_count": null,
      "outputs": []
    },
    {
      "cell_type": "code",
      "metadata": {
        "id": "eTkbabPBpfkT"
      },
      "source": [
        "df"
      ],
      "execution_count": null,
      "outputs": []
    },
    {
      "cell_type": "code",
      "metadata": {
        "id": "P07ZQ8Pqqn6u"
      },
      "source": [
        "def shor(s):\n",
        "    return short_names.get(s,s)"
      ],
      "execution_count": null,
      "outputs": []
    },
    {
      "cell_type": "code",
      "metadata": {
        "id": "u8x1F4gzqRZK"
      },
      "source": [
        "df[\"short_method\"]=df[\"method\"].apply(shor)"
      ],
      "execution_count": null,
      "outputs": []
    },
    {
      "cell_type": "code",
      "metadata": {
        "id": "nM4N-J2Mrs5q"
      },
      "source": [
        "df"
      ],
      "execution_count": null,
      "outputs": []
    },
    {
      "cell_type": "code",
      "metadata": {
        "id": "MdPunK4PruHv"
      },
      "source": [
        "df=sns.load_dataset('planets')"
      ],
      "execution_count": null,
      "outputs": []
    },
    {
      "cell_type": "code",
      "metadata": {
        "id": "2Qb8m2_SWtce"
      },
      "source": [
        "df.describe()"
      ],
      "execution_count": null,
      "outputs": []
    },
    {
      "cell_type": "code",
      "metadata": {
        "id": "pSYOSAl5WtjS"
      },
      "source": [
        "df.info()"
      ],
      "execution_count": null,
      "outputs": []
    },
    {
      "cell_type": "code",
      "metadata": {
        "id": "RRU0N_-rWtpq"
      },
      "source": [
        "for i , r in df.iterrows():\n",
        "    if pd.isnull(r).any():\n",
        "        df.drop(i,inplace=True)"
      ],
      "execution_count": null,
      "outputs": []
    },
    {
      "cell_type": "code",
      "metadata": {
        "id": "c7OhV147ZMX_"
      },
      "source": [
        "df.info()"
      ],
      "execution_count": null,
      "outputs": []
    },
    {
      "cell_type": "code",
      "metadata": {
        "id": "G9ILB7G1aGof"
      },
      "source": [
        "short_names={}\n",
        "for s in df.method.unique():\n",
        "    short_names[s]=\"\".join([x[0] for x in s.split(\" \")])\n",
        "short_names"
      ],
      "execution_count": null,
      "outputs": []
    },
    {
      "cell_type": "code",
      "metadata": {
        "id": "nxqqSrjibE2W"
      },
      "source": [
        "for i ,r in df.iterrows ():\n",
        "    df.loc[i,\"short_method\"]=short_names.get(r[\"method\"],r[\"method\"])"
      ],
      "execution_count": null,
      "outputs": []
    },
    {
      "cell_type": "code",
      "metadata": {
        "id": "cKjuUIwUb6pg"
      },
      "source": [
        "df"
      ],
      "execution_count": null,
      "outputs": []
    },
    {
      "cell_type": "code",
      "metadata": {
        "id": "ykbfPIQRb73u"
      },
      "source": [
        "def shorty(s):\n",
        "    return short_names.get(s,s)\n"
      ],
      "execution_count": null,
      "outputs": []
    },
    {
      "cell_type": "code",
      "metadata": {
        "id": "7PpVDtR2dTJt"
      },
      "source": [
        "df[\"short_method\"]=df.method.apply(shorty)"
      ],
      "execution_count": null,
      "outputs": []
    },
    {
      "cell_type": "code",
      "metadata": {
        "id": "QXiDAHLudh8M"
      },
      "source": [
        "df"
      ],
      "execution_count": null,
      "outputs": []
    },
    {
      "cell_type": "code",
      "metadata": {
        "id": "pxxZAmM6dqSV"
      },
      "source": [
        "df_1=df.copy()\n",
        "for i, r in df_1.iterrows():\n",
        "    if r[\"method\"] != \"Radial Velocity\" and r[\"method\"] != \"Transit\" :\n",
        "        df_1.drop(i,inplace=True)\n",
        "        continue\n",
        "    if r[\"year\"] < 2010:\n",
        "        df_1.drop(i,inplace=True)\n",
        "        continue\n",
        "    if r[\"distance\"] < df_1.distance.quantile(0.75):\n",
        "        df_1.drop(i,inplace=True)\n",
        "        continue         \n"
      ],
      "execution_count": null,
      "outputs": []
    },
    {
      "cell_type": "code",
      "metadata": {
        "id": "X4qgrnjigGqL"
      },
      "source": [
        "df_1"
      ],
      "execution_count": null,
      "outputs": []
    },
    {
      "cell_type": "code",
      "metadata": {
        "id": "qRqVIUWogcla"
      },
      "source": [
        "df_1.method.unique()\n",
        "df2=df.copy()\n",
        "a=df2[(df2[\"year\"]>=2010)&\n",
        "    ((df2[\"method\"]==\"Radial Velocity\") | (df2[\"method\"]==\"Transit\")) &\n",
        "    (df[\"distance\"]>per_75)]"
      ],
      "execution_count": null,
      "outputs": []
    },
    {
      "cell_type": "code",
      "metadata": {
        "id": "CsG5RJUbghTD"
      },
      "source": [
        "df_2=df.copy()\n",
        "df_2=df_2[(df_2[\"year\"]>2010)&\n",
        "          ((df_2[\"method\"]==\"Radial Velocity\") | (df_2[\"method\"]==\"Transit\"))&\n",
        "          (df_2[\"distance\"]>df_2.distance.quantile(0.75))]"
      ],
      "execution_count": null,
      "outputs": []
    },
    {
      "cell_type": "code",
      "metadata": {
        "id": "zIITxOgXhomX"
      },
      "source": [
        "df_2"
      ],
      "execution_count": null,
      "outputs": []
    },
    {
      "cell_type": "code",
      "metadata": {
        "id": "hDtz_V2QjBwN"
      },
      "source": [
        "df_4=df.copy()\n",
        "df_4[(df_4[\"year\"]>2010)&\n",
        "     ((df_4[\"method\"]==\"Radial Velocity\")| (df_4[\"method\"]==\"Transit\"))&\n",
        "     (df_4[\"distance\"]>per_50)]"
      ],
      "execution_count": null,
      "outputs": []
    },
    {
      "cell_type": "markdown",
      "metadata": {
        "id": "ysHOaQTD_i7d"
      },
      "source": [
        "Count the number of planets discovered for each method type\n"
      ]
    },
    {
      "cell_type": "code",
      "metadata": {
        "id": "bTHPJyXAk-Ub"
      },
      "source": [
        "d={}\n",
        "for m in df.method.unique():\n",
        "    d[m]=df[df[\"method\"]==m][\"method\"].count()"
      ],
      "execution_count": null,
      "outputs": []
    },
    {
      "cell_type": "code",
      "metadata": {
        "id": "wF5h7UurQ6Ne"
      },
      "source": [
        "def create_df(nR,nC,maxrand=10):\n",
        "    arr=np.random.randint(0,maxrand,(nR,nC))\n",
        "    df=pd.DataFrame(arr)\n",
        "    df.index=[\"R\"+str(i) for i in np.arange(1,nR+1)]\n",
        "    df.columns=[\"C\"+str(i) for i in np.arange(1,nC+1)]\n",
        "    return df"
      ],
      "execution_count": null,
      "outputs": []
    },
    {
      "cell_type": "code",
      "metadata": {
        "id": "B3Fs8POHBDb7"
      },
      "source": [
        "print(d)"
      ],
      "execution_count": null,
      "outputs": []
    },
    {
      "cell_type": "code",
      "metadata": {
        "id": "5TYKvO2cBmiD"
      },
      "source": [
        "##alternate\n",
        "df.groupby(\"method\")[\"method\"].count()"
      ],
      "execution_count": null,
      "outputs": []
    },
    {
      "cell_type": "code",
      "metadata": {
        "id": "CT6pLR3YCCp4"
      },
      "source": [
        "df.groupby(\"method\")[\"distance\"].mean()"
      ],
      "execution_count": null,
      "outputs": []
    },
    {
      "cell_type": "markdown",
      "metadata": {
        "id": "_SAf78tfD3OQ"
      },
      "source": [
        "find out what fraction of planet have been found in the last decade (i.e, in 2010s) across each method type"
      ]
    },
    {
      "cell_type": "code",
      "metadata": {
        "id": "rOQ0XAZoCE1t"
      },
      "source": [
        "d={}\n",
        "for m in df.method.unique():\n",
        "    d[m]=df[(df[\"method\"]==m)&(df[\"year\"]>=2010) &(df[\"year\"]<2020)][\"method\"].count()"
      ],
      "execution_count": null,
      "outputs": []
    },
    {
      "cell_type": "code",
      "metadata": {
        "id": "lXWPBUKTEpAQ"
      },
      "source": [
        "d"
      ],
      "execution_count": null,
      "outputs": []
    },
    {
      "cell_type": "code",
      "metadata": {
        "id": "7Cmcd7uAGFYT"
      },
      "source": [
        "s_2010s=df[df.year>=2010].groupby(\"method\")[\"method\"].count()"
      ],
      "execution_count": null,
      "outputs": []
    },
    {
      "cell_type": "code",
      "metadata": {
        "id": "s8NkMCgoG6H4"
      },
      "source": [
        "s_alltimes=df.groupby(\"method\")[\"method\"].count()"
      ],
      "execution_count": null,
      "outputs": []
    },
    {
      "cell_type": "code",
      "metadata": {
        "id": "KC0Tfqj9Hwt2"
      },
      "source": [
        "s_2010s/s_alltimes"
      ],
      "execution_count": null,
      "outputs": []
    },
    {
      "cell_type": "code",
      "metadata": {
        "id": "VyMuPurkIAkW"
      },
      "source": [
        "df=sns.load_dataset('planets')"
      ],
      "execution_count": null,
      "outputs": []
    },
    {
      "cell_type": "code",
      "metadata": {
        "id": "MnCaEaUxfIng"
      },
      "source": [
        "df[df[\"year\"]>=2010].groupby(\"method\")[\"method\"].count()"
      ],
      "execution_count": null,
      "outputs": []
    },
    {
      "cell_type": "code",
      "metadata": {
        "id": "Roko7UIRfKhy"
      },
      "source": [
        "df[df[\"distance\"]>df[\"distance\"].mean()].groupby(\"method\")[\"method\"].count()"
      ],
      "execution_count": null,
      "outputs": []
    },
    {
      "cell_type": "code",
      "metadata": {
        "colab": {
          "base_uri": "https://localhost:8080/"
        },
        "id": "aT6ekxXpSJQW",
        "outputId": "3243eb0b-7e3a-43c3-ffc0-668fc4ebc4f0"
      },
      "source": [
        "sns.get_dataset_names()"
      ],
      "execution_count": null,
      "outputs": [
        {
          "output_type": "execute_result",
          "data": {
            "text/plain": [
              "['anagrams',\n",
              " 'anscombe',\n",
              " 'attention',\n",
              " 'brain_networks',\n",
              " 'car_crashes',\n",
              " 'diamonds',\n",
              " 'dots',\n",
              " 'exercise',\n",
              " 'flights',\n",
              " 'fmri',\n",
              " 'gammas',\n",
              " 'geyser',\n",
              " 'iris',\n",
              " 'mpg',\n",
              " 'penguins',\n",
              " 'planets',\n",
              " 'tips',\n",
              " 'titanic']"
            ]
          },
          "metadata": {
            "tags": []
          },
          "execution_count": 6
        }
      ]
    },
    {
      "cell_type": "code",
      "metadata": {
        "colab": {
          "base_uri": "https://localhost:8080/"
        },
        "id": "pKyJPZAgSpiw",
        "outputId": "2d5a3161-30e3-426f-d702-2217c3fdf8e1"
      },
      "source": [
        "df=sns.load_dataset(\"exercise\")\n",
        "df.info()"
      ],
      "execution_count": null,
      "outputs": [
        {
          "output_type": "stream",
          "text": [
            "<class 'pandas.core.frame.DataFrame'>\n",
            "RangeIndex: 90 entries, 0 to 89\n",
            "Data columns (total 6 columns):\n",
            " #   Column      Non-Null Count  Dtype   \n",
            "---  ------      --------------  -----   \n",
            " 0   Unnamed: 0  90 non-null     int64   \n",
            " 1   id          90 non-null     int64   \n",
            " 2   diet        90 non-null     category\n",
            " 3   pulse       90 non-null     int64   \n",
            " 4   time        90 non-null     category\n",
            " 5   kind        90 non-null     category\n",
            "dtypes: category(3), int64(3)\n",
            "memory usage: 2.8 KB\n"
          ],
          "name": "stdout"
        }
      ]
    },
    {
      "cell_type": "code",
      "metadata": {
        "colab": {
          "base_uri": "https://localhost:8080/",
          "height": 296
        },
        "id": "sBYtVAweWn48",
        "outputId": "5fde7372-7d04-457a-ee17-4b2fb38d589e"
      },
      "source": [
        "df.describe()"
      ],
      "execution_count": null,
      "outputs": [
        {
          "output_type": "execute_result",
          "data": {
            "text/html": [
              "<div>\n",
              "<style scoped>\n",
              "    .dataframe tbody tr th:only-of-type {\n",
              "        vertical-align: middle;\n",
              "    }\n",
              "\n",
              "    .dataframe tbody tr th {\n",
              "        vertical-align: top;\n",
              "    }\n",
              "\n",
              "    .dataframe thead th {\n",
              "        text-align: right;\n",
              "    }\n",
              "</style>\n",
              "<table border=\"1\" class=\"dataframe\">\n",
              "  <thead>\n",
              "    <tr style=\"text-align: right;\">\n",
              "      <th></th>\n",
              "      <th>Unnamed: 0</th>\n",
              "      <th>id</th>\n",
              "      <th>pulse</th>\n",
              "    </tr>\n",
              "  </thead>\n",
              "  <tbody>\n",
              "    <tr>\n",
              "      <th>count</th>\n",
              "      <td>90.000000</td>\n",
              "      <td>90.000000</td>\n",
              "      <td>90.000000</td>\n",
              "    </tr>\n",
              "    <tr>\n",
              "      <th>mean</th>\n",
              "      <td>44.500000</td>\n",
              "      <td>15.500000</td>\n",
              "      <td>99.700000</td>\n",
              "    </tr>\n",
              "    <tr>\n",
              "      <th>std</th>\n",
              "      <td>26.124701</td>\n",
              "      <td>8.703932</td>\n",
              "      <td>14.858471</td>\n",
              "    </tr>\n",
              "    <tr>\n",
              "      <th>min</th>\n",
              "      <td>0.000000</td>\n",
              "      <td>1.000000</td>\n",
              "      <td>80.000000</td>\n",
              "    </tr>\n",
              "    <tr>\n",
              "      <th>25%</th>\n",
              "      <td>22.250000</td>\n",
              "      <td>8.000000</td>\n",
              "      <td>90.250000</td>\n",
              "    </tr>\n",
              "    <tr>\n",
              "      <th>50%</th>\n",
              "      <td>44.500000</td>\n",
              "      <td>15.500000</td>\n",
              "      <td>96.000000</td>\n",
              "    </tr>\n",
              "    <tr>\n",
              "      <th>75%</th>\n",
              "      <td>66.750000</td>\n",
              "      <td>23.000000</td>\n",
              "      <td>103.000000</td>\n",
              "    </tr>\n",
              "    <tr>\n",
              "      <th>max</th>\n",
              "      <td>89.000000</td>\n",
              "      <td>30.000000</td>\n",
              "      <td>150.000000</td>\n",
              "    </tr>\n",
              "  </tbody>\n",
              "</table>\n",
              "</div>"
            ],
            "text/plain": [
              "       Unnamed: 0         id       pulse\n",
              "count   90.000000  90.000000   90.000000\n",
              "mean    44.500000  15.500000   99.700000\n",
              "std     26.124701   8.703932   14.858471\n",
              "min      0.000000   1.000000   80.000000\n",
              "25%     22.250000   8.000000   90.250000\n",
              "50%     44.500000  15.500000   96.000000\n",
              "75%     66.750000  23.000000  103.000000\n",
              "max     89.000000  30.000000  150.000000"
            ]
          },
          "metadata": {
            "tags": []
          },
          "execution_count": 37
        }
      ]
    },
    {
      "cell_type": "code",
      "metadata": {
        "id": "rEmoS8tyTEZd"
      },
      "source": [
        "df.drop(\"Unnamed: 0\",axis=1,inplace=True)"
      ],
      "execution_count": null,
      "outputs": []
    },
    {
      "cell_type": "code",
      "metadata": {
        "colab": {
          "base_uri": "https://localhost:8080/",
          "height": 204
        },
        "id": "1JR_aYfZXjWF",
        "outputId": "e0d89157-4baf-48d9-e2f9-638d26cbd928"
      },
      "source": [
        "df.head()"
      ],
      "execution_count": null,
      "outputs": [
        {
          "output_type": "execute_result",
          "data": {
            "text/html": [
              "<div>\n",
              "<style scoped>\n",
              "    .dataframe tbody tr th:only-of-type {\n",
              "        vertical-align: middle;\n",
              "    }\n",
              "\n",
              "    .dataframe tbody tr th {\n",
              "        vertical-align: top;\n",
              "    }\n",
              "\n",
              "    .dataframe thead th {\n",
              "        text-align: right;\n",
              "    }\n",
              "</style>\n",
              "<table border=\"1\" class=\"dataframe\">\n",
              "  <thead>\n",
              "    <tr style=\"text-align: right;\">\n",
              "      <th></th>\n",
              "      <th>id</th>\n",
              "      <th>diet</th>\n",
              "      <th>pulse</th>\n",
              "      <th>time</th>\n",
              "      <th>kind</th>\n",
              "    </tr>\n",
              "  </thead>\n",
              "  <tbody>\n",
              "    <tr>\n",
              "      <th>0</th>\n",
              "      <td>1</td>\n",
              "      <td>low fat</td>\n",
              "      <td>85</td>\n",
              "      <td>1 min</td>\n",
              "      <td>rest</td>\n",
              "    </tr>\n",
              "    <tr>\n",
              "      <th>1</th>\n",
              "      <td>1</td>\n",
              "      <td>low fat</td>\n",
              "      <td>85</td>\n",
              "      <td>15 min</td>\n",
              "      <td>rest</td>\n",
              "    </tr>\n",
              "    <tr>\n",
              "      <th>2</th>\n",
              "      <td>1</td>\n",
              "      <td>low fat</td>\n",
              "      <td>88</td>\n",
              "      <td>30 min</td>\n",
              "      <td>rest</td>\n",
              "    </tr>\n",
              "    <tr>\n",
              "      <th>3</th>\n",
              "      <td>2</td>\n",
              "      <td>low fat</td>\n",
              "      <td>90</td>\n",
              "      <td>1 min</td>\n",
              "      <td>rest</td>\n",
              "    </tr>\n",
              "    <tr>\n",
              "      <th>4</th>\n",
              "      <td>2</td>\n",
              "      <td>low fat</td>\n",
              "      <td>92</td>\n",
              "      <td>15 min</td>\n",
              "      <td>rest</td>\n",
              "    </tr>\n",
              "  </tbody>\n",
              "</table>\n",
              "</div>"
            ],
            "text/plain": [
              "   id     diet  pulse    time  kind\n",
              "0   1  low fat     85   1 min  rest\n",
              "1   1  low fat     85  15 min  rest\n",
              "2   1  low fat     88  30 min  rest\n",
              "3   2  low fat     90   1 min  rest\n",
              "4   2  low fat     92  15 min  rest"
            ]
          },
          "metadata": {
            "tags": []
          },
          "execution_count": 41
        }
      ]
    },
    {
      "cell_type": "code",
      "metadata": {
        "colab": {
          "base_uri": "https://localhost:8080/"
        },
        "id": "AsvRSaZqTVrn",
        "outputId": "11df35d9-bf34-42d4-b529-ba8ebe4e3c32"
      },
      "source": [
        "df.nunique()"
      ],
      "execution_count": null,
      "outputs": [
        {
          "output_type": "execute_result",
          "data": {
            "text/plain": [
              "Unnamed: 0    90\n",
              "id            30\n",
              "diet           2\n",
              "pulse         39\n",
              "time           3\n",
              "kind           3\n",
              "dtype: int64"
            ]
          },
          "metadata": {
            "tags": []
          },
          "execution_count": 30
        }
      ]
    },
    {
      "cell_type": "code",
      "metadata": {
        "colab": {
          "base_uri": "https://localhost:8080/",
          "height": 358
        },
        "id": "dMBdd115Vgxt",
        "outputId": "c7b14f31-6da5-4d49-c871-5552112dedb1"
      },
      "source": [
        "df[(df[\"pulse\"]>100)&(df[\"diet\"]==\"low fat\")]"
      ],
      "execution_count": null,
      "outputs": [
        {
          "output_type": "execute_result",
          "data": {
            "text/html": [
              "<div>\n",
              "<style scoped>\n",
              "    .dataframe tbody tr th:only-of-type {\n",
              "        vertical-align: middle;\n",
              "    }\n",
              "\n",
              "    .dataframe tbody tr th {\n",
              "        vertical-align: top;\n",
              "    }\n",
              "\n",
              "    .dataframe thead th {\n",
              "        text-align: right;\n",
              "    }\n",
              "</style>\n",
              "<table border=\"1\" class=\"dataframe\">\n",
              "  <thead>\n",
              "    <tr style=\"text-align: right;\">\n",
              "      <th></th>\n",
              "      <th>id</th>\n",
              "      <th>diet</th>\n",
              "      <th>pulse</th>\n",
              "      <th>time</th>\n",
              "      <th>kind</th>\n",
              "    </tr>\n",
              "  </thead>\n",
              "  <tbody>\n",
              "    <tr>\n",
              "      <th>34</th>\n",
              "      <td>12</td>\n",
              "      <td>low fat</td>\n",
              "      <td>103</td>\n",
              "      <td>15 min</td>\n",
              "      <td>walking</td>\n",
              "    </tr>\n",
              "    <tr>\n",
              "      <th>35</th>\n",
              "      <td>12</td>\n",
              "      <td>low fat</td>\n",
              "      <td>104</td>\n",
              "      <td>30 min</td>\n",
              "      <td>walking</td>\n",
              "    </tr>\n",
              "    <tr>\n",
              "      <th>62</th>\n",
              "      <td>21</td>\n",
              "      <td>low fat</td>\n",
              "      <td>110</td>\n",
              "      <td>30 min</td>\n",
              "      <td>running</td>\n",
              "    </tr>\n",
              "    <tr>\n",
              "      <th>64</th>\n",
              "      <td>22</td>\n",
              "      <td>low fat</td>\n",
              "      <td>104</td>\n",
              "      <td>15 min</td>\n",
              "      <td>running</td>\n",
              "    </tr>\n",
              "    <tr>\n",
              "      <th>65</th>\n",
              "      <td>22</td>\n",
              "      <td>low fat</td>\n",
              "      <td>112</td>\n",
              "      <td>30 min</td>\n",
              "      <td>running</td>\n",
              "    </tr>\n",
              "    <tr>\n",
              "      <th>67</th>\n",
              "      <td>23</td>\n",
              "      <td>low fat</td>\n",
              "      <td>105</td>\n",
              "      <td>15 min</td>\n",
              "      <td>running</td>\n",
              "    </tr>\n",
              "    <tr>\n",
              "      <th>70</th>\n",
              "      <td>24</td>\n",
              "      <td>low fat</td>\n",
              "      <td>132</td>\n",
              "      <td>15 min</td>\n",
              "      <td>running</td>\n",
              "    </tr>\n",
              "    <tr>\n",
              "      <th>71</th>\n",
              "      <td>24</td>\n",
              "      <td>low fat</td>\n",
              "      <td>120</td>\n",
              "      <td>30 min</td>\n",
              "      <td>running</td>\n",
              "    </tr>\n",
              "    <tr>\n",
              "      <th>73</th>\n",
              "      <td>25</td>\n",
              "      <td>low fat</td>\n",
              "      <td>110</td>\n",
              "      <td>15 min</td>\n",
              "      <td>running</td>\n",
              "    </tr>\n",
              "    <tr>\n",
              "      <th>74</th>\n",
              "      <td>25</td>\n",
              "      <td>low fat</td>\n",
              "      <td>116</td>\n",
              "      <td>30 min</td>\n",
              "      <td>running</td>\n",
              "    </tr>\n",
              "  </tbody>\n",
              "</table>\n",
              "</div>"
            ],
            "text/plain": [
              "    id     diet  pulse    time     kind\n",
              "34  12  low fat    103  15 min  walking\n",
              "35  12  low fat    104  30 min  walking\n",
              "62  21  low fat    110  30 min  running\n",
              "64  22  low fat    104  15 min  running\n",
              "65  22  low fat    112  30 min  running\n",
              "67  23  low fat    105  15 min  running\n",
              "70  24  low fat    132  15 min  running\n",
              "71  24  low fat    120  30 min  running\n",
              "73  25  low fat    110  15 min  running\n",
              "74  25  low fat    116  30 min  running"
            ]
          },
          "metadata": {
            "tags": []
          },
          "execution_count": 58
        }
      ]
    },
    {
      "cell_type": "code",
      "metadata": {
        "id": "8U6c58VzX4uV"
      },
      "source": [
        ""
      ],
      "execution_count": null,
      "outputs": []
    }
  ]
}