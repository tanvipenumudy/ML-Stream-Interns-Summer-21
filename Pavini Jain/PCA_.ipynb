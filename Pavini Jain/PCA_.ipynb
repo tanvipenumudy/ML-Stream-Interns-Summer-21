{
  "nbformat": 4,
  "nbformat_minor": 0,
  "metadata": {
    "colab": {
      "name": "PCA_.ipynb",
      "provenance": []
    },
    "kernelspec": {
      "name": "python3",
      "display_name": "Python 3"
    },
    "language_info": {
      "name": "python"
    }
  },
  "cells": [
    {
      "cell_type": "code",
      "metadata": {
        "id": "HHny42Dm5GfJ"
      },
      "source": [
        "import numpy as np\n",
        "import pandas as pd\n",
        "import pprint\n",
        "import matplotlib.pyplot as plt\n",
        "import pylab as pl\n",
        "from sklearn.datasets import load_iris\n",
        "%matplotlib inline\n",
        "%precision 3\n",
        "np.set_printoptions(precision=3)"
      ],
      "execution_count": null,
      "outputs": []
    },
    {
      "cell_type": "code",
      "metadata": {
        "id": "im67rNPB5yIX"
      },
      "source": [
        "iris = load_iris()"
      ],
      "execution_count": null,
      "outputs": []
    },
    {
      "cell_type": "code",
      "metadata": {
        "colab": {
          "base_uri": "https://localhost:8080/",
          "height": 206
        },
        "id": "pc7z0Cg052zs",
        "outputId": "f3c5936d-89b9-418f-9981-f86b4ac46025"
      },
      "source": [
        "iris_df = pd.DataFrame(iris.data,columns=[iris.feature_names])\n",
        "iris_df.head()"
      ],
      "execution_count": null,
      "outputs": [
        {
          "output_type": "execute_result",
          "data": {
            "text/html": [
              "<div>\n",
              "<style scoped>\n",
              "    .dataframe tbody tr th:only-of-type {\n",
              "        vertical-align: middle;\n",
              "    }\n",
              "\n",
              "    .dataframe tbody tr th {\n",
              "        vertical-align: top;\n",
              "    }\n",
              "\n",
              "    .dataframe thead tr th {\n",
              "        text-align: left;\n",
              "    }\n",
              "</style>\n",
              "<table border=\"1\" class=\"dataframe\">\n",
              "  <thead>\n",
              "    <tr>\n",
              "      <th></th>\n",
              "      <th>sepal length (cm)</th>\n",
              "      <th>sepal width (cm)</th>\n",
              "      <th>petal length (cm)</th>\n",
              "      <th>petal width (cm)</th>\n",
              "    </tr>\n",
              "  </thead>\n",
              "  <tbody>\n",
              "    <tr>\n",
              "      <th>0</th>\n",
              "      <td>5.1</td>\n",
              "      <td>3.5</td>\n",
              "      <td>1.4</td>\n",
              "      <td>0.2</td>\n",
              "    </tr>\n",
              "    <tr>\n",
              "      <th>1</th>\n",
              "      <td>4.9</td>\n",
              "      <td>3.0</td>\n",
              "      <td>1.4</td>\n",
              "      <td>0.2</td>\n",
              "    </tr>\n",
              "    <tr>\n",
              "      <th>2</th>\n",
              "      <td>4.7</td>\n",
              "      <td>3.2</td>\n",
              "      <td>1.3</td>\n",
              "      <td>0.2</td>\n",
              "    </tr>\n",
              "    <tr>\n",
              "      <th>3</th>\n",
              "      <td>4.6</td>\n",
              "      <td>3.1</td>\n",
              "      <td>1.5</td>\n",
              "      <td>0.2</td>\n",
              "    </tr>\n",
              "    <tr>\n",
              "      <th>4</th>\n",
              "      <td>5.0</td>\n",
              "      <td>3.6</td>\n",
              "      <td>1.4</td>\n",
              "      <td>0.2</td>\n",
              "    </tr>\n",
              "  </tbody>\n",
              "</table>\n",
              "</div>"
            ],
            "text/plain": [
              "  sepal length (cm) sepal width (cm) petal length (cm) petal width (cm)\n",
              "0               5.1              3.5               1.4              0.2\n",
              "1               4.9              3.0               1.4              0.2\n",
              "2               4.7              3.2               1.3              0.2\n",
              "3               4.6              3.1               1.5              0.2\n",
              "4               5.0              3.6               1.4              0.2"
            ]
          },
          "metadata": {
            "tags": []
          },
          "execution_count": 6
        }
      ]
    },
    {
      "cell_type": "code",
      "metadata": {
        "id": "ac6LNZMT6Cvp"
      },
      "source": [
        "X = iris.data"
      ],
      "execution_count": null,
      "outputs": []
    },
    {
      "cell_type": "code",
      "metadata": {
        "colab": {
          "base_uri": "https://localhost:8080/"
        },
        "id": "hyCeP3ah6QBc",
        "outputId": "ee2839e5-c585-4513-ce9c-8611e3860f35"
      },
      "source": [
        "X.shape"
      ],
      "execution_count": null,
      "outputs": [
        {
          "output_type": "execute_result",
          "data": {
            "text/plain": [
              "(150, 4)"
            ]
          },
          "metadata": {
            "tags": []
          },
          "execution_count": 8
        }
      ]
    },
    {
      "cell_type": "markdown",
      "metadata": {
        "id": "yJj-jd-56S9z"
      },
      "source": [
        "#Standardize"
      ]
    },
    {
      "cell_type": "code",
      "metadata": {
        "id": "ksKmhmOS6Rjd"
      },
      "source": [
        "from sklearn.preprocessing import StandardScaler\n",
        "X_std = StandardScaler().fit_transform(X)"
      ],
      "execution_count": null,
      "outputs": []
    },
    {
      "cell_type": "code",
      "metadata": {
        "colab": {
          "base_uri": "https://localhost:8080/"
        },
        "id": "YqiqFnni6iJ7",
        "outputId": "7e9da024-b5f4-40aa-b203-709b362fc182"
      },
      "source": [
        "print(X_std[0:5])\n",
        "print(\"The shape of Feature Matrix is -\",X_std.shape)"
      ],
      "execution_count": null,
      "outputs": [
        {
          "output_type": "stream",
          "text": [
            "[[-0.901  1.019 -1.34  -1.315]\n",
            " [-1.143 -0.132 -1.34  -1.315]\n",
            " [-1.385  0.328 -1.397 -1.315]\n",
            " [-1.507  0.098 -1.283 -1.315]\n",
            " [-1.022  1.249 -1.34  -1.315]]\n",
            "The shape of Feature Matrix is - (150, 4)\n"
          ],
          "name": "stdout"
        }
      ]
    },
    {
      "cell_type": "code",
      "metadata": {
        "id": "hc2Ghzhk6vpg"
      },
      "source": [
        "X_covariance_matrix = np.cov(X_std.T)"
      ],
      "execution_count": null,
      "outputs": []
    },
    {
      "cell_type": "code",
      "metadata": {
        "colab": {
          "base_uri": "https://localhost:8080/"
        },
        "id": "7aABsdbv63-s",
        "outputId": "b745066b-799b-4843-c1dd-72ae4795998e"
      },
      "source": [
        "X_covariance_matrix"
      ],
      "execution_count": null,
      "outputs": [
        {
          "output_type": "execute_result",
          "data": {
            "text/plain": [
              "array([[ 1.007, -0.118,  0.878,  0.823],\n",
              "       [-0.118,  1.007, -0.431, -0.369],\n",
              "       [ 0.878, -0.431,  1.007,  0.969],\n",
              "       [ 0.823, -0.369,  0.969,  1.007]])"
            ]
          },
          "metadata": {
            "tags": []
          },
          "execution_count": 12
        }
      ]
    },
    {
      "cell_type": "code",
      "metadata": {
        "colab": {
          "base_uri": "https://localhost:8080/"
        },
        "id": "q3udy1Uo67at",
        "outputId": "09df1a2e-ae54-40c5-8241-9bf57d3ea2e1"
      },
      "source": [
        "eig_vals, eig_vecs = np.linalg.eig(X_covariance_matrix)\n",
        "\n",
        "print('Eigenvectors \\n%s' %eig_vecs)\n",
        "print('\\nEigenvalues \\n%s' %eig_vals)"
      ],
      "execution_count": null,
      "outputs": [
        {
          "output_type": "stream",
          "text": [
            "Eigenvectors \n",
            "[[ 0.521 -0.377 -0.72   0.261]\n",
            " [-0.269 -0.923  0.244 -0.124]\n",
            " [ 0.58  -0.024  0.142 -0.801]\n",
            " [ 0.565 -0.067  0.634  0.524]]\n",
            "\n",
            "Eigenvalues \n",
            "[2.938 0.92  0.148 0.021]\n"
          ],
          "name": "stdout"
        }
      ]
    },
    {
      "cell_type": "code",
      "metadata": {
        "colab": {
          "base_uri": "https://localhost:8080/"
        },
        "id": "PkqNu3Xv7jMF",
        "outputId": "6a6c8064-b41f-4309-82d6-b01fb5577897"
      },
      "source": [
        "# Make a list of (eigenvalue, eigenvector) tuples\n",
        "eig_pairs = [(np.abs(eig_vals[i]), eig_vecs[:,i]) for i in range(len(eig_vals))] \n",
        "\n",
        "# Sort the (eigenvalue, eigenvectors) tuples from high to low\n",
        "eig_pairs.sort(key=lambda x: x[0], reverse=True)\n",
        "\n",
        "# Visually confirm that the list is correctly sorted by decreasing eigenvalues\n",
        "print(\"Eigenvalues in descending order: \")\n",
        "for i in eig_pairs:\n",
        "  print(i[0])"
      ],
      "execution_count": null,
      "outputs": [
        {
          "output_type": "stream",
          "text": [
            "Eigenvalues in descending order: \n",
            "2.9380850501999918\n",
            "0.9201649041624865\n",
            "0.14774182104494768\n",
            "0.02085386217646253\n"
          ],
          "name": "stdout"
        }
      ]
    },
    {
      "cell_type": "code",
      "metadata": {
        "colab": {
          "base_uri": "https://localhost:8080/"
        },
        "id": "dw5EIEhA93iH",
        "outputId": "67b26eb5-7dfe-4355-e06f-916154538bc8"
      },
      "source": [
        "tot = sum(eig_vals)\n",
        "var_exp = [(i/tot)*100 for i in sorted(eig_vals, reverse=True)]\n",
        "cum_var_exp = np.cumsum(var_exp)\n",
        "print('Variance captured by each component is \\n',var_exp)\n",
        "print(40 * '-')\n",
        "print(\"Cumulative variance captured as we travel each component \\n\",cum_var_exp)\n",
        "# First two contribute maximum"
      ],
      "execution_count": null,
      "outputs": [
        {
          "output_type": "stream",
          "text": [
            "Variance captured by each component is \n",
            " [72.96244541329987, 22.85076178670177, 3.668921889282871, 0.5178709107154866]\n",
            "----------------------------------------\n",
            "Cumulative variance captured as we travel each component \n",
            " [ 72.962  95.813  99.482 100.   ]\n"
          ],
          "name": "stdout"
        }
      ]
    },
    {
      "cell_type": "code",
      "metadata": {
        "colab": {
          "base_uri": "https://localhost:8080/"
        },
        "id": "lW_lz5APDkj4",
        "outputId": "552954c1-84b7-4af5-fc21-e30f18391a78"
      },
      "source": [
        "print('All Eigen Values along with Eigen Vectors')\n",
        "pprint.pprint(eig_pairs)\n",
        "print(40 * '-')\n",
        "matrix_w = np.hstack((eig_pairs[0][1].reshape(4,1),\n",
        "                      eig_pairs[1][1].reshape(4,1)))\n",
        "print('Matrix W:\\n', matrix_w)"
      ],
      "execution_count": null,
      "outputs": [
        {
          "output_type": "stream",
          "text": [
            "All Eigen Values along with Eigen Vectors\n",
            "[(2.9380850501999918, array([ 0.521, -0.269,  0.58 ,  0.565])),\n",
            " (0.9201649041624865, array([-0.377, -0.923, -0.024, -0.067])),\n",
            " (0.14774182104494768, array([-0.72 ,  0.244,  0.142,  0.634])),\n",
            " (0.02085386217646253, array([ 0.261, -0.124, -0.801,  0.524]))]\n",
            "----------------------------------------\n",
            "Matrix W:\n",
            " [[ 0.521 -0.377]\n",
            " [-0.269 -0.923]\n",
            " [ 0.58  -0.024]\n",
            " [ 0.565 -0.067]]\n"
          ],
          "name": "stdout"
        }
      ]
    },
    {
      "cell_type": "code",
      "metadata": {
        "colab": {
          "base_uri": "https://localhost:8080/"
        },
        "id": "DkoSX9DKEnIW",
        "outputId": "ca35d773-9855-48d0-da4e-8a85c6015fbd"
      },
      "source": [
        "Y = X_std.dot(matrix_w)\n",
        "print(Y[0:5])"
      ],
      "execution_count": null,
      "outputs": [
        {
          "output_type": "stream",
          "text": [
            "[[-2.265 -0.48 ]\n",
            " [-2.081  0.674]\n",
            " [-2.364  0.342]\n",
            " [-2.299  0.597]\n",
            " [-2.39  -0.647]]\n"
          ],
          "name": "stdout"
        }
      ]
    },
    {
      "cell_type": "code",
      "metadata": {
        "colab": {
          "base_uri": "https://localhost:8080/",
          "height": 295
        },
        "id": "lIt1gffzFE1D",
        "outputId": "2fd4dca9-f800-4b60-aa6b-547fab773fcf"
      },
      "source": [
        "pl.figure()\n",
        "target_names = iris.target_names\n",
        "y = iris.target\n",
        "for c, i, target_name in zip(\"rgb\", [0,1,2], target_names):\n",
        "  pl.scatter(Y[y==i,0], Y[y==i,1], c=c, label = target_name)\n",
        "pl.xlabel('Principal Component 1')\n",
        "pl.ylabel('Principal Component 2')\n",
        "pl.legend()\n",
        "pl.title('PCA of IRIS dataset')\n",
        "pl.show()"
      ],
      "execution_count": null,
      "outputs": [
        {
          "output_type": "display_data",
          "data": {
            "image/png": "[encoded data removed]",
            "text/plain": [
              "<Figure size 432x288 with 1 Axes>"
            ]
          },
          "metadata": {
            "tags": [],
            "needs_background": "light"
          }
        }
      ]
    }
  ]
}