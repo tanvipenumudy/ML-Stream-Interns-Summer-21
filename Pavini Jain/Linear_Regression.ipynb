{
  "nbformat": 4,
  "nbformat_minor": 0,
  "metadata": {
    "colab": {
      "name": "Linear Regression.ipynb",
      "provenance": []
    },
    "kernelspec": {
      "name": "python3",
      "display_name": "Python 3"
    },
    "language_info": {
      "name": "python"
    }
  },
  "cells": [
    {
      "cell_type": "code",
      "metadata": {
        "colab": {
          "base_uri": "https://localhost:8080/",
          "height": 223
        },
        "id": "Pe7W2TolPWsE",
        "outputId": "1492cfd6-11b8-42e9-c893-460be66a03e3"
      },
      "source": [
        "%matplotlib inline\n",
        "import numpy as np\n",
        "import pandas as pd\n",
        "import matplotlib.pyplot as plt\n",
        "plt.rcParams['figure.figsize'] = (20,10.0)\n",
        "\n",
        "# Reading Data\n",
        "data = pd.read_csv('headbrain.csv')\n",
        "print(data.shape)\n",
        "data.head()"
      ],
      "execution_count": null,
      "outputs": [
        {
          "output_type": "stream",
          "text": [
            "(237, 4)\n"
          ],
          "name": "stdout"
        },
        {
          "output_type": "execute_result",
          "data": {
            "text/html": [
              "<div>\n",
              "<style scoped>\n",
              "    .dataframe tbody tr th:only-of-type {\n",
              "        vertical-align: middle;\n",
              "    }\n",
              "\n",
              "    .dataframe tbody tr th {\n",
              "        vertical-align: top;\n",
              "    }\n",
              "\n",
              "    .dataframe thead th {\n",
              "        text-align: right;\n",
              "    }\n",
              "</style>\n",
              "<table border=\"1\" class=\"dataframe\">\n",
              "  <thead>\n",
              "    <tr style=\"text-align: right;\">\n",
              "      <th></th>\n",
              "      <th>Gender</th>\n",
              "      <th>Age Range</th>\n",
              "      <th>Head Size(cm^3)</th>\n",
              "      <th>Brain Weight(grams)</th>\n",
              "    </tr>\n",
              "  </thead>\n",
              "  <tbody>\n",
              "    <tr>\n",
              "      <th>0</th>\n",
              "      <td>1</td>\n",
              "      <td>1</td>\n",
              "      <td>4512</td>\n",
              "      <td>1530</td>\n",
              "    </tr>\n",
              "    <tr>\n",
              "      <th>1</th>\n",
              "      <td>1</td>\n",
              "      <td>1</td>\n",
              "      <td>3738</td>\n",
              "      <td>1297</td>\n",
              "    </tr>\n",
              "    <tr>\n",
              "      <th>2</th>\n",
              "      <td>1</td>\n",
              "      <td>1</td>\n",
              "      <td>4261</td>\n",
              "      <td>1335</td>\n",
              "    </tr>\n",
              "    <tr>\n",
              "      <th>3</th>\n",
              "      <td>1</td>\n",
              "      <td>1</td>\n",
              "      <td>3777</td>\n",
              "      <td>1282</td>\n",
              "    </tr>\n",
              "    <tr>\n",
              "      <th>4</th>\n",
              "      <td>1</td>\n",
              "      <td>1</td>\n",
              "      <td>4177</td>\n",
              "      <td>1590</td>\n",
              "    </tr>\n",
              "  </tbody>\n",
              "</table>\n",
              "</div>"
            ],
            "text/plain": [
              "   Gender  Age Range  Head Size(cm^3)  Brain Weight(grams)\n",
              "0       1          1             4512                 1530\n",
              "1       1          1             3738                 1297\n",
              "2       1          1             4261                 1335\n",
              "3       1          1             3777                 1282\n",
              "4       1          1             4177                 1590"
            ]
          },
          "metadata": {
            "tags": []
          },
          "execution_count": 6
        }
      ]
    },
    {
      "cell_type": "code",
      "metadata": {
        "id": "lAc9FtPkYg6Z"
      },
      "source": [
        "X = data['Head Size(cm^3)'].values\n",
        "Y = data['Brain Weight(grams)'].values"
      ],
      "execution_count": null,
      "outputs": []
    },
    {
      "cell_type": "code",
      "metadata": {
        "colab": {
          "base_uri": "https://localhost:8080/"
        },
        "id": "K7EIBv-xgdYw",
        "outputId": "eddce08f-c003-4383-fad3-12dc9a95e8dc"
      },
      "source": [
        "# Mean X and Y\n",
        "mean_x = np.mean(X)\n",
        "mean_y = np.mean(Y)\n",
        "\n",
        "# Total number of values\n",
        "n = len(X)\n",
        "\n",
        "# Using the formula to calculate b1 and b2\n",
        "numer = 0\n",
        "denom = 0\n",
        "for i in range(n):\n",
        "  numer += (X[i] - mean_x) * (Y[i] - mean_y)\n",
        "  denom +=(X[i] - mean_x) ** 2\n",
        "b1 = numer / denom\n",
        "b0 = mean_y - (b1 * mean_x)\n",
        "\n",
        "# Print coefficients\n",
        "print(b1, b0)"
      ],
      "execution_count": null,
      "outputs": [
        {
          "output_type": "stream",
          "text": [
            "0.26342933948939945 325.57342104944223\n"
          ],
          "name": "stdout"
        }
      ]
    },
    {
      "cell_type": "code",
      "metadata": {
        "colab": {
          "base_uri": "https://localhost:8080/",
          "height": 332
        },
        "id": "XDw6vlrdhtWF",
        "outputId": "4c278eba-327d-4986-fa33-f6385b1b3528"
      },
      "source": [
        "# Plotting values and Regression Line\n",
        "max_x = np.max(X) + 100\n",
        "min_x = np.min(X) - 100\n",
        "\n",
        "# Calculating line values x and y\n",
        "x = np.linspace(min_x,max_x,1000)\n",
        "y = b0 + b1 * x\n",
        "\n",
        "# Ploting line\n",
        "plt.plot(x,y,color = '#58b970', label='Regression Line')\n",
        "# Ploting Scatter Points\n",
        "plt.scatter(X,Y,c='#ef5423',label = 'Scatter Plot')\n",
        "\n",
        "plt.xlabel('Head Size in cm3')\n",
        "plt.ylabel('Brain Weight in grams')\n",
        "plt.legend()\n",
        "plt.show()"
      ],
      "execution_count": null,
      "outputs": [
        {
          "output_type": "display_data",
          "data": {
            "image/png": "[encoded data removed]",
            "text/plain": [
              "<Figure size 1440x720 with 1 Axes>"
            ]
          },
          "metadata": {
            "tags": [],
            "needs_background": "light"
          }
        }
      ]
    },
    {
      "cell_type": "code",
      "metadata": {
        "colab": {
          "base_uri": "https://localhost:8080/"
        },
        "id": "-QGA8LDOmd36",
        "outputId": "492212a6-5b47-4278-9bd2-f8813ba61d76"
      },
      "source": [
        "ss_t = 0 # total sum of sq\n",
        "ss_r = 0 # total sum of sq of residual\n",
        "for i in  range(n):\n",
        "  y_pred = b0 + b1 * X[i]\n",
        "  ss_t += (Y[i] - mean_y) ** 2\n",
        "  ss_r += (Y[i] - y_pred) ** 2\n",
        "r2 = 1 - (ss_r/ss_t)\n",
        "print(r2)"
      ],
      "execution_count": null,
      "outputs": [
        {
          "output_type": "stream",
          "text": [
            "0.6393117199570003\n"
          ],
          "name": "stdout"
        }
      ]
    },
    {
      "cell_type": "code",
      "metadata": {
        "colab": {
          "base_uri": "https://localhost:8080/"
        },
        "id": "J9W0IVNCnAQy",
        "outputId": "a992f067-d34e-4c43-cf65-46a743ee73fe"
      },
      "source": [
        "from sklearn.linear_model import LinearRegression\n",
        "from sklearn.metrics import mean_squared_error\n",
        "\n",
        "# Cannot use Rank 1 matrix in scikit learn\n",
        "X = X.reshape((n,1))\n",
        "# Creating Model\n",
        "reg = LinearRegression()\n",
        "# Fitting training data\n",
        "reg = reg.fit(X,Y)\n",
        "# Y Prediction\n",
        "Y_pred = reg.predict(X)\n",
        "\n",
        "# Calculating R2 Score\n",
        "r2_score = reg.score(X, Y)\n",
        "\n",
        "print(r2_score)"
      ],
      "execution_count": null,
      "outputs": [
        {
          "output_type": "stream",
          "text": [
            "0.639311719957\n"
          ],
          "name": "stdout"
        }
      ]
    },
    {
      "cell_type": "code",
      "metadata": {
        "id": "CXuRInU7oJ1b"
      },
      "source": [
        ""
      ],
      "execution_count": null,
      "outputs": []
    }
  ]
}