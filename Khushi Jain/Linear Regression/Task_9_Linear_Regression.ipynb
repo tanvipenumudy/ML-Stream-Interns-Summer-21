{
  "nbformat": 4,
  "nbformat_minor": 0,
  "metadata": {
    "colab": {
      "name": "Task_9_Linear_Regression.ipynb",
      "provenance": [],
      "collapsed_sections": []
    },
    "kernelspec": {
      "name": "python3",
      "display_name": "Python 3"
    },
    "language_info": {
      "name": "python"
    }
  },
  "cells": [
    {
      "cell_type": "code",
      "metadata": {
        "id": "-2l144Y4vb-y"
      },
      "source": [
        "import numpy as np\n",
        "import pandas as pd\n",
        "import matplotlib.pyplot as plt\n",
        "import seaborn as sns\n",
        "import warnings\n",
        "warnings.filterwarnings('ignore')"
      ],
      "execution_count": 140,
      "outputs": []
    },
    {
      "cell_type": "markdown",
      "metadata": {
        "id": "u2uoOcuAsCDC"
      },
      "source": [
        "## Simple Linear Regression "
      ]
    },
    {
      "cell_type": "code",
      "metadata": {
        "colab": {
          "base_uri": "https://localhost:8080/",
          "height": 203
        },
        "id": "eUkJwQ-3v2Oc",
        "outputId": "6ffaf817-cbf3-4b13-8b56-71111ee8f8df"
      },
      "source": [
        "data = pd.read_csv('https://raw.githubusercontent.com/tanvipenumudy/ML-Stream-Interns-Summer-21/main/Khushi%20Jain/dataset.csv')\n",
        "data.head()"
      ],
      "execution_count": 222,
      "outputs": [
        {
          "output_type": "execute_result",
          "data": {
            "text/html": [
              "<div>\n",
              "<style scoped>\n",
              "    .dataframe tbody tr th:only-of-type {\n",
              "        vertical-align: middle;\n",
              "    }\n",
              "\n",
              "    .dataframe tbody tr th {\n",
              "        vertical-align: top;\n",
              "    }\n",
              "\n",
              "    .dataframe thead th {\n",
              "        text-align: right;\n",
              "    }\n",
              "</style>\n",
              "<table border=\"1\" class=\"dataframe\">\n",
              "  <thead>\n",
              "    <tr style=\"text-align: right;\">\n",
              "      <th></th>\n",
              "      <th>Gender</th>\n",
              "      <th>Age Range</th>\n",
              "      <th>Head Size(cm^3)</th>\n",
              "      <th>Brain Weight(grams)</th>\n",
              "    </tr>\n",
              "  </thead>\n",
              "  <tbody>\n",
              "    <tr>\n",
              "      <th>0</th>\n",
              "      <td>1</td>\n",
              "      <td>1</td>\n",
              "      <td>4512</td>\n",
              "      <td>1530</td>\n",
              "    </tr>\n",
              "    <tr>\n",
              "      <th>1</th>\n",
              "      <td>1</td>\n",
              "      <td>1</td>\n",
              "      <td>3738</td>\n",
              "      <td>1297</td>\n",
              "    </tr>\n",
              "    <tr>\n",
              "      <th>2</th>\n",
              "      <td>1</td>\n",
              "      <td>1</td>\n",
              "      <td>4261</td>\n",
              "      <td>1335</td>\n",
              "    </tr>\n",
              "    <tr>\n",
              "      <th>3</th>\n",
              "      <td>1</td>\n",
              "      <td>1</td>\n",
              "      <td>3777</td>\n",
              "      <td>1282</td>\n",
              "    </tr>\n",
              "    <tr>\n",
              "      <th>4</th>\n",
              "      <td>1</td>\n",
              "      <td>1</td>\n",
              "      <td>4177</td>\n",
              "      <td>1590</td>\n",
              "    </tr>\n",
              "  </tbody>\n",
              "</table>\n",
              "</div>"
            ],
            "text/plain": [
              "   Gender  Age Range  Head Size(cm^3)  Brain Weight(grams)\n",
              "0       1          1             4512                 1530\n",
              "1       1          1             3738                 1297\n",
              "2       1          1             4261                 1335\n",
              "3       1          1             3777                 1282\n",
              "4       1          1             4177                 1590"
            ]
          },
          "metadata": {
            "tags": []
          },
          "execution_count": 222
        }
      ]
    },
    {
      "cell_type": "code",
      "metadata": {
        "id": "ughTVDQCwNrJ",
        "colab": {
          "base_uri": "https://localhost:8080/",
          "height": 203
        },
        "outputId": "c53ba4ee-458c-4ac6-a8af-99d41d4d0a7c"
      },
      "source": [
        "data.rename(columns={\n",
        "    'Gender': 'gender',\n",
        "    'Age Range': 'age',\n",
        "    'Head Size(cm^3)': 'head_size',\n",
        "    'Brain Weight(grams)': 'brain_weight'\n",
        "}, inplace=True)\n",
        "data.head()"
      ],
      "execution_count": 223,
      "outputs": [
        {
          "output_type": "execute_result",
          "data": {
            "text/html": [
              "<div>\n",
              "<style scoped>\n",
              "    .dataframe tbody tr th:only-of-type {\n",
              "        vertical-align: middle;\n",
              "    }\n",
              "\n",
              "    .dataframe tbody tr th {\n",
              "        vertical-align: top;\n",
              "    }\n",
              "\n",
              "    .dataframe thead th {\n",
              "        text-align: right;\n",
              "    }\n",
              "</style>\n",
              "<table border=\"1\" class=\"dataframe\">\n",
              "  <thead>\n",
              "    <tr style=\"text-align: right;\">\n",
              "      <th></th>\n",
              "      <th>gender</th>\n",
              "      <th>age</th>\n",
              "      <th>head_size</th>\n",
              "      <th>brain_weight</th>\n",
              "    </tr>\n",
              "  </thead>\n",
              "  <tbody>\n",
              "    <tr>\n",
              "      <th>0</th>\n",
              "      <td>1</td>\n",
              "      <td>1</td>\n",
              "      <td>4512</td>\n",
              "      <td>1530</td>\n",
              "    </tr>\n",
              "    <tr>\n",
              "      <th>1</th>\n",
              "      <td>1</td>\n",
              "      <td>1</td>\n",
              "      <td>3738</td>\n",
              "      <td>1297</td>\n",
              "    </tr>\n",
              "    <tr>\n",
              "      <th>2</th>\n",
              "      <td>1</td>\n",
              "      <td>1</td>\n",
              "      <td>4261</td>\n",
              "      <td>1335</td>\n",
              "    </tr>\n",
              "    <tr>\n",
              "      <th>3</th>\n",
              "      <td>1</td>\n",
              "      <td>1</td>\n",
              "      <td>3777</td>\n",
              "      <td>1282</td>\n",
              "    </tr>\n",
              "    <tr>\n",
              "      <th>4</th>\n",
              "      <td>1</td>\n",
              "      <td>1</td>\n",
              "      <td>4177</td>\n",
              "      <td>1590</td>\n",
              "    </tr>\n",
              "  </tbody>\n",
              "</table>\n",
              "</div>"
            ],
            "text/plain": [
              "   gender  age  head_size  brain_weight\n",
              "0       1    1       4512          1530\n",
              "1       1    1       3738          1297\n",
              "2       1    1       4261          1335\n",
              "3       1    1       3777          1282\n",
              "4       1    1       4177          1590"
            ]
          },
          "metadata": {
            "tags": []
          },
          "execution_count": 223
        }
      ]
    },
    {
      "cell_type": "markdown",
      "metadata": {
        "id": "4Cg571lww1HK"
      },
      "source": [
        "## Data Preprocessing"
      ]
    },
    {
      "cell_type": "code",
      "metadata": {
        "id": "MSILPx_SYyi7",
        "colab": {
          "base_uri": "https://localhost:8080/"
        },
        "outputId": "f5373091-0108-4a55-9d21-8b4623c1bb6a"
      },
      "source": [
        "data.shape"
      ],
      "execution_count": 224,
      "outputs": [
        {
          "output_type": "execute_result",
          "data": {
            "text/plain": [
              "(237, 4)"
            ]
          },
          "metadata": {
            "tags": []
          },
          "execution_count": 224
        }
      ]
    },
    {
      "cell_type": "code",
      "metadata": {
        "id": "eSBTC8HpYyMb",
        "colab": {
          "base_uri": "https://localhost:8080/"
        },
        "outputId": "33415132-27c2-4a89-e423-8e5b9304f8ac"
      },
      "source": [
        "data.info()"
      ],
      "execution_count": 225,
      "outputs": [
        {
          "output_type": "stream",
          "text": [
            "<class 'pandas.core.frame.DataFrame'>\n",
            "RangeIndex: 237 entries, 0 to 236\n",
            "Data columns (total 4 columns):\n",
            " #   Column        Non-Null Count  Dtype\n",
            "---  ------        --------------  -----\n",
            " 0   gender        237 non-null    int64\n",
            " 1   age           237 non-null    int64\n",
            " 2   head_size     237 non-null    int64\n",
            " 3   brain_weight  237 non-null    int64\n",
            "dtypes: int64(4)\n",
            "memory usage: 7.5 KB\n"
          ],
          "name": "stdout"
        }
      ]
    },
    {
      "cell_type": "code",
      "metadata": {
        "id": "fwIVL7lYYyI9",
        "colab": {
          "base_uri": "https://localhost:8080/",
          "height": 295
        },
        "outputId": "020c6df6-e813-44f4-b42f-70a7c9d20b5d"
      },
      "source": [
        "data.describe()"
      ],
      "execution_count": 226,
      "outputs": [
        {
          "output_type": "execute_result",
          "data": {
            "text/html": [
              "<div>\n",
              "<style scoped>\n",
              "    .dataframe tbody tr th:only-of-type {\n",
              "        vertical-align: middle;\n",
              "    }\n",
              "\n",
              "    .dataframe tbody tr th {\n",
              "        vertical-align: top;\n",
              "    }\n",
              "\n",
              "    .dataframe thead th {\n",
              "        text-align: right;\n",
              "    }\n",
              "</style>\n",
              "<table border=\"1\" class=\"dataframe\">\n",
              "  <thead>\n",
              "    <tr style=\"text-align: right;\">\n",
              "      <th></th>\n",
              "      <th>gender</th>\n",
              "      <th>age</th>\n",
              "      <th>head_size</th>\n",
              "      <th>brain_weight</th>\n",
              "    </tr>\n",
              "  </thead>\n",
              "  <tbody>\n",
              "    <tr>\n",
              "      <th>count</th>\n",
              "      <td>237.000000</td>\n",
              "      <td>237.000000</td>\n",
              "      <td>237.000000</td>\n",
              "      <td>237.000000</td>\n",
              "    </tr>\n",
              "    <tr>\n",
              "      <th>mean</th>\n",
              "      <td>1.434599</td>\n",
              "      <td>1.535865</td>\n",
              "      <td>3633.991561</td>\n",
              "      <td>1282.873418</td>\n",
              "    </tr>\n",
              "    <tr>\n",
              "      <th>std</th>\n",
              "      <td>0.496753</td>\n",
              "      <td>0.499768</td>\n",
              "      <td>365.261422</td>\n",
              "      <td>120.340446</td>\n",
              "    </tr>\n",
              "    <tr>\n",
              "      <th>min</th>\n",
              "      <td>1.000000</td>\n",
              "      <td>1.000000</td>\n",
              "      <td>2720.000000</td>\n",
              "      <td>955.000000</td>\n",
              "    </tr>\n",
              "    <tr>\n",
              "      <th>25%</th>\n",
              "      <td>1.000000</td>\n",
              "      <td>1.000000</td>\n",
              "      <td>3389.000000</td>\n",
              "      <td>1207.000000</td>\n",
              "    </tr>\n",
              "    <tr>\n",
              "      <th>50%</th>\n",
              "      <td>1.000000</td>\n",
              "      <td>2.000000</td>\n",
              "      <td>3614.000000</td>\n",
              "      <td>1280.000000</td>\n",
              "    </tr>\n",
              "    <tr>\n",
              "      <th>75%</th>\n",
              "      <td>2.000000</td>\n",
              "      <td>2.000000</td>\n",
              "      <td>3876.000000</td>\n",
              "      <td>1350.000000</td>\n",
              "    </tr>\n",
              "    <tr>\n",
              "      <th>max</th>\n",
              "      <td>2.000000</td>\n",
              "      <td>2.000000</td>\n",
              "      <td>4747.000000</td>\n",
              "      <td>1635.000000</td>\n",
              "    </tr>\n",
              "  </tbody>\n",
              "</table>\n",
              "</div>"
            ],
            "text/plain": [
              "           gender         age    head_size  brain_weight\n",
              "count  237.000000  237.000000   237.000000    237.000000\n",
              "mean     1.434599    1.535865  3633.991561   1282.873418\n",
              "std      0.496753    0.499768   365.261422    120.340446\n",
              "min      1.000000    1.000000  2720.000000    955.000000\n",
              "25%      1.000000    1.000000  3389.000000   1207.000000\n",
              "50%      1.000000    2.000000  3614.000000   1280.000000\n",
              "75%      2.000000    2.000000  3876.000000   1350.000000\n",
              "max      2.000000    2.000000  4747.000000   1635.000000"
            ]
          },
          "metadata": {
            "tags": []
          },
          "execution_count": 226
        }
      ]
    },
    {
      "cell_type": "code",
      "metadata": {
        "id": "riHD7TagwoeQ",
        "colab": {
          "base_uri": "https://localhost:8080/"
        },
        "outputId": "4b2a398c-68fa-4a7a-d7c5-584911d0d6b2"
      },
      "source": [
        "data.isnull().sum()"
      ],
      "execution_count": 227,
      "outputs": [
        {
          "output_type": "execute_result",
          "data": {
            "text/plain": [
              "gender          0\n",
              "age             0\n",
              "head_size       0\n",
              "brain_weight    0\n",
              "dtype: int64"
            ]
          },
          "metadata": {
            "tags": []
          },
          "execution_count": 227
        }
      ]
    },
    {
      "cell_type": "code",
      "metadata": {
        "id": "WmNVoRN4wpwe"
      },
      "source": [
        "X = data['head_size'].values\n",
        "Y = data['brain_weight'].values"
      ],
      "execution_count": 228,
      "outputs": []
    },
    {
      "cell_type": "code",
      "metadata": {
        "id": "k1zr3y5Da1GB",
        "colab": {
          "base_uri": "https://localhost:8080/",
          "height": 265
        },
        "outputId": "f87c842e-157a-4277-8543-960e014c45a0"
      },
      "source": [
        "sns.scatterplot(X, Y)\n",
        "plt.show()"
      ],
      "execution_count": 229,
      "outputs": [
        {
          "output_type": "display_data",
          "data": {
            "image/png": "[encoded data removed]",
            "text/plain": [
              "<Figure size 432x288 with 1 Axes>"
            ]
          },
          "metadata": {
            "tags": [],
            "needs_background": "light"
          }
        }
      ]
    },
    {
      "cell_type": "code",
      "metadata": {
        "id": "uSRQHWDL3PhY"
      },
      "source": [
        ""
      ],
      "execution_count": 229,
      "outputs": []
    },
    {
      "cell_type": "markdown",
      "metadata": {
        "id": "Vu02vIvHbGco"
      },
      "source": [
        "## Plotting a regression line b/w head_size and brain_weight"
      ]
    },
    {
      "cell_type": "code",
      "metadata": {
        "id": "zI6nEm6Ma2WR"
      },
      "source": [
        "x_mean = np.mean(X)\n",
        "y_mean = np.mean(Y)"
      ],
      "execution_count": 230,
      "outputs": []
    },
    {
      "cell_type": "code",
      "metadata": {
        "id": "JLs6247NbVXM",
        "colab": {
          "base_uri": "https://localhost:8080/"
        },
        "outputId": "c61f351c-f156-484d-cb7e-418b6cd2c9f1"
      },
      "source": [
        "x_mean, y_mean"
      ],
      "execution_count": 231,
      "outputs": [
        {
          "output_type": "execute_result",
          "data": {
            "text/plain": [
              "(3633.9915611814345, 1282.873417721519)"
            ]
          },
          "metadata": {
            "tags": []
          },
          "execution_count": 231
        }
      ]
    },
    {
      "cell_type": "code",
      "metadata": {
        "id": "etScwki4bXpq",
        "colab": {
          "base_uri": "https://localhost:8080/"
        },
        "outputId": "ff6b6334-34cf-4973-d196-968aeb923150"
      },
      "source": [
        "n = data.shape[0]\n",
        "n"
      ],
      "execution_count": 232,
      "outputs": [
        {
          "output_type": "execute_result",
          "data": {
            "text/plain": [
              "237"
            ]
          },
          "metadata": {
            "tags": []
          },
          "execution_count": 232
        }
      ]
    },
    {
      "cell_type": "code",
      "metadata": {
        "id": "NSq-skUdbnCB"
      },
      "source": [
        "numerator = 0\n",
        "denominator = 0"
      ],
      "execution_count": 233,
      "outputs": []
    },
    {
      "cell_type": "markdown",
      "metadata": {
        "id": "KIPNW1mPiJM3"
      },
      "source": [
        "### Find coefficient and intercept value"
      ]
    },
    {
      "cell_type": "code",
      "metadata": {
        "id": "y4qGhe1bcSl7"
      },
      "source": [
        "for i in range(n):\n",
        "  numerator += ( (X[i]- x_mean) * (Y[i] - y_mean) )\n",
        "  denominator += (X[i]- x_mean)**2\n",
        "\n",
        "  coeff = numerator/denominator\n",
        "  intercept = y_mean - coeff * x_mean "
      ],
      "execution_count": 234,
      "outputs": []
    },
    {
      "cell_type": "code",
      "metadata": {
        "id": "9XSGVX9hdkgT",
        "colab": {
          "base_uri": "https://localhost:8080/"
        },
        "outputId": "f37f6969-73c2-4c40-f8b6-a0ef66ce037a"
      },
      "source": [
        "coeff, intercept"
      ],
      "execution_count": 235,
      "outputs": [
        {
          "output_type": "execute_result",
          "data": {
            "text/plain": [
              "(0.26342933948939945, 325.57342104944223)"
            ]
          },
          "metadata": {
            "tags": []
          },
          "execution_count": 235
        }
      ]
    },
    {
      "cell_type": "code",
      "metadata": {
        "id": "mKymm5Z6doYm"
      },
      "source": [
        "y_pred = coeff * X + intercept"
      ],
      "execution_count": 237,
      "outputs": []
    },
    {
      "cell_type": "markdown",
      "metadata": {
        "id": "GRxMcSwaiQN6"
      },
      "source": [
        "### Plot regression line"
      ]
    },
    {
      "cell_type": "code",
      "metadata": {
        "id": "OMWe4dN2eM3s",
        "colab": {
          "base_uri": "https://localhost:8080/",
          "height": 265
        },
        "outputId": "d9ae46a1-1d8d-40b7-b768-5c4ac7f649de"
      },
      "source": [
        "sns.scatterplot(X, Y)\n",
        "sns.lineplot(X, y_pred, color='r')\n",
        "plt.show()"
      ],
      "execution_count": 238,
      "outputs": [
        {
          "output_type": "display_data",
          "data": {
            "image/png": "[encoded data removed]",
            "text/plain": [
              "<Figure size 432x288 with 1 Axes>"
            ]
          },
          "metadata": {
            "tags": [],
            "needs_background": "light"
          }
        }
      ]
    },
    {
      "cell_type": "markdown",
      "metadata": {
        "id": "KGvTLzeQiVyj"
      },
      "source": [
        "### Find RMSE"
      ]
    },
    {
      "cell_type": "code",
      "metadata": {
        "id": "6Z6qQY3AejBh",
        "colab": {
          "base_uri": "https://localhost:8080/"
        },
        "outputId": "47ed5d17-c567-40e5-875b-abfdc933e0b2"
      },
      "source": [
        "SS = 0\n",
        "for i in range(n):\n",
        "  SS += (Y[i]-y_pred[i])**2\n",
        "\n",
        "RMSE = np.sqrt(SS/n)\n",
        "RMSE"
      ],
      "execution_count": 239,
      "outputs": [
        {
          "output_type": "execute_result",
          "data": {
            "text/plain": [
              "72.1206213783709"
            ]
          },
          "metadata": {
            "tags": []
          },
          "execution_count": 239
        }
      ]
    },
    {
      "cell_type": "markdown",
      "metadata": {
        "id": "eJ-HGfAeiZAe"
      },
      "source": [
        "### Find R-squared value"
      ]
    },
    {
      "cell_type": "code",
      "metadata": {
        "id": "RZQV5PHwg736",
        "colab": {
          "base_uri": "https://localhost:8080/"
        },
        "outputId": "3cb108fa-d552-46ca-b148-24b6707eb1be"
      },
      "source": [
        "nume = 0\n",
        "deno = 0\n",
        "\n",
        "for i in range(n):\n",
        "  nume += (y_pred[i]-y_mean)**2\n",
        "  deno += (Y[i]-y_mean)**2\n",
        "r2 = nume/deno\n",
        "r2"
      ],
      "execution_count": 240,
      "outputs": [
        {
          "output_type": "execute_result",
          "data": {
            "text/plain": [
              "0.6393117199570001"
            ]
          },
          "metadata": {
            "tags": []
          },
          "execution_count": 240
        }
      ]
    },
    {
      "cell_type": "markdown",
      "metadata": {
        "id": "c4bV5IpbrXl1"
      },
      "source": [
        "## Multi-variate Linear Regression without sklearn\n",
        "\n",
        "Mathematical equation: https://www.coursera.org/lecture/machine-learning/gradient-descent-for-multiple-variables-Z9DKX\n",
        "\n",
        "Code: https://medium.com/we-are-orb/multivariate-linear-regression-in-python-without-scikit-learn-7091b1d45905\n",
        "\n",
        "Broadcasting: https://jakevdp.github.io/PythonDataScienceHandbook/02.05-computation-on-arrays-broadcasting.html"
      ]
    },
    {
      "cell_type": "code",
      "metadata": {
        "colab": {
          "base_uri": "https://localhost:8080/",
          "height": 203
        },
        "id": "ot7CX4BrnddG",
        "outputId": "ddb1063b-ca33-402e-fc7a-6e2c716d4308"
      },
      "source": [
        "data = pd.read_csv('https://raw.githubusercontent.com/tanvipenumudy/ML-Stream-Interns-Summer-21/main/Khushi%20Jain/multi-variate-LR-dataset.txt', names=['size', 'bedroom', 'price'])\n",
        "data.head()"
      ],
      "execution_count": 203,
      "outputs": [
        {
          "output_type": "execute_result",
          "data": {
            "text/html": [
              "<div>\n",
              "<style scoped>\n",
              "    .dataframe tbody tr th:only-of-type {\n",
              "        vertical-align: middle;\n",
              "    }\n",
              "\n",
              "    .dataframe tbody tr th {\n",
              "        vertical-align: top;\n",
              "    }\n",
              "\n",
              "    .dataframe thead th {\n",
              "        text-align: right;\n",
              "    }\n",
              "</style>\n",
              "<table border=\"1\" class=\"dataframe\">\n",
              "  <thead>\n",
              "    <tr style=\"text-align: right;\">\n",
              "      <th></th>\n",
              "      <th>size</th>\n",
              "      <th>bedroom</th>\n",
              "      <th>price</th>\n",
              "    </tr>\n",
              "  </thead>\n",
              "  <tbody>\n",
              "    <tr>\n",
              "      <th>0</th>\n",
              "      <td>2104</td>\n",
              "      <td>3</td>\n",
              "      <td>399900</td>\n",
              "    </tr>\n",
              "    <tr>\n",
              "      <th>1</th>\n",
              "      <td>1600</td>\n",
              "      <td>3</td>\n",
              "      <td>329900</td>\n",
              "    </tr>\n",
              "    <tr>\n",
              "      <th>2</th>\n",
              "      <td>2400</td>\n",
              "      <td>3</td>\n",
              "      <td>369000</td>\n",
              "    </tr>\n",
              "    <tr>\n",
              "      <th>3</th>\n",
              "      <td>1416</td>\n",
              "      <td>2</td>\n",
              "      <td>232000</td>\n",
              "    </tr>\n",
              "    <tr>\n",
              "      <th>4</th>\n",
              "      <td>3000</td>\n",
              "      <td>4</td>\n",
              "      <td>539900</td>\n",
              "    </tr>\n",
              "  </tbody>\n",
              "</table>\n",
              "</div>"
            ],
            "text/plain": [
              "   size  bedroom   price\n",
              "0  2104        3  399900\n",
              "1  1600        3  329900\n",
              "2  2400        3  369000\n",
              "3  1416        2  232000\n",
              "4  3000        4  539900"
            ]
          },
          "metadata": {
            "tags": []
          },
          "execution_count": 203
        }
      ]
    },
    {
      "cell_type": "markdown",
      "metadata": {
        "id": "zT7AjJUNwSsd"
      },
      "source": [
        "## Feature Scaling"
      ]
    },
    {
      "cell_type": "code",
      "metadata": {
        "id": "wfRSFbpFs33z"
      },
      "source": [
        "for column in data.columns[:2]:\n",
        "  \n",
        "  data[column] = (data[column]-data[column].mean()) / data[column].std()"
      ],
      "execution_count": 204,
      "outputs": []
    },
    {
      "cell_type": "code",
      "metadata": {
        "colab": {
          "base_uri": "https://localhost:8080/",
          "height": 203
        },
        "id": "KHCpgPDatMYl",
        "outputId": "0ebe606c-b5a1-4f0e-a19e-37d0fd444d4f"
      },
      "source": [
        "data.head()"
      ],
      "execution_count": 205,
      "outputs": [
        {
          "output_type": "execute_result",
          "data": {
            "text/html": [
              "<div>\n",
              "<style scoped>\n",
              "    .dataframe tbody tr th:only-of-type {\n",
              "        vertical-align: middle;\n",
              "    }\n",
              "\n",
              "    .dataframe tbody tr th {\n",
              "        vertical-align: top;\n",
              "    }\n",
              "\n",
              "    .dataframe thead th {\n",
              "        text-align: right;\n",
              "    }\n",
              "</style>\n",
              "<table border=\"1\" class=\"dataframe\">\n",
              "  <thead>\n",
              "    <tr style=\"text-align: right;\">\n",
              "      <th></th>\n",
              "      <th>size</th>\n",
              "      <th>bedroom</th>\n",
              "      <th>price</th>\n",
              "    </tr>\n",
              "  </thead>\n",
              "  <tbody>\n",
              "    <tr>\n",
              "      <th>0</th>\n",
              "      <td>0.130010</td>\n",
              "      <td>-0.223675</td>\n",
              "      <td>399900</td>\n",
              "    </tr>\n",
              "    <tr>\n",
              "      <th>1</th>\n",
              "      <td>-0.504190</td>\n",
              "      <td>-0.223675</td>\n",
              "      <td>329900</td>\n",
              "    </tr>\n",
              "    <tr>\n",
              "      <th>2</th>\n",
              "      <td>0.502476</td>\n",
              "      <td>-0.223675</td>\n",
              "      <td>369000</td>\n",
              "    </tr>\n",
              "    <tr>\n",
              "      <th>3</th>\n",
              "      <td>-0.735723</td>\n",
              "      <td>-1.537767</td>\n",
              "      <td>232000</td>\n",
              "    </tr>\n",
              "    <tr>\n",
              "      <th>4</th>\n",
              "      <td>1.257476</td>\n",
              "      <td>1.090417</td>\n",
              "      <td>539900</td>\n",
              "    </tr>\n",
              "  </tbody>\n",
              "</table>\n",
              "</div>"
            ],
            "text/plain": [
              "       size   bedroom   price\n",
              "0  0.130010 -0.223675  399900\n",
              "1 -0.504190 -0.223675  329900\n",
              "2  0.502476 -0.223675  369000\n",
              "3 -0.735723 -1.537767  232000\n",
              "4  1.257476  1.090417  539900"
            ]
          },
          "metadata": {
            "tags": []
          },
          "execution_count": 205
        }
      ]
    },
    {
      "cell_type": "markdown",
      "metadata": {
        "id": "1fMJHXl7y1nK"
      },
      "source": [
        "### Create Matrices"
      ]
    },
    {
      "cell_type": "code",
      "metadata": {
        "id": "JJCeAAMetske"
      },
      "source": [
        "X = data.iloc[:, :2].values\n",
        "Y = data.iloc[:, 2:].values\n",
        "# data.iloc[:, 2:] makes (47, 1) 2d \n",
        "# data.iloc[:, 2] makes (47, ) 1d"
      ],
      "execution_count": 206,
      "outputs": []
    },
    {
      "cell_type": "code",
      "metadata": {
        "id": "BtbwpdlnxP40"
      },
      "source": [
        "# x-matrix\n",
        "# y = C*X0 + m1*X1 + m2*X2\n",
        "# here we are taking X0 = 1\n",
        "x0_ones = np.ones((data.shape[0], 1))\n",
        "X = np.concatenate( (X, x0_ones), axis=1 )"
      ],
      "execution_count": 207,
      "outputs": []
    },
    {
      "cell_type": "code",
      "metadata": {
        "colab": {
          "base_uri": "https://localhost:8080/"
        },
        "id": "hlRWwvJ3Yek2",
        "outputId": "9f80eb07-9f3b-4509-bda9-7350fb2f4f45"
      },
      "source": [
        "X[:4]"
      ],
      "execution_count": 208,
      "outputs": [
        {
          "output_type": "execute_result",
          "data": {
            "text/plain": [
              "array([[ 0.13000987, -0.22367519,  1.        ],\n",
              "       [-0.50418984, -0.22367519,  1.        ],\n",
              "       [ 0.50247636, -0.22367519,  1.        ],\n",
              "       [-0.73572306, -1.53776691,  1.        ]])"
            ]
          },
          "metadata": {
            "tags": []
          },
          "execution_count": 208
        }
      ]
    },
    {
      "cell_type": "code",
      "metadata": {
        "colab": {
          "base_uri": "https://localhost:8080/"
        },
        "id": "25tTkdVryNY2",
        "outputId": "110282cd-c634-43e7-c34b-6b79d27a0486"
      },
      "source": [
        "# coefficients matrix\n",
        "theta = np.zeros((1, 3))\n",
        "theta"
      ],
      "execution_count": 209,
      "outputs": [
        {
          "output_type": "execute_result",
          "data": {
            "text/plain": [
              "array([[0., 0., 0.]])"
            ]
          },
          "metadata": {
            "tags": []
          },
          "execution_count": 209
        }
      ]
    },
    {
      "cell_type": "markdown",
      "metadata": {
        "id": "UWUF9ijIzHKw"
      },
      "source": [
        "### Hyperparameters"
      ]
    },
    {
      "cell_type": "code",
      "metadata": {
        "id": "WYTyma_vyc0r"
      },
      "source": [
        "alpha = 0.01\n",
        "iterations = 1000"
      ],
      "execution_count": 210,
      "outputs": []
    },
    {
      "cell_type": "markdown",
      "metadata": {
        "id": "D_a4wAhezOYi"
      },
      "source": [
        "### Cost function"
      ]
    },
    {
      "cell_type": "code",
      "metadata": {
        "colab": {
          "base_uri": "https://localhost:8080/"
        },
        "id": "IpCcdADaFCo8",
        "outputId": "0742d7b6-4c40-446c-c91a-903353958c52"
      },
      "source": [
        "n = X.shape[0]\n",
        "n"
      ],
      "execution_count": 211,
      "outputs": [
        {
          "output_type": "execute_result",
          "data": {
            "text/plain": [
              "47"
            ]
          },
          "metadata": {
            "tags": []
          },
          "execution_count": 211
        }
      ]
    },
    {
      "cell_type": "code",
      "metadata": {
        "colab": {
          "base_uri": "https://localhost:8080/"
        },
        "id": "JcIi8_yhfSGm",
        "outputId": "b7899d62-885f-47fe-cee2-5208cfda9528"
      },
      "source": [
        "theta.T"
      ],
      "execution_count": 212,
      "outputs": [
        {
          "output_type": "execute_result",
          "data": {
            "text/plain": [
              "array([[0.],\n",
              "       [0.],\n",
              "       [0.]])"
            ]
          },
          "metadata": {
            "tags": []
          },
          "execution_count": 212
        }
      ]
    },
    {
      "cell_type": "code",
      "metadata": {
        "colab": {
          "base_uri": "https://localhost:8080/"
        },
        "id": "k6mz8U4xzKPu",
        "outputId": "848fb1f3-b26f-4158-cc42-ac64e95fc50c"
      },
      "source": [
        "print(X.shape)\n",
        "print(Y.shape)\n",
        "print(theta.shape)"
      ],
      "execution_count": 213,
      "outputs": [
        {
          "output_type": "stream",
          "text": [
            "(47, 3)\n",
            "(47, 1)\n",
            "(1, 3)\n"
          ],
          "name": "stdout"
        }
      ]
    },
    {
      "cell_type": "code",
      "metadata": {
        "id": "FTnvUoKWy6YU"
      },
      "source": [
        "def compute_cost(X, Y, theta):\n",
        "  residual_sq = (( X @ theta.T ) - Y )**2\n",
        "  sum_residual_sq = np.sum(residual_sq)\n",
        "  return (sum_residual_sq/(2*n))"
      ],
      "execution_count": 214,
      "outputs": []
    },
    {
      "cell_type": "markdown",
      "metadata": {
        "id": "Wmdv7Xe_FK9a"
      },
      "source": [
        "### Gradient descent"
      ]
    },
    {
      "cell_type": "code",
      "metadata": {
        "id": "RoEk7GaTy6Ur"
      },
      "source": [
        "def gradient_descent(X, Y, theta, iterations, alpha):\n",
        "\n",
        "  cost = np.zeros(iterations)\n",
        "  for i in range(iterations):\n",
        "    theta = theta - (alpha/n) * np.sum( (X* ((X @ theta.T) - Y) ), axis = 0)\n",
        "    cost[i] = compute_cost(X, Y, theta)\n",
        "  return (theta, cost)"
      ],
      "execution_count": 215,
      "outputs": []
    },
    {
      "cell_type": "code",
      "metadata": {
        "id": "sC8xzaOgy6SV"
      },
      "source": [
        "coeff, cost = gradient_descent(X, Y, theta, iterations, alpha)"
      ],
      "execution_count": 216,
      "outputs": []
    },
    {
      "cell_type": "code",
      "metadata": {
        "id": "-I6jRdroy6QK",
        "colab": {
          "base_uri": "https://localhost:8080/"
        },
        "outputId": "a1e1e6a0-bf13-4293-9f24-6cd67fbeb2d7"
      },
      "source": [
        "coeff"
      ],
      "execution_count": 217,
      "outputs": [
        {
          "output_type": "execute_result",
          "data": {
            "text/plain": [
              "array([[109848.00846026,  -5866.45408497, 340397.96353532]])"
            ]
          },
          "metadata": {
            "tags": []
          },
          "execution_count": 217
        }
      ]
    },
    {
      "cell_type": "code",
      "metadata": {
        "colab": {
          "base_uri": "https://localhost:8080/"
        },
        "id": "cgu5KrVyy6Nq",
        "outputId": "25f156fc-b5b4-416c-cdb3-ba166e489b38"
      },
      "source": [
        "cost[999]"
      ],
      "execution_count": 218,
      "outputs": [
        {
          "output_type": "execute_result",
          "data": {
            "text/plain": [
              "2043544218.7812893"
            ]
          },
          "metadata": {
            "tags": []
          },
          "execution_count": 218
        }
      ]
    },
    {
      "cell_type": "code",
      "metadata": {
        "colab": {
          "base_uri": "https://localhost:8080/"
        },
        "id": "Q8iM9L5ZBv_w",
        "outputId": "42849e5a-8009-42ff-c73c-8d0dde718f75"
      },
      "source": [
        "print(coeff.shape)\n",
        "print(X.shape)"
      ],
      "execution_count": 219,
      "outputs": [
        {
          "output_type": "stream",
          "text": [
            "(1, 3)\n",
            "(47, 3)\n"
          ],
          "name": "stdout"
        }
      ]
    },
    {
      "cell_type": "code",
      "metadata": {
        "colab": {
          "base_uri": "https://localhost:8080/"
        },
        "id": "mUI6hRQ79DDc",
        "outputId": "87fec07f-fc05-4970-efbb-bffa6c700622"
      },
      "source": [
        "y_pred = np.sum(coeff * X, axis=1)\n",
        "y_pred"
      ],
      "execution_count": 220,
      "outputs": [
        {
          "output_type": "execute_result",
          "data": {
            "text/plain": [
              "array([355991.46894881, 286325.89413608, 396906.1716166 , 268601.48908145,\n",
              "       472132.32096111, 331833.59390769, 277203.02124393, 262412.90913091,\n",
              "       255916.31782893, 271674.00736991, 325613.45329941, 341616.03287634,\n",
              "       326411.24472277, 668720.32484049, 240435.07898166, 375374.57816564,\n",
              "       255331.85578378, 236011.86788244, 418086.2103425 , 476417.30671348,\n",
              "       309409.52706014, 333843.85279496, 286878.79552348, 328654.41093012,\n",
              "       602861.93842409, 217213.22071075, 266697.89488328, 414322.56531979,\n",
              "       369261.10224647, 429665.57882021, 327070.81079928, 218808.80355747,\n",
              "       339435.98798447, 498778.25224554, 307782.38355567, 263795.16259942,\n",
              "       236426.54392299, 352152.71989473, 640076.11738466, 356299.48030025,\n",
              "       302881.37510041, 374513.6654268 , 412280.74577477, 231035.75539581,\n",
              "       190642.39345768, 313449.62277655, 231450.43143636])"
            ]
          },
          "metadata": {
            "tags": []
          },
          "execution_count": 220
        }
      ]
    },
    {
      "cell_type": "code",
      "metadata": {
        "colab": {
          "base_uri": "https://localhost:8080/"
        },
        "id": "9HP8CO9JCAa4",
        "outputId": "97167eac-efe5-4b05-bbe7-4b8578d3358f"
      },
      "source": [
        "nume = 0\n",
        "deno = 0\n",
        "\n",
        "for i in range(n):\n",
        "  nume += (y_pred[i]-Y.mean())**2\n",
        "  deno += (Y[i]-Y.mean())**2\n",
        "r2 = nume/deno\n",
        "print(\"R-squared\", r2)"
      ],
      "execution_count": 221,
      "outputs": [
        {
          "output_type": "stream",
          "text": [
            "R-squared [0.72781013]\n"
          ],
          "name": "stdout"
        }
      ]
    },
    {
      "cell_type": "code",
      "metadata": {
        "id": "BvmgQdo3DEKQ"
      },
      "source": [
        ""
      ],
      "execution_count": 221,
      "outputs": []
    }
  ]
}