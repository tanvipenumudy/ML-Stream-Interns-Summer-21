{
  "nbformat": 4,
  "nbformat_minor": 0,
  "metadata": {
    "colab": {
      "name": "Decision_Tree_ From_Scratch.ipynb",
      "provenance": [],
      "collapsed_sections": []
    },
    "kernelspec": {
      "name": "python3",
      "display_name": "Python 3"
    },
    "language_info": {
      "name": "python"
    }
  },
  "cells": [
    {
      "cell_type": "markdown",
      "metadata": {
        "id": "R6-atubDE5ZU"
      },
      "source": [
        "## Import libraries"
      ]
    },
    {
      "cell_type": "code",
      "metadata": {
        "id": "1_D8UWQm7UpK"
      },
      "source": [
        "import numpy as np\n",
        "import matplotlib.pyplot as plt\n",
        "import seaborn as sns\n",
        "import pandas as pd\n",
        "import warnings\n",
        "import random\n",
        "from pprint import pprint\n",
        "warnings.filterwarnings('ignore')"
      ],
      "execution_count": null,
      "outputs": []
    },
    {
      "cell_type": "markdown",
      "metadata": {
        "id": "-2BxyCutE8L8"
      },
      "source": [
        "## Import dataset\n"
      ]
    },
    {
      "cell_type": "code",
      "metadata": {
        "colab": {
          "base_uri": "https://localhost:8080/",
          "height": 203
        },
        "id": "pehdQMlQEoUL",
        "outputId": "201ff372-9f93-4cb3-d21e-6f501c0fdd23"
      },
      "source": [
        "df = sns.load_dataset('iris')\n",
        "df.head()"
      ],
      "execution_count": null,
      "outputs": [
        {
          "output_type": "execute_result",
          "data": {
            "text/html": [
              "<div>\n",
              "<style scoped>\n",
              "    .dataframe tbody tr th:only-of-type {\n",
              "        vertical-align: middle;\n",
              "    }\n",
              "\n",
              "    .dataframe tbody tr th {\n",
              "        vertical-align: top;\n",
              "    }\n",
              "\n",
              "    .dataframe thead th {\n",
              "        text-align: right;\n",
              "    }\n",
              "</style>\n",
              "<table border=\"1\" class=\"dataframe\">\n",
              "  <thead>\n",
              "    <tr style=\"text-align: right;\">\n",
              "      <th></th>\n",
              "      <th>sepal_length</th>\n",
              "      <th>sepal_width</th>\n",
              "      <th>petal_length</th>\n",
              "      <th>petal_width</th>\n",
              "      <th>species</th>\n",
              "    </tr>\n",
              "  </thead>\n",
              "  <tbody>\n",
              "    <tr>\n",
              "      <th>0</th>\n",
              "      <td>5.1</td>\n",
              "      <td>3.5</td>\n",
              "      <td>1.4</td>\n",
              "      <td>0.2</td>\n",
              "      <td>setosa</td>\n",
              "    </tr>\n",
              "    <tr>\n",
              "      <th>1</th>\n",
              "      <td>4.9</td>\n",
              "      <td>3.0</td>\n",
              "      <td>1.4</td>\n",
              "      <td>0.2</td>\n",
              "      <td>setosa</td>\n",
              "    </tr>\n",
              "    <tr>\n",
              "      <th>2</th>\n",
              "      <td>4.7</td>\n",
              "      <td>3.2</td>\n",
              "      <td>1.3</td>\n",
              "      <td>0.2</td>\n",
              "      <td>setosa</td>\n",
              "    </tr>\n",
              "    <tr>\n",
              "      <th>3</th>\n",
              "      <td>4.6</td>\n",
              "      <td>3.1</td>\n",
              "      <td>1.5</td>\n",
              "      <td>0.2</td>\n",
              "      <td>setosa</td>\n",
              "    </tr>\n",
              "    <tr>\n",
              "      <th>4</th>\n",
              "      <td>5.0</td>\n",
              "      <td>3.6</td>\n",
              "      <td>1.4</td>\n",
              "      <td>0.2</td>\n",
              "      <td>setosa</td>\n",
              "    </tr>\n",
              "  </tbody>\n",
              "</table>\n",
              "</div>"
            ],
            "text/plain": [
              "   sepal_length  sepal_width  petal_length  petal_width species\n",
              "0           5.1          3.5           1.4          0.2  setosa\n",
              "1           4.9          3.0           1.4          0.2  setosa\n",
              "2           4.7          3.2           1.3          0.2  setosa\n",
              "3           4.6          3.1           1.5          0.2  setosa\n",
              "4           5.0          3.6           1.4          0.2  setosa"
            ]
          },
          "metadata": {
            "tags": []
          },
          "execution_count": 2
        }
      ]
    },
    {
      "cell_type": "code",
      "metadata": {
        "id": "oa38fWdDG1Fj"
      },
      "source": [
        "df.rename(columns={'species': 'target'}, inplace=True)"
      ],
      "execution_count": null,
      "outputs": []
    },
    {
      "cell_type": "code",
      "metadata": {
        "colab": {
          "base_uri": "https://localhost:8080/"
        },
        "id": "DtSiAgRaGnI8",
        "outputId": "f76558f9-5aef-451f-cdb0-ea7cf01203bf"
      },
      "source": [
        "df.shape"
      ],
      "execution_count": null,
      "outputs": [
        {
          "output_type": "execute_result",
          "data": {
            "text/plain": [
              "(150, 5)"
            ]
          },
          "metadata": {
            "tags": []
          },
          "execution_count": 4
        }
      ]
    },
    {
      "cell_type": "code",
      "metadata": {
        "colab": {
          "base_uri": "https://localhost:8080/"
        },
        "id": "P_QIKwiuGtGn",
        "outputId": "42e0700f-e9bc-4e81-e61a-f250e55118f3"
      },
      "source": [
        "df.info()"
      ],
      "execution_count": null,
      "outputs": [
        {
          "output_type": "stream",
          "text": [
            "<class 'pandas.core.frame.DataFrame'>\n",
            "RangeIndex: 150 entries, 0 to 149\n",
            "Data columns (total 5 columns):\n",
            " #   Column        Non-Null Count  Dtype  \n",
            "---  ------        --------------  -----  \n",
            " 0   sepal_length  150 non-null    float64\n",
            " 1   sepal_width   150 non-null    float64\n",
            " 2   petal_length  150 non-null    float64\n",
            " 3   petal_width   150 non-null    float64\n",
            " 4   target        150 non-null    object \n",
            "dtypes: float64(4), object(1)\n",
            "memory usage: 6.0+ KB\n"
          ],
          "name": "stdout"
        }
      ]
    },
    {
      "cell_type": "markdown",
      "metadata": {
        "id": "dEvO25eRCYyl"
      },
      "source": [
        "No missing values"
      ]
    },
    {
      "cell_type": "code",
      "metadata": {
        "colab": {
          "base_uri": "https://localhost:8080/",
          "height": 295
        },
        "id": "xgqLLZ6mGwLf",
        "outputId": "32e865b9-6089-45e8-8e55-dcb3574ed488"
      },
      "source": [
        "df.describe()"
      ],
      "execution_count": null,
      "outputs": [
        {
          "output_type": "execute_result",
          "data": {
            "text/html": [
              "<div>\n",
              "<style scoped>\n",
              "    .dataframe tbody tr th:only-of-type {\n",
              "        vertical-align: middle;\n",
              "    }\n",
              "\n",
              "    .dataframe tbody tr th {\n",
              "        vertical-align: top;\n",
              "    }\n",
              "\n",
              "    .dataframe thead th {\n",
              "        text-align: right;\n",
              "    }\n",
              "</style>\n",
              "<table border=\"1\" class=\"dataframe\">\n",
              "  <thead>\n",
              "    <tr style=\"text-align: right;\">\n",
              "      <th></th>\n",
              "      <th>sepal_length</th>\n",
              "      <th>sepal_width</th>\n",
              "      <th>petal_length</th>\n",
              "      <th>petal_width</th>\n",
              "    </tr>\n",
              "  </thead>\n",
              "  <tbody>\n",
              "    <tr>\n",
              "      <th>count</th>\n",
              "      <td>150.000000</td>\n",
              "      <td>150.000000</td>\n",
              "      <td>150.000000</td>\n",
              "      <td>150.000000</td>\n",
              "    </tr>\n",
              "    <tr>\n",
              "      <th>mean</th>\n",
              "      <td>5.843333</td>\n",
              "      <td>3.057333</td>\n",
              "      <td>3.758000</td>\n",
              "      <td>1.199333</td>\n",
              "    </tr>\n",
              "    <tr>\n",
              "      <th>std</th>\n",
              "      <td>0.828066</td>\n",
              "      <td>0.435866</td>\n",
              "      <td>1.765298</td>\n",
              "      <td>0.762238</td>\n",
              "    </tr>\n",
              "    <tr>\n",
              "      <th>min</th>\n",
              "      <td>4.300000</td>\n",
              "      <td>2.000000</td>\n",
              "      <td>1.000000</td>\n",
              "      <td>0.100000</td>\n",
              "    </tr>\n",
              "    <tr>\n",
              "      <th>25%</th>\n",
              "      <td>5.100000</td>\n",
              "      <td>2.800000</td>\n",
              "      <td>1.600000</td>\n",
              "      <td>0.300000</td>\n",
              "    </tr>\n",
              "    <tr>\n",
              "      <th>50%</th>\n",
              "      <td>5.800000</td>\n",
              "      <td>3.000000</td>\n",
              "      <td>4.350000</td>\n",
              "      <td>1.300000</td>\n",
              "    </tr>\n",
              "    <tr>\n",
              "      <th>75%</th>\n",
              "      <td>6.400000</td>\n",
              "      <td>3.300000</td>\n",
              "      <td>5.100000</td>\n",
              "      <td>1.800000</td>\n",
              "    </tr>\n",
              "    <tr>\n",
              "      <th>max</th>\n",
              "      <td>7.900000</td>\n",
              "      <td>4.400000</td>\n",
              "      <td>6.900000</td>\n",
              "      <td>2.500000</td>\n",
              "    </tr>\n",
              "  </tbody>\n",
              "</table>\n",
              "</div>"
            ],
            "text/plain": [
              "       sepal_length  sepal_width  petal_length  petal_width\n",
              "count    150.000000   150.000000    150.000000   150.000000\n",
              "mean       5.843333     3.057333      3.758000     1.199333\n",
              "std        0.828066     0.435866      1.765298     0.762238\n",
              "min        4.300000     2.000000      1.000000     0.100000\n",
              "25%        5.100000     2.800000      1.600000     0.300000\n",
              "50%        5.800000     3.000000      4.350000     1.300000\n",
              "75%        6.400000     3.300000      5.100000     1.800000\n",
              "max        7.900000     4.400000      6.900000     2.500000"
            ]
          },
          "metadata": {
            "tags": []
          },
          "execution_count": 6
        }
      ]
    },
    {
      "cell_type": "markdown",
      "metadata": {
        "id": "kl_AwwE1HIKu"
      },
      "source": [
        "#### Feature Scaling not required in decision tree"
      ]
    },
    {
      "cell_type": "markdown",
      "metadata": {
        "id": "ZpyB1ur-HNGf"
      },
      "source": [
        "## Train Test Split "
      ]
    },
    {
      "cell_type": "code",
      "metadata": {
        "id": "UuxEE3F2GyMs"
      },
      "source": [
        "def train_test_split(df, test_size):\n",
        "\n",
        "  if isinstance(test_size, float):\n",
        "    test_size = round(test_size*len(df))\n",
        "  \n",
        "  indices = df.index.tolist() # random.sample takes list, set, dictionary\n",
        "  test_indices = random.sample(population=indices, k=test_size)\n",
        "\n",
        "  test = df.loc[test_indices]\n",
        "  train = df.drop(test_indices)\n",
        "\n",
        "  return train, test"
      ],
      "execution_count": null,
      "outputs": []
    },
    {
      "cell_type": "markdown",
      "metadata": {
        "id": "CzfNVJ8IENwz"
      },
      "source": [
        "## Check purity of a node (Contains instance of only one class or not)"
      ]
    },
    {
      "cell_type": "code",
      "metadata": {
        "id": "XytobposDg7_"
      },
      "source": [
        "def check_purity(data):\n",
        "  unique_labels = np.unique(data[:, -1])\n",
        "  if len(unique_labels) == 1:\n",
        "    return True\n",
        "  return False"
      ],
      "execution_count": null,
      "outputs": []
    },
    {
      "cell_type": "markdown",
      "metadata": {
        "id": "7zhQiWA_Mu69"
      },
      "source": [
        "## Classify\n",
        "#### Define a function that decides the predicted class label in a leaf node based on maximum frequency"
      ]
    },
    {
      "cell_type": "code",
      "metadata": {
        "id": "U4dCFOVkHtDF"
      },
      "source": [
        "def classify_data(data):\n",
        "\n",
        "  unique, count_unique = np.unique(data[:, -1], return_counts=True)\n",
        "  \n",
        "  index = count_unique.argmax()\n",
        "  classification = unique[index]\n",
        "\n",
        "  return classification"
      ],
      "execution_count": null,
      "outputs": []
    },
    {
      "cell_type": "markdown",
      "metadata": {
        "id": "zzog5E1JSfqI"
      },
      "source": [
        "## Define a potential splits function\n",
        "Potential splits is a dictionary containing all the values where we split a node and check its entropy\n",
        "\n",
        "For continuous value, find mean of two consecutive values (of 2 unique consecutive)"
      ]
    },
    {
      "cell_type": "code",
      "metadata": {
        "id": "O_6ZGdI2SIJZ"
      },
      "source": [
        "def get_potential_splits(data):\n",
        "    \n",
        "    potential_splits = {}\n",
        "    for column in range(data.shape[1] - 1):\n",
        "\n",
        "        unique_values = np.unique(data[:, column])\n",
        "\n",
        "        feature_type = FEATURE_TYPES\n",
        "        if feature_type == 'continuous':  \n",
        "          potential_splits[column] = []\n",
        "          for index in range(len(unique_values)):\n",
        "\n",
        "              if index != 0:\n",
        "                  potential_split = (unique_values[index] + unique_values[index - 1]) / 2\n",
        "                  potential_splits[column].append(potential_split)\n",
        "    \n",
        "        else:\n",
        "          potential_splits[column] = unique_values\n",
        "\n",
        "    return potential_splits"
      ],
      "execution_count": null,
      "outputs": []
    },
    {
      "cell_type": "code",
      "metadata": {
        "id": "YcEeUkA8LhhD"
      },
      "source": [
        "# potential_splits = get_potential_splits(data)\n",
        "\n",
        "# We get potential splits for all the columns"
      ],
      "execution_count": null,
      "outputs": []
    },
    {
      "cell_type": "code",
      "metadata": {
        "id": "uPQxeLepMx7-"
      },
      "source": [
        "# sns.scatterplot(data[:, 3], data[:, 2], hue=data[:,-1])\n",
        "\n",
        "# plt.vlines(potential_splits[3], ymin=0, ymax=7)\n",
        "# plt.show()"
      ],
      "execution_count": null,
      "outputs": []
    },
    {
      "cell_type": "code",
      "metadata": {
        "id": "2-f65t9yMx4Y"
      },
      "source": [
        "# plt.figure(figsize=(10,10))\n",
        "# sns.scatterplot(data[:, 3], data[:, 2], hue=data[:,-1])\n",
        "\n",
        "# plt.hlines(potential_splits[2], xmin=0, xmax=2.5)\n",
        "# plt.show()"
      ],
      "execution_count": null,
      "outputs": []
    },
    {
      "cell_type": "markdown",
      "metadata": {
        "id": "SBAPHof1Qr85"
      },
      "source": [
        "## Spliting the dataset in two groups i.e. left and right subtree"
      ]
    },
    {
      "cell_type": "code",
      "metadata": {
        "id": "U-mZbaqVVqJm"
      },
      "source": [
        "# split column is the feature by which we are splittting a node\n",
        "# split_value is the decision to be made at a node \n",
        "#  Make two data sets (data_below, data_above) going to the left and the right subtree of a node\n",
        "\n",
        "def split_data(data, split_column, split_value):\n",
        "    \n",
        "    split_column_values = data[:, split_column]\n",
        "\n",
        "    feature_type = FEATURE_TYPES[split_column]\n",
        "    if feature_type == 'continuous':\n",
        "        data_below = data[split_column_values <= split_value]\n",
        "        data_above = data[split_column_values >  split_value]\n",
        "    else:\n",
        "        data_below = data[split_column_values == split_value]\n",
        "        data_above = data[split_column_values !=  split_value]\n",
        "    return data_below, data_above"
      ],
      "execution_count": null,
      "outputs": []
    },
    {
      "cell_type": "markdown",
      "metadata": {
        "id": "TxI-FcpfQUeS"
      },
      "source": [
        "## Calculate entropy if a split"
      ]
    },
    {
      "cell_type": "code",
      "metadata": {
        "id": "0TlnEvOqWAV7"
      },
      "source": [
        "def calculate_entropy(data):\n",
        "    \n",
        "    vals, counts = np.unique(data[:, -1], return_counts=True)\n",
        "\n",
        "    probabilities = counts / counts.sum()\n",
        "    entropy = sum(probabilities * -np.log2(probabilities))\n",
        "     \n",
        "    return entropy"
      ],
      "execution_count": null,
      "outputs": []
    },
    {
      "cell_type": "markdown",
      "metadata": {
        "id": "JNnjtmDQRDmD"
      },
      "source": [
        "## Calculate total entropy (average weighted entropy)"
      ]
    },
    {
      "cell_type": "code",
      "metadata": {
        "id": "1MvGBT3PW5tS"
      },
      "source": [
        "def calculate_overall_entropy(data, data_below, data_above):\n",
        "    \n",
        "    prob_data_below = len(data_below) / len(data)\n",
        "    prob_data_above = len(data_above) / len(data)\n",
        "\n",
        "    overall_entropy =  (prob_data_below * calculate_entropy(data_below) \n",
        "                      + prob_data_above * calculate_entropy(data_above))\n",
        "    \n",
        "    return overall_entropy"
      ],
      "execution_count": null,
      "outputs": []
    },
    {
      "cell_type": "markdown",
      "metadata": {
        "id": "bPhwl9bZU3Jb"
      },
      "source": [
        "## Find best split (one with least entropy)\n",
        "\n",
        "For each potential split of every column, find entropy"
      ]
    },
    {
      "cell_type": "code",
      "metadata": {
        "id": "tDElYOXbXoZX"
      },
      "source": [
        "def determine_best_split(data, potential_splits):\n",
        "    \n",
        "    min_entropy = 9999 # initial big value like INT_MAX\n",
        "\n",
        "    for column_index in potential_splits: \n",
        "        for value in potential_splits[column_index]:\n",
        "    \n",
        "            data_below, data_above = split_data(data, column_index, value)\n",
        "            current_overall_entropy = calculate_overall_entropy(data, data_below, data_above)\n",
        "\n",
        "            if current_overall_entropy <= min_entropy:\n",
        "                min_entropy = current_overall_entropy\n",
        "                best_split_column = column_index\n",
        "                best_split_value = value\n",
        "    \n",
        "    return best_split_column, best_split_value"
      ],
      "execution_count": null,
      "outputs": []
    },
    {
      "cell_type": "markdown",
      "metadata": {
        "id": "rGOjhJweYeO5"
      },
      "source": [
        "## Representation of decision tree"
      ]
    },
    {
      "cell_type": "code",
      "metadata": {
        "id": "2ywWOfYYdMO_"
      },
      "source": [
        "# sub_tree = {\"question\": [\"yes_answer\", \n",
        "#                          \"no_answer\"]}"
      ],
      "execution_count": null,
      "outputs": []
    },
    {
      "cell_type": "code",
      "metadata": {
        "id": "26UCYTNedNCE"
      },
      "source": [
        "# example_tree = {\"petal_width <= 0.8\": [\"Iris-setosa\", \n",
        "#                                       {\"petal_width <= 1.65\": [{\"petal_length <= 4.9\": [\"Iris-versicolor\", \n",
        "#                                                                                         \"Iris-virginica\"]}, \n",
        "#                                                                                         \"Iris-virginica\"]}]}"
      ],
      "execution_count": null,
      "outputs": []
    },
    {
      "cell_type": "markdown",
      "metadata": {
        "id": "OTaNpogT6ICd"
      },
      "source": [
        "## Determine feature type"
      ]
    },
    {
      "cell_type": "code",
      "metadata": {
        "id": "JsYoXB9i6Hzs"
      },
      "source": [
        "def determine_feature_type(df):\n",
        "    \n",
        "    feature_types = []\n",
        "    unique_treshold = 15\n",
        "    for feature in df.columns[:-1]:\n",
        "      unique_values = df[feature].unique()\n",
        "      example_value = unique_values[0]\n",
        "\n",
        "      if (isinstance(example_value, str)) or (len(unique_values) <= unique_treshold):\n",
        "          feature_types.append(\"categorical\")\n",
        "      else:\n",
        "          feature_types.append(\"continuous\")\n",
        "    \n",
        "    return feature_types"
      ],
      "execution_count": null,
      "outputs": []
    },
    {
      "cell_type": "markdown",
      "metadata": {
        "id": "fGHwhYjIYlyF"
      },
      "source": [
        "## Decision Tree Classifier Algorithm"
      ]
    },
    {
      "cell_type": "code",
      "metadata": {
        "id": "FMfQ9dpNa1C0"
      },
      "source": [
        "def decision_tree_classifier(df, counter=0, min_samples=2, max_depth=5):\n",
        "    \n",
        "    if counter == 0:\n",
        "      global FEATURE_TYPES, FEATURE_NAMES\n",
        "      FEATURE_NAMES = df.columns\n",
        "      FEATURE_TYPES = determine_feature_type(df)\n",
        "      data = df.values\n",
        "    else:\n",
        "      data = df           \n",
        "    \n",
        "    \n",
        "    # base case\n",
        "    if (check_purity(data)) or (len(data) < min_samples) or (counter == max_depth):\n",
        "      classification = classify_data(data)\n",
        "      return classification\n",
        "\n",
        "    else:    \n",
        "      counter += 1\n",
        "\n",
        "      potential_splits = get_potential_splits(data)\n",
        "      split_column, split_value = determine_best_split(data, potential_splits)\n",
        "      data_below, data_above = split_data(data, split_column, split_value)\n",
        "      \n",
        "      feature_name = FEATURE_NAMES[split_column]\n",
        "      \n",
        "      feature_type = FEATURE_TYPES[split_column]\n",
        "      if feature_type == 'continuous':\n",
        "        question = \"{} <= {}\".format(feature_name, split_value)\n",
        "      else:\n",
        "        question = \"{} = {}\".format(feature_name, split_value)\n",
        "\n",
        "      sub_tree = {question: []}\n",
        "      \n",
        "      yes_ans = decision_tree_classifier(data_below, counter, min_samples, max_depth)\n",
        "      no_ans = decision_tree_classifier(data_above, counter, min_samples, max_depth)\n",
        "      \n",
        "      if yes_ans == no_ans:\n",
        "          sub_tree = yes_ans\n",
        "      else:\n",
        "          sub_tree[question].append(yes_ans)\n",
        "          sub_tree[question].append(no_ans)\n",
        "      \n",
        "      return sub_tree"
      ],
      "execution_count": null,
      "outputs": []
    },
    {
      "cell_type": "markdown",
      "metadata": {
        "id": "1hpIbmm2olbc"
      },
      "source": [
        "## Classification"
      ]
    },
    {
      "cell_type": "code",
      "metadata": {
        "id": "Uf4TQRi5dsxc"
      },
      "source": [
        "def classify_example(example, dtc):\n",
        "    question = list(dtc.keys())[0]\n",
        "    feature_name, comparison_operator, value = question.split()\n",
        "\n",
        "    # question\n",
        "    if comparison_operator == \"<=\":\n",
        "      if example[feature_name] <= float(value):\n",
        "          answer = dtc[question][0] # yes_ans\n",
        "      else:\n",
        "          answer = dtc[question][1] # no_ans\n",
        "    else:\n",
        "      if str(example[feature_name]) == value:\n",
        "          answer = dtc[question][0]\n",
        "      else:\n",
        "          answer = dtc[question][1]\n",
        "    # base case\n",
        "    if not isinstance(answer, dict):\n",
        "        return answer\n",
        "    \n",
        "    else:\n",
        "        residual_tree = answer\n",
        "        return classify_example(example, residual_tree)"
      ],
      "execution_count": null,
      "outputs": []
    },
    {
      "cell_type": "code",
      "metadata": {
        "id": "77J4cupIdxq-"
      },
      "source": [
        "def calculate_accuracy(df, dtc):\n",
        "\n",
        "    df[\"classification\"] = df.apply(classify_example, axis=1, args=(dtc,))\n",
        "    df[\"classification_correct\"] = df[\"classification\"] == df[\"target\"]\n",
        "    \n",
        "    accuracy = df[\"classification_correct\"].mean()\n",
        "    \n",
        "    return accuracy"
      ],
      "execution_count": null,
      "outputs": []
    },
    {
      "cell_type": "code",
      "metadata": {
        "colab": {
          "base_uri": "https://localhost:8080/",
          "height": 164
        },
        "id": "xLr8lfKxvhmF",
        "outputId": "849b275a-a601-491d-f607-c55181f3cb85"
      },
      "source": [
        "train_data, test_data = train_test_split(df, test_size=0.2)\n",
        "\n",
        "dt_classifier = decision_tree_classifier(train_data, max_depth=3)\n",
        "\n",
        "accuracy = calculate_accuracy(test_data, dt_classifier)\n",
        "print(accuracy)\n",
        "\n",
        "pprint(dt_classifier)\n",
        "test_data.loc[test_data['classification']!=test_data['target']]"
      ],
      "execution_count": null,
      "outputs": [
        {
          "output_type": "stream",
          "text": [
            "0.9666666666666667\n",
            "{'petal_width <= 0.6': ['setosa',\n",
            "                        {'petal_length <= 4.9': [{'petal_width <= 1.6': ['versicolor',\n",
            "                                                                         'virginica']},\n",
            "                                                 'virginica']}]}\n"
          ],
          "name": "stdout"
        },
        {
          "output_type": "execute_result",
          "data": {
            "text/html": [
              "<div>\n",
              "<style scoped>\n",
              "    .dataframe tbody tr th:only-of-type {\n",
              "        vertical-align: middle;\n",
              "    }\n",
              "\n",
              "    .dataframe tbody tr th {\n",
              "        vertical-align: top;\n",
              "    }\n",
              "\n",
              "    .dataframe thead th {\n",
              "        text-align: right;\n",
              "    }\n",
              "</style>\n",
              "<table border=\"1\" class=\"dataframe\">\n",
              "  <thead>\n",
              "    <tr style=\"text-align: right;\">\n",
              "      <th></th>\n",
              "      <th>sepal_length</th>\n",
              "      <th>sepal_width</th>\n",
              "      <th>petal_length</th>\n",
              "      <th>petal_width</th>\n",
              "      <th>target</th>\n",
              "      <th>classification</th>\n",
              "      <th>classification_correct</th>\n",
              "    </tr>\n",
              "  </thead>\n",
              "  <tbody>\n",
              "    <tr>\n",
              "      <th>77</th>\n",
              "      <td>6.7</td>\n",
              "      <td>3.0</td>\n",
              "      <td>5.0</td>\n",
              "      <td>1.7</td>\n",
              "      <td>versicolor</td>\n",
              "      <td>virginica</td>\n",
              "      <td>False</td>\n",
              "    </tr>\n",
              "  </tbody>\n",
              "</table>\n",
              "</div>"
            ],
            "text/plain": [
              "    sepal_length  sepal_width  ...  classification  classification_correct\n",
              "77           6.7          3.0  ...       virginica                   False\n",
              "\n",
              "[1 rows x 7 columns]"
            ]
          },
          "metadata": {
            "tags": []
          },
          "execution_count": 24
        }
      ]
    },
    {
      "cell_type": "markdown",
      "metadata": {
        "id": "p9-5FhbSytOh"
      },
      "source": [
        "## Running on a dataset with categorical variables"
      ]
    },
    {
      "cell_type": "code",
      "metadata": {
        "colab": {
          "base_uri": "https://localhost:8080/",
          "height": 203
        },
        "id": "fB5-hlehwnHj",
        "outputId": "aa702194-b0ee-49a8-c065-8f9748089c08"
      },
      "source": [
        "df2 = sns.load_dataset('titanic')\n",
        "df2.head()"
      ],
      "execution_count": null,
      "outputs": [
        {
          "output_type": "execute_result",
          "data": {
            "text/html": [
              "<div>\n",
              "<style scoped>\n",
              "    .dataframe tbody tr th:only-of-type {\n",
              "        vertical-align: middle;\n",
              "    }\n",
              "\n",
              "    .dataframe tbody tr th {\n",
              "        vertical-align: top;\n",
              "    }\n",
              "\n",
              "    .dataframe thead th {\n",
              "        text-align: right;\n",
              "    }\n",
              "</style>\n",
              "<table border=\"1\" class=\"dataframe\">\n",
              "  <thead>\n",
              "    <tr style=\"text-align: right;\">\n",
              "      <th></th>\n",
              "      <th>survived</th>\n",
              "      <th>pclass</th>\n",
              "      <th>sex</th>\n",
              "      <th>age</th>\n",
              "      <th>sibsp</th>\n",
              "      <th>parch</th>\n",
              "      <th>fare</th>\n",
              "      <th>embarked</th>\n",
              "      <th>class</th>\n",
              "      <th>who</th>\n",
              "      <th>adult_male</th>\n",
              "      <th>deck</th>\n",
              "      <th>embark_town</th>\n",
              "      <th>alive</th>\n",
              "      <th>alone</th>\n",
              "    </tr>\n",
              "  </thead>\n",
              "  <tbody>\n",
              "    <tr>\n",
              "      <th>0</th>\n",
              "      <td>0</td>\n",
              "      <td>3</td>\n",
              "      <td>male</td>\n",
              "      <td>22.0</td>\n",
              "      <td>1</td>\n",
              "      <td>0</td>\n",
              "      <td>7.2500</td>\n",
              "      <td>S</td>\n",
              "      <td>Third</td>\n",
              "      <td>man</td>\n",
              "      <td>True</td>\n",
              "      <td>NaN</td>\n",
              "      <td>Southampton</td>\n",
              "      <td>no</td>\n",
              "      <td>False</td>\n",
              "    </tr>\n",
              "    <tr>\n",
              "      <th>1</th>\n",
              "      <td>1</td>\n",
              "      <td>1</td>\n",
              "      <td>female</td>\n",
              "      <td>38.0</td>\n",
              "      <td>1</td>\n",
              "      <td>0</td>\n",
              "      <td>71.2833</td>\n",
              "      <td>C</td>\n",
              "      <td>First</td>\n",
              "      <td>woman</td>\n",
              "      <td>False</td>\n",
              "      <td>C</td>\n",
              "      <td>Cherbourg</td>\n",
              "      <td>yes</td>\n",
              "      <td>False</td>\n",
              "    </tr>\n",
              "    <tr>\n",
              "      <th>2</th>\n",
              "      <td>1</td>\n",
              "      <td>3</td>\n",
              "      <td>female</td>\n",
              "      <td>26.0</td>\n",
              "      <td>0</td>\n",
              "      <td>0</td>\n",
              "      <td>7.9250</td>\n",
              "      <td>S</td>\n",
              "      <td>Third</td>\n",
              "      <td>woman</td>\n",
              "      <td>False</td>\n",
              "      <td>NaN</td>\n",
              "      <td>Southampton</td>\n",
              "      <td>yes</td>\n",
              "      <td>True</td>\n",
              "    </tr>\n",
              "    <tr>\n",
              "      <th>3</th>\n",
              "      <td>1</td>\n",
              "      <td>1</td>\n",
              "      <td>female</td>\n",
              "      <td>35.0</td>\n",
              "      <td>1</td>\n",
              "      <td>0</td>\n",
              "      <td>53.1000</td>\n",
              "      <td>S</td>\n",
              "      <td>First</td>\n",
              "      <td>woman</td>\n",
              "      <td>False</td>\n",
              "      <td>C</td>\n",
              "      <td>Southampton</td>\n",
              "      <td>yes</td>\n",
              "      <td>False</td>\n",
              "    </tr>\n",
              "    <tr>\n",
              "      <th>4</th>\n",
              "      <td>0</td>\n",
              "      <td>3</td>\n",
              "      <td>male</td>\n",
              "      <td>35.0</td>\n",
              "      <td>0</td>\n",
              "      <td>0</td>\n",
              "      <td>8.0500</td>\n",
              "      <td>S</td>\n",
              "      <td>Third</td>\n",
              "      <td>man</td>\n",
              "      <td>True</td>\n",
              "      <td>NaN</td>\n",
              "      <td>Southampton</td>\n",
              "      <td>no</td>\n",
              "      <td>True</td>\n",
              "    </tr>\n",
              "  </tbody>\n",
              "</table>\n",
              "</div>"
            ],
            "text/plain": [
              "   survived  pclass     sex   age  ...  deck  embark_town  alive  alone\n",
              "0         0       3    male  22.0  ...   NaN  Southampton     no  False\n",
              "1         1       1  female  38.0  ...     C    Cherbourg    yes  False\n",
              "2         1       3  female  26.0  ...   NaN  Southampton    yes   True\n",
              "3         1       1  female  35.0  ...     C  Southampton    yes  False\n",
              "4         0       3    male  35.0  ...   NaN  Southampton     no   True\n",
              "\n",
              "[5 rows x 15 columns]"
            ]
          },
          "metadata": {
            "tags": []
          },
          "execution_count": 25
        }
      ]
    },
    {
      "cell_type": "code",
      "metadata": {
        "id": "WfGtlTxVyqZX"
      },
      "source": [
        "df2['target'] = df2['survived']\n",
        "df2.drop(columns=df2.columns[8:-1].tolist()+['survived'], axis=1, inplace=True)"
      ],
      "execution_count": null,
      "outputs": []
    },
    {
      "cell_type": "code",
      "metadata": {
        "colab": {
          "base_uri": "https://localhost:8080/",
          "height": 203
        },
        "id": "q1GFh42izKbW",
        "outputId": "b6a70e5f-32ef-411b-d98f-1f1a41335ba9"
      },
      "source": [
        "df2.head()"
      ],
      "execution_count": null,
      "outputs": [
        {
          "output_type": "execute_result",
          "data": {
            "text/html": [
              "<div>\n",
              "<style scoped>\n",
              "    .dataframe tbody tr th:only-of-type {\n",
              "        vertical-align: middle;\n",
              "    }\n",
              "\n",
              "    .dataframe tbody tr th {\n",
              "        vertical-align: top;\n",
              "    }\n",
              "\n",
              "    .dataframe thead th {\n",
              "        text-align: right;\n",
              "    }\n",
              "</style>\n",
              "<table border=\"1\" class=\"dataframe\">\n",
              "  <thead>\n",
              "    <tr style=\"text-align: right;\">\n",
              "      <th></th>\n",
              "      <th>pclass</th>\n",
              "      <th>sex</th>\n",
              "      <th>age</th>\n",
              "      <th>sibsp</th>\n",
              "      <th>parch</th>\n",
              "      <th>fare</th>\n",
              "      <th>embarked</th>\n",
              "      <th>target</th>\n",
              "    </tr>\n",
              "  </thead>\n",
              "  <tbody>\n",
              "    <tr>\n",
              "      <th>0</th>\n",
              "      <td>3</td>\n",
              "      <td>male</td>\n",
              "      <td>22.0</td>\n",
              "      <td>1</td>\n",
              "      <td>0</td>\n",
              "      <td>7.2500</td>\n",
              "      <td>S</td>\n",
              "      <td>0</td>\n",
              "    </tr>\n",
              "    <tr>\n",
              "      <th>1</th>\n",
              "      <td>1</td>\n",
              "      <td>female</td>\n",
              "      <td>38.0</td>\n",
              "      <td>1</td>\n",
              "      <td>0</td>\n",
              "      <td>71.2833</td>\n",
              "      <td>C</td>\n",
              "      <td>1</td>\n",
              "    </tr>\n",
              "    <tr>\n",
              "      <th>2</th>\n",
              "      <td>3</td>\n",
              "      <td>female</td>\n",
              "      <td>26.0</td>\n",
              "      <td>0</td>\n",
              "      <td>0</td>\n",
              "      <td>7.9250</td>\n",
              "      <td>S</td>\n",
              "      <td>1</td>\n",
              "    </tr>\n",
              "    <tr>\n",
              "      <th>3</th>\n",
              "      <td>1</td>\n",
              "      <td>female</td>\n",
              "      <td>35.0</td>\n",
              "      <td>1</td>\n",
              "      <td>0</td>\n",
              "      <td>53.1000</td>\n",
              "      <td>S</td>\n",
              "      <td>1</td>\n",
              "    </tr>\n",
              "    <tr>\n",
              "      <th>4</th>\n",
              "      <td>3</td>\n",
              "      <td>male</td>\n",
              "      <td>35.0</td>\n",
              "      <td>0</td>\n",
              "      <td>0</td>\n",
              "      <td>8.0500</td>\n",
              "      <td>S</td>\n",
              "      <td>0</td>\n",
              "    </tr>\n",
              "  </tbody>\n",
              "</table>\n",
              "</div>"
            ],
            "text/plain": [
              "   pclass     sex   age  sibsp  parch     fare embarked  target\n",
              "0       3    male  22.0      1      0   7.2500        S       0\n",
              "1       1  female  38.0      1      0  71.2833        C       1\n",
              "2       3  female  26.0      0      0   7.9250        S       1\n",
              "3       1  female  35.0      1      0  53.1000        S       1\n",
              "4       3    male  35.0      0      0   8.0500        S       0"
            ]
          },
          "metadata": {
            "tags": []
          },
          "execution_count": 27
        }
      ]
    },
    {
      "cell_type": "code",
      "metadata": {
        "colab": {
          "base_uri": "https://localhost:8080/"
        },
        "id": "yKp_MDcgzLjF",
        "outputId": "c79f6c11-3b29-41c4-9186-4a9fbc4d38bf"
      },
      "source": [
        "df2.info()"
      ],
      "execution_count": null,
      "outputs": [
        {
          "output_type": "stream",
          "text": [
            "<class 'pandas.core.frame.DataFrame'>\n",
            "RangeIndex: 891 entries, 0 to 890\n",
            "Data columns (total 8 columns):\n",
            " #   Column    Non-Null Count  Dtype  \n",
            "---  ------    --------------  -----  \n",
            " 0   pclass    891 non-null    int64  \n",
            " 1   sex       891 non-null    object \n",
            " 2   age       714 non-null    float64\n",
            " 3   sibsp     891 non-null    int64  \n",
            " 4   parch     891 non-null    int64  \n",
            " 5   fare      891 non-null    float64\n",
            " 6   embarked  889 non-null    object \n",
            " 7   target    891 non-null    int64  \n",
            "dtypes: float64(2), int64(4), object(2)\n",
            "memory usage: 55.8+ KB\n"
          ],
          "name": "stdout"
        }
      ]
    },
    {
      "cell_type": "code",
      "metadata": {
        "id": "8Zi7nfoOzpEr"
      },
      "source": [
        "df2.fillna({'age': df2['age'].median(),\n",
        "           'embarked': df2['embarked'].mode()[0]\n",
        "          }, inplace = True)"
      ],
      "execution_count": null,
      "outputs": []
    },
    {
      "cell_type": "code",
      "metadata": {
        "colab": {
          "base_uri": "https://localhost:8080/"
        },
        "id": "z1hmwubS0HyJ",
        "outputId": "d6a1ae9b-a108-4c12-cff1-89db621a3f4a"
      },
      "source": [
        "df2.info()"
      ],
      "execution_count": null,
      "outputs": [
        {
          "output_type": "stream",
          "text": [
            "<class 'pandas.core.frame.DataFrame'>\n",
            "RangeIndex: 891 entries, 0 to 890\n",
            "Data columns (total 8 columns):\n",
            " #   Column    Non-Null Count  Dtype  \n",
            "---  ------    --------------  -----  \n",
            " 0   pclass    891 non-null    int64  \n",
            " 1   sex       891 non-null    object \n",
            " 2   age       891 non-null    float64\n",
            " 3   sibsp     891 non-null    int64  \n",
            " 4   parch     891 non-null    int64  \n",
            " 5   fare      891 non-null    float64\n",
            " 6   embarked  891 non-null    object \n",
            " 7   target    891 non-null    int64  \n",
            "dtypes: float64(2), int64(4), object(2)\n",
            "memory usage: 55.8+ KB\n"
          ],
          "name": "stdout"
        }
      ]
    },
    {
      "cell_type": "code",
      "metadata": {
        "colab": {
          "base_uri": "https://localhost:8080/"
        },
        "id": "dGq0SnnS0U_P",
        "outputId": "3abde84d-2f4b-415a-e8a0-c25b65d165a4"
      },
      "source": [
        "train_data2, test_data2 = train_test_split(df2, test_size=0.2)\n",
        "\n",
        "dtc2 = decision_tree_classifier(train_data2, max_depth=3)\n",
        "\n",
        "accuracy2 = calculate_accuracy(test_data2, dtc2)\n",
        "print(accuracy2)\n",
        "\n",
        "pprint(dtc2, width=50)\n",
        "# test_data.loc[test_data['classification']!=test_data['target']]"
      ],
      "execution_count": null,
      "outputs": [
        {
          "output_type": "stream",
          "text": [
            "0.7865168539325843\n",
            "{'sex = male': [{'fare <= 26.0': [{'age <= 9.0': [1,\n",
            "                                                  0]},\n",
            "                                  {'fare <= 26.3875': [1,\n",
            "                                                       0]}]},\n",
            "                {'pclass = 3': [{'fare <= 23.25': [1,\n",
            "                                                   0]},\n",
            "                                1]}]}\n"
          ],
          "name": "stdout"
        }
      ]
    },
    {
      "cell_type": "code",
      "metadata": {
        "id": "UgZ0qxnMGVwx"
      },
      "source": [
        ""
      ],
      "execution_count": null,
      "outputs": []
    }
  ]
}