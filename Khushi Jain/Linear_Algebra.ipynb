{
  "nbformat": 4,
  "nbformat_minor": 0,
  "metadata": {
    "colab": {
      "name": "Linear Algebra.ipynb",
      "provenance": [],
      "collapsed_sections": []
    },
    "kernelspec": {
      "name": "python3",
      "display_name": "Python 3"
    },
    "language_info": {
      "name": "python"
    }
  },
  "cells": [
    {
      "cell_type": "markdown",
      "metadata": {
        "id": "47GDEYU9UYuc"
      },
      "source": [
        "## Linear Algebra using Numpy"
      ]
    },
    {
      "cell_type": "code",
      "metadata": {
        "id": "CRsqhnnPUw1g"
      },
      "source": [
        "import numpy as np"
      ],
      "execution_count": null,
      "outputs": []
    },
    {
      "cell_type": "markdown",
      "metadata": {
        "id": "yi1qDCZyc0F-"
      },
      "source": [
        "# Vector Multiplication"
      ]
    },
    {
      "cell_type": "markdown",
      "metadata": {
        "id": "dEt7uGz-c279"
      },
      "source": [
        "### Scalar Multiplication"
      ]
    },
    {
      "cell_type": "code",
      "metadata": {
        "colab": {
          "base_uri": "https://localhost:8080/"
        },
        "id": "HvumfxAxc5MD",
        "outputId": "c29d8b6c-378d-4ccd-f443-b04f314fed1b"
      },
      "source": [
        "a = np.array([[2,3],[4,5]])\n",
        "res = 5*a\n",
        "res"
      ],
      "execution_count": null,
      "outputs": [
        {
          "output_type": "execute_result",
          "data": {
            "text/plain": [
              "array([[10, 15],\n",
              "       [20, 25]])"
            ]
          },
          "metadata": {
            "tags": []
          },
          "execution_count": 34
        }
      ]
    },
    {
      "cell_type": "markdown",
      "metadata": {
        "id": "zikMScjTUjdf"
      },
      "source": [
        "\n",
        "### Dot Prouduct (same as matrix multiplication and np.matmul())\n",
        "numpy.dot() is used to calculate dot product of two arrays."
      ]
    },
    {
      "cell_type": "code",
      "metadata": {
        "id": "NCAIaI8yTxAa",
        "colab": {
          "base_uri": "https://localhost:8080/"
        },
        "outputId": "97969b1a-9157-49e0-c417-682d8ed50f1f"
      },
      "source": [
        "a = np.array([[2,3],[4,5]])\n",
        "b = np.array([[5,6], [7,8]])\n",
        "dotProduct = np.dot(a, b)\n",
        "dotProduct"
      ],
      "execution_count": null,
      "outputs": [
        {
          "output_type": "execute_result",
          "data": {
            "text/plain": [
              "array([[31, 36],\n",
              "       [55, 64]])"
            ]
          },
          "metadata": {
            "tags": []
          },
          "execution_count": 17
        }
      ]
    },
    {
      "cell_type": "markdown",
      "metadata": {
        "id": "jPplJzkMeFot"
      },
      "source": [
        "Dot product can also be calculated using '@'"
      ]
    },
    {
      "cell_type": "code",
      "metadata": {
        "colab": {
          "base_uri": "https://localhost:8080/"
        },
        "id": "usq4tOWceC10",
        "outputId": "243b056c-6502-4138-8983-712df58b8a48"
      },
      "source": [
        "a = np.array([[2,3],[4,5]])\n",
        "b = np.array([[5,6], [7,8]])\n",
        "a@b"
      ],
      "execution_count": null,
      "outputs": [
        {
          "output_type": "execute_result",
          "data": {
            "text/plain": [
              "array([[31, 36],\n",
              "       [55, 64]])"
            ]
          },
          "metadata": {
            "tags": []
          },
          "execution_count": 35
        }
      ]
    },
    {
      "cell_type": "markdown",
      "metadata": {
        "id": "h36IIieAeKT2"
      },
      "source": [
        "### Cross Product"
      ]
    },
    {
      "cell_type": "code",
      "metadata": {
        "colab": {
          "base_uri": "https://localhost:8080/"
        },
        "id": "I33phrtneMFn",
        "outputId": "b38cfd1b-5e4a-4cc1-cc02-eb2cae9b448e"
      },
      "source": [
        "a = np.array([[2,3],[4,5]])\n",
        "b = np.array([[5,6], [7,8]])\n",
        "res = np.cross(a, b)\n",
        "res"
      ],
      "execution_count": null,
      "outputs": [
        {
          "output_type": "execute_result",
          "data": {
            "text/plain": [
              "array([-3, -3])"
            ]
          },
          "metadata": {
            "tags": []
          },
          "execution_count": 36
        }
      ]
    },
    {
      "cell_type": "markdown",
      "metadata": {
        "id": "wm-tQsq3VgXn"
      },
      "source": [
        "### numpy.vdot() function\n",
        "This function is used to calculate the sum of product of corresponding elements of two multi-dimensional arrays"
      ]
    },
    {
      "cell_type": "code",
      "metadata": {
        "id": "y1RrAVQQTw8X",
        "colab": {
          "base_uri": "https://localhost:8080/"
        },
        "outputId": "21bd6084-f528-4985-e80b-8fb357045945"
      },
      "source": [
        "a = np.array([[2,3],[4,5]])\n",
        "b = np.array([[5,6], [7,8]])\n",
        "res = np.vdot(a, b)\n",
        "res"
      ],
      "execution_count": null,
      "outputs": [
        {
          "output_type": "execute_result",
          "data": {
            "text/plain": [
              "96"
            ]
          },
          "metadata": {
            "tags": []
          },
          "execution_count": 3
        }
      ]
    },
    {
      "cell_type": "code",
      "metadata": {
        "colab": {
          "base_uri": "https://localhost:8080/"
        },
        "id": "yyDMUOqteq8R",
        "outputId": "1bb00ff2-39cf-4784-9c47-34636801731d"
      },
      "source": [
        "print(a)\n",
        "print(b)\n"
      ],
      "execution_count": null,
      "outputs": [
        {
          "output_type": "stream",
          "text": [
            "[[2 3]\n",
            " [4 5]]\n",
            "[[5 6]\n",
            " [7 8]]\n"
          ],
          "name": "stdout"
        }
      ]
    },
    {
      "cell_type": "markdown",
      "metadata": {
        "id": "JcoQm4s4XCL-"
      },
      "source": [
        "### Matrix multiplication\n",
        "\n",
        "numpy.matmul() function is used to return the multiplication of the two matrices. It gives an error if the shape of both matrices is not aligned for multiplication."
      ]
    },
    {
      "cell_type": "code",
      "metadata": {
        "id": "K4_kpx4ETw48",
        "colab": {
          "base_uri": "https://localhost:8080/"
        },
        "outputId": "4a3c03dc-5642-49f4-9f39-1fdf1113adca"
      },
      "source": [
        "a = np.array([[1,2,3],[4,5,6],[7,8,9]])  \n",
        "b = np.array([[3,2,1],[12,11,2],[5,6,2]])  \n",
        "res = np.matmul(a,b)  \n",
        "print(res)  "
      ],
      "execution_count": null,
      "outputs": [
        {
          "output_type": "stream",
          "text": [
            "[[ 42  42  11]\n",
            " [102  99  26]\n",
            " [162 156  41]]\n"
          ],
          "name": "stdout"
        }
      ]
    },
    {
      "cell_type": "markdown",
      "metadata": {
        "id": "TNygynPtXZec"
      },
      "source": [
        "### Caluculating matrix determinant\n",
        "np.linalg.det() can be used to find determinant of a matrix"
      ]
    },
    {
      "cell_type": "code",
      "metadata": {
        "id": "QifOGcQYTw2b",
        "colab": {
          "base_uri": "https://localhost:8080/"
        },
        "outputId": "d49c7dbb-308a-462d-fca1-23f5c2f9898b"
      },
      "source": [
        "mat = np.array([[2,3], [4,5]])\n",
        "res = np.linalg.det(mat)\n",
        "print('Determinant:  ', res)"
      ],
      "execution_count": null,
      "outputs": [
        {
          "output_type": "stream",
          "text": [
            "Determinant:   -2.0\n"
          ],
          "name": "stdout"
        }
      ]
    },
    {
      "cell_type": "markdown",
      "metadata": {
        "id": "OX8M-GdcYFfC"
      },
      "source": [
        "### Solving Linear equations\n",
        "x + 6y + 15z = 11\n",
        "\n",
        "3x + 9y + 5z = 9\n",
        "\n",
        "x + 4y + 7z = 6\n",
        "\n",
        "Above linear equations can be solved for value of x, y, and z using numpy.linalg.solve()."
      ]
    },
    {
      "cell_type": "code",
      "metadata": {
        "id": "7k41_ke5Twzs",
        "colab": {
          "base_uri": "https://localhost:8080/"
        },
        "outputId": "8ab9d204-86b5-4569-f06a-0ed55b8817c1"
      },
      "source": [
        "mat1 = np.array([[1,6,15],[3,9,5],[1,4,7]])\n",
        "mat2 = np.array([11, 9, 6])\n",
        "\n",
        "res = np.linalg.solve(mat1, mat2)\n",
        "print(res)"
      ],
      "execution_count": null,
      "outputs": [
        {
          "output_type": "stream",
          "text": [
            "[-0.625  1.     0.375]\n"
          ],
          "name": "stdout"
        }
      ]
    },
    {
      "cell_type": "markdown",
      "metadata": {
        "id": "wHWnlQMXYZYW"
      },
      "source": [
        "### Inverse of a matrix\n",
        "This function is used to calculate the multiplicative inverse of a matrix"
      ]
    },
    {
      "cell_type": "code",
      "metadata": {
        "id": "k3Xq998cTww_",
        "colab": {
          "base_uri": "https://localhost:8080/"
        },
        "outputId": "56a6b5f6-66ba-45a8-90e6-89e46886d937"
      },
      "source": [
        "a = np.array([[1,2],[3,4]])\n",
        "b = np.linalg.inv(a)\n",
        "b"
      ],
      "execution_count": null,
      "outputs": [
        {
          "output_type": "execute_result",
          "data": {
            "text/plain": [
              "array([[-2. ,  1. ],\n",
              "       [ 1.5, -0.5]])"
            ]
          },
          "metadata": {
            "tags": []
          },
          "execution_count": 23
        }
      ]
    },
    {
      "cell_type": "markdown",
      "metadata": {
        "id": "nx48lC4eaqy_"
      },
      "source": [
        "### Matrix Addition"
      ]
    },
    {
      "cell_type": "code",
      "metadata": {
        "id": "Q2ZHPUSOTv84",
        "colab": {
          "base_uri": "https://localhost:8080/"
        },
        "outputId": "e0c02229-c49e-42f0-8e1a-8d84094cf01f"
      },
      "source": [
        "a = np.array([[1,2,3],[4,5,6],[7,8,9]])  \n",
        "b = np.array([[3,2,1],[12,11,2],[5,6,2]])  \n",
        "res = np.add(a, b)\n",
        "res"
      ],
      "execution_count": null,
      "outputs": [
        {
          "output_type": "execute_result",
          "data": {
            "text/plain": [
              "array([[ 4,  4,  4],\n",
              "       [16, 16,  8],\n",
              "       [12, 14, 11]])"
            ]
          },
          "metadata": {
            "tags": []
          },
          "execution_count": 26
        }
      ]
    },
    {
      "cell_type": "markdown",
      "metadata": {
        "id": "O_S_2yFxayz1"
      },
      "source": [
        "### Matrix Subtraction"
      ]
    },
    {
      "cell_type": "code",
      "metadata": {
        "id": "4x-pSMuCTv69",
        "colab": {
          "base_uri": "https://localhost:8080/"
        },
        "outputId": "14781fba-ddbd-4ec2-c966-16ea36680a44"
      },
      "source": [
        "a = np.array([[1,2,3],[4,5,6],[7,8,9]])  \n",
        "b = np.array([[3,2,1],[12,11,2],[5,6,2]])  \n",
        "res = np.subtract(a, b)\n",
        "res"
      ],
      "execution_count": null,
      "outputs": [
        {
          "output_type": "execute_result",
          "data": {
            "text/plain": [
              "array([[-2,  0,  2],\n",
              "       [-8, -6,  4],\n",
              "       [ 2,  2,  7]])"
            ]
          },
          "metadata": {
            "tags": []
          },
          "execution_count": 28
        }
      ]
    },
    {
      "cell_type": "markdown",
      "metadata": {
        "id": "s9Y9yTFGa8ri"
      },
      "source": [
        "### Multiplication (*)\n",
        "multiply element at corresponding positions"
      ]
    },
    {
      "cell_type": "code",
      "metadata": {
        "colab": {
          "base_uri": "https://localhost:8080/"
        },
        "id": "87_EuB1oa_3C",
        "outputId": "8018db3e-70e6-41cc-c251-783fe71a3df4"
      },
      "source": [
        "a = np.array([[1,2,3],[4,5,6],[7,8,9]])  \n",
        "b = np.array([[3,2,1],[12,11,2],[5,6,2]])  \n",
        "res = np.multiply(a, b)\n",
        "res"
      ],
      "execution_count": null,
      "outputs": [
        {
          "output_type": "execute_result",
          "data": {
            "text/plain": [
              "array([[ 3,  4,  3],\n",
              "       [48, 55, 12],\n",
              "       [35, 48, 18]])"
            ]
          },
          "metadata": {
            "tags": []
          },
          "execution_count": 29
        }
      ]
    },
    {
      "cell_type": "code",
      "metadata": {
        "colab": {
          "base_uri": "https://localhost:8080/"
        },
        "id": "19ZGVdigfjoM",
        "outputId": "0d57423e-5bd5-4c25-d956-ab20acb13e5c"
      },
      "source": [
        "a = np.array([[2,3],[4,5]])\n",
        "b = np.array([[5,6], [7,8]])\n",
        "np.matmul(a,b)"
      ],
      "execution_count": null,
      "outputs": [
        {
          "output_type": "execute_result",
          "data": {
            "text/plain": [
              "array([[31, 36],\n",
              "       [55, 64]])"
            ]
          },
          "metadata": {
            "tags": []
          },
          "execution_count": 5
        }
      ]
    },
    {
      "cell_type": "markdown",
      "metadata": {
        "id": "YJKYlAdsb338"
      },
      "source": [
        "### Scalar division"
      ]
    },
    {
      "cell_type": "code",
      "metadata": {
        "colab": {
          "base_uri": "https://localhost:8080/"
        },
        "id": "GCQLWGkpa_xN",
        "outputId": "175b092f-4ad6-4e84-f15c-764a92061ee7"
      },
      "source": [
        "a = np.array([[1,2,3],[4,5,6],[7,8,9]])  \n",
        "b = np.array([[3,2,1],[12,11,2],[5,6,2]])  \n",
        "res = np.divide(a, b)\n",
        "res"
      ],
      "execution_count": null,
      "outputs": [
        {
          "output_type": "execute_result",
          "data": {
            "text/plain": [
              "array([[0.33333333, 1.        , 3.        ],\n",
              "       [0.33333333, 0.45454545, 3.        ],\n",
              "       [1.4       , 1.33333333, 4.5       ]])"
            ]
          },
          "metadata": {
            "tags": []
          },
          "execution_count": 33
        }
      ]
    },
    {
      "cell_type": "markdown",
      "metadata": {
        "id": "mohQZjPsbhIs"
      },
      "source": [
        "### Transpose of a matrix"
      ]
    },
    {
      "cell_type": "code",
      "metadata": {
        "colab": {
          "base_uri": "https://localhost:8080/"
        },
        "id": "g82LfDhva_0D",
        "outputId": "c3cb60e0-580e-4ff2-e1ee-d53199214b44"
      },
      "source": [
        "a = np.array([[1,2,3],[4,5,6],[7,8,9]])  \n",
        "res = np.transpose(a)\n",
        "res"
      ],
      "execution_count": null,
      "outputs": [
        {
          "output_type": "execute_result",
          "data": {
            "text/plain": [
              "array([[1, 4, 7],\n",
              "       [2, 5, 8],\n",
              "       [3, 6, 9]])"
            ]
          },
          "metadata": {
            "tags": []
          },
          "execution_count": 32
        }
      ]
    },
    {
      "cell_type": "markdown",
      "metadata": {
        "id": "FI8yD1rUN2P5"
      },
      "source": [
        "## Linear Algebra using SciPy"
      ]
    },
    {
      "cell_type": "markdown",
      "metadata": {
        "id": "gWrGdOiyN6XG"
      },
      "source": [
        "scipy.linalg module contains all the functions of linear algebra. It contains all the functions that are there in numpy.linalg but has some advanced functionalities that are not present in numpy.linalg "
      ]
    },
    {
      "cell_type": "code",
      "metadata": {
        "id": "0XOAG6CiN43n"
      },
      "source": [
        "from scipy import linalg"
      ],
      "execution_count": null,
      "outputs": []
    },
    {
      "cell_type": "markdown",
      "metadata": {
        "id": "NP8HIkAkOpD_"
      },
      "source": [
        "### Solving linear equations\n",
        "\n",
        "x + 6y + 15z = 11\n",
        "\n",
        "3x + 9y + 5z = 9\n",
        "\n",
        "x + 4y + 7z = 6\n",
        "\n",
        "Above linear equations can be solved for value of x, y, and z using scipy.linalg.solve.\n",
        "\n",
        "scipy.linalg.solve takes 2 parameters: coefficient matrix and a matrix containing right hand side constants\n",
        "\n",
        "It returns a matrix containing values of x, y, and z."
      ]
    },
    {
      "cell_type": "code",
      "metadata": {
        "colab": {
          "base_uri": "https://localhost:8080/"
        },
        "id": "CATuJciQPsDG",
        "outputId": "3fa8a713-3367-4e43-f277-230f3d95c442"
      },
      "source": [
        "mat1 = np.array([[1,6,15],[3,9,5],[1,4,7]])\n",
        "mat2 = np.array([11, 9, 6])\n",
        "\n",
        "res = linalg.solve(mat1, mat2)\n",
        "print(res)"
      ],
      "execution_count": null,
      "outputs": [
        {
          "output_type": "stream",
          "text": [
            "[-0.625  1.     0.375]\n"
          ],
          "name": "stdout"
        }
      ]
    },
    {
      "cell_type": "markdown",
      "metadata": {
        "id": "ybjxqKtCQJpZ"
      },
      "source": [
        "### Finding Determinant\n",
        "Determinant of a matrix can be calculated using linalg.det() function.\n",
        "\n",
        "It takes the matrix as a parameter and returns a scaler value"
      ]
    },
    {
      "cell_type": "code",
      "metadata": {
        "colab": {
          "base_uri": "https://localhost:8080/"
        },
        "id": "JsZcVYWgQHro",
        "outputId": "4afb9a00-4325-479b-e118-6845fbba0787"
      },
      "source": [
        "mat = np.array([[2,3], [4,5]])\n",
        "res = linalg.det(mat)\n",
        "print('Determinant:  ', res)"
      ],
      "execution_count": null,
      "outputs": [
        {
          "output_type": "stream",
          "text": [
            "Determinant:   -2.000000000000001\n"
          ],
          "name": "stdout"
        }
      ]
    },
    {
      "cell_type": "markdown",
      "metadata": {
        "id": "oj2qPUGXRVza"
      },
      "source": [
        "### Eigen values and Eigen vectors\n",
        "We can find Eigen values and Eigen vectors using linalg.eig() function"
      ]
    },
    {
      "cell_type": "code",
      "metadata": {
        "colab": {
          "base_uri": "https://localhost:8080/"
        },
        "id": "zNivkUa6RGLT",
        "outputId": "63ac458b-f703-4d19-a23a-11fa186e4545"
      },
      "source": [
        "mat = np.array([[2,3], [4,5]])\n",
        "eig_val, eig_vector = linalg.eig(mat)\n",
        "print('Eigen value:  ', eig_val)\n",
        "print('Eigen vector:\\n', eig_vector)"
      ],
      "execution_count": null,
      "outputs": [
        {
          "output_type": "stream",
          "text": [
            "Eigen value:   [-0.27491722+0.j  7.27491722+0.j]\n",
            "Eigen vector:\n",
            " [[-0.79681209 -0.49436913]\n",
            " [ 0.60422718 -0.86925207]]\n"
          ],
          "name": "stdout"
        }
      ]
    },
    {
      "cell_type": "markdown",
      "metadata": {
        "id": "fDz4Df9vSLYI"
      },
      "source": [
        "### Finding Inverse of a matrix using linalg.inv()"
      ]
    },
    {
      "cell_type": "code",
      "metadata": {
        "colab": {
          "base_uri": "https://localhost:8080/"
        },
        "id": "ijCghrAzRlp8",
        "outputId": "f4f894c3-e760-461b-f242-6233d6436624"
      },
      "source": [
        "a = np.array([[1,2],[3,4]])\n",
        "b = linalg.inv(a)\n",
        "b"
      ],
      "execution_count": null,
      "outputs": [
        {
          "output_type": "execute_result",
          "data": {
            "text/plain": [
              "array([[-2. ,  1. ],\n",
              "       [ 1.5, -0.5]])"
            ]
          },
          "metadata": {
            "tags": []
          },
          "execution_count": 10
        }
      ]
    },
    {
      "cell_type": "code",
      "metadata": {
        "id": "O-9jYGDdSPH6"
      },
      "source": [
        ""
      ],
      "execution_count": null,
      "outputs": []
    },
    {
      "cell_type": "code",
      "metadata": {
        "id": "CKIT9nQivy1f"
      },
      "source": [
        ""
      ],
      "execution_count": null,
      "outputs": []
    },
    {
      "cell_type": "code",
      "metadata": {
        "id": "g83j04xtTv4F"
      },
      "source": [
        ""
      ],
      "execution_count": null,
      "outputs": []
    },
    {
      "cell_type": "markdown",
      "metadata": {
        "id": "33EY8cmg4wPJ"
      },
      "source": [
        "## Special Functions"
      ]
    },
    {
      "cell_type": "code",
      "metadata": {
        "colab": {
          "base_uri": "https://localhost:8080/"
        },
        "id": "wDLgtTM93r_f",
        "outputId": "754f1a15-2244-4922-c1d6-715f30f78223"
      },
      "source": [
        "from scipy import special\n",
        "a = special.exp10(2)\n",
        "a"
      ],
      "execution_count": null,
      "outputs": [
        {
          "output_type": "execute_result",
          "data": {
            "text/plain": [
              "100.0"
            ]
          },
          "metadata": {
            "tags": []
          },
          "execution_count": 7
        }
      ]
    },
    {
      "cell_type": "code",
      "metadata": {
        "colab": {
          "base_uri": "https://localhost:8080/"
        },
        "id": "LK5zHwsu4EAY",
        "outputId": "479074c2-5c39-490f-e4dc-5f2c4ee83ee4"
      },
      "source": [
        "b = special.exp2(3)\n",
        "b"
      ],
      "execution_count": null,
      "outputs": [
        {
          "output_type": "execute_result",
          "data": {
            "text/plain": [
              "8.0"
            ]
          },
          "metadata": {
            "tags": []
          },
          "execution_count": 8
        }
      ]
    },
    {
      "cell_type": "code",
      "metadata": {
        "colab": {
          "base_uri": "https://localhost:8080/"
        },
        "id": "h9pt9w895LcQ",
        "outputId": "a6bf49b0-c7a0-4845-99d2-b3b36e953f59"
      },
      "source": [
        "c = special.sindg(90) # sin degree\n",
        "c"
      ],
      "execution_count": null,
      "outputs": [
        {
          "output_type": "execute_result",
          "data": {
            "text/plain": [
              "1.0"
            ]
          },
          "metadata": {
            "tags": []
          },
          "execution_count": 9
        }
      ]
    },
    {
      "cell_type": "code",
      "metadata": {
        "colab": {
          "base_uri": "https://localhost:8080/"
        },
        "id": "ejR6oqVs5ccO",
        "outputId": "a0294eb0-201e-4910-c382-36780ec1de71"
      },
      "source": [
        "d = special.cosdg(90) # cos degree\n",
        "d"
      ],
      "execution_count": null,
      "outputs": [
        {
          "output_type": "execute_result",
          "data": {
            "text/plain": [
              "-0.0"
            ]
          },
          "metadata": {
            "tags": []
          },
          "execution_count": 12
        }
      ]
    },
    {
      "cell_type": "markdown",
      "metadata": {
        "id": "dH5dV1y382Gn"
      },
      "source": [
        "## Interpolation Function"
      ]
    },
    {
      "cell_type": "code",
      "metadata": {
        "id": "ufD8dZ158rVo"
      },
      "source": [
        "from scipy import interpolate\n",
        "import matplotlib.pyplot as plt"
      ],
      "execution_count": null,
      "outputs": []
    },
    {
      "cell_type": "code",
      "metadata": {
        "colab": {
          "base_uri": "https://localhost:8080/",
          "height": 265
        },
        "id": "Ma9JcCp69Dhc",
        "outputId": "3ff0d92e-aec9-42fd-e02e-e087f8fc12d8"
      },
      "source": [
        "x = np.arange(5, 25)\n",
        "y = np.exp(x/3.0)\n",
        "f = interpolate.interp1d(x, y)\n",
        "x1 = np.arange(6, 22)\n",
        "y1 = f(x1)\n",
        "plt.plot(x, y, 'o', x1, y1, '--')\n",
        "plt.show()"
      ],
      "execution_count": null,
      "outputs": [
        {
          "output_type": "display_data",
          "data": {
            "image/png": "[encoded data removed]",
            "text/plain": [
              "<Figure size 432x288 with 1 Axes>"
            ]
          },
          "metadata": {
            "tags": [],
            "needs_background": "light"
          }
        }
      ]
    },
    {
      "cell_type": "code",
      "metadata": {
        "colab": {
          "base_uri": "https://localhost:8080/"
        },
        "id": "Kbaaf4_4VsDg",
        "outputId": "d66e9d06-e14b-4f79-9ec8-cda1409eeeb1"
      },
      "source": [
        "from scipy import constants\n",
        "constants.pi "
      ],
      "execution_count": null,
      "outputs": [
        {
          "output_type": "execute_result",
          "data": {
            "text/plain": [
              "3.141592653589793"
            ]
          },
          "metadata": {
            "tags": []
          },
          "execution_count": 28
        }
      ]
    },
    {
      "cell_type": "code",
      "metadata": {
        "colab": {
          "base_uri": "https://localhost:8080/"
        },
        "id": "BeL0GvJRa2Ut",
        "outputId": "1fb6273e-db43-4014-c5b6-8941b1d3a236"
      },
      "source": [
        "from scipy.stats import ttest_ind\n",
        "\n",
        "arr1 = np.random.normal(size = 100)\n",
        "arr2 = np.random.normal(size = 100)\n",
        "\n",
        "result = ttest_ind(arr1, arr2)\n",
        "result"
      ],
      "execution_count": null,
      "outputs": [
        {
          "output_type": "execute_result",
          "data": {
            "text/plain": [
              "Ttest_indResult(statistic=0.30227060796362104, pvalue=0.7627630646629537)"
            ]
          },
          "metadata": {
            "tags": []
          },
          "execution_count": 35
        }
      ]
    },
    {
      "cell_type": "code",
      "metadata": {
        "colab": {
          "base_uri": "https://localhost:8080/",
          "height": 162
        },
        "id": "JQ2XmNEbwKw3",
        "outputId": "30bec3ca-3285-423f-9118-3ebdb241fef1"
      },
      "source": [
        "result.statistic"
      ],
      "execution_count": null,
      "outputs": [
        {
          "output_type": "error",
          "ename": "NameError",
          "evalue": "ignored",
          "traceback": [
            "\u001b[0;31m---------------------------------------------------------------------------\u001b[0m",
            "\u001b[0;31mNameError\u001b[0m                                 Traceback (most recent call last)",
            "\u001b[0;32m<ipython-input-25-a59519c07d95>\u001b[0m in \u001b[0;36m<module>\u001b[0;34m()\u001b[0m\n\u001b[0;32m----> 1\u001b[0;31m \u001b[0mresult\u001b[0m\u001b[0;34m.\u001b[0m\u001b[0mstatistic\u001b[0m\u001b[0;34m\u001b[0m\u001b[0;34m\u001b[0m\u001b[0m\n\u001b[0m",
            "\u001b[0;31mNameError\u001b[0m: name 'result' is not defined"
          ]
        }
      ]
    },
    {
      "cell_type": "code",
      "metadata": {
        "id": "OUlyaID-Zast"
      },
      "source": [
        "result.pvalue"
      ],
      "execution_count": null,
      "outputs": []
    }
  ]
}