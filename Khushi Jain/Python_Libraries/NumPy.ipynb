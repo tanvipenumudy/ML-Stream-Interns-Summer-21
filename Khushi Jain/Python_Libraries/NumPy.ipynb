{
  "nbformat": 4,
  "nbformat_minor": 0,
  "metadata": {
    "colab": {
      "name": "NumPy.ipynb",
      "provenance": [],
      "collapsed_sections": []
    },
    "kernelspec": {
      "name": "python3",
      "display_name": "Python 3"
    }
  },
  "cells": [
    {
      "cell_type": "markdown",
      "metadata": {
        "id": "eIfDL8Z1IIxZ"
      },
      "source": [
        "# NumPy (Numeric Package)"
      ]
    },
    {
      "cell_type": "markdown",
      "metadata": {
        "id": "_tHEHpv9yDZ3"
      },
      "source": [
        "##### Lists in python are very slow so NumPy provides an **array** **object** that is up to 50x faster than lists. The array object in NumPy is called ndarray"
      ]
    },
    {
      "cell_type": "markdown",
      "metadata": {
        "id": "12SgO19XyShz"
      },
      "source": [
        "### Why is NumPy Faster Than Lists?\n",
        "##### NumPy arrays are stored at one continuous place in memory unlike lists, so processes can access and manipulate them very efficiently."
      ]
    },
    {
      "cell_type": "markdown",
      "metadata": {
        "id": "qOuaL5DHIjmi"
      },
      "source": [
        "##### Open-source package\n",
        "##### Multidimensional array object\n",
        "##### All elements of same datatype\n",
        "##### Zero-based indexing\n",
        "##### Consists of contiguous 1-D segment of computer memory\n"
      ]
    },
    {
      "cell_type": "code",
      "metadata": {
        "id": "9sE5txDdIyPT"
      },
      "source": [
        "import numpy as np\n",
        "import pandas as pd"
      ],
      "execution_count": null,
      "outputs": []
    },
    {
      "cell_type": "code",
      "metadata": {
        "colab": {
          "base_uri": "https://localhost:8080/",
          "height": 35
        },
        "id": "4C5zoUKny3YI",
        "outputId": "25a3fc6b-888f-4dcc-c9b9-95e1a92a6358"
      },
      "source": [
        "np.__version__"
      ],
      "execution_count": null,
      "outputs": [
        {
          "output_type": "execute_result",
          "data": {
            "application/vnd.google.colaboratory.intrinsic+json": {
              "type": "string"
            },
            "text/plain": [
              "'1.19.5'"
            ]
          },
          "metadata": {
            "tags": []
          },
          "execution_count": 73
        }
      ]
    },
    {
      "cell_type": "markdown",
      "metadata": {
        "id": "2WYsChv22wx8"
      },
      "source": [
        "# type(), .ndim, .dtype"
      ]
    },
    {
      "cell_type": "code",
      "metadata": {
        "colab": {
          "base_uri": "https://localhost:8080/"
        },
        "id": "LwH-ukzJIzkA",
        "outputId": "aa1ea343-3d8c-4bd8-8d8f-c41bac198371"
      },
      "source": [
        "a = np.array([1,2,3,4])\n",
        "print(a)\n",
        "print(type(a))\n",
        "print(a.dtype)\n",
        "print(a.ndim)\n",
        "\n",
        "# Above methods work with numpy array, pandas series, pandas dataframes"
      ],
      "execution_count": null,
      "outputs": [
        {
          "output_type": "stream",
          "text": [
            "[1 2 3 4]\n",
            "<class 'numpy.ndarray'>\n",
            "int64\n",
            "1\n"
          ],
          "name": "stdout"
        }
      ]
    },
    {
      "cell_type": "code",
      "metadata": {
        "colab": {
          "base_uri": "https://localhost:8080/"
        },
        "id": "dUKQ5chNJR3_",
        "outputId": "25aae108-9580-475e-d8b4-0321f151c96f"
      },
      "source": [
        "np.array([[1,2],[3,4],[5,6]]).ndim"
      ],
      "execution_count": null,
      "outputs": [
        {
          "output_type": "execute_result",
          "data": {
            "text/plain": [
              "2"
            ]
          },
          "metadata": {
            "tags": []
          },
          "execution_count": 3
        }
      ]
    },
    {
      "cell_type": "code",
      "metadata": {
        "colab": {
          "base_uri": "https://localhost:8080/"
        },
        "id": "vKB2oXh6JGyQ",
        "outputId": "98e79b77-97d6-47a0-8982-155bee5f05d5"
      },
      "source": [
        "b = np.array([(1,2,3,4), (5,6,7,8)])\n",
        "b"
      ],
      "execution_count": null,
      "outputs": [
        {
          "output_type": "execute_result",
          "data": {
            "text/plain": [
              "array([[1, 2, 3, 4],\n",
              "       [5, 6, 7, 8]])"
            ]
          },
          "metadata": {
            "tags": []
          },
          "execution_count": 5
        }
      ]
    },
    {
      "cell_type": "code",
      "metadata": {
        "colab": {
          "base_uri": "https://localhost:8080/"
        },
        "id": "zpKXulLgJNR1",
        "outputId": "cd063b42-0794-43f0-9d94-1fca9963b713"
      },
      "source": [
        "# minimum dimensions \n",
        "\n",
        "a = np.array([1, 2, 3, 4, 5], ndmin = 2) \n",
        "a"
      ],
      "execution_count": null,
      "outputs": [
        {
          "output_type": "execute_result",
          "data": {
            "text/plain": [
              "array([[1, 2, 3, 4, 5]])"
            ]
          },
          "metadata": {
            "tags": []
          },
          "execution_count": 79
        }
      ]
    },
    {
      "cell_type": "code",
      "metadata": {
        "colab": {
          "base_uri": "https://localhost:8080/"
        },
        "id": "czUqgSpkJgKc",
        "outputId": "8ab0ec38-71b4-4ec2-e70d-4348eedffd1d"
      },
      "source": [
        "# dtype parameter \n",
        "\n",
        "import numpy as np \n",
        "a = np.array([1, 2, 3], dtype = np.complex_) \n",
        "a"
      ],
      "execution_count": null,
      "outputs": [
        {
          "output_type": "execute_result",
          "data": {
            "text/plain": [
              "array([1.+0.j, 2.+0.j, 3.+0.j])"
            ]
          },
          "metadata": {
            "tags": []
          },
          "execution_count": 7
        }
      ]
    },
    {
      "cell_type": "markdown",
      "metadata": {
        "id": "qLVxYvi-KxlA"
      },
      "source": [
        "##Datatype\n",
        "##### NumPy consist of variety of datatypes. Eg-np.bool_, np.int_, np.float_, np.complex_"
      ]
    },
    {
      "cell_type": "markdown",
      "metadata": {
        "id": "4XTpP4UKNiB9"
      },
      "source": [
        "## Array Attributes"
      ]
    },
    {
      "cell_type": "markdown",
      "metadata": {
        "id": "60SRAju03CUa"
      },
      "source": [
        "# ndarray.shape "
      ]
    },
    {
      "cell_type": "code",
      "metadata": {
        "colab": {
          "base_uri": "https://localhost:8080/"
        },
        "id": "ttd3U-DzNqGC",
        "outputId": "7f949e51-d622-4788-d438-eb8adca2a2ae"
      },
      "source": [
        "a2 = np.array([[1, 2, 3],[4, 5, 6]])\n",
        "print(a2.shape)"
      ],
      "execution_count": null,
      "outputs": [
        {
          "output_type": "stream",
          "text": [
            "(2, 3)\n"
          ],
          "name": "stdout"
        }
      ]
    },
    {
      "cell_type": "code",
      "metadata": {
        "colab": {
          "base_uri": "https://localhost:8080/"
        },
        "id": "smiAhhP5N3Kb",
        "outputId": "8111cd47-770f-4290-c38f-37cd6cf9c8f5"
      },
      "source": [
        "a3 = np.array([[1, 2, 3], [4, 5, 6]])\n",
        "print(a3)\n",
        "a3.shape = (3, 2) # inplace \n",
        "print(a3)\n"
      ],
      "execution_count": null,
      "outputs": [
        {
          "output_type": "stream",
          "text": [
            "[[1 2 3]\n",
            " [4 5 6]]\n",
            "[[1 2]\n",
            " [3 4]\n",
            " [5 6]]\n"
          ],
          "name": "stdout"
        }
      ]
    },
    {
      "cell_type": "markdown",
      "metadata": {
        "id": "rKRy46Wh2Czr"
      },
      "source": [
        "# Copy vs View\n",
        "##### Any changes made to the copy will not affect original array, and any changes made to the original array will not affect the copy.\n",
        "##### Any changes made to the view will affect the original array, and any changes made to the original array will affect the view."
      ]
    },
    {
      "cell_type": "markdown",
      "metadata": {
        "id": "qrqq1DlPQawy"
      },
      "source": [
        "# ndarray.reshape(a, b) --> not inplace"
      ]
    },
    {
      "cell_type": "code",
      "metadata": {
        "colab": {
          "base_uri": "https://localhost:8080/"
        },
        "id": "RVBN9WwcOMBp",
        "outputId": "ed247f19-4d09-4704-cb9e-c51b104098f7"
      },
      "source": [
        "a4 = np.array([[1, 2, 3], [4, 5, 6]])\n",
        "print(a4)\n",
        "a5 = a4.reshape(3, 2) # View\n",
        "print(a5)"
      ],
      "execution_count": null,
      "outputs": [
        {
          "output_type": "stream",
          "text": [
            "[[1 2 3]\n",
            " [4 5 6]]\n",
            "[[1 2]\n",
            " [3 4]\n",
            " [5 6]]\n"
          ],
          "name": "stdout"
        }
      ]
    },
    {
      "cell_type": "markdown",
      "metadata": {
        "id": "87FChhLaQ1nq"
      },
      "source": [
        "# np.arange(n)\n",
        "##### n.arange(start=0, stop, step=1, dtype='int')\n",
        "##### Create an array in the range [start, stop)"
      ]
    },
    {
      "cell_type": "code",
      "metadata": {
        "colab": {
          "base_uri": "https://localhost:8080/"
        },
        "id": "vUkyHUW6MDyO",
        "outputId": "48c35e86-fc4e-43f1-8540-c665e0f6630c"
      },
      "source": [
        "a7 = np.arange(2, 20, 2, 'float')\n",
        "print(a7)"
      ],
      "execution_count": null,
      "outputs": [
        {
          "output_type": "stream",
          "text": [
            "[ 2.  4.  6.  8. 10. 12. 14. 16. 18.]\n"
          ],
          "name": "stdout"
        }
      ]
    },
    {
      "cell_type": "code",
      "metadata": {
        "colab": {
          "base_uri": "https://localhost:8080/"
        },
        "id": "AwZ0keYPPyxo",
        "outputId": "287b5bbb-7fba-43b7-a340-b15700ebfea5"
      },
      "source": [
        "a7 = np.arange(24)\n",
        "print(a7)\n",
        "a8 = a7.reshape(2, 4, 3)\n",
        "print(a8)"
      ],
      "execution_count": null,
      "outputs": [
        {
          "output_type": "stream",
          "text": [
            "[ 0  1  2  3  4  5  6  7  8  9 10 11 12 13 14 15 16 17 18 19 20 21 22 23]\n",
            "[[[ 0  1  2]\n",
            "  [ 3  4  5]\n",
            "  [ 6  7  8]\n",
            "  [ 9 10 11]]\n",
            "\n",
            " [[12 13 14]\n",
            "  [15 16 17]\n",
            "  [18 19 20]\n",
            "  [21 22 23]]]\n"
          ],
          "name": "stdout"
        }
      ]
    },
    {
      "cell_type": "markdown",
      "metadata": {
        "id": "0FHcWtAD4ES9"
      },
      "source": [
        "# np.linspace(start=0, stop, nums=50, endpoint=True, retstep=False, dtype=None)\n",
        "##### Returns num evenly spaced samples, calculated over the interval [start, stop].\n",
        "###### if endpoint = True, stop value will be included else not included (default True)\n",
        "##### retstep = True, return the step size b/w 2 numbers (default False)"
      ]
    },
    {
      "cell_type": "code",
      "metadata": {
        "colab": {
          "base_uri": "https://localhost:8080/"
        },
        "id": "UYvvQ4JV8Joq",
        "outputId": "dd37dc4d-f8d0-4440-ed21-dff416321e4a"
      },
      "source": [
        "x = np.linspace(10,20,5, False, True) \n",
        "print(x)\n",
        "y = np.linspace(10,20,5) \n",
        "print(y)"
      ],
      "execution_count": null,
      "outputs": [
        {
          "output_type": "stream",
          "text": [
            "(array([10., 12., 14., 16., 18.]), 2.0)\n",
            "[10.  12.5 15.  17.5 20. ]\n"
          ],
          "name": "stdout"
        }
      ]
    },
    {
      "cell_type": "markdown",
      "metadata": {
        "id": "j6xKC6Oku91w"
      },
      "source": [
        "# ndarray.itemsize"
      ]
    },
    {
      "cell_type": "code",
      "metadata": {
        "colab": {
          "base_uri": "https://localhost:8080/"
        },
        "id": "5OWv4BnIREx9",
        "outputId": "c66edaee-f06f-490d-c459-30f5eb5933b1"
      },
      "source": [
        "# This array attribute returns the length of a single element of array in bytes. \n",
        "\n",
        "a9 = np.array([1,2,3,4,5], dtype = np.float32)\n",
        "print(a9.itemsize)\n",
        "a10 = np.array([1,2,3], dtype = np.int8) # 8 bits = 1 bytes\n",
        "print(a10.itemsize)"
      ],
      "execution_count": null,
      "outputs": [
        {
          "output_type": "stream",
          "text": [
            "4\n",
            "1\n"
          ],
          "name": "stdout"
        }
      ]
    },
    {
      "cell_type": "markdown",
      "metadata": {
        "id": "eOCZQHlyvsJe"
      },
      "source": [
        "# ndarray creation"
      ]
    },
    {
      "cell_type": "markdown",
      "metadata": {
        "id": "TfnysFaOvxNw"
      },
      "source": [
        "# numpy.empty(shape, dtype=float)"
      ]
    },
    {
      "cell_type": "code",
      "metadata": {
        "colab": {
          "base_uri": "https://localhost:8080/"
        },
        "id": "EPUORIGOvQsr",
        "outputId": "8a6eb1ca-5028-4e9f-b949-ae85ca11d7c3"
      },
      "source": [
        "# It creates an uninitialized array of specified shape and dtype. \n",
        "# show some random values as they are not initialized\n",
        "# C (row major) or F (column major). C is default\n",
        "# C order means that operating row-rise on the array will be slightly quicker\n",
        "# F order means that column-wise operations will be faster.\n",
        "\n",
        "a = np.empty((3,4), dtype = int, order = 'F')\n",
        "print(a, '\\n')\n",
        "b = np.empty((3,4), order = 'C')\n",
        "print(b)"
      ],
      "execution_count": null,
      "outputs": [
        {
          "output_type": "stream",
          "text": [
            "[[       72918976        48477856 139963789727680               2]\n",
            " [              0 139963789727680 139963789727680     12884901888]\n",
            " [           1605        48477864               0              11]] \n",
            "\n",
            "[[3.60233460e-316 0.00000000e+000 7.92975362e-321 2.39512037e-316]\n",
            " [6.91513002e-310 2.39512077e-316 6.91513002e-310 6.91513002e-310]\n",
            " [0.00000000e+000 4.94065646e-324 3.04578529e-314 5.43472210e-323]]\n"
          ],
          "name": "stdout"
        }
      ]
    },
    {
      "cell_type": "markdown",
      "metadata": {
        "id": "Pezeufjfx0Yr"
      },
      "source": [
        "# np.zeros(shape, dtype=float)"
      ]
    },
    {
      "cell_type": "code",
      "metadata": {
        "colab": {
          "base_uri": "https://localhost:8080/"
        },
        "id": "BOOvSZnIwEKo",
        "outputId": "d7a94717-cd12-445e-fb1d-5b31e5355ddc"
      },
      "source": [
        "a = np.zeros((4,5), dtype = np.complex_)\n",
        "print(a)"
      ],
      "execution_count": null,
      "outputs": [
        {
          "output_type": "stream",
          "text": [
            "[[0.+0.j 0.+0.j 0.+0.j 0.+0.j 0.+0.j]\n",
            " [0.+0.j 0.+0.j 0.+0.j 0.+0.j 0.+0.j]\n",
            " [0.+0.j 0.+0.j 0.+0.j 0.+0.j 0.+0.j]\n",
            " [0.+0.j 0.+0.j 0.+0.j 0.+0.j 0.+0.j]]\n"
          ],
          "name": "stdout"
        }
      ]
    },
    {
      "cell_type": "markdown",
      "metadata": {
        "id": "YQ2PEgJkzMN0"
      },
      "source": [
        "# numpy.ones(shape, dtype=float)"
      ]
    },
    {
      "cell_type": "code",
      "metadata": {
        "colab": {
          "base_uri": "https://localhost:8080/"
        },
        "id": "ZcT_hhQzyHID",
        "outputId": "d3e36ac9-8e37-48ca-82c7-0013d7f387b9"
      },
      "source": [
        "# Returns a new array of specified size and type, filled with ones.\n",
        "# default is float\n",
        "\n",
        "a = np.ones((2,3), dtype = np.int8)\n",
        "print (a)"
      ],
      "execution_count": null,
      "outputs": [
        {
          "output_type": "stream",
          "text": [
            "[[1 1 1]\n",
            " [1 1 1]]\n"
          ],
          "name": "stdout"
        }
      ]
    },
    {
      "cell_type": "markdown",
      "metadata": {
        "id": "UQcNHlBKIg1R"
      },
      "source": [
        "# np.full(shape, fill_value, dtype=None) \n",
        "##### create an array with fixed value\n",
        "##### fill_value = None means np.array(fill_value).dtype"
      ]
    },
    {
      "cell_type": "code",
      "metadata": {
        "colab": {
          "base_uri": "https://localhost:8080/"
        },
        "id": "P1zgqdrnIk_i",
        "outputId": "94a32562-7f8b-471e-9cd4-67590c816ef3"
      },
      "source": [
        "a = np.full((3,4), 8, dtype = np.complex_)\n",
        "print(a)\n",
        "a = np.full((3,4), 8)\n",
        "print(a)"
      ],
      "execution_count": null,
      "outputs": [
        {
          "output_type": "stream",
          "text": [
            "[[8.+0.j 8.+0.j 8.+0.j 8.+0.j]\n",
            " [8.+0.j 8.+0.j 8.+0.j 8.+0.j]\n",
            " [8.+0.j 8.+0.j 8.+0.j 8.+0.j]]\n",
            "[[8 8 8 8]\n",
            " [8 8 8 8]\n",
            " [8 8 8 8]]\n"
          ],
          "name": "stdout"
        }
      ]
    },
    {
      "cell_type": "markdown",
      "metadata": {
        "id": "T1wgwbfrJEus"
      },
      "source": [
        "# np.eye(N, dtype=float)\n",
        "##### makes identity matrix"
      ]
    },
    {
      "cell_type": "code",
      "metadata": {
        "colab": {
          "base_uri": "https://localhost:8080/"
        },
        "id": "xXput8V1JJEi",
        "outputId": "ee721eeb-7994-4e09-a626-688290e6c4e0"
      },
      "source": [
        "a = np.eye(5) # makes square identity matrix\n",
        "b = np.eye(5,3)\n",
        "print(a, '\\n\\n', b)"
      ],
      "execution_count": null,
      "outputs": [
        {
          "output_type": "stream",
          "text": [
            "[[1. 0. 0. 0. 0.]\n",
            " [0. 1. 0. 0. 0.]\n",
            " [0. 0. 1. 0. 0.]\n",
            " [0. 0. 0. 1. 0.]\n",
            " [0. 0. 0. 0. 1.]] \n",
            "\n",
            " [[1. 0. 0.]\n",
            " [0. 1. 0.]\n",
            " [0. 0. 1.]\n",
            " [0. 0. 0.]\n",
            " [0. 0. 0.]]\n"
          ],
          "name": "stdout"
        }
      ]
    },
    {
      "cell_type": "markdown",
      "metadata": {
        "id": "U9vFtGK28yWt"
      },
      "source": [
        "# numpy.random.rand(d0, d1, ..., dn)\n",
        "##### Create an array of the given shape and populate it with random samples from a uniform distribution over **[0, 1)**."
      ]
    },
    {
      "cell_type": "code",
      "metadata": {
        "colab": {
          "base_uri": "https://localhost:8080/"
        },
        "id": "E3uE_5Jo81uz",
        "outputId": "8374aa76-c447-43f9-cd5d-a1a7c62687fd"
      },
      "source": [
        "print(np.random.rand(1), '\\n')\n",
        "print(np.random.rand(2,2,3))"
      ],
      "execution_count": null,
      "outputs": [
        {
          "output_type": "stream",
          "text": [
            "[0.75016924] \n",
            "\n",
            "[[[0.90780425 0.38214128 0.31985898]\n",
            "  [0.90828731 0.84509195 0.58102184]]\n",
            "\n",
            " [[0.6319711  0.29270652 0.61194028]\n",
            "  [0.11069872 0.2716201  0.05437108]]]\n"
          ],
          "name": "stdout"
        }
      ]
    },
    {
      "cell_type": "markdown",
      "metadata": {
        "id": "tk5i3xJh9wUc"
      },
      "source": [
        "# np.random.randint(low, high=None, size=None, dtype=int)\n",
        "##### Return random integers from low (inclusive) to high (exclusive).\n",
        "##### If high is None (the default), then results are from [0, low)."
      ]
    },
    {
      "cell_type": "code",
      "metadata": {
        "colab": {
          "base_uri": "https://localhost:8080/"
        },
        "id": "12fm0vgF90Hm",
        "outputId": "8c0638fd-1956-4447-9ecc-c2a7f6589d15"
      },
      "source": [
        "print(np.random.randint(4)) # random value from the range [0, 4)\n",
        "print(np.random.randint(2, 5)) # random value from the range [2, 5)\n",
        "print(np.random.randint(2, 5))\n",
        "print(np.random.randint(2, 5, (2,3)))"
      ],
      "execution_count": null,
      "outputs": [
        {
          "output_type": "stream",
          "text": [
            "3\n",
            "3\n",
            "3\n",
            "[[2 2 4]\n",
            " [2 3 2]]\n"
          ],
          "name": "stdout"
        }
      ]
    },
    {
      "cell_type": "markdown",
      "metadata": {
        "id": "Tg0nYDVfJUbW"
      },
      "source": [
        "# np.random.random(size=None)\n",
        "##### Return random floats in the interval [0.0, 1.0)"
      ]
    },
    {
      "cell_type": "code",
      "metadata": {
        "colab": {
          "base_uri": "https://localhost:8080/"
        },
        "id": "-VjPNdfCJYub",
        "outputId": "cd0778a2-0904-4854-8df4-3cd0cf3aad7c"
      },
      "source": [
        "a = np.random.random((2,3)) # size in tuple\n",
        "print(a)"
      ],
      "execution_count": null,
      "outputs": [
        {
          "output_type": "stream",
          "text": [
            "[[0.01001884 0.23198277 0.57550696]\n",
            " [0.03270792 0.97254675 0.2473522 ]]\n"
          ],
          "name": "stdout"
        }
      ]
    },
    {
      "cell_type": "markdown",
      "metadata": {
        "id": "o9Ama9Ko5DNl"
      },
      "source": [
        "## create arrray from existing data"
      ]
    },
    {
      "cell_type": "code",
      "metadata": {
        "colab": {
          "base_uri": "https://localhost:8080/"
        },
        "id": "Mvtrfa8yzWwm",
        "outputId": "184200ae-0508-450b-d443-639534770c24"
      },
      "source": [
        "# np.asarray(a, dtype, order)\n",
        "# a = Input data in any form such as list, list of tuples, tuples, tuple of tuples or tuple of lists\n",
        "\n",
        "x = [1,2,4]\n",
        "b = np.asarray(x, dtype = float) # list to array\n",
        "print(b)\n",
        "y = (1,2,3,4)\n",
        "c = np.asarray(y) # tuple to array\n",
        "print(c)"
      ],
      "execution_count": null,
      "outputs": [
        {
          "output_type": "stream",
          "text": [
            "[1. 2. 4.]\n",
            "[1 2 3 4]\n"
          ],
          "name": "stdout"
        }
      ]
    },
    {
      "cell_type": "code",
      "metadata": {
        "colab": {
          "base_uri": "https://localhost:8080/"
        },
        "id": "c-qCj1TF5qo5",
        "outputId": "77b88ebf-9117-4d12-c014-87f634c6ae94"
      },
      "source": [
        "x = [(1,2,3), (4,5,6)] # list of tuple to 2-D array\n",
        "a = np.asarray(x)\n",
        "print(a)"
      ],
      "execution_count": null,
      "outputs": [
        {
          "output_type": "stream",
          "text": [
            "[[1 2 3]\n",
            " [4 5 6]]\n"
          ],
          "name": "stdout"
        }
      ]
    },
    {
      "cell_type": "markdown",
      "metadata": {
        "id": "w37HV02r67N7"
      },
      "source": [
        "**Later**\n",
        "\n",
        "1.   np.frombuffer   \n",
        "2.   np.fromiter\n",
        "\n",
        "\n",
        "\n"
      ]
    },
    {
      "cell_type": "markdown",
      "metadata": {
        "id": "NBIDZexPEsEU"
      },
      "source": [
        "# Indexing"
      ]
    },
    {
      "cell_type": "code",
      "metadata": {
        "colab": {
          "base_uri": "https://localhost:8080/"
        },
        "id": "4KNegPRj6lfy",
        "outputId": "6742f5ad-de0d-404f-da7e-1eedf22268dd"
      },
      "source": [
        "# 1D array\n",
        "a = np.arange(10) \n",
        "b = a[5] \n",
        "print(b)\n",
        "print(a[2:])\n",
        "print(a[2:5])\n"
      ],
      "execution_count": null,
      "outputs": [
        {
          "output_type": "stream",
          "text": [
            "5\n",
            "[2 3 4 5 6 7 8 9]\n",
            "[2 3 4]\n"
          ],
          "name": "stdout"
        }
      ]
    },
    {
      "cell_type": "code",
      "metadata": {
        "colab": {
          "base_uri": "https://localhost:8080/"
        },
        "id": "jDwljXahE40N",
        "outputId": "bfbacda6-ae32-4c70-99a9-cc7f0086a965"
      },
      "source": [
        "# 2D array => a[row, col]\n",
        "\n",
        "a = np.array([[1,2,3],[3,4,5],[4,5,6]]) \n",
        "# print 'Now we will slice the array from the index a[1:]' \n",
        "print(a[1:])\n",
        "print('\\n') \n",
        "\n",
        "print( 'The items in the second column are:')  \n",
        "print( a[...,1] )\n",
        "print ('\\n')  \n",
        "\n",
        "# Now we will slice all items from the second row \n",
        "print( 'The items in the second row are:') \n",
        "print (a[1,...] )\n",
        "print('\\n') \n",
        "\n",
        "# Now we will slice all items from column 1 onwards \n",
        "print ('The items column 1 onwards are:' )\n",
        "print( a[...,1:])"
      ],
      "execution_count": null,
      "outputs": [
        {
          "output_type": "stream",
          "text": [
            "[[3 4 5]\n",
            " [4 5 6]]\n",
            "\n",
            "\n",
            "The items in the second column are:\n",
            "[2 4 5]\n",
            "\n",
            "\n",
            "The items in the second row are:\n",
            "[3 4 5]\n",
            "\n",
            "\n",
            "The items column 1 onwards are:\n",
            "[[2 3]\n",
            " [4 5]\n",
            " [5 6]]\n"
          ],
          "name": "stdout"
        }
      ]
    },
    {
      "cell_type": "code",
      "metadata": {
        "colab": {
          "base_uri": "https://localhost:8080/"
        },
        "id": "NET2c21AKpKq",
        "outputId": "2513da0f-1dfa-42d2-fdbe-24bb2d3185c8"
      },
      "source": [
        "a = np.array([[1,2,3],[3,4,5],[4,5,6]]) \n",
        "print(a, '\\n')\n",
        "print(a[:, :], '\\n') # all rows all columns\n",
        "print(a[:, 0], '\\n') # all rows 0th column\n",
        "print(a[0, :], '\\n') # 0th row all column"
      ],
      "execution_count": null,
      "outputs": [
        {
          "output_type": "stream",
          "text": [
            "[[1 2 3]\n",
            " [3 4 5]\n",
            " [4 5 6]] \n",
            "\n",
            "[[1 2 3]\n",
            " [3 4 5]\n",
            " [4 5 6]] \n",
            "\n",
            "[1 3 4] \n",
            "\n",
            "[1 2 3] \n",
            "\n"
          ],
          "name": "stdout"
        }
      ]
    },
    {
      "cell_type": "markdown",
      "metadata": {
        "id": "nXUNoR0oGVO9"
      },
      "source": [
        "# Mathematics"
      ]
    },
    {
      "cell_type": "code",
      "metadata": {
        "colab": {
          "base_uri": "https://localhost:8080/"
        },
        "id": "Pgtn_p9rFQxe",
        "outputId": "614ca126-4123-45d2-b787-adc07f903103"
      },
      "source": [
        "a = np.array([1,2,3,4])\n",
        "b = np.array((5,6,7,8))\n",
        "print(a+b)\n",
        "print(a-b)\n",
        "print(a*b)\n",
        "print(a/b)\n"
      ],
      "execution_count": null,
      "outputs": [
        {
          "output_type": "stream",
          "text": [
            "[ 6  8 10 12]\n",
            "[-4 -4 -4 -4]\n",
            "[ 5 12 21 32]\n",
            "[0.2        0.33333333 0.42857143 0.5       ]\n"
          ],
          "name": "stdout"
        }
      ]
    },
    {
      "cell_type": "markdown",
      "metadata": {
        "id": "6LWJOwxMWGdL"
      },
      "source": [
        "# Linear Algebra"
      ]
    },
    {
      "cell_type": "code",
      "metadata": {
        "colab": {
          "base_uri": "https://localhost:8080/"
        },
        "id": "drfEpZdSH57Y",
        "outputId": "0259e766-ee5e-4921-dc2f-9ddf75a77caa"
      },
      "source": [
        "one = np.ones((3,3))\n",
        "zero = np.zeros((3,3))\n",
        "print(one@zero) # dot product / matrix multiplication\n",
        "# one.dot(zero)\n",
        "# np.matmul(one, zero)"
      ],
      "execution_count": null,
      "outputs": [
        {
          "output_type": "stream",
          "text": [
            "[[0. 0. 0.]\n",
            " [0. 0. 0.]\n",
            " [0. 0. 0.]]\n"
          ],
          "name": "stdout"
        }
      ]
    },
    {
      "cell_type": "markdown",
      "metadata": {
        "id": "PJUaBTIFXw6z"
      },
      "source": [
        "# Statistics"
      ]
    },
    {
      "cell_type": "code",
      "metadata": {
        "colab": {
          "base_uri": "https://localhost:8080/"
        },
        "id": "3ZuYhDm4WN75",
        "outputId": "ade3a522-b218-463d-ca3b-3df05efee8fd"
      },
      "source": [
        "a = np.array(((1,2,3),(4,5,6),(7,8,9)))\n",
        "a"
      ],
      "execution_count": null,
      "outputs": [
        {
          "output_type": "execute_result",
          "data": {
            "text/plain": [
              "array([[1, 2, 3],\n",
              "       [4, 5, 6],\n",
              "       [7, 8, 9]])"
            ]
          },
          "metadata": {
            "tags": []
          },
          "execution_count": 28
        }
      ]
    },
    {
      "cell_type": "code",
      "metadata": {
        "colab": {
          "base_uri": "https://localhost:8080/"
        },
        "id": "OKIeGVVlX4sl",
        "outputId": "48a11cb3-b708-444f-810c-d253288ad36c"
      },
      "source": [
        "print(np.max(a))\n",
        "print(np.min(a))\n",
        "print(np.sum(a))\n",
        "print(np.mean(a))\n",
        "print(np.sum(a, axis = 0)) # column-wise"
      ],
      "execution_count": null,
      "outputs": [
        {
          "output_type": "stream",
          "text": [
            "9\n",
            "1\n",
            "45\n",
            "5.0\n",
            "[12 15 18]\n"
          ],
          "name": "stdout"
        }
      ]
    },
    {
      "cell_type": "markdown",
      "metadata": {
        "id": "eksyMCKCYdBH"
      },
      "source": [
        "# Transpose"
      ]
    },
    {
      "cell_type": "code",
      "metadata": {
        "colab": {
          "base_uri": "https://localhost:8080/"
        },
        "id": "QZIa93JMYAc_",
        "outputId": "82504002-aed0-43d8-df39-4942466c9eff"
      },
      "source": [
        "a = np.array([[1,2,3,4],[5,6,7,8]])\n",
        "a.T"
      ],
      "execution_count": null,
      "outputs": [
        {
          "output_type": "execute_result",
          "data": {
            "text/plain": [
              "array([[1, 5],\n",
              "       [2, 6],\n",
              "       [3, 7],\n",
              "       [4, 8]])"
            ]
          },
          "metadata": {
            "tags": []
          },
          "execution_count": 30
        }
      ]
    },
    {
      "cell_type": "markdown",
      "metadata": {
        "id": "1SiLvu6GeVQp"
      },
      "source": [
        "# Miscellaneous"
      ]
    },
    {
      "cell_type": "code",
      "metadata": {
        "colab": {
          "base_uri": "https://localhost:8080/"
        },
        "id": "c2YOzzuzcvBn",
        "outputId": "a191addf-6c2f-4a92-9a7e-34b0a80cbc03"
      },
      "source": [
        "a = np.arange(1, 17).reshape(4, 4)\n",
        "b = np.arange(17, 33).reshape(4,  4)\n",
        "print(a)\n",
        "print(b)\n",
        "print(np.hstack((a, b))) # col-wise\n",
        "print(np.vstack((a, b))) # row-wise\n"
      ],
      "execution_count": null,
      "outputs": [
        {
          "output_type": "stream",
          "text": [
            "[[ 1  2  3  4]\n",
            " [ 5  6  7  8]\n",
            " [ 9 10 11 12]\n",
            " [13 14 15 16]]\n",
            "[[17 18 19 20]\n",
            " [21 22 23 24]\n",
            " [25 26 27 28]\n",
            " [29 30 31 32]]\n",
            "[[ 1  2  3  4 17 18 19 20]\n",
            " [ 5  6  7  8 21 22 23 24]\n",
            " [ 9 10 11 12 25 26 27 28]\n",
            " [13 14 15 16 29 30 31 32]]\n",
            "[[ 1  2  3  4]\n",
            " [ 5  6  7  8]\n",
            " [ 9 10 11 12]\n",
            " [13 14 15 16]\n",
            " [17 18 19 20]\n",
            " [21 22 23 24]\n",
            " [25 26 27 28]\n",
            " [29 30 31 32]]\n"
          ],
          "name": "stdout"
        }
      ]
    },
    {
      "cell_type": "code",
      "metadata": {
        "colab": {
          "base_uri": "https://localhost:8080/"
        },
        "id": "LLeX687Yfg4E",
        "outputId": "e1e0908d-d6fa-4571-c238-d88f986eafad"
      },
      "source": [
        "new_a = a[a > 10]\n",
        "print(new_a)\n",
        "print(a > 10) # iterate over array a"
      ],
      "execution_count": null,
      "outputs": [
        {
          "output_type": "stream",
          "text": [
            "[11 12 13 14 15 16]\n",
            "[[False False False False]\n",
            " [False False False False]\n",
            " [False False  True  True]\n",
            " [ True  True  True  True]]\n"
          ],
          "name": "stdout"
        }
      ]
    },
    {
      "cell_type": "markdown",
      "metadata": {
        "id": "ojAL3T9Nej4r"
      },
      "source": [
        "# np.where()\n",
        "#####  np.where(condition, if TRUE then this, if FALSE then this value)\n"
      ]
    },
    {
      "cell_type": "code",
      "metadata": {
        "colab": {
          "base_uri": "https://localhost:8080/"
        },
        "id": "4-LhMsE7ejAD",
        "outputId": "c76a7ab2-4e26-42bf-d1cd-5bbf31138df8"
      },
      "source": [
        "a = np.arange(1, 10)\n",
        "print(a)\n",
        "b = np.where(a>5, a, 0)\n",
        "print(b)"
      ],
      "execution_count": null,
      "outputs": [
        {
          "output_type": "stream",
          "text": [
            "[1 2 3 4 5 6 7 8 9]\n",
            "[0 0 0 0 0 6 7 8 9]\n"
          ],
          "name": "stdout"
        }
      ]
    },
    {
      "cell_type": "code",
      "metadata": {
        "colab": {
          "base_uri": "https://localhost:8080/"
        },
        "id": "DotzUl8HfMGb",
        "outputId": "7398704d-1127-427a-bf39-85d6b2b64f82"
      },
      "source": [
        "a = [[True, False],[True, True]]\n",
        "b = np.where(a, [[1,2],[3,4]],[[5,6],[7,8]])\n",
        "print(b)"
      ],
      "execution_count": null,
      "outputs": [
        {
          "output_type": "stream",
          "text": [
            "[[1 6]\n",
            " [3 4]]\n"
          ],
          "name": "stdout"
        }
      ]
    },
    {
      "cell_type": "markdown",
      "metadata": {
        "id": "p7YeM7nshy7K"
      },
      "source": [
        "# np.argmax() / np.argmin()\n",
        "##### returns **row** index of max and min element in array along a given axis\n",
        "##### np.argmin(a, axis = None)"
      ]
    },
    {
      "cell_type": "code",
      "metadata": {
        "colab": {
          "base_uri": "https://localhost:8080/"
        },
        "id": "QCNG_tD-h1th",
        "outputId": "73e1d20f-6fc3-439f-985f-db2c68150e21"
      },
      "source": [
        "a = np.arange(6).reshape(2,3) + 10\n",
        "print(a)\n",
        "\n",
        "print(np.argmax(a))\n",
        "\n",
        "print(np.argmax(a, axis=0)) # vertical\n",
        "print(np.argmin(a, axis=0)) # vertical\n",
        "\n",
        "print(np.argmax(a, axis=1)) # horizontal\n",
        "print(np.argmin(a, axis=1)) # horizontal\n"
      ],
      "execution_count": null,
      "outputs": [
        {
          "output_type": "stream",
          "text": [
            "[[10 11 12]\n",
            " [13 14 15]]\n",
            "5\n",
            "[1 1 1]\n",
            "[0 0 0]\n",
            "[2 2]\n",
            "[0 0]\n"
          ],
          "name": "stdout"
        }
      ]
    },
    {
      "cell_type": "markdown",
      "metadata": {
        "id": "WcNWbnd_lM_V"
      },
      "source": [
        "# dataframe.idxmin(axis=0)\n",
        "##### Return index of first occurrence of minimum over requested axis."
      ]
    },
    {
      "cell_type": "code",
      "metadata": {
        "colab": {
          "base_uri": "https://localhost:8080/"
        },
        "id": "rtex4efelslC",
        "outputId": "b358ba93-b2c6-4cb2-b9be-ca7b3ff551ef"
      },
      "source": [
        "import pandas as pd\n",
        "df = pd.DataFrame({'consumption': [10.51, 103.11, 55.48], \n",
        "                   'co2_emissions': [37.2, 19.66, 1712]},\n",
        "                  index=['Pork', 'Wheat Products', 'Beef'])\n",
        "\n",
        "print(df, '\\n')\n",
        "\n",
        "print(df.idxmin(), '\\n')\n",
        "\n",
        "print(df.idxmin(axis=\"columns\"), '\\n')"
      ],
      "execution_count": null,
      "outputs": [
        {
          "output_type": "stream",
          "text": [
            "                consumption  co2_emissions\n",
            "Pork                  10.51          37.20\n",
            "Wheat Products       103.11          19.66\n",
            "Beef                  55.48        1712.00 \n",
            "\n",
            "consumption                Pork\n",
            "co2_emissions    Wheat Products\n",
            "dtype: object \n",
            "\n",
            "Pork                consumption\n",
            "Wheat Products    co2_emissions\n",
            "Beef                consumption\n",
            "dtype: object \n",
            "\n"
          ],
          "name": "stdout"
        }
      ]
    },
    {
      "cell_type": "markdown",
      "metadata": {
        "id": "Q3iD0VGKsPZn"
      },
      "source": [
        "# Difference b/w df.idxmin() and np.argmin()\n"
      ]
    },
    {
      "cell_type": "code",
      "metadata": {
        "colab": {
          "base_uri": "https://localhost:8080/"
        },
        "id": "2H-yisPQsQ3G",
        "outputId": "a5fe21f7-8462-40f0-9f72-5ae02dad4e29"
      },
      "source": [
        "a = np.array([[1,8,3],[6,3,2]])\n",
        "print(a, '\\n')\n",
        "print(np.argmin(a, axis=0), '\\n') # default None\n",
        "print(np.argmin(a, axis=1), '\\n') # default None\n",
        "\n",
        "# ####\n",
        "# In numpy we have np.argmin(a, axis=None) which works with numpy array or lists\n",
        "# In pandas we have dataframe.idxmin(axis = 0) which works only with datafrmes and series\n",
        "# ####\n",
        "\n",
        "b = pd.DataFrame([[1,8,3],[6,3,2]], index=['a', 'b'], columns=['A', 'B', 'C'])\n",
        "print(b, '\\n')\n",
        "print(b.idxmin(), '\\n') # default 0 \n",
        "# out of (a:1, b:6) a is min, out of(a:8, b:3) b is min, out of (a:3, b:2) b is min ---> therefore, ans = [a, b, b]\n",
        "print(b.idxmin(axis=1))\n",
        "# out of (A:1, B:8, C:3) A is min, out of(A:6, B:3, C:2) C is min ---> therefore, ans = [A, C]\n"
      ],
      "execution_count": null,
      "outputs": [
        {
          "output_type": "stream",
          "text": [
            "[[1 8 3]\n",
            " [6 3 2]] \n",
            "\n",
            "[0 1 1] \n",
            "\n",
            "[0 2] \n",
            "\n",
            "   A  B  C\n",
            "a  1  8  3\n",
            "b  6  3  2 \n",
            "\n",
            "A    a\n",
            "B    b\n",
            "C    b\n",
            "dtype: object \n",
            "\n",
            "a    A\n",
            "b    C\n",
            "dtype: object\n"
          ],
          "name": "stdout"
        }
      ]
    },
    {
      "cell_type": "markdown",
      "metadata": {
        "id": "rpGfmdH6mHeL"
      },
      "source": [
        "# np.sort()\n",
        "##### Return a sorted **copy** of an array.\n",
        "##### numpy.sort(a, axis=-1, kind=None, order=None)\n",
        "##### default axis -1 means sort according to last axis i.e. axis=1 in 2D array\n",
        "##### axis = None means flatten and sort the array"
      ]
    },
    {
      "cell_type": "code",
      "metadata": {
        "colab": {
          "base_uri": "https://localhost:8080/"
        },
        "id": "gugCokPNlC1w",
        "outputId": "f32a44a3-060e-4112-85e7-1f58d96aed30"
      },
      "source": [
        "arr = [[4,1],[2,6]]\n",
        "a=np.array(arr)\n",
        "\n",
        "default_axis = np.sort(a) # default axis = -1\n",
        "\n",
        "axis0 = np.sort(a, axis=0)\n",
        "\n",
        "none_axis = np.sort(a, axis = None)\n",
        "\n",
        "print(default_axis)\n",
        "print(axis0)\n",
        "print(none_axis)"
      ],
      "execution_count": null,
      "outputs": [
        {
          "output_type": "stream",
          "text": [
            "[[1 4]\n",
            " [2 6]]\n",
            "[[2 1]\n",
            " [4 6]]\n",
            "[1 2 4 6]\n"
          ],
          "name": "stdout"
        }
      ]
    },
    {
      "cell_type": "markdown",
      "metadata": {
        "id": "3qUhUQpSpfmu"
      },
      "source": [
        "# np.argsort()\n",
        "##### (a, axis=-1, kind=None, order=None)\n",
        "##### Returns the indices that would sort an array."
      ]
    },
    {
      "cell_type": "code",
      "metadata": {
        "colab": {
          "base_uri": "https://localhost:8080/"
        },
        "id": "aypdFMqIlGrN",
        "outputId": "17e32e64-b2a2-4d8e-a2b1-eea7f65fea0a"
      },
      "source": [
        "x = np.array([3, 1, 2])\n",
        "np.argsort(x)"
      ],
      "execution_count": null,
      "outputs": [
        {
          "output_type": "execute_result",
          "data": {
            "text/plain": [
              "array([1, 2, 0])"
            ]
          },
          "metadata": {
            "tags": []
          },
          "execution_count": 37
        }
      ]
    },
    {
      "cell_type": "code",
      "metadata": {
        "colab": {
          "base_uri": "https://localhost:8080/"
        },
        "id": "fuciS6d_pVh6",
        "outputId": "48c74667-2ee6-460c-c9e6-0694f7f6d3bf"
      },
      "source": [
        "x = np.array([[0, 3], [2, 2]])\n",
        "print(x)\n",
        "ind = np.argsort(x, axis=0)  # sorts along first axis (down)\n",
        "print(ind)\n",
        "ind2 = np.argsort(x, axis=1)  # sorts along first axis (down)\n",
        "print(ind2)"
      ],
      "execution_count": null,
      "outputs": [
        {
          "output_type": "stream",
          "text": [
            "[[0 3]\n",
            " [2 2]]\n",
            "[[0 1]\n",
            " [1 0]]\n",
            "[[0 1]\n",
            " [0 1]]\n"
          ],
          "name": "stdout"
        }
      ]
    },
    {
      "cell_type": "markdown",
      "metadata": {
        "id": "XZfLRWNxYgMa"
      },
      "source": [
        "# np.sum()\n",
        "##### np.sum(a, axis=None, dtype=None)\n",
        "##### dtype: The type of the returned array and of the accumulator in which the elements are summed"
      ]
    },
    {
      "cell_type": "code",
      "metadata": {
        "id": "sXQ34CwsqDhk",
        "colab": {
          "base_uri": "https://localhost:8080/"
        },
        "outputId": "a0a910a3-e300-47ac-a13e-1f2ea081c087"
      },
      "source": [
        "print(np.sum([0.5, 1.5])) # axis = None i.e. flatten and sum\n",
        "\n",
        "print(np.sum([0.5, 0.7, 0.2, 1.5], dtype=np.int32)) # convert all elements to int and then add -> [0,0,0,1] = 1\n",
        "\n",
        "print(np.sum([[0, 1], [0, 5]])) # axis = None i.e. flatten and sum\n",
        "\n",
        "print(np.sum([[0, 1], [0, 5]], axis=0)) # vertical\n",
        "\n",
        "print(np.sum([[0, 1], [0, 5]], axis=1)) # horizontal\n",
        "\n",
        "print(np.sum([[0, 4, 2], [3, 6, 8]], where=[False, True, True], axis=1)) # (4+2) (6+8)\n",
        "\n",
        "print(np.sum([[0, 4], [3, 6]], where=[True, False], axis=1))\n",
        "\n",
        "print(np.sum([[0, 4, 8], [3, 6, 1], [2, 5, 7]], where=[True, False, False], axis=1)) # axis=1 means from every row take sum of only those values which are at True position \n",
        "\n",
        "print(np.sum([[0, 4], [3, 6]], where=[True, False], axis=0)) # for axis=0,  False means that ans at this position should be zero\n",
        "\n",
        "print(np.sum([[0, 4, 2], [3, 6, 8]], where=[False, True, True], axis=0)) \n",
        "\n",
        "print(np.sum([[0, 4, 2], [3, 6, 8]], where=[True, False, False], axis=0)) \n"
      ],
      "execution_count": null,
      "outputs": [
        {
          "output_type": "stream",
          "text": [
            "2.0\n",
            "1\n",
            "6\n",
            "[0 6]\n",
            "[1 5]\n",
            "[ 6 14]\n",
            "[0 3]\n",
            "[0 3 2]\n",
            "[3 0]\n",
            "[ 0 10 10]\n",
            "[3 0 0]\n"
          ],
          "name": "stdout"
        }
      ]
    },
    {
      "cell_type": "markdown",
      "metadata": {
        "id": "sPE3kVbiIwf6"
      },
      "source": [
        "# DataFrame.drop_duplicates(subset=None, keep='first', inplace=False, ignore_index=False)\n",
        "##### Return DataFrame with duplicate rows removed.\n",
        "\n",
        "##### subset: Only consider certain columns for identifying duplicates, by default use all of the columns.\n",
        "\n",
        "##### keep{‘first’, ‘last’, False}: Determines which duplicates (if any) to keep. - first : Drop duplicates except for the first occurrence. - last : Drop duplicates except for the last occurrence. - False : Drop all duplicates.\n",
        "\n",
        "##### inplace: Whether to drop duplicates in place or to return a copy.\n",
        "\n",
        "##### ignore_index: If True, the resulting axis will be labeled 0,1,…,n-1."
      ]
    },
    {
      "cell_type": "code",
      "metadata": {
        "colab": {
          "base_uri": "https://localhost:8080/",
          "height": 195
        },
        "id": "Y6pVOtjFI9Bv",
        "outputId": "d2da1f8c-6ef7-4c52-9132-72549bbd3c24"
      },
      "source": [
        "df = pd.DataFrame({\n",
        "    'brand': ['Yum Yum', 'Yum Yum', 'Indomie', 'Indomie', 'Indomie'],\n",
        "    'style': ['cup', 'cup', 'cup', 'pack', 'pack'],\n",
        "    'rating': [4, 4, 3.5, 15, 5]\n",
        "})\n",
        "df"
      ],
      "execution_count": null,
      "outputs": [
        {
          "output_type": "execute_result",
          "data": {
            "text/html": [
              "<div>\n",
              "<style scoped>\n",
              "    .dataframe tbody tr th:only-of-type {\n",
              "        vertical-align: middle;\n",
              "    }\n",
              "\n",
              "    .dataframe tbody tr th {\n",
              "        vertical-align: top;\n",
              "    }\n",
              "\n",
              "    .dataframe thead th {\n",
              "        text-align: right;\n",
              "    }\n",
              "</style>\n",
              "<table border=\"1\" class=\"dataframe\">\n",
              "  <thead>\n",
              "    <tr style=\"text-align: right;\">\n",
              "      <th></th>\n",
              "      <th>brand</th>\n",
              "      <th>style</th>\n",
              "      <th>rating</th>\n",
              "    </tr>\n",
              "  </thead>\n",
              "  <tbody>\n",
              "    <tr>\n",
              "      <th>0</th>\n",
              "      <td>Yum Yum</td>\n",
              "      <td>cup</td>\n",
              "      <td>4.0</td>\n",
              "    </tr>\n",
              "    <tr>\n",
              "      <th>1</th>\n",
              "      <td>Yum Yum</td>\n",
              "      <td>cup</td>\n",
              "      <td>4.0</td>\n",
              "    </tr>\n",
              "    <tr>\n",
              "      <th>2</th>\n",
              "      <td>Indomie</td>\n",
              "      <td>cup</td>\n",
              "      <td>3.5</td>\n",
              "    </tr>\n",
              "    <tr>\n",
              "      <th>3</th>\n",
              "      <td>Indomie</td>\n",
              "      <td>pack</td>\n",
              "      <td>15.0</td>\n",
              "    </tr>\n",
              "    <tr>\n",
              "      <th>4</th>\n",
              "      <td>Indomie</td>\n",
              "      <td>pack</td>\n",
              "      <td>5.0</td>\n",
              "    </tr>\n",
              "  </tbody>\n",
              "</table>\n",
              "</div>"
            ],
            "text/plain": [
              "     brand style  rating\n",
              "0  Yum Yum   cup     4.0\n",
              "1  Yum Yum   cup     4.0\n",
              "2  Indomie   cup     3.5\n",
              "3  Indomie  pack    15.0\n",
              "4  Indomie  pack     5.0"
            ]
          },
          "metadata": {
            "tags": []
          },
          "execution_count": 100
        }
      ]
    },
    {
      "cell_type": "code",
      "metadata": {
        "colab": {
          "base_uri": "https://localhost:8080/",
          "height": 166
        },
        "id": "NlNKy41hKjj-",
        "outputId": "fcb52536-18ff-438e-9b84-b14aa73720ce"
      },
      "source": [
        "t = df.drop_duplicates() # not inplace\n",
        "t"
      ],
      "execution_count": null,
      "outputs": [
        {
          "output_type": "execute_result",
          "data": {
            "text/html": [
              "<div>\n",
              "<style scoped>\n",
              "    .dataframe tbody tr th:only-of-type {\n",
              "        vertical-align: middle;\n",
              "    }\n",
              "\n",
              "    .dataframe tbody tr th {\n",
              "        vertical-align: top;\n",
              "    }\n",
              "\n",
              "    .dataframe thead th {\n",
              "        text-align: right;\n",
              "    }\n",
              "</style>\n",
              "<table border=\"1\" class=\"dataframe\">\n",
              "  <thead>\n",
              "    <tr style=\"text-align: right;\">\n",
              "      <th></th>\n",
              "      <th>brand</th>\n",
              "      <th>style</th>\n",
              "      <th>rating</th>\n",
              "    </tr>\n",
              "  </thead>\n",
              "  <tbody>\n",
              "    <tr>\n",
              "      <th>0</th>\n",
              "      <td>Yum Yum</td>\n",
              "      <td>cup</td>\n",
              "      <td>4.0</td>\n",
              "    </tr>\n",
              "    <tr>\n",
              "      <th>2</th>\n",
              "      <td>Indomie</td>\n",
              "      <td>cup</td>\n",
              "      <td>3.5</td>\n",
              "    </tr>\n",
              "    <tr>\n",
              "      <th>3</th>\n",
              "      <td>Indomie</td>\n",
              "      <td>pack</td>\n",
              "      <td>15.0</td>\n",
              "    </tr>\n",
              "    <tr>\n",
              "      <th>4</th>\n",
              "      <td>Indomie</td>\n",
              "      <td>pack</td>\n",
              "      <td>5.0</td>\n",
              "    </tr>\n",
              "  </tbody>\n",
              "</table>\n",
              "</div>"
            ],
            "text/plain": [
              "     brand style  rating\n",
              "0  Yum Yum   cup     4.0\n",
              "2  Indomie   cup     3.5\n",
              "3  Indomie  pack    15.0\n",
              "4  Indomie  pack     5.0"
            ]
          },
          "metadata": {
            "tags": []
          },
          "execution_count": 101
        }
      ]
    },
    {
      "cell_type": "code",
      "metadata": {
        "colab": {
          "base_uri": "https://localhost:8080/",
          "height": 106
        },
        "id": "mlsEdtAMLNW1",
        "outputId": "b069d92a-685b-49db-c7f5-bd261e516ee5"
      },
      "source": [
        "t = df.drop_duplicates(subset=['brand']) # remove duplicates according to brand\n",
        "t"
      ],
      "execution_count": null,
      "outputs": [
        {
          "output_type": "execute_result",
          "data": {
            "text/html": [
              "<div>\n",
              "<style scoped>\n",
              "    .dataframe tbody tr th:only-of-type {\n",
              "        vertical-align: middle;\n",
              "    }\n",
              "\n",
              "    .dataframe tbody tr th {\n",
              "        vertical-align: top;\n",
              "    }\n",
              "\n",
              "    .dataframe thead th {\n",
              "        text-align: right;\n",
              "    }\n",
              "</style>\n",
              "<table border=\"1\" class=\"dataframe\">\n",
              "  <thead>\n",
              "    <tr style=\"text-align: right;\">\n",
              "      <th></th>\n",
              "      <th>brand</th>\n",
              "      <th>style</th>\n",
              "      <th>rating</th>\n",
              "    </tr>\n",
              "  </thead>\n",
              "  <tbody>\n",
              "    <tr>\n",
              "      <th>0</th>\n",
              "      <td>Yum Yum</td>\n",
              "      <td>cup</td>\n",
              "      <td>4.0</td>\n",
              "    </tr>\n",
              "    <tr>\n",
              "      <th>2</th>\n",
              "      <td>Indomie</td>\n",
              "      <td>cup</td>\n",
              "      <td>3.5</td>\n",
              "    </tr>\n",
              "  </tbody>\n",
              "</table>\n",
              "</div>"
            ],
            "text/plain": [
              "     brand style  rating\n",
              "0  Yum Yum   cup     4.0\n",
              "2  Indomie   cup     3.5"
            ]
          },
          "metadata": {
            "tags": []
          },
          "execution_count": 104
        }
      ]
    },
    {
      "cell_type": "code",
      "metadata": {
        "colab": {
          "base_uri": "https://localhost:8080/"
        },
        "id": "ZI-dqxcFLo3Y",
        "outputId": "87a0bac5-4fb2-49a4-fa4a-7c4b3faaf22b"
      },
      "source": [
        "print(df, '\\n')\n",
        "t = df.drop_duplicates(keep=False) # drop all\n",
        "print(t, '\\n')\n",
        "t2 = df.drop_duplicates(keep='last', ignore_index=True) # 0,1,2,3....\n",
        "print(t2, '\\n')"
      ],
      "execution_count": null,
      "outputs": [
        {
          "output_type": "stream",
          "text": [
            "     brand style  rating\n",
            "0  Yum Yum   cup     4.0\n",
            "1  Yum Yum   cup     4.0\n",
            "2  Indomie   cup     3.5\n",
            "3  Indomie  pack    15.0\n",
            "4  Indomie  pack     5.0 \n",
            "\n",
            "     brand style  rating\n",
            "2  Indomie   cup     3.5\n",
            "3  Indomie  pack    15.0\n",
            "4  Indomie  pack     5.0 \n",
            "\n",
            "     brand style  rating\n",
            "0  Yum Yum   cup     4.0\n",
            "1  Indomie   cup     3.5\n",
            "2  Indomie  pack    15.0\n",
            "3  Indomie  pack     5.0 \n",
            "\n"
          ],
          "name": "stdout"
        }
      ]
    },
    {
      "cell_type": "code",
      "metadata": {
        "colab": {
          "base_uri": "https://localhost:8080/",
          "height": 166
        },
        "id": "JGCIBwpAKoEG",
        "outputId": "c6bf63ae-70bb-4abd-a5c5-0842a3144080"
      },
      "source": [
        "# df.drop_duplicates(inplace=True) # inplace\n",
        "# df"
      ],
      "execution_count": null,
      "outputs": [
        {
          "output_type": "execute_result",
          "data": {
            "text/html": [
              "<div>\n",
              "<style scoped>\n",
              "    .dataframe tbody tr th:only-of-type {\n",
              "        vertical-align: middle;\n",
              "    }\n",
              "\n",
              "    .dataframe tbody tr th {\n",
              "        vertical-align: top;\n",
              "    }\n",
              "\n",
              "    .dataframe thead th {\n",
              "        text-align: right;\n",
              "    }\n",
              "</style>\n",
              "<table border=\"1\" class=\"dataframe\">\n",
              "  <thead>\n",
              "    <tr style=\"text-align: right;\">\n",
              "      <th></th>\n",
              "      <th>brand</th>\n",
              "      <th>style</th>\n",
              "      <th>rating</th>\n",
              "    </tr>\n",
              "  </thead>\n",
              "  <tbody>\n",
              "    <tr>\n",
              "      <th>0</th>\n",
              "      <td>Yum Yum</td>\n",
              "      <td>cup</td>\n",
              "      <td>4.0</td>\n",
              "    </tr>\n",
              "    <tr>\n",
              "      <th>2</th>\n",
              "      <td>Indomie</td>\n",
              "      <td>cup</td>\n",
              "      <td>3.5</td>\n",
              "    </tr>\n",
              "    <tr>\n",
              "      <th>3</th>\n",
              "      <td>Indomie</td>\n",
              "      <td>pack</td>\n",
              "      <td>15.0</td>\n",
              "    </tr>\n",
              "    <tr>\n",
              "      <th>4</th>\n",
              "      <td>Indomie</td>\n",
              "      <td>pack</td>\n",
              "      <td>5.0</td>\n",
              "    </tr>\n",
              "  </tbody>\n",
              "</table>\n",
              "</div>"
            ],
            "text/plain": [
              "     brand style  rating\n",
              "0  Yum Yum   cup     4.0\n",
              "2  Indomie   cup     3.5\n",
              "3  Indomie  pack    15.0\n",
              "4  Indomie  pack     5.0"
            ]
          },
          "metadata": {
            "tags": []
          },
          "execution_count": 91
        }
      ]
    },
    {
      "cell_type": "markdown",
      "metadata": {
        "id": "trewUpasMZlj"
      },
      "source": [
        "# dataframe.sub(other, axis='columns', level=None, fill_value=None)\n",
        "##### other: scalar, sequence, Series, or DataFrame"
      ]
    },
    {
      "cell_type": "code",
      "metadata": {
        "colab": {
          "base_uri": "https://localhost:8080/",
          "height": 106
        },
        "id": "Ca4khEO-MmZz",
        "outputId": "3b536b5a-3495-4f06-f47e-740ffeec3afe"
      },
      "source": [
        "df = pd.DataFrame([[1,2],[3,4]], index=['a','b'], columns=['A','B'])\n",
        "df"
      ],
      "execution_count": null,
      "outputs": [
        {
          "output_type": "execute_result",
          "data": {
            "text/html": [
              "<div>\n",
              "<style scoped>\n",
              "    .dataframe tbody tr th:only-of-type {\n",
              "        vertical-align: middle;\n",
              "    }\n",
              "\n",
              "    .dataframe tbody tr th {\n",
              "        vertical-align: top;\n",
              "    }\n",
              "\n",
              "    .dataframe thead th {\n",
              "        text-align: right;\n",
              "    }\n",
              "</style>\n",
              "<table border=\"1\" class=\"dataframe\">\n",
              "  <thead>\n",
              "    <tr style=\"text-align: right;\">\n",
              "      <th></th>\n",
              "      <th>A</th>\n",
              "      <th>B</th>\n",
              "    </tr>\n",
              "  </thead>\n",
              "  <tbody>\n",
              "    <tr>\n",
              "      <th>a</th>\n",
              "      <td>1</td>\n",
              "      <td>2</td>\n",
              "    </tr>\n",
              "    <tr>\n",
              "      <th>b</th>\n",
              "      <td>3</td>\n",
              "      <td>4</td>\n",
              "    </tr>\n",
              "  </tbody>\n",
              "</table>\n",
              "</div>"
            ],
            "text/plain": [
              "   A  B\n",
              "a  1  2\n",
              "b  3  4"
            ]
          },
          "metadata": {
            "tags": []
          },
          "execution_count": 145
        }
      ]
    },
    {
      "cell_type": "code",
      "metadata": {
        "colab": {
          "base_uri": "https://localhost:8080/",
          "height": 106
        },
        "id": "_QbZWPpZM8oQ",
        "outputId": "c6f2b96e-65c7-4ee7-8875-98072636718d"
      },
      "source": [
        "df.sub(4)"
      ],
      "execution_count": null,
      "outputs": [
        {
          "output_type": "execute_result",
          "data": {
            "text/html": [
              "<div>\n",
              "<style scoped>\n",
              "    .dataframe tbody tr th:only-of-type {\n",
              "        vertical-align: middle;\n",
              "    }\n",
              "\n",
              "    .dataframe tbody tr th {\n",
              "        vertical-align: top;\n",
              "    }\n",
              "\n",
              "    .dataframe thead th {\n",
              "        text-align: right;\n",
              "    }\n",
              "</style>\n",
              "<table border=\"1\" class=\"dataframe\">\n",
              "  <thead>\n",
              "    <tr style=\"text-align: right;\">\n",
              "      <th></th>\n",
              "      <th>A</th>\n",
              "      <th>B</th>\n",
              "    </tr>\n",
              "  </thead>\n",
              "  <tbody>\n",
              "    <tr>\n",
              "      <th>a</th>\n",
              "      <td>-3</td>\n",
              "      <td>-2</td>\n",
              "    </tr>\n",
              "    <tr>\n",
              "      <th>b</th>\n",
              "      <td>-1</td>\n",
              "      <td>0</td>\n",
              "    </tr>\n",
              "  </tbody>\n",
              "</table>\n",
              "</div>"
            ],
            "text/plain": [
              "   A  B\n",
              "a -3 -2\n",
              "b -1  0"
            ]
          },
          "metadata": {
            "tags": []
          },
          "execution_count": 146
        }
      ]
    },
    {
      "cell_type": "code",
      "metadata": {
        "colab": {
          "base_uri": "https://localhost:8080/",
          "height": 106
        },
        "id": "Dk5afYXJNGAB",
        "outputId": "3e0a128c-47c1-4a4c-a360-30c0e2bb21da"
      },
      "source": [
        "df2 = pd.DataFrame([[1,1],[2,2]], index=['a','b'], columns=['A','B'])\n",
        "t = df.sub(df2)\n",
        "t"
      ],
      "execution_count": null,
      "outputs": [
        {
          "output_type": "execute_result",
          "data": {
            "text/html": [
              "<div>\n",
              "<style scoped>\n",
              "    .dataframe tbody tr th:only-of-type {\n",
              "        vertical-align: middle;\n",
              "    }\n",
              "\n",
              "    .dataframe tbody tr th {\n",
              "        vertical-align: top;\n",
              "    }\n",
              "\n",
              "    .dataframe thead th {\n",
              "        text-align: right;\n",
              "    }\n",
              "</style>\n",
              "<table border=\"1\" class=\"dataframe\">\n",
              "  <thead>\n",
              "    <tr style=\"text-align: right;\">\n",
              "      <th></th>\n",
              "      <th>A</th>\n",
              "      <th>B</th>\n",
              "    </tr>\n",
              "  </thead>\n",
              "  <tbody>\n",
              "    <tr>\n",
              "      <th>a</th>\n",
              "      <td>0</td>\n",
              "      <td>1</td>\n",
              "    </tr>\n",
              "    <tr>\n",
              "      <th>b</th>\n",
              "      <td>1</td>\n",
              "      <td>2</td>\n",
              "    </tr>\n",
              "  </tbody>\n",
              "</table>\n",
              "</div>"
            ],
            "text/plain": [
              "   A  B\n",
              "a  0  1\n",
              "b  1  2"
            ]
          },
          "metadata": {
            "tags": []
          },
          "execution_count": 148
        }
      ]
    },
    {
      "cell_type": "code",
      "metadata": {
        "colab": {
          "base_uri": "https://localhost:8080/"
        },
        "id": "vu0NXCzGOMD2",
        "outputId": "8a4293fb-28a9-4c20-da0f-bfc85c893d4e"
      },
      "source": [
        "dff = pd.Series([3,4])\n",
        "s = pd.Series([1,1])\n",
        "t = dff.sub(s)\n",
        "t"
      ],
      "execution_count": null,
      "outputs": [
        {
          "output_type": "execute_result",
          "data": {
            "text/plain": [
              "0    2\n",
              "1    3\n",
              "dtype: int64"
            ]
          },
          "metadata": {
            "tags": []
          },
          "execution_count": 149
        }
      ]
    },
    {
      "cell_type": "markdown",
      "metadata": {
        "id": "qoAo_zp-F55W"
      },
      "source": [
        "# .tolist()\n",
        "##### Converts df, series, numpy array to list"
      ]
    },
    {
      "cell_type": "code",
      "metadata": {
        "colab": {
          "base_uri": "https://localhost:8080/"
        },
        "id": "UqoXBAFjF_RP",
        "outputId": "5cdbcc0c-326c-444f-bf79-dc068508f722"
      },
      "source": [
        "# convert pandas series to list\n",
        "lis = [10,20,30,40]\n",
        "ser = pd.Series(lis)\n",
        "ser.tolist()"
      ],
      "execution_count": null,
      "outputs": [
        {
          "output_type": "execute_result",
          "data": {
            "text/plain": [
              "[10, 20, 30, 40]"
            ]
          },
          "metadata": {
            "tags": []
          },
          "execution_count": 39
        }
      ]
    },
    {
      "cell_type": "code",
      "metadata": {
        "colab": {
          "base_uri": "https://localhost:8080/"
        },
        "id": "03bpdePkGZpr",
        "outputId": "810da20b-cb41-4255-8b35-5a1f749c85b8"
      },
      "source": [
        "# convert pandas dataframe to list\n",
        "# cannot convert df to list directly so first convert it to numpy ndarray using .index and then to list\n",
        "dict = [[10,20],[30,40],[50,60]]\n",
        "df = pd.DataFrame(dict)\n",
        "df.to_numpy().tolist()"
      ],
      "execution_count": null,
      "outputs": [
        {
          "output_type": "execute_result",
          "data": {
            "text/plain": [
              "[[10, 20], [30, 40], [50, 60]]"
            ]
          },
          "metadata": {
            "tags": []
          },
          "execution_count": 52
        }
      ]
    },
    {
      "cell_type": "code",
      "metadata": {
        "colab": {
          "base_uri": "https://localhost:8080/"
        },
        "id": "Ddgghro0HNmx",
        "outputId": "423e1220-0ffc-4834-b59b-23c4b542e20c"
      },
      "source": [
        "# convert numpy array to list\n",
        "arr = [10,20,30]\n",
        "narr = np.array(arr)\n",
        "narr.tolist()"
      ],
      "execution_count": null,
      "outputs": [
        {
          "output_type": "execute_result",
          "data": {
            "text/plain": [
              "[10, 20, 30]"
            ]
          },
          "metadata": {
            "tags": []
          },
          "execution_count": 46
        }
      ]
    },
    {
      "cell_type": "markdown",
      "metadata": {
        "id": "5Yu-zb70BhzX"
      },
      "source": [
        "# dataframe.values   **!! Use dataframe.to_numpy() instead**\n",
        "##### converts dataframe to numpy array\n",
        "##### Only the values in the DataFrame will be returned, the axes labels will be removed."
      ]
    },
    {
      "cell_type": "code",
      "metadata": {
        "colab": {
          "base_uri": "https://localhost:8080/"
        },
        "id": "5_5EW17lDv-O",
        "outputId": "be5fb160-01fe-426d-b778-f2afa6311571"
      },
      "source": [
        "df = pd.DataFrame({'animal': ['cat', 'cat', 'snake', 'dog', 'dog', 'cat', 'snake', 'cat', 'dog', 'dog'],\n",
        "        'age': [2.5, 3, 0.5, np.nan, 5, 2, 4.5, np.nan, 7, 3]})\n",
        "df.values"
      ],
      "execution_count": null,
      "outputs": [
        {
          "output_type": "execute_result",
          "data": {
            "text/plain": [
              "array([['cat', 2.5],\n",
              "       ['cat', 3.0],\n",
              "       ['snake', 0.5],\n",
              "       ['dog', nan],\n",
              "       ['dog', 5.0],\n",
              "       ['cat', 2.0],\n",
              "       ['snake', 4.5],\n",
              "       ['cat', nan],\n",
              "       ['dog', 7.0],\n",
              "       ['dog', 3.0]], dtype=object)"
            ]
          },
          "metadata": {
            "tags": []
          },
          "execution_count": 47
        }
      ]
    },
    {
      "cell_type": "markdown",
      "metadata": {
        "id": "7S7WECUoIB-d"
      },
      "source": [
        "# dataframe.to_numpy()\n",
        "##### converts pandas series or df to numpy array"
      ]
    },
    {
      "cell_type": "code",
      "metadata": {
        "colab": {
          "base_uri": "https://localhost:8080/"
        },
        "id": "zkcnC867tyAk",
        "outputId": "0cd3fb6a-16be-40fd-fe35-0e998fb00c32"
      },
      "source": [
        "pd.DataFrame({\"A\": [1, 2], \"B\": [3, 4]}).to_numpy()"
      ],
      "execution_count": null,
      "outputs": [
        {
          "output_type": "execute_result",
          "data": {
            "text/plain": [
              "array([[1, 3],\n",
              "       [2, 4]])"
            ]
          },
          "metadata": {
            "tags": []
          },
          "execution_count": 53
        }
      ]
    },
    {
      "cell_type": "code",
      "metadata": {
        "colab": {
          "base_uri": "https://localhost:8080/"
        },
        "id": "71aKXcB8uvrJ",
        "outputId": "a3ef6612-e5fb-4647-918f-379ff76f270c"
      },
      "source": [
        "pd.Series([10,20,30]).to_numpy()"
      ],
      "execution_count": null,
      "outputs": [
        {
          "output_type": "execute_result",
          "data": {
            "text/plain": [
              "array([10, 20, 30])"
            ]
          },
          "metadata": {
            "tags": []
          },
          "execution_count": 54
        }
      ]
    },
    {
      "cell_type": "markdown",
      "metadata": {
        "id": "gNQivuloECnM"
      },
      "source": [
        "# .index\n",
        "##### returns index of a Series or dataframe"
      ]
    },
    {
      "cell_type": "code",
      "metadata": {
        "colab": {
          "base_uri": "https://localhost:8080/"
        },
        "id": "syDdTfwWEiCD",
        "outputId": "96efdbd1-38a3-4dfd-8250-c1974a229b13"
      },
      "source": [
        "# index of series\n",
        "s=pd.Series([10,20,30], index = ['a','b','c'])\n",
        "\n",
        "print(s.index)\n",
        "print(s.index.to_numpy()) # convert to numpy \n",
        "print(s.index.to_numpy().tolist()) # convert to list"
      ],
      "execution_count": null,
      "outputs": [
        {
          "output_type": "stream",
          "text": [
            "Index(['a', 'b', 'c'], dtype='object')\n",
            "['a' 'b' 'c']\n",
            "['a', 'b', 'c']\n"
          ],
          "name": "stdout"
        }
      ]
    },
    {
      "cell_type": "code",
      "metadata": {
        "colab": {
          "base_uri": "https://localhost:8080/"
        },
        "id": "6v8Emd-NOOeb",
        "outputId": "49ccdea9-3816-4990-8910-0c3b725f4da9"
      },
      "source": [
        "# index of df\n",
        "\n",
        "data = {'animal': ['cat', 'cat', 'snake', 'dog', 'dog', 'cat', 'snake', 'cat', 'dog', 'dog'],\n",
        "        'age': [2.5, 3, 0.5, np.nan, 5, 2, 4.5, np.nan, 7, 3],\n",
        "        'visits': [1, 3, 2, 3, 2, 3, 1, 1, 2, 1],\n",
        "        'priority': ['yes', 'yes', 'no', 'yes', 'no', 'no', 'no', 'yes', 'no', 'no']}\n",
        "\n",
        "labels = ['a', 'b', 'c', 'd', 'e', 'f', 'g', 'h', 'i', 'j']\n",
        "def generate():\n",
        "    \n",
        "    df = pd.DataFrame(data, index=labels)\n",
        "    \n",
        "    print(df.index)\n",
        "    print(df.index.to_numpy())\n",
        "    print(df.index.tolist())\n",
        "\n",
        "\n",
        "    return \n",
        "generate()"
      ],
      "execution_count": null,
      "outputs": [
        {
          "output_type": "stream",
          "text": [
            "Index(['a', 'b', 'c', 'd', 'e', 'f', 'g', 'h', 'i', 'j'], dtype='object')\n",
            "['a' 'b' 'c' 'd' 'e' 'f' 'g' 'h' 'i' 'j']\n",
            "['a', 'b', 'c', 'd', 'e', 'f', 'g', 'h', 'i', 'j']\n"
          ],
          "name": "stdout"
        }
      ]
    },
    {
      "cell_type": "markdown",
      "metadata": {
        "id": "uUwDEuiPv2sQ"
      },
      "source": [
        "# pd.Index(1D data)\n",
        "##### **Immutable** sequence used for indexing and alignment.\n",
        "##### data array-like (1-dimensional)"
      ]
    },
    {
      "cell_type": "code",
      "metadata": {
        "colab": {
          "base_uri": "https://localhost:8080/"
        },
        "id": "q-vtAs5_CCsT",
        "outputId": "73d42f20-e116-4add-a9f4-511a4b65e872"
      },
      "source": [
        "lis = ['a','b','c','d'] \n",
        "labels = pd.Index(lis) # use this as index or labels as they are immutable\n",
        "s = pd.Series([1,2,3,4], index=labels)\n",
        "s"
      ],
      "execution_count": null,
      "outputs": [
        {
          "output_type": "execute_result",
          "data": {
            "text/plain": [
              "a    1\n",
              "b    2\n",
              "c    3\n",
              "d    4\n",
              "dtype: int64"
            ]
          },
          "metadata": {
            "tags": []
          },
          "execution_count": 72
        }
      ]
    },
    {
      "cell_type": "markdown",
      "metadata": {
        "id": "qDSsAJHxWIv3"
      },
      "source": [
        "### data.Age.isna() return true false\n",
        "### data['Age'].fillna(data['Age'].median(), inplace=True) means replace NaN values\n",
        "### data.drop(['a', 'b']) delete column(specify axis)\n",
        "### data.apply(fn) appy this fn along the given axis\n",
        "### data.Age.map({'a':'b'}) substitute values ith another values\n",
        "### pd.cut(array, bins) -> age to age ranges\n",
        "### data.Age.value_counts() returns the count of unique values"
      ]
    },
    {
      "cell_type": "code",
      "metadata": {
        "id": "k9IJUuGMCIlC"
      },
      "source": [
        ""
      ],
      "execution_count": null,
      "outputs": []
    }
  ]
}