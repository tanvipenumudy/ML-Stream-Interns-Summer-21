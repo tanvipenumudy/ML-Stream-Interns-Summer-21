{
  "nbformat": 4,
  "nbformat_minor": 0,
  "metadata": {
    "colab": {
      "name": "Logistic Regression From Scratch.ipynb",
      "provenance": [],
      "collapsed_sections": []
    },
    "kernelspec": {
      "name": "python3",
      "display_name": "Python 3"
    },
    "language_info": {
      "name": "python"
    }
  },
  "cells": [
    {
      "cell_type": "markdown",
      "metadata": {
        "id": "pfc2fjUJI-Y0"
      },
      "source": [
        "### Importing libraries"
      ]
    },
    {
      "cell_type": "code",
      "metadata": {
        "id": "fz-22fYswiB4"
      },
      "source": [
        "import numpy as np\n",
        "import pandas as pd\n",
        "import matplotlib.pyplot as plt\n",
        "import seaborn as sns\n",
        "import warnings\n",
        "warnings.filterwarnings('ignore')"
      ],
      "execution_count": null,
      "outputs": []
    },
    {
      "cell_type": "markdown",
      "metadata": {
        "id": "HPAOAuedJA9D"
      },
      "source": [
        "### Importing dataset"
      ]
    },
    {
      "cell_type": "code",
      "metadata": {
        "colab": {
          "base_uri": "https://localhost:8080/",
          "height": 223
        },
        "id": "e3DYstu5ygv6",
        "outputId": "44a44bea-5c76-4a64-b778-0a4f6cee4ec7"
      },
      "source": [
        "data = pd.read_csv('https://raw.githubusercontent.com/tanvipenumudy/ML-Stream-Interns-Summer-21/main/Khushi%20Jain/indian_liver_patient.csv')\n",
        "data.head()"
      ],
      "execution_count": null,
      "outputs": [
        {
          "output_type": "execute_result",
          "data": {
            "text/html": [
              "<div>\n",
              "<style scoped>\n",
              "    .dataframe tbody tr th:only-of-type {\n",
              "        vertical-align: middle;\n",
              "    }\n",
              "\n",
              "    .dataframe tbody tr th {\n",
              "        vertical-align: top;\n",
              "    }\n",
              "\n",
              "    .dataframe thead th {\n",
              "        text-align: right;\n",
              "    }\n",
              "</style>\n",
              "<table border=\"1\" class=\"dataframe\">\n",
              "  <thead>\n",
              "    <tr style=\"text-align: right;\">\n",
              "      <th></th>\n",
              "      <th>Age</th>\n",
              "      <th>Gender</th>\n",
              "      <th>Total_Bilirubin</th>\n",
              "      <th>Direct_Bilirubin</th>\n",
              "      <th>Alkaline_Phosphotase</th>\n",
              "      <th>Alamine_Aminotransferase</th>\n",
              "      <th>Aspartate_Aminotransferase</th>\n",
              "      <th>Total_Protiens</th>\n",
              "      <th>Albumin</th>\n",
              "      <th>Albumin_and_Globulin_Ratio</th>\n",
              "      <th>Dataset</th>\n",
              "    </tr>\n",
              "  </thead>\n",
              "  <tbody>\n",
              "    <tr>\n",
              "      <th>0</th>\n",
              "      <td>65</td>\n",
              "      <td>Female</td>\n",
              "      <td>0.7</td>\n",
              "      <td>0.1</td>\n",
              "      <td>187</td>\n",
              "      <td>16</td>\n",
              "      <td>18</td>\n",
              "      <td>6.8</td>\n",
              "      <td>3.3</td>\n",
              "      <td>0.90</td>\n",
              "      <td>1</td>\n",
              "    </tr>\n",
              "    <tr>\n",
              "      <th>1</th>\n",
              "      <td>62</td>\n",
              "      <td>Male</td>\n",
              "      <td>10.9</td>\n",
              "      <td>5.5</td>\n",
              "      <td>699</td>\n",
              "      <td>64</td>\n",
              "      <td>100</td>\n",
              "      <td>7.5</td>\n",
              "      <td>3.2</td>\n",
              "      <td>0.74</td>\n",
              "      <td>1</td>\n",
              "    </tr>\n",
              "    <tr>\n",
              "      <th>2</th>\n",
              "      <td>62</td>\n",
              "      <td>Male</td>\n",
              "      <td>7.3</td>\n",
              "      <td>4.1</td>\n",
              "      <td>490</td>\n",
              "      <td>60</td>\n",
              "      <td>68</td>\n",
              "      <td>7.0</td>\n",
              "      <td>3.3</td>\n",
              "      <td>0.89</td>\n",
              "      <td>1</td>\n",
              "    </tr>\n",
              "    <tr>\n",
              "      <th>3</th>\n",
              "      <td>58</td>\n",
              "      <td>Male</td>\n",
              "      <td>1.0</td>\n",
              "      <td>0.4</td>\n",
              "      <td>182</td>\n",
              "      <td>14</td>\n",
              "      <td>20</td>\n",
              "      <td>6.8</td>\n",
              "      <td>3.4</td>\n",
              "      <td>1.00</td>\n",
              "      <td>1</td>\n",
              "    </tr>\n",
              "    <tr>\n",
              "      <th>4</th>\n",
              "      <td>72</td>\n",
              "      <td>Male</td>\n",
              "      <td>3.9</td>\n",
              "      <td>2.0</td>\n",
              "      <td>195</td>\n",
              "      <td>27</td>\n",
              "      <td>59</td>\n",
              "      <td>7.3</td>\n",
              "      <td>2.4</td>\n",
              "      <td>0.40</td>\n",
              "      <td>1</td>\n",
              "    </tr>\n",
              "  </tbody>\n",
              "</table>\n",
              "</div>"
            ],
            "text/plain": [
              "   Age  Gender  Total_Bilirubin  ...  Albumin  Albumin_and_Globulin_Ratio  Dataset\n",
              "0   65  Female              0.7  ...      3.3                        0.90        1\n",
              "1   62    Male             10.9  ...      3.2                        0.74        1\n",
              "2   62    Male              7.3  ...      3.3                        0.89        1\n",
              "3   58    Male              1.0  ...      3.4                        1.00        1\n",
              "4   72    Male              3.9  ...      2.4                        0.40        1\n",
              "\n",
              "[5 rows x 11 columns]"
            ]
          },
          "metadata": {
            "tags": []
          },
          "execution_count": 2
        }
      ]
    },
    {
      "cell_type": "code",
      "metadata": {
        "colab": {
          "base_uri": "https://localhost:8080/"
        },
        "id": "aow3cU3bJF3M",
        "outputId": "58e9f38b-19bb-4232-e5a0-3864ccb96267"
      },
      "source": [
        "data.info()"
      ],
      "execution_count": null,
      "outputs": [
        {
          "output_type": "stream",
          "text": [
            "<class 'pandas.core.frame.DataFrame'>\n",
            "RangeIndex: 583 entries, 0 to 582\n",
            "Data columns (total 11 columns):\n",
            " #   Column                      Non-Null Count  Dtype  \n",
            "---  ------                      --------------  -----  \n",
            " 0   Age                         583 non-null    int64  \n",
            " 1   Gender                      583 non-null    object \n",
            " 2   Total_Bilirubin             583 non-null    float64\n",
            " 3   Direct_Bilirubin            583 non-null    float64\n",
            " 4   Alkaline_Phosphotase        583 non-null    int64  \n",
            " 5   Alamine_Aminotransferase    583 non-null    int64  \n",
            " 6   Aspartate_Aminotransferase  583 non-null    int64  \n",
            " 7   Total_Protiens              583 non-null    float64\n",
            " 8   Albumin                     583 non-null    float64\n",
            " 9   Albumin_and_Globulin_Ratio  579 non-null    float64\n",
            " 10  Dataset                     583 non-null    int64  \n",
            "dtypes: float64(5), int64(5), object(1)\n",
            "memory usage: 50.2+ KB\n"
          ],
          "name": "stdout"
        }
      ]
    },
    {
      "cell_type": "code",
      "metadata": {
        "colab": {
          "base_uri": "https://localhost:8080/",
          "height": 315
        },
        "id": "iocEaHwjJF0C",
        "outputId": "0810aab2-8799-4702-efee-78a63f9c76c2"
      },
      "source": [
        "data.describe()"
      ],
      "execution_count": null,
      "outputs": [
        {
          "output_type": "execute_result",
          "data": {
            "text/html": [
              "<div>\n",
              "<style scoped>\n",
              "    .dataframe tbody tr th:only-of-type {\n",
              "        vertical-align: middle;\n",
              "    }\n",
              "\n",
              "    .dataframe tbody tr th {\n",
              "        vertical-align: top;\n",
              "    }\n",
              "\n",
              "    .dataframe thead th {\n",
              "        text-align: right;\n",
              "    }\n",
              "</style>\n",
              "<table border=\"1\" class=\"dataframe\">\n",
              "  <thead>\n",
              "    <tr style=\"text-align: right;\">\n",
              "      <th></th>\n",
              "      <th>Age</th>\n",
              "      <th>Total_Bilirubin</th>\n",
              "      <th>Direct_Bilirubin</th>\n",
              "      <th>Alkaline_Phosphotase</th>\n",
              "      <th>Alamine_Aminotransferase</th>\n",
              "      <th>Aspartate_Aminotransferase</th>\n",
              "      <th>Total_Protiens</th>\n",
              "      <th>Albumin</th>\n",
              "      <th>Albumin_and_Globulin_Ratio</th>\n",
              "      <th>Dataset</th>\n",
              "    </tr>\n",
              "  </thead>\n",
              "  <tbody>\n",
              "    <tr>\n",
              "      <th>count</th>\n",
              "      <td>583.000000</td>\n",
              "      <td>583.000000</td>\n",
              "      <td>583.000000</td>\n",
              "      <td>583.000000</td>\n",
              "      <td>583.000000</td>\n",
              "      <td>583.000000</td>\n",
              "      <td>583.000000</td>\n",
              "      <td>583.000000</td>\n",
              "      <td>579.000000</td>\n",
              "      <td>583.000000</td>\n",
              "    </tr>\n",
              "    <tr>\n",
              "      <th>mean</th>\n",
              "      <td>44.746141</td>\n",
              "      <td>3.298799</td>\n",
              "      <td>1.486106</td>\n",
              "      <td>290.576329</td>\n",
              "      <td>80.713551</td>\n",
              "      <td>109.910806</td>\n",
              "      <td>6.483190</td>\n",
              "      <td>3.141852</td>\n",
              "      <td>0.947064</td>\n",
              "      <td>1.286449</td>\n",
              "    </tr>\n",
              "    <tr>\n",
              "      <th>std</th>\n",
              "      <td>16.189833</td>\n",
              "      <td>6.209522</td>\n",
              "      <td>2.808498</td>\n",
              "      <td>242.937989</td>\n",
              "      <td>182.620356</td>\n",
              "      <td>288.918529</td>\n",
              "      <td>1.085451</td>\n",
              "      <td>0.795519</td>\n",
              "      <td>0.319592</td>\n",
              "      <td>0.452490</td>\n",
              "    </tr>\n",
              "    <tr>\n",
              "      <th>min</th>\n",
              "      <td>4.000000</td>\n",
              "      <td>0.400000</td>\n",
              "      <td>0.100000</td>\n",
              "      <td>63.000000</td>\n",
              "      <td>10.000000</td>\n",
              "      <td>10.000000</td>\n",
              "      <td>2.700000</td>\n",
              "      <td>0.900000</td>\n",
              "      <td>0.300000</td>\n",
              "      <td>1.000000</td>\n",
              "    </tr>\n",
              "    <tr>\n",
              "      <th>25%</th>\n",
              "      <td>33.000000</td>\n",
              "      <td>0.800000</td>\n",
              "      <td>0.200000</td>\n",
              "      <td>175.500000</td>\n",
              "      <td>23.000000</td>\n",
              "      <td>25.000000</td>\n",
              "      <td>5.800000</td>\n",
              "      <td>2.600000</td>\n",
              "      <td>0.700000</td>\n",
              "      <td>1.000000</td>\n",
              "    </tr>\n",
              "    <tr>\n",
              "      <th>50%</th>\n",
              "      <td>45.000000</td>\n",
              "      <td>1.000000</td>\n",
              "      <td>0.300000</td>\n",
              "      <td>208.000000</td>\n",
              "      <td>35.000000</td>\n",
              "      <td>42.000000</td>\n",
              "      <td>6.600000</td>\n",
              "      <td>3.100000</td>\n",
              "      <td>0.930000</td>\n",
              "      <td>1.000000</td>\n",
              "    </tr>\n",
              "    <tr>\n",
              "      <th>75%</th>\n",
              "      <td>58.000000</td>\n",
              "      <td>2.600000</td>\n",
              "      <td>1.300000</td>\n",
              "      <td>298.000000</td>\n",
              "      <td>60.500000</td>\n",
              "      <td>87.000000</td>\n",
              "      <td>7.200000</td>\n",
              "      <td>3.800000</td>\n",
              "      <td>1.100000</td>\n",
              "      <td>2.000000</td>\n",
              "    </tr>\n",
              "    <tr>\n",
              "      <th>max</th>\n",
              "      <td>90.000000</td>\n",
              "      <td>75.000000</td>\n",
              "      <td>19.700000</td>\n",
              "      <td>2110.000000</td>\n",
              "      <td>2000.000000</td>\n",
              "      <td>4929.000000</td>\n",
              "      <td>9.600000</td>\n",
              "      <td>5.500000</td>\n",
              "      <td>2.800000</td>\n",
              "      <td>2.000000</td>\n",
              "    </tr>\n",
              "  </tbody>\n",
              "</table>\n",
              "</div>"
            ],
            "text/plain": [
              "              Age  Total_Bilirubin  ...  Albumin_and_Globulin_Ratio     Dataset\n",
              "count  583.000000       583.000000  ...                  579.000000  583.000000\n",
              "mean    44.746141         3.298799  ...                    0.947064    1.286449\n",
              "std     16.189833         6.209522  ...                    0.319592    0.452490\n",
              "min      4.000000         0.400000  ...                    0.300000    1.000000\n",
              "25%     33.000000         0.800000  ...                    0.700000    1.000000\n",
              "50%     45.000000         1.000000  ...                    0.930000    1.000000\n",
              "75%     58.000000         2.600000  ...                    1.100000    2.000000\n",
              "max     90.000000        75.000000  ...                    2.800000    2.000000\n",
              "\n",
              "[8 rows x 10 columns]"
            ]
          },
          "metadata": {
            "tags": []
          },
          "execution_count": 4
        }
      ]
    },
    {
      "cell_type": "code",
      "metadata": {
        "colab": {
          "base_uri": "https://localhost:8080/"
        },
        "id": "qGlA9IjLygqD",
        "outputId": "e2654356-1060-46a9-bd37-427e6d8a2e2e"
      },
      "source": [
        "data['Dataset'].value_counts()"
      ],
      "execution_count": null,
      "outputs": [
        {
          "output_type": "execute_result",
          "data": {
            "text/plain": [
              "1    416\n",
              "2    167\n",
              "Name: Dataset, dtype: int64"
            ]
          },
          "metadata": {
            "tags": []
          },
          "execution_count": 5
        }
      ]
    },
    {
      "cell_type": "markdown",
      "metadata": {
        "id": "udvMIrtTI5fV"
      },
      "source": [
        "### Data Preprocessing"
      ]
    },
    {
      "cell_type": "markdown",
      "metadata": {
        "id": "DxCW2GRBJOE5"
      },
      "source": [
        "### Handling Null values"
      ]
    },
    {
      "cell_type": "code",
      "metadata": {
        "colab": {
          "base_uri": "https://localhost:8080/"
        },
        "id": "MM5OMRNEygsY",
        "outputId": "7c39f60c-8cdb-4d51-d109-c461e379b368"
      },
      "source": [
        "data.isna().sum()"
      ],
      "execution_count": null,
      "outputs": [
        {
          "output_type": "execute_result",
          "data": {
            "text/plain": [
              "Age                           0\n",
              "Gender                        0\n",
              "Total_Bilirubin               0\n",
              "Direct_Bilirubin              0\n",
              "Alkaline_Phosphotase          0\n",
              "Alamine_Aminotransferase      0\n",
              "Aspartate_Aminotransferase    0\n",
              "Total_Protiens                0\n",
              "Albumin                       0\n",
              "Albumin_and_Globulin_Ratio    4\n",
              "Dataset                       0\n",
              "dtype: int64"
            ]
          },
          "metadata": {
            "tags": []
          },
          "execution_count": 6
        }
      ]
    },
    {
      "cell_type": "code",
      "metadata": {
        "id": "9WMFW8_KJRWL"
      },
      "source": [
        "data['Albumin_and_Globulin_Ratio'].fillna(data['Albumin_and_Globulin_Ratio'].mean(), inplace=True)"
      ],
      "execution_count": null,
      "outputs": []
    },
    {
      "cell_type": "code",
      "metadata": {
        "colab": {
          "base_uri": "https://localhost:8080/"
        },
        "id": "eMAZ37WMJRKo",
        "outputId": "8c7f1309-0651-44c2-e2b2-7e4ce0cf2afd"
      },
      "source": [
        "data.isna().sum()"
      ],
      "execution_count": null,
      "outputs": [
        {
          "output_type": "execute_result",
          "data": {
            "text/plain": [
              "Age                           0\n",
              "Gender                        0\n",
              "Total_Bilirubin               0\n",
              "Direct_Bilirubin              0\n",
              "Alkaline_Phosphotase          0\n",
              "Alamine_Aminotransferase      0\n",
              "Aspartate_Aminotransferase    0\n",
              "Total_Protiens                0\n",
              "Albumin                       0\n",
              "Albumin_and_Globulin_Ratio    0\n",
              "Dataset                       0\n",
              "dtype: int64"
            ]
          },
          "metadata": {
            "tags": []
          },
          "execution_count": 8
        }
      ]
    },
    {
      "cell_type": "markdown",
      "metadata": {
        "id": "D-jzjXkyJl60"
      },
      "source": [
        "### Rename 'Dataset' feature to target "
      ]
    },
    {
      "cell_type": "code",
      "metadata": {
        "id": "BNSMBhevygjW"
      },
      "source": [
        "data.rename(columns={'Dataset': 'target'}, inplace = True)"
      ],
      "execution_count": null,
      "outputs": []
    },
    {
      "cell_type": "markdown",
      "metadata": {
        "id": "5u7PruBNHY4w"
      },
      "source": [
        "### Encoding categorical values"
      ]
    },
    {
      "cell_type": "code",
      "metadata": {
        "id": "PHug75BLygoG"
      },
      "source": [
        "gender_dict = {\n",
        "    'Male': 0,\n",
        "    'Female': 1\n",
        "}"
      ],
      "execution_count": null,
      "outputs": []
    },
    {
      "cell_type": "code",
      "metadata": {
        "id": "NwNhGwiuygl9"
      },
      "source": [
        "data['Gender'] = data['Gender'].map(gender_dict)"
      ],
      "execution_count": null,
      "outputs": []
    },
    {
      "cell_type": "code",
      "metadata": {
        "colab": {
          "base_uri": "https://localhost:8080/",
          "height": 223
        },
        "id": "ZFDBEKtiJ3E6",
        "outputId": "a4a4a7b1-bc08-44e5-bbc9-8025b7337aa7"
      },
      "source": [
        "data.head()"
      ],
      "execution_count": null,
      "outputs": [
        {
          "output_type": "execute_result",
          "data": {
            "text/html": [
              "<div>\n",
              "<style scoped>\n",
              "    .dataframe tbody tr th:only-of-type {\n",
              "        vertical-align: middle;\n",
              "    }\n",
              "\n",
              "    .dataframe tbody tr th {\n",
              "        vertical-align: top;\n",
              "    }\n",
              "\n",
              "    .dataframe thead th {\n",
              "        text-align: right;\n",
              "    }\n",
              "</style>\n",
              "<table border=\"1\" class=\"dataframe\">\n",
              "  <thead>\n",
              "    <tr style=\"text-align: right;\">\n",
              "      <th></th>\n",
              "      <th>Age</th>\n",
              "      <th>Gender</th>\n",
              "      <th>Total_Bilirubin</th>\n",
              "      <th>Direct_Bilirubin</th>\n",
              "      <th>Alkaline_Phosphotase</th>\n",
              "      <th>Alamine_Aminotransferase</th>\n",
              "      <th>Aspartate_Aminotransferase</th>\n",
              "      <th>Total_Protiens</th>\n",
              "      <th>Albumin</th>\n",
              "      <th>Albumin_and_Globulin_Ratio</th>\n",
              "      <th>target</th>\n",
              "    </tr>\n",
              "  </thead>\n",
              "  <tbody>\n",
              "    <tr>\n",
              "      <th>0</th>\n",
              "      <td>65</td>\n",
              "      <td>1</td>\n",
              "      <td>0.7</td>\n",
              "      <td>0.1</td>\n",
              "      <td>187</td>\n",
              "      <td>16</td>\n",
              "      <td>18</td>\n",
              "      <td>6.8</td>\n",
              "      <td>3.3</td>\n",
              "      <td>0.90</td>\n",
              "      <td>1</td>\n",
              "    </tr>\n",
              "    <tr>\n",
              "      <th>1</th>\n",
              "      <td>62</td>\n",
              "      <td>0</td>\n",
              "      <td>10.9</td>\n",
              "      <td>5.5</td>\n",
              "      <td>699</td>\n",
              "      <td>64</td>\n",
              "      <td>100</td>\n",
              "      <td>7.5</td>\n",
              "      <td>3.2</td>\n",
              "      <td>0.74</td>\n",
              "      <td>1</td>\n",
              "    </tr>\n",
              "    <tr>\n",
              "      <th>2</th>\n",
              "      <td>62</td>\n",
              "      <td>0</td>\n",
              "      <td>7.3</td>\n",
              "      <td>4.1</td>\n",
              "      <td>490</td>\n",
              "      <td>60</td>\n",
              "      <td>68</td>\n",
              "      <td>7.0</td>\n",
              "      <td>3.3</td>\n",
              "      <td>0.89</td>\n",
              "      <td>1</td>\n",
              "    </tr>\n",
              "    <tr>\n",
              "      <th>3</th>\n",
              "      <td>58</td>\n",
              "      <td>0</td>\n",
              "      <td>1.0</td>\n",
              "      <td>0.4</td>\n",
              "      <td>182</td>\n",
              "      <td>14</td>\n",
              "      <td>20</td>\n",
              "      <td>6.8</td>\n",
              "      <td>3.4</td>\n",
              "      <td>1.00</td>\n",
              "      <td>1</td>\n",
              "    </tr>\n",
              "    <tr>\n",
              "      <th>4</th>\n",
              "      <td>72</td>\n",
              "      <td>0</td>\n",
              "      <td>3.9</td>\n",
              "      <td>2.0</td>\n",
              "      <td>195</td>\n",
              "      <td>27</td>\n",
              "      <td>59</td>\n",
              "      <td>7.3</td>\n",
              "      <td>2.4</td>\n",
              "      <td>0.40</td>\n",
              "      <td>1</td>\n",
              "    </tr>\n",
              "  </tbody>\n",
              "</table>\n",
              "</div>"
            ],
            "text/plain": [
              "   Age  Gender  Total_Bilirubin  ...  Albumin  Albumin_and_Globulin_Ratio  target\n",
              "0   65       1              0.7  ...      3.3                        0.90       1\n",
              "1   62       0             10.9  ...      3.2                        0.74       1\n",
              "2   62       0              7.3  ...      3.3                        0.89       1\n",
              "3   58       0              1.0  ...      3.4                        1.00       1\n",
              "4   72       0              3.9  ...      2.4                        0.40       1\n",
              "\n",
              "[5 rows x 11 columns]"
            ]
          },
          "metadata": {
            "tags": []
          },
          "execution_count": 12
        }
      ]
    },
    {
      "cell_type": "markdown",
      "metadata": {
        "id": "W1Ktg_5ZIx3u"
      },
      "source": [
        "### Feature Scaling\n",
        "#### Normalization"
      ]
    },
    {
      "cell_type": "code",
      "metadata": {
        "id": "u95oXGcTIUs2"
      },
      "source": [
        "for col in data.columns[:-1]:\n",
        "  data[col] = ( data[col] - np.min(data[col]) ) / ( np.max(data[col]) - np.min(data[col]) )"
      ],
      "execution_count": null,
      "outputs": []
    },
    {
      "cell_type": "code",
      "metadata": {
        "colab": {
          "base_uri": "https://localhost:8080/",
          "height": 223
        },
        "id": "BGZgZFU0LAGS",
        "outputId": "9f77c5ba-aa38-4143-8edf-592456b99aef"
      },
      "source": [
        "data.head()"
      ],
      "execution_count": null,
      "outputs": [
        {
          "output_type": "execute_result",
          "data": {
            "text/html": [
              "<div>\n",
              "<style scoped>\n",
              "    .dataframe tbody tr th:only-of-type {\n",
              "        vertical-align: middle;\n",
              "    }\n",
              "\n",
              "    .dataframe tbody tr th {\n",
              "        vertical-align: top;\n",
              "    }\n",
              "\n",
              "    .dataframe thead th {\n",
              "        text-align: right;\n",
              "    }\n",
              "</style>\n",
              "<table border=\"1\" class=\"dataframe\">\n",
              "  <thead>\n",
              "    <tr style=\"text-align: right;\">\n",
              "      <th></th>\n",
              "      <th>Age</th>\n",
              "      <th>Gender</th>\n",
              "      <th>Total_Bilirubin</th>\n",
              "      <th>Direct_Bilirubin</th>\n",
              "      <th>Alkaline_Phosphotase</th>\n",
              "      <th>Alamine_Aminotransferase</th>\n",
              "      <th>Aspartate_Aminotransferase</th>\n",
              "      <th>Total_Protiens</th>\n",
              "      <th>Albumin</th>\n",
              "      <th>Albumin_and_Globulin_Ratio</th>\n",
              "      <th>target</th>\n",
              "    </tr>\n",
              "  </thead>\n",
              "  <tbody>\n",
              "    <tr>\n",
              "      <th>0</th>\n",
              "      <td>0.709302</td>\n",
              "      <td>1.0</td>\n",
              "      <td>0.004021</td>\n",
              "      <td>0.000000</td>\n",
              "      <td>0.060576</td>\n",
              "      <td>0.003015</td>\n",
              "      <td>0.001626</td>\n",
              "      <td>0.594203</td>\n",
              "      <td>0.521739</td>\n",
              "      <td>0.240</td>\n",
              "      <td>1</td>\n",
              "    </tr>\n",
              "    <tr>\n",
              "      <th>1</th>\n",
              "      <td>0.674419</td>\n",
              "      <td>0.0</td>\n",
              "      <td>0.140751</td>\n",
              "      <td>0.275510</td>\n",
              "      <td>0.310699</td>\n",
              "      <td>0.027136</td>\n",
              "      <td>0.018296</td>\n",
              "      <td>0.695652</td>\n",
              "      <td>0.500000</td>\n",
              "      <td>0.176</td>\n",
              "      <td>1</td>\n",
              "    </tr>\n",
              "    <tr>\n",
              "      <th>2</th>\n",
              "      <td>0.674419</td>\n",
              "      <td>0.0</td>\n",
              "      <td>0.092493</td>\n",
              "      <td>0.204082</td>\n",
              "      <td>0.208598</td>\n",
              "      <td>0.025126</td>\n",
              "      <td>0.011791</td>\n",
              "      <td>0.623188</td>\n",
              "      <td>0.521739</td>\n",
              "      <td>0.236</td>\n",
              "      <td>1</td>\n",
              "    </tr>\n",
              "    <tr>\n",
              "      <th>3</th>\n",
              "      <td>0.627907</td>\n",
              "      <td>0.0</td>\n",
              "      <td>0.008043</td>\n",
              "      <td>0.015306</td>\n",
              "      <td>0.058134</td>\n",
              "      <td>0.002010</td>\n",
              "      <td>0.002033</td>\n",
              "      <td>0.594203</td>\n",
              "      <td>0.543478</td>\n",
              "      <td>0.280</td>\n",
              "      <td>1</td>\n",
              "    </tr>\n",
              "    <tr>\n",
              "      <th>4</th>\n",
              "      <td>0.790698</td>\n",
              "      <td>0.0</td>\n",
              "      <td>0.046917</td>\n",
              "      <td>0.096939</td>\n",
              "      <td>0.064485</td>\n",
              "      <td>0.008543</td>\n",
              "      <td>0.009961</td>\n",
              "      <td>0.666667</td>\n",
              "      <td>0.326087</td>\n",
              "      <td>0.040</td>\n",
              "      <td>1</td>\n",
              "    </tr>\n",
              "  </tbody>\n",
              "</table>\n",
              "</div>"
            ],
            "text/plain": [
              "        Age  Gender  ...  Albumin_and_Globulin_Ratio  target\n",
              "0  0.709302     1.0  ...                       0.240       1\n",
              "1  0.674419     0.0  ...                       0.176       1\n",
              "2  0.674419     0.0  ...                       0.236       1\n",
              "3  0.627907     0.0  ...                       0.280       1\n",
              "4  0.790698     0.0  ...                       0.040       1\n",
              "\n",
              "[5 rows x 11 columns]"
            ]
          },
          "metadata": {
            "tags": []
          },
          "execution_count": 14
        }
      ]
    },
    {
      "cell_type": "markdown",
      "metadata": {
        "id": "6XDs_ihQJ8bK"
      },
      "source": [
        "### Splitting dependent and independent features"
      ]
    },
    {
      "cell_type": "code",
      "metadata": {
        "id": "vSqvg13uIUqF",
        "colab": {
          "base_uri": "https://localhost:8080/"
        },
        "outputId": "e9511da8-cbcc-49bb-dad4-258fdbc2f019"
      },
      "source": [
        "m = data.shape[0] # rows\n",
        "n = data.shape[1] # cols\n",
        "m, n"
      ],
      "execution_count": null,
      "outputs": [
        {
          "output_type": "execute_result",
          "data": {
            "text/plain": [
              "(583, 11)"
            ]
          },
          "metadata": {
            "tags": []
          },
          "execution_count": 142
        }
      ]
    },
    {
      "cell_type": "code",
      "metadata": {
        "id": "qrUxa4aFKMEa"
      },
      "source": [
        "X = data.iloc[:, :-1].values\n",
        "Y = data.iloc[:, -1:].values"
      ],
      "execution_count": null,
      "outputs": []
    },
    {
      "cell_type": "code",
      "metadata": {
        "colab": {
          "base_uri": "https://localhost:8080/"
        },
        "id": "QkP125mHe1cN",
        "outputId": "0fe806b6-8419-4374-edb7-fbf15c1a6e6d"
      },
      "source": [
        "x_ones = np.ones((m, 1))\n",
        "X = np.concatenate((x_ones, X), axis=1)\n",
        "print(X[:5])"
      ],
      "execution_count": null,
      "outputs": [
        {
          "output_type": "stream",
          "text": [
            "[[1.         0.70930233 1.         0.00402145 0.         0.06057645\n",
            "  0.00301508 0.00162635 0.5942029  0.52173913 0.24      ]\n",
            " [1.         0.6744186  0.         0.14075067 0.2755102  0.31069858\n",
            "  0.02713568 0.0182964  0.69565217 0.5        0.176     ]\n",
            " [1.         0.6744186  0.         0.0924933  0.20408163 0.20859795\n",
            "  0.02512563 0.01179101 0.62318841 0.52173913 0.236     ]\n",
            " [1.         0.62790698 0.         0.0080429  0.01530612 0.05813385\n",
            "  0.00201005 0.00203293 0.5942029  0.54347826 0.28      ]\n",
            " [1.         0.79069767 0.         0.04691689 0.09693878 0.06448461\n",
            "  0.00854271 0.00996137 0.66666667 0.32608696 0.04      ]]\n"
          ],
          "name": "stdout"
        }
      ]
    },
    {
      "cell_type": "code",
      "metadata": {
        "id": "cOz-0bO1IUne",
        "colab": {
          "base_uri": "https://localhost:8080/"
        },
        "outputId": "543a4ac6-eb3f-4348-be41-d0851c5b7541"
      },
      "source": [
        "theta = np.zeros((1, n))\n",
        "theta"
      ],
      "execution_count": null,
      "outputs": [
        {
          "output_type": "execute_result",
          "data": {
            "text/plain": [
              "array([[0., 0., 0., 0., 0., 0., 0., 0., 0., 0., 0.]])"
            ]
          },
          "metadata": {
            "tags": []
          },
          "execution_count": 194
        }
      ]
    },
    {
      "cell_type": "code",
      "metadata": {
        "colab": {
          "base_uri": "https://localhost:8080/"
        },
        "id": "R_HZhQqh9YAa",
        "outputId": "60158852-e403-4390-c29d-6d3ae137cc81"
      },
      "source": [
        "theta.T"
      ],
      "execution_count": null,
      "outputs": [
        {
          "output_type": "execute_result",
          "data": {
            "text/plain": [
              "array([[0.],\n",
              "       [0.],\n",
              "       [0.],\n",
              "       [0.],\n",
              "       [0.],\n",
              "       [0.],\n",
              "       [0.],\n",
              "       [0.],\n",
              "       [0.],\n",
              "       [0.],\n",
              "       [0.]])"
            ]
          },
          "metadata": {
            "tags": []
          },
          "execution_count": 195
        }
      ]
    },
    {
      "cell_type": "code",
      "metadata": {
        "colab": {
          "base_uri": "https://localhost:8080/"
        },
        "id": "IUoMrQbdKL_i",
        "outputId": "426239a6-0d7a-4677-d37f-83d26d55b7c6"
      },
      "source": [
        "print(X.shape)\n",
        "print(Y.shape)\n",
        "print(theta.shape)\n",
        "print(theta.T.shape)"
      ],
      "execution_count": null,
      "outputs": [
        {
          "output_type": "stream",
          "text": [
            "(583, 11)\n",
            "(583, 1)\n",
            "(1, 11)\n",
            "(11, 1)\n"
          ],
          "name": "stdout"
        }
      ]
    },
    {
      "cell_type": "code",
      "metadata": {
        "id": "bQCZnYtZ_jfL"
      },
      "source": [
        "alpha = 0.01\n",
        "iterations = 128"
      ],
      "execution_count": null,
      "outputs": []
    },
    {
      "cell_type": "markdown",
      "metadata": {
        "id": "72m_2b30xE2f"
      },
      "source": [
        "#### Define sigmoid / logistic function"
      ]
    },
    {
      "cell_type": "code",
      "metadata": {
        "id": "TKJ3PWydw2r3"
      },
      "source": [
        "def sigmoid_fn(z):\n",
        "  return 1.0 / (1 + np.exp(-z))"
      ],
      "execution_count": null,
      "outputs": []
    },
    {
      "cell_type": "markdown",
      "metadata": {
        "id": "RIa2G_TacWgq"
      },
      "source": [
        "#### Cost fn"
      ]
    },
    {
      "cell_type": "code",
      "metadata": {
        "id": "aas0poFWxtFP"
      },
      "source": [
        "def compute_cost(y, y_hat):\n",
        "  return -np.mean( y * np.log(y_hat) - (1-y) * np.log(1-y_hat))"
      ],
      "execution_count": null,
      "outputs": []
    },
    {
      "cell_type": "markdown",
      "metadata": {
        "id": "hSVueBTJLZiT"
      },
      "source": [
        "#### Define gradient descent"
      ]
    },
    {
      "cell_type": "code",
      "metadata": {
        "id": "EoHBd9q5IUlh"
      },
      "source": [
        "def gradient_descent(Y, alpha, theta):\n",
        "  \n",
        "  cost = np.zeros(iterations)\n",
        "  for i in range(iterations):\n",
        "    Y_pred = (X @ theta.T)\n",
        "    Y_hat = sigmoid_fn(Y_pred)\n",
        "    theta = theta - (alpha/m) * np.sum((Y_hat - Y) * X, axis = 0)\n",
        "    cost[i] = compute_cost(Y, Y_hat)\n",
        "  return (theta, cost)"
      ],
      "execution_count": null,
      "outputs": []
    },
    {
      "cell_type": "code",
      "metadata": {
        "id": "kPaS83MAIUjB"
      },
      "source": [
        "theta, cost = gradient_descent(Y, alpha, theta)"
      ],
      "execution_count": null,
      "outputs": []
    },
    {
      "cell_type": "code",
      "metadata": {
        "id": "dHk1A2JkIUgm",
        "colab": {
          "base_uri": "https://localhost:8080/"
        },
        "outputId": "10a30ffb-42b7-4bf4-f83f-e102160cdf0b"
      },
      "source": [
        "theta"
      ],
      "execution_count": null,
      "outputs": [
        {
          "output_type": "execute_result",
          "data": {
            "text/plain": [
              "array([[0.77352135, 0.35089307, 0.20357636, 0.01966934, 0.0346846 ,\n",
              "        0.07332378, 0.01896754, 0.01064493, 0.42477425, 0.39024835,\n",
              "        0.2109673 ]])"
            ]
          },
          "metadata": {
            "tags": []
          },
          "execution_count": 202
        }
      ]
    },
    {
      "cell_type": "code",
      "metadata": {
        "id": "HlNg1dL0IUek",
        "colab": {
          "base_uri": "https://localhost:8080/"
        },
        "outputId": "4315d712-a315-4c40-f45e-4473a159bc31"
      },
      "source": [
        "cost\n",
        "# min: 0.75343816"
      ],
      "execution_count": null,
      "outputs": [
        {
          "output_type": "execute_result",
          "data": {
            "text/plain": [
              "array([1.09025037, 1.0827604 , 1.07539729, 1.06815953, 1.06104561,\n",
              "       1.05405403, 1.04718329, 1.04043189, 1.03379835, 1.02728116,\n",
              "       1.02087886, 1.01458997, 1.00841302, 1.00234654, 0.99638909,\n",
              "       0.99053922, 0.9847955 , 0.9791565 , 0.9736208 , 0.96818699,\n",
              "       0.96285369, 0.9576195 , 0.95248306, 0.94744299, 0.94249795,\n",
              "       0.9376466 , 0.93288761, 0.92821968, 0.92364149, 0.91915176,\n",
              "       0.91474922, 0.9104326 , 0.90620065, 0.90205214, 0.89798586,\n",
              "       0.89400058, 0.89009512, 0.8862683 , 0.88251895, 0.87884592,\n",
              "       0.87524807, 0.87172427, 0.86827343, 0.86489443, 0.86158621,\n",
              "       0.85834769, 0.85517782, 0.85207555, 0.84903987, 0.84606977,\n",
              "       0.84316423, 0.84032228, 0.83754295, 0.83482528, 0.83216832,\n",
              "       0.82957116, 0.82703286, 0.82455253, 0.82212927, 0.81976221,\n",
              "       0.81745048, 0.81519323, 0.81298963, 0.81083884, 0.80874005,\n",
              "       0.80669245, 0.80469527, 0.80274772, 0.80084903, 0.79899845,\n",
              "       0.79719524, 0.79543867, 0.79372802, 0.79206257, 0.79044164,\n",
              "       0.78886453, 0.78733058, 0.7858391 , 0.78438946, 0.78298101,\n",
              "       0.78161311, 0.78028514, 0.77899649, 0.77774654, 0.77653472,\n",
              "       0.77536043, 0.7742231 , 0.77312216, 0.77205706, 0.77102725,\n",
              "       0.77003219, 0.76907135, 0.7681442 , 0.76725024, 0.76638897,\n",
              "       0.76555988, 0.76476248, 0.7639963 , 0.76326087, 0.76255571,\n",
              "       0.76188038, 0.76123442, 0.7606174 , 0.76002886, 0.7594684 ,\n",
              "       0.75893558, 0.75843   , 0.75795124, 0.7574989 , 0.7570726 ,\n",
              "       0.75667195, 0.75629655, 0.75594605, 0.75562006, 0.75531823,\n",
              "       0.75504021, 0.75478563, 0.75455416, 0.75434545, 0.75415917,\n",
              "       0.75399499, 0.7538526 , 0.75373167, 0.75363188, 0.75355294,\n",
              "       0.75349454, 0.75345638, 0.75343816])"
            ]
          },
          "metadata": {
            "tags": []
          },
          "execution_count": 203
        }
      ]
    },
    {
      "cell_type": "code",
      "metadata": {
        "id": "moM-iikTIUcK"
      },
      "source": [
        "# np.argmin(cost)"
      ],
      "execution_count": null,
      "outputs": []
    },
    {
      "cell_type": "code",
      "metadata": {
        "id": "Qyu9D6JqMc61"
      },
      "source": [
        "# cost[127]"
      ],
      "execution_count": null,
      "outputs": []
    },
    {
      "cell_type": "code",
      "metadata": {
        "id": "SUeGCqYKMc4v"
      },
      "source": [
        "Y_pred = X @ theta.T"
      ],
      "execution_count": null,
      "outputs": []
    },
    {
      "cell_type": "code",
      "metadata": {
        "id": "58oUQocfMc2a"
      },
      "source": [
        "Y_prob = sigmoid_fn(Y_pred)"
      ],
      "execution_count": null,
      "outputs": []
    },
    {
      "cell_type": "code",
      "metadata": {
        "colab": {
          "base_uri": "https://localhost:8080/"
        },
        "id": "X601MNnljHxs",
        "outputId": "8a0f87c8-cbaf-4c49-a5e8-f138dfbb5513"
      },
      "source": [
        "Y_prob[:4]"
      ],
      "execution_count": null,
      "outputs": [
        {
          "output_type": "execute_result",
          "data": {
            "text/plain": [
              "array([[0.85033416],\n",
              "       [0.82831544],\n",
              "       [0.82535752],\n",
              "       [0.82089536]])"
            ]
          },
          "metadata": {
            "tags": []
          },
          "execution_count": 208
        }
      ]
    },
    {
      "cell_type": "code",
      "metadata": {
        "id": "TgHiRIfajrFf"
      },
      "source": [
        "Y_prob = Y_prob.reshape((m,))\n",
        "Y_prob = pd.Series(Y_prob)\n",
        "# multiclass classification left"
      ],
      "execution_count": null,
      "outputs": []
    },
    {
      "cell_type": "code",
      "metadata": {
        "id": "tuCqSNRBjIzb"
      },
      "source": [
        "def class_label(x):\n",
        "  if x > 0.5:\n",
        "    return 1\n",
        "  return 0"
      ],
      "execution_count": null,
      "outputs": []
    },
    {
      "cell_type": "code",
      "metadata": {
        "colab": {
          "base_uri": "https://localhost:8080/"
        },
        "id": "k9Tb98ipjWHx",
        "outputId": "b29b069b-eea2-4e4b-caf4-732079b76d4c"
      },
      "source": [
        "Y_classlabel = Y_prob.apply(class_label)\n",
        "Y_classlabel"
      ],
      "execution_count": null,
      "outputs": [
        {
          "output_type": "execute_result",
          "data": {
            "text/plain": [
              "0      1\n",
              "1      1\n",
              "2      1\n",
              "3      1\n",
              "4      1\n",
              "      ..\n",
              "578    1\n",
              "579    1\n",
              "580    1\n",
              "581    1\n",
              "582    1\n",
              "Length: 583, dtype: int64"
            ]
          },
          "metadata": {
            "tags": []
          },
          "execution_count": 225
        }
      ]
    },
    {
      "cell_type": "code",
      "metadata": {
        "colab": {
          "base_uri": "https://localhost:8080/"
        },
        "id": "WKfj3RiOj1Wh",
        "outputId": "4a440872-dbd5-47aa-9b81-42439b6f3900"
      },
      "source": [
        "Y_classlabel.value_counts()"
      ],
      "execution_count": null,
      "outputs": [
        {
          "output_type": "execute_result",
          "data": {
            "text/plain": [
              "1    583\n",
              "dtype: int64"
            ]
          },
          "metadata": {
            "tags": []
          },
          "execution_count": 226
        }
      ]
    },
    {
      "cell_type": "code",
      "metadata": {
        "colab": {
          "base_uri": "https://localhost:8080/"
        },
        "id": "ey6_RynikuoN",
        "outputId": "a6c87dbf-acb0-4979-fd81-4cf122ea1e4f"
      },
      "source": [
        "c = 0\n",
        "c2 = 0\n",
        "for i in range(m):\n",
        "  if Y_classlabel[i] == Y[i]:\n",
        "    c += 1\n",
        "  else:\n",
        "    c2 += 1\n",
        "c, c2"
      ],
      "execution_count": null,
      "outputs": [
        {
          "output_type": "execute_result",
          "data": {
            "text/plain": [
              "(416, 167)"
            ]
          },
          "metadata": {
            "tags": []
          },
          "execution_count": 227
        }
      ]
    },
    {
      "cell_type": "markdown",
      "metadata": {
        "id": "3y9ptusZl-Yt"
      },
      "source": [
        "#### accuracy"
      ]
    },
    {
      "cell_type": "code",
      "metadata": {
        "colab": {
          "base_uri": "https://localhost:8080/"
        },
        "id": "ksM-iHtilp4x",
        "outputId": "d0c99e4d-3c42-4c0c-a25e-1c732e9883d9"
      },
      "source": [
        "c/m*100"
      ],
      "execution_count": null,
      "outputs": [
        {
          "output_type": "execute_result",
          "data": {
            "text/plain": [
              "71.35506003430532"
            ]
          },
          "metadata": {
            "tags": []
          },
          "execution_count": 228
        }
      ]
    }
  ]
}