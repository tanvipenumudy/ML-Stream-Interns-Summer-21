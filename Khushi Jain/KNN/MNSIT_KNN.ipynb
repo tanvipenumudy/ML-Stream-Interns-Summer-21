{
  "nbformat": 4,
  "nbformat_minor": 0,
  "metadata": {
    "colab": {
      "name": "MNSIT_KNN.ipynb",
      "provenance": [],
      "collapsed_sections": []
    },
    "kernelspec": {
      "name": "python3",
      "display_name": "Python 3"
    },
    "language_info": {
      "name": "python"
    }
  },
  "cells": [
    {
      "cell_type": "code",
      "metadata": {
        "id": "uw2ZI3W5NwT9"
      },
      "source": [
        "import numpy as np\n",
        "import pandas as pd\n",
        "import matplotlib.pyplot as plt\n",
        "import seaborn as sns\n",
        "import warnings\n",
        "warnings.filterwarnings('ignore')"
      ],
      "execution_count": 1,
      "outputs": []
    },
    {
      "cell_type": "code",
      "metadata": {
        "id": "UZjZkBb8N5nT"
      },
      "source": [
        "from sklearn.datasets import load_digits\n",
        "\n",
        "mnsit = load_digits()\n",
        "X = mnsit.data\n",
        "y = mnsit.target"
      ],
      "execution_count": 2,
      "outputs": []
    },
    {
      "cell_type": "code",
      "metadata": {
        "colab": {
          "base_uri": "https://localhost:8080/"
        },
        "id": "PFNrbkMrOKjU",
        "outputId": "569b3115-7029-40fc-e672-a6b5e0712b4b"
      },
      "source": [
        "len(X), len(X[0])"
      ],
      "execution_count": 3,
      "outputs": [
        {
          "output_type": "execute_result",
          "data": {
            "text/plain": [
              "(1797, 64)"
            ]
          },
          "metadata": {
            "tags": []
          },
          "execution_count": 3
        }
      ]
    },
    {
      "cell_type": "code",
      "metadata": {
        "colab": {
          "base_uri": "https://localhost:8080/",
          "height": 265
        },
        "id": "uQ8Rw0QSRu51",
        "outputId": "b585a371-4472-4ade-e3e7-fe2b3ead6a2d"
      },
      "source": [
        "plt.imshow(X[15].reshape(8,8), cmap = 'binary')\n",
        "plt.show()"
      ],
      "execution_count": 4,
      "outputs": [
        {
          "output_type": "display_data",
          "data": {
            "image/png": "[encoded data removed]",
            "text/plain": [
              "<Figure size 432x288 with 1 Axes>"
            ]
          },
          "metadata": {
            "tags": [],
            "needs_background": "light"
          }
        }
      ]
    },
    {
      "cell_type": "code",
      "metadata": {
        "id": "1ML-SVCCO3V9"
      },
      "source": [
        "from sklearn.model_selection import train_test_split\n",
        "\n",
        "X_train, X_test, y_train, y_test = train_test_split(X, y, test_size=0.2, random_state=0)"
      ],
      "execution_count": 5,
      "outputs": []
    },
    {
      "cell_type": "code",
      "metadata": {
        "colab": {
          "base_uri": "https://localhost:8080/"
        },
        "id": "_ZKC1V3PQ_W0",
        "outputId": "3dd7679d-610c-4e6a-bb51-76989e0419c5"
      },
      "source": [
        "len(X_train), len(X_test)"
      ],
      "execution_count": 6,
      "outputs": [
        {
          "output_type": "execute_result",
          "data": {
            "text/plain": [
              "(1437, 360)"
            ]
          },
          "metadata": {
            "tags": []
          },
          "execution_count": 6
        }
      ]
    },
    {
      "cell_type": "code",
      "metadata": {
        "id": "YDi-aIU1PL1q"
      },
      "source": [
        "from sklearn.preprocessing import MinMaxScaler\n",
        "sc = MinMaxScaler()\n",
        "X_train = sc.fit_transform(X_train)\n",
        "X_test = sc.transform(X_test)"
      ],
      "execution_count": 7,
      "outputs": []
    },
    {
      "cell_type": "code",
      "metadata": {
        "id": "t4MzNvYdQa6q"
      },
      "source": [
        "def knn_classification_model(data, X, y, k):\n",
        "  temp = data - X\n",
        "  temp = temp**2\n",
        "  temp = np.sum(temp, axis=1)**(1/2)\n",
        "  idx = np.argpartition(temp, k)\n",
        "  k_min_idx = y[idx[1:k+1]]\n",
        "  k_min_idx = pd.Series(k_min_idx)\n",
        "  res = k_min_idx.value_counts().index[0]\n",
        "  \n",
        "  return res"
      ],
      "execution_count": 8,
      "outputs": []
    },
    {
      "cell_type": "code",
      "metadata": {
        "id": "KAf2rGCwRrRo"
      },
      "source": [
        "def find_cost(y_pred, Y):\n",
        "  t = np.sum((y_pred - Y)**2)/len(Y)\n",
        "  return t"
      ],
      "execution_count": 9,
      "outputs": []
    },
    {
      "cell_type": "code",
      "metadata": {
        "id": "8rvJU04wRrOo"
      },
      "source": [
        "cost = np.zeros(10)\n",
        "\n",
        "for k in range(1, 10):\n",
        "  y_pred = []\n",
        "  for i in range(len(X_train)):\n",
        "    y_pred.append(knn_classification_model(X_train[i], X_train, y_train, k))\n",
        "  cost[k] = find_cost(y_pred, y_train)"
      ],
      "execution_count": 10,
      "outputs": []
    },
    {
      "cell_type": "code",
      "metadata": {
        "colab": {
          "base_uri": "https://localhost:8080/",
          "height": 279
        },
        "id": "Ji-muRS6RrM3",
        "outputId": "14bc2968-ea43-4185-c38d-0f675d047d3c"
      },
      "source": [
        "sns.lineplot(np.arange(10), cost)\n",
        "plt.xlabel('k-value')\n",
        "plt.ylabel('Cost')\n",
        "plt.show()"
      ],
      "execution_count": 11,
      "outputs": [
        {
          "output_type": "display_data",
          "data": {
            "image/png": "[encoded data removed]",
            "text/plain": [
              "<Figure size 432x288 with 1 Axes>"
            ]
          },
          "metadata": {
            "tags": [],
            "needs_background": "light"
          }
        }
      ]
    },
    {
      "cell_type": "code",
      "metadata": {
        "id": "6-0UnN9bRu-s"
      },
      "source": [
        "k = 5 # optimum\n",
        "\n",
        "y_pred = []\n",
        "\n",
        "for i in range(len(X_test)):\n",
        "  y_pred.append(knn_classification_model(X_test[i], X_train, y_train, k))"
      ],
      "execution_count": 12,
      "outputs": []
    },
    {
      "cell_type": "code",
      "metadata": {
        "colab": {
          "base_uri": "https://localhost:8080/"
        },
        "id": "WzJ9eWfcdj3N",
        "outputId": "7008577f-cb3a-4492-9c4d-feaee341a02d"
      },
      "source": [
        "from sklearn.metrics import accuracy_score\n",
        "accuracy = accuracy_score(y_pred, y_test)\n",
        "accuracy"
      ],
      "execution_count": 13,
      "outputs": [
        {
          "output_type": "execute_result",
          "data": {
            "text/plain": [
              "0.9722222222222222"
            ]
          },
          "metadata": {
            "tags": []
          },
          "execution_count": 13
        }
      ]
    },
    {
      "cell_type": "markdown",
      "metadata": {
        "id": "d2XjP2pIi9Kn"
      },
      "source": [
        "#### Using sklearn"
      ]
    },
    {
      "cell_type": "code",
      "metadata": {
        "id": "PbsrSEnFRu07"
      },
      "source": [
        "from sklearn.neighbors import KNeighborsClassifier\n",
        "knn = KNeighborsClassifier()\n",
        "knn.fit(X_train, y_train)\n",
        "y_pred2 = knn.predict(X_test)"
      ],
      "execution_count": 14,
      "outputs": []
    },
    {
      "cell_type": "code",
      "metadata": {
        "colab": {
          "base_uri": "https://localhost:8080/"
        },
        "id": "Z_b9qa3Ji4B-",
        "outputId": "647be991-f7ad-4b54-f713-a79a73abfca2"
      },
      "source": [
        "from sklearn.metrics import accuracy_score\n",
        "accuracy2 = accuracy_score(y_pred2, y_test)\n",
        "accuracy2"
      ],
      "execution_count": 15,
      "outputs": [
        {
          "output_type": "execute_result",
          "data": {
            "text/plain": [
              "0.9805555555555555"
            ]
          },
          "metadata": {
            "tags": []
          },
          "execution_count": 15
        }
      ]
    },
    {
      "cell_type": "code",
      "metadata": {
        "id": "d0AzvQlGi6xH"
      },
      "source": [
        ""
      ],
      "execution_count": 15,
      "outputs": []
    }
  ]
}