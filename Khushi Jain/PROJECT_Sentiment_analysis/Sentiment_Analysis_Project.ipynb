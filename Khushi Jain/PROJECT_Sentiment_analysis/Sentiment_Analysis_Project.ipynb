{
  "nbformat": 4,
  "nbformat_minor": 0,
  "metadata": {
    "colab": {
      "name": "Sentiment_Analysis_Project.ipynb",
      "private_outputs": true,
      "provenance": [],
      "collapsed_sections": []
    },
    "kernelspec": {
      "name": "python3",
      "display_name": "Python 3"
    },
    "language_info": {
      "name": "python"
    },
    "accelerator": "GPU"
  },
  "cells": [
    {
      "cell_type": "markdown",
      "metadata": {
        "id": "5D3xzM9Uk9Mv"
      },
      "source": [
        "### Import Libraries"
      ]
    },
    {
      "cell_type": "code",
      "metadata": {
        "id": "kcSl9iKSXs-n"
      },
      "source": [
        "import numpy as np\n",
        "import pandas as pd\n",
        "import warnings\n",
        "warnings.filterwarnings('ignore')"
      ],
      "execution_count": null,
      "outputs": []
    },
    {
      "cell_type": "code",
      "metadata": {
        "id": "gcdiRQ6DXuhu"
      },
      "source": [
        "import nltk\n",
        "import re\n",
        "\n",
        "nltk.download('punkt') # punkt tokenizer\n",
        "\n",
        "nltk.download('stopwords')\n",
        "from nltk.corpus import stopwords\n",
        "\n",
        "nltk.download('wordnet')\n",
        "from nltk.stem import WordNetLemmatizer\n",
        "\n",
        "from sklearn.feature_extraction.text import TfidfVectorizer\n",
        "\n",
        "from sklearn.preprocessing import LabelEncoder\n",
        "from sklearn.model_selection import train_test_split"
      ],
      "execution_count": null,
      "outputs": []
    },
    {
      "cell_type": "code",
      "metadata": {
        "id": "628L4id23cu8"
      },
      "source": [
        "from google.colab import drive\n",
        "drive.mount('/content/drive')"
      ],
      "execution_count": null,
      "outputs": []
    },
    {
      "cell_type": "markdown",
      "metadata": {
        "id": "Dx80ulnelAwI"
      },
      "source": [
        "### Import dataset"
      ]
    },
    {
      "cell_type": "code",
      "metadata": {
        "id": "wOccX4M_mbAV"
      },
      "source": [
        "data = pd.read_csv('/content/drive/MyDrive/Datasets/imdb_sentiment_analysis_dataset.csv')\n",
        "data.head()"
      ],
      "execution_count": null,
      "outputs": []
    },
    {
      "cell_type": "code",
      "metadata": {
        "id": "HP1MZx35iR2a"
      },
      "source": [
        "data = data.sample(15000).reset_index(drop=True)\n",
        "data.head()"
      ],
      "execution_count": null,
      "outputs": []
    },
    {
      "cell_type": "code",
      "metadata": {
        "id": "_IiDpMc-jxT2"
      },
      "source": [
        "data.shape"
      ],
      "execution_count": null,
      "outputs": []
    },
    {
      "cell_type": "code",
      "metadata": {
        "id": "HA6rkYvskDQu"
      },
      "source": [
        "X = data.iloc[:, 0].values\n",
        "y = data.iloc[:, 1].values"
      ],
      "execution_count": null,
      "outputs": []
    },
    {
      "cell_type": "markdown",
      "metadata": {
        "id": "N7Cxy2gCk6Ll"
      },
      "source": [
        "### Train Test Split"
      ]
    },
    {
      "cell_type": "code",
      "metadata": {
        "id": "fpXxtvD-jxR_"
      },
      "source": [
        "X_train, X_test, y_train, y_test = train_test_split(X, y, test_size=0.2, random_state=0)"
      ],
      "execution_count": null,
      "outputs": []
    },
    {
      "cell_type": "code",
      "metadata": {
        "id": "lSvkUNmwjxPc"
      },
      "source": [
        "len(X_train), len(y_test)"
      ],
      "execution_count": null,
      "outputs": []
    },
    {
      "cell_type": "markdown",
      "metadata": {
        "id": "V5BzNHljkvLO"
      },
      "source": [
        "### Encoding target variable"
      ]
    },
    {
      "cell_type": "code",
      "metadata": {
        "id": "kpOkBaR-3syf"
      },
      "source": [
        "le = LabelEncoder()\n",
        "y_train = le.fit_transform(y_train)\n",
        "y_train"
      ],
      "execution_count": null,
      "outputs": []
    },
    {
      "cell_type": "markdown",
      "metadata": {
        "id": "kVnSP-fTk1UM"
      },
      "source": [
        "### Cleaning the text data"
      ]
    },
    {
      "cell_type": "code",
      "metadata": {
        "id": "SFzgVt7mkr1Z"
      },
      "source": [
        "wordnet = WordNetLemmatizer()"
      ],
      "execution_count": null,
      "outputs": []
    },
    {
      "cell_type": "code",
      "metadata": {
        "id": "OYvWg5hW5P6E"
      },
      "source": [
        "def clean_data(X):\n",
        "  corpus = []\n",
        "\n",
        "  for review in X:\n",
        "    review = review.lower()\n",
        "    review = re.sub('<br \\/>', ' ', review)\n",
        "    review = re.sub('[^a-zA-Z]', ' ', review)\n",
        "    words = nltk.word_tokenize(review)\n",
        "    words = [wordnet.lemmatize(word) for word in words if word not in stopwords.words('english')]\n",
        "    w = ' '.join(words)\n",
        "    corpus.append(w)\n",
        "  return corpus"
      ],
      "execution_count": null,
      "outputs": []
    },
    {
      "cell_type": "code",
      "metadata": {
        "id": "ZiD9QWkZ7Kgh"
      },
      "source": [
        "X_train = clean_data(X_train)"
      ],
      "execution_count": null,
      "outputs": []
    },
    {
      "cell_type": "code",
      "metadata": {
        "id": "rBVNkVii7ICE"
      },
      "source": [
        "X_train[0]"
      ],
      "execution_count": null,
      "outputs": []
    },
    {
      "cell_type": "markdown",
      "metadata": {
        "id": "Dich1tlLvS2B"
      },
      "source": [
        "A vectorizer helps us convert text data to computer understandable numeric data."
      ]
    },
    {
      "cell_type": "code",
      "metadata": {
        "id": "sRkjBsVCo_Pk"
      },
      "source": [
        "tfidf = TfidfVectorizer()\n",
        "X_train = tfidf.fit_transform(X_train).toarray()"
      ],
      "execution_count": null,
      "outputs": []
    },
    {
      "cell_type": "code",
      "metadata": {
        "id": "5Lt3fFEGpcPI"
      },
      "source": [
        "X_train[0]"
      ],
      "execution_count": null,
      "outputs": []
    },
    {
      "cell_type": "code",
      "metadata": {
        "id": "zG_lNegf1i6O"
      },
      "source": [
        "from sklearn.naive_bayes import MultinomialNB\n",
        "\n",
        "mnb = MultinomialNB()\n",
        "mnb.fit(X_train, y_train)"
      ],
      "execution_count": null,
      "outputs": []
    },
    {
      "cell_type": "code",
      "metadata": {
        "id": "cKCwVmd4jCRc"
      },
      "source": [
        "X_test = clean_data(X_test)\n",
        "X_test = tfidf.transform(X_test).toarray()"
      ],
      "execution_count": null,
      "outputs": []
    },
    {
      "cell_type": "code",
      "metadata": {
        "id": "kKXYwaI8jCLl"
      },
      "source": [
        "len(X_train), len(X_train[0])"
      ],
      "execution_count": null,
      "outputs": []
    },
    {
      "cell_type": "code",
      "metadata": {
        "id": "zHmA4BkajCNz"
      },
      "source": [
        "len(X_test), len(X_test[0])"
      ],
      "execution_count": null,
      "outputs": []
    },
    {
      "cell_type": "code",
      "metadata": {
        "id": "UrScUXfL2Ht-"
      },
      "source": [
        "y_pred = mnb.predict(X_test)"
      ],
      "execution_count": null,
      "outputs": []
    },
    {
      "cell_type": "code",
      "metadata": {
        "id": "bNEIobsy7vzz"
      },
      "source": [
        "# Convert y_pred to positive or negative\n",
        "y_pred = le.inverse_transform(y_pred)\n",
        "print(y_pred[:10])"
      ],
      "execution_count": null,
      "outputs": []
    },
    {
      "cell_type": "code",
      "metadata": {
        "id": "tKN2crOSlN84"
      },
      "source": [
        "len(y_test), len(y_pred)"
      ],
      "execution_count": null,
      "outputs": []
    },
    {
      "cell_type": "code",
      "metadata": {
        "id": "VuW6Vc9I38zv"
      },
      "source": [
        "from sklearn.metrics import accuracy_score\n",
        "\n",
        "accuracy = accuracy_score(y_test, y_pred)\n",
        "accuracy"
      ],
      "execution_count": null,
      "outputs": []
    },
    {
      "cell_type": "markdown",
      "metadata": {
        "id": "OJTy0W0n1k16"
      },
      "source": [
        "##### The model gives an accuracy of around 85.66%"
      ]
    },
    {
      "cell_type": "code",
      "metadata": {
        "id": "NfLyyazlK1VS"
      },
      "source": [
        "import pickle\n",
        "\n",
        "# open a file, where you want to store the data\n",
        "file = open(\"naivebayes.pkl\", 'wb')\n",
        "\n",
        "# dump information to that file\n",
        "pickle.dump([mnb, tfidf, le], file)"
      ],
      "execution_count": null,
      "outputs": []
    },
    {
      "cell_type": "code",
      "metadata": {
        "id": "waTXUDngPJ62"
      },
      "source": [
        "from google.colab import files\n",
        "files.download('naivebayes.pkl')"
      ],
      "execution_count": null,
      "outputs": []
    },
    {
      "cell_type": "code",
      "metadata": {
        "id": "qMZHycFKPxPX"
      },
      "source": [
        "files.download('app.py')"
      ],
      "execution_count": null,
      "outputs": []
    },
    {
      "cell_type": "markdown",
      "metadata": {
        "id": "ZICqqXEr08W4"
      },
      "source": [
        "#### install streamlit and restart runtime"
      ]
    },
    {
      "cell_type": "code",
      "metadata": {
        "id": "iNigu5FTnAn7"
      },
      "source": [
        "!pip install -q streamlit"
      ],
      "execution_count": null,
      "outputs": []
    },
    {
      "cell_type": "code",
      "metadata": {
        "id": "DTtwk7yinAlG"
      },
      "source": [
        "!wget https://bin.equinox.io/c/4VmDzA7iaHb/ngrok-stable-linux-amd64.zip"
      ],
      "execution_count": null,
      "outputs": []
    },
    {
      "cell_type": "code",
      "metadata": {
        "id": "sK1TEMVenAhs"
      },
      "source": [
        "!unzip ngrok-stable-linux-amd64.zip"
      ],
      "execution_count": null,
      "outputs": []
    },
    {
      "cell_type": "code",
      "metadata": {
        "id": "zkgicPSCnAfE"
      },
      "source": [
        "get_ipython().system_raw('./ngrok http 8501 &')"
      ],
      "execution_count": null,
      "outputs": []
    },
    {
      "cell_type": "code",
      "metadata": {
        "id": "N2iHDj4AnAck"
      },
      "source": [
        "!curl -s http://localhost:4040/api/tunnels | python3 -c \\\n",
        "    'import sys, json; print(\"Execute the next cell and the go to the following URL: \" +json.load(sys.stdin)[\"tunnels\"][0][\"public_url\"])'"
      ],
      "execution_count": null,
      "outputs": []
    },
    {
      "cell_type": "code",
      "metadata": {
        "id": "cnsxY5PfnZY7"
      },
      "source": [
        "!streamlit run /content/app.py"
      ],
      "execution_count": null,
      "outputs": []
    },
    {
      "cell_type": "code",
      "metadata": {
        "id": "o9Wi38jVj7E4"
      },
      "source": [
        ""
      ],
      "execution_count": null,
      "outputs": []
    }
  ]
}