{
  "nbformat": 4,
  "nbformat_minor": 0,
  "metadata": {
    "colab": {
      "name": "PCA_from_scratch.ipynb",
      "provenance": [],
      "collapsed_sections": []
    },
    "kernelspec": {
      "name": "python3",
      "display_name": "Python 3"
    },
    "language_info": {
      "name": "python"
    }
  },
  "cells": [
    {
      "cell_type": "code",
      "metadata": {
        "id": "jHK2ZkvHy8Yc"
      },
      "source": [
        "import numpy as np\n",
        "import pandas as pd\n",
        "import warnings\n",
        "import seaborn as sns\n",
        "warnings.filterwarnings('ignore')"
      ],
      "execution_count": 1,
      "outputs": []
    },
    {
      "cell_type": "code",
      "metadata": {
        "colab": {
          "base_uri": "https://localhost:8080/",
          "height": 203
        },
        "id": "EAffSbpOzHTw",
        "outputId": "7271a130-9163-4659-87a7-e176b78b47d1"
      },
      "source": [
        "data = sns.load_dataset('iris')\n",
        "data.head()"
      ],
      "execution_count": 2,
      "outputs": [
        {
          "output_type": "execute_result",
          "data": {
            "text/html": [
              "<div>\n",
              "<style scoped>\n",
              "    .dataframe tbody tr th:only-of-type {\n",
              "        vertical-align: middle;\n",
              "    }\n",
              "\n",
              "    .dataframe tbody tr th {\n",
              "        vertical-align: top;\n",
              "    }\n",
              "\n",
              "    .dataframe thead th {\n",
              "        text-align: right;\n",
              "    }\n",
              "</style>\n",
              "<table border=\"1\" class=\"dataframe\">\n",
              "  <thead>\n",
              "    <tr style=\"text-align: right;\">\n",
              "      <th></th>\n",
              "      <th>sepal_length</th>\n",
              "      <th>sepal_width</th>\n",
              "      <th>petal_length</th>\n",
              "      <th>petal_width</th>\n",
              "      <th>species</th>\n",
              "    </tr>\n",
              "  </thead>\n",
              "  <tbody>\n",
              "    <tr>\n",
              "      <th>0</th>\n",
              "      <td>5.1</td>\n",
              "      <td>3.5</td>\n",
              "      <td>1.4</td>\n",
              "      <td>0.2</td>\n",
              "      <td>setosa</td>\n",
              "    </tr>\n",
              "    <tr>\n",
              "      <th>1</th>\n",
              "      <td>4.9</td>\n",
              "      <td>3.0</td>\n",
              "      <td>1.4</td>\n",
              "      <td>0.2</td>\n",
              "      <td>setosa</td>\n",
              "    </tr>\n",
              "    <tr>\n",
              "      <th>2</th>\n",
              "      <td>4.7</td>\n",
              "      <td>3.2</td>\n",
              "      <td>1.3</td>\n",
              "      <td>0.2</td>\n",
              "      <td>setosa</td>\n",
              "    </tr>\n",
              "    <tr>\n",
              "      <th>3</th>\n",
              "      <td>4.6</td>\n",
              "      <td>3.1</td>\n",
              "      <td>1.5</td>\n",
              "      <td>0.2</td>\n",
              "      <td>setosa</td>\n",
              "    </tr>\n",
              "    <tr>\n",
              "      <th>4</th>\n",
              "      <td>5.0</td>\n",
              "      <td>3.6</td>\n",
              "      <td>1.4</td>\n",
              "      <td>0.2</td>\n",
              "      <td>setosa</td>\n",
              "    </tr>\n",
              "  </tbody>\n",
              "</table>\n",
              "</div>"
            ],
            "text/plain": [
              "   sepal_length  sepal_width  petal_length  petal_width species\n",
              "0           5.1          3.5           1.4          0.2  setosa\n",
              "1           4.9          3.0           1.4          0.2  setosa\n",
              "2           4.7          3.2           1.3          0.2  setosa\n",
              "3           4.6          3.1           1.5          0.2  setosa\n",
              "4           5.0          3.6           1.4          0.2  setosa"
            ]
          },
          "metadata": {
            "tags": []
          },
          "execution_count": 2
        }
      ]
    },
    {
      "cell_type": "code",
      "metadata": {
        "id": "bTQGZ1p2Nrop"
      },
      "source": [
        "X = data.iloc[:, :-1]\n",
        "y = data.iloc[:, -1]"
      ],
      "execution_count": 3,
      "outputs": []
    },
    {
      "cell_type": "code",
      "metadata": {
        "colab": {
          "base_uri": "https://localhost:8080/"
        },
        "id": "7LPVoB_ZNXsA",
        "outputId": "567de06f-184b-4e04-e51c-33a0bda31d49"
      },
      "source": [
        "from sklearn.preprocessing import StandardScaler\n",
        "sc = StandardScaler()\n",
        "X = sc.fit_transform(X)\n",
        "X[:5]"
      ],
      "execution_count": 4,
      "outputs": [
        {
          "output_type": "execute_result",
          "data": {
            "text/plain": [
              "array([[-0.90068117,  1.01900435, -1.34022653, -1.3154443 ],\n",
              "       [-1.14301691, -0.13197948, -1.34022653, -1.3154443 ],\n",
              "       [-1.38535265,  0.32841405, -1.39706395, -1.3154443 ],\n",
              "       [-1.50652052,  0.09821729, -1.2833891 , -1.3154443 ],\n",
              "       [-1.02184904,  1.24920112, -1.34022653, -1.3154443 ]])"
            ]
          },
          "metadata": {
            "tags": []
          },
          "execution_count": 4
        }
      ]
    },
    {
      "cell_type": "code",
      "metadata": {
        "id": "BYQtN5cdHI0E"
      },
      "source": [
        "class PCA:\n",
        "\n",
        "  def __init__(self, n_components):\n",
        "    self.n_components = n_components\n",
        "    self.components = None\n",
        "    # components contains eigvectors\n",
        "\n",
        "\n",
        "  def fit(self, X):\n",
        "    \n",
        "    # covariance matrix\n",
        "    cov = np.cov(X.T)\n",
        "    # give an input where each row represents a feature, with observations in the columns.\n",
        "\n",
        "    # eigenvalues, eigenvectors\n",
        "    eigenvalues, eigenvectors = np.linalg.eig(cov)\n",
        "    # eigenvalue represents variance in data. More the eigen value, more variance, more importance\n",
        "    # Column v[:,i] is the eigenvector corresponding to the eigenvalue[i].\n",
        "\n",
        "    # sort eigenvectors\n",
        "    eigenvectors = eigenvectors.T\n",
        "    # each row, eigenvector[i] contains an eigen vector corresponding to the eigenvalue[i]\n",
        "    indices = np.argsort(eigenvalues)[::-1] # indices in desc order of eigen values\n",
        "    eigenvalues = eigenvalues[indices]\n",
        "    eigenvectors = eigenvectors[indices]\n",
        "\n",
        "    # store first n_components eigen vectors\n",
        "    self.components = eigenvectors[:self.n_components]\n",
        "\n",
        "\n",
        "  def transform(self, X):\n",
        "    \n",
        "    # project data\n",
        "    # each row contains an eigen vector\n",
        "    # each column in self.components.T contains an eigen vector\n",
        "    X = sc.transform(X)\n",
        "\n",
        "    # Matrix * V(Eigen_vector_i)\n",
        "    return np.dot(X, self.components.T)"
      ],
      "execution_count": 6,
      "outputs": []
    },
    {
      "cell_type": "code",
      "metadata": {
        "id": "NgUWA4mmWxxz"
      },
      "source": [
        "pca = PCA(2)\n",
        "pca.fit(X)\n",
        "X_projected = pca.transform(X)"
      ],
      "execution_count": 7,
      "outputs": []
    },
    {
      "cell_type": "code",
      "metadata": {
        "colab": {
          "base_uri": "https://localhost:8080/"
        },
        "id": "H9KV439BWxuM",
        "outputId": "cf608666-0067-4e1a-b6df-88f94e8688c9"
      },
      "source": [
        "X_projected"
      ],
      "execution_count": 8,
      "outputs": [
        {
          "output_type": "execute_result",
          "data": {
            "text/plain": [
              "array([[-6.54579149,  7.70892008],\n",
              "       [-5.9851502 , 10.26603967],\n",
              "       [-6.44235997,  9.39913424],\n",
              "       [-6.33863195,  9.94222244],\n",
              "       [-6.76502128,  7.27507177],\n",
              "       [-6.63520664,  5.56007709],\n",
              "       [-6.68769537,  8.4636362 ],\n",
              "       [-6.46081368,  8.25279949],\n",
              "       [-6.22492695, 11.03235484],\n",
              "       [-6.20700156,  9.78758807],\n",
              "       [-6.58299541,  6.56337653],\n",
              "       [-6.59506565,  8.36283057],\n",
              "       [-6.15952416, 10.33304987],\n",
              "       [-6.59828022, 10.61247919],\n",
              "       [-6.76142775,  4.87632718],\n",
              "       [-7.15684726,  2.94912877],\n",
              "       [-6.71020746,  5.56324189],\n",
              "       [-6.44791862,  7.69732102],\n",
              "       [-6.36084756,  5.89470218],\n",
              "       [-6.8573545 ,  6.22875144],\n",
              "       [-6.11730892,  8.02957251],\n",
              "       [-6.61675293,  6.70641184],\n",
              "       [-7.14602645,  7.49988114],\n",
              "       [-5.91046487,  8.65026822],\n",
              "       [-6.53881504,  8.36045697],\n",
              "       [-5.8711487 , 10.20904612],\n",
              "       [-6.24631773,  8.22881017],\n",
              "       [-6.4505402 ,  7.65271774],\n",
              "       [-6.32656171,  8.1427684 ],\n",
              "       [-6.38610935,  9.39676064],\n",
              "       [-6.16687957,  9.83060895],\n",
              "       [-5.95906358,  8.00795679],\n",
              "       [-7.40478524,  4.72876004],\n",
              "       [-7.238888  ,  4.06245929],\n",
              "       [-6.10912869,  9.77598901],\n",
              "       [-6.23160691,  9.233692  ],\n",
              "       [-6.25853734,  7.48806671],\n",
              "       [-6.93939524,  7.34208197],\n",
              "       [-6.38640585, 10.54388659],\n",
              "       [-6.38431259,  8.19738834],\n",
              "       [-6.54316991,  7.75352337],\n",
              "       [-5.21293102, 13.9016926 ],\n",
              "       [-6.67186323,  9.56536767],\n",
              "       [-6.19330068,  7.71635259],\n",
              "       [-6.68448081,  6.21398759],\n",
              "       [-5.96377841, 10.30985175],\n",
              "       [-6.93647717,  6.2395593 ],\n",
              "       [-6.50011085,  9.45375418],\n",
              "       [-6.6594965 ,  6.61878768],\n",
              "       [-6.33683519,  8.74285014],\n",
              "       [-2.87085349,  7.95858842],\n",
              "       [-3.26948756,  8.28103862],\n",
              "       [-2.6692526 ,  8.49007756],\n",
              "       [-2.96293588, 13.21022817],\n",
              "       [-2.60332149, 10.18187411],\n",
              "       [-3.42982615, 10.64915259],\n",
              "       [-3.35334406,  7.83400885],\n",
              "       [-3.98954116, 13.09377115],\n",
              "       [-2.86529484,  9.66040163],\n",
              "       [-3.68423126, 11.4086159 ],\n",
              "       [-3.30462488, 14.99381544],\n",
              "       [-3.42278623,  9.53898686],\n",
              "       [-2.73132036, 13.45722909],\n",
              "       [-3.13117721,  9.92506709],\n",
              "       [-3.81780778, 10.22242507],\n",
              "       [-3.01387868,  8.61645491],\n",
              "       [-3.59603888,  9.70284669],\n",
              "       [-3.5792158 , 11.12096288],\n",
              "       [-1.99520279, 13.2844555 ],\n",
              "       [-3.38638813, 12.20028742],\n",
              "       [-3.30212377,  8.52092356],\n",
              "       [-3.21757282, 10.43146401],\n",
              "       [-2.27188697, 11.75810118],\n",
              "       [-3.18419426, 10.43752467],\n",
              "       [-3.07454763,  9.77359752],\n",
              "       [-2.94765107,  9.16112551],\n",
              "       [-2.43419069, 10.02565734],\n",
              "       [-2.46503014,  9.06616999],\n",
              "       [-3.14730583,  9.97046158],\n",
              "       [-3.62548943, 11.67038068],\n",
              "       [-3.33891073, 12.74574923],\n",
              "       [-3.45553381, 12.75813949],\n",
              "       [-3.42097047, 11.09934716],\n",
              "       [-2.65147434, 10.93263424],\n",
              "       [-3.74904106,  9.81366898],\n",
              "       [-3.76307643,  7.51256522],\n",
              "       [-2.85975519,  8.60248225],\n",
              "       [-2.27592635, 12.76377422],\n",
              "       [-3.86678545,  9.72920961],\n",
              "       [-3.24839327, 12.23170925],\n",
              "       [-3.41399401, 11.75088405],\n",
              "       [-3.29265611,  9.43659883],\n",
              "       [-3.25949157, 11.58781542],\n",
              "       [-3.77031137, 13.52761946],\n",
              "       [-3.41984916, 11.19619679],\n",
              "       [-3.86940703,  9.68460633],\n",
              "       [-3.62880546, 10.16226673],\n",
              "       [-3.22754981,  9.88441981],\n",
              "       [-3.93764542, 12.48446394],\n",
              "       [-3.50482697, 10.65231738],\n",
              "       [-2.22873555,  7.71933172],\n",
              "       [-2.5108579 , 11.00865935],\n",
              "       [-1.59878245,  8.79100838],\n",
              "       [-2.41793169,  9.76072777],\n",
              "       [-1.97866631,  9.11266738],\n",
              "       [-1.08502557,  8.50841426],\n",
              "       [-3.22215728, 12.51382388],\n",
              "       [-1.52166937,  9.20107793],\n",
              "       [-1.50351215, 11.49453863],\n",
              "       [-1.94966163,  5.75206184],\n",
              "       [-2.59112088,  8.16288498],\n",
              "       [-2.01435096, 10.67461008],\n",
              "       [-1.90328653,  8.96040661],\n",
              "       [-2.22277893, 12.03178155],\n",
              "       [-2.16422223, 10.46140459],\n",
              "       [-2.33650294,  8.18191655],\n",
              "       [-2.42640842,  9.16143722],\n",
              "       [-2.03373096,  4.52653718],\n",
              "       [-0.18561334, 10.38446923],\n",
              "       [-2.05445395, 13.39132179],\n",
              "       [-1.87899668,  7.90169603],\n",
              "       [-2.74621631, 10.62020551],\n",
              "       [-0.80218976,  9.44232989],\n",
              "       [-2.26372574, 10.74478508],\n",
              "       [-2.3704733 ,  7.54645698],\n",
              "       [-2.08260716,  7.7910843 ],\n",
              "       [-2.50170573, 10.31172797],\n",
              "       [-2.844914  ,  9.38782899],\n",
              "       [-1.90508329, 10.1597789 ],\n",
              "       [-2.03039593,  8.79438373],\n",
              "       [-1.24206713,  9.62490958],\n",
              "       [-2.13272514,  4.44128661],\n",
              "       [-1.80721042, 10.14817985],\n",
              "       [-2.66257264, 10.2887404 ],\n",
              "       [-2.53423928, 11.38572467],\n",
              "       [-0.90652976,  8.433761  ],\n",
              "       [-2.54433793,  7.24483612],\n",
              "       [-2.6456382 ,  8.72758891],\n",
              "       [-2.9401653 ,  9.44403134],\n",
              "       [-1.98826434,  8.41652721],\n",
              "       [-1.8101475 ,  8.49096992],\n",
              "       [-1.84876922,  8.39570269],\n",
              "       [-2.5108579 , 11.00865935],\n",
              "       [-1.91799736,  7.95552477],\n",
              "       [-1.97898181,  7.50006074],\n",
              "       [-1.84029249,  8.99499323],\n",
              "       [-1.86164527, 11.71091374],\n",
              "       [-2.28691329,  9.1406127 ],\n",
              "       [-2.7562123 ,  7.31342872],\n",
              "       [-2.96041577,  9.49706888]])"
            ]
          },
          "metadata": {
            "tags": []
          },
          "execution_count": 8
        }
      ]
    },
    {
      "cell_type": "code",
      "metadata": {
        "id": "l8NL9CLtWxrS",
        "colab": {
          "base_uri": "https://localhost:8080/",
          "height": 282
        },
        "outputId": "3a7ee29e-9405-4c3e-ec64-7ef3bd8f6298"
      },
      "source": [
        "sns.scatterplot(X_projected[:, 0], X_projected[:, 1])"
      ],
      "execution_count": 11,
      "outputs": [
        {
          "output_type": "execute_result",
          "data": {
            "text/plain": [
              "<matplotlib.axes._subplots.AxesSubplot at 0x7f874b9b3d10>"
            ]
          },
          "metadata": {
            "tags": []
          },
          "execution_count": 11
        },
        {
          "output_type": "display_data",
          "data": {
            "image/png": "[encoded data removed]",
            "text/plain": [
              "<Figure size 432x288 with 1 Axes>"
            ]
          },
          "metadata": {
            "tags": [],
            "needs_background": "light"
          }
        }
      ]
    },
    {
      "cell_type": "code",
      "metadata": {
        "id": "ERmxCzq9Wxlz"
      },
      "source": [
        ""
      ],
      "execution_count": null,
      "outputs": []
    }
  ]
}