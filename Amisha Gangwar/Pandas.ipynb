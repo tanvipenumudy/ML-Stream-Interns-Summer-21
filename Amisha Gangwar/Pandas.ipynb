{
  "nbformat": 4,
  "nbformat_minor": 0,
  "metadata": {
    "colab": {
      "name": "Pandas.ipynb",
      "provenance": []
    },
    "kernelspec": {
      "name": "python3",
      "display_name": "Python 3"
    },
    "language_info": {
      "name": "python"
    }
  },
  "cells": [
    {
      "cell_type": "markdown",
      "metadata": {
        "id": "9TI759mZQ6ab"
      },
      "source": [
        "# Importing Libraries"
      ]
    },
    {
      "cell_type": "code",
      "metadata": {
        "id": "8TK9piLdQuEs"
      },
      "source": [
        "import pandas as pd\n",
        "import numpy as np "
      ],
      "execution_count": 5,
      "outputs": []
    },
    {
      "cell_type": "code",
      "metadata": {
        "colab": {
          "base_uri": "https://localhost:8080/"
        },
        "id": "SbVPrnFlRHR9",
        "outputId": "a0a64a2b-7d9a-4002-90fe-674fe66ac2b3"
      },
      "source": [
        "s = pd.Series([1, 2 ,3 ,4 ,5 ,6 ,7 , np.nan, 8, 9 ])\n",
        "s "
      ],
      "execution_count": 6,
      "outputs": [
        {
          "output_type": "execute_result",
          "data": {
            "text/plain": [
              "0    1.0\n",
              "1    2.0\n",
              "2    3.0\n",
              "3    4.0\n",
              "4    5.0\n",
              "5    6.0\n",
              "6    7.0\n",
              "7    NaN\n",
              "8    8.0\n",
              "9    9.0\n",
              "dtype: float64"
            ]
          },
          "metadata": {
            "tags": []
          },
          "execution_count": 6
        }
      ]
    },
    {
      "cell_type": "code",
      "metadata": {
        "colab": {
          "base_uri": "https://localhost:8080/"
        },
        "id": "N7saRr19SHAw",
        "outputId": "6e29bcb6-c503-4efb-9be2-d6f0fd947bdc"
      },
      "source": [
        "d= pd.date_range('20210610', periods = 10)\n",
        "d"
      ],
      "execution_count": 9,
      "outputs": [
        {
          "output_type": "execute_result",
          "data": {
            "text/plain": [
              "DatetimeIndex(['2021-06-10', '2021-06-11', '2021-06-12', '2021-06-13',\n",
              "               '2021-06-14', '2021-06-15', '2021-06-16', '2021-06-17',\n",
              "               '2021-06-18', '2021-06-19'],\n",
              "              dtype='datetime64[ns]', freq='D')"
            ]
          },
          "metadata": {
            "tags": []
          },
          "execution_count": 9
        }
      ]
    },
    {
      "cell_type": "code",
      "metadata": {
        "colab": {
          "base_uri": "https://localhost:8080/",
          "height": 347
        },
        "id": "9ETT_1sCSXZG",
        "outputId": "b5fa853a-01e4-4f61-9906-edf54405cb85"
      },
      "source": [
        "df = pd.DataFrame(np.random.randn(10,4), index = d, columns  =['A', 'B', 'C', 'D'])\n",
        "df"
      ],
      "execution_count": 12,
      "outputs": [
        {
          "output_type": "execute_result",
          "data": {
            "text/html": [
              "<div>\n",
              "<style scoped>\n",
              "    .dataframe tbody tr th:only-of-type {\n",
              "        vertical-align: middle;\n",
              "    }\n",
              "\n",
              "    .dataframe tbody tr th {\n",
              "        vertical-align: top;\n",
              "    }\n",
              "\n",
              "    .dataframe thead th {\n",
              "        text-align: right;\n",
              "    }\n",
              "</style>\n",
              "<table border=\"1\" class=\"dataframe\">\n",
              "  <thead>\n",
              "    <tr style=\"text-align: right;\">\n",
              "      <th></th>\n",
              "      <th>A</th>\n",
              "      <th>B</th>\n",
              "      <th>C</th>\n",
              "      <th>D</th>\n",
              "    </tr>\n",
              "  </thead>\n",
              "  <tbody>\n",
              "    <tr>\n",
              "      <th>2021-06-10</th>\n",
              "      <td>-0.452301</td>\n",
              "      <td>0.269629</td>\n",
              "      <td>1.123197</td>\n",
              "      <td>0.005899</td>\n",
              "    </tr>\n",
              "    <tr>\n",
              "      <th>2021-06-11</th>\n",
              "      <td>0.718935</td>\n",
              "      <td>-0.324157</td>\n",
              "      <td>0.490302</td>\n",
              "      <td>-2.165880</td>\n",
              "    </tr>\n",
              "    <tr>\n",
              "      <th>2021-06-12</th>\n",
              "      <td>-0.388509</td>\n",
              "      <td>-0.043575</td>\n",
              "      <td>-2.193133</td>\n",
              "      <td>1.666281</td>\n",
              "    </tr>\n",
              "    <tr>\n",
              "      <th>2021-06-13</th>\n",
              "      <td>0.093864</td>\n",
              "      <td>-0.286944</td>\n",
              "      <td>-1.846053</td>\n",
              "      <td>-0.661246</td>\n",
              "    </tr>\n",
              "    <tr>\n",
              "      <th>2021-06-14</th>\n",
              "      <td>-1.036516</td>\n",
              "      <td>1.178059</td>\n",
              "      <td>0.803445</td>\n",
              "      <td>-0.215513</td>\n",
              "    </tr>\n",
              "    <tr>\n",
              "      <th>2021-06-15</th>\n",
              "      <td>2.228319</td>\n",
              "      <td>-0.393013</td>\n",
              "      <td>-0.014595</td>\n",
              "      <td>1.471441</td>\n",
              "    </tr>\n",
              "    <tr>\n",
              "      <th>2021-06-16</th>\n",
              "      <td>-0.509084</td>\n",
              "      <td>0.229135</td>\n",
              "      <td>0.760553</td>\n",
              "      <td>1.593855</td>\n",
              "    </tr>\n",
              "    <tr>\n",
              "      <th>2021-06-17</th>\n",
              "      <td>0.323459</td>\n",
              "      <td>0.742179</td>\n",
              "      <td>0.418076</td>\n",
              "      <td>0.737782</td>\n",
              "    </tr>\n",
              "    <tr>\n",
              "      <th>2021-06-18</th>\n",
              "      <td>-0.390164</td>\n",
              "      <td>0.449439</td>\n",
              "      <td>-0.941449</td>\n",
              "      <td>-0.106143</td>\n",
              "    </tr>\n",
              "    <tr>\n",
              "      <th>2021-06-19</th>\n",
              "      <td>0.191984</td>\n",
              "      <td>-0.483259</td>\n",
              "      <td>-1.079732</td>\n",
              "      <td>-0.351373</td>\n",
              "    </tr>\n",
              "  </tbody>\n",
              "</table>\n",
              "</div>"
            ],
            "text/plain": [
              "                   A         B         C         D\n",
              "2021-06-10 -0.452301  0.269629  1.123197  0.005899\n",
              "2021-06-11  0.718935 -0.324157  0.490302 -2.165880\n",
              "2021-06-12 -0.388509 -0.043575 -2.193133  1.666281\n",
              "2021-06-13  0.093864 -0.286944 -1.846053 -0.661246\n",
              "2021-06-14 -1.036516  1.178059  0.803445 -0.215513\n",
              "2021-06-15  2.228319 -0.393013 -0.014595  1.471441\n",
              "2021-06-16 -0.509084  0.229135  0.760553  1.593855\n",
              "2021-06-17  0.323459  0.742179  0.418076  0.737782\n",
              "2021-06-18 -0.390164  0.449439 -0.941449 -0.106143\n",
              "2021-06-19  0.191984 -0.483259 -1.079732 -0.351373"
            ]
          },
          "metadata": {
            "tags": []
          },
          "execution_count": 12
        }
      ]
    },
    {
      "cell_type": "code",
      "metadata": {
        "colab": {
          "base_uri": "https://localhost:8080/",
          "height": 167
        },
        "id": "a4JIYjlJSx2s",
        "outputId": "a1f264d8-3cc4-4a14-e342-e75bb89046f4"
      },
      "source": [
        "df = pd.DataFrame({'A':[1,2,3,4],\n",
        "                  'B': pd.Timestamp('20210610'),\n",
        "                  'C': pd.Series(1, index= list(range(4)), dtype = 'float32'),\n",
        "                  'D': np.array([5]*4, dtype = 'int32'),\n",
        "                  'E': pd.Categorical(['T', 'F', 'T', 'F']),\n",
        "                  'F':  'Amisha'})\n",
        "df"
      ],
      "execution_count": 19,
      "outputs": [
        {
          "output_type": "execute_result",
          "data": {
            "text/html": [
              "<div>\n",
              "<style scoped>\n",
              "    .dataframe tbody tr th:only-of-type {\n",
              "        vertical-align: middle;\n",
              "    }\n",
              "\n",
              "    .dataframe tbody tr th {\n",
              "        vertical-align: top;\n",
              "    }\n",
              "\n",
              "    .dataframe thead th {\n",
              "        text-align: right;\n",
              "    }\n",
              "</style>\n",
              "<table border=\"1\" class=\"dataframe\">\n",
              "  <thead>\n",
              "    <tr style=\"text-align: right;\">\n",
              "      <th></th>\n",
              "      <th>A</th>\n",
              "      <th>B</th>\n",
              "      <th>C</th>\n",
              "      <th>D</th>\n",
              "      <th>E</th>\n",
              "      <th>F</th>\n",
              "    </tr>\n",
              "  </thead>\n",
              "  <tbody>\n",
              "    <tr>\n",
              "      <th>0</th>\n",
              "      <td>1</td>\n",
              "      <td>2021-06-10</td>\n",
              "      <td>1.0</td>\n",
              "      <td>5</td>\n",
              "      <td>T</td>\n",
              "      <td>Amisha</td>\n",
              "    </tr>\n",
              "    <tr>\n",
              "      <th>1</th>\n",
              "      <td>2</td>\n",
              "      <td>2021-06-10</td>\n",
              "      <td>1.0</td>\n",
              "      <td>5</td>\n",
              "      <td>F</td>\n",
              "      <td>Amisha</td>\n",
              "    </tr>\n",
              "    <tr>\n",
              "      <th>2</th>\n",
              "      <td>3</td>\n",
              "      <td>2021-06-10</td>\n",
              "      <td>1.0</td>\n",
              "      <td>5</td>\n",
              "      <td>T</td>\n",
              "      <td>Amisha</td>\n",
              "    </tr>\n",
              "    <tr>\n",
              "      <th>3</th>\n",
              "      <td>4</td>\n",
              "      <td>2021-06-10</td>\n",
              "      <td>1.0</td>\n",
              "      <td>5</td>\n",
              "      <td>F</td>\n",
              "      <td>Amisha</td>\n",
              "    </tr>\n",
              "  </tbody>\n",
              "</table>\n",
              "</div>"
            ],
            "text/plain": [
              "   A          B    C  D  E       F\n",
              "0  1 2021-06-10  1.0  5  T  Amisha\n",
              "1  2 2021-06-10  1.0  5  F  Amisha\n",
              "2  3 2021-06-10  1.0  5  T  Amisha\n",
              "3  4 2021-06-10  1.0  5  F  Amisha"
            ]
          },
          "metadata": {
            "tags": []
          },
          "execution_count": 19
        }
      ]
    },
    {
      "cell_type": "code",
      "metadata": {
        "colab": {
          "base_uri": "https://localhost:8080/"
        },
        "id": "PfJY1WNWUHQJ",
        "outputId": "c5c1da69-0f8c-45ef-9610-eb1bfe0f5f29"
      },
      "source": [
        "df.dtypes"
      ],
      "execution_count": 22,
      "outputs": [
        {
          "output_type": "execute_result",
          "data": {
            "text/plain": [
              "A             int64\n",
              "B    datetime64[ns]\n",
              "C           float32\n",
              "D             int32\n",
              "E          category\n",
              "F            object\n",
              "dtype: object"
            ]
          },
          "metadata": {
            "tags": []
          },
          "execution_count": 22
        }
      ]
    },
    {
      "cell_type": "code",
      "metadata": {
        "colab": {
          "base_uri": "https://localhost:8080/",
          "height": 167
        },
        "id": "izpL0GBvUdHO",
        "outputId": "f1dd279b-6046-40de-aaf0-59a39d94ea58"
      },
      "source": [
        "df.head()"
      ],
      "execution_count": 23,
      "outputs": [
        {
          "output_type": "execute_result",
          "data": {
            "text/html": [
              "<div>\n",
              "<style scoped>\n",
              "    .dataframe tbody tr th:only-of-type {\n",
              "        vertical-align: middle;\n",
              "    }\n",
              "\n",
              "    .dataframe tbody tr th {\n",
              "        vertical-align: top;\n",
              "    }\n",
              "\n",
              "    .dataframe thead th {\n",
              "        text-align: right;\n",
              "    }\n",
              "</style>\n",
              "<table border=\"1\" class=\"dataframe\">\n",
              "  <thead>\n",
              "    <tr style=\"text-align: right;\">\n",
              "      <th></th>\n",
              "      <th>A</th>\n",
              "      <th>B</th>\n",
              "      <th>C</th>\n",
              "      <th>D</th>\n",
              "      <th>E</th>\n",
              "      <th>F</th>\n",
              "    </tr>\n",
              "  </thead>\n",
              "  <tbody>\n",
              "    <tr>\n",
              "      <th>0</th>\n",
              "      <td>1</td>\n",
              "      <td>2021-06-10</td>\n",
              "      <td>1.0</td>\n",
              "      <td>5</td>\n",
              "      <td>T</td>\n",
              "      <td>Amisha</td>\n",
              "    </tr>\n",
              "    <tr>\n",
              "      <th>1</th>\n",
              "      <td>2</td>\n",
              "      <td>2021-06-10</td>\n",
              "      <td>1.0</td>\n",
              "      <td>5</td>\n",
              "      <td>F</td>\n",
              "      <td>Amisha</td>\n",
              "    </tr>\n",
              "    <tr>\n",
              "      <th>2</th>\n",
              "      <td>3</td>\n",
              "      <td>2021-06-10</td>\n",
              "      <td>1.0</td>\n",
              "      <td>5</td>\n",
              "      <td>T</td>\n",
              "      <td>Amisha</td>\n",
              "    </tr>\n",
              "    <tr>\n",
              "      <th>3</th>\n",
              "      <td>4</td>\n",
              "      <td>2021-06-10</td>\n",
              "      <td>1.0</td>\n",
              "      <td>5</td>\n",
              "      <td>F</td>\n",
              "      <td>Amisha</td>\n",
              "    </tr>\n",
              "  </tbody>\n",
              "</table>\n",
              "</div>"
            ],
            "text/plain": [
              "   A          B    C  D  E       F\n",
              "0  1 2021-06-10  1.0  5  T  Amisha\n",
              "1  2 2021-06-10  1.0  5  F  Amisha\n",
              "2  3 2021-06-10  1.0  5  T  Amisha\n",
              "3  4 2021-06-10  1.0  5  F  Amisha"
            ]
          },
          "metadata": {
            "tags": []
          },
          "execution_count": 23
        }
      ]
    },
    {
      "cell_type": "code",
      "metadata": {
        "colab": {
          "base_uri": "https://localhost:8080/"
        },
        "id": "Vk2uAzijUgzM",
        "outputId": "1c7e8fb0-6e6f-48e3-bd73-4fd25270366f"
      },
      "source": [
        "df.index"
      ],
      "execution_count": 24,
      "outputs": [
        {
          "output_type": "execute_result",
          "data": {
            "text/plain": [
              "Int64Index([0, 1, 2, 3], dtype='int64')"
            ]
          },
          "metadata": {
            "tags": []
          },
          "execution_count": 24
        }
      ]
    },
    {
      "cell_type": "code",
      "metadata": {
        "colab": {
          "base_uri": "https://localhost:8080/"
        },
        "id": "9uj7sQqvUkpV",
        "outputId": "6b2c3139-1ffa-490f-9040-febe604fd193"
      },
      "source": [
        "df.to_numpy()"
      ],
      "execution_count": 25,
      "outputs": [
        {
          "output_type": "execute_result",
          "data": {
            "text/plain": [
              "array([[1, Timestamp('2021-06-10 00:00:00'), 1.0, 5, 'T', 'Amisha'],\n",
              "       [2, Timestamp('2021-06-10 00:00:00'), 1.0, 5, 'F', 'Amisha'],\n",
              "       [3, Timestamp('2021-06-10 00:00:00'), 1.0, 5, 'T', 'Amisha'],\n",
              "       [4, Timestamp('2021-06-10 00:00:00'), 1.0, 5, 'F', 'Amisha']],\n",
              "      dtype=object)"
            ]
          },
          "metadata": {
            "tags": []
          },
          "execution_count": 25
        }
      ]
    },
    {
      "cell_type": "code",
      "metadata": {
        "colab": {
          "base_uri": "https://localhost:8080/",
          "height": 287
        },
        "id": "Lw9My2KuUtz1",
        "outputId": "ec31d3ca-6e62-4e2b-844f-ede8f148407d"
      },
      "source": [
        "df.describe()"
      ],
      "execution_count": 26,
      "outputs": [
        {
          "output_type": "execute_result",
          "data": {
            "text/html": [
              "<div>\n",
              "<style scoped>\n",
              "    .dataframe tbody tr th:only-of-type {\n",
              "        vertical-align: middle;\n",
              "    }\n",
              "\n",
              "    .dataframe tbody tr th {\n",
              "        vertical-align: top;\n",
              "    }\n",
              "\n",
              "    .dataframe thead th {\n",
              "        text-align: right;\n",
              "    }\n",
              "</style>\n",
              "<table border=\"1\" class=\"dataframe\">\n",
              "  <thead>\n",
              "    <tr style=\"text-align: right;\">\n",
              "      <th></th>\n",
              "      <th>A</th>\n",
              "      <th>C</th>\n",
              "      <th>D</th>\n",
              "    </tr>\n",
              "  </thead>\n",
              "  <tbody>\n",
              "    <tr>\n",
              "      <th>count</th>\n",
              "      <td>4.000000</td>\n",
              "      <td>4.0</td>\n",
              "      <td>4.0</td>\n",
              "    </tr>\n",
              "    <tr>\n",
              "      <th>mean</th>\n",
              "      <td>2.500000</td>\n",
              "      <td>1.0</td>\n",
              "      <td>5.0</td>\n",
              "    </tr>\n",
              "    <tr>\n",
              "      <th>std</th>\n",
              "      <td>1.290994</td>\n",
              "      <td>0.0</td>\n",
              "      <td>0.0</td>\n",
              "    </tr>\n",
              "    <tr>\n",
              "      <th>min</th>\n",
              "      <td>1.000000</td>\n",
              "      <td>1.0</td>\n",
              "      <td>5.0</td>\n",
              "    </tr>\n",
              "    <tr>\n",
              "      <th>25%</th>\n",
              "      <td>1.750000</td>\n",
              "      <td>1.0</td>\n",
              "      <td>5.0</td>\n",
              "    </tr>\n",
              "    <tr>\n",
              "      <th>50%</th>\n",
              "      <td>2.500000</td>\n",
              "      <td>1.0</td>\n",
              "      <td>5.0</td>\n",
              "    </tr>\n",
              "    <tr>\n",
              "      <th>75%</th>\n",
              "      <td>3.250000</td>\n",
              "      <td>1.0</td>\n",
              "      <td>5.0</td>\n",
              "    </tr>\n",
              "    <tr>\n",
              "      <th>max</th>\n",
              "      <td>4.000000</td>\n",
              "      <td>1.0</td>\n",
              "      <td>5.0</td>\n",
              "    </tr>\n",
              "  </tbody>\n",
              "</table>\n",
              "</div>"
            ],
            "text/plain": [
              "              A    C    D\n",
              "count  4.000000  4.0  4.0\n",
              "mean   2.500000  1.0  5.0\n",
              "std    1.290994  0.0  0.0\n",
              "min    1.000000  1.0  5.0\n",
              "25%    1.750000  1.0  5.0\n",
              "50%    2.500000  1.0  5.0\n",
              "75%    3.250000  1.0  5.0\n",
              "max    4.000000  1.0  5.0"
            ]
          },
          "metadata": {
            "tags": []
          },
          "execution_count": 26
        }
      ]
    },
    {
      "cell_type": "code",
      "metadata": {
        "colab": {
          "base_uri": "https://localhost:8080/",
          "height": 167
        },
        "id": "GSaTwpmnUyIl",
        "outputId": "d7a9c462-43d3-4894-b217-22eed0527ecf"
      },
      "source": [
        "df.sort_index(axis = 1, ascending = False)"
      ],
      "execution_count": 27,
      "outputs": [
        {
          "output_type": "execute_result",
          "data": {
            "text/html": [
              "<div>\n",
              "<style scoped>\n",
              "    .dataframe tbody tr th:only-of-type {\n",
              "        vertical-align: middle;\n",
              "    }\n",
              "\n",
              "    .dataframe tbody tr th {\n",
              "        vertical-align: top;\n",
              "    }\n",
              "\n",
              "    .dataframe thead th {\n",
              "        text-align: right;\n",
              "    }\n",
              "</style>\n",
              "<table border=\"1\" class=\"dataframe\">\n",
              "  <thead>\n",
              "    <tr style=\"text-align: right;\">\n",
              "      <th></th>\n",
              "      <th>F</th>\n",
              "      <th>E</th>\n",
              "      <th>D</th>\n",
              "      <th>C</th>\n",
              "      <th>B</th>\n",
              "      <th>A</th>\n",
              "    </tr>\n",
              "  </thead>\n",
              "  <tbody>\n",
              "    <tr>\n",
              "      <th>0</th>\n",
              "      <td>Amisha</td>\n",
              "      <td>T</td>\n",
              "      <td>5</td>\n",
              "      <td>1.0</td>\n",
              "      <td>2021-06-10</td>\n",
              "      <td>1</td>\n",
              "    </tr>\n",
              "    <tr>\n",
              "      <th>1</th>\n",
              "      <td>Amisha</td>\n",
              "      <td>F</td>\n",
              "      <td>5</td>\n",
              "      <td>1.0</td>\n",
              "      <td>2021-06-10</td>\n",
              "      <td>2</td>\n",
              "    </tr>\n",
              "    <tr>\n",
              "      <th>2</th>\n",
              "      <td>Amisha</td>\n",
              "      <td>T</td>\n",
              "      <td>5</td>\n",
              "      <td>1.0</td>\n",
              "      <td>2021-06-10</td>\n",
              "      <td>3</td>\n",
              "    </tr>\n",
              "    <tr>\n",
              "      <th>3</th>\n",
              "      <td>Amisha</td>\n",
              "      <td>F</td>\n",
              "      <td>5</td>\n",
              "      <td>1.0</td>\n",
              "      <td>2021-06-10</td>\n",
              "      <td>4</td>\n",
              "    </tr>\n",
              "  </tbody>\n",
              "</table>\n",
              "</div>"
            ],
            "text/plain": [
              "        F  E  D    C          B  A\n",
              "0  Amisha  T  5  1.0 2021-06-10  1\n",
              "1  Amisha  F  5  1.0 2021-06-10  2\n",
              "2  Amisha  T  5  1.0 2021-06-10  3\n",
              "3  Amisha  F  5  1.0 2021-06-10  4"
            ]
          },
          "metadata": {
            "tags": []
          },
          "execution_count": 27
        }
      ]
    },
    {
      "cell_type": "code",
      "metadata": {
        "colab": {
          "base_uri": "https://localhost:8080/",
          "height": 167
        },
        "id": "ice2DpPNU53Q",
        "outputId": "46d4c843-eb6f-4ca2-ad37-b0661569f2c5"
      },
      "source": [
        "df.sort_values(by = 'A')"
      ],
      "execution_count": 30,
      "outputs": [
        {
          "output_type": "execute_result",
          "data": {
            "text/html": [
              "<div>\n",
              "<style scoped>\n",
              "    .dataframe tbody tr th:only-of-type {\n",
              "        vertical-align: middle;\n",
              "    }\n",
              "\n",
              "    .dataframe tbody tr th {\n",
              "        vertical-align: top;\n",
              "    }\n",
              "\n",
              "    .dataframe thead th {\n",
              "        text-align: right;\n",
              "    }\n",
              "</style>\n",
              "<table border=\"1\" class=\"dataframe\">\n",
              "  <thead>\n",
              "    <tr style=\"text-align: right;\">\n",
              "      <th></th>\n",
              "      <th>A</th>\n",
              "      <th>B</th>\n",
              "      <th>C</th>\n",
              "      <th>D</th>\n",
              "      <th>E</th>\n",
              "      <th>F</th>\n",
              "    </tr>\n",
              "  </thead>\n",
              "  <tbody>\n",
              "    <tr>\n",
              "      <th>0</th>\n",
              "      <td>1</td>\n",
              "      <td>2021-06-10</td>\n",
              "      <td>1.0</td>\n",
              "      <td>5</td>\n",
              "      <td>T</td>\n",
              "      <td>Amisha</td>\n",
              "    </tr>\n",
              "    <tr>\n",
              "      <th>1</th>\n",
              "      <td>2</td>\n",
              "      <td>2021-06-10</td>\n",
              "      <td>1.0</td>\n",
              "      <td>5</td>\n",
              "      <td>F</td>\n",
              "      <td>Amisha</td>\n",
              "    </tr>\n",
              "    <tr>\n",
              "      <th>2</th>\n",
              "      <td>3</td>\n",
              "      <td>2021-06-10</td>\n",
              "      <td>1.0</td>\n",
              "      <td>5</td>\n",
              "      <td>T</td>\n",
              "      <td>Amisha</td>\n",
              "    </tr>\n",
              "    <tr>\n",
              "      <th>3</th>\n",
              "      <td>4</td>\n",
              "      <td>2021-06-10</td>\n",
              "      <td>1.0</td>\n",
              "      <td>5</td>\n",
              "      <td>F</td>\n",
              "      <td>Amisha</td>\n",
              "    </tr>\n",
              "  </tbody>\n",
              "</table>\n",
              "</div>"
            ],
            "text/plain": [
              "   A          B    C  D  E       F\n",
              "0  1 2021-06-10  1.0  5  T  Amisha\n",
              "1  2 2021-06-10  1.0  5  F  Amisha\n",
              "2  3 2021-06-10  1.0  5  T  Amisha\n",
              "3  4 2021-06-10  1.0  5  F  Amisha"
            ]
          },
          "metadata": {
            "tags": []
          },
          "execution_count": 30
        }
      ]
    }
  ]
}