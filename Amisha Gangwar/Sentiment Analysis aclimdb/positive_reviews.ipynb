{
  "nbformat": 4,
  "nbformat_minor": 0,
  "metadata": {
    "colab": {
      "name": "positive_reviews.ipynb",
      "provenance": [],
      "collapsed_sections": []
    },
    "kernelspec": {
      "name": "python3",
      "display_name": "Python 3"
    },
    "language_info": {
      "name": "python"
    }
  },
  "cells": [
    {
      "cell_type": "code",
      "metadata": {
        "id": "g6lNaP0q2sdz"
      },
      "source": [
        "import pandas as pd\n",
        "import numpy as np\n",
        "import matplotlib.pyplot as plt\n",
        "import tensorflow as tf\n",
        "import os"
      ],
      "execution_count": null,
      "outputs": []
    },
    {
      "cell_type": "code",
      "metadata": {
        "id": "OiiQpZaY2xh8"
      },
      "source": [
        "from os import walk\n",
        "mypath = '/content/drive/MyDrive/data/pos'\n",
        "filenames = next(walk(mypath), (None, None, []))[2]"
      ],
      "execution_count": null,
      "outputs": []
    },
    {
      "cell_type": "code",
      "metadata": {
        "id": "c_8P4SaN275O"
      },
      "source": [
        "fnames = filenames"
      ],
      "execution_count": null,
      "outputs": []
    },
    {
      "cell_type": "code",
      "metadata": {
        "id": "0MQ3PEzN4pDJ"
      },
      "source": [
        "def partition(file):\n",
        "  f2 = file.partition('.')\n",
        "  f3 = f2[0]\n",
        "  return f3\n",
        "\n",
        "def partition_0(file):\n",
        "  f4 = file.partition('_')\n",
        "  f5 = f4[0]\n",
        "  return f5\n",
        "\n",
        "\n",
        "def partition_2(file):\n",
        "  f4 = file.partition('_')\n",
        "  f5 = f4[2]\n",
        "  return f5    "
      ],
      "execution_count": null,
      "outputs": []
    },
    {
      "cell_type": "code",
      "metadata": {
        "colab": {
          "base_uri": "https://localhost:8080/",
          "height": 35
        },
        "id": "vqVsW06Vrkcs",
        "outputId": "62e5abb8-2b09-4f32-d4f0-cfa260293571"
      },
      "source": [
        "partition_2(filenames[5])"
      ],
      "execution_count": null,
      "outputs": [
        {
          "output_type": "execute_result",
          "data": {
            "application/vnd.google.colaboratory.intrinsic+json": {
              "type": "string"
            },
            "text/plain": [
              "'7.txt'"
            ]
          },
          "metadata": {
            "tags": []
          },
          "execution_count": 7
        }
      ]
    },
    {
      "cell_type": "code",
      "metadata": {
        "id": "hlmNKhty41i1"
      },
      "source": [
        "for i in range(len(filenames)):\n",
        "  name = filenames\n",
        "  z = filenames[i]\n",
        "  name[i] = partition(z)"
      ],
      "execution_count": null,
      "outputs": []
    },
    {
      "cell_type": "code",
      "metadata": {
        "colab": {
          "base_uri": "https://localhost:8080/",
          "height": 414
        },
        "id": "oRekOVeQ483t",
        "outputId": "9be14df6-709d-4037-e773-41f3d10a01a6"
      },
      "source": [
        "for i in range(len(name)):\n",
        "  rating = name\n",
        "  z = name[i]\n",
        "  rating[i] = partition_2(z)\n",
        "\n",
        "\n",
        "ratings = pd.DataFrame(rating)\n",
        "\n",
        "ratings"
      ],
      "execution_count": null,
      "outputs": [
        {
          "output_type": "execute_result",
          "data": {
            "text/html": [
              "<div>\n",
              "<style scoped>\n",
              "    .dataframe tbody tr th:only-of-type {\n",
              "        vertical-align: middle;\n",
              "    }\n",
              "\n",
              "    .dataframe tbody tr th {\n",
              "        vertical-align: top;\n",
              "    }\n",
              "\n",
              "    .dataframe thead th {\n",
              "        text-align: right;\n",
              "    }\n",
              "</style>\n",
              "<table border=\"1\" class=\"dataframe\">\n",
              "  <thead>\n",
              "    <tr style=\"text-align: right;\">\n",
              "      <th></th>\n",
              "      <th>0</th>\n",
              "    </tr>\n",
              "  </thead>\n",
              "  <tbody>\n",
              "    <tr>\n",
              "      <th>0</th>\n",
              "      <td>10</td>\n",
              "    </tr>\n",
              "    <tr>\n",
              "      <th>1</th>\n",
              "      <td>10</td>\n",
              "    </tr>\n",
              "    <tr>\n",
              "      <th>2</th>\n",
              "      <td>10</td>\n",
              "    </tr>\n",
              "    <tr>\n",
              "      <th>3</th>\n",
              "      <td>7</td>\n",
              "    </tr>\n",
              "    <tr>\n",
              "      <th>4</th>\n",
              "      <td>8</td>\n",
              "    </tr>\n",
              "    <tr>\n",
              "      <th>...</th>\n",
              "      <td>...</td>\n",
              "    </tr>\n",
              "    <tr>\n",
              "      <th>12515</th>\n",
              "      <td>7</td>\n",
              "    </tr>\n",
              "    <tr>\n",
              "      <th>12516</th>\n",
              "      <td>9</td>\n",
              "    </tr>\n",
              "    <tr>\n",
              "      <th>12517</th>\n",
              "      <td>7</td>\n",
              "    </tr>\n",
              "    <tr>\n",
              "      <th>12518</th>\n",
              "      <td>7</td>\n",
              "    </tr>\n",
              "    <tr>\n",
              "      <th>12519</th>\n",
              "      <td>10</td>\n",
              "    </tr>\n",
              "  </tbody>\n",
              "</table>\n",
              "<p>12520 rows × 1 columns</p>\n",
              "</div>"
            ],
            "text/plain": [
              "        0\n",
              "0      10\n",
              "1      10\n",
              "2      10\n",
              "3       7\n",
              "4       8\n",
              "...    ..\n",
              "12515   7\n",
              "12516   9\n",
              "12517   7\n",
              "12518   7\n",
              "12519  10\n",
              "\n",
              "[12520 rows x 1 columns]"
            ]
          },
          "metadata": {
            "tags": []
          },
          "execution_count": 12
        }
      ]
    },
    {
      "cell_type": "code",
      "metadata": {
        "colab": {
          "base_uri": "https://localhost:8080/",
          "height": 414
        },
        "id": "fc9hHkq55IRI",
        "outputId": "fde3827a-5ffc-4ec5-aa95-8934aed711ac"
      },
      "source": [
        "for i in range(len(fnames)):\n",
        "  index = fnames\n",
        "  z = fnames[i]\n",
        "  index[i] = partition_0(z)\n",
        "\n",
        "index = pd.DataFrame(index)\n",
        "index"
      ],
      "execution_count": null,
      "outputs": [
        {
          "output_type": "execute_result",
          "data": {
            "text/html": [
              "<div>\n",
              "<style scoped>\n",
              "    .dataframe tbody tr th:only-of-type {\n",
              "        vertical-align: middle;\n",
              "    }\n",
              "\n",
              "    .dataframe tbody tr th {\n",
              "        vertical-align: top;\n",
              "    }\n",
              "\n",
              "    .dataframe thead th {\n",
              "        text-align: right;\n",
              "    }\n",
              "</style>\n",
              "<table border=\"1\" class=\"dataframe\">\n",
              "  <thead>\n",
              "    <tr style=\"text-align: right;\">\n",
              "      <th></th>\n",
              "      <th>0</th>\n",
              "    </tr>\n",
              "  </thead>\n",
              "  <tbody>\n",
              "    <tr>\n",
              "      <th>0</th>\n",
              "      <td>11449</td>\n",
              "    </tr>\n",
              "    <tr>\n",
              "      <th>1</th>\n",
              "      <td>11697</td>\n",
              "    </tr>\n",
              "    <tr>\n",
              "      <th>2</th>\n",
              "      <td>11580</td>\n",
              "    </tr>\n",
              "    <tr>\n",
              "      <th>3</th>\n",
              "      <td>11384</td>\n",
              "    </tr>\n",
              "    <tr>\n",
              "      <th>4</th>\n",
              "      <td>11816</td>\n",
              "    </tr>\n",
              "    <tr>\n",
              "      <th>...</th>\n",
              "      <td>...</td>\n",
              "    </tr>\n",
              "    <tr>\n",
              "      <th>12515</th>\n",
              "      <td>991</td>\n",
              "    </tr>\n",
              "    <tr>\n",
              "      <th>12516</th>\n",
              "      <td>573</td>\n",
              "    </tr>\n",
              "    <tr>\n",
              "      <th>12517</th>\n",
              "      <td>428</td>\n",
              "    </tr>\n",
              "    <tr>\n",
              "      <th>12518</th>\n",
              "      <td>752</td>\n",
              "    </tr>\n",
              "    <tr>\n",
              "      <th>12519</th>\n",
              "      <td>957</td>\n",
              "    </tr>\n",
              "  </tbody>\n",
              "</table>\n",
              "<p>12520 rows × 1 columns</p>\n",
              "</div>"
            ],
            "text/plain": [
              "           0\n",
              "0      11449\n",
              "1      11697\n",
              "2      11580\n",
              "3      11384\n",
              "4      11816\n",
              "...      ...\n",
              "12515    991\n",
              "12516    573\n",
              "12517    428\n",
              "12518    752\n",
              "12519    957\n",
              "\n",
              "[12520 rows x 1 columns]"
            ]
          },
          "metadata": {
            "tags": []
          },
          "execution_count": 18
        }
      ]
    },
    {
      "cell_type": "code",
      "metadata": {
        "id": "sfhVUvLH5nrF"
      },
      "source": [
        "df = pd.concat([index, ratings], axis=1)"
      ],
      "execution_count": null,
      "outputs": []
    },
    {
      "cell_type": "code",
      "metadata": {
        "colab": {
          "base_uri": "https://localhost:8080/",
          "height": 414
        },
        "id": "BUuZeCi357Jp",
        "outputId": "935598df-016b-41f6-e153-5cf887321d27"
      },
      "source": [
        "col = ['Index', 'Rating']\n",
        "df.columns = col\n",
        "df['Index2'] = index\n",
        "df['Index2'] = 'Positive'\n",
        "df"
      ],
      "execution_count": null,
      "outputs": [
        {
          "output_type": "execute_result",
          "data": {
            "text/html": [
              "<div>\n",
              "<style scoped>\n",
              "    .dataframe tbody tr th:only-of-type {\n",
              "        vertical-align: middle;\n",
              "    }\n",
              "\n",
              "    .dataframe tbody tr th {\n",
              "        vertical-align: top;\n",
              "    }\n",
              "\n",
              "    .dataframe thead th {\n",
              "        text-align: right;\n",
              "    }\n",
              "</style>\n",
              "<table border=\"1\" class=\"dataframe\">\n",
              "  <thead>\n",
              "    <tr style=\"text-align: right;\">\n",
              "      <th></th>\n",
              "      <th>Index</th>\n",
              "      <th>Rating</th>\n",
              "      <th>Index2</th>\n",
              "    </tr>\n",
              "  </thead>\n",
              "  <tbody>\n",
              "    <tr>\n",
              "      <th>0</th>\n",
              "      <td>11449</td>\n",
              "      <td>10</td>\n",
              "      <td>Positive</td>\n",
              "    </tr>\n",
              "    <tr>\n",
              "      <th>1</th>\n",
              "      <td>11697</td>\n",
              "      <td>10</td>\n",
              "      <td>Positive</td>\n",
              "    </tr>\n",
              "    <tr>\n",
              "      <th>2</th>\n",
              "      <td>11580</td>\n",
              "      <td>10</td>\n",
              "      <td>Positive</td>\n",
              "    </tr>\n",
              "    <tr>\n",
              "      <th>3</th>\n",
              "      <td>11384</td>\n",
              "      <td>7</td>\n",
              "      <td>Positive</td>\n",
              "    </tr>\n",
              "    <tr>\n",
              "      <th>4</th>\n",
              "      <td>11816</td>\n",
              "      <td>8</td>\n",
              "      <td>Positive</td>\n",
              "    </tr>\n",
              "    <tr>\n",
              "      <th>...</th>\n",
              "      <td>...</td>\n",
              "      <td>...</td>\n",
              "      <td>...</td>\n",
              "    </tr>\n",
              "    <tr>\n",
              "      <th>12515</th>\n",
              "      <td>991</td>\n",
              "      <td>7</td>\n",
              "      <td>Positive</td>\n",
              "    </tr>\n",
              "    <tr>\n",
              "      <th>12516</th>\n",
              "      <td>573</td>\n",
              "      <td>9</td>\n",
              "      <td>Positive</td>\n",
              "    </tr>\n",
              "    <tr>\n",
              "      <th>12517</th>\n",
              "      <td>428</td>\n",
              "      <td>7</td>\n",
              "      <td>Positive</td>\n",
              "    </tr>\n",
              "    <tr>\n",
              "      <th>12518</th>\n",
              "      <td>752</td>\n",
              "      <td>7</td>\n",
              "      <td>Positive</td>\n",
              "    </tr>\n",
              "    <tr>\n",
              "      <th>12519</th>\n",
              "      <td>957</td>\n",
              "      <td>10</td>\n",
              "      <td>Positive</td>\n",
              "    </tr>\n",
              "  </tbody>\n",
              "</table>\n",
              "<p>12520 rows × 3 columns</p>\n",
              "</div>"
            ],
            "text/plain": [
              "       Index Rating    Index2\n",
              "0      11449     10  Positive\n",
              "1      11697     10  Positive\n",
              "2      11580     10  Positive\n",
              "3      11384      7  Positive\n",
              "4      11816      8  Positive\n",
              "...      ...    ...       ...\n",
              "12515    991      7  Positive\n",
              "12516    573      9  Positive\n",
              "12517    428      7  Positive\n",
              "12518    752      7  Positive\n",
              "12519    957     10  Positive\n",
              "\n",
              "[12520 rows x 3 columns]"
            ]
          },
          "metadata": {
            "tags": []
          },
          "execution_count": 20
        }
      ]
    },
    {
      "cell_type": "code",
      "metadata": {
        "colab": {
          "base_uri": "https://localhost:8080/",
          "height": 414
        },
        "id": "HFaZEUkJ6GKA",
        "outputId": "cc5fbb1e-08f8-4e50-b434-cd11ee1ede15"
      },
      "source": [
        "df.rename(columns={'Index2':'Label'})"
      ],
      "execution_count": null,
      "outputs": [
        {
          "output_type": "execute_result",
          "data": {
            "text/html": [
              "<div>\n",
              "<style scoped>\n",
              "    .dataframe tbody tr th:only-of-type {\n",
              "        vertical-align: middle;\n",
              "    }\n",
              "\n",
              "    .dataframe tbody tr th {\n",
              "        vertical-align: top;\n",
              "    }\n",
              "\n",
              "    .dataframe thead th {\n",
              "        text-align: right;\n",
              "    }\n",
              "</style>\n",
              "<table border=\"1\" class=\"dataframe\">\n",
              "  <thead>\n",
              "    <tr style=\"text-align: right;\">\n",
              "      <th></th>\n",
              "      <th>Index</th>\n",
              "      <th>Rating</th>\n",
              "      <th>Label</th>\n",
              "    </tr>\n",
              "  </thead>\n",
              "  <tbody>\n",
              "    <tr>\n",
              "      <th>0</th>\n",
              "      <td>11449</td>\n",
              "      <td>10</td>\n",
              "      <td>Positive</td>\n",
              "    </tr>\n",
              "    <tr>\n",
              "      <th>1</th>\n",
              "      <td>11697</td>\n",
              "      <td>10</td>\n",
              "      <td>Positive</td>\n",
              "    </tr>\n",
              "    <tr>\n",
              "      <th>2</th>\n",
              "      <td>11580</td>\n",
              "      <td>10</td>\n",
              "      <td>Positive</td>\n",
              "    </tr>\n",
              "    <tr>\n",
              "      <th>3</th>\n",
              "      <td>11384</td>\n",
              "      <td>7</td>\n",
              "      <td>Positive</td>\n",
              "    </tr>\n",
              "    <tr>\n",
              "      <th>4</th>\n",
              "      <td>11816</td>\n",
              "      <td>8</td>\n",
              "      <td>Positive</td>\n",
              "    </tr>\n",
              "    <tr>\n",
              "      <th>...</th>\n",
              "      <td>...</td>\n",
              "      <td>...</td>\n",
              "      <td>...</td>\n",
              "    </tr>\n",
              "    <tr>\n",
              "      <th>12515</th>\n",
              "      <td>991</td>\n",
              "      <td>7</td>\n",
              "      <td>Positive</td>\n",
              "    </tr>\n",
              "    <tr>\n",
              "      <th>12516</th>\n",
              "      <td>573</td>\n",
              "      <td>9</td>\n",
              "      <td>Positive</td>\n",
              "    </tr>\n",
              "    <tr>\n",
              "      <th>12517</th>\n",
              "      <td>428</td>\n",
              "      <td>7</td>\n",
              "      <td>Positive</td>\n",
              "    </tr>\n",
              "    <tr>\n",
              "      <th>12518</th>\n",
              "      <td>752</td>\n",
              "      <td>7</td>\n",
              "      <td>Positive</td>\n",
              "    </tr>\n",
              "    <tr>\n",
              "      <th>12519</th>\n",
              "      <td>957</td>\n",
              "      <td>10</td>\n",
              "      <td>Positive</td>\n",
              "    </tr>\n",
              "  </tbody>\n",
              "</table>\n",
              "<p>12520 rows × 3 columns</p>\n",
              "</div>"
            ],
            "text/plain": [
              "       Index Rating     Label\n",
              "0      11449     10  Positive\n",
              "1      11697     10  Positive\n",
              "2      11580     10  Positive\n",
              "3      11384      7  Positive\n",
              "4      11816      8  Positive\n",
              "...      ...    ...       ...\n",
              "12515    991      7  Positive\n",
              "12516    573      9  Positive\n",
              "12517    428      7  Positive\n",
              "12518    752      7  Positive\n",
              "12519    957     10  Positive\n",
              "\n",
              "[12520 rows x 3 columns]"
            ]
          },
          "metadata": {
            "tags": []
          },
          "execution_count": 21
        }
      ]
    },
    {
      "cell_type": "code",
      "metadata": {
        "id": "TVBsVofC6LJI"
      },
      "source": [
        "txt = os.listdir(mypath)"
      ],
      "execution_count": null,
      "outputs": []
    },
    {
      "cell_type": "code",
      "metadata": {
        "id": "RkSoPFGE6P9B"
      },
      "source": [
        "text = txt\n",
        "for i in range(len(txt)):\n",
        "  with open(f\"{mypath}/{txt[i]}\",'r') as file:\n",
        "    text[i] = file.read().rstrip('\\n')"
      ],
      "execution_count": null,
      "outputs": []
    },
    {
      "cell_type": "code",
      "metadata": {
        "colab": {
          "base_uri": "https://localhost:8080/",
          "height": 106
        },
        "id": "SFvK7Y_B6RLO",
        "outputId": "71a670bc-0cd2-4ae8-9bb0-533e219229eb"
      },
      "source": [
        "text[5]"
      ],
      "execution_count": null,
      "outputs": [
        {
          "output_type": "execute_result",
          "data": {
            "application/vnd.google.colaboratory.intrinsic+json": {
              "type": "string"
            },
            "text/plain": [
              "'Although the word megalmania is used a lot to describe Gene Kelly, and sometimes his dancing is way too stiff, you have to admit the guy knows how to put on a show. In American In Paris, he choreographs some outstanding numbers, some which stall the plot, but are nonetheless amazing to look at. (Check out Gene Kelly\\'s \"Getting Out Of Bed Routine\" for starters)<br /><br />Gene Kelly stars as a GI who is based out of Paris, he stayed there to paint, soon he is a rich woman\\'s gigolo, but he really LOVES SOMEONE ELSE! Hoary story sure, but the musical numbers save the show here! I really loved Georges Gu¨¦tary\\'s voice work in this one. His \\'Stairway to Paradise\\' and his duet with Le Gene on \\'S Wonderful\\' is \\'s marvelous\\'. Oscar Levant and Leslie Caron I can take or leave. All in all, a pretty good, but not dynamite movie.'"
            ]
          },
          "metadata": {
            "tags": []
          },
          "execution_count": 31
        }
      ]
    },
    {
      "cell_type": "code",
      "metadata": {
        "id": "STMQ58JHMEND"
      },
      "source": [
        "reviews = pd.DataFrame(text)"
      ],
      "execution_count": null,
      "outputs": []
    },
    {
      "cell_type": "code",
      "metadata": {
        "colab": {
          "base_uri": "https://localhost:8080/",
          "height": 414
        },
        "id": "qXk94qC8MOY_",
        "outputId": "f36f96ab-f121-49d1-e843-fb18767bc8af"
      },
      "source": [
        "reviews"
      ],
      "execution_count": null,
      "outputs": [
        {
          "output_type": "execute_result",
          "data": {
            "text/html": [
              "<div>\n",
              "<style scoped>\n",
              "    .dataframe tbody tr th:only-of-type {\n",
              "        vertical-align: middle;\n",
              "    }\n",
              "\n",
              "    .dataframe tbody tr th {\n",
              "        vertical-align: top;\n",
              "    }\n",
              "\n",
              "    .dataframe thead th {\n",
              "        text-align: right;\n",
              "    }\n",
              "</style>\n",
              "<table border=\"1\" class=\"dataframe\">\n",
              "  <thead>\n",
              "    <tr style=\"text-align: right;\">\n",
              "      <th></th>\n",
              "      <th>0</th>\n",
              "    </tr>\n",
              "  </thead>\n",
              "  <tbody>\n",
              "    <tr>\n",
              "      <th>0</th>\n",
              "      <td>this has by far been one of the most beautiful...</td>\n",
              "    </tr>\n",
              "    <tr>\n",
              "      <th>1</th>\n",
              "      <td>This Film was really eye-opening. I have seen ...</td>\n",
              "    </tr>\n",
              "    <tr>\n",
              "      <th>2</th>\n",
              "      <td>As a another reviewer states Hanna's War is an...</td>\n",
              "    </tr>\n",
              "    <tr>\n",
              "      <th>3</th>\n",
              "      <td>The dazzling seventeen-minute dance sequence o...</td>\n",
              "    </tr>\n",
              "    <tr>\n",
              "      <th>4</th>\n",
              "      <td>That was great fun! I never read those Chester...</td>\n",
              "    </tr>\n",
              "    <tr>\n",
              "      <th>...</th>\n",
              "      <td>...</td>\n",
              "    </tr>\n",
              "    <tr>\n",
              "      <th>12515</th>\n",
              "      <td>I really am shocked to see the number of revie...</td>\n",
              "    </tr>\n",
              "    <tr>\n",
              "      <th>12516</th>\n",
              "      <td>I've always enjoyed films that depict life as ...</td>\n",
              "    </tr>\n",
              "    <tr>\n",
              "      <th>12517</th>\n",
              "      <td>Two women, sick of their controlling husbands,...</td>\n",
              "    </tr>\n",
              "    <tr>\n",
              "      <th>12518</th>\n",
              "      <td>Four teenage girls in a suburb of Los Angeles ...</td>\n",
              "    </tr>\n",
              "    <tr>\n",
              "      <th>12519</th>\n",
              "      <td>i would never have thought that it would be po...</td>\n",
              "    </tr>\n",
              "  </tbody>\n",
              "</table>\n",
              "<p>12520 rows × 1 columns</p>\n",
              "</div>"
            ],
            "text/plain": [
              "                                                       0\n",
              "0      this has by far been one of the most beautiful...\n",
              "1      This Film was really eye-opening. I have seen ...\n",
              "2      As a another reviewer states Hanna's War is an...\n",
              "3      The dazzling seventeen-minute dance sequence o...\n",
              "4      That was great fun! I never read those Chester...\n",
              "...                                                  ...\n",
              "12515  I really am shocked to see the number of revie...\n",
              "12516  I've always enjoyed films that depict life as ...\n",
              "12517  Two women, sick of their controlling husbands,...\n",
              "12518  Four teenage girls in a suburb of Los Angeles ...\n",
              "12519  i would never have thought that it would be po...\n",
              "\n",
              "[12520 rows x 1 columns]"
            ]
          },
          "metadata": {
            "tags": []
          },
          "execution_count": 33
        }
      ]
    },
    {
      "cell_type": "code",
      "metadata": {
        "id": "k9IrE040MP3y"
      },
      "source": [
        "df_pos = pd.concat([df, reviews], axis=1)"
      ],
      "execution_count": null,
      "outputs": []
    },
    {
      "cell_type": "code",
      "metadata": {
        "colab": {
          "base_uri": "https://localhost:8080/",
          "height": 414
        },
        "id": "myu5_v0LMWYH",
        "outputId": "ea832d0b-6750-47a5-d56f-2127f3a8937c"
      },
      "source": [
        "df_pos"
      ],
      "execution_count": null,
      "outputs": [
        {
          "output_type": "execute_result",
          "data": {
            "text/html": [
              "<div>\n",
              "<style scoped>\n",
              "    .dataframe tbody tr th:only-of-type {\n",
              "        vertical-align: middle;\n",
              "    }\n",
              "\n",
              "    .dataframe tbody tr th {\n",
              "        vertical-align: top;\n",
              "    }\n",
              "\n",
              "    .dataframe thead th {\n",
              "        text-align: right;\n",
              "    }\n",
              "</style>\n",
              "<table border=\"1\" class=\"dataframe\">\n",
              "  <thead>\n",
              "    <tr style=\"text-align: right;\">\n",
              "      <th></th>\n",
              "      <th>Index</th>\n",
              "      <th>Rating</th>\n",
              "      <th>Index2</th>\n",
              "      <th>0</th>\n",
              "    </tr>\n",
              "  </thead>\n",
              "  <tbody>\n",
              "    <tr>\n",
              "      <th>0</th>\n",
              "      <td>11449</td>\n",
              "      <td>10</td>\n",
              "      <td>Positive</td>\n",
              "      <td>this has by far been one of the most beautiful...</td>\n",
              "    </tr>\n",
              "    <tr>\n",
              "      <th>1</th>\n",
              "      <td>11697</td>\n",
              "      <td>10</td>\n",
              "      <td>Positive</td>\n",
              "      <td>This Film was really eye-opening. I have seen ...</td>\n",
              "    </tr>\n",
              "    <tr>\n",
              "      <th>2</th>\n",
              "      <td>11580</td>\n",
              "      <td>10</td>\n",
              "      <td>Positive</td>\n",
              "      <td>As a another reviewer states Hanna's War is an...</td>\n",
              "    </tr>\n",
              "    <tr>\n",
              "      <th>3</th>\n",
              "      <td>11384</td>\n",
              "      <td>7</td>\n",
              "      <td>Positive</td>\n",
              "      <td>The dazzling seventeen-minute dance sequence o...</td>\n",
              "    </tr>\n",
              "    <tr>\n",
              "      <th>4</th>\n",
              "      <td>11816</td>\n",
              "      <td>8</td>\n",
              "      <td>Positive</td>\n",
              "      <td>That was great fun! I never read those Chester...</td>\n",
              "    </tr>\n",
              "    <tr>\n",
              "      <th>...</th>\n",
              "      <td>...</td>\n",
              "      <td>...</td>\n",
              "      <td>...</td>\n",
              "      <td>...</td>\n",
              "    </tr>\n",
              "    <tr>\n",
              "      <th>12515</th>\n",
              "      <td>991</td>\n",
              "      <td>7</td>\n",
              "      <td>Positive</td>\n",
              "      <td>I really am shocked to see the number of revie...</td>\n",
              "    </tr>\n",
              "    <tr>\n",
              "      <th>12516</th>\n",
              "      <td>573</td>\n",
              "      <td>9</td>\n",
              "      <td>Positive</td>\n",
              "      <td>I've always enjoyed films that depict life as ...</td>\n",
              "    </tr>\n",
              "    <tr>\n",
              "      <th>12517</th>\n",
              "      <td>428</td>\n",
              "      <td>7</td>\n",
              "      <td>Positive</td>\n",
              "      <td>Two women, sick of their controlling husbands,...</td>\n",
              "    </tr>\n",
              "    <tr>\n",
              "      <th>12518</th>\n",
              "      <td>752</td>\n",
              "      <td>7</td>\n",
              "      <td>Positive</td>\n",
              "      <td>Four teenage girls in a suburb of Los Angeles ...</td>\n",
              "    </tr>\n",
              "    <tr>\n",
              "      <th>12519</th>\n",
              "      <td>957</td>\n",
              "      <td>10</td>\n",
              "      <td>Positive</td>\n",
              "      <td>i would never have thought that it would be po...</td>\n",
              "    </tr>\n",
              "  </tbody>\n",
              "</table>\n",
              "<p>12520 rows × 4 columns</p>\n",
              "</div>"
            ],
            "text/plain": [
              "       Index  ...                                                  0\n",
              "0      11449  ...  this has by far been one of the most beautiful...\n",
              "1      11697  ...  This Film was really eye-opening. I have seen ...\n",
              "2      11580  ...  As a another reviewer states Hanna's War is an...\n",
              "3      11384  ...  The dazzling seventeen-minute dance sequence o...\n",
              "4      11816  ...  That was great fun! I never read those Chester...\n",
              "...      ...  ...                                                ...\n",
              "12515    991  ...  I really am shocked to see the number of revie...\n",
              "12516    573  ...  I've always enjoyed films that depict life as ...\n",
              "12517    428  ...  Two women, sick of their controlling husbands,...\n",
              "12518    752  ...  Four teenage girls in a suburb of Los Angeles ...\n",
              "12519    957  ...  i would never have thought that it would be po...\n",
              "\n",
              "[12520 rows x 4 columns]"
            ]
          },
          "metadata": {
            "tags": []
          },
          "execution_count": 35
        }
      ]
    },
    {
      "cell_type": "code",
      "metadata": {
        "id": "UUvGdq5-MXob"
      },
      "source": [
        "df_pos.to_csv('positive_reviews.csv')\n",
        "!cp positive_reviews.csv \"/content/drive/MyDrive/data/pos\""
      ],
      "execution_count": null,
      "outputs": []
    },
    {
      "cell_type": "code",
      "metadata": {
        "colab": {
          "base_uri": "https://localhost:8080/"
        },
        "id": "M_ChmOIqMiWE",
        "outputId": "2f643365-2ee5-438f-f01f-2279c13aabba"
      },
      "source": [
        "df_pos.info()"
      ],
      "execution_count": null,
      "outputs": [
        {
          "output_type": "stream",
          "text": [
            "<class 'pandas.core.frame.DataFrame'>\n",
            "RangeIndex: 12520 entries, 0 to 12519\n",
            "Data columns (total 4 columns):\n",
            " #   Column  Non-Null Count  Dtype \n",
            "---  ------  --------------  ----- \n",
            " 0   Index   12520 non-null  object\n",
            " 1   Rating  12520 non-null  object\n",
            " 2   Index2  12520 non-null  object\n",
            " 3   0       12520 non-null  object\n",
            "dtypes: object(4)\n",
            "memory usage: 391.4+ KB\n"
          ],
          "name": "stdout"
        }
      ]
    },
    {
      "cell_type": "code",
      "metadata": {
        "id": "hSLYeeBZNZeR"
      },
      "source": [
        "df_pos['Index'] = pd.to_numeric(df_pos['Index'])"
      ],
      "execution_count": null,
      "outputs": []
    },
    {
      "cell_type": "code",
      "metadata": {
        "colab": {
          "base_uri": "https://localhost:8080/",
          "height": 452
        },
        "id": "mMp-SQmLNiEe",
        "outputId": "df6b3175-f95e-4ae0-af4f-4b1b863e7ce5"
      },
      "source": [
        "df_pos['Rating'] = pd.to_numeric(df_pos['Rating'])"
      ],
      "execution_count": null,
      "outputs": [
        {
          "output_type": "error",
          "ename": "ValueError",
          "evalue": "ignored",
          "traceback": [
            "\u001b[0;31m---------------------------------------------------------------------------\u001b[0m",
            "\u001b[0;31mValueError\u001b[0m                                Traceback (most recent call last)",
            "\u001b[0;32mpandas/_libs/lib.pyx\u001b[0m in \u001b[0;36mpandas._libs.lib.maybe_convert_numeric\u001b[0;34m()\u001b[0m\n",
            "\u001b[0;31mValueError\u001b[0m: Unable to parse string \"10 (1)\"",
            "\nDuring handling of the above exception, another exception occurred:\n",
            "\u001b[0;31mValueError\u001b[0m                                Traceback (most recent call last)",
            "\u001b[0;32m<ipython-input-40-e96727e4ad50>\u001b[0m in \u001b[0;36m<module>\u001b[0;34m()\u001b[0m\n\u001b[0;32m----> 1\u001b[0;31m \u001b[0mdf_pos\u001b[0m\u001b[0;34m[\u001b[0m\u001b[0;34m'Rating'\u001b[0m\u001b[0;34m]\u001b[0m \u001b[0;34m=\u001b[0m \u001b[0mpd\u001b[0m\u001b[0;34m.\u001b[0m\u001b[0mto_numeric\u001b[0m\u001b[0;34m(\u001b[0m\u001b[0mdf_pos\u001b[0m\u001b[0;34m[\u001b[0m\u001b[0;34m'Rating'\u001b[0m\u001b[0;34m]\u001b[0m\u001b[0;34m)\u001b[0m\u001b[0;34m\u001b[0m\u001b[0;34m\u001b[0m\u001b[0m\n\u001b[0m",
            "\u001b[0;32m/usr/local/lib/python3.7/dist-packages/pandas/core/tools/numeric.py\u001b[0m in \u001b[0;36mto_numeric\u001b[0;34m(arg, errors, downcast)\u001b[0m\n\u001b[1;32m    151\u001b[0m         \u001b[0;32mtry\u001b[0m\u001b[0;34m:\u001b[0m\u001b[0;34m\u001b[0m\u001b[0;34m\u001b[0m\u001b[0m\n\u001b[1;32m    152\u001b[0m             values = lib.maybe_convert_numeric(\n\u001b[0;32m--> 153\u001b[0;31m                 \u001b[0mvalues\u001b[0m\u001b[0;34m,\u001b[0m \u001b[0mset\u001b[0m\u001b[0;34m(\u001b[0m\u001b[0;34m)\u001b[0m\u001b[0;34m,\u001b[0m \u001b[0mcoerce_numeric\u001b[0m\u001b[0;34m=\u001b[0m\u001b[0mcoerce_numeric\u001b[0m\u001b[0;34m\u001b[0m\u001b[0;34m\u001b[0m\u001b[0m\n\u001b[0m\u001b[1;32m    154\u001b[0m             )\n\u001b[1;32m    155\u001b[0m         \u001b[0;32mexcept\u001b[0m \u001b[0;34m(\u001b[0m\u001b[0mValueError\u001b[0m\u001b[0;34m,\u001b[0m \u001b[0mTypeError\u001b[0m\u001b[0;34m)\u001b[0m\u001b[0;34m:\u001b[0m\u001b[0;34m\u001b[0m\u001b[0;34m\u001b[0m\u001b[0m\n",
            "\u001b[0;32mpandas/_libs/lib.pyx\u001b[0m in \u001b[0;36mpandas._libs.lib.maybe_convert_numeric\u001b[0;34m()\u001b[0m\n",
            "\u001b[0;31mValueError\u001b[0m: Unable to parse string \"10 (1)\" at position 8176"
          ]
        }
      ]
    },
    {
      "cell_type": "code",
      "metadata": {
        "colab": {
          "base_uri": "https://localhost:8080/"
        },
        "id": "3KYKfrGbNn7f",
        "outputId": "a44825da-1cca-44ac-8ce9-9b93f2856885"
      },
      "source": [
        "df_pos['Rating'].unique()"
      ],
      "execution_count": null,
      "outputs": [
        {
          "output_type": "execute_result",
          "data": {
            "text/plain": [
              "array(['10', '7', '8', '9', '10 (1)', '9 (1)', '8 (1)'], dtype=object)"
            ]
          },
          "metadata": {
            "tags": []
          },
          "execution_count": 41
        }
      ]
    },
    {
      "cell_type": "code",
      "metadata": {
        "id": "GGRm0fenNtrB"
      },
      "source": [
        "df_pos['Rating'] = df_pos['Rating'].replace('10 (1)', '10')\n",
        "df_pos['Rating'] = df_pos['Rating'].replace('9 (1)', '9')\n",
        "df_pos['Rating'] = df_pos['Rating'].replace('8 (1)', '8')"
      ],
      "execution_count": null,
      "outputs": []
    },
    {
      "cell_type": "code",
      "metadata": {
        "id": "HySF8h_FOC5a"
      },
      "source": [
        "df_pos['Rating'] = pd.to_numeric(df_pos['Rating'])"
      ],
      "execution_count": null,
      "outputs": []
    },
    {
      "cell_type": "code",
      "metadata": {
        "colab": {
          "base_uri": "https://localhost:8080/"
        },
        "id": "m5eMXH58OKmC",
        "outputId": "490e76e1-e905-4a7b-8296-81768d5096c3"
      },
      "source": [
        "df_pos.info()"
      ],
      "execution_count": null,
      "outputs": [
        {
          "output_type": "stream",
          "text": [
            "<class 'pandas.core.frame.DataFrame'>\n",
            "RangeIndex: 12520 entries, 0 to 12519\n",
            "Data columns (total 4 columns):\n",
            " #   Column  Non-Null Count  Dtype \n",
            "---  ------  --------------  ----- \n",
            " 0   Index   12520 non-null  int64 \n",
            " 1   Rating  12520 non-null  int64 \n",
            " 2   Index2  12520 non-null  object\n",
            " 3   0       12520 non-null  object\n",
            "dtypes: int64(2), object(2)\n",
            "memory usage: 391.4+ KB\n"
          ],
          "name": "stdout"
        }
      ]
    },
    {
      "cell_type": "code",
      "metadata": {
        "id": "M-VxsJJwONjJ"
      },
      "source": [
        "df_pos = df_pos.rename(columns={'Index2':'Label'})\n",
        "df_pos = df_pos.rename(columns={0:'Reviews'})"
      ],
      "execution_count": null,
      "outputs": []
    },
    {
      "cell_type": "code",
      "metadata": {
        "colab": {
          "base_uri": "https://localhost:8080/",
          "height": 414
        },
        "id": "dU5bkaj1QbNQ",
        "outputId": "9d58315a-365e-4895-f66f-bd9bb8b1fe94"
      },
      "source": [
        "df_pos"
      ],
      "execution_count": null,
      "outputs": [
        {
          "output_type": "execute_result",
          "data": {
            "text/html": [
              "<div>\n",
              "<style scoped>\n",
              "    .dataframe tbody tr th:only-of-type {\n",
              "        vertical-align: middle;\n",
              "    }\n",
              "\n",
              "    .dataframe tbody tr th {\n",
              "        vertical-align: top;\n",
              "    }\n",
              "\n",
              "    .dataframe thead th {\n",
              "        text-align: right;\n",
              "    }\n",
              "</style>\n",
              "<table border=\"1\" class=\"dataframe\">\n",
              "  <thead>\n",
              "    <tr style=\"text-align: right;\">\n",
              "      <th></th>\n",
              "      <th>Index</th>\n",
              "      <th>Rating</th>\n",
              "      <th>Label</th>\n",
              "      <th>Reviews</th>\n",
              "    </tr>\n",
              "  </thead>\n",
              "  <tbody>\n",
              "    <tr>\n",
              "      <th>0</th>\n",
              "      <td>11449</td>\n",
              "      <td>10</td>\n",
              "      <td>Positive</td>\n",
              "      <td>this has by far been one of the most beautiful...</td>\n",
              "    </tr>\n",
              "    <tr>\n",
              "      <th>1</th>\n",
              "      <td>11697</td>\n",
              "      <td>10</td>\n",
              "      <td>Positive</td>\n",
              "      <td>This Film was really eye-opening. I have seen ...</td>\n",
              "    </tr>\n",
              "    <tr>\n",
              "      <th>2</th>\n",
              "      <td>11580</td>\n",
              "      <td>10</td>\n",
              "      <td>Positive</td>\n",
              "      <td>As a another reviewer states Hanna's War is an...</td>\n",
              "    </tr>\n",
              "    <tr>\n",
              "      <th>3</th>\n",
              "      <td>11384</td>\n",
              "      <td>7</td>\n",
              "      <td>Positive</td>\n",
              "      <td>The dazzling seventeen-minute dance sequence o...</td>\n",
              "    </tr>\n",
              "    <tr>\n",
              "      <th>4</th>\n",
              "      <td>11816</td>\n",
              "      <td>8</td>\n",
              "      <td>Positive</td>\n",
              "      <td>That was great fun! I never read those Chester...</td>\n",
              "    </tr>\n",
              "    <tr>\n",
              "      <th>...</th>\n",
              "      <td>...</td>\n",
              "      <td>...</td>\n",
              "      <td>...</td>\n",
              "      <td>...</td>\n",
              "    </tr>\n",
              "    <tr>\n",
              "      <th>12515</th>\n",
              "      <td>991</td>\n",
              "      <td>7</td>\n",
              "      <td>Positive</td>\n",
              "      <td>I really am shocked to see the number of revie...</td>\n",
              "    </tr>\n",
              "    <tr>\n",
              "      <th>12516</th>\n",
              "      <td>573</td>\n",
              "      <td>9</td>\n",
              "      <td>Positive</td>\n",
              "      <td>I've always enjoyed films that depict life as ...</td>\n",
              "    </tr>\n",
              "    <tr>\n",
              "      <th>12517</th>\n",
              "      <td>428</td>\n",
              "      <td>7</td>\n",
              "      <td>Positive</td>\n",
              "      <td>Two women, sick of their controlling husbands,...</td>\n",
              "    </tr>\n",
              "    <tr>\n",
              "      <th>12518</th>\n",
              "      <td>752</td>\n",
              "      <td>7</td>\n",
              "      <td>Positive</td>\n",
              "      <td>Four teenage girls in a suburb of Los Angeles ...</td>\n",
              "    </tr>\n",
              "    <tr>\n",
              "      <th>12519</th>\n",
              "      <td>957</td>\n",
              "      <td>10</td>\n",
              "      <td>Positive</td>\n",
              "      <td>i would never have thought that it would be po...</td>\n",
              "    </tr>\n",
              "  </tbody>\n",
              "</table>\n",
              "<p>12520 rows × 4 columns</p>\n",
              "</div>"
            ],
            "text/plain": [
              "       Index  ...                                            Reviews\n",
              "0      11449  ...  this has by far been one of the most beautiful...\n",
              "1      11697  ...  This Film was really eye-opening. I have seen ...\n",
              "2      11580  ...  As a another reviewer states Hanna's War is an...\n",
              "3      11384  ...  The dazzling seventeen-minute dance sequence o...\n",
              "4      11816  ...  That was great fun! I never read those Chester...\n",
              "...      ...  ...                                                ...\n",
              "12515    991  ...  I really am shocked to see the number of revie...\n",
              "12516    573  ...  I've always enjoyed films that depict life as ...\n",
              "12517    428  ...  Two women, sick of their controlling husbands,...\n",
              "12518    752  ...  Four teenage girls in a suburb of Los Angeles ...\n",
              "12519    957  ...  i would never have thought that it would be po...\n",
              "\n",
              "[12520 rows x 4 columns]"
            ]
          },
          "metadata": {
            "tags": []
          },
          "execution_count": 46
        }
      ]
    },
    {
      "cell_type": "code",
      "metadata": {
        "id": "1LszgJgNQclb"
      },
      "source": [
        "df_pos.to_csv('positivereviews.csv')\n",
        "!cp positivereviews.csv \"/content/drive/MyDrive/data\""
      ],
      "execution_count": null,
      "outputs": []
    },
    {
      "cell_type": "code",
      "metadata": {
        "colab": {
          "base_uri": "https://localhost:8080/"
        },
        "id": "nYBggUYXQ01S",
        "outputId": "e3a64a3a-3b11-4a47-c5dc-d1479d4187de"
      },
      "source": [
        "df_pos.shape"
      ],
      "execution_count": null,
      "outputs": [
        {
          "output_type": "execute_result",
          "data": {
            "text/plain": [
              "(12520, 4)"
            ]
          },
          "metadata": {
            "tags": []
          },
          "execution_count": 49
        }
      ]
    },
    {
      "cell_type": "code",
      "metadata": {
        "id": "soJYb2__Ra1q"
      },
      "source": [
        ""
      ],
      "execution_count": null,
      "outputs": []
    }
  ]
}