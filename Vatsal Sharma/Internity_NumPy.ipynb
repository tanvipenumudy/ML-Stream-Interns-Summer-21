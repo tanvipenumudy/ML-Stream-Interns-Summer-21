{
  "nbformat": 4,
  "nbformat_minor": 0,
  "metadata": {
    "colab": {
      "name": "Internity - NumPy.ipynb",
      "provenance": [],
      "collapsed_sections": []
    },
    "kernelspec": {
      "name": "python3",
      "display_name": "Python 3"
    },
    "language_info": {
      "name": "python"
    }
  },
  "cells": [
    {
      "cell_type": "markdown",
      "metadata": {
        "id": "f44I3Hlw_kRs"
      },
      "source": [
        "\n",
        "# **NumPy (Numerical Python)**"
      ]
    },
    {
      "cell_type": "code",
      "metadata": {
        "id": "FGE5Eo0a_s6C"
      },
      "source": [
        "import numpy as np\n"
      ],
      "execution_count": null,
      "outputs": []
    },
    {
      "cell_type": "code",
      "metadata": {
        "colab": {
          "base_uri": "https://localhost:8080/"
        },
        "id": "05XVVJaL_yhg",
        "outputId": "9da1b107-2ca5-4ac0-a22e-91dec4a5f312"
      },
      "source": [
        "a=np.zeros(3)\n",
        "a"
      ],
      "execution_count": null,
      "outputs": [
        {
          "output_type": "execute_result",
          "data": {
            "text/plain": [
              "array([0., 0., 0.])"
            ]
          },
          "metadata": {
            "tags": []
          },
          "execution_count": 43
        }
      ]
    },
    {
      "cell_type": "code",
      "metadata": {
        "colab": {
          "base_uri": "https://localhost:8080/"
        },
        "id": "8527oDNyAHxD",
        "outputId": "b63cfced-a434-4138-84cf-5f453a496beb"
      },
      "source": [
        "type(a)"
      ],
      "execution_count": null,
      "outputs": [
        {
          "output_type": "execute_result",
          "data": {
            "text/plain": [
              "numpy.ndarray"
            ]
          },
          "metadata": {
            "tags": []
          },
          "execution_count": 44
        }
      ]
    },
    {
      "cell_type": "code",
      "metadata": {
        "colab": {
          "base_uri": "https://localhost:8080/"
        },
        "id": "PIVj5lpiANHQ",
        "outputId": "ec775ea9-a5e2-4670-f349-d768d9a8aa93"
      },
      "source": [
        "a.ndim"
      ],
      "execution_count": null,
      "outputs": [
        {
          "output_type": "execute_result",
          "data": {
            "text/plain": [
              "1"
            ]
          },
          "metadata": {
            "tags": []
          },
          "execution_count": 45
        }
      ]
    },
    {
      "cell_type": "code",
      "metadata": {
        "colab": {
          "base_uri": "https://localhost:8080/"
        },
        "id": "wBFUjFkvAOhs",
        "outputId": "a29defd9-25f1-449b-9798-ed9ae87a8577"
      },
      "source": [
        "list(a)"
      ],
      "execution_count": null,
      "outputs": [
        {
          "output_type": "execute_result",
          "data": {
            "text/plain": [
              "[0.0, 0.0, 0.0]"
            ]
          },
          "metadata": {
            "tags": []
          },
          "execution_count": 46
        }
      ]
    },
    {
      "cell_type": "code",
      "metadata": {
        "colab": {
          "base_uri": "https://localhost:8080/"
        },
        "id": "8Rdg9MNHAa-j",
        "outputId": "a0b6209c-9302-47a8-89e5-d7f4b91f1a42"
      },
      "source": [
        "a.shape"
      ],
      "execution_count": null,
      "outputs": [
        {
          "output_type": "execute_result",
          "data": {
            "text/plain": [
              "(3,)"
            ]
          },
          "metadata": {
            "tags": []
          },
          "execution_count": 47
        }
      ]
    },
    {
      "cell_type": "code",
      "metadata": {
        "colab": {
          "base_uri": "https://localhost:8080/"
        },
        "id": "xKkzTc4DAg55",
        "outputId": "23711c5a-896e-4b3a-8ec9-8b4a8c64a0e8"
      },
      "source": [
        "a.size"
      ],
      "execution_count": null,
      "outputs": [
        {
          "output_type": "execute_result",
          "data": {
            "text/plain": [
              "3"
            ]
          },
          "metadata": {
            "tags": []
          },
          "execution_count": 48
        }
      ]
    },
    {
      "cell_type": "code",
      "metadata": {
        "colab": {
          "base_uri": "https://localhost:8080/"
        },
        "id": "DkEZXtNAAuPI",
        "outputId": "521d3528-6a07-4695-9662-8591dc367d3b"
      },
      "source": [
        "a.shape=(3,1)\n",
        "a"
      ],
      "execution_count": null,
      "outputs": [
        {
          "output_type": "execute_result",
          "data": {
            "text/plain": [
              "array([[0.],\n",
              "       [0.],\n",
              "       [0.]])"
            ]
          },
          "metadata": {
            "tags": []
          },
          "execution_count": 49
        }
      ]
    },
    {
      "cell_type": "code",
      "metadata": {
        "colab": {
          "base_uri": "https://localhost:8080/"
        },
        "id": "3wW8omylA3ha",
        "outputId": "8aeb4497-900b-4b5c-b725-010488fcad1e"
      },
      "source": [
        "a.ndim , a.shape,a.size"
      ],
      "execution_count": null,
      "outputs": [
        {
          "output_type": "execute_result",
          "data": {
            "text/plain": [
              "(2, (3, 1), 3)"
            ]
          },
          "metadata": {
            "tags": []
          },
          "execution_count": 50
        }
      ]
    },
    {
      "cell_type": "code",
      "metadata": {
        "colab": {
          "base_uri": "https://localhost:8080/"
        },
        "id": "Wodw6akCBCFj",
        "outputId": "3a3e9f6e-1aa7-4652-cb5b-a5cd1b9ea814"
      },
      "source": [
        "a.reshape(3,1)\n",
        "a"
      ],
      "execution_count": null,
      "outputs": [
        {
          "output_type": "execute_result",
          "data": {
            "text/plain": [
              "array([[0.],\n",
              "       [0.],\n",
              "       [0.]])"
            ]
          },
          "metadata": {
            "tags": []
          },
          "execution_count": 51
        }
      ]
    },
    {
      "cell_type": "code",
      "metadata": {
        "colab": {
          "base_uri": "https://localhost:8080/"
        },
        "id": "Gxz6FsAPBeES",
        "outputId": "19bc366c-6b23-40f0-9b31-cd542d172f47"
      },
      "source": [
        "b=25\n",
        "c=np.sqrt(b)\n",
        "c"
      ],
      "execution_count": null,
      "outputs": [
        {
          "output_type": "execute_result",
          "data": {
            "text/plain": [
              "5.0"
            ]
          },
          "metadata": {
            "tags": []
          },
          "execution_count": 52
        }
      ]
    },
    {
      "cell_type": "code",
      "metadata": {
        "colab": {
          "base_uri": "https://localhost:8080/"
        },
        "id": "y_y0fZAYB5qL",
        "outputId": "c3631317-91ec-4ce1-9741-2ee6d552430f"
      },
      "source": [
        "np.random.seed(18)\n",
        "q=np.random.randint(1,20,[5,5])\n",
        "q"
      ],
      "execution_count": null,
      "outputs": [
        {
          "output_type": "execute_result",
          "data": {
            "text/plain": [
              "array([[11,  6, 18, 15, 19],\n",
              "       [ 3,  9,  3, 18,  6],\n",
              "       [16, 11, 11, 12,  5],\n",
              "       [ 5, 12,  2,  4, 10],\n",
              "       [ 6, 15,  7, 14,  9]])"
            ]
          },
          "metadata": {
            "tags": []
          },
          "execution_count": 53
        }
      ]
    },
    {
      "cell_type": "code",
      "metadata": {
        "colab": {
          "base_uri": "https://localhost:8080/"
        },
        "id": "69u3KYHzCKw5",
        "outputId": "17c1cb28-0cf8-422b-b2f0-71ee219b0ffb"
      },
      "source": [
        "w=np.argsort(q)\n",
        "w"
      ],
      "execution_count": null,
      "outputs": [
        {
          "output_type": "execute_result",
          "data": {
            "text/plain": [
              "array([[1, 0, 3, 2, 4],\n",
              "       [0, 2, 4, 1, 3],\n",
              "       [4, 1, 2, 3, 0],\n",
              "       [2, 3, 0, 4, 1],\n",
              "       [0, 2, 4, 3, 1]])"
            ]
          },
          "metadata": {
            "tags": []
          },
          "execution_count": 54
        }
      ]
    },
    {
      "cell_type": "code",
      "metadata": {
        "colab": {
          "base_uri": "https://localhost:8080/"
        },
        "id": "9WWxY76MCS-Y",
        "outputId": "4b41a8b1-8277-4688-d328-58b3910ce459"
      },
      "source": [
        "q.shape , q.size , q.ndim"
      ],
      "execution_count": null,
      "outputs": [
        {
          "output_type": "execute_result",
          "data": {
            "text/plain": [
              "((5, 5), 25, 2)"
            ]
          },
          "metadata": {
            "tags": []
          },
          "execution_count": 55
        }
      ]
    },
    {
      "cell_type": "code",
      "metadata": {
        "colab": {
          "base_uri": "https://localhost:8080/"
        },
        "id": "VJiyqnHCCZGd",
        "outputId": "d29e44d4-ac01-483d-d61c-77224d4e7eff"
      },
      "source": [
        "np.linspace(1,50,5)"
      ],
      "execution_count": null,
      "outputs": [
        {
          "output_type": "execute_result",
          "data": {
            "text/plain": [
              "array([ 1.  , 13.25, 25.5 , 37.75, 50.  ])"
            ]
          },
          "metadata": {
            "tags": []
          },
          "execution_count": 56
        }
      ]
    },
    {
      "cell_type": "code",
      "metadata": {
        "colab": {
          "base_uri": "https://localhost:8080/"
        },
        "id": "Y3zYHh3iEIwu",
        "outputId": "deaaa63a-6e2c-4fb1-8b11-ba81f9c8f949"
      },
      "source": [
        "np.arange(18)"
      ],
      "execution_count": null,
      "outputs": [
        {
          "output_type": "execute_result",
          "data": {
            "text/plain": [
              "array([ 0,  1,  2,  3,  4,  5,  6,  7,  8,  9, 10, 11, 12, 13, 14, 15, 16,\n",
              "       17])"
            ]
          },
          "metadata": {
            "tags": []
          },
          "execution_count": 57
        }
      ]
    },
    {
      "cell_type": "code",
      "metadata": {
        "colab": {
          "base_uri": "https://localhost:8080/"
        },
        "id": "eHKGCFgoEUfi",
        "outputId": "f523e952-f445-4223-ee25-b965aafff909"
      },
      "source": [
        "x=[1,2,3,4,5,6,7,8,9]\n",
        "x"
      ],
      "execution_count": null,
      "outputs": [
        {
          "output_type": "execute_result",
          "data": {
            "text/plain": [
              "[1, 2, 3, 4, 5, 6, 7, 8, 9]"
            ]
          },
          "metadata": {
            "tags": []
          },
          "execution_count": 58
        }
      ]
    },
    {
      "cell_type": "code",
      "metadata": {
        "colab": {
          "base_uri": "https://localhost:8080/"
        },
        "id": "p5OSZrIzHt2h",
        "outputId": "ac52b7b6-9271-49f2-dc2c-122a9c4c1b16"
      },
      "source": [
        "y=np.array(x)\n",
        "y"
      ],
      "execution_count": null,
      "outputs": [
        {
          "output_type": "execute_result",
          "data": {
            "text/plain": [
              "array([1, 2, 3, 4, 5, 6, 7, 8, 9])"
            ]
          },
          "metadata": {
            "tags": []
          },
          "execution_count": 59
        }
      ]
    },
    {
      "cell_type": "code",
      "metadata": {
        "colab": {
          "base_uri": "https://localhost:8080/"
        },
        "id": "VQo2TSLnH2hQ",
        "outputId": "c5c70ad1-848c-4e5b-fb50-5e7e38c0a52c"
      },
      "source": [
        "j=np.random.randint(4,60,(4,5))\n",
        "j"
      ],
      "execution_count": null,
      "outputs": [
        {
          "output_type": "execute_result",
          "data": {
            "text/plain": [
              "array([[22,  4, 33, 13, 17],\n",
              "       [14, 17, 19,  7, 54],\n",
              "       [32,  7, 35, 25, 15],\n",
              "       [46, 59, 38, 29, 33]])"
            ]
          },
          "metadata": {
            "tags": []
          },
          "execution_count": 60
        }
      ]
    },
    {
      "cell_type": "code",
      "metadata": {
        "colab": {
          "base_uri": "https://localhost:8080/"
        },
        "id": "Vhc3QeLIIMFT",
        "outputId": "3ed6d901-3639-428d-f383-5579f49b2a55"
      },
      "source": [
        "k=np.random.randint(4,50,(4,5))\n",
        "k"
      ],
      "execution_count": null,
      "outputs": [
        {
          "output_type": "execute_result",
          "data": {
            "text/plain": [
              "array([[26, 29,  7, 39, 25],\n",
              "       [45, 30, 39, 42, 15],\n",
              "       [13, 36, 31, 48, 32],\n",
              "       [38, 17,  9, 18, 23]])"
            ]
          },
          "metadata": {
            "tags": []
          },
          "execution_count": 61
        }
      ]
    },
    {
      "cell_type": "code",
      "metadata": {
        "id": "et5st71NIVbg",
        "colab": {
          "base_uri": "https://localhost:8080/"
        },
        "outputId": "63253635-b7fd-4887-af9b-29bf653f971c"
      },
      "source": [
        "l=j-k\n",
        "l"
      ],
      "execution_count": null,
      "outputs": [
        {
          "output_type": "execute_result",
          "data": {
            "text/plain": [
              "array([[ -4, -25,  26, -26,  -8],\n",
              "       [-31, -13, -20, -35,  39],\n",
              "       [ 19, -29,   4, -23, -17],\n",
              "       [  8,  42,  29,  11,  10]])"
            ]
          },
          "metadata": {
            "tags": []
          },
          "execution_count": 62
        }
      ]
    },
    {
      "cell_type": "code",
      "metadata": {
        "id": "8bNdGAbKIYqM",
        "colab": {
          "base_uri": "https://localhost:8080/"
        },
        "outputId": "28eddbc4-4c70-4c29-a16d-4b9252102710"
      },
      "source": [
        "m=j+k\n",
        "m"
      ],
      "execution_count": null,
      "outputs": [
        {
          "output_type": "execute_result",
          "data": {
            "text/plain": [
              "array([[48, 33, 40, 52, 42],\n",
              "       [59, 47, 58, 49, 69],\n",
              "       [45, 43, 66, 73, 47],\n",
              "       [84, 76, 47, 47, 56]])"
            ]
          },
          "metadata": {
            "tags": []
          },
          "execution_count": 63
        }
      ]
    },
    {
      "cell_type": "code",
      "metadata": {
        "id": "dqBV7FTSIcPg"
      },
      "source": [
        ""
      ],
      "execution_count": null,
      "outputs": []
    }
  ]
}