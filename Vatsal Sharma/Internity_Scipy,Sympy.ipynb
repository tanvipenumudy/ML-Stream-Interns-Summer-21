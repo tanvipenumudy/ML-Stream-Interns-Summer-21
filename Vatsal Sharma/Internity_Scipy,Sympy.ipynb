{
  "nbformat": 4,
  "nbformat_minor": 0,
  "metadata": {
    "kernelspec": {
      "display_name": "Python 3",
      "language": "python",
      "name": "python3"
    },
    "language_info": {
      "codemirror_mode": {
        "name": "ipython",
        "version": 3
      },
      "file_extension": ".py",
      "mimetype": "text/x-python",
      "name": "python",
      "nbconvert_exporter": "python",
      "pygments_lexer": "ipython3",
      "version": "3.8.5"
    },
    "colab": {
      "name": "Internity-Scipy,Sympy.ipynb",
      "provenance": [],
      "collapsed_sections": []
    }
  },
  "cells": [
    {
      "cell_type": "code",
      "metadata": {
        "id": "0sBPFF8Wi3Jg"
      },
      "source": [
        "from scipy import cluster"
      ],
      "execution_count": null,
      "outputs": []
    },
    {
      "cell_type": "code",
      "metadata": {
        "colab": {
          "base_uri": "https://localhost:8080/"
        },
        "id": "TULBfmaqjSLV",
        "outputId": "7e8c0ec6-df57-4dee-aed0-eea3a6b888e9"
      },
      "source": [
        "from google.colab import drive\n",
        "drive.mount('/content/drive')"
      ],
      "execution_count": null,
      "outputs": [
        {
          "output_type": "stream",
          "text": [
            "Drive already mounted at /content/drive; to attempt to forcibly remount, call drive.mount(\"/content/drive\", force_remount=True).\n"
          ],
          "name": "stdout"
        }
      ]
    },
    {
      "cell_type": "code",
      "metadata": {
        "colab": {
          "base_uri": "https://localhost:8080/"
        },
        "id": "IfIQ4Kimi3Ju",
        "outputId": "83747433-a8a5-4df5-cc3d-d7c4851902f5"
      },
      "source": [
        "help(cluster)"
      ],
      "execution_count": null,
      "outputs": [
        {
          "output_type": "stream",
          "text": [
            "Help on package scipy.cluster in scipy:\n",
            "\n",
            "NAME\n",
            "    scipy.cluster\n",
            "\n",
            "DESCRIPTION\n",
            "    =========================================\n",
            "    Clustering package (:mod:`scipy.cluster`)\n",
            "    =========================================\n",
            "    \n",
            "    .. currentmodule:: scipy.cluster\n",
            "    \n",
            "    :mod:`scipy.cluster.vq`\n",
            "    \n",
            "    Clustering algorithms are useful in information theory, target detection,\n",
            "    communications, compression, and other areas.  The `vq` module only\n",
            "    supports vector quantization and the k-means algorithms.\n",
            "    \n",
            "    :mod:`scipy.cluster.hierarchy`\n",
            "    \n",
            "    The `hierarchy` module provides functions for hierarchical and\n",
            "    agglomerative clustering.  Its features include generating hierarchical\n",
            "    clusters from distance matrices,\n",
            "    calculating statistics on clusters, cutting linkages\n",
            "    to generate flat clusters, and visualizing clusters with dendrograms.\n",
            "\n",
            "PACKAGE CONTENTS\n",
            "    _hierarchy\n",
            "    _optimal_leaf_ordering\n",
            "    _vq\n",
            "    hierarchy\n",
            "    setup\n",
            "    tests (package)\n",
            "    vq\n",
            "\n",
            "DATA\n",
            "    __all__ = ['vq', 'hierarchy']\n",
            "\n",
            "FILE\n",
            "    /usr/local/lib/python3.7/dist-packages/scipy/cluster/__init__.py\n",
            "\n",
            "\n"
          ],
          "name": "stdout"
        }
      ]
    },
    {
      "cell_type": "code",
      "metadata": {
        "id": "pGpxQKFvi3Jz"
      },
      "source": [
        ""
      ],
      "execution_count": null,
      "outputs": []
    },
    {
      "cell_type": "code",
      "metadata": {
        "colab": {
          "base_uri": "https://localhost:8080/"
        },
        "id": "GGe5JDNAi3J0",
        "outputId": "663f3761-d129-4a28-bbaf-8c8c56ba2c53"
      },
      "source": [
        "help(\n",
        ")"
      ],
      "execution_count": null,
      "outputs": [
        {
          "output_type": "stream",
          "text": [
            "\n",
            "Welcome to Python 3.7's help utility!\n",
            "\n",
            "If this is your first time using Python, you should definitely check out\n",
            "the tutorial on the Internet at https://docs.python.org/3.7/tutorial/.\n",
            "\n",
            "Enter the name of any module, keyword, or topic to get help on writing\n",
            "Python programs and using Python modules.  To quit this help utility and\n",
            "return to the interpreter, just type \"quit\".\n",
            "\n",
            "To get a list of available modules, keywords, symbols, or topics, type\n",
            "\"modules\", \"keywords\", \"symbols\", or \"topics\".  Each module also comes\n",
            "with a one-line summary of what it does; to list the modules whose name\n",
            "or summary contain a given string such as \"spam\", type \"modules spam\".\n",
            "\n"
          ],
          "name": "stdout"
        }
      ]
    },
    {
      "cell_type": "code",
      "metadata": {
        "id": "KB318as4i3J1"
      },
      "source": [
        ""
      ],
      "execution_count": null,
      "outputs": []
    },
    {
      "cell_type": "code",
      "metadata": {
        "id": "BLO53G_ci3J2"
      },
      "source": [
        "import scipy\n",
        "scipy.info(cluster)"
      ],
      "execution_count": null,
      "outputs": []
    },
    {
      "cell_type": "code",
      "metadata": {
        "id": "y8xo1IaZi3J3"
      },
      "source": [
        "scipy.source(cluster)"
      ],
      "execution_count": null,
      "outputs": []
    },
    {
      "cell_type": "code",
      "metadata": {
        "id": "2tnrW2zwi3J5"
      },
      "source": [
        "from scipy import special"
      ],
      "execution_count": null,
      "outputs": []
    },
    {
      "cell_type": "code",
      "metadata": {
        "id": "Zl7W6HCIi3J6"
      },
      "source": [
        "a=scipy.special.exp10(2)\n",
        "a"
      ],
      "execution_count": null,
      "outputs": []
    },
    {
      "cell_type": "code",
      "metadata": {
        "id": "3ULK-Lp2i3J7"
      },
      "source": [
        "b=scipy.special.exp2(2)\n",
        "b"
      ],
      "execution_count": null,
      "outputs": []
    },
    {
      "cell_type": "code",
      "metadata": {
        "id": "5_XG4omli3J8"
      },
      "source": [
        "c=scipy.special.factorial(5)\n",
        "c"
      ],
      "execution_count": null,
      "outputs": []
    },
    {
      "cell_type": "code",
      "metadata": {
        "id": "lZZS9Y5ti3J9"
      },
      "source": [
        "d=special.sindg(0)\n",
        "d"
      ],
      "execution_count": null,
      "outputs": []
    },
    {
      "cell_type": "code",
      "metadata": {
        "id": "Qm_OF9Rri3J-"
      },
      "source": [
        "e=special.tandg(45)\n",
        "e"
      ],
      "execution_count": null,
      "outputs": []
    },
    {
      "cell_type": "code",
      "metadata": {
        "id": "r0pLRDTei3KC"
      },
      "source": [
        "from scipy import integrate"
      ],
      "execution_count": null,
      "outputs": []
    },
    {
      "cell_type": "code",
      "metadata": {
        "id": "LaAOGqodi3KD"
      },
      "source": [
        "q=scipy.integrate.quad(lambda x:special.exp10(x),1,2)\n",
        "q"
      ],
      "execution_count": null,
      "outputs": []
    },
    {
      "cell_type": "code",
      "metadata": {
        "id": "GKKG9q4Xi3KE"
      },
      "source": [
        "r=lambda x,y:x*y**3\n",
        "t=lambda x: 1\n",
        "l=lambda  x: -1\n",
        "z=integrate.dblquad(r,0,3,t,l)\n",
        "print(z)"
      ],
      "execution_count": null,
      "outputs": []
    },
    {
      "cell_type": "code",
      "metadata": {
        "id": "Om2vgVmYi3KE"
      },
      "source": [
        "from scipy import linalg\n",
        "import numpy as np"
      ],
      "execution_count": null,
      "outputs": []
    },
    {
      "cell_type": "code",
      "metadata": {
        "id": "ZvehpwKfi3KF"
      },
      "source": [
        "n=np.random.randint(4,50,(2,2))\n",
        "m=linalg.inv(n)\n",
        "print(n)\n",
        "print(m)"
      ],
      "execution_count": null,
      "outputs": []
    },
    {
      "cell_type": "code",
      "metadata": {
        "id": "LRl2n2fKi3KF"
      },
      "source": [
        "import matplotlib.pyplot as plt\n",
        "from scipy import interpolate\n",
        "import numpy as np\n",
        "x=np.arange(5,20)\n",
        "y=np.exp(x/3.0)\n",
        "f=interpolate.interp1d(x,y)\n",
        "x1=np.arange(6,12)\n",
        "y1=f(x1)\n",
        "plt.plot(x,y,'o',x1,y1,'--')\n",
        "plt.show()"
      ],
      "execution_count": null,
      "outputs": []
    },
    {
      "cell_type": "code",
      "metadata": {
        "id": "_HbGovmGi3KG"
      },
      "source": [
        "from sympy import *"
      ],
      "execution_count": null,
      "outputs": []
    },
    {
      "cell_type": "code",
      "metadata": {
        "id": "IgKkrU7Ti3KH"
      },
      "source": [
        "help(\"sympy\")"
      ],
      "execution_count": null,
      "outputs": []
    },
    {
      "cell_type": "code",
      "metadata": {
        "id": "wzp2CmYCi3KH"
      },
      "source": [
        "x,y,z=symbols(\"x y z\")\n"
      ],
      "execution_count": null,
      "outputs": []
    },
    {
      "cell_type": "code",
      "metadata": {
        "id": "T2ayjo7hi3KI"
      },
      "source": [
        "expr=x+y-z\n",
        "expr"
      ],
      "execution_count": null,
      "outputs": []
    },
    {
      "cell_type": "code",
      "metadata": {
        "id": "a8jVstJGi3KI"
      },
      "source": [
        "print(expr.subs(x,+10))"
      ],
      "execution_count": null,
      "outputs": []
    },
    {
      "cell_type": "code",
      "metadata": {
        "id": "rnhNAiyZi3KJ"
      },
      "source": [
        "ans=(expr.subs(x,10).subs(y,5).subs(z,8))\n",
        "ans"
      ],
      "execution_count": null,
      "outputs": []
    },
    {
      "cell_type": "code",
      "metadata": {
        "id": "8szRtZ7Ji3KK"
      },
      "source": [
        "a,b,c,d=symbols(\"a b c d\")\n"
      ],
      "execution_count": null,
      "outputs": []
    },
    {
      "cell_type": "code",
      "metadata": {
        "id": "3uTFoJg3i3KK"
      },
      "source": [
        "ex=(a**2+b**3)\n",
        "ex"
      ],
      "execution_count": null,
      "outputs": []
    },
    {
      "cell_type": "code",
      "metadata": {
        "id": "d9gPJUgvi3KL"
      },
      "source": [
        "c=sqrt(a**3+1/d**2)\n",
        "c"
      ],
      "execution_count": null,
      "outputs": []
    },
    {
      "cell_type": "code",
      "metadata": {
        "id": "hQ7NQTLVi3KL"
      },
      "source": [
        "(ex.subs(b,c))"
      ],
      "execution_count": null,
      "outputs": []
    },
    {
      "cell_type": "code",
      "metadata": {
        "id": "BbzqBnjYi3KM"
      },
      "source": [
        "ans2=(ex.subs(a,5).subs(d,4).subs(b,3))\n",
        "ans2"
      ],
      "execution_count": null,
      "outputs": []
    },
    {
      "cell_type": "code",
      "metadata": {
        "id": "r7prsnKMi3KN"
      },
      "source": [
        "from sympy import symbols,Eq,solve"
      ],
      "execution_count": null,
      "outputs": []
    },
    {
      "cell_type": "code",
      "metadata": {
        "id": "bK-W1AR8i3KN"
      },
      "source": [
        "eq1=Eq(5*x+6*y-8)\n",
        "eq2=Eq(9*x+8*y-5)"
      ],
      "execution_count": null,
      "outputs": []
    },
    {
      "cell_type": "code",
      "metadata": {
        "id": "EdW0NHrCi3KN"
      },
      "source": [
        "ans3=solve((eq1,eq2),x,y)\n",
        "ans3"
      ],
      "execution_count": null,
      "outputs": []
    },
    {
      "cell_type": "code",
      "metadata": {
        "id": "Xx2xwuQli3KO"
      },
      "source": [
        ""
      ],
      "execution_count": null,
      "outputs": []
    }
  ]
}