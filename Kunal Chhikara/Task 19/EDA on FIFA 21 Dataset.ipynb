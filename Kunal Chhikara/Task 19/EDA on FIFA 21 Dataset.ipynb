{
 "cells": [
  {
   "cell_type": "markdown",
   "metadata": {},
   "source": [
    "# Importing the Libraries"
   ]
  },
  {
   "cell_type": "code",
   "execution_count": 81,
   "metadata": {},
   "outputs": [],
   "source": [
    "import pandas as pd\n",
    "import numpy as np\n",
    "import seaborn as sns\n",
    "import matplotlib.pyplot as plt\n",
    "import warnings\n",
    "warnings.filterwarnings(\"ignore\")"
   ]
  },
  {
   "cell_type": "markdown",
   "metadata": {},
   "source": [
    "# Reading the data"
   ]
  },
  {
   "cell_type": "code",
   "execution_count": 4,
   "metadata": {},
   "outputs": [
    {
     "data": {
      "text/html": [
       "<div>\n",
       "<style scoped>\n",
       "    .dataframe tbody tr th:only-of-type {\n",
       "        vertical-align: middle;\n",
       "    }\n",
       "\n",
       "    .dataframe tbody tr th {\n",
       "        vertical-align: top;\n",
       "    }\n",
       "\n",
       "    .dataframe thead th {\n",
       "        text-align: right;\n",
       "    }\n",
       "</style>\n",
       "<table border=\"1\" class=\"dataframe\">\n",
       "  <thead>\n",
       "    <tr style=\"text-align: right;\">\n",
       "      <th></th>\n",
       "      <th>player_id</th>\n",
       "      <th>name</th>\n",
       "      <th>nationality</th>\n",
       "      <th>position</th>\n",
       "      <th>overall</th>\n",
       "      <th>age</th>\n",
       "      <th>hits</th>\n",
       "      <th>potential</th>\n",
       "      <th>team</th>\n",
       "    </tr>\n",
       "  </thead>\n",
       "  <tbody>\n",
       "    <tr>\n",
       "      <th>0</th>\n",
       "      <td>158023</td>\n",
       "      <td>Lionel Messi</td>\n",
       "      <td>Argentina</td>\n",
       "      <td>ST|CF|RW</td>\n",
       "      <td>94</td>\n",
       "      <td>33</td>\n",
       "      <td>299</td>\n",
       "      <td>94</td>\n",
       "      <td>FC Barcelona</td>\n",
       "    </tr>\n",
       "    <tr>\n",
       "      <th>1</th>\n",
       "      <td>20801</td>\n",
       "      <td>Cristiano Ronaldo</td>\n",
       "      <td>Portugal</td>\n",
       "      <td>ST|LW</td>\n",
       "      <td>93</td>\n",
       "      <td>35</td>\n",
       "      <td>276</td>\n",
       "      <td>93</td>\n",
       "      <td>Juventus</td>\n",
       "    </tr>\n",
       "    <tr>\n",
       "      <th>2</th>\n",
       "      <td>190871</td>\n",
       "      <td>Neymar Jr</td>\n",
       "      <td>Brazil</td>\n",
       "      <td>CAM|LW</td>\n",
       "      <td>92</td>\n",
       "      <td>28</td>\n",
       "      <td>186</td>\n",
       "      <td>92</td>\n",
       "      <td>Paris Saint-Germain</td>\n",
       "    </tr>\n",
       "    <tr>\n",
       "      <th>3</th>\n",
       "      <td>203376</td>\n",
       "      <td>Virgil van Dijk</td>\n",
       "      <td>Netherlands</td>\n",
       "      <td>CB</td>\n",
       "      <td>91</td>\n",
       "      <td>29</td>\n",
       "      <td>127</td>\n",
       "      <td>92</td>\n",
       "      <td>Liverpool</td>\n",
       "    </tr>\n",
       "    <tr>\n",
       "      <th>4</th>\n",
       "      <td>200389</td>\n",
       "      <td>Jan Oblak</td>\n",
       "      <td>Slovenia</td>\n",
       "      <td>GK</td>\n",
       "      <td>91</td>\n",
       "      <td>27</td>\n",
       "      <td>47</td>\n",
       "      <td>93</td>\n",
       "      <td>Atlético Madrid</td>\n",
       "    </tr>\n",
       "  </tbody>\n",
       "</table>\n",
       "</div>"
      ],
      "text/plain": [
       "   player_id               name  nationality  position  overall  age  hits  \\\n",
       "0     158023       Lionel Messi    Argentina  ST|CF|RW       94   33   299   \n",
       "1      20801  Cristiano Ronaldo     Portugal     ST|LW       93   35   276   \n",
       "2     190871          Neymar Jr       Brazil    CAM|LW       92   28   186   \n",
       "3     203376    Virgil van Dijk  Netherlands        CB       91   29   127   \n",
       "4     200389          Jan Oblak     Slovenia        GK       91   27    47   \n",
       "\n",
       "   potential                  team  \n",
       "0         94         FC Barcelona   \n",
       "1         93             Juventus   \n",
       "2         92  Paris Saint-Germain   \n",
       "3         92            Liverpool   \n",
       "4         93      Atlético Madrid   "
      ]
     },
     "execution_count": 4,
     "metadata": {},
     "output_type": "execute_result"
    }
   ],
   "source": [
    "data = pd.read_csv('FIFA21.csv',sep=';')\n",
    "data.head()"
   ]
  },
  {
   "cell_type": "code",
   "execution_count": 48,
   "metadata": {},
   "outputs": [
    {
     "data": {
      "text/plain": [
       "(17981, 9)"
      ]
     },
     "execution_count": 48,
     "metadata": {},
     "output_type": "execute_result"
    }
   ],
   "source": [
    "data.shape"
   ]
  },
  {
   "cell_type": "markdown",
   "metadata": {},
   "source": [
    "## Removing the trailing white spaces in the Team column"
   ]
  },
  {
   "cell_type": "code",
   "execution_count": 70,
   "metadata": {},
   "outputs": [],
   "source": [
    "data['team'] = data['team'].str.strip()"
   ]
  },
  {
   "cell_type": "markdown",
   "metadata": {},
   "source": [
    "# Checking the null values"
   ]
  },
  {
   "cell_type": "code",
   "execution_count": 7,
   "metadata": {},
   "outputs": [
    {
     "data": {
      "text/plain": [
       "player_id      0\n",
       "name           0\n",
       "nationality    0\n",
       "position       0\n",
       "overall        0\n",
       "age            0\n",
       "hits           0\n",
       "potential      0\n",
       "team           0\n",
       "dtype: int64"
      ]
     },
     "execution_count": 7,
     "metadata": {},
     "output_type": "execute_result"
    }
   ],
   "source": [
    "data.isnull().sum()"
   ]
  },
  {
   "cell_type": "code",
   "execution_count": 9,
   "metadata": {},
   "outputs": [
    {
     "data": {
      "text/plain": [
       "player_id       int64\n",
       "name           object\n",
       "nationality    object\n",
       "position       object\n",
       "overall         int64\n",
       "age             int64\n",
       "hits            int64\n",
       "potential       int64\n",
       "team           object\n",
       "dtype: object"
      ]
     },
     "execution_count": 9,
     "metadata": {},
     "output_type": "execute_result"
    }
   ],
   "source": [
    "data.dtypes"
   ]
  },
  {
   "cell_type": "markdown",
   "metadata": {},
   "source": [
    "## Top 10 countries that constitute most of the players"
   ]
  },
  {
   "cell_type": "code",
   "execution_count": 82,
   "metadata": {},
   "outputs": [
    {
     "data": {
      "image/png": "[encoded data removed]",
      "text/plain": [
       "<Figure size 1440x504 with 1 Axes>"
      ]
     },
     "metadata": {},
     "output_type": "display_data"
    }
   ],
   "source": [
    "plt.figure(figsize = (20,7))\n",
    "data['nationality'].value_counts().head(10).plot.bar()\n",
    "plt.title('Players from different countries present in FIFA-2021')\n",
    "plt.xlabel('Country')\n",
    "plt.ylabel('Number of Players')\n",
    "plt.show()"
   ]
  },
  {
   "cell_type": "markdown",
   "metadata": {},
   "source": [
    "# Number of players in a particular age group"
   ]
  },
  {
   "cell_type": "code",
   "execution_count": 83,
   "metadata": {},
   "outputs": [
    {
     "data": {
      "image/png": "[encoded data removed]",
      "text/plain": [
       "<Figure size 864x576 with 1 Axes>"
      ]
     },
     "metadata": {},
     "output_type": "display_data"
    }
   ],
   "source": [
    "age  = data.age\n",
    "plt.figure(figsize = (12,8))\n",
    "ax = sns.distplot(age,bins = 60)\n",
    "ax.set_ylabel('Number of Players')\n",
    "ax.set_xlabel('Age')\n",
    "ax.set_title('Distribution of Age of Players')\n",
    "plt.show()"
   ]
  },
  {
   "cell_type": "markdown",
   "metadata": {},
   "source": [
    "## Potential Distribution"
   ]
  },
  {
   "cell_type": "code",
   "execution_count": 84,
   "metadata": {},
   "outputs": [
    {
     "data": {
      "image/png": "[encoded data removed]",
      "text/plain": [
       "<Figure size 864x576 with 1 Axes>"
      ]
     },
     "metadata": {},
     "output_type": "display_data"
    }
   ],
   "source": [
    "potential  = data.potential\n",
    "plt.figure(figsize = (12,8))\n",
    "ax = sns.distplot(potential,bins = 60)\n",
    "ax.set_ylabel('Number of Players')\n",
    "ax.set_xlabel('Potential')\n",
    "ax.set_title('Distribution of Potentials of Players')\n",
    "plt.show()"
   ]
  },
  {
   "cell_type": "markdown",
   "metadata": {},
   "source": [
    "## The top 10 teams with highest overall player ratings"
   ]
  },
  {
   "cell_type": "code",
   "execution_count": 85,
   "metadata": {},
   "outputs": [
    {
     "data": {
      "image/png": "[encoded data removed]",
      "text/plain": [
       "<Figure size 864x576 with 1 Axes>"
      ]
     },
     "metadata": {},
     "output_type": "display_data"
    }
   ],
   "source": [
    "plt.figure(figsize=(12,8)) \n",
    "ax = data.groupby(['team'])['overall'].max().sort_values(ascending = False).head(10).plot.bar()\n",
    "ax.set_xlabel('Clubs')\n",
    "ax.set_ylabel('Overall')\n",
    "ax.set_title(\"Clubs with highest Overall scores in FIFA-2021\")\n",
    "plt.show()"
   ]
  },
  {
   "cell_type": "markdown",
   "metadata": {},
   "source": [
    "## Top 5 youngest players"
   ]
  },
  {
   "cell_type": "code",
   "execution_count": 31,
   "metadata": {},
   "outputs": [
    {
     "data": {
      "text/html": [
       "<div>\n",
       "<style scoped>\n",
       "    .dataframe tbody tr th:only-of-type {\n",
       "        vertical-align: middle;\n",
       "    }\n",
       "\n",
       "    .dataframe tbody tr th {\n",
       "        vertical-align: top;\n",
       "    }\n",
       "\n",
       "    .dataframe thead th {\n",
       "        text-align: right;\n",
       "    }\n",
       "</style>\n",
       "<table border=\"1\" class=\"dataframe\">\n",
       "  <thead>\n",
       "    <tr style=\"text-align: right;\">\n",
       "      <th></th>\n",
       "      <th>name</th>\n",
       "      <th>age</th>\n",
       "      <th>team</th>\n",
       "      <th>nationality</th>\n",
       "    </tr>\n",
       "  </thead>\n",
       "  <tbody>\n",
       "    <tr>\n",
       "      <th>1637</th>\n",
       "      <td>Eduardo Camavinga</td>\n",
       "      <td>17</td>\n",
       "      <td>Stade Rennais FC</td>\n",
       "      <td>France</td>\n",
       "    </tr>\n",
       "    <tr>\n",
       "      <th>15008</th>\n",
       "      <td>Gabriele Plechero</td>\n",
       "      <td>17</td>\n",
       "      <td>Cittadella</td>\n",
       "      <td>Italy</td>\n",
       "    </tr>\n",
       "    <tr>\n",
       "      <th>14915</th>\n",
       "      <td>Jayden Nelson</td>\n",
       "      <td>17</td>\n",
       "      <td>Toronto FC</td>\n",
       "      <td>Canada</td>\n",
       "    </tr>\n",
       "    <tr>\n",
       "      <th>17075</th>\n",
       "      <td>Tom Dickson-Peters</td>\n",
       "      <td>17</td>\n",
       "      <td>Norwich City</td>\n",
       "      <td>Scotland</td>\n",
       "    </tr>\n",
       "    <tr>\n",
       "      <th>17066</th>\n",
       "      <td>Elias Damergy</td>\n",
       "      <td>17</td>\n",
       "      <td>Stade Rennais FC</td>\n",
       "      <td>Tunisia</td>\n",
       "    </tr>\n",
       "  </tbody>\n",
       "</table>\n",
       "</div>"
      ],
      "text/plain": [
       "                     name  age               team nationality\n",
       "1637    Eduardo Camavinga   17  Stade Rennais FC       France\n",
       "15008   Gabriele Plechero   17        Cittadella        Italy\n",
       "14915       Jayden Nelson   17        Toronto FC       Canada\n",
       "17075  Tom Dickson-Peters   17      Norwich City     Scotland\n",
       "17066       Elias Damergy   17  Stade Rennais FC      Tunisia"
      ]
     },
     "execution_count": 31,
     "metadata": {},
     "output_type": "execute_result"
    }
   ],
   "source": [
    "data.sort_values('age',ascending=True)[['name', 'age', 'team', 'nationality']].head(5)"
   ]
  },
  {
   "cell_type": "markdown",
   "metadata": {},
   "source": [
    "## Top 5 oldest players"
   ]
  },
  {
   "cell_type": "code",
   "execution_count": 32,
   "metadata": {},
   "outputs": [
    {
     "data": {
      "text/html": [
       "<div>\n",
       "<style scoped>\n",
       "    .dataframe tbody tr th:only-of-type {\n",
       "        vertical-align: middle;\n",
       "    }\n",
       "\n",
       "    .dataframe tbody tr th {\n",
       "        vertical-align: top;\n",
       "    }\n",
       "\n",
       "    .dataframe thead th {\n",
       "        text-align: right;\n",
       "    }\n",
       "</style>\n",
       "<table border=\"1\" class=\"dataframe\">\n",
       "  <thead>\n",
       "    <tr style=\"text-align: right;\">\n",
       "      <th></th>\n",
       "      <th>name</th>\n",
       "      <th>age</th>\n",
       "      <th>team</th>\n",
       "      <th>nationality</th>\n",
       "    </tr>\n",
       "  </thead>\n",
       "  <tbody>\n",
       "    <tr>\n",
       "      <th>13767</th>\n",
       "      <td>Hussain Omar Sulaimani</td>\n",
       "      <td>43</td>\n",
       "      <td>Al Ahli</td>\n",
       "      <td>Saudi Arabia</td>\n",
       "    </tr>\n",
       "    <tr>\n",
       "      <th>12887</th>\n",
       "      <td>Leao Butrón</td>\n",
       "      <td>43</td>\n",
       "      <td>Club Alianza Lima</td>\n",
       "      <td>Peru</td>\n",
       "    </tr>\n",
       "    <tr>\n",
       "      <th>14977</th>\n",
       "      <td>Luis Fernando Fernández</td>\n",
       "      <td>42</td>\n",
       "      <td>Sociedad Deportiva Aucas</td>\n",
       "      <td>Colombia</td>\n",
       "    </tr>\n",
       "    <tr>\n",
       "      <th>222</th>\n",
       "      <td>Gianluigi Buffon</td>\n",
       "      <td>42</td>\n",
       "      <td>Juventus</td>\n",
       "      <td>Italy</td>\n",
       "    </tr>\n",
       "    <tr>\n",
       "      <th>726</th>\n",
       "      <td>Hilton</td>\n",
       "      <td>42</td>\n",
       "      <td>Montpellier Hérault SC</td>\n",
       "      <td>Brazil</td>\n",
       "    </tr>\n",
       "  </tbody>\n",
       "</table>\n",
       "</div>"
      ],
      "text/plain": [
       "                          name  age                       team   nationality\n",
       "13767   Hussain Omar Sulaimani   43                   Al Ahli   Saudi Arabia\n",
       "12887              Leao Butrón   43         Club Alianza Lima           Peru\n",
       "14977  Luis Fernando Fernández   42  Sociedad Deportiva Aucas       Colombia\n",
       "222           Gianluigi Buffon   42                  Juventus          Italy\n",
       "726                     Hilton   42    Montpellier Hérault SC         Brazil"
      ]
     },
     "execution_count": 32,
     "metadata": {},
     "output_type": "execute_result"
    }
   ],
   "source": [
    "data.sort_values('age',ascending=False)[['name', 'age', 'team', 'nationality']].head(5)"
   ]
  },
  {
   "cell_type": "markdown",
   "metadata": {},
   "source": [
    "## Youngest and the oldest squads"
   ]
  },
  {
   "cell_type": "code",
   "execution_count": 35,
   "metadata": {},
   "outputs": [
    {
     "data": {
      "text/plain": [
       "team\n",
       "UCD AFC                  21.000000\n",
       "FC Groningen             22.068966\n",
       "FC Nordsjælland          22.157895\n",
       "FC Bayern München II     22.240000\n",
       "Fortuna Sittard          22.666667\n",
       "SC Heerenveen            22.869565\n",
       "KRC Genk                 23.000000\n",
       "RB Leipzig               23.031250\n",
       "OGC Nice                 23.115385\n",
       "AZ                       23.142857\n",
       "Name: age, dtype: float64"
      ]
     },
     "execution_count": 35,
     "metadata": {},
     "output_type": "execute_result"
    }
   ],
   "source": [
    "data.groupby(['team'])['age'].mean().sort_values(ascending=True).head(10)"
   ]
  },
  {
   "cell_type": "code",
   "execution_count": 36,
   "metadata": {},
   "outputs": [
    {
     "data": {
      "text/plain": [
       "team\n",
       "Beijing Renhe FC                        31.333333\n",
       "Tianjin Tianhai FC                      30.700000\n",
       "Mineros de Guayana                      30.333333\n",
       "Júbilo Iwata                            30.250000\n",
       "Chongqing Dangdai Lifan FC SWM Team     30.166667\n",
       "Guangzhou R&F FC                        30.117647\n",
       "Tianjin TEDA FC                         30.055556\n",
       "Shanghai Greenland Shenhua FC           30.043478\n",
       "Perth Glory                             30.000000\n",
       "Gyeongnam FC                            29.916667\n",
       "Name: age, dtype: float64"
      ]
     },
     "execution_count": 36,
     "metadata": {},
     "output_type": "execute_result"
    }
   ],
   "source": [
    "data.groupby(['team'])['age'].mean().sort_values(ascending=False).head(10)"
   ]
  },
  {
   "cell_type": "markdown",
   "metadata": {},
   "source": [
    "## Position wise Top Players"
   ]
  },
  {
   "cell_type": "markdown",
   "metadata": {},
   "source": [
    "### Central Defenders"
   ]
  },
  {
   "cell_type": "code",
   "execution_count": 40,
   "metadata": {},
   "outputs": [
    {
     "data": {
      "text/html": [
       "<div>\n",
       "<style scoped>\n",
       "    .dataframe tbody tr th:only-of-type {\n",
       "        vertical-align: middle;\n",
       "    }\n",
       "\n",
       "    .dataframe tbody tr th {\n",
       "        vertical-align: top;\n",
       "    }\n",
       "\n",
       "    .dataframe thead th {\n",
       "        text-align: right;\n",
       "    }\n",
       "</style>\n",
       "<table border=\"1\" class=\"dataframe\">\n",
       "  <thead>\n",
       "    <tr style=\"text-align: right;\">\n",
       "      <th></th>\n",
       "      <th>name</th>\n",
       "      <th>age</th>\n",
       "      <th>team</th>\n",
       "      <th>nationality</th>\n",
       "    </tr>\n",
       "  </thead>\n",
       "  <tbody>\n",
       "    <tr>\n",
       "      <th>3</th>\n",
       "      <td>Virgil van Dijk</td>\n",
       "      <td>29</td>\n",
       "      <td>Liverpool</td>\n",
       "      <td>Netherlands</td>\n",
       "    </tr>\n",
       "    <tr>\n",
       "      <th>21</th>\n",
       "      <td>Sergio Ramos</td>\n",
       "      <td>34</td>\n",
       "      <td>Real Madrid</td>\n",
       "      <td>Spain</td>\n",
       "    </tr>\n",
       "    <tr>\n",
       "      <th>25</th>\n",
       "      <td>Kalidou Koulibaly</td>\n",
       "      <td>29</td>\n",
       "      <td>Napoli</td>\n",
       "      <td>Senegal</td>\n",
       "    </tr>\n",
       "    <tr>\n",
       "      <th>33</th>\n",
       "      <td>Piqué</td>\n",
       "      <td>33</td>\n",
       "      <td>FC Barcelona</td>\n",
       "      <td>Spain</td>\n",
       "    </tr>\n",
       "    <tr>\n",
       "      <th>34</th>\n",
       "      <td>Giorgio Chiellini</td>\n",
       "      <td>35</td>\n",
       "      <td>Juventus</td>\n",
       "      <td>Italy</td>\n",
       "    </tr>\n",
       "    <tr>\n",
       "      <th>37</th>\n",
       "      <td>Aymeric Laporte</td>\n",
       "      <td>26</td>\n",
       "      <td>Manchester City</td>\n",
       "      <td>France</td>\n",
       "    </tr>\n",
       "    <tr>\n",
       "      <th>49</th>\n",
       "      <td>Diego Godín</td>\n",
       "      <td>34</td>\n",
       "      <td>Inter</td>\n",
       "      <td>Uruguay</td>\n",
       "    </tr>\n",
       "    <tr>\n",
       "      <th>50</th>\n",
       "      <td>Mats Hummels</td>\n",
       "      <td>31</td>\n",
       "      <td>Borussia Dortmund</td>\n",
       "      <td>Germany</td>\n",
       "    </tr>\n",
       "    <tr>\n",
       "      <th>54</th>\n",
       "      <td>Thiago Silva</td>\n",
       "      <td>35</td>\n",
       "      <td>Paris Saint-Germain</td>\n",
       "      <td>Brazil</td>\n",
       "    </tr>\n",
       "    <tr>\n",
       "      <th>56</th>\n",
       "      <td>Milan Škriniar</td>\n",
       "      <td>25</td>\n",
       "      <td>Inter</td>\n",
       "      <td>Slovakia</td>\n",
       "    </tr>\n",
       "  </tbody>\n",
       "</table>\n",
       "</div>"
      ],
      "text/plain": [
       "                 name  age                  team  nationality\n",
       "3     Virgil van Dijk   29            Liverpool   Netherlands\n",
       "21       Sergio Ramos   34          Real Madrid         Spain\n",
       "25  Kalidou Koulibaly   29               Napoli       Senegal\n",
       "33              Piqué   33         FC Barcelona         Spain\n",
       "34  Giorgio Chiellini   35             Juventus         Italy\n",
       "37    Aymeric Laporte   26      Manchester City        France\n",
       "49        Diego Godín   34                Inter       Uruguay\n",
       "50       Mats Hummels   31    Borussia Dortmund       Germany\n",
       "54       Thiago Silva   35  Paris Saint-Germain        Brazil\n",
       "56     Milan Škriniar   25                Inter      Slovakia"
      ]
     },
     "execution_count": 40,
     "metadata": {},
     "output_type": "execute_result"
    }
   ],
   "source": [
    "data[data['position'] == 'CB'][['name', 'age', 'team', 'nationality']].head(10)"
   ]
  },
  {
   "cell_type": "markdown",
   "metadata": {},
   "source": [
    "### Central Midfielders"
   ]
  },
  {
   "cell_type": "code",
   "execution_count": 43,
   "metadata": {},
   "outputs": [
    {
     "data": {
      "text/html": [
       "<div>\n",
       "<style scoped>\n",
       "    .dataframe tbody tr th:only-of-type {\n",
       "        vertical-align: middle;\n",
       "    }\n",
       "\n",
       "    .dataframe tbody tr th {\n",
       "        vertical-align: top;\n",
       "    }\n",
       "\n",
       "    .dataframe thead th {\n",
       "        text-align: right;\n",
       "    }\n",
       "</style>\n",
       "<table border=\"1\" class=\"dataframe\">\n",
       "  <thead>\n",
       "    <tr style=\"text-align: right;\">\n",
       "      <th></th>\n",
       "      <th>name</th>\n",
       "      <th>age</th>\n",
       "      <th>team</th>\n",
       "      <th>nationality</th>\n",
       "    </tr>\n",
       "  </thead>\n",
       "  <tbody>\n",
       "    <tr>\n",
       "      <th>17</th>\n",
       "      <td>Toni Kroos</td>\n",
       "      <td>30</td>\n",
       "      <td>Real Madrid</td>\n",
       "      <td>Germany</td>\n",
       "    </tr>\n",
       "    <tr>\n",
       "      <th>18</th>\n",
       "      <td>Luka Modric</td>\n",
       "      <td>34</td>\n",
       "      <td>Real Madrid</td>\n",
       "      <td>Croatia</td>\n",
       "    </tr>\n",
       "    <tr>\n",
       "      <th>45</th>\n",
       "      <td>Parejo</td>\n",
       "      <td>31</td>\n",
       "      <td>Valencia CF</td>\n",
       "      <td>Spain</td>\n",
       "    </tr>\n",
       "    <tr>\n",
       "      <th>57</th>\n",
       "      <td>Frenkie de Jong</td>\n",
       "      <td>23</td>\n",
       "      <td>FC Barcelona</td>\n",
       "      <td>Netherlands</td>\n",
       "    </tr>\n",
       "    <tr>\n",
       "      <th>84</th>\n",
       "      <td>Arthur</td>\n",
       "      <td>23</td>\n",
       "      <td>FC Barcelona</td>\n",
       "      <td>Brazil</td>\n",
       "    </tr>\n",
       "    <tr>\n",
       "      <th>111</th>\n",
       "      <td>Ivan Rakitic</td>\n",
       "      <td>32</td>\n",
       "      <td>FC Barcelona</td>\n",
       "      <td>Croatia</td>\n",
       "    </tr>\n",
       "    <tr>\n",
       "      <th>127</th>\n",
       "      <td>Mateo Kovacic</td>\n",
       "      <td>26</td>\n",
       "      <td>Chelsea</td>\n",
       "      <td>Croatia</td>\n",
       "    </tr>\n",
       "    <tr>\n",
       "      <th>131</th>\n",
       "      <td>Allan</td>\n",
       "      <td>29</td>\n",
       "      <td>Napoli</td>\n",
       "      <td>Brazil</td>\n",
       "    </tr>\n",
       "    <tr>\n",
       "      <th>155</th>\n",
       "      <td>João Moutinho</td>\n",
       "      <td>33</td>\n",
       "      <td>Wolverhampton Wanderers</td>\n",
       "      <td>Portugal</td>\n",
       "    </tr>\n",
       "    <tr>\n",
       "      <th>161</th>\n",
       "      <td>Fabián</td>\n",
       "      <td>24</td>\n",
       "      <td>Napoli</td>\n",
       "      <td>Spain</td>\n",
       "    </tr>\n",
       "  </tbody>\n",
       "</table>\n",
       "</div>"
      ],
      "text/plain": [
       "                name  age                      team  nationality\n",
       "17        Toni Kroos   30              Real Madrid       Germany\n",
       "18       Luka Modric   34              Real Madrid       Croatia\n",
       "45            Parejo   31              Valencia CF         Spain\n",
       "57   Frenkie de Jong   23             FC Barcelona   Netherlands\n",
       "84            Arthur   23             FC Barcelona        Brazil\n",
       "111     Ivan Rakitic   32             FC Barcelona       Croatia\n",
       "127    Mateo Kovacic   26                  Chelsea       Croatia\n",
       "131            Allan   29                   Napoli        Brazil\n",
       "155    João Moutinho   33  Wolverhampton Wanderers      Portugal\n",
       "161           Fabián   24                   Napoli         Spain"
      ]
     },
     "execution_count": 43,
     "metadata": {},
     "output_type": "execute_result"
    }
   ],
   "source": [
    "data[data['position'] == 'CM'][['name', 'age', 'team', 'nationality']].head(10)"
   ]
  },
  {
   "cell_type": "markdown",
   "metadata": {},
   "source": [
    "### Strikers"
   ]
  },
  {
   "cell_type": "code",
   "execution_count": 44,
   "metadata": {},
   "outputs": [
    {
     "data": {
      "text/html": [
       "<div>\n",
       "<style scoped>\n",
       "    .dataframe tbody tr th:only-of-type {\n",
       "        vertical-align: middle;\n",
       "    }\n",
       "\n",
       "    .dataframe tbody tr th {\n",
       "        vertical-align: top;\n",
       "    }\n",
       "\n",
       "    .dataframe thead th {\n",
       "        text-align: right;\n",
       "    }\n",
       "</style>\n",
       "<table border=\"1\" class=\"dataframe\">\n",
       "  <thead>\n",
       "    <tr style=\"text-align: right;\">\n",
       "      <th></th>\n",
       "      <th>name</th>\n",
       "      <th>age</th>\n",
       "      <th>team</th>\n",
       "      <th>nationality</th>\n",
       "    </tr>\n",
       "  </thead>\n",
       "  <tbody>\n",
       "    <tr>\n",
       "      <th>6</th>\n",
       "      <td>Robert Lewandowski</td>\n",
       "      <td>31</td>\n",
       "      <td>FC Bayern München</td>\n",
       "      <td>Poland</td>\n",
       "    </tr>\n",
       "    <tr>\n",
       "      <th>12</th>\n",
       "      <td>Sergio Agüero</td>\n",
       "      <td>32</td>\n",
       "      <td>Manchester City</td>\n",
       "      <td>Argentina</td>\n",
       "    </tr>\n",
       "    <tr>\n",
       "      <th>15</th>\n",
       "      <td>Harry Kane</td>\n",
       "      <td>27</td>\n",
       "      <td>Tottenham Hotspur</td>\n",
       "      <td>England</td>\n",
       "    </tr>\n",
       "    <tr>\n",
       "      <th>19</th>\n",
       "      <td>Luis Suárez</td>\n",
       "      <td>33</td>\n",
       "      <td>FC Barcelona</td>\n",
       "      <td>Uruguay</td>\n",
       "    </tr>\n",
       "    <tr>\n",
       "      <th>43</th>\n",
       "      <td>Ciro Immobile</td>\n",
       "      <td>30</td>\n",
       "      <td>Lazio</td>\n",
       "      <td>Italy</td>\n",
       "    </tr>\n",
       "    <tr>\n",
       "      <th>62</th>\n",
       "      <td>Timo Werner</td>\n",
       "      <td>24</td>\n",
       "      <td>RB Leipzig</td>\n",
       "      <td>Germany</td>\n",
       "    </tr>\n",
       "    <tr>\n",
       "      <th>64</th>\n",
       "      <td>Jamie Vardy</td>\n",
       "      <td>33</td>\n",
       "      <td>Leicester City</td>\n",
       "      <td>England</td>\n",
       "    </tr>\n",
       "    <tr>\n",
       "      <th>69</th>\n",
       "      <td>Mauro Icardi</td>\n",
       "      <td>27</td>\n",
       "      <td>Paris Saint-Germain</td>\n",
       "      <td>Argentina</td>\n",
       "    </tr>\n",
       "    <tr>\n",
       "      <th>72</th>\n",
       "      <td>Romelu Lukaku</td>\n",
       "      <td>27</td>\n",
       "      <td>Inter</td>\n",
       "      <td>Belgium</td>\n",
       "    </tr>\n",
       "    <tr>\n",
       "      <th>78</th>\n",
       "      <td>Edinson Cavani</td>\n",
       "      <td>33</td>\n",
       "      <td>Paris Saint-Germain</td>\n",
       "      <td>Uruguay</td>\n",
       "    </tr>\n",
       "  </tbody>\n",
       "</table>\n",
       "</div>"
      ],
      "text/plain": [
       "                  name  age                  team nationality\n",
       "6   Robert Lewandowski   31    FC Bayern München       Poland\n",
       "12       Sergio Agüero   32      Manchester City    Argentina\n",
       "15          Harry Kane   27    Tottenham Hotspur      England\n",
       "19         Luis Suárez   33         FC Barcelona      Uruguay\n",
       "43       Ciro Immobile   30                Lazio        Italy\n",
       "62         Timo Werner   24           RB Leipzig      Germany\n",
       "64         Jamie Vardy   33       Leicester City      England\n",
       "69        Mauro Icardi   27  Paris Saint-Germain    Argentina\n",
       "72       Romelu Lukaku   27                Inter      Belgium\n",
       "78      Edinson Cavani   33  Paris Saint-Germain      Uruguay"
      ]
     },
     "execution_count": 44,
     "metadata": {},
     "output_type": "execute_result"
    }
   ],
   "source": [
    "data[data['position'] == 'ST'][['name', 'age', 'team', 'nationality']].head(10)"
   ]
  },
  {
   "cell_type": "markdown",
   "metadata": {},
   "source": [
    "### Goalkeepers"
   ]
  },
  {
   "cell_type": "code",
   "execution_count": 45,
   "metadata": {},
   "outputs": [
    {
     "data": {
      "text/html": [
       "<div>\n",
       "<style scoped>\n",
       "    .dataframe tbody tr th:only-of-type {\n",
       "        vertical-align: middle;\n",
       "    }\n",
       "\n",
       "    .dataframe tbody tr th {\n",
       "        vertical-align: top;\n",
       "    }\n",
       "\n",
       "    .dataframe thead th {\n",
       "        text-align: right;\n",
       "    }\n",
       "</style>\n",
       "<table border=\"1\" class=\"dataframe\">\n",
       "  <thead>\n",
       "    <tr style=\"text-align: right;\">\n",
       "      <th></th>\n",
       "      <th>name</th>\n",
       "      <th>age</th>\n",
       "      <th>team</th>\n",
       "      <th>nationality</th>\n",
       "    </tr>\n",
       "  </thead>\n",
       "  <tbody>\n",
       "    <tr>\n",
       "      <th>4</th>\n",
       "      <td>Jan Oblak</td>\n",
       "      <td>27</td>\n",
       "      <td>Atlético Madrid</td>\n",
       "      <td>Slovenia</td>\n",
       "    </tr>\n",
       "    <tr>\n",
       "      <th>8</th>\n",
       "      <td>Alisson</td>\n",
       "      <td>27</td>\n",
       "      <td>Liverpool</td>\n",
       "      <td>Brazil</td>\n",
       "    </tr>\n",
       "    <tr>\n",
       "      <th>11</th>\n",
       "      <td>Marc-André ter Stegen</td>\n",
       "      <td>28</td>\n",
       "      <td>FC Barcelona</td>\n",
       "      <td>Germany</td>\n",
       "    </tr>\n",
       "    <tr>\n",
       "      <th>20</th>\n",
       "      <td>Manuel Neuer</td>\n",
       "      <td>34</td>\n",
       "      <td>FC Bayern München</td>\n",
       "      <td>Germany</td>\n",
       "    </tr>\n",
       "    <tr>\n",
       "      <th>22</th>\n",
       "      <td>Ederson</td>\n",
       "      <td>26</td>\n",
       "      <td>Manchester City</td>\n",
       "      <td>Brazil</td>\n",
       "    </tr>\n",
       "    <tr>\n",
       "      <th>27</th>\n",
       "      <td>De Gea</td>\n",
       "      <td>29</td>\n",
       "      <td>Manchester United</td>\n",
       "      <td>Spain</td>\n",
       "    </tr>\n",
       "    <tr>\n",
       "      <th>28</th>\n",
       "      <td>Thibaut Courtois</td>\n",
       "      <td>28</td>\n",
       "      <td>Real Madrid</td>\n",
       "      <td>Belgium</td>\n",
       "    </tr>\n",
       "    <tr>\n",
       "      <th>32</th>\n",
       "      <td>Samir Handanovic</td>\n",
       "      <td>36</td>\n",
       "      <td>Inter</td>\n",
       "      <td>Slovenia</td>\n",
       "    </tr>\n",
       "    <tr>\n",
       "      <th>42</th>\n",
       "      <td>Keylor Navas</td>\n",
       "      <td>33</td>\n",
       "      <td>Paris Saint-Germain</td>\n",
       "      <td>Costa Rica</td>\n",
       "    </tr>\n",
       "    <tr>\n",
       "      <th>47</th>\n",
       "      <td>Wojciech Szczesny</td>\n",
       "      <td>30</td>\n",
       "      <td>Juventus</td>\n",
       "      <td>Poland</td>\n",
       "    </tr>\n",
       "  </tbody>\n",
       "</table>\n",
       "</div>"
      ],
      "text/plain": [
       "                     name  age                  team nationality\n",
       "4               Jan Oblak   27      Atlético Madrid     Slovenia\n",
       "8                 Alisson   27            Liverpool       Brazil\n",
       "11  Marc-André ter Stegen   28         FC Barcelona      Germany\n",
       "20           Manuel Neuer   34    FC Bayern München      Germany\n",
       "22                Ederson   26      Manchester City       Brazil\n",
       "27                 De Gea   29    Manchester United        Spain\n",
       "28       Thibaut Courtois   28          Real Madrid      Belgium\n",
       "32       Samir Handanovic   36                Inter     Slovenia\n",
       "42           Keylor Navas   33  Paris Saint-Germain   Costa Rica\n",
       "47      Wojciech Szczesny   30             Juventus       Poland"
      ]
     },
     "execution_count": 45,
     "metadata": {},
     "output_type": "execute_result"
    }
   ],
   "source": [
    "data[data['position'] == 'GK'][['name', 'age', 'team', 'nationality']].head(10)"
   ]
  },
  {
   "cell_type": "markdown",
   "metadata": {},
   "source": [
    "## Correlation between the columns"
   ]
  },
  {
   "cell_type": "code",
   "execution_count": 47,
   "metadata": {},
   "outputs": [
    {
     "data": {
      "image/png": "[encoded data removed]",
      "text/plain": [
       "<Figure size 864x576 with 2 Axes>"
      ]
     },
     "metadata": {},
     "output_type": "display_data"
    }
   ],
   "source": [
    "plt.figure(figsize=(12,8))\n",
    "sns.heatmap(data[['age', 'nationality', 'overall', 'potential', 'team', 'hits', 'position']].corr(), annot = True)\n",
    "plt.title('Overall relation between columns of the Dataset', fontsize = 20)\n",
    "plt.show()"
   ]
  },
  {
   "cell_type": "markdown",
   "metadata": {},
   "source": [
    " ## Method to check the  individual player information"
   ]
  },
  {
   "cell_type": "code",
   "execution_count": 60,
   "metadata": {},
   "outputs": [],
   "source": [
    "def player(x):\n",
    "    return data.loc[data['name']==x]"
   ]
  },
  {
   "cell_type": "markdown",
   "metadata": {},
   "source": [
    "## Method to check the information of any country's football team"
   ]
  },
  {
   "cell_type": "code",
   "execution_count": 61,
   "metadata": {},
   "outputs": [],
   "source": [
    "def country(x): \n",
    "    return data[data['nationality'] == x][['name','overall','potential','position','hits','age','team']]"
   ]
  },
  {
   "cell_type": "markdown",
   "metadata": {},
   "source": [
    "## Method to check the the club's player details"
   ]
  },
  {
   "cell_type": "code",
   "execution_count": 62,
   "metadata": {},
   "outputs": [],
   "source": [
    "def club(x): \n",
    "    return data[data['team'] == x][['name','overall','potential','position','hits','age']]"
   ]
  },
  {
   "cell_type": "markdown",
   "metadata": {},
   "source": [
    "## Method to get players with similar overall ratings"
   ]
  },
  {
   "cell_type": "code",
   "execution_count": 63,
   "metadata": {},
   "outputs": [],
   "source": [
    "def overall(x): \n",
    "        return data[data['overall'] == x][['name','overall','potential','position','hits','age','team']]"
   ]
  },
  {
   "cell_type": "code",
   "execution_count": 64,
   "metadata": {},
   "outputs": [
    {
     "data": {
      "text/html": [
       "<div>\n",
       "<style scoped>\n",
       "    .dataframe tbody tr th:only-of-type {\n",
       "        vertical-align: middle;\n",
       "    }\n",
       "\n",
       "    .dataframe tbody tr th {\n",
       "        vertical-align: top;\n",
       "    }\n",
       "\n",
       "    .dataframe thead th {\n",
       "        text-align: right;\n",
       "    }\n",
       "</style>\n",
       "<table border=\"1\" class=\"dataframe\">\n",
       "  <thead>\n",
       "    <tr style=\"text-align: right;\">\n",
       "      <th></th>\n",
       "      <th>player_id</th>\n",
       "      <th>name</th>\n",
       "      <th>nationality</th>\n",
       "      <th>position</th>\n",
       "      <th>overall</th>\n",
       "      <th>age</th>\n",
       "      <th>hits</th>\n",
       "      <th>potential</th>\n",
       "      <th>team</th>\n",
       "    </tr>\n",
       "  </thead>\n",
       "  <tbody>\n",
       "    <tr>\n",
       "      <th>0</th>\n",
       "      <td>158023</td>\n",
       "      <td>Lionel Messi</td>\n",
       "      <td>Argentina</td>\n",
       "      <td>ST|CF|RW</td>\n",
       "      <td>94</td>\n",
       "      <td>33</td>\n",
       "      <td>299</td>\n",
       "      <td>94</td>\n",
       "      <td>FC Barcelona</td>\n",
       "    </tr>\n",
       "  </tbody>\n",
       "</table>\n",
       "</div>"
      ],
      "text/plain": [
       "   player_id          name nationality  position  overall  age  hits  \\\n",
       "0     158023  Lionel Messi   Argentina  ST|CF|RW       94   33   299   \n",
       "\n",
       "   potential           team  \n",
       "0         94  FC Barcelona   "
      ]
     },
     "execution_count": 64,
     "metadata": {},
     "output_type": "execute_result"
    }
   ],
   "source": [
    "player('Lionel Messi')"
   ]
  },
  {
   "cell_type": "code",
   "execution_count": 73,
   "metadata": {},
   "outputs": [
    {
     "data": {
      "text/html": [
       "<div>\n",
       "<style scoped>\n",
       "    .dataframe tbody tr th:only-of-type {\n",
       "        vertical-align: middle;\n",
       "    }\n",
       "\n",
       "    .dataframe tbody tr th {\n",
       "        vertical-align: top;\n",
       "    }\n",
       "\n",
       "    .dataframe thead th {\n",
       "        text-align: right;\n",
       "    }\n",
       "</style>\n",
       "<table border=\"1\" class=\"dataframe\">\n",
       "  <thead>\n",
       "    <tr style=\"text-align: right;\">\n",
       "      <th></th>\n",
       "      <th>name</th>\n",
       "      <th>overall</th>\n",
       "      <th>potential</th>\n",
       "      <th>position</th>\n",
       "      <th>hits</th>\n",
       "      <th>age</th>\n",
       "      <th>team</th>\n",
       "    </tr>\n",
       "  </thead>\n",
       "  <tbody>\n",
       "    <tr>\n",
       "      <th>11885</th>\n",
       "      <td>Gajodara Chatterjee</td>\n",
       "      <td>64</td>\n",
       "      <td>64</td>\n",
       "      <td>GK</td>\n",
       "      <td>1</td>\n",
       "      <td>35</td>\n",
       "      <td>Free Agents</td>\n",
       "    </tr>\n",
       "    <tr>\n",
       "      <th>13068</th>\n",
       "      <td>Bhadrashree Raj</td>\n",
       "      <td>63</td>\n",
       "      <td>63</td>\n",
       "      <td>RB</td>\n",
       "      <td>1</td>\n",
       "      <td>32</td>\n",
       "      <td>Free Agents</td>\n",
       "    </tr>\n",
       "    <tr>\n",
       "      <th>13069</th>\n",
       "      <td>Prakul Bhatt</td>\n",
       "      <td>63</td>\n",
       "      <td>63</td>\n",
       "      <td>ST</td>\n",
       "      <td>3</td>\n",
       "      <td>35</td>\n",
       "      <td>Free Agents</td>\n",
       "    </tr>\n",
       "    <tr>\n",
       "      <th>14135</th>\n",
       "      <td>Anvit Swaminathan</td>\n",
       "      <td>62</td>\n",
       "      <td>62</td>\n",
       "      <td>LM|CAM</td>\n",
       "      <td>2</td>\n",
       "      <td>28</td>\n",
       "      <td>Free Agents</td>\n",
       "    </tr>\n",
       "    <tr>\n",
       "      <th>14136</th>\n",
       "      <td>Hantidev Bhandari</td>\n",
       "      <td>62</td>\n",
       "      <td>62</td>\n",
       "      <td>RM|LM</td>\n",
       "      <td>0</td>\n",
       "      <td>31</td>\n",
       "      <td>Free Agents</td>\n",
       "    </tr>\n",
       "    <tr>\n",
       "      <th>14137</th>\n",
       "      <td>Abhimoda Chakraborty</td>\n",
       "      <td>62</td>\n",
       "      <td>62</td>\n",
       "      <td>CB</td>\n",
       "      <td>0</td>\n",
       "      <td>34</td>\n",
       "      <td>Free Agents</td>\n",
       "    </tr>\n",
       "    <tr>\n",
       "      <th>15058</th>\n",
       "      <td>Devindra Pillai</td>\n",
       "      <td>61</td>\n",
       "      <td>61</td>\n",
       "      <td>RM|RW</td>\n",
       "      <td>0</td>\n",
       "      <td>32</td>\n",
       "      <td>Free Agents</td>\n",
       "    </tr>\n",
       "    <tr>\n",
       "      <th>15824</th>\n",
       "      <td>Anuvinda Khurana</td>\n",
       "      <td>60</td>\n",
       "      <td>62</td>\n",
       "      <td>CB</td>\n",
       "      <td>2</td>\n",
       "      <td>27</td>\n",
       "      <td>Free Agents</td>\n",
       "    </tr>\n",
       "    <tr>\n",
       "      <th>15825</th>\n",
       "      <td>Adit Ginti</td>\n",
       "      <td>60</td>\n",
       "      <td>62</td>\n",
       "      <td>LB|LM</td>\n",
       "      <td>3</td>\n",
       "      <td>26</td>\n",
       "      <td>Free Agents</td>\n",
       "    </tr>\n",
       "    <tr>\n",
       "      <th>15826</th>\n",
       "      <td>Remil Nadkarni</td>\n",
       "      <td>60</td>\n",
       "      <td>60</td>\n",
       "      <td>CAM|CF</td>\n",
       "      <td>1</td>\n",
       "      <td>34</td>\n",
       "      <td>Free Agents</td>\n",
       "    </tr>\n",
       "  </tbody>\n",
       "</table>\n",
       "</div>"
      ],
      "text/plain": [
       "                       name  overall  potential position  hits  age  \\\n",
       "11885   Gajodara Chatterjee       64         64       GK     1   35   \n",
       "13068       Bhadrashree Raj       63         63       RB     1   32   \n",
       "13069          Prakul Bhatt       63         63       ST     3   35   \n",
       "14135     Anvit Swaminathan       62         62   LM|CAM     2   28   \n",
       "14136     Hantidev Bhandari       62         62    RM|LM     0   31   \n",
       "14137  Abhimoda Chakraborty       62         62       CB     0   34   \n",
       "15058       Devindra Pillai       61         61    RM|RW     0   32   \n",
       "15824      Anuvinda Khurana       60         62       CB     2   27   \n",
       "15825            Adit Ginti       60         62    LB|LM     3   26   \n",
       "15826        Remil Nadkarni       60         60   CAM|CF     1   34   \n",
       "\n",
       "              team  \n",
       "11885  Free Agents  \n",
       "13068  Free Agents  \n",
       "13069  Free Agents  \n",
       "14135  Free Agents  \n",
       "14136  Free Agents  \n",
       "14137  Free Agents  \n",
       "15058  Free Agents  \n",
       "15824  Free Agents  \n",
       "15825  Free Agents  \n",
       "15826  Free Agents  "
      ]
     },
     "execution_count": 73,
     "metadata": {},
     "output_type": "execute_result"
    }
   ],
   "source": [
    "country('India').head(10)"
   ]
  },
  {
   "cell_type": "code",
   "execution_count": 72,
   "metadata": {},
   "outputs": [
    {
     "data": {
      "text/html": [
       "<div>\n",
       "<style scoped>\n",
       "    .dataframe tbody tr th:only-of-type {\n",
       "        vertical-align: middle;\n",
       "    }\n",
       "\n",
       "    .dataframe tbody tr th {\n",
       "        vertical-align: top;\n",
       "    }\n",
       "\n",
       "    .dataframe thead th {\n",
       "        text-align: right;\n",
       "    }\n",
       "</style>\n",
       "<table border=\"1\" class=\"dataframe\">\n",
       "  <thead>\n",
       "    <tr style=\"text-align: right;\">\n",
       "      <th></th>\n",
       "      <th>name</th>\n",
       "      <th>overall</th>\n",
       "      <th>potential</th>\n",
       "      <th>position</th>\n",
       "      <th>hits</th>\n",
       "      <th>age</th>\n",
       "    </tr>\n",
       "  </thead>\n",
       "  <tbody>\n",
       "    <tr>\n",
       "      <th>0</th>\n",
       "      <td>Lionel Messi</td>\n",
       "      <td>94</td>\n",
       "      <td>94</td>\n",
       "      <td>ST|CF|RW</td>\n",
       "      <td>299</td>\n",
       "      <td>33</td>\n",
       "    </tr>\n",
       "    <tr>\n",
       "      <th>11</th>\n",
       "      <td>Marc-André ter Stegen</td>\n",
       "      <td>90</td>\n",
       "      <td>93</td>\n",
       "      <td>GK</td>\n",
       "      <td>68</td>\n",
       "      <td>28</td>\n",
       "    </tr>\n",
       "    <tr>\n",
       "      <th>16</th>\n",
       "      <td>Antoine Griezmann</td>\n",
       "      <td>89</td>\n",
       "      <td>89</td>\n",
       "      <td>ST|CF|LW</td>\n",
       "      <td>66</td>\n",
       "      <td>29</td>\n",
       "    </tr>\n",
       "    <tr>\n",
       "      <th>19</th>\n",
       "      <td>Luis Suárez</td>\n",
       "      <td>89</td>\n",
       "      <td>89</td>\n",
       "      <td>ST</td>\n",
       "      <td>54</td>\n",
       "      <td>33</td>\n",
       "    </tr>\n",
       "    <tr>\n",
       "      <th>29</th>\n",
       "      <td>Sergio Busquets</td>\n",
       "      <td>88</td>\n",
       "      <td>88</td>\n",
       "      <td>CDM</td>\n",
       "      <td>34</td>\n",
       "      <td>32</td>\n",
       "    </tr>\n",
       "    <tr>\n",
       "      <th>33</th>\n",
       "      <td>Piqué</td>\n",
       "      <td>88</td>\n",
       "      <td>88</td>\n",
       "      <td>CB</td>\n",
       "      <td>41</td>\n",
       "      <td>33</td>\n",
       "    </tr>\n",
       "    <tr>\n",
       "      <th>57</th>\n",
       "      <td>Frenkie de Jong</td>\n",
       "      <td>86</td>\n",
       "      <td>92</td>\n",
       "      <td>CM</td>\n",
       "      <td>126</td>\n",
       "      <td>23</td>\n",
       "    </tr>\n",
       "    <tr>\n",
       "      <th>59</th>\n",
       "      <td>Clément Lenglet</td>\n",
       "      <td>86</td>\n",
       "      <td>90</td>\n",
       "      <td>CB</td>\n",
       "      <td>58</td>\n",
       "      <td>25</td>\n",
       "    </tr>\n",
       "    <tr>\n",
       "      <th>74</th>\n",
       "      <td>Jordi Alba</td>\n",
       "      <td>86</td>\n",
       "      <td>86</td>\n",
       "      <td>LB</td>\n",
       "      <td>35</td>\n",
       "      <td>31</td>\n",
       "    </tr>\n",
       "    <tr>\n",
       "      <th>84</th>\n",
       "      <td>Arthur</td>\n",
       "      <td>85</td>\n",
       "      <td>90</td>\n",
       "      <td>CM</td>\n",
       "      <td>64</td>\n",
       "      <td>23</td>\n",
       "    </tr>\n",
       "  </tbody>\n",
       "</table>\n",
       "</div>"
      ],
      "text/plain": [
       "                     name  overall  potential  position  hits  age\n",
       "0            Lionel Messi       94         94  ST|CF|RW   299   33\n",
       "11  Marc-André ter Stegen       90         93        GK    68   28\n",
       "16      Antoine Griezmann       89         89  ST|CF|LW    66   29\n",
       "19            Luis Suárez       89         89        ST    54   33\n",
       "29        Sergio Busquets       88         88       CDM    34   32\n",
       "33                  Piqué       88         88        CB    41   33\n",
       "57        Frenkie de Jong       86         92        CM   126   23\n",
       "59        Clément Lenglet       86         90        CB    58   25\n",
       "74             Jordi Alba       86         86        LB    35   31\n",
       "84                 Arthur       85         90        CM    64   23"
      ]
     },
     "execution_count": 72,
     "metadata": {},
     "output_type": "execute_result"
    }
   ],
   "source": [
    "club('FC Barcelona').head(10)"
   ]
  },
  {
   "cell_type": "code",
   "execution_count": 74,
   "metadata": {},
   "outputs": [
    {
     "data": {
      "text/html": [
       "<div>\n",
       "<style scoped>\n",
       "    .dataframe tbody tr th:only-of-type {\n",
       "        vertical-align: middle;\n",
       "    }\n",
       "\n",
       "    .dataframe tbody tr th {\n",
       "        vertical-align: top;\n",
       "    }\n",
       "\n",
       "    .dataframe thead th {\n",
       "        text-align: right;\n",
       "    }\n",
       "</style>\n",
       "<table border=\"1\" class=\"dataframe\">\n",
       "  <thead>\n",
       "    <tr style=\"text-align: right;\">\n",
       "      <th></th>\n",
       "      <th>name</th>\n",
       "      <th>overall</th>\n",
       "      <th>potential</th>\n",
       "      <th>position</th>\n",
       "      <th>hits</th>\n",
       "      <th>age</th>\n",
       "      <th>team</th>\n",
       "    </tr>\n",
       "  </thead>\n",
       "  <tbody>\n",
       "    <tr>\n",
       "      <th>1</th>\n",
       "      <td>Cristiano Ronaldo</td>\n",
       "      <td>93</td>\n",
       "      <td>93</td>\n",
       "      <td>ST|LW</td>\n",
       "      <td>276</td>\n",
       "      <td>35</td>\n",
       "      <td>Juventus</td>\n",
       "    </tr>\n",
       "  </tbody>\n",
       "</table>\n",
       "</div>"
      ],
      "text/plain": [
       "                name  overall  potential position  hits  age      team\n",
       "1  Cristiano Ronaldo       93         93    ST|LW   276   35  Juventus"
      ]
     },
     "execution_count": 74,
     "metadata": {},
     "output_type": "execute_result"
    }
   ],
   "source": [
    "overall(93)"
   ]
  },
  {
   "cell_type": "markdown",
   "metadata": {},
   "source": [
    "## Understanding the relation between Age and Performance"
   ]
  },
  {
   "cell_type": "code",
   "execution_count": 77,
   "metadata": {},
   "outputs": [
    {
     "data": {
      "image/png": "[encoded data removed]",
      "text/plain": [
       "<Figure size 864x576 with 1 Axes>"
      ]
     },
     "metadata": {},
     "output_type": "display_data"
    }
   ],
   "source": [
    "plt.figure(figsize=(12,8)) \n",
    "sns.lineplot(data['overall'], data['age'])\n",
    "plt.title('Overall vs Age', fontsize = 20)\n",
    "plt.show()"
   ]
  },
  {
   "cell_type": "markdown",
   "metadata": {},
   "source": [
    "## Relation between Potential and Age"
   ]
  },
  {
   "cell_type": "code",
   "execution_count": 78,
   "metadata": {},
   "outputs": [
    {
     "data": {
      "image/png": "[encoded data removed]",
      "text/plain": [
       "<Figure size 864x576 with 1 Axes>"
      ]
     },
     "metadata": {},
     "output_type": "display_data"
    }
   ],
   "source": [
    "plt.figure(figsize=(12,8)) \n",
    "sns.lineplot(data['potential'], data['age'])\n",
    "plt.title('Potential vs Age', fontsize = 20)\n",
    "plt.show()"
   ]
  },
  {
   "cell_type": "code",
   "execution_count": null,
   "metadata": {},
   "outputs": [],
   "source": []
  }
 ],
 "metadata": {
  "kernelspec": {
   "display_name": "Python 3",
   "language": "python",
   "name": "python3"
  },
  "language_info": {
   "codemirror_mode": {
    "name": "ipython",
    "version": 3
   },
   "file_extension": ".py",
   "mimetype": "text/x-python",
   "name": "python",
   "nbconvert_exporter": "python",
   "pygments_lexer": "ipython3",
   "version": "3.8.5"
  }
 },
 "nbformat": 4,
 "nbformat_minor": 4
}
