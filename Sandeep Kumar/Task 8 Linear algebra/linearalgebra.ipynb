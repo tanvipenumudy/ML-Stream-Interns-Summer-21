{
 "cells": [
  {
   "cell_type": "code",
   "execution_count": 62,
   "source": [
    "import numpy as np\r\n",
    "import matplotlib.pyplot as plt"
   ],
   "outputs": [],
   "metadata": {}
  },
  {
   "cell_type": "code",
   "execution_count": 63,
   "source": [
    "X=np.array([[4,5,7,10],[19,11,13,11],[56,80,90,12]])\r\n",
    "print(X.shape)\r\n",
    "# Here -1 acts as a wildcard it will get calculated itself and replaced\r\n",
    "print(X.reshape((2,-1)))\r\n",
    "print(X.reshape((-1,1)))"
   ],
   "outputs": [
    {
     "output_type": "stream",
     "name": "stdout",
     "text": [
      "(3, 4)\n",
      "[[ 4  5  7 10 19 11]\n",
      " [13 11 56 80 90 12]]\n",
      "[[ 4]\n",
      " [ 5]\n",
      " [ 7]\n",
      " [10]\n",
      " [19]\n",
      " [11]\n",
      " [13]\n",
      " [11]\n",
      " [56]\n",
      " [80]\n",
      " [90]\n",
      " [12]]\n"
     ]
    }
   ],
   "metadata": {}
  },
  {
   "cell_type": "code",
   "execution_count": 64,
   "source": [
    "# Tensors \r\n",
    "\r\n",
    "T=np.ones((5,5,3),dtype='uint8')\r\n",
    "T[ 1 , 1 , 2 ]=255\r\n",
    "T[ : , : , 0]=255\r\n",
    "plt.imshow(T)\r\n",
    "plt.show()"
   ],
   "outputs": [
    {
     "output_type": "display_data",
     "data": {
      "text/plain": [
       "<Figure size 432x288 with 1 Axes>"
      ],
      "image/png": "[encoded data removed]"
     },
     "metadata": {
      "needs_background": "light"
     }
    }
   ],
   "metadata": {}
  },
  {
   "cell_type": "code",
   "execution_count": 65,
   "source": [
    "# Transpose of Tensors \r\n",
    "\r\n",
    "T=np.ones((50,25,3),dtype='uint8')\r\n",
    "T[ : , : , 0]=255\r\n",
    "print(T[0][0])\r\n",
    "print(T.shape)\r\n",
    "T=np.transpose(T,axes=(1,0,2))\r\n",
    "print(T.shape)\r\n",
    "plt.imshow(T)\r\n",
    "plt.show()\r\n",
    "\r\n",
    "# In an image when we store channels at the last it is known as channels last \r\n",
    "# and when we store it in the beginning it is known as channel's first"
   ],
   "outputs": [
    {
     "output_type": "stream",
     "name": "stdout",
     "text": [
      "[255   1   1]\n",
      "(50, 25, 3)\n",
      "(25, 50, 3)\n"
     ]
    },
    {
     "output_type": "display_data",
     "data": {
      "text/plain": [
       "<Figure size 432x288 with 1 Axes>"
      ],
      "image/png": "[encoded data removed]"
     },
     "metadata": {
      "needs_background": "light"
     }
    }
   ],
   "metadata": {}
  },
  {
   "cell_type": "code",
   "execution_count": 66,
   "source": [
    "# BroadCasting\r\n",
    "x=np.array([1,2,3,4])\r\n",
    "print(x)\r\n",
    "print(x+4)"
   ],
   "outputs": [
    {
     "output_type": "stream",
     "name": "stdout",
     "text": [
      "[1 2 3 4]\n",
      "[5 6 7 8]\n"
     ]
    }
   ],
   "metadata": {}
  },
  {
   "cell_type": "code",
   "execution_count": 67,
   "source": [
    "X=np.array([[10,20,30,40],[50,60,70,80]])\r\n",
    "print(X+x)"
   ],
   "outputs": [
    {
     "output_type": "stream",
     "name": "stdout",
     "text": [
      "[[11 22 33 44]\n",
      " [51 62 73 84]]\n"
     ]
    }
   ],
   "metadata": {}
  },
  {
   "cell_type": "code",
   "execution_count": 68,
   "source": [
    "# Two types of multiplication\r\n",
    "# 1. Element wise multiplication : Hadamard Product\r\n",
    "# 2. Dot Product\r\n",
    "A=np.array([[1,2],[3,4]])\r\n",
    "B=np.array([[0,2],[3,2]])\r\n",
    "A*B"
   ],
   "outputs": [
    {
     "output_type": "execute_result",
     "data": {
      "text/plain": [
       "array([[0, 4],\n",
       "       [9, 8]])"
      ]
     },
     "metadata": {},
     "execution_count": 68
    }
   ],
   "metadata": {}
  },
  {
   "cell_type": "code",
   "execution_count": 69,
   "source": [
    "np.dot(A,B)"
   ],
   "outputs": [
    {
     "output_type": "execute_result",
     "data": {
      "text/plain": [
       "array([[ 6,  6],\n",
       "       [12, 14]])"
      ]
     },
     "metadata": {},
     "execution_count": 69
    }
   ],
   "metadata": {}
  },
  {
   "cell_type": "markdown",
   "source": [
    "## Norms\r\n",
    "\r\n",
    "L2 norm is aslo called as Eucladian norm, often denotes as ||x||\r\n",
    "    It can be computed as square root of np.dot(x.T,x)\r\n",
    "    Squared L2 norm is easier to work with as it's dervative is 2 * x\r\n",
    "\r\n",
    "L1 norm is the absolute sum of all members of a vector\r\n",
    "    Useful when difference between 0 and non zero elements are essential\r\n"
   ],
   "metadata": {}
  },
  {
   "cell_type": "code",
   "execution_count": 70,
   "source": [
    "# We can use the linalg class in numpy to work with linear algebra\r\n",
    "\r\n",
    "x=np.array([3,4])\r\n",
    "\r\n",
    "lp2=np.linalg.norm(x)  # By default it gives L2 norm\r\n",
    "lp1=np.linalg.norm(x,ord=1)\r\n",
    "lpinf=np.linalg.norm(x,ord=np.inf)\r\n",
    "print(lpinf)"
   ],
   "outputs": [
    {
     "output_type": "stream",
     "name": "stdout",
     "text": [
      "4.0\n"
     ]
    }
   ],
   "metadata": {}
  },
  {
   "cell_type": "code",
   "execution_count": 71,
   "source": [
    "# To calculate the determinant \r\n",
    "A= np.array([[1,2],[3,4]])\r\n",
    "np.linalg.det(A)"
   ],
   "outputs": [
    {
     "output_type": "execute_result",
     "data": {
      "text/plain": [
       "-2.0000000000000004"
      ]
     },
     "metadata": {},
     "execution_count": 71
    }
   ],
   "metadata": {}
  },
  {
   "cell_type": "code",
   "execution_count": 72,
   "source": [
    "# Inverse\r\n",
    "Ainv=np.linalg.inv(A)\r\n",
    "print(np.dot(A,Ainv))"
   ],
   "outputs": [
    {
     "output_type": "stream",
     "name": "stdout",
     "text": [
      "[[1.00000000e+00 1.11022302e-16]\n",
      " [0.00000000e+00 1.00000000e+00]]\n"
     ]
    }
   ],
   "metadata": {}
  },
  {
   "cell_type": "code",
   "execution_count": 73,
   "source": [
    "# Solve a system of linear equations\r\n",
    "a=np.array([[2,3],[3,1]])\r\n",
    "b=np.array([8,5])\r\n",
    "np.linalg.solve(a,b)"
   ],
   "outputs": [
    {
     "output_type": "execute_result",
     "data": {
      "text/plain": [
       "array([1., 2.])"
      ]
     },
     "metadata": {},
     "execution_count": 73
    }
   ],
   "metadata": {}
  },
  {
   "cell_type": "code",
   "execution_count": null,
   "source": [],
   "outputs": [],
   "metadata": {}
  }
 ],
 "metadata": {
  "orig_nbformat": 4,
  "language_info": {
   "name": "python"
  }
 },
 "nbformat": 4,
 "nbformat_minor": 2
}