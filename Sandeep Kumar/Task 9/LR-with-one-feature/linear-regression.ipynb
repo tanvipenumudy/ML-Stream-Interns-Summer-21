{
 "cells": [
  {
   "cell_type": "code",
   "execution_count": null,
   "metadata": {},
   "outputs": [],
   "source": [
    "import pandas as pd\r\n",
    "import numpy as np\r\n",
    "import matplotlib.pyplot as plt\r\n",
    "import matplotlib.axes as ax\r\n",
    "\r\n",
    "import warnings\r\n",
    "warnings.filterwarnings(\"ignore\")"
   ]
  },
  {
   "cell_type": "code",
   "execution_count": null,
   "metadata": {},
   "outputs": [],
   "source": [
    "data = pd.read_csv('data_for_lr.csv')\n",
    "data.head(10)"
   ]
  },
  {
   "cell_type": "code",
   "execution_count": null,
   "metadata": {},
   "outputs": [],
   "source": [
    "data.info()"
   ]
  },
  {
   "cell_type": "code",
   "execution_count": null,
   "metadata": {},
   "outputs": [],
   "source": [
    "data=data.dropna()\n",
    "data.shape"
   ]
  },
  {
   "cell_type": "code",
   "execution_count": null,
   "metadata": {},
   "outputs": [],
   "source": [
    "train_input=np.array([data.x[0:500]]).reshape(500,1)\n",
    "train_output=np.array([data.y[0:500]]).reshape(500,1)\n",
    "\n",
    "test_input=np.array([data.x[500:700]]).reshape(199,1)\n",
    "test_output=np.array([data.y[500:700]]).reshape(199,1)"
   ]
  },
  {
   "cell_type": "markdown",
   "metadata": {},
   "source": [
    "# Linear Regression"
   ]
  },
  {
   "cell_type": "markdown",
   "metadata": {},
   "source": [
    "## Forward Propagation \n",
    "Means we are calculating the y predicted"
   ]
  },
  {
   "cell_type": "code",
   "execution_count": null,
   "metadata": {},
   "outputs": [],
   "source": [
    "def forward_propagation(train_input,parameters):\r\n",
    "    m=parameters['m']\r\n",
    "    c=parameters['c']\r\n",
    "\r\n",
    "    predictions=np.multiply(m,train_input) + c\r\n",
    "    \r\n",
    "    return predictions   "
   ]
  },
  {
   "cell_type": "markdown",
   "metadata": {},
   "source": [
    "## Cost Function"
   ]
  },
  {
   "cell_type": "code",
   "execution_count": null,
   "metadata": {},
   "outputs": [],
   "source": [
    "def cost_function(predictions,train_output):\n",
    "    cost=np.mean((predictions - train_output)**2)*0.5\n",
    "    return cost"
   ]
  },
  {
   "cell_type": "markdown",
   "metadata": {},
   "source": [
    "## Back Propagation(or Gradient descent algorithm)\n",
    "In this function We are going back and updating the values of m and c"
   ]
  },
  {
   "cell_type": "code",
   "execution_count": null,
   "metadata": {},
   "outputs": [],
   "source": [
    "def backward_propagation(train_input,train_output,predictions):\n",
    "    derivatives = dict()\n",
    "    df=(predictions - train_output)\n",
    "\n",
    "    dm=np.mean(np.multiply(df,train_input))\n",
    "    dc=np.mean(df)\n",
    "    derivatives['dm']=dm\n",
    "    derivatives['dc']=dc\n",
    "    return derivatives"
   ]
  },
  {
   "cell_type": "markdown",
   "metadata": {},
   "source": [
    "## Update Parameters "
   ]
  },
  {
   "cell_type": "code",
   "execution_count": null,
   "metadata": {},
   "outputs": [],
   "source": [
    "def update_parameters(parameters, derivatives, learning_rate):\r\n",
    "    parameters['m']=parameters['m']-learning_rate * derivatives['dm']\r\n",
    "    parameters['c']=parameters['m']-learning_rate * derivatives['dc']\r\n",
    "    return parameters"
   ]
  },
  {
   "cell_type": "markdown",
   "metadata": {},
   "source": [
    "## Training\r\n",
    "\r\n",
    "Sequence of Steps:\r\n",
    "\r\n",
    "- Forward Propagtaion\r\n",
    "- Cost Function\r\n",
    "- Backward Propagation\r\n",
    "- Update Parameters"
   ]
  },
  {
   "cell_type": "code",
   "execution_count": null,
   "metadata": {},
   "outputs": [],
   "source": [
    "def train(train_input,train_output,learning_rate,iters):\r\n",
    "    parameters = dict()\r\n",
    "    parameters['m']=np.random.uniform(0,1)\r\n",
    "    parameters['c']=np.random.uniform(0,1)\r\n",
    "    plt.figure()\r\n",
    "    loss=list()\r\n",
    "    for i in range(iters):\r\n",
    "        predictions = forward_propagation(train_input,parameters)\r\n",
    "        cost=cost_function(predictions,train_output)\r\n",
    "        loss.append(cost)\r\n",
    "        fig, ax = plt.subplots()\r\n",
    "        print(f\"Iteration {i+1}, cost is {cost}\")\r\n",
    "\r\n",
    "        ax.plot(train_input,train_input,'x',label='original result')\r\n",
    "        ax.plot(train_input,predictions,'*',label='predicted result')\r\n",
    "\r\n",
    "        plt.plot(train_input,train_output,'x')\r\n",
    "        plt.plot(train_input,predictions,'*')\r\n",
    "        plt.title(f\"Iteration {i+1}, cost is {cost}\")\r\n",
    "        derivatives=backward_propagation(train_input,train_output,predictions)\r\n",
    "        parameters=update_parameters(parameters,derivatives,learning_rate)\r\n",
    "\r\n",
    "    return parameters,loss\r\n",
    "                   "
   ]
  },
  {
   "cell_type": "code",
   "execution_count": null,
   "metadata": {},
   "outputs": [],
   "source": [
    "parameters, loss=train(train_input,train_output,0.0001,60)"
   ]
  },
  {
   "cell_type": "markdown",
   "metadata": {},
   "source": [
    "# Testing our model !"
   ]
  },
  {
   "cell_type": "code",
   "execution_count": null,
   "metadata": {},
   "outputs": [],
   "source": [
    "test_predictions=parameters['m']* test_input +parameters['c']\r\n",
    "plt.figure()\r\n",
    "plt.plot(test_input,test_output,'+')\r\n",
    "plt.plot(test_input,test_predictions,'.')\r\n",
    "plt.show()"
   ]
  },
  {
   "cell_type": "code",
   "execution_count": null,
   "metadata": {},
   "outputs": [],
   "source": [
    "cost_function(test_predictions,test_output)"
   ]
  },
  {
   "cell_type": "code",
   "execution_count": null,
   "metadata": {},
   "outputs": [],
   "source": []
  }
 ],
 "metadata": {
  "interpreter": {
   "hash": "92c53777c7e45b4084d16b9941c1ff1c739a249f1654c0159592f90e5d117398"
  },
  "kernelspec": {
   "display_name": "Python 3.8.8 64-bit ('base': conda)",
   "name": "python3"
  },
  "language_info": {
   "codemirror_mode": {
    "name": "ipython",
    "version": 3
   },
   "file_extension": ".py",
   "mimetype": "text/x-python",
   "name": "python",
   "nbconvert_exporter": "python",
   "pygments_lexer": "ipython3",
   "version": "3.8.8"
  },
  "orig_nbformat": 4
 },
 "nbformat": 4,
 "nbformat_minor": 2
}