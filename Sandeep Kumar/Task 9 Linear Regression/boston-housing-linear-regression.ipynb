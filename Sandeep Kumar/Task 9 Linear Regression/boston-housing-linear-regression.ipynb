{
 "cells": [
  {
   "cell_type": "code",
   "execution_count": 72,
   "metadata": {},
   "outputs": [],
   "source": [
    "import pandas as pd\r\n",
    "import numpy as np\r\n",
    "import seaborn as sns\r\n",
    "from sklearn.datasets import load_boston"
   ]
  },
  {
   "cell_type": "code",
   "execution_count": 73,
   "metadata": {},
   "outputs": [
    {
     "data": {
      "text/plain": [
       "(506, 14)"
      ]
     },
     "execution_count": 73,
     "metadata": {},
     "output_type": "execute_result"
    }
   ],
   "source": [
    "# boston=sns.load_dataset('boston')\r\n",
    "boston_sklearn=load_boston()\r\n",
    "df=pd.DataFrame(data=boston_sklearn.data)\r\n",
    "df.columns = boston_sklearn.feature_names\r\n",
    "df.head()\r\n",
    "df['PRICE']=boston_sklearn.target\r\n",
    "df.shape"
   ]
  },
  {
   "cell_type": "code",
   "execution_count": 74,
   "metadata": {},
   "outputs": [
    {
     "data": {
      "text/plain": [
       "CRIM       0\n",
       "ZN         0\n",
       "INDUS      0\n",
       "CHAS       0\n",
       "NOX        0\n",
       "RM         0\n",
       "AGE        0\n",
       "DIS        0\n",
       "RAD        0\n",
       "TAX        0\n",
       "PTRATIO    0\n",
       "B          0\n",
       "LSTAT      0\n",
       "PRICE      0\n",
       "dtype: int64"
      ]
     },
     "execution_count": 74,
     "metadata": {},
     "output_type": "execute_result"
    }
   ],
   "source": [
    "df.isnull().sum()"
   ]
  },
  {
   "cell_type": "code",
   "execution_count": 75,
   "metadata": {},
   "outputs": [
    {
     "data": {
      "text/plain": [
       "CRIM       504\n",
       "ZN          26\n",
       "INDUS       76\n",
       "CHAS         2\n",
       "NOX         81\n",
       "RM         446\n",
       "AGE        356\n",
       "DIS        412\n",
       "RAD          9\n",
       "TAX         66\n",
       "PTRATIO     46\n",
       "B          357\n",
       "LSTAT      455\n",
       "PRICE      229\n",
       "dtype: int64"
      ]
     },
     "execution_count": 75,
     "metadata": {},
     "output_type": "execute_result"
    }
   ],
   "source": [
    "df.nunique()"
   ]
  },
  {
   "cell_type": "code",
   "execution_count": 76,
   "metadata": {},
   "outputs": [
    {
     "name": "stdout",
     "output_type": "stream",
     "text": [
      "(506, 13)\n",
      "(506,)\n"
     ]
    },
    {
     "data": {
      "text/plain": [
       "numpy.ndarray"
      ]
     },
     "execution_count": 76,
     "metadata": {},
     "output_type": "execute_result"
    }
   ],
   "source": [
    "X=boston_sklearn.data\r\n",
    "y=boston_sklearn.target\r\n",
    "print(X.shape)\r\n",
    "print(y.shape)\r\n",
    "type(X)"
   ]
  },
  {
   "cell_type": "code",
   "execution_count": 77,
   "metadata": {},
   "outputs": [],
   "source": [
    "# Normalizing the dataset\r\n",
    "means=np.mean(X,axis=0)\r\n",
    "std=np.std(X,axis=0)"
   ]
  },
  {
   "cell_type": "code",
   "execution_count": 78,
   "metadata": {},
   "outputs": [
    {
     "data": {
      "text/plain": [
       "array([[-0.41978194,  0.28482986, -1.2879095 , ..., -1.45900038,\n",
       "         0.44105193, -1.0755623 ],\n",
       "       [-0.41733926, -0.48772236, -0.59338101, ..., -0.30309415,\n",
       "         0.44105193, -0.49243937],\n",
       "       [-0.41734159, -0.48772236, -0.59338101, ..., -0.30309415,\n",
       "         0.39642699, -1.2087274 ],\n",
       "       ...,\n",
       "       [-0.41344658, -0.48772236,  0.11573841, ...,  1.17646583,\n",
       "         0.44105193, -0.98304761],\n",
       "       [-0.40776407, -0.48772236,  0.11573841, ...,  1.17646583,\n",
       "         0.4032249 , -0.86530163],\n",
       "       [-0.41500016, -0.48772236,  0.11573841, ...,  1.17646583,\n",
       "         0.44105193, -0.66905833]])"
      ]
     },
     "execution_count": 78,
     "metadata": {},
     "output_type": "execute_result"
    }
   ],
   "source": [
    "# Normalizing this dataset each future having 0 mean and unit variance\r\n",
    "X=(X-means)/std\r\n",
    "X"
   ]
  },
  {
   "cell_type": "code",
   "execution_count": 79,
   "metadata": {},
   "outputs": [
    {
     "name": "stdout",
     "output_type": "stream",
     "text": [
      "(506, 14)\n"
     ]
    }
   ],
   "source": [
    "# putting ones in the X matrix\r\n",
    "ones=np.ones((X.shape[0],1))\r\n",
    "X=np.hstack((ones,X))\r\n",
    "print(X.shape)"
   ]
  },
  {
   "cell_type": "code",
   "execution_count": 94,
   "metadata": {},
   "outputs": [
    {
     "name": "stdout",
     "output_type": "stream",
     "text": [
      "(420, 14)\n",
      "(420,)\n",
      "(86, 14)\n",
      "(86,)\n"
     ]
    },
    {
     "data": {
      "text/plain": [
       "array([[ 1.        , -0.41978194,  0.28482986, ..., -1.45900038,\n",
       "         0.44105193, -1.0755623 ],\n",
       "       [ 1.        , -0.41733926, -0.48772236, ..., -0.30309415,\n",
       "         0.44105193, -0.49243937],\n",
       "       [ 1.        , -0.41734159, -0.48772236, ..., -0.30309415,\n",
       "         0.39642699, -1.2087274 ],\n",
       "       ...,\n",
       "       [ 1.        ,  2.59827406, -0.48772236, ...,  0.80657583,\n",
       "        -2.51428122,  1.96060184],\n",
       "       [ 1.        ,  8.13688351, -0.48772236, ...,  0.80657583,\n",
       "        -3.7303382 ,  1.11675567],\n",
       "       [ 1.        ,  0.95411812, -0.48772236, ...,  0.80657583,\n",
       "        -3.37947874,  1.41392409]])"
      ]
     },
     "execution_count": 94,
     "metadata": {},
     "output_type": "execute_result"
    }
   ],
   "source": [
    "X_train=X[:420]\r\n",
    "Y_train=y[:420]\r\n",
    "X_test=X[420:]\r\n",
    "Y_test=y[420:]\r\n",
    "print(X_train.shape)\r\n",
    "print(Y_train.shape)\r\n",
    "print(X_test.shape)\r\n",
    "print(Y_test.shape)\r\n",
    "X_train"
   ]
  },
  {
   "cell_type": "code",
   "execution_count": 101,
   "metadata": {},
   "outputs": [],
   "source": [
    "\r\n",
    "def hypothesis(X,theta):\r\n",
    "    return np.dot(X,theta)\r\n",
    "\r\n",
    "def cost_function(X,y,theta):\r\n",
    "    error=0.0\r\n",
    "    y_=hypothesis(X,theta)\r\n",
    "    error=np.mean((y-y_)**2)\r\n",
    "    return error\r\n",
    "\r\n",
    "def gradient(X,y,theta):\r\n",
    "    y_=hypothesis(X,theta)\r\n",
    "    grad=np.dot(X.T,(y_-y))\r\n",
    "    m=X.shape[0]\r\n",
    "    return grad/m\r\n",
    "def gradient_descent(X,y,learning_rate=0.1,max_iters=300):\r\n",
    "    n=X.shape[1]\r\n",
    "    theta=np.zeros((n,))\r\n",
    "    error_list=[]\r\n",
    "\r\n",
    "    for i in range(max_iters):\r\n",
    "        e=cost_function(X,y,theta)\r\n",
    "        error_list.append(e)\r\n",
    "\r\n",
    "        grad=gradient(X,y,theta)\r\n",
    "        theta=theta-(learning_rate*grad)\r\n",
    "    return theta,error_list"
   ]
  },
  {
   "cell_type": "code",
   "execution_count": 107,
   "metadata": {},
   "outputs": [],
   "source": [
    "theta,loss=gradient_descent(X,y)"
   ]
  },
  {
   "cell_type": "code",
   "execution_count": 105,
   "metadata": {},
   "outputs": [
    {
     "data": {
      "image/png": "[encoded data removed]",
      "text/plain": [
       "<Figure size 432x288 with 1 Axes>"
      ]
     },
     "metadata": {
      "needs_background": "light"
     },
     "output_type": "display_data"
    }
   ],
   "source": [
    "import matplotlib.pyplot as plt\r\n",
    "plt.plot(loss)\r\n",
    "plt.show()"
   ]
  },
  {
   "cell_type": "code",
   "execution_count": 108,
   "metadata": {},
   "outputs": [],
   "source": [
    "def r2_score(y,y_):\r\n",
    "    num=np.sum((y-y_)**2)\r\n",
    "    denom=np.sum((y-y.mean())**2)\r\n",
    "    score=(1-num/denom)\r\n",
    "    return score*100"
   ]
  },
  {
   "cell_type": "code",
   "execution_count": 111,
   "metadata": {},
   "outputs": [
    {
     "data": {
      "text/plain": [
       "72.19251431996562"
      ]
     },
     "execution_count": 111,
     "metadata": {},
     "output_type": "execute_result"
    }
   ],
   "source": [
    "predictions=hypothesis(X,theta)"
   ]
  },
  {
   "cell_type": "code",
   "execution_count": 113,
   "metadata": {},
   "outputs": [
    {
     "data": {
      "image/png": "[encoded data removed]",
      "text/plain": [
       "<Figure size 432x288 with 1 Axes>"
      ]
     },
     "metadata": {
      "needs_background": "light"
     },
     "output_type": "display_data"
    }
   ],
   "source": [
    "plt.scatter(y,predictions)\r\n",
    "plt.xlabel(\"Prices\")\r\n",
    "plt.ylabel(\"Predicted Prices\")\r\n",
    "plt.title(\"Prices vs Predicted Prices\")\r\n",
    "plt.show()"
   ]
  },
  {
   "cell_type": "code",
   "execution_count": 114,
   "metadata": {},
   "outputs": [
    {
     "data": {
      "image/png": "[encoded data removed]",
      "text/plain": [
       "<Figure size 432x288 with 1 Axes>"
      ]
     },
     "metadata": {
      "needs_background": "light"
     },
     "output_type": "display_data"
    }
   ],
   "source": [
    "# Checking residuals\r\n",
    "plt.scatter(y,y-predictions)\r\n",
    "plt.title(\"Predicted vs residuals\")\r\n",
    "plt.xlabel(\"Predicted\")\r\n",
    "plt.ylabel(\"Residuals\")\r\n",
    "plt.show()"
   ]
  },
  {
   "cell_type": "code",
   "execution_count": 117,
   "metadata": {},
   "outputs": [
    {
     "name": "stderr",
     "output_type": "stream",
     "text": [
      "E:\\Programs\\Anaconda\\lib\\site-packages\\seaborn\\distributions.py:2557: FutureWarning: `distplot` is a deprecated function and will be removed in a future version. Please adapt your code to use either `displot` (a figure-level function with similar flexibility) or `histplot` (an axes-level function for histograms).\n",
      "  warnings.warn(msg, FutureWarning)\n"
     ]
    },
    {
     "data": {
      "image/png": "[encoded data removed]",
      "text/plain": [
       "<Figure size 432x288 with 1 Axes>"
      ]
     },
     "metadata": {
      "needs_background": "light"
     },
     "output_type": "display_data"
    }
   ],
   "source": [
    "# Checking normality of errors\r\n",
    "sns.distplot(y-predictions)\r\n",
    "plt.title(\"Histogram of Residuals\")\r\n",
    "plt.xlabel(\"Residuals\")\r\n",
    "plt.ylabel(\"Frequency\")\r\n",
    "plt.show()"
   ]
  },
  {
   "cell_type": "code",
   "execution_count": 118,
   "metadata": {},
   "outputs": [
    {
     "data": {
      "text/plain": [
       "72.19251431996562"
      ]
     },
     "execution_count": 118,
     "metadata": {},
     "output_type": "execute_result"
    }
   ],
   "source": [
    "r2_score(y,predictions)"
   ]
  },
  {
   "cell_type": "code",
   "execution_count": null,
   "metadata": {},
   "outputs": [],
   "source": []
  }
 ],
 "metadata": {
  "interpreter": {
   "hash": "92c53777c7e45b4084d16b9941c1ff1c739a249f1654c0159592f90e5d117398"
  },
  "kernelspec": {
   "display_name": "Python 3.8.8 64-bit ('base': conda)",
   "name": "python3"
  },
  "language_info": {
   "codemirror_mode": {
    "name": "ipython",
    "version": 3
   },
   "file_extension": ".py",
   "mimetype": "text/x-python",
   "name": "python",
   "nbconvert_exporter": "python",
   "pygments_lexer": "ipython3",
   "version": "3.8.8"
  },
  "orig_nbformat": 4
 },
 "nbformat": 4,
 "nbformat_minor": 2
}