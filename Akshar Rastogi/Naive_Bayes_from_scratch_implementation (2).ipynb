{
  "nbformat": 4,
  "nbformat_minor": 0,
  "metadata": {
    "colab": {
      "name": "Naive Bayes from scratch implementation.ipynb",
      "provenance": []
    },
    "kernelspec": {
      "name": "python3",
      "display_name": "Python 3"
    },
    "language_info": {
      "name": "python"
    }
  },
  "cells": [
    {
      "cell_type": "code",
      "metadata": {
        "id": "WhqE7sKvB2sa"
      },
      "source": [
        " import numpy as np  \n",
        " import matplotlib.pyplot as plt\n",
        " import pandas as pd\n",
        " import seaborn as sns\n",
        " import math\n",
        " import scipy.stats as stats\n",
        " from sklearn.datasets import load_iris\n",
        " sns.set_style('whitegrid')"
      ],
      "execution_count": 187,
      "outputs": []
    },
    {
      "cell_type": "markdown",
      "metadata": {
        "id": "KUsotacaKg7W"
      },
      "source": [
        "According to conditional probability \n",
        "P(B|A) = P(A∩B)/P(B)\n",
        "\n",
        "On the left side probability of B given A is equal to the probability of A intersection B means(probability of occurrence of A and B together) divided by the probability of occurrence of B.\n",
        "\n",
        "Similarly, \n",
        "P(A|B) = P(B∩A)/P(A)\n",
        "\n",
        "On the left side probability of A given B is equal to the probability of B intersection A means(probability of occurrence of B and A together) divided by the probability of occurrence of A.\n",
        "\n",
        "P(A∩B) = P(B∩A) \n",
        "\n",
        "therefore the equation can be written as \n",
        "\n",
        "P(A|B) = P(B|A).P(A)/P(B)"
      ]
    },
    {
      "cell_type": "code",
      "metadata": {
        "id": "5fiE46gsD2hs"
      },
      "source": [
        "df=pd.read_csv('/content/drive/MyDrive/python/Iris.csv')"
      ],
      "execution_count": 111,
      "outputs": []
    },
    {
      "cell_type": "code",
      "metadata": {
        "colab": {
          "base_uri": "https://localhost:8080/",
          "height": 388
        },
        "id": "xOzzejKtGZ9-",
        "outputId": "4015b376-c781-4d68-e41f-f4cb234aa617"
      },
      "source": [
        "df"
      ],
      "execution_count": 112,
      "outputs": [
        {
          "output_type": "execute_result",
          "data": {
            "text/html": [
              "<div>\n",
              "<style scoped>\n",
              "    .dataframe tbody tr th:only-of-type {\n",
              "        vertical-align: middle;\n",
              "    }\n",
              "\n",
              "    .dataframe tbody tr th {\n",
              "        vertical-align: top;\n",
              "    }\n",
              "\n",
              "    .dataframe thead th {\n",
              "        text-align: right;\n",
              "    }\n",
              "</style>\n",
              "<table border=\"1\" class=\"dataframe\">\n",
              "  <thead>\n",
              "    <tr style=\"text-align: right;\">\n",
              "      <th></th>\n",
              "      <th>Id</th>\n",
              "      <th>SepalLengthCm</th>\n",
              "      <th>SepalWidthCm</th>\n",
              "      <th>PetalLengthCm</th>\n",
              "      <th>PetalWidthCm</th>\n",
              "      <th>Species</th>\n",
              "    </tr>\n",
              "  </thead>\n",
              "  <tbody>\n",
              "    <tr>\n",
              "      <th>0</th>\n",
              "      <td>1</td>\n",
              "      <td>5.1</td>\n",
              "      <td>3.5</td>\n",
              "      <td>1.4</td>\n",
              "      <td>0.2</td>\n",
              "      <td>Iris-setosa</td>\n",
              "    </tr>\n",
              "    <tr>\n",
              "      <th>1</th>\n",
              "      <td>2</td>\n",
              "      <td>4.9</td>\n",
              "      <td>3.0</td>\n",
              "      <td>1.4</td>\n",
              "      <td>0.2</td>\n",
              "      <td>Iris-setosa</td>\n",
              "    </tr>\n",
              "    <tr>\n",
              "      <th>2</th>\n",
              "      <td>3</td>\n",
              "      <td>4.7</td>\n",
              "      <td>3.2</td>\n",
              "      <td>1.3</td>\n",
              "      <td>0.2</td>\n",
              "      <td>Iris-setosa</td>\n",
              "    </tr>\n",
              "    <tr>\n",
              "      <th>3</th>\n",
              "      <td>4</td>\n",
              "      <td>4.6</td>\n",
              "      <td>3.1</td>\n",
              "      <td>1.5</td>\n",
              "      <td>0.2</td>\n",
              "      <td>Iris-setosa</td>\n",
              "    </tr>\n",
              "    <tr>\n",
              "      <th>4</th>\n",
              "      <td>5</td>\n",
              "      <td>5.0</td>\n",
              "      <td>3.6</td>\n",
              "      <td>1.4</td>\n",
              "      <td>0.2</td>\n",
              "      <td>Iris-setosa</td>\n",
              "    </tr>\n",
              "    <tr>\n",
              "      <th>...</th>\n",
              "      <td>...</td>\n",
              "      <td>...</td>\n",
              "      <td>...</td>\n",
              "      <td>...</td>\n",
              "      <td>...</td>\n",
              "      <td>...</td>\n",
              "    </tr>\n",
              "    <tr>\n",
              "      <th>145</th>\n",
              "      <td>146</td>\n",
              "      <td>6.7</td>\n",
              "      <td>3.0</td>\n",
              "      <td>5.2</td>\n",
              "      <td>2.3</td>\n",
              "      <td>Iris-virginica</td>\n",
              "    </tr>\n",
              "    <tr>\n",
              "      <th>146</th>\n",
              "      <td>147</td>\n",
              "      <td>6.3</td>\n",
              "      <td>2.5</td>\n",
              "      <td>5.0</td>\n",
              "      <td>1.9</td>\n",
              "      <td>Iris-virginica</td>\n",
              "    </tr>\n",
              "    <tr>\n",
              "      <th>147</th>\n",
              "      <td>148</td>\n",
              "      <td>6.5</td>\n",
              "      <td>3.0</td>\n",
              "      <td>5.2</td>\n",
              "      <td>2.0</td>\n",
              "      <td>Iris-virginica</td>\n",
              "    </tr>\n",
              "    <tr>\n",
              "      <th>148</th>\n",
              "      <td>149</td>\n",
              "      <td>6.2</td>\n",
              "      <td>3.4</td>\n",
              "      <td>5.4</td>\n",
              "      <td>2.3</td>\n",
              "      <td>Iris-virginica</td>\n",
              "    </tr>\n",
              "    <tr>\n",
              "      <th>149</th>\n",
              "      <td>150</td>\n",
              "      <td>5.9</td>\n",
              "      <td>3.0</td>\n",
              "      <td>5.1</td>\n",
              "      <td>1.8</td>\n",
              "      <td>Iris-virginica</td>\n",
              "    </tr>\n",
              "  </tbody>\n",
              "</table>\n",
              "<p>150 rows × 6 columns</p>\n",
              "</div>"
            ],
            "text/plain": [
              "      Id  SepalLengthCm  ...  PetalWidthCm         Species\n",
              "0      1            5.1  ...           0.2     Iris-setosa\n",
              "1      2            4.9  ...           0.2     Iris-setosa\n",
              "2      3            4.7  ...           0.2     Iris-setosa\n",
              "3      4            4.6  ...           0.2     Iris-setosa\n",
              "4      5            5.0  ...           0.2     Iris-setosa\n",
              "..   ...            ...  ...           ...             ...\n",
              "145  146            6.7  ...           2.3  Iris-virginica\n",
              "146  147            6.3  ...           1.9  Iris-virginica\n",
              "147  148            6.5  ...           2.0  Iris-virginica\n",
              "148  149            6.2  ...           2.3  Iris-virginica\n",
              "149  150            5.9  ...           1.8  Iris-virginica\n",
              "\n",
              "[150 rows x 6 columns]"
            ]
          },
          "metadata": {
            "tags": []
          },
          "execution_count": 112
        }
      ]
    },
    {
      "cell_type": "code",
      "metadata": {
        "id": "2j2movnCGamA"
      },
      "source": [
        "df = df.set_index(df.Id)"
      ],
      "execution_count": 113,
      "outputs": []
    },
    {
      "cell_type": "code",
      "metadata": {
        "id": "SLBA_lvwGqaW"
      },
      "source": [
        "df = df.drop(columns='Id')"
      ],
      "execution_count": 114,
      "outputs": []
    },
    {
      "cell_type": "code",
      "metadata": {
        "colab": {
          "base_uri": "https://localhost:8080/",
          "height": 417
        },
        "id": "X63vIfHYGrey",
        "outputId": "a4dc7d63-2c47-4a5d-b8df-90e445de6342"
      },
      "source": [
        "df"
      ],
      "execution_count": 115,
      "outputs": [
        {
          "output_type": "execute_result",
          "data": {
            "text/html": [
              "<div>\n",
              "<style scoped>\n",
              "    .dataframe tbody tr th:only-of-type {\n",
              "        vertical-align: middle;\n",
              "    }\n",
              "\n",
              "    .dataframe tbody tr th {\n",
              "        vertical-align: top;\n",
              "    }\n",
              "\n",
              "    .dataframe thead th {\n",
              "        text-align: right;\n",
              "    }\n",
              "</style>\n",
              "<table border=\"1\" class=\"dataframe\">\n",
              "  <thead>\n",
              "    <tr style=\"text-align: right;\">\n",
              "      <th></th>\n",
              "      <th>SepalLengthCm</th>\n",
              "      <th>SepalWidthCm</th>\n",
              "      <th>PetalLengthCm</th>\n",
              "      <th>PetalWidthCm</th>\n",
              "      <th>Species</th>\n",
              "    </tr>\n",
              "    <tr>\n",
              "      <th>Id</th>\n",
              "      <th></th>\n",
              "      <th></th>\n",
              "      <th></th>\n",
              "      <th></th>\n",
              "      <th></th>\n",
              "    </tr>\n",
              "  </thead>\n",
              "  <tbody>\n",
              "    <tr>\n",
              "      <th>1</th>\n",
              "      <td>5.1</td>\n",
              "      <td>3.5</td>\n",
              "      <td>1.4</td>\n",
              "      <td>0.2</td>\n",
              "      <td>Iris-setosa</td>\n",
              "    </tr>\n",
              "    <tr>\n",
              "      <th>2</th>\n",
              "      <td>4.9</td>\n",
              "      <td>3.0</td>\n",
              "      <td>1.4</td>\n",
              "      <td>0.2</td>\n",
              "      <td>Iris-setosa</td>\n",
              "    </tr>\n",
              "    <tr>\n",
              "      <th>3</th>\n",
              "      <td>4.7</td>\n",
              "      <td>3.2</td>\n",
              "      <td>1.3</td>\n",
              "      <td>0.2</td>\n",
              "      <td>Iris-setosa</td>\n",
              "    </tr>\n",
              "    <tr>\n",
              "      <th>4</th>\n",
              "      <td>4.6</td>\n",
              "      <td>3.1</td>\n",
              "      <td>1.5</td>\n",
              "      <td>0.2</td>\n",
              "      <td>Iris-setosa</td>\n",
              "    </tr>\n",
              "    <tr>\n",
              "      <th>5</th>\n",
              "      <td>5.0</td>\n",
              "      <td>3.6</td>\n",
              "      <td>1.4</td>\n",
              "      <td>0.2</td>\n",
              "      <td>Iris-setosa</td>\n",
              "    </tr>\n",
              "    <tr>\n",
              "      <th>...</th>\n",
              "      <td>...</td>\n",
              "      <td>...</td>\n",
              "      <td>...</td>\n",
              "      <td>...</td>\n",
              "      <td>...</td>\n",
              "    </tr>\n",
              "    <tr>\n",
              "      <th>146</th>\n",
              "      <td>6.7</td>\n",
              "      <td>3.0</td>\n",
              "      <td>5.2</td>\n",
              "      <td>2.3</td>\n",
              "      <td>Iris-virginica</td>\n",
              "    </tr>\n",
              "    <tr>\n",
              "      <th>147</th>\n",
              "      <td>6.3</td>\n",
              "      <td>2.5</td>\n",
              "      <td>5.0</td>\n",
              "      <td>1.9</td>\n",
              "      <td>Iris-virginica</td>\n",
              "    </tr>\n",
              "    <tr>\n",
              "      <th>148</th>\n",
              "      <td>6.5</td>\n",
              "      <td>3.0</td>\n",
              "      <td>5.2</td>\n",
              "      <td>2.0</td>\n",
              "      <td>Iris-virginica</td>\n",
              "    </tr>\n",
              "    <tr>\n",
              "      <th>149</th>\n",
              "      <td>6.2</td>\n",
              "      <td>3.4</td>\n",
              "      <td>5.4</td>\n",
              "      <td>2.3</td>\n",
              "      <td>Iris-virginica</td>\n",
              "    </tr>\n",
              "    <tr>\n",
              "      <th>150</th>\n",
              "      <td>5.9</td>\n",
              "      <td>3.0</td>\n",
              "      <td>5.1</td>\n",
              "      <td>1.8</td>\n",
              "      <td>Iris-virginica</td>\n",
              "    </tr>\n",
              "  </tbody>\n",
              "</table>\n",
              "<p>150 rows × 5 columns</p>\n",
              "</div>"
            ],
            "text/plain": [
              "     SepalLengthCm  SepalWidthCm  PetalLengthCm  PetalWidthCm         Species\n",
              "Id                                                                           \n",
              "1              5.1           3.5            1.4           0.2     Iris-setosa\n",
              "2              4.9           3.0            1.4           0.2     Iris-setosa\n",
              "3              4.7           3.2            1.3           0.2     Iris-setosa\n",
              "4              4.6           3.1            1.5           0.2     Iris-setosa\n",
              "5              5.0           3.6            1.4           0.2     Iris-setosa\n",
              "..             ...           ...            ...           ...             ...\n",
              "146            6.7           3.0            5.2           2.3  Iris-virginica\n",
              "147            6.3           2.5            5.0           1.9  Iris-virginica\n",
              "148            6.5           3.0            5.2           2.0  Iris-virginica\n",
              "149            6.2           3.4            5.4           2.3  Iris-virginica\n",
              "150            5.9           3.0            5.1           1.8  Iris-virginica\n",
              "\n",
              "[150 rows x 5 columns]"
            ]
          },
          "metadata": {
            "tags": []
          },
          "execution_count": 115
        }
      ]
    },
    {
      "cell_type": "markdown",
      "metadata": {
        "id": "-I2e3rZASFMJ"
      },
      "source": [
        "![image.png](data:image/png;base64,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)"
      ]
    },
    {
      "cell_type": "markdown",
      "metadata": {
        "id": "Sx62g-v-SS9a"
      },
      "source": [
        "This above is the Gaussian Distribution here u signifies the mean, sigma is the standard deviation and sigma^2 is the variance"
      ]
    },
    {
      "cell_type": "code",
      "metadata": {
        "id": "2G3JqLuZMSPS"
      },
      "source": [
        "class NaiveBayesClassifier():\n",
        "    '''\n",
        "    Bayes Theorem \n",
        "    P(A|B) = P(B|A).P(A)/P(B)\n",
        "    '''\n",
        "    def prior_probability(self, features, target):\n",
        "        #prior probability P(A)\n",
        "    \n",
        "        self.prior = (features.groupby(target).apply(lambda x: len(x)) / self.rows).to_numpy()\n",
        "\n",
        "        return self.prior\n",
        "    \n",
        "    def statistics(self, features, target):\n",
        "        #this calculates  mean, variance which needed for gaussian distribution for each column and convert to numpy array\n",
        "        self.mean = features.groupby(target).apply(np.mean).to_numpy()\n",
        "        self.var = features.groupby(target).apply(np.var).to_numpy()\n",
        "              \n",
        "        return self.mean, self.var\n",
        "    \n",
        "    def gaussian_density(self, class_idx, x):     \n",
        "       #gauss probability distribution function mentoined above\n",
        "        mean = self.mean[class_idx]\n",
        "        var = self.var[class_idx]\n",
        "        numerator = np.exp((-1/2)*((x-mean)**2) / (2 * var))\n",
        "#         numerator = np.exp(-((x-mean)**2 / (2 * var)))\n",
        "        denominator = np.sqrt(2 * np.pi * var)\n",
        "        gx= numerator / denominator\n",
        "        return gx\n",
        "    \n",
        "    def posterior_probability(self, x):\n",
        "        posteriors = []\n",
        "\n",
        "        # calculate posterior probability P(A|B)\n",
        "        for i in range(self.count):\n",
        "            prior = np.log(self.prior[i]) ## use the log to make it more numerically stable\n",
        "            conditional = np.sum(np.log(self.gaussian_density(i, x))) # use the log to make it more numerically stable\n",
        "            posterior = prior + conditional\n",
        "            posteriors.append(posterior)\n",
        "        # return class with highest posterior probability\n",
        "        return self.classes[np.argmax(posteriors)]\n",
        "     \n",
        "\n",
        "    def fit(self, features, target):\n",
        "        self.classes = np.unique(target)\n",
        "        self.count = len(self.classes)\n",
        "        self.feature_nums = features.shape[1]\n",
        "        self.rows = features.shape[0]\n",
        "        \n",
        "        self.statistics(features, target)\n",
        "        self.prior_probability(features, target)\n",
        "        \n",
        "    def predict(self, features):\n",
        "        preds = [self.posterior_probability(f) for f in features.to_numpy()]\n",
        "        return preds\n",
        "\n",
        "    def accuracy(self, y_test, y_pred):\n",
        "        accuracy = np.sum(y_test == y_pred) / len(y_test)\n",
        "        return accuracy\n"
      ],
      "execution_count": 192,
      "outputs": []
    },
    {
      "cell_type": "code",
      "metadata": {
        "colab": {
          "base_uri": "https://localhost:8080/",
          "height": 417
        },
        "id": "AHhFJKwC82i6",
        "outputId": "f9feefe9-7130-408e-bd66-93aaade04911"
      },
      "source": [
        "df"
      ],
      "execution_count": 117,
      "outputs": [
        {
          "output_type": "execute_result",
          "data": {
            "text/html": [
              "<div>\n",
              "<style scoped>\n",
              "    .dataframe tbody tr th:only-of-type {\n",
              "        vertical-align: middle;\n",
              "    }\n",
              "\n",
              "    .dataframe tbody tr th {\n",
              "        vertical-align: top;\n",
              "    }\n",
              "\n",
              "    .dataframe thead th {\n",
              "        text-align: right;\n",
              "    }\n",
              "</style>\n",
              "<table border=\"1\" class=\"dataframe\">\n",
              "  <thead>\n",
              "    <tr style=\"text-align: right;\">\n",
              "      <th></th>\n",
              "      <th>SepalLengthCm</th>\n",
              "      <th>SepalWidthCm</th>\n",
              "      <th>PetalLengthCm</th>\n",
              "      <th>PetalWidthCm</th>\n",
              "      <th>Species</th>\n",
              "    </tr>\n",
              "    <tr>\n",
              "      <th>Id</th>\n",
              "      <th></th>\n",
              "      <th></th>\n",
              "      <th></th>\n",
              "      <th></th>\n",
              "      <th></th>\n",
              "    </tr>\n",
              "  </thead>\n",
              "  <tbody>\n",
              "    <tr>\n",
              "      <th>1</th>\n",
              "      <td>5.1</td>\n",
              "      <td>3.5</td>\n",
              "      <td>1.4</td>\n",
              "      <td>0.2</td>\n",
              "      <td>Iris-setosa</td>\n",
              "    </tr>\n",
              "    <tr>\n",
              "      <th>2</th>\n",
              "      <td>4.9</td>\n",
              "      <td>3.0</td>\n",
              "      <td>1.4</td>\n",
              "      <td>0.2</td>\n",
              "      <td>Iris-setosa</td>\n",
              "    </tr>\n",
              "    <tr>\n",
              "      <th>3</th>\n",
              "      <td>4.7</td>\n",
              "      <td>3.2</td>\n",
              "      <td>1.3</td>\n",
              "      <td>0.2</td>\n",
              "      <td>Iris-setosa</td>\n",
              "    </tr>\n",
              "    <tr>\n",
              "      <th>4</th>\n",
              "      <td>4.6</td>\n",
              "      <td>3.1</td>\n",
              "      <td>1.5</td>\n",
              "      <td>0.2</td>\n",
              "      <td>Iris-setosa</td>\n",
              "    </tr>\n",
              "    <tr>\n",
              "      <th>5</th>\n",
              "      <td>5.0</td>\n",
              "      <td>3.6</td>\n",
              "      <td>1.4</td>\n",
              "      <td>0.2</td>\n",
              "      <td>Iris-setosa</td>\n",
              "    </tr>\n",
              "    <tr>\n",
              "      <th>...</th>\n",
              "      <td>...</td>\n",
              "      <td>...</td>\n",
              "      <td>...</td>\n",
              "      <td>...</td>\n",
              "      <td>...</td>\n",
              "    </tr>\n",
              "    <tr>\n",
              "      <th>146</th>\n",
              "      <td>6.7</td>\n",
              "      <td>3.0</td>\n",
              "      <td>5.2</td>\n",
              "      <td>2.3</td>\n",
              "      <td>Iris-virginica</td>\n",
              "    </tr>\n",
              "    <tr>\n",
              "      <th>147</th>\n",
              "      <td>6.3</td>\n",
              "      <td>2.5</td>\n",
              "      <td>5.0</td>\n",
              "      <td>1.9</td>\n",
              "      <td>Iris-virginica</td>\n",
              "    </tr>\n",
              "    <tr>\n",
              "      <th>148</th>\n",
              "      <td>6.5</td>\n",
              "      <td>3.0</td>\n",
              "      <td>5.2</td>\n",
              "      <td>2.0</td>\n",
              "      <td>Iris-virginica</td>\n",
              "    </tr>\n",
              "    <tr>\n",
              "      <th>149</th>\n",
              "      <td>6.2</td>\n",
              "      <td>3.4</td>\n",
              "      <td>5.4</td>\n",
              "      <td>2.3</td>\n",
              "      <td>Iris-virginica</td>\n",
              "    </tr>\n",
              "    <tr>\n",
              "      <th>150</th>\n",
              "      <td>5.9</td>\n",
              "      <td>3.0</td>\n",
              "      <td>5.1</td>\n",
              "      <td>1.8</td>\n",
              "      <td>Iris-virginica</td>\n",
              "    </tr>\n",
              "  </tbody>\n",
              "</table>\n",
              "<p>150 rows × 5 columns</p>\n",
              "</div>"
            ],
            "text/plain": [
              "     SepalLengthCm  SepalWidthCm  PetalLengthCm  PetalWidthCm         Species\n",
              "Id                                                                           \n",
              "1              5.1           3.5            1.4           0.2     Iris-setosa\n",
              "2              4.9           3.0            1.4           0.2     Iris-setosa\n",
              "3              4.7           3.2            1.3           0.2     Iris-setosa\n",
              "4              4.6           3.1            1.5           0.2     Iris-setosa\n",
              "5              5.0           3.6            1.4           0.2     Iris-setosa\n",
              "..             ...           ...            ...           ...             ...\n",
              "146            6.7           3.0            5.2           2.3  Iris-virginica\n",
              "147            6.3           2.5            5.0           1.9  Iris-virginica\n",
              "148            6.5           3.0            5.2           2.0  Iris-virginica\n",
              "149            6.2           3.4            5.4           2.3  Iris-virginica\n",
              "150            5.9           3.0            5.1           1.8  Iris-virginica\n",
              "\n",
              "[150 rows x 5 columns]"
            ]
          },
          "metadata": {
            "tags": []
          },
          "execution_count": 117
        }
      ]
    },
    {
      "cell_type": "code",
      "metadata": {
        "colab": {
          "base_uri": "https://localhost:8080/"
        },
        "id": "9xBseYDX9C36",
        "outputId": "9f36bec8-a3d4-4ddd-c48e-3305a3f0245a"
      },
      "source": [
        "df.shape"
      ],
      "execution_count": 118,
      "outputs": [
        {
          "output_type": "execute_result",
          "data": {
            "text/plain": [
              "(150, 5)"
            ]
          },
          "metadata": {
            "tags": []
          },
          "execution_count": 118
        }
      ]
    },
    {
      "cell_type": "code",
      "metadata": {
        "colab": {
          "base_uri": "https://localhost:8080/",
          "height": 388
        },
        "id": "NdZEPddRHGRV",
        "outputId": "ac4ad7d7-41a8-4575-85e2-f8ad9279be7a"
      },
      "source": [
        "df = df.sample(frac=1, random_state=1).reset_index(drop=True)\n",
        "df\n",
        "#we randomly shuffle oyr data to dodge overfitting"
      ],
      "execution_count": 190,
      "outputs": [
        {
          "output_type": "execute_result",
          "data": {
            "text/html": [
              "<div>\n",
              "<style scoped>\n",
              "    .dataframe tbody tr th:only-of-type {\n",
              "        vertical-align: middle;\n",
              "    }\n",
              "\n",
              "    .dataframe tbody tr th {\n",
              "        vertical-align: top;\n",
              "    }\n",
              "\n",
              "    .dataframe thead th {\n",
              "        text-align: right;\n",
              "    }\n",
              "</style>\n",
              "<table border=\"1\" class=\"dataframe\">\n",
              "  <thead>\n",
              "    <tr style=\"text-align: right;\">\n",
              "      <th></th>\n",
              "      <th>SepalLengthCm</th>\n",
              "      <th>SepalWidthCm</th>\n",
              "      <th>PetalLengthCm</th>\n",
              "      <th>PetalWidthCm</th>\n",
              "      <th>Species</th>\n",
              "    </tr>\n",
              "  </thead>\n",
              "  <tbody>\n",
              "    <tr>\n",
              "      <th>0</th>\n",
              "      <td>6.0</td>\n",
              "      <td>2.9</td>\n",
              "      <td>4.5</td>\n",
              "      <td>1.5</td>\n",
              "      <td>Iris-versicolor</td>\n",
              "    </tr>\n",
              "    <tr>\n",
              "      <th>1</th>\n",
              "      <td>7.2</td>\n",
              "      <td>3.6</td>\n",
              "      <td>6.1</td>\n",
              "      <td>2.5</td>\n",
              "      <td>Iris-virginica</td>\n",
              "    </tr>\n",
              "    <tr>\n",
              "      <th>2</th>\n",
              "      <td>6.4</td>\n",
              "      <td>2.9</td>\n",
              "      <td>4.3</td>\n",
              "      <td>1.3</td>\n",
              "      <td>Iris-versicolor</td>\n",
              "    </tr>\n",
              "    <tr>\n",
              "      <th>3</th>\n",
              "      <td>5.8</td>\n",
              "      <td>2.6</td>\n",
              "      <td>4.0</td>\n",
              "      <td>1.2</td>\n",
              "      <td>Iris-versicolor</td>\n",
              "    </tr>\n",
              "    <tr>\n",
              "      <th>4</th>\n",
              "      <td>5.9</td>\n",
              "      <td>3.0</td>\n",
              "      <td>4.2</td>\n",
              "      <td>1.5</td>\n",
              "      <td>Iris-versicolor</td>\n",
              "    </tr>\n",
              "    <tr>\n",
              "      <th>...</th>\n",
              "      <td>...</td>\n",
              "      <td>...</td>\n",
              "      <td>...</td>\n",
              "      <td>...</td>\n",
              "      <td>...</td>\n",
              "    </tr>\n",
              "    <tr>\n",
              "      <th>145</th>\n",
              "      <td>5.0</td>\n",
              "      <td>3.4</td>\n",
              "      <td>1.5</td>\n",
              "      <td>0.2</td>\n",
              "      <td>Iris-setosa</td>\n",
              "    </tr>\n",
              "    <tr>\n",
              "      <th>146</th>\n",
              "      <td>7.0</td>\n",
              "      <td>3.2</td>\n",
              "      <td>4.7</td>\n",
              "      <td>1.4</td>\n",
              "      <td>Iris-versicolor</td>\n",
              "    </tr>\n",
              "    <tr>\n",
              "      <th>147</th>\n",
              "      <td>6.0</td>\n",
              "      <td>3.0</td>\n",
              "      <td>4.8</td>\n",
              "      <td>1.8</td>\n",
              "      <td>Iris-virginica</td>\n",
              "    </tr>\n",
              "    <tr>\n",
              "      <th>148</th>\n",
              "      <td>5.0</td>\n",
              "      <td>3.0</td>\n",
              "      <td>1.6</td>\n",
              "      <td>0.2</td>\n",
              "      <td>Iris-setosa</td>\n",
              "    </tr>\n",
              "    <tr>\n",
              "      <th>149</th>\n",
              "      <td>5.2</td>\n",
              "      <td>3.4</td>\n",
              "      <td>1.4</td>\n",
              "      <td>0.2</td>\n",
              "      <td>Iris-setosa</td>\n",
              "    </tr>\n",
              "  </tbody>\n",
              "</table>\n",
              "<p>150 rows × 5 columns</p>\n",
              "</div>"
            ],
            "text/plain": [
              "     SepalLengthCm  SepalWidthCm  PetalLengthCm  PetalWidthCm          Species\n",
              "0              6.0           2.9            4.5           1.5  Iris-versicolor\n",
              "1              7.2           3.6            6.1           2.5   Iris-virginica\n",
              "2              6.4           2.9            4.3           1.3  Iris-versicolor\n",
              "3              5.8           2.6            4.0           1.2  Iris-versicolor\n",
              "4              5.9           3.0            4.2           1.5  Iris-versicolor\n",
              "..             ...           ...            ...           ...              ...\n",
              "145            5.0           3.4            1.5           0.2      Iris-setosa\n",
              "146            7.0           3.2            4.7           1.4  Iris-versicolor\n",
              "147            6.0           3.0            4.8           1.8   Iris-virginica\n",
              "148            5.0           3.0            1.6           0.2      Iris-setosa\n",
              "149            5.2           3.4            1.4           0.2      Iris-setosa\n",
              "\n",
              "[150 rows x 5 columns]"
            ]
          },
          "metadata": {
            "tags": []
          },
          "execution_count": 190
        }
      ]
    },
    {
      "cell_type": "code",
      "metadata": {
        "id": "3ZbPUgD_9us-"
      },
      "source": [
        "X, y  = df.iloc[:, :-1], df.iloc[:, -1]"
      ],
      "execution_count": 122,
      "outputs": []
    },
    {
      "cell_type": "code",
      "metadata": {
        "colab": {
          "base_uri": "https://localhost:8080/",
          "height": 388
        },
        "id": "bKQNS4ir9-gF",
        "outputId": "b3e57e78-4735-4062-b2b1-1853fb0de2ec"
      },
      "source": [
        "X"
      ],
      "execution_count": 123,
      "outputs": [
        {
          "output_type": "execute_result",
          "data": {
            "text/html": [
              "<div>\n",
              "<style scoped>\n",
              "    .dataframe tbody tr th:only-of-type {\n",
              "        vertical-align: middle;\n",
              "    }\n",
              "\n",
              "    .dataframe tbody tr th {\n",
              "        vertical-align: top;\n",
              "    }\n",
              "\n",
              "    .dataframe thead th {\n",
              "        text-align: right;\n",
              "    }\n",
              "</style>\n",
              "<table border=\"1\" class=\"dataframe\">\n",
              "  <thead>\n",
              "    <tr style=\"text-align: right;\">\n",
              "      <th></th>\n",
              "      <th>SepalLengthCm</th>\n",
              "      <th>SepalWidthCm</th>\n",
              "      <th>PetalLengthCm</th>\n",
              "      <th>PetalWidthCm</th>\n",
              "    </tr>\n",
              "  </thead>\n",
              "  <tbody>\n",
              "    <tr>\n",
              "      <th>0</th>\n",
              "      <td>5.8</td>\n",
              "      <td>4.0</td>\n",
              "      <td>1.2</td>\n",
              "      <td>0.2</td>\n",
              "    </tr>\n",
              "    <tr>\n",
              "      <th>1</th>\n",
              "      <td>5.1</td>\n",
              "      <td>2.5</td>\n",
              "      <td>3.0</td>\n",
              "      <td>1.1</td>\n",
              "    </tr>\n",
              "    <tr>\n",
              "      <th>2</th>\n",
              "      <td>6.6</td>\n",
              "      <td>3.0</td>\n",
              "      <td>4.4</td>\n",
              "      <td>1.4</td>\n",
              "    </tr>\n",
              "    <tr>\n",
              "      <th>3</th>\n",
              "      <td>5.4</td>\n",
              "      <td>3.9</td>\n",
              "      <td>1.3</td>\n",
              "      <td>0.4</td>\n",
              "    </tr>\n",
              "    <tr>\n",
              "      <th>4</th>\n",
              "      <td>7.9</td>\n",
              "      <td>3.8</td>\n",
              "      <td>6.4</td>\n",
              "      <td>2.0</td>\n",
              "    </tr>\n",
              "    <tr>\n",
              "      <th>...</th>\n",
              "      <td>...</td>\n",
              "      <td>...</td>\n",
              "      <td>...</td>\n",
              "      <td>...</td>\n",
              "    </tr>\n",
              "    <tr>\n",
              "      <th>145</th>\n",
              "      <td>6.3</td>\n",
              "      <td>2.8</td>\n",
              "      <td>5.1</td>\n",
              "      <td>1.5</td>\n",
              "    </tr>\n",
              "    <tr>\n",
              "      <th>146</th>\n",
              "      <td>6.4</td>\n",
              "      <td>3.1</td>\n",
              "      <td>5.5</td>\n",
              "      <td>1.8</td>\n",
              "    </tr>\n",
              "    <tr>\n",
              "      <th>147</th>\n",
              "      <td>6.3</td>\n",
              "      <td>2.5</td>\n",
              "      <td>4.9</td>\n",
              "      <td>1.5</td>\n",
              "    </tr>\n",
              "    <tr>\n",
              "      <th>148</th>\n",
              "      <td>6.7</td>\n",
              "      <td>3.1</td>\n",
              "      <td>5.6</td>\n",
              "      <td>2.4</td>\n",
              "    </tr>\n",
              "    <tr>\n",
              "      <th>149</th>\n",
              "      <td>4.9</td>\n",
              "      <td>3.1</td>\n",
              "      <td>1.5</td>\n",
              "      <td>0.1</td>\n",
              "    </tr>\n",
              "  </tbody>\n",
              "</table>\n",
              "<p>150 rows × 4 columns</p>\n",
              "</div>"
            ],
            "text/plain": [
              "     SepalLengthCm  SepalWidthCm  PetalLengthCm  PetalWidthCm\n",
              "0              5.8           4.0            1.2           0.2\n",
              "1              5.1           2.5            3.0           1.1\n",
              "2              6.6           3.0            4.4           1.4\n",
              "3              5.4           3.9            1.3           0.4\n",
              "4              7.9           3.8            6.4           2.0\n",
              "..             ...           ...            ...           ...\n",
              "145            6.3           2.8            5.1           1.5\n",
              "146            6.4           3.1            5.5           1.8\n",
              "147            6.3           2.5            4.9           1.5\n",
              "148            6.7           3.1            5.6           2.4\n",
              "149            4.9           3.1            1.5           0.1\n",
              "\n",
              "[150 rows x 4 columns]"
            ]
          },
          "metadata": {
            "tags": []
          },
          "execution_count": 123
        }
      ]
    },
    {
      "cell_type": "code",
      "metadata": {
        "colab": {
          "base_uri": "https://localhost:8080/"
        },
        "id": "G4HWJc5n-DKu",
        "outputId": "dd0cbdbf-9f00-4d0d-a1ca-e1fec8c5e675"
      },
      "source": [
        "y"
      ],
      "execution_count": 124,
      "outputs": [
        {
          "output_type": "execute_result",
          "data": {
            "text/plain": [
              "0          Iris-setosa\n",
              "1      Iris-versicolor\n",
              "2      Iris-versicolor\n",
              "3          Iris-setosa\n",
              "4       Iris-virginica\n",
              "            ...       \n",
              "145     Iris-virginica\n",
              "146     Iris-virginica\n",
              "147    Iris-versicolor\n",
              "148     Iris-virginica\n",
              "149        Iris-setosa\n",
              "Name: Species, Length: 150, dtype: object"
            ]
          },
          "metadata": {
            "tags": []
          },
          "execution_count": 124
        }
      ]
    },
    {
      "cell_type": "code",
      "metadata": {
        "id": "smEia9Sa-DhF"
      },
      "source": [
        "X_train, X_test, y_train, y_test = X[:100], X[100:], y[:100], y[100:]"
      ],
      "execution_count": 125,
      "outputs": []
    },
    {
      "cell_type": "code",
      "metadata": {
        "colab": {
          "base_uri": "https://localhost:8080/"
        },
        "id": "eqCkz2Ee-UlP",
        "outputId": "ebb21f38-b79b-4946-ce8c-f599833ebf61"
      },
      "source": [
        "print(X_train.shape, y_train.shape)\n",
        "print(X_test.shape, y_test.shape)"
      ],
      "execution_count": 126,
      "outputs": [
        {
          "output_type": "stream",
          "text": [
            "(100, 4) (100,)\n",
            "(50, 4) (50,)\n"
          ],
          "name": "stdout"
        }
      ]
    },
    {
      "cell_type": "code",
      "metadata": {
        "id": "R8_p-Zi5B_hU"
      },
      "source": [
        "x= NaiveBayesClassifier()"
      ],
      "execution_count": 127,
      "outputs": []
    },
    {
      "cell_type": "code",
      "metadata": {
        "colab": {
          "base_uri": "https://localhost:8080/"
        },
        "id": "dRxTi9mFDcZ-",
        "outputId": "b9ec28c5-ced0-44fa-a274-0c39a875a8de"
      },
      "source": [
        "x.statistics(X_train , y_train)"
      ],
      "execution_count": 129,
      "outputs": [
        {
          "output_type": "execute_result",
          "data": {
            "text/plain": [
              "(array([[5.08387097, 3.50322581, 1.46129032, 0.24193548],\n",
              "        [5.9125    , 2.790625  , 4.275     , 1.33125   ],\n",
              "        [6.71891892, 2.98918919, 5.63243243, 2.05675676]]),\n",
              " array([[0.11361082, 0.10934443, 0.02430801, 0.00953174],\n",
              "        [0.21296875, 0.08272461, 0.185625  , 0.03214844],\n",
              "        [0.3566691 , 0.11339664, 0.32867787, 0.0592111 ]]))"
            ]
          },
          "metadata": {
            "tags": []
          },
          "execution_count": 129
        }
      ]
    },
    {
      "cell_type": "code",
      "metadata": {
        "id": "ictHW7k4CsMi"
      },
      "source": [
        "x.fit(X_train, y_train)"
      ],
      "execution_count": 130,
      "outputs": []
    },
    {
      "cell_type": "code",
      "metadata": {
        "id": "ABj0Px3ZCz1S"
      },
      "source": [
        "pred2 = x.predict(X_test)"
      ],
      "execution_count": 142,
      "outputs": []
    },
    {
      "cell_type": "code",
      "metadata": {
        "colab": {
          "base_uri": "https://localhost:8080/"
        },
        "id": "o_7uyRSuC30E",
        "outputId": "1d95fa4d-19e9-4815-e2b2-662068a27e62"
      },
      "source": [
        "x.accuracy(y_test , pred2)"
      ],
      "execution_count": 144,
      "outputs": [
        {
          "output_type": "execute_result",
          "data": {
            "text/plain": [
              "0.92"
            ]
          },
          "metadata": {
            "tags": []
          },
          "execution_count": 144
        }
      ]
    },
    {
      "cell_type": "code",
      "metadata": {
        "colab": {
          "base_uri": "https://localhost:8080/"
        },
        "id": "Q5dm8_bWC8ZS",
        "outputId": "410c5446-d181-4f8c-cf9f-d8943b7e0008"
      },
      "source": [
        "y_test.value_counts(normalize= True)"
      ],
      "execution_count": 147,
      "outputs": [
        {
          "output_type": "execute_result",
          "data": {
            "text/plain": [
              "Iris-setosa        0.38\n",
              "Iris-versicolor    0.36\n",
              "Iris-virginica     0.26\n",
              "Name: Species, dtype: float64"
            ]
          },
          "metadata": {
            "tags": []
          },
          "execution_count": 147
        }
      ]
    },
    {
      "cell_type": "markdown",
      "metadata": {
        "id": "Q2CKj4bh3YL9"
      },
      "source": [
        "It feels less complicated to drop the prefix word Iris, using just species also give us the same inference."
      ]
    },
    {
      "cell_type": "code",
      "metadata": {
        "id": "A5Ghn10egfYS"
      },
      "source": [
        "y_test = y_test.str.replace('Iris-setosa','setosa')\n",
        "y_test = y_test.str.replace('Iris-versicolor','versicolor')\n",
        "y_test = y_test.str.replace('Iris-virginica','virginica')"
      ],
      "execution_count": 148,
      "outputs": []
    },
    {
      "cell_type": "code",
      "metadata": {
        "id": "vPcwpFmUyT3E"
      },
      "source": [
        "pred2=['setosa' if x=='Iris-setosa' else x for x in pred2]\n",
        "pred2=['versicolor' if x=='Iris-versicolor' else x for x in pred2]\n",
        "pred2=['virginica'if x=='Iris-virginica' else x for x in pred2]"
      ],
      "execution_count": null,
      "outputs": []
    },
    {
      "cell_type": "code",
      "metadata": {
        "colab": {
          "base_uri": "https://localhost:8080/"
        },
        "id": "RdV9JrVkyWvD",
        "outputId": "d18cea7c-ef1c-4383-d2c5-6c2a2cb2e7fc"
      },
      "source": [
        "pred2"
      ],
      "execution_count": 150,
      "outputs": [
        {
          "output_type": "execute_result",
          "data": {
            "text/plain": [
              "['setosa',\n",
              " 'versicolor',\n",
              " 'setosa',\n",
              " 'versicolor',\n",
              " 'versicolor',\n",
              " 'setosa',\n",
              " 'versicolor',\n",
              " 'setosa',\n",
              " 'setosa',\n",
              " 'virginica',\n",
              " 'virginica',\n",
              " 'virginica',\n",
              " 'setosa',\n",
              " 'setosa',\n",
              " 'virginica',\n",
              " 'setosa',\n",
              " 'virginica',\n",
              " 'setosa',\n",
              " 'virginica',\n",
              " 'versicolor',\n",
              " 'setosa',\n",
              " 'virginica',\n",
              " 'setosa',\n",
              " 'versicolor',\n",
              " 'setosa',\n",
              " 'versicolor',\n",
              " 'versicolor',\n",
              " 'setosa',\n",
              " 'setosa',\n",
              " 'versicolor',\n",
              " 'setosa',\n",
              " 'versicolor',\n",
              " 'versicolor',\n",
              " 'setosa',\n",
              " 'versicolor',\n",
              " 'versicolor',\n",
              " 'versicolor',\n",
              " 'versicolor',\n",
              " 'virginica',\n",
              " 'setosa',\n",
              " 'setosa',\n",
              " 'versicolor',\n",
              " 'versicolor',\n",
              " 'virginica',\n",
              " 'versicolor',\n",
              " 'versicolor',\n",
              " 'virginica',\n",
              " 'versicolor',\n",
              " 'virginica',\n",
              " 'setosa']"
            ]
          },
          "metadata": {
            "tags": []
          },
          "execution_count": 150
        }
      ]
    },
    {
      "cell_type": "code",
      "metadata": {
        "colab": {
          "base_uri": "https://localhost:8080/"
        },
        "id": "yjjEnZQgfhus",
        "outputId": "ff76af44-bff0-444a-ccb6-efe516ac74a6"
      },
      "source": [
        "x.accuracy(y_test, pred2)"
      ],
      "execution_count": 151,
      "outputs": [
        {
          "output_type": "execute_result",
          "data": {
            "text/plain": [
              "0.92"
            ]
          },
          "metadata": {
            "tags": []
          },
          "execution_count": 151
        }
      ]
    },
    {
      "cell_type": "code",
      "metadata": {
        "id": "l_VJ805RhKKo"
      },
      "source": [
        "#y2_test = y_test[{'Iris-setosa':'setosa', 'Iris-versicolor':'versicolor', 'Iris-virginica':'virginica'}]"
      ],
      "execution_count": null,
      "outputs": []
    },
    {
      "cell_type": "code",
      "metadata": {
        "colab": {
          "base_uri": "https://localhost:8080/"
        },
        "id": "3Uly0ZEkDBWS",
        "outputId": "dad34847-b9a2-4737-c6b1-b75bcc1a1349"
      },
      "source": [
        "x.mean"
      ],
      "execution_count": 93,
      "outputs": [
        {
          "output_type": "execute_result",
          "data": {
            "text/plain": [
              "array([[5.08387097, 3.50322581, 1.46129032, 0.24193548],\n",
              "       [5.9125    , 2.790625  , 4.275     , 1.33125   ],\n",
              "       [6.71891892, 2.98918919, 5.63243243, 2.05675676]])"
            ]
          },
          "metadata": {
            "tags": []
          },
          "execution_count": 93
        }
      ]
    },
    {
      "cell_type": "code",
      "metadata": {
        "colab": {
          "base_uri": "https://localhost:8080/"
        },
        "id": "JlqwhHWYGPBB",
        "outputId": "6c935b3b-3521-4136-f476-4be35291d11b"
      },
      "source": [
        "x.var"
      ],
      "execution_count": 94,
      "outputs": [
        {
          "output_type": "execute_result",
          "data": {
            "text/plain": [
              "array([[0.11361082, 0.10934443, 0.02430801, 0.00953174],\n",
              "       [0.21296875, 0.08272461, 0.185625  , 0.03214844],\n",
              "       [0.3566691 , 0.11339664, 0.32867787, 0.0592111 ]])"
            ]
          },
          "metadata": {
            "tags": []
          },
          "execution_count": 94
        }
      ]
    },
    {
      "cell_type": "code",
      "metadata": {
        "id": "Q9fBFEyKej75"
      },
      "source": [
        "pred2= pd.DataFrame(pred2)"
      ],
      "execution_count": 158,
      "outputs": []
    },
    {
      "cell_type": "code",
      "metadata": {
        "id": "i5Mhfi_jz0eZ"
      },
      "source": [
        "y_test = pd.DataFrame(y_test)"
      ],
      "execution_count": 161,
      "outputs": []
    },
    {
      "cell_type": "code",
      "metadata": {
        "colab": {
          "base_uri": "https://localhost:8080/"
        },
        "id": "LAliPwUHzfVB",
        "outputId": "de1d9f33-3ae1-4862-9f35-28b185935516"
      },
      "source": [
        "pred2.info()\n",
        "pred2 = pred2.rename({'0':'Species'})"
      ],
      "execution_count": 170,
      "outputs": [
        {
          "output_type": "stream",
          "text": [
            "<class 'pandas.core.frame.DataFrame'>\n",
            "RangeIndex: 50 entries, 0 to 49\n",
            "Data columns (total 1 columns):\n",
            " #   Column  Non-Null Count  Dtype \n",
            "---  ------  --------------  ----- \n",
            " 0   0       50 non-null     object\n",
            "dtypes: object(1)\n",
            "memory usage: 528.0+ bytes\n"
          ],
          "name": "stdout"
        }
      ]
    },
    {
      "cell_type": "code",
      "metadata": {
        "id": "Ui9u5W_gztHZ"
      },
      "source": [
        "column=['Species']\n",
        "pred2.columns=['Species']"
      ],
      "execution_count": 174,
      "outputs": []
    },
    {
      "cell_type": "code",
      "metadata": {
        "colab": {
          "base_uri": "https://localhost:8080/",
          "height": 1000
        },
        "id": "_361rq7I00RN",
        "outputId": "ecdc4803-b2eb-4091-8708-6717bb61306c"
      },
      "source": [
        "pred2"
      ],
      "execution_count": 175,
      "outputs": [
        {
          "output_type": "execute_result",
          "data": {
            "text/html": [
              "<div>\n",
              "<style scoped>\n",
              "    .dataframe tbody tr th:only-of-type {\n",
              "        vertical-align: middle;\n",
              "    }\n",
              "\n",
              "    .dataframe tbody tr th {\n",
              "        vertical-align: top;\n",
              "    }\n",
              "\n",
              "    .dataframe thead th {\n",
              "        text-align: right;\n",
              "    }\n",
              "</style>\n",
              "<table border=\"1\" class=\"dataframe\">\n",
              "  <thead>\n",
              "    <tr style=\"text-align: right;\">\n",
              "      <th></th>\n",
              "      <th>Species</th>\n",
              "    </tr>\n",
              "  </thead>\n",
              "  <tbody>\n",
              "    <tr>\n",
              "      <th>0</th>\n",
              "      <td>setosa</td>\n",
              "    </tr>\n",
              "    <tr>\n",
              "      <th>1</th>\n",
              "      <td>versicolor</td>\n",
              "    </tr>\n",
              "    <tr>\n",
              "      <th>2</th>\n",
              "      <td>setosa</td>\n",
              "    </tr>\n",
              "    <tr>\n",
              "      <th>3</th>\n",
              "      <td>versicolor</td>\n",
              "    </tr>\n",
              "    <tr>\n",
              "      <th>4</th>\n",
              "      <td>versicolor</td>\n",
              "    </tr>\n",
              "    <tr>\n",
              "      <th>5</th>\n",
              "      <td>setosa</td>\n",
              "    </tr>\n",
              "    <tr>\n",
              "      <th>6</th>\n",
              "      <td>versicolor</td>\n",
              "    </tr>\n",
              "    <tr>\n",
              "      <th>7</th>\n",
              "      <td>setosa</td>\n",
              "    </tr>\n",
              "    <tr>\n",
              "      <th>8</th>\n",
              "      <td>setosa</td>\n",
              "    </tr>\n",
              "    <tr>\n",
              "      <th>9</th>\n",
              "      <td>virginica</td>\n",
              "    </tr>\n",
              "    <tr>\n",
              "      <th>10</th>\n",
              "      <td>virginica</td>\n",
              "    </tr>\n",
              "    <tr>\n",
              "      <th>11</th>\n",
              "      <td>virginica</td>\n",
              "    </tr>\n",
              "    <tr>\n",
              "      <th>12</th>\n",
              "      <td>setosa</td>\n",
              "    </tr>\n",
              "    <tr>\n",
              "      <th>13</th>\n",
              "      <td>setosa</td>\n",
              "    </tr>\n",
              "    <tr>\n",
              "      <th>14</th>\n",
              "      <td>virginica</td>\n",
              "    </tr>\n",
              "    <tr>\n",
              "      <th>15</th>\n",
              "      <td>setosa</td>\n",
              "    </tr>\n",
              "    <tr>\n",
              "      <th>16</th>\n",
              "      <td>virginica</td>\n",
              "    </tr>\n",
              "    <tr>\n",
              "      <th>17</th>\n",
              "      <td>setosa</td>\n",
              "    </tr>\n",
              "    <tr>\n",
              "      <th>18</th>\n",
              "      <td>virginica</td>\n",
              "    </tr>\n",
              "    <tr>\n",
              "      <th>19</th>\n",
              "      <td>versicolor</td>\n",
              "    </tr>\n",
              "    <tr>\n",
              "      <th>20</th>\n",
              "      <td>setosa</td>\n",
              "    </tr>\n",
              "    <tr>\n",
              "      <th>21</th>\n",
              "      <td>virginica</td>\n",
              "    </tr>\n",
              "    <tr>\n",
              "      <th>22</th>\n",
              "      <td>setosa</td>\n",
              "    </tr>\n",
              "    <tr>\n",
              "      <th>23</th>\n",
              "      <td>versicolor</td>\n",
              "    </tr>\n",
              "    <tr>\n",
              "      <th>24</th>\n",
              "      <td>setosa</td>\n",
              "    </tr>\n",
              "    <tr>\n",
              "      <th>25</th>\n",
              "      <td>versicolor</td>\n",
              "    </tr>\n",
              "    <tr>\n",
              "      <th>26</th>\n",
              "      <td>versicolor</td>\n",
              "    </tr>\n",
              "    <tr>\n",
              "      <th>27</th>\n",
              "      <td>setosa</td>\n",
              "    </tr>\n",
              "    <tr>\n",
              "      <th>28</th>\n",
              "      <td>setosa</td>\n",
              "    </tr>\n",
              "    <tr>\n",
              "      <th>29</th>\n",
              "      <td>versicolor</td>\n",
              "    </tr>\n",
              "    <tr>\n",
              "      <th>30</th>\n",
              "      <td>setosa</td>\n",
              "    </tr>\n",
              "    <tr>\n",
              "      <th>31</th>\n",
              "      <td>versicolor</td>\n",
              "    </tr>\n",
              "    <tr>\n",
              "      <th>32</th>\n",
              "      <td>versicolor</td>\n",
              "    </tr>\n",
              "    <tr>\n",
              "      <th>33</th>\n",
              "      <td>setosa</td>\n",
              "    </tr>\n",
              "    <tr>\n",
              "      <th>34</th>\n",
              "      <td>versicolor</td>\n",
              "    </tr>\n",
              "    <tr>\n",
              "      <th>35</th>\n",
              "      <td>versicolor</td>\n",
              "    </tr>\n",
              "    <tr>\n",
              "      <th>36</th>\n",
              "      <td>versicolor</td>\n",
              "    </tr>\n",
              "    <tr>\n",
              "      <th>37</th>\n",
              "      <td>versicolor</td>\n",
              "    </tr>\n",
              "    <tr>\n",
              "      <th>38</th>\n",
              "      <td>virginica</td>\n",
              "    </tr>\n",
              "    <tr>\n",
              "      <th>39</th>\n",
              "      <td>setosa</td>\n",
              "    </tr>\n",
              "    <tr>\n",
              "      <th>40</th>\n",
              "      <td>setosa</td>\n",
              "    </tr>\n",
              "    <tr>\n",
              "      <th>41</th>\n",
              "      <td>versicolor</td>\n",
              "    </tr>\n",
              "    <tr>\n",
              "      <th>42</th>\n",
              "      <td>versicolor</td>\n",
              "    </tr>\n",
              "    <tr>\n",
              "      <th>43</th>\n",
              "      <td>virginica</td>\n",
              "    </tr>\n",
              "    <tr>\n",
              "      <th>44</th>\n",
              "      <td>versicolor</td>\n",
              "    </tr>\n",
              "    <tr>\n",
              "      <th>45</th>\n",
              "      <td>versicolor</td>\n",
              "    </tr>\n",
              "    <tr>\n",
              "      <th>46</th>\n",
              "      <td>virginica</td>\n",
              "    </tr>\n",
              "    <tr>\n",
              "      <th>47</th>\n",
              "      <td>versicolor</td>\n",
              "    </tr>\n",
              "    <tr>\n",
              "      <th>48</th>\n",
              "      <td>virginica</td>\n",
              "    </tr>\n",
              "    <tr>\n",
              "      <th>49</th>\n",
              "      <td>setosa</td>\n",
              "    </tr>\n",
              "  </tbody>\n",
              "</table>\n",
              "</div>"
            ],
            "text/plain": [
              "       Species\n",
              "0       setosa\n",
              "1   versicolor\n",
              "2       setosa\n",
              "3   versicolor\n",
              "4   versicolor\n",
              "5       setosa\n",
              "6   versicolor\n",
              "7       setosa\n",
              "8       setosa\n",
              "9    virginica\n",
              "10   virginica\n",
              "11   virginica\n",
              "12      setosa\n",
              "13      setosa\n",
              "14   virginica\n",
              "15      setosa\n",
              "16   virginica\n",
              "17      setosa\n",
              "18   virginica\n",
              "19  versicolor\n",
              "20      setosa\n",
              "21   virginica\n",
              "22      setosa\n",
              "23  versicolor\n",
              "24      setosa\n",
              "25  versicolor\n",
              "26  versicolor\n",
              "27      setosa\n",
              "28      setosa\n",
              "29  versicolor\n",
              "30      setosa\n",
              "31  versicolor\n",
              "32  versicolor\n",
              "33      setosa\n",
              "34  versicolor\n",
              "35  versicolor\n",
              "36  versicolor\n",
              "37  versicolor\n",
              "38   virginica\n",
              "39      setosa\n",
              "40      setosa\n",
              "41  versicolor\n",
              "42  versicolor\n",
              "43   virginica\n",
              "44  versicolor\n",
              "45  versicolor\n",
              "46   virginica\n",
              "47  versicolor\n",
              "48   virginica\n",
              "49      setosa"
            ]
          },
          "metadata": {
            "tags": []
          },
          "execution_count": 175
        }
      ]
    },
    {
      "cell_type": "code",
      "metadata": {
        "colab": {
          "base_uri": "https://localhost:8080/",
          "height": 313
        },
        "id": "PbcyaS2F1V6w",
        "outputId": "c3320c5e-ce8a-4e54-ff73-73caf897ddf6"
      },
      "source": [
        "sns.countplot(x=pred2['Species'], data=pred2, hue=pred2['Species'], palette='viridis')\n",
        "plt.title('Predicted Values in a Countplot')\n"
      ],
      "execution_count": 188,
      "outputs": [
        {
          "output_type": "execute_result",
          "data": {
            "text/plain": [
              "Text(0.5, 1.0, 'Predicted Values in a Countplot')"
            ]
          },
          "metadata": {
            "tags": []
          },
          "execution_count": 188
        },
        {
          "output_type": "display_data",
          "data": {
            "image/png": "[encoded data removed]",
            "text/plain": [
              "<Figure size 432x288 with 1 Axes>"
            ]
          },
          "metadata": {
            "tags": []
          }
        }
      ]
    },
    {
      "cell_type": "code",
      "metadata": {
        "colab": {
          "base_uri": "https://localhost:8080/",
          "height": 313
        },
        "id": "BCpNr_mR1jA6",
        "outputId": "5b9c976e-5907-421d-c047-b26b0b2cd5ba"
      },
      "source": [
        "sns.countplot(x=y_test['Species'],hue=y_test['Species'], palette='viridis')\n",
        "plt.title('True Values in a Countplot')"
      ],
      "execution_count": 189,
      "outputs": [
        {
          "output_type": "execute_result",
          "data": {
            "text/plain": [
              "Text(0.5, 1.0, 'True Values in a Countplot')"
            ]
          },
          "metadata": {
            "tags": []
          },
          "execution_count": 189
        },
        {
          "output_type": "display_data",
          "data": {
            "image/png": "[encoded data removed]",
            "text/plain": [
              "<Figure size 432x288 with 1 Axes>"
            ]
          },
          "metadata": {
            "tags": []
          }
        }
      ]
    },
    {
      "cell_type": "code",
      "metadata": {
        "id": "4wvgiYjG19CA"
      },
      "source": [
        ""
      ],
      "execution_count": null,
      "outputs": []
    }
  ]
}