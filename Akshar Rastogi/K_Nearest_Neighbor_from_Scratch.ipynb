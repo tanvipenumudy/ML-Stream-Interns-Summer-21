{
  "nbformat": 4,
  "nbformat_minor": 0,
  "metadata": {
    "colab": {
      "name": "K Nearest Neighbor from Scratch.ipynb",
      "provenance": []
    },
    "kernelspec": {
      "name": "python3",
      "display_name": "Python 3"
    },
    "language_info": {
      "name": "python"
    }
  },
  "cells": [
    {
      "cell_type": "code",
      "metadata": {
        "id": "wsjbVDZhpPiX"
      },
      "source": [
        "import pandas as pd\n",
        "import numpy as np\n",
        "import matplotlib.pyplot as plt\n",
        "import seaborn as sns\n",
        "from math import sqrt"
      ],
      "execution_count": 3,
      "outputs": []
    },
    {
      "cell_type": "code",
      "metadata": {
        "id": "d3lwje7pooQA"
      },
      "source": [
        "#Euclidian Distance = sqrt(summation(x-y)**2)\n",
        "def euclidean_distance(p1,p2):\n",
        "  distance = 0.0\n",
        "  for i in range(len(p1)-1):\n",
        "    distance += (p1[i] - p2[i])**2\n",
        "  return sqrt(distance)  "
      ],
      "execution_count": 31,
      "outputs": []
    },
    {
      "cell_type": "code",
      "metadata": {
        "id": "Ormms3rPpaGr"
      },
      "source": [
        "b = np.random.rand(10,3)\n",
        "dataset = [[2.7810836,2.550537003,0],\n",
        "\t[1.465489372,2.362125076,0],\n",
        "\t[3.396561688,4.400293529,0],\n",
        "\t[1.38807019,1.850220317,0],\n",
        "\t[3.06407232,3.005305973,0],\n",
        "\t[7.627531214,2.759262235,1],\n",
        "\t[5.332441248,2.088626775,1],\n",
        "\t[6.922596716,1.77106367,1],\n",
        "\t[8.675418651,-0.242068655,1],\n",
        "\t[7.673756466,3.508563011,1]]"
      ],
      "execution_count": 69,
      "outputs": []
    },
    {
      "cell_type": "code",
      "metadata": {
        "colab": {
          "base_uri": "https://localhost:8080/"
        },
        "id": "2rbXH136hkob",
        "outputId": "989df767-f3ea-4bc0-ca8e-22cbc69bae92"
      },
      "source": [
        "b"
      ],
      "execution_count": 71,
      "outputs": [
        {
          "output_type": "execute_result",
          "data": {
            "text/plain": [
              "array([[0.41836152, 0.41577036, 0.27600172],\n",
              "       [0.54987064, 0.26161763, 0.64986471],\n",
              "       [0.93999899, 0.39314452, 0.38488522],\n",
              "       [0.87470535, 0.51249834, 0.36361419],\n",
              "       [0.66311814, 0.03895519, 0.7448479 ],\n",
              "       [0.61365723, 0.36762655, 0.89158117],\n",
              "       [0.54436312, 0.03105896, 0.50176626],\n",
              "       [0.18678795, 0.56917988, 0.29730665],\n",
              "       [0.98524381, 0.12373411, 0.10619958],\n",
              "       [0.26585525, 0.30292913, 0.20572183]])"
            ]
          },
          "metadata": {
            "tags": []
          },
          "execution_count": 71
        }
      ]
    },
    {
      "cell_type": "code",
      "metadata": {
        "colab": {
          "base_uri": "https://localhost:8080/"
        },
        "id": "knCOhmFFqAWc",
        "outputId": "8509225f-4e2e-41e1-bfaf-a2307dfe4f04"
      },
      "source": [
        "euclidean_distance(dataset[0],b[0])"
      ],
      "execution_count": 73,
      "outputs": [
        {
          "output_type": "execute_result",
          "data": {
            "text/plain": [
              "3.184287083357998"
            ]
          },
          "metadata": {
            "tags": []
          },
          "execution_count": 73
        }
      ]
    },
    {
      "cell_type": "code",
      "metadata": {
        "colab": {
          "base_uri": "https://localhost:8080/"
        },
        "id": "JA4fDwHyqFnv",
        "outputId": "aff3b54d-ae49-46aa-a0cc-a97c380bdabd"
      },
      "source": [
        "euclidean_distance(b[0],b[0])"
      ],
      "execution_count": 74,
      "outputs": [
        {
          "output_type": "execute_result",
          "data": {
            "text/plain": [
              "0.0"
            ]
          },
          "metadata": {
            "tags": []
          },
          "execution_count": 74
        }
      ]
    },
    {
      "cell_type": "code",
      "metadata": {
        "id": "ItBN6TT_qOlb"
      },
      "source": [
        "def get_neighbors(train, test_row , k):\n",
        "  distances = list()\n",
        "  for train_row in train:\n",
        "    dist = euclidean_distance(test_row, train_row)\n",
        "    distances.append((train_row, dist))\n",
        "  distances.sort(key=lambda tup :tup[1])\n",
        "  neighbors = list()\n",
        "  for i in range(k):\n",
        "    neighbors.append(distances[i][0])\n",
        "  return neighbors  \n",
        "#we get the train and test data and we calculate the \n",
        "#euclidian distance between them and after calculating \n",
        "#we store them and sort them descending to get the top k neighbors\n"
      ],
      "execution_count": 34,
      "outputs": []
    },
    {
      "cell_type": "code",
      "metadata": {
        "colab": {
          "base_uri": "https://localhost:8080/"
        },
        "id": "hhOfjiroxR_1",
        "outputId": "f52384b3-fc91-486d-b289-73fb8e8d410c"
      },
      "source": [
        "get_neighbors(dataset, dataset[0], 3)"
      ],
      "execution_count": 35,
      "outputs": [
        {
          "output_type": "execute_result",
          "data": {
            "text/plain": [
              "[[2.7810836, 2.550537003, 0],\n",
              " [3.06407232, 3.005305973, 0],\n",
              " [1.465489372, 2.362125076, 0]]"
            ]
          },
          "metadata": {
            "tags": []
          },
          "execution_count": 35
        }
      ]
    },
    {
      "cell_type": "code",
      "metadata": {
        "id": "_WG56FkGyQII"
      },
      "source": [
        "def predict_classification(train, test_row, k):\n",
        "  neighbors = get_neighbors(train, test_row, k)\n",
        "  output_values = [row[-1] for row in neighbors]\n",
        "  prediction = max(set(output_values), key=output_values.count)\n",
        "  return prediction\n",
        "#output_values gives us the last element iterating in a loop of get_neighbors\n",
        "#prediction gives us maximum value of output values which is now a set   "
      ],
      "execution_count": 38,
      "outputs": []
    },
    {
      "cell_type": "code",
      "metadata": {
        "id": "4DQcyx6DA9Dl"
      },
      "source": [
        "prediction = predict_classification(dataset, dataset[0], 3)"
      ],
      "execution_count": 39,
      "outputs": []
    },
    {
      "cell_type": "code",
      "metadata": {
        "colab": {
          "base_uri": "https://localhost:8080/"
        },
        "id": "2j_GBGsfBIzc",
        "outputId": "8da242d2-251c-4de7-b7ac-60e3267bb1bb"
      },
      "source": [
        "print('Expected %d, got %d' % (dataset[0][-1], prediction))"
      ],
      "execution_count": 40,
      "outputs": [
        {
          "output_type": "stream",
          "text": [
            "Expected 0, got 0\n"
          ],
          "name": "stdout"
        }
      ]
    },
    {
      "cell_type": "code",
      "metadata": {
        "id": "9xiDnT2EBZ97"
      },
      "source": [
        "from random import seed\n",
        "from random import randrange \n",
        "from csv import reader\n",
        "from math import sqrt\n",
        "\n",
        "def load_csv(filename):\n",
        "  dataset = list()\n",
        "  with open\n"
      ],
      "execution_count": null,
      "outputs": []
    },
    {
      "cell_type": "code",
      "metadata": {
        "id": "yh9XUhQ6JXT-"
      },
      "source": [
        "from sklearn.model_selection import train_test_split\n",
        "X_test, X_train ,Y_test ,Y_train = train_test_split(df.data, df.target)"
      ],
      "execution_count": 50,
      "outputs": []
    },
    {
      "cell_type": "code",
      "metadata": {
        "id": "ItEpR7-YJ81B"
      },
      "source": [
        "def k_nearest_neighbors(train, test, num_neighbors):\n",
        "\tpredictions = list()\n",
        "\tfor row in test:\n",
        "\t\toutput = predict_classification(train, row, num_neighbors)\n",
        "\t\tpredictions.append(output)\n",
        "\treturn(predictions)"
      ],
      "execution_count": 54,
      "outputs": []
    },
    {
      "cell_type": "code",
      "metadata": {
        "id": "59tbVG6lnojw"
      },
      "source": [
        ""
      ],
      "execution_count": null,
      "outputs": []
    }
  ]
}