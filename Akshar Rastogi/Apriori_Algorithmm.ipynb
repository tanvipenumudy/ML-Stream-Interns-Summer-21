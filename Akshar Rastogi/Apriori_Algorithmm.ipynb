{
  "nbformat": 4,
  "nbformat_minor": 0,
  "metadata": {
    "colab": {
      "name": "Apriori Algorithmm.ipynb",
      "provenance": []
    },
    "kernelspec": {
      "name": "python3",
      "display_name": "Python 3"
    },
    "language_info": {
      "name": "python"
    }
  },
  "cells": [
    {
      "cell_type": "code",
      "metadata": {
        "id": "CUMQAhMnzx4R"
      },
      "source": [
        "import pandas as pd\n",
        "import numpy as np\n",
        "import seaborn as sns\n",
        "import matplotlib.pyplot as plt\n",
        "import itertools"
      ],
      "execution_count": 39,
      "outputs": []
    },
    {
      "cell_type": "code",
      "metadata": {
        "id": "-FpW05t-0IWx"
      },
      "source": [
        "df = pd.read_excel('/content/drive/MyDrive/python/GroceryStoreData 1.csv')"
      ],
      "execution_count": 16,
      "outputs": []
    },
    {
      "cell_type": "code",
      "metadata": {
        "id": "lUPR3vcO0bzP"
      },
      "source": [
        "df[19] = 'MILK,BREAD,BISCUIT'"
      ],
      "execution_count": 4,
      "outputs": []
    },
    {
      "cell_type": "code",
      "metadata": {
        "id": "OEsRCu920cjN"
      },
      "source": [
        "df['MILK,BREAD,BISCUIT'][19] = 'MILK,BREAD,BISCUIT'"
      ],
      "execution_count": 8,
      "outputs": []
    },
    {
      "cell_type": "code",
      "metadata": {
        "id": "_9dbf90j5kDo"
      },
      "source": [
        "df = data"
      ],
      "execution_count": null,
      "outputs": []
    },
    {
      "cell_type": "code",
      "metadata": {
        "colab": {
          "base_uri": "https://localhost:8080/",
          "height": 357
        },
        "id": "-I34JxEk7Oe_",
        "outputId": "a3d4eb96-6690-43f1-8484-9da4aa6ef99e"
      },
      "source": [
        "df.loc[len(df.index)] = ['MILK','BREAD','BISCUIT']"
      ],
      "execution_count": 20,
      "outputs": [
        {
          "output_type": "error",
          "ename": "ValueError",
          "evalue": "ignored",
          "traceback": [
            "\u001b[0;31m---------------------------------------------------------------------------\u001b[0m",
            "\u001b[0;31mValueError\u001b[0m                                Traceback (most recent call last)",
            "\u001b[0;32m<ipython-input-20-d5803267fc6e>\u001b[0m in \u001b[0;36m<module>\u001b[0;34m()\u001b[0m\n\u001b[0;32m----> 1\u001b[0;31m \u001b[0mdf\u001b[0m\u001b[0;34m.\u001b[0m\u001b[0mloc\u001b[0m\u001b[0;34m[\u001b[0m\u001b[0mlen\u001b[0m\u001b[0;34m(\u001b[0m\u001b[0mdf\u001b[0m\u001b[0;34m.\u001b[0m\u001b[0mindex\u001b[0m\u001b[0;34m)\u001b[0m\u001b[0;34m]\u001b[0m \u001b[0;34m=\u001b[0m \u001b[0;34m[\u001b[0m\u001b[0;34m'MILK'\u001b[0m\u001b[0;34m,\u001b[0m\u001b[0;34m'BREAD'\u001b[0m\u001b[0;34m,\u001b[0m\u001b[0;34m'BISCUIT'\u001b[0m\u001b[0;34m]\u001b[0m\u001b[0;34m\u001b[0m\u001b[0;34m\u001b[0m\u001b[0m\n\u001b[0m",
            "\u001b[0;32m/usr/local/lib/python3.7/dist-packages/pandas/core/indexing.py\u001b[0m in \u001b[0;36m__setitem__\u001b[0;34m(self, key, value)\u001b[0m\n\u001b[1;32m    668\u001b[0m \u001b[0;34m\u001b[0m\u001b[0m\n\u001b[1;32m    669\u001b[0m         \u001b[0miloc\u001b[0m \u001b[0;34m=\u001b[0m \u001b[0mself\u001b[0m \u001b[0;32mif\u001b[0m \u001b[0mself\u001b[0m\u001b[0;34m.\u001b[0m\u001b[0mname\u001b[0m \u001b[0;34m==\u001b[0m \u001b[0;34m\"iloc\"\u001b[0m \u001b[0;32melse\u001b[0m \u001b[0mself\u001b[0m\u001b[0;34m.\u001b[0m\u001b[0mobj\u001b[0m\u001b[0;34m.\u001b[0m\u001b[0miloc\u001b[0m\u001b[0;34m\u001b[0m\u001b[0;34m\u001b[0m\u001b[0m\n\u001b[0;32m--> 670\u001b[0;31m         \u001b[0miloc\u001b[0m\u001b[0;34m.\u001b[0m\u001b[0m_setitem_with_indexer\u001b[0m\u001b[0;34m(\u001b[0m\u001b[0mindexer\u001b[0m\u001b[0;34m,\u001b[0m \u001b[0mvalue\u001b[0m\u001b[0;34m)\u001b[0m\u001b[0;34m\u001b[0m\u001b[0;34m\u001b[0m\u001b[0m\n\u001b[0m\u001b[1;32m    671\u001b[0m \u001b[0;34m\u001b[0m\u001b[0m\n\u001b[1;32m    672\u001b[0m     \u001b[0;32mdef\u001b[0m \u001b[0m_validate_key\u001b[0m\u001b[0;34m(\u001b[0m\u001b[0mself\u001b[0m\u001b[0;34m,\u001b[0m \u001b[0mkey\u001b[0m\u001b[0;34m,\u001b[0m \u001b[0maxis\u001b[0m\u001b[0;34m:\u001b[0m \u001b[0mint\u001b[0m\u001b[0;34m)\u001b[0m\u001b[0;34m:\u001b[0m\u001b[0;34m\u001b[0m\u001b[0;34m\u001b[0m\u001b[0m\n",
            "\u001b[0;32m/usr/local/lib/python3.7/dist-packages/pandas/core/indexing.py\u001b[0m in \u001b[0;36m_setitem_with_indexer\u001b[0;34m(self, indexer, value)\u001b[0m\n\u001b[1;32m   1624\u001b[0m \u001b[0;34m\u001b[0m\u001b[0m\n\u001b[1;32m   1625\u001b[0m             \u001b[0;32mif\u001b[0m \u001b[0mmissing\u001b[0m\u001b[0;34m:\u001b[0m\u001b[0;34m\u001b[0m\u001b[0;34m\u001b[0m\u001b[0m\n\u001b[0;32m-> 1626\u001b[0;31m                 \u001b[0mself\u001b[0m\u001b[0;34m.\u001b[0m\u001b[0m_setitem_with_indexer_missing\u001b[0m\u001b[0;34m(\u001b[0m\u001b[0mindexer\u001b[0m\u001b[0;34m,\u001b[0m \u001b[0mvalue\u001b[0m\u001b[0;34m)\u001b[0m\u001b[0;34m\u001b[0m\u001b[0;34m\u001b[0m\u001b[0m\n\u001b[0m\u001b[1;32m   1627\u001b[0m                 \u001b[0;32mreturn\u001b[0m\u001b[0;34m\u001b[0m\u001b[0;34m\u001b[0m\u001b[0m\n\u001b[1;32m   1628\u001b[0m \u001b[0;34m\u001b[0m\u001b[0m\n",
            "\u001b[0;32m/usr/local/lib/python3.7/dist-packages/pandas/core/indexing.py\u001b[0m in \u001b[0;36m_setitem_with_indexer_missing\u001b[0;34m(self, indexer, value)\u001b[0m\n\u001b[1;32m   1854\u001b[0m                     \u001b[0;31m# must have conforming columns\u001b[0m\u001b[0;34m\u001b[0m\u001b[0;34m\u001b[0m\u001b[0;34m\u001b[0m\u001b[0m\n\u001b[1;32m   1855\u001b[0m                     \u001b[0;32mif\u001b[0m \u001b[0mlen\u001b[0m\u001b[0;34m(\u001b[0m\u001b[0mvalue\u001b[0m\u001b[0;34m)\u001b[0m \u001b[0;34m!=\u001b[0m \u001b[0mlen\u001b[0m\u001b[0;34m(\u001b[0m\u001b[0mself\u001b[0m\u001b[0;34m.\u001b[0m\u001b[0mobj\u001b[0m\u001b[0;34m.\u001b[0m\u001b[0mcolumns\u001b[0m\u001b[0;34m)\u001b[0m\u001b[0;34m:\u001b[0m\u001b[0;34m\u001b[0m\u001b[0;34m\u001b[0m\u001b[0m\n\u001b[0;32m-> 1856\u001b[0;31m                         \u001b[0;32mraise\u001b[0m \u001b[0mValueError\u001b[0m\u001b[0;34m(\u001b[0m\u001b[0;34m\"cannot set a row with mismatched columns\"\u001b[0m\u001b[0;34m)\u001b[0m\u001b[0;34m\u001b[0m\u001b[0;34m\u001b[0m\u001b[0m\n\u001b[0m\u001b[1;32m   1857\u001b[0m \u001b[0;34m\u001b[0m\u001b[0m\n\u001b[1;32m   1858\u001b[0m                 \u001b[0mvalue\u001b[0m \u001b[0;34m=\u001b[0m \u001b[0mSeries\u001b[0m\u001b[0;34m(\u001b[0m\u001b[0mvalue\u001b[0m\u001b[0;34m,\u001b[0m \u001b[0mindex\u001b[0m\u001b[0;34m=\u001b[0m\u001b[0mself\u001b[0m\u001b[0;34m.\u001b[0m\u001b[0mobj\u001b[0m\u001b[0;34m.\u001b[0m\u001b[0mcolumns\u001b[0m\u001b[0;34m,\u001b[0m \u001b[0mname\u001b[0m\u001b[0;34m=\u001b[0m\u001b[0mindexer\u001b[0m\u001b[0;34m)\u001b[0m\u001b[0;34m\u001b[0m\u001b[0;34m\u001b[0m\u001b[0m\n",
            "\u001b[0;31mValueError\u001b[0m: cannot set a row with mismatched columns"
          ]
        }
      ]
    },
    {
      "cell_type": "code",
      "metadata": {
        "colab": {
          "base_uri": "https://localhost:8080/"
        },
        "id": "ovQY6nSb716F",
        "outputId": "1541b148-1235-4f9b-ec74-86a54e32ea9c"
      },
      "source": [
        "df.columns"
      ],
      "execution_count": 23,
      "outputs": [
        {
          "output_type": "execute_result",
          "data": {
            "text/plain": [
              "Index(['MILK', 'BREAD', 'BISCUIT', 'Unnamed: 3'], dtype='object')"
            ]
          },
          "metadata": {
            "tags": []
          },
          "execution_count": 23
        }
      ]
    },
    {
      "cell_type": "code",
      "metadata": {
        "colab": {
          "base_uri": "https://localhost:8080/",
          "height": 638
        },
        "id": "mjVxth-a7_l4",
        "outputId": "c6876aaa-30b2-4b71-bdf2-53d26dfab857"
      },
      "source": [
        "df"
      ],
      "execution_count": 27,
      "outputs": [
        {
          "output_type": "execute_result",
          "data": {
            "text/html": [
              "<div>\n",
              "<style scoped>\n",
              "    .dataframe tbody tr th:only-of-type {\n",
              "        vertical-align: middle;\n",
              "    }\n",
              "\n",
              "    .dataframe tbody tr th {\n",
              "        vertical-align: top;\n",
              "    }\n",
              "\n",
              "    .dataframe thead th {\n",
              "        text-align: right;\n",
              "    }\n",
              "</style>\n",
              "<table border=\"1\" class=\"dataframe\">\n",
              "  <thead>\n",
              "    <tr style=\"text-align: right;\">\n",
              "      <th></th>\n",
              "      <th>MILK</th>\n",
              "      <th>BREAD</th>\n",
              "      <th>BISCUIT</th>\n",
              "      <th>Unnamed: 3</th>\n",
              "    </tr>\n",
              "  </thead>\n",
              "  <tbody>\n",
              "    <tr>\n",
              "      <th>0</th>\n",
              "      <td>BREAD</td>\n",
              "      <td>MILK</td>\n",
              "      <td>BISCUIT</td>\n",
              "      <td>CORNFLAKES</td>\n",
              "    </tr>\n",
              "    <tr>\n",
              "      <th>1</th>\n",
              "      <td>BREAD</td>\n",
              "      <td>TEA</td>\n",
              "      <td>BOURNVITA</td>\n",
              "      <td>NaN</td>\n",
              "    </tr>\n",
              "    <tr>\n",
              "      <th>2</th>\n",
              "      <td>JAM</td>\n",
              "      <td>MAGGI</td>\n",
              "      <td>BREAD</td>\n",
              "      <td>MILK</td>\n",
              "    </tr>\n",
              "    <tr>\n",
              "      <th>3</th>\n",
              "      <td>MAGGI</td>\n",
              "      <td>TEA</td>\n",
              "      <td>BISCUIT</td>\n",
              "      <td>NaN</td>\n",
              "    </tr>\n",
              "    <tr>\n",
              "      <th>4</th>\n",
              "      <td>BREAD</td>\n",
              "      <td>TEA</td>\n",
              "      <td>BOURNVITA</td>\n",
              "      <td>NaN</td>\n",
              "    </tr>\n",
              "    <tr>\n",
              "      <th>5</th>\n",
              "      <td>MAGGI</td>\n",
              "      <td>TEA</td>\n",
              "      <td>CORNFLAKES</td>\n",
              "      <td>NaN</td>\n",
              "    </tr>\n",
              "    <tr>\n",
              "      <th>6</th>\n",
              "      <td>MAGGI</td>\n",
              "      <td>BREAD</td>\n",
              "      <td>TEA</td>\n",
              "      <td>BISCUIT</td>\n",
              "    </tr>\n",
              "    <tr>\n",
              "      <th>7</th>\n",
              "      <td>JAM</td>\n",
              "      <td>MAGGI</td>\n",
              "      <td>BREAD</td>\n",
              "      <td>TEA</td>\n",
              "    </tr>\n",
              "    <tr>\n",
              "      <th>8</th>\n",
              "      <td>BREAD</td>\n",
              "      <td>MILK</td>\n",
              "      <td>NaN</td>\n",
              "      <td>NaN</td>\n",
              "    </tr>\n",
              "    <tr>\n",
              "      <th>9</th>\n",
              "      <td>COFFEE</td>\n",
              "      <td>COCK</td>\n",
              "      <td>BISCUIT</td>\n",
              "      <td>CORNFLAKES</td>\n",
              "    </tr>\n",
              "    <tr>\n",
              "      <th>10</th>\n",
              "      <td>COFFEE</td>\n",
              "      <td>COCK</td>\n",
              "      <td>BISCUIT</td>\n",
              "      <td>CORNFLAKES</td>\n",
              "    </tr>\n",
              "    <tr>\n",
              "      <th>11</th>\n",
              "      <td>COFFEE</td>\n",
              "      <td>SUGER</td>\n",
              "      <td>BOURNVITA</td>\n",
              "      <td>NaN</td>\n",
              "    </tr>\n",
              "    <tr>\n",
              "      <th>12</th>\n",
              "      <td>BREAD</td>\n",
              "      <td>COFFEE</td>\n",
              "      <td>COCK</td>\n",
              "      <td>NaN</td>\n",
              "    </tr>\n",
              "    <tr>\n",
              "      <th>13</th>\n",
              "      <td>BREAD</td>\n",
              "      <td>SUGER</td>\n",
              "      <td>BISCUIT</td>\n",
              "      <td>NaN</td>\n",
              "    </tr>\n",
              "    <tr>\n",
              "      <th>14</th>\n",
              "      <td>COFFEE</td>\n",
              "      <td>SUGER</td>\n",
              "      <td>CORNFLAKES</td>\n",
              "      <td>NaN</td>\n",
              "    </tr>\n",
              "    <tr>\n",
              "      <th>15</th>\n",
              "      <td>BREAD</td>\n",
              "      <td>SUGER</td>\n",
              "      <td>BOURNVITA</td>\n",
              "      <td>NaN</td>\n",
              "    </tr>\n",
              "    <tr>\n",
              "      <th>16</th>\n",
              "      <td>BREAD</td>\n",
              "      <td>COFFEE</td>\n",
              "      <td>SUGER</td>\n",
              "      <td>NaN</td>\n",
              "    </tr>\n",
              "    <tr>\n",
              "      <th>17</th>\n",
              "      <td>BREAD</td>\n",
              "      <td>COFFEE</td>\n",
              "      <td>SUGER</td>\n",
              "      <td>NaN</td>\n",
              "    </tr>\n",
              "    <tr>\n",
              "      <th>18</th>\n",
              "      <td>TEA</td>\n",
              "      <td>MILK</td>\n",
              "      <td>COFFEE</td>\n",
              "      <td>CORNFLAKES</td>\n",
              "    </tr>\n",
              "  </tbody>\n",
              "</table>\n",
              "</div>"
            ],
            "text/plain": [
              "      MILK   BREAD     BISCUIT  Unnamed: 3\n",
              "0    BREAD    MILK     BISCUIT  CORNFLAKES\n",
              "1    BREAD     TEA   BOURNVITA         NaN\n",
              "2      JAM   MAGGI       BREAD        MILK\n",
              "3    MAGGI     TEA     BISCUIT         NaN\n",
              "4    BREAD     TEA   BOURNVITA         NaN\n",
              "5    MAGGI     TEA  CORNFLAKES         NaN\n",
              "6    MAGGI   BREAD         TEA     BISCUIT\n",
              "7      JAM   MAGGI       BREAD         TEA\n",
              "8    BREAD    MILK         NaN         NaN\n",
              "9   COFFEE    COCK     BISCUIT  CORNFLAKES\n",
              "10  COFFEE    COCK     BISCUIT  CORNFLAKES\n",
              "11  COFFEE   SUGER   BOURNVITA         NaN\n",
              "12   BREAD  COFFEE        COCK         NaN\n",
              "13   BREAD   SUGER     BISCUIT         NaN\n",
              "14  COFFEE   SUGER  CORNFLAKES         NaN\n",
              "15   BREAD   SUGER   BOURNVITA         NaN\n",
              "16   BREAD  COFFEE       SUGER         NaN\n",
              "17   BREAD  COFFEE       SUGER         NaN\n",
              "18     TEA    MILK      COFFEE  CORNFLAKES"
            ]
          },
          "metadata": {
            "tags": []
          },
          "execution_count": 27
        }
      ]
    },
    {
      "cell_type": "code",
      "metadata": {
        "id": "S1GdS9sC9MiK"
      },
      "source": [
        "lst = [0,1,2,3]"
      ],
      "execution_count": 32,
      "outputs": []
    },
    {
      "cell_type": "code",
      "metadata": {
        "id": "h8eSFKS80q20"
      },
      "source": [
        ""
      ],
      "execution_count": 30,
      "outputs": []
    },
    {
      "cell_type": "code",
      "metadata": {
        "id": "OIEE7-kA9SUg"
      },
      "source": [
        "df.columns= lst"
      ],
      "execution_count": 33,
      "outputs": []
    },
    {
      "cell_type": "code",
      "metadata": {
        "colab": {
          "base_uri": "https://localhost:8080/",
          "height": 669
        },
        "id": "AJUM5Q1h9jW2",
        "outputId": "2e832d7e-90c4-434d-ff48-cf9f8d8651ae"
      },
      "source": [
        "df"
      ],
      "execution_count": 34,
      "outputs": [
        {
          "output_type": "execute_result",
          "data": {
            "text/html": [
              "<div>\n",
              "<style scoped>\n",
              "    .dataframe tbody tr th:only-of-type {\n",
              "        vertical-align: middle;\n",
              "    }\n",
              "\n",
              "    .dataframe tbody tr th {\n",
              "        vertical-align: top;\n",
              "    }\n",
              "\n",
              "    .dataframe thead th {\n",
              "        text-align: right;\n",
              "    }\n",
              "</style>\n",
              "<table border=\"1\" class=\"dataframe\">\n",
              "  <thead>\n",
              "    <tr style=\"text-align: right;\">\n",
              "      <th></th>\n",
              "      <th>0</th>\n",
              "      <th>1</th>\n",
              "      <th>2</th>\n",
              "      <th>3</th>\n",
              "    </tr>\n",
              "  </thead>\n",
              "  <tbody>\n",
              "    <tr>\n",
              "      <th>0</th>\n",
              "      <td>BREAD</td>\n",
              "      <td>MILK</td>\n",
              "      <td>BISCUIT</td>\n",
              "      <td>CORNFLAKES</td>\n",
              "    </tr>\n",
              "    <tr>\n",
              "      <th>1</th>\n",
              "      <td>BREAD</td>\n",
              "      <td>TEA</td>\n",
              "      <td>BOURNVITA</td>\n",
              "      <td>NaN</td>\n",
              "    </tr>\n",
              "    <tr>\n",
              "      <th>2</th>\n",
              "      <td>JAM</td>\n",
              "      <td>MAGGI</td>\n",
              "      <td>BREAD</td>\n",
              "      <td>MILK</td>\n",
              "    </tr>\n",
              "    <tr>\n",
              "      <th>3</th>\n",
              "      <td>MAGGI</td>\n",
              "      <td>TEA</td>\n",
              "      <td>BISCUIT</td>\n",
              "      <td>NaN</td>\n",
              "    </tr>\n",
              "    <tr>\n",
              "      <th>4</th>\n",
              "      <td>BREAD</td>\n",
              "      <td>TEA</td>\n",
              "      <td>BOURNVITA</td>\n",
              "      <td>NaN</td>\n",
              "    </tr>\n",
              "    <tr>\n",
              "      <th>5</th>\n",
              "      <td>MAGGI</td>\n",
              "      <td>TEA</td>\n",
              "      <td>CORNFLAKES</td>\n",
              "      <td>NaN</td>\n",
              "    </tr>\n",
              "    <tr>\n",
              "      <th>6</th>\n",
              "      <td>MAGGI</td>\n",
              "      <td>BREAD</td>\n",
              "      <td>TEA</td>\n",
              "      <td>BISCUIT</td>\n",
              "    </tr>\n",
              "    <tr>\n",
              "      <th>7</th>\n",
              "      <td>JAM</td>\n",
              "      <td>MAGGI</td>\n",
              "      <td>BREAD</td>\n",
              "      <td>TEA</td>\n",
              "    </tr>\n",
              "    <tr>\n",
              "      <th>8</th>\n",
              "      <td>BREAD</td>\n",
              "      <td>MILK</td>\n",
              "      <td>NaN</td>\n",
              "      <td>NaN</td>\n",
              "    </tr>\n",
              "    <tr>\n",
              "      <th>9</th>\n",
              "      <td>COFFEE</td>\n",
              "      <td>COCK</td>\n",
              "      <td>BISCUIT</td>\n",
              "      <td>CORNFLAKES</td>\n",
              "    </tr>\n",
              "    <tr>\n",
              "      <th>10</th>\n",
              "      <td>COFFEE</td>\n",
              "      <td>COCK</td>\n",
              "      <td>BISCUIT</td>\n",
              "      <td>CORNFLAKES</td>\n",
              "    </tr>\n",
              "    <tr>\n",
              "      <th>11</th>\n",
              "      <td>COFFEE</td>\n",
              "      <td>SUGER</td>\n",
              "      <td>BOURNVITA</td>\n",
              "      <td>NaN</td>\n",
              "    </tr>\n",
              "    <tr>\n",
              "      <th>12</th>\n",
              "      <td>BREAD</td>\n",
              "      <td>COFFEE</td>\n",
              "      <td>COCK</td>\n",
              "      <td>NaN</td>\n",
              "    </tr>\n",
              "    <tr>\n",
              "      <th>13</th>\n",
              "      <td>BREAD</td>\n",
              "      <td>SUGER</td>\n",
              "      <td>BISCUIT</td>\n",
              "      <td>NaN</td>\n",
              "    </tr>\n",
              "    <tr>\n",
              "      <th>14</th>\n",
              "      <td>COFFEE</td>\n",
              "      <td>SUGER</td>\n",
              "      <td>CORNFLAKES</td>\n",
              "      <td>NaN</td>\n",
              "    </tr>\n",
              "    <tr>\n",
              "      <th>15</th>\n",
              "      <td>BREAD</td>\n",
              "      <td>SUGER</td>\n",
              "      <td>BOURNVITA</td>\n",
              "      <td>NaN</td>\n",
              "    </tr>\n",
              "    <tr>\n",
              "      <th>16</th>\n",
              "      <td>BREAD</td>\n",
              "      <td>COFFEE</td>\n",
              "      <td>SUGER</td>\n",
              "      <td>NaN</td>\n",
              "    </tr>\n",
              "    <tr>\n",
              "      <th>17</th>\n",
              "      <td>BREAD</td>\n",
              "      <td>COFFEE</td>\n",
              "      <td>SUGER</td>\n",
              "      <td>NaN</td>\n",
              "    </tr>\n",
              "    <tr>\n",
              "      <th>18</th>\n",
              "      <td>TEA</td>\n",
              "      <td>MILK</td>\n",
              "      <td>COFFEE</td>\n",
              "      <td>CORNFLAKES</td>\n",
              "    </tr>\n",
              "    <tr>\n",
              "      <th>19</th>\n",
              "      <td>MILK</td>\n",
              "      <td>BREAD</td>\n",
              "      <td>BISCUIT</td>\n",
              "      <td>NaN</td>\n",
              "    </tr>\n",
              "  </tbody>\n",
              "</table>\n",
              "</div>"
            ],
            "text/plain": [
              "         0       1           2           3\n",
              "0    BREAD    MILK     BISCUIT  CORNFLAKES\n",
              "1    BREAD     TEA   BOURNVITA         NaN\n",
              "2      JAM   MAGGI       BREAD        MILK\n",
              "3    MAGGI     TEA     BISCUIT         NaN\n",
              "4    BREAD     TEA   BOURNVITA         NaN\n",
              "5    MAGGI     TEA  CORNFLAKES         NaN\n",
              "6    MAGGI   BREAD         TEA     BISCUIT\n",
              "7      JAM   MAGGI       BREAD         TEA\n",
              "8    BREAD    MILK         NaN         NaN\n",
              "9   COFFEE    COCK     BISCUIT  CORNFLAKES\n",
              "10  COFFEE    COCK     BISCUIT  CORNFLAKES\n",
              "11  COFFEE   SUGER   BOURNVITA         NaN\n",
              "12   BREAD  COFFEE        COCK         NaN\n",
              "13   BREAD   SUGER     BISCUIT         NaN\n",
              "14  COFFEE   SUGER  CORNFLAKES         NaN\n",
              "15   BREAD   SUGER   BOURNVITA         NaN\n",
              "16   BREAD  COFFEE       SUGER         NaN\n",
              "17   BREAD  COFFEE       SUGER         NaN\n",
              "18     TEA    MILK      COFFEE  CORNFLAKES\n",
              "19    MILK   BREAD     BISCUIT         NaN"
            ]
          },
          "metadata": {
            "tags": []
          },
          "execution_count": 34
        }
      ]
    },
    {
      "cell_type": "code",
      "metadata": {
        "id": "eOZm9wqk9nbj"
      },
      "source": [
        "data = df"
      ],
      "execution_count": 35,
      "outputs": []
    },
    {
      "cell_type": "code",
      "metadata": {
        "id": "Ylve6VQy036g"
      },
      "source": [
        "minimum_support_count = 2\n",
        "records = []\n",
        "for i in range(0, 20):\n",
        "    records.append([str(data.values[i,j]) for j in range(0, 4)])\n",
        "items = sorted([item for sublist in records for item in sublist if item != 'nan'])"
      ],
      "execution_count": 36,
      "outputs": []
    },
    {
      "cell_type": "code",
      "metadata": {
        "id": "h5I59kIg5bmy"
      },
      "source": [
        "def stage_1(items, minimum_support_count):\n",
        "    c1 = {i:items.count(i) for i in items}\n",
        "    l1 = {}\n",
        "    for key, value in c1.items():\n",
        "        if value >= minimum_support_count:\n",
        "           l1[key] = value \n",
        "    \n",
        "    return c1, l1\n",
        "c1, l1 = stage_1(items, minimum_support_count)"
      ],
      "execution_count": 37,
      "outputs": []
    },
    {
      "cell_type": "code",
      "metadata": {
        "colab": {
          "base_uri": "https://localhost:8080/",
          "height": 316
        },
        "id": "3UfwzTcQ5fTN",
        "outputId": "54b34dec-63b7-46e8-936b-23e4b758ae42"
      },
      "source": [
        "def stage_2(l1, records, minimum_support_count):\n",
        "    l1 = sorted(list(l1.keys()))\n",
        "    L1 = list(itertools.combinations(l1, 2))\n",
        "    c2 = {}\n",
        "    l2 = {}\n",
        "    for iter1 in L1:\n",
        "        count = 0\n",
        "        for iter2 in records:\n",
        "            if sublist(iter1, iter2):\n",
        "                count+=1\n",
        "        c2[iter1] = count\n",
        "    for key, value in c2.items():\n",
        "        if value >= minimum_support_count:\n",
        "            if check_subset_frequency(key, l1, 1):\n",
        "                l2[key] = value \n",
        "    \n",
        "    return c2, l2\n",
        "c2, l2 = stage_2(l1, records, minimum_support_count)"
      ],
      "execution_count": 40,
      "outputs": [
        {
          "output_type": "error",
          "ename": "NameError",
          "evalue": "ignored",
          "traceback": [
            "\u001b[0;31m---------------------------------------------------------------------------\u001b[0m",
            "\u001b[0;31mNameError\u001b[0m                                 Traceback (most recent call last)",
            "\u001b[0;32m<ipython-input-40-3031b7474232>\u001b[0m in \u001b[0;36m<module>\u001b[0;34m()\u001b[0m\n\u001b[1;32m     16\u001b[0m \u001b[0;34m\u001b[0m\u001b[0m\n\u001b[1;32m     17\u001b[0m     \u001b[0;32mreturn\u001b[0m \u001b[0mc2\u001b[0m\u001b[0;34m,\u001b[0m \u001b[0ml2\u001b[0m\u001b[0;34m\u001b[0m\u001b[0;34m\u001b[0m\u001b[0m\n\u001b[0;32m---> 18\u001b[0;31m \u001b[0mc2\u001b[0m\u001b[0;34m,\u001b[0m \u001b[0ml2\u001b[0m \u001b[0;34m=\u001b[0m \u001b[0mstage_2\u001b[0m\u001b[0;34m(\u001b[0m\u001b[0ml1\u001b[0m\u001b[0;34m,\u001b[0m \u001b[0mrecords\u001b[0m\u001b[0;34m,\u001b[0m \u001b[0mminimum_support_count\u001b[0m\u001b[0;34m)\u001b[0m\u001b[0;34m\u001b[0m\u001b[0;34m\u001b[0m\u001b[0m\n\u001b[0m",
            "\u001b[0;32m<ipython-input-40-3031b7474232>\u001b[0m in \u001b[0;36mstage_2\u001b[0;34m(l1, records, minimum_support_count)\u001b[0m\n\u001b[1;32m      7\u001b[0m         \u001b[0mcount\u001b[0m \u001b[0;34m=\u001b[0m \u001b[0;36m0\u001b[0m\u001b[0;34m\u001b[0m\u001b[0;34m\u001b[0m\u001b[0m\n\u001b[1;32m      8\u001b[0m         \u001b[0;32mfor\u001b[0m \u001b[0miter2\u001b[0m \u001b[0;32min\u001b[0m \u001b[0mrecords\u001b[0m\u001b[0;34m:\u001b[0m\u001b[0;34m\u001b[0m\u001b[0;34m\u001b[0m\u001b[0m\n\u001b[0;32m----> 9\u001b[0;31m             \u001b[0;32mif\u001b[0m \u001b[0msublist\u001b[0m\u001b[0;34m(\u001b[0m\u001b[0miter1\u001b[0m\u001b[0;34m,\u001b[0m \u001b[0miter2\u001b[0m\u001b[0;34m)\u001b[0m\u001b[0;34m:\u001b[0m\u001b[0;34m\u001b[0m\u001b[0;34m\u001b[0m\u001b[0m\n\u001b[0m\u001b[1;32m     10\u001b[0m                 \u001b[0mcount\u001b[0m\u001b[0;34m+=\u001b[0m\u001b[0;36m1\u001b[0m\u001b[0;34m\u001b[0m\u001b[0;34m\u001b[0m\u001b[0m\n\u001b[1;32m     11\u001b[0m         \u001b[0mc2\u001b[0m\u001b[0;34m[\u001b[0m\u001b[0miter1\u001b[0m\u001b[0;34m]\u001b[0m \u001b[0;34m=\u001b[0m \u001b[0mcount\u001b[0m\u001b[0;34m\u001b[0m\u001b[0;34m\u001b[0m\u001b[0m\n",
            "\u001b[0;31mNameError\u001b[0m: name 'sublist' is not defined"
          ]
        }
      ]
    },
    {
      "cell_type": "code",
      "metadata": {
        "id": "JcZWC4R89q49"
      },
      "source": [
        ""
      ],
      "execution_count": null,
      "outputs": []
    }
  ]
}