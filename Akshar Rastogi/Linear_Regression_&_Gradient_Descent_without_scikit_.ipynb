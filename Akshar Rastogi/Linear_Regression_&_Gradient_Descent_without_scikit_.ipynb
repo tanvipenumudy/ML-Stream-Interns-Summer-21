{
  "nbformat": 4,
  "nbformat_minor": 0,
  "metadata": {
    "colab": {
      "name": "Linear Regression & Gradient Descent without scikit .ipynb",
      "provenance": []
    },
    "kernelspec": {
      "name": "python3",
      "display_name": "Python 3"
    },
    "language_info": {
      "name": "python"
    }
  },
  "cells": [
    {
      "cell_type": "code",
      "metadata": {
        "id": "8_g2vcS1lbTq"
      },
      "source": [
        "import pandas as pd\n",
        "import numpy as np\n",
        "import seaborn as sns\n",
        "import matplotlib.pyplot as plt\n",
        "from sympy import *"
      ],
      "execution_count": 24,
      "outputs": []
    },
    {
      "cell_type": "markdown",
      "metadata": {
        "id": "yko910y4te5I"
      },
      "source": [
        "Linear Regression\n",
        "ypred = f(X)\n",
        "y = B0 + B1X -> this is same as y = mx + c\n",
        "(B1/m = slope , B0/c = intercept[intercept is when X=0 , Y=B0/c])\n",
        "\n",
        "c/B0 is the irrudicble error i.e Y is dependent to X so Y can only be predicted from X but there is no relation in our c with x i.e. neither x and c are related to ech other.\n",
        "\n",
        "\n"
      ]
    },
    {
      "cell_type": "code",
      "metadata": {
        "id": "9HDoEc2ru0OR"
      },
      "source": [
        "df = pd.read_csv('/content/sample_data/california_housing_test.csv')"
      ],
      "execution_count": 3,
      "outputs": []
    },
    {
      "cell_type": "code",
      "metadata": {
        "colab": {
          "base_uri": "https://localhost:8080/"
        },
        "id": "aXaSKcoQu4Ce",
        "outputId": "7384f872-6559-4f6d-a67d-012a11bd1e1c"
      },
      "source": [
        "df.columns"
      ],
      "execution_count": 4,
      "outputs": [
        {
          "output_type": "execute_result",
          "data": {
            "text/plain": [
              "Index(['longitude', 'latitude', 'housing_median_age', 'total_rooms',\n",
              "       'total_bedrooms', 'population', 'households', 'median_income',\n",
              "       'median_house_value'],\n",
              "      dtype='object')"
            ]
          },
          "metadata": {
            "tags": []
          },
          "execution_count": 4
        }
      ]
    },
    {
      "cell_type": "code",
      "metadata": {
        "id": "Ie9Oz8ZyxJwW"
      },
      "source": [
        "df1 = df['total_rooms']\n",
        "df2 = df['total_bedrooms']"
      ],
      "execution_count": 5,
      "outputs": []
    },
    {
      "cell_type": "code",
      "metadata": {
        "colab": {
          "base_uri": "https://localhost:8080/"
        },
        "id": "4-bh-tKcE54a",
        "outputId": "6cdbae0c-3ceb-4f68-d439-247bda7f419f"
      },
      "source": [
        "df1 = df1.to_numpy()\n",
        "df1"
      ],
      "execution_count": 6,
      "outputs": [
        {
          "output_type": "execute_result",
          "data": {
            "text/plain": [
              "array([3885., 1510., 3589., ...,  956.,   96., 1765.])"
            ]
          },
          "metadata": {
            "tags": []
          },
          "execution_count": 6
        }
      ]
    },
    {
      "cell_type": "code",
      "metadata": {
        "id": "IQaMu8ivHd4A"
      },
      "source": [
        "df2 = df2.to_numpy()"
      ],
      "execution_count": 7,
      "outputs": []
    },
    {
      "cell_type": "code",
      "metadata": {
        "colab": {
          "base_uri": "https://localhost:8080/"
        },
        "id": "hbxEmTisHgMy",
        "outputId": "18f93eac-5bf8-4af0-c176-792c019c4412"
      },
      "source": [
        "df2"
      ],
      "execution_count": 8,
      "outputs": [
        {
          "output_type": "execute_result",
          "data": {
            "text/plain": [
              "array([661., 310., 507., ..., 201.,  14., 263.])"
            ]
          },
          "metadata": {
            "tags": []
          },
          "execution_count": 8
        }
      ]
    },
    {
      "cell_type": "code",
      "metadata": {
        "colab": {
          "base_uri": "https://localhost:8080/"
        },
        "id": "QSPXEOSiHjTF",
        "outputId": "efa35ee2-aeb3-484c-808a-1f3e80ce3694"
      },
      "source": [
        "np.cov(df1)"
      ],
      "execution_count": 55,
      "outputs": [
        {
          "output_type": "execute_result",
          "data": {
            "text/plain": [
              "array(4646582.61134867)"
            ]
          },
          "metadata": {
            "tags": []
          },
          "execution_count": 55
        }
      ]
    },
    {
      "cell_type": "code",
      "metadata": {
        "colab": {
          "base_uri": "https://localhost:8080/"
        },
        "id": "P-wKs954H1Z-",
        "outputId": "dca88fd9-fcbb-4bf8-cf18-ea7f13854087"
      },
      "source": [
        "np.cov(df2)"
      ],
      "execution_count": 56,
      "outputs": [
        {
          "output_type": "execute_result",
          "data": {
            "text/plain": [
              "array(172768.55375081)"
            ]
          },
          "metadata": {
            "tags": []
          },
          "execution_count": 56
        }
      ]
    },
    {
      "cell_type": "code",
      "metadata": {
        "id": "u6qo8X-CMCEC"
      },
      "source": [
        "def mean(arr):\n",
        "     \n",
        "    sum = 0\n",
        "    for i in range(0, len(arr)):\n",
        "        sum = sum + arr[i]\n",
        "     \n",
        "    return sum / len(arr)\n",
        "def covariance(arr1, arr2):\n",
        " \n",
        "    sum = 0\n",
        "    for i in range(0, len(arr1)):\n",
        "        sum = (sum + (arr1[i] - mean(arr1)) *\n",
        "                      (arr2[i] - mean(arr2)))\n",
        "     \n",
        "    return sum / (len(arr1) - 1)\n",
        "\n",
        "def variance(x):\n",
        "  xbar = mean(x)\n",
        "  mean_difference_squared_readings = [pow((x - xbar), 2) for xs in x]\n",
        "  variance = sum(mean_difference_squared_readings)\n",
        "  return variance/float(len(x)-1)    \n",
        "\n",
        "def beta(x,y):\n",
        "  beta = covariance(x,y) / variance(x)\n",
        "  return beta\n",
        "\n",
        "\n",
        "def epsilon(x, y):\n",
        "  epsilon = mean(y ) - (beta(x,y)*mean(x))\n",
        "  return epsilon  "
      ],
      "execution_count": 16,
      "outputs": []
    },
    {
      "cell_type": "code",
      "metadata": {
        "colab": {
          "base_uri": "https://localhost:8080/"
        },
        "id": "4BQ4fJ1dOZUH",
        "outputId": "fb68b11b-8d9f-4eb6-dbaf-6d34fb671e4f"
      },
      "source": [
        "mean(df1)"
      ],
      "execution_count": 17,
      "outputs": [
        {
          "output_type": "execute_result",
          "data": {
            "text/plain": [
              "2599.578666666667"
            ]
          },
          "metadata": {
            "tags": []
          },
          "execution_count": 17
        }
      ]
    },
    {
      "cell_type": "code",
      "metadata": {
        "colab": {
          "base_uri": "https://localhost:8080/"
        },
        "id": "4YkZqiOPJ-ZV",
        "outputId": "38cbeaa9-b4a8-4271-b87a-122434757d68"
      },
      "source": [
        "variance(df1)"
      ],
      "execution_count": 18,
      "outputs": [
        {
          "output_type": "execute_result",
          "data": {
            "text/plain": [
              "array([1652858.95717424, 1187577.53003175,  979281.00185577, ...,\n",
              "       2702251.58404985, 6269996.13890138,  696753.80212252])"
            ]
          },
          "metadata": {
            "tags": []
          },
          "execution_count": 18
        }
      ]
    },
    {
      "cell_type": "code",
      "metadata": {
        "colab": {
          "base_uri": "https://localhost:8080/"
        },
        "id": "b2LyvLb2ObH1",
        "outputId": "d9e69bcd-1bf9-4ad0-fe35-618148440583"
      },
      "source": [
        "covariance(df1,df2)"
      ],
      "execution_count": 19,
      "outputs": [
        {
          "output_type": "execute_result",
          "data": {
            "text/plain": [
              "840206.340327665"
            ]
          },
          "metadata": {
            "tags": []
          },
          "execution_count": 19
        }
      ]
    },
    {
      "cell_type": "code",
      "metadata": {
        "colab": {
          "base_uri": "https://localhost:8080/"
        },
        "id": "r9ilAODzOkaQ",
        "outputId": "37a13c7f-17ff-413b-fdbc-3cf12f14b92b"
      },
      "source": [
        "a = epsilon(df1,df2)\n",
        "a"
      ],
      "execution_count": 22,
      "outputs": [
        {
          "output_type": "execute_result",
          "data": {
            "text/plain": [
              "array([ -791.5065989 , -1309.24081572, -1700.44334054, ...,\n",
              "        -278.33176374,   181.59598996, -2604.84740872])"
            ]
          },
          "metadata": {
            "tags": []
          },
          "execution_count": 22
        }
      ]
    },
    {
      "cell_type": "code",
      "metadata": {
        "colab": {
          "base_uri": "https://localhost:8080/"
        },
        "id": "u_wnNqjuPDPI",
        "outputId": "3872299e-19e2-4def-9014-3640367c6cf5"
      },
      "source": [
        "b = beta(df1,df2)\n",
        "b"
      ],
      "execution_count": 23,
      "outputs": [
        {
          "output_type": "execute_result",
          "data": {
            "text/plain": [
              "array([0.50833517, 0.70749599, 0.85798289, ..., 0.31092824, 0.13400428,\n",
              "       1.20588698])"
            ]
          },
          "metadata": {
            "tags": []
          },
          "execution_count": 23
        }
      ]
    },
    {
      "cell_type": "code",
      "metadata": {
        "colab": {
          "base_uri": "https://localhost:8080/"
        },
        "id": "3og9zcexPFYM",
        "outputId": "b2379e01-3778-400d-c3b7-354ebbb801a5"
      },
      "source": [
        "len(a) == len(b)"
      ],
      "execution_count": 102,
      "outputs": [
        {
          "output_type": "execute_result",
          "data": {
            "text/plain": [
              "True"
            ]
          },
          "metadata": {
            "tags": []
          },
          "execution_count": 102
        }
      ]
    },
    {
      "cell_type": "code",
      "metadata": {
        "colab": {
          "base_uri": "https://localhost:8080/",
          "height": 293
        },
        "id": "srTt9PUXPUzw",
        "outputId": "42dae6e6-fef8-47ae-f060-1d95729dca87"
      },
      "source": [
        "sns.lineplot(x=b, y=a)"
      ],
      "execution_count": 105,
      "outputs": [
        {
          "output_type": "execute_result",
          "data": {
            "text/plain": [
              "<matplotlib.axes._subplots.AxesSubplot at 0x7f68776bbf10>"
            ]
          },
          "metadata": {
            "tags": []
          },
          "execution_count": 105
        },
        {
          "output_type": "display_data",
          "data": {
            "image/png": "[encoded data removed]",
            "text/plain": [
              "<Figure size 432x288 with 1 Axes>"
            ]
          },
          "metadata": {
            "tags": [],
            "needs_background": "light"
          }
        }
      ]
    },
    {
      "cell_type": "code",
      "metadata": {
        "colab": {
          "base_uri": "https://localhost:8080/",
          "height": 293
        },
        "id": "FaABpXcTPj5n",
        "outputId": "aa0fafb0-1f1a-4e1c-989b-69f1ec23b05a"
      },
      "source": [
        "sns.scatterplot(x=b, y=a)"
      ],
      "execution_count": 106,
      "outputs": [
        {
          "output_type": "execute_result",
          "data": {
            "text/plain": [
              "<matplotlib.axes._subplots.AxesSubplot at 0x7f68773af210>"
            ]
          },
          "metadata": {
            "tags": []
          },
          "execution_count": 106
        },
        {
          "output_type": "display_data",
          "data": {
            "image/png": "[encoded data removed]",
            "text/plain": [
              "<Figure size 432x288 with 1 Axes>"
            ]
          },
          "metadata": {
            "tags": [],
            "needs_background": "light"
          }
        }
      ]
    },
    {
      "cell_type": "markdown",
      "metadata": {
        "id": "GqJLOADoerKR"
      },
      "source": [
        "Gradient Descent \n",
        "for initializing gradient descent we need a equation relation of x and y and we must differentiate y wrt x  to obtain the gradient descent "
      ]
    },
    {
      "cell_type": "code",
      "metadata": {
        "colab": {
          "base_uri": "https://localhost:8080/",
          "height": 52
        },
        "id": "r1xEwvGnPx-G",
        "outputId": "a9aeac5c-cb5c-483c-9742-04bae13bc2c4"
      },
      "source": [
        "#let first initiate an eqn\n",
        "x = symbols('x')\n",
        "eqn = (x+5)**2\n",
        "diff_eqn = Derivative(eqn, x) \n",
        "diff_eqn"
      ],
      "execution_count": 27,
      "outputs": [
        {
          "output_type": "execute_result",
          "data": {
            "text/latex": "$\\displaystyle \\frac{d}{d x} \\left(x + 5\\right)^{2}$",
            "text/plain": [
              "Derivative((x + 5)**2, x)"
            ]
          },
          "metadata": {
            "tags": []
          },
          "execution_count": 27
        }
      ]
    },
    {
      "cell_type": "code",
      "metadata": {
        "colab": {
          "base_uri": "https://localhost:8080/",
          "height": 38
        },
        "id": "XMRrSmXPgBJF",
        "outputId": "17d030ee-1eac-45dc-b49b-dce4aebc08e4"
      },
      "source": [
        "diff_eqn_ans = diff_eqn.doit()\n",
        "diff_eqn_ans"
      ],
      "execution_count": 28,
      "outputs": [
        {
          "output_type": "execute_result",
          "data": {
            "text/latex": "$\\displaystyle 2 x + 10$",
            "text/plain": [
              "2*x + 10"
            ]
          },
          "metadata": {
            "tags": []
          },
          "execution_count": 28
        }
      ]
    },
    {
      "cell_type": "code",
      "metadata": {
        "id": "N_C5TriVgg6p"
      },
      "source": [
        "alpha = 0.1\n",
        "x0 = 3\n",
        "x1 =  x0 - alpha*diff_eqn_ans"
      ],
      "execution_count": 33,
      "outputs": []
    },
    {
      "cell_type": "code",
      "metadata": {
        "colab": {
          "base_uri": "https://localhost:8080/",
          "height": 38
        },
        "id": "_Ow0P2hNg4Ht",
        "outputId": "2134bc85-043d-4e61-bb36-6dff8172ee99"
      },
      "source": [
        "x1"
      ],
      "execution_count": 34,
      "outputs": [
        {
          "output_type": "execute_result",
          "data": {
            "text/latex": "$\\displaystyle 2.0 - 0.2 x$",
            "text/plain": [
              "2.0 - 0.2*x"
            ]
          },
          "metadata": {
            "tags": []
          },
          "execution_count": 34
        }
      ]
    },
    {
      "cell_type": "code",
      "metadata": {
        "id": "-_rgF6xWg7op"
      },
      "source": [
        ""
      ],
      "execution_count": 47,
      "outputs": []
    },
    {
      "cell_type": "code",
      "metadata": {
        "colab": {
          "base_uri": "https://localhost:8080/"
        },
        "id": "_ZuuWHDyk8aZ",
        "outputId": "7a3a6024-32a3-44fa-a9e6-ca49b7ca45c9"
      },
      "source": [
        "x_nought = 3 #wheer the algorithm starts\n",
        "alpha = 0.01 #alpha_learning_rate\n",
        "precision = 0.000001\n",
        "previous_step_size  = 1\n",
        "max_iters = 10000 #maximum numbers of iterations that need to be carried\n",
        "iters =0 #initiating the iter counter\n",
        "df = lambda x: 2*(x+10) #gradient of our function\n",
        "\n",
        "plot = []\n",
        "iter_plot = []\n",
        "while previous_step_size > precision and iters < max_iters:\n",
        "  prev_x = x_nought #store current x value in prev_x\n",
        "  x_nought = x_nought - alpha*df(prev_x) #grad descent\n",
        "  previous_step_size = abs(x_nought - prev_x)# change in x\n",
        "  iters = iters+1 #iteration count\n",
        "  plot.append(x_nought)\n",
        "  iter_plot.append(prev_x)\n",
        "  print('Iterations', iters, 'X value is', x_nought) #prints all the iterations"
      ],
      "execution_count": 81,
      "outputs": [
        {
          "output_type": "stream",
          "text": [
            "Iterations 1 X value is 2.74\n",
            "Iterations 2 X value is 2.4852000000000003\n",
            "Iterations 3 X value is 2.2354960000000004\n",
            "Iterations 4 X value is 1.9907860800000003\n",
            "Iterations 5 X value is 1.7509703584000003\n",
            "Iterations 6 X value is 1.5159509512320002\n",
            "Iterations 7 X value is 1.2856319322073602\n",
            "Iterations 8 X value is 1.059919293563213\n",
            "Iterations 9 X value is 0.8387209076919486\n",
            "Iterations 10 X value is 0.6219464895381097\n",
            "Iterations 11 X value is 0.40950755974734754\n",
            "Iterations 12 X value is 0.2013174085524006\n",
            "Iterations 13 X value is -0.0027089396186474046\n",
            "Iterations 14 X value is -0.20265476082627445\n",
            "Iterations 15 X value is -0.39860166560974897\n",
            "Iterations 16 X value is -0.5906296322975539\n",
            "Iterations 17 X value is -0.7788170396516029\n",
            "Iterations 18 X value is -0.9632406988585708\n",
            "Iterations 19 X value is -1.1439758848813995\n",
            "Iterations 20 X value is -1.3210963671837714\n",
            "Iterations 21 X value is -1.494674439840096\n",
            "Iterations 22 X value is -1.664780951043294\n",
            "Iterations 23 X value is -1.8314853320224282\n",
            "Iterations 24 X value is -1.9948556253819798\n",
            "Iterations 25 X value is -2.15495851287434\n",
            "Iterations 26 X value is -2.311859342616853\n",
            "Iterations 27 X value is -2.465622155764516\n",
            "Iterations 28 X value is -2.616309712649226\n",
            "Iterations 29 X value is -2.7639835183962416\n",
            "Iterations 30 X value is -2.908703848028317\n",
            "Iterations 31 X value is -3.0505297710677506\n",
            "Iterations 32 X value is -3.1895191756463954\n",
            "Iterations 33 X value is -3.3257287921334675\n",
            "Iterations 34 X value is -3.459214216290798\n",
            "Iterations 35 X value is -3.590029931964982\n",
            "Iterations 36 X value is -3.718229333325682\n",
            "Iterations 37 X value is -3.8438647466591687\n",
            "Iterations 38 X value is -3.966987451725985\n",
            "Iterations 39 X value is -4.0876477026914655\n",
            "Iterations 40 X value is -4.205894748637636\n",
            "Iterations 41 X value is -4.3217768536648835\n",
            "Iterations 42 X value is -4.435341316591586\n",
            "Iterations 43 X value is -4.546634490259755\n",
            "Iterations 44 X value is -4.655701800454559\n",
            "Iterations 45 X value is -4.762587764445468\n",
            "Iterations 46 X value is -4.867336009156558\n",
            "Iterations 47 X value is -4.9699892889734265\n",
            "Iterations 48 X value is -5.070589503193958\n",
            "Iterations 49 X value is -5.169177713130079\n",
            "Iterations 50 X value is -5.265794158867477\n",
            "Iterations 51 X value is -5.360478275690127\n",
            "Iterations 52 X value is -5.453268710176324\n",
            "Iterations 53 X value is -5.544203335972798\n",
            "Iterations 54 X value is -5.633319269253342\n",
            "Iterations 55 X value is -5.720652883868275\n",
            "Iterations 56 X value is -5.806239826190909\n",
            "Iterations 57 X value is -5.890115029667091\n",
            "Iterations 58 X value is -5.9723127290737485\n",
            "Iterations 59 X value is -6.052866474492274\n",
            "Iterations 60 X value is -6.131809145002428\n",
            "Iterations 61 X value is -6.20917296210238\n",
            "Iterations 62 X value is -6.284989502860332\n",
            "Iterations 63 X value is -6.359289712803125\n",
            "Iterations 64 X value is -6.432103918547063\n",
            "Iterations 65 X value is -6.503461840176122\n",
            "Iterations 66 X value is -6.5733926033726\n",
            "Iterations 67 X value is -6.641924751305148\n",
            "Iterations 68 X value is -6.709086256279045\n",
            "Iterations 69 X value is -6.774904531153465\n",
            "Iterations 70 X value is -6.839406440530396\n",
            "Iterations 71 X value is -6.902618311719788\n",
            "Iterations 72 X value is -6.9645659454853925\n",
            "Iterations 73 X value is -7.025274626575685\n",
            "Iterations 74 X value is -7.084769134044172\n",
            "Iterations 75 X value is -7.143073751363288\n",
            "Iterations 76 X value is -7.200212276336022\n",
            "Iterations 77 X value is -7.256208030809302\n",
            "Iterations 78 X value is -7.311083870193116\n",
            "Iterations 79 X value is -7.3648621927892535\n",
            "Iterations 80 X value is -7.417564948933468\n",
            "Iterations 81 X value is -7.469213649954799\n",
            "Iterations 82 X value is -7.519829376955704\n",
            "Iterations 83 X value is -7.56943278941659\n",
            "Iterations 84 X value is -7.618044133628258\n",
            "Iterations 85 X value is -7.665683250955693\n",
            "Iterations 86 X value is -7.712369585936579\n",
            "Iterations 87 X value is -7.758122194217847\n",
            "Iterations 88 X value is -7.80295975033349\n",
            "Iterations 89 X value is -7.84690055532682\n",
            "Iterations 90 X value is -7.889962544220284\n",
            "Iterations 91 X value is -7.932163293335878\n",
            "Iterations 92 X value is -7.973520027469161\n",
            "Iterations 93 X value is -8.014049626919778\n",
            "Iterations 94 X value is -8.053768634381383\n",
            "Iterations 95 X value is -8.092693261693755\n",
            "Iterations 96 X value is -8.13083939645988\n",
            "Iterations 97 X value is -8.168222608530682\n",
            "Iterations 98 X value is -8.204858156360068\n",
            "Iterations 99 X value is -8.240760993232866\n",
            "Iterations 100 X value is -8.275945773368209\n",
            "Iterations 101 X value is -8.310426857900845\n",
            "Iterations 102 X value is -8.344218320742828\n",
            "Iterations 103 X value is -8.377333954327971\n",
            "Iterations 104 X value is -8.409787275241412\n",
            "Iterations 105 X value is -8.441591529736584\n",
            "Iterations 106 X value is -8.472759699141852\n",
            "Iterations 107 X value is -8.503304505159015\n",
            "Iterations 108 X value is -8.533238415055834\n",
            "Iterations 109 X value is -8.562573646754718\n",
            "Iterations 110 X value is -8.591322173819623\n",
            "Iterations 111 X value is -8.619495730343232\n",
            "Iterations 112 X value is -8.647105815736367\n",
            "Iterations 113 X value is -8.67416369942164\n",
            "Iterations 114 X value is -8.700680425433207\n",
            "Iterations 115 X value is -8.726666816924542\n",
            "Iterations 116 X value is -8.752133480586052\n",
            "Iterations 117 X value is -8.77709081097433\n",
            "Iterations 118 X value is -8.801548994754844\n",
            "Iterations 119 X value is -8.825518014859748\n",
            "Iterations 120 X value is -8.849007654562552\n",
            "Iterations 121 X value is -8.872027501471301\n",
            "Iterations 122 X value is -8.894586951441875\n",
            "Iterations 123 X value is -8.916695212413037\n",
            "Iterations 124 X value is -8.938361308164776\n",
            "Iterations 125 X value is -8.95959408200148\n",
            "Iterations 126 X value is -8.98040220036145\n",
            "Iterations 127 X value is -9.000794156354221\n",
            "Iterations 128 X value is -9.020778273227137\n",
            "Iterations 129 X value is -9.040362707762593\n",
            "Iterations 130 X value is -9.059555453607341\n",
            "Iterations 131 X value is -9.078364344535194\n",
            "Iterations 132 X value is -9.09679705764449\n",
            "Iterations 133 X value is -9.114861116491602\n",
            "Iterations 134 X value is -9.13256389416177\n",
            "Iterations 135 X value is -9.149912616278534\n",
            "Iterations 136 X value is -9.166914363952964\n",
            "Iterations 137 X value is -9.183576076673905\n",
            "Iterations 138 X value is -9.199904555140426\n",
            "Iterations 139 X value is -9.215906464037618\n",
            "Iterations 140 X value is -9.231588334756864\n",
            "Iterations 141 X value is -9.246956568061727\n",
            "Iterations 142 X value is -9.262017436700493\n",
            "Iterations 143 X value is -9.276777087966483\n",
            "Iterations 144 X value is -9.291241546207154\n",
            "Iterations 145 X value is -9.30541671528301\n",
            "Iterations 146 X value is -9.31930838097735\n",
            "Iterations 147 X value is -9.332922213357804\n",
            "Iterations 148 X value is -9.346263769090648\n",
            "Iterations 149 X value is -9.359338493708835\n",
            "Iterations 150 X value is -9.372151723834659\n",
            "Iterations 151 X value is -9.384708689357966\n",
            "Iterations 152 X value is -9.397014515570806\n",
            "Iterations 153 X value is -9.40907422525939\n",
            "Iterations 154 X value is -9.420892740754203\n",
            "Iterations 155 X value is -9.432474885939119\n",
            "Iterations 156 X value is -9.443825388220336\n",
            "Iterations 157 X value is -9.45494888045593\n",
            "Iterations 158 X value is -9.465849902846811\n",
            "Iterations 159 X value is -9.476532904789876\n",
            "Iterations 160 X value is -9.487002246694079\n",
            "Iterations 161 X value is -9.497262201760197\n",
            "Iterations 162 X value is -9.507316957724994\n",
            "Iterations 163 X value is -9.517170618570495\n",
            "Iterations 164 X value is -9.526827206199085\n",
            "Iterations 165 X value is -9.536290662075103\n",
            "Iterations 166 X value is -9.545564848833601\n",
            "Iterations 167 X value is -9.55465355185693\n",
            "Iterations 168 X value is -9.563560480819792\n",
            "Iterations 169 X value is -9.572289271203395\n",
            "Iterations 170 X value is -9.580843485779328\n",
            "Iterations 171 X value is -9.58922661606374\n",
            "Iterations 172 X value is -9.597442083742466\n",
            "Iterations 173 X value is -9.605493242067617\n",
            "Iterations 174 X value is -9.613383377226265\n",
            "Iterations 175 X value is -9.62111570968174\n",
            "Iterations 176 X value is -9.628693395488106\n",
            "Iterations 177 X value is -9.636119527578344\n",
            "Iterations 178 X value is -9.643397137026778\n",
            "Iterations 179 X value is -9.650529194286243\n",
            "Iterations 180 X value is -9.657518610400517\n",
            "Iterations 181 X value is -9.664368238192507\n",
            "Iterations 182 X value is -9.671080873428657\n",
            "Iterations 183 X value is -9.677659255960084\n",
            "Iterations 184 X value is -9.684106070840881\n",
            "Iterations 185 X value is -9.690423949424064\n",
            "Iterations 186 X value is -9.696615470435583\n",
            "Iterations 187 X value is -9.702683161026872\n",
            "Iterations 188 X value is -9.708629497806335\n",
            "Iterations 189 X value is -9.714456907850208\n",
            "Iterations 190 X value is -9.720167769693203\n",
            "Iterations 191 X value is -9.72576441429934\n",
            "Iterations 192 X value is -9.731249126013353\n",
            "Iterations 193 X value is -9.736624143493085\n",
            "Iterations 194 X value is -9.741891660623223\n",
            "Iterations 195 X value is -9.747053827410758\n",
            "Iterations 196 X value is -9.752112750862542\n",
            "Iterations 197 X value is -9.75707049584529\n",
            "Iterations 198 X value is -9.761929085928385\n",
            "Iterations 199 X value is -9.766690504209818\n",
            "Iterations 200 X value is -9.771356694125622\n",
            "Iterations 201 X value is -9.77592956024311\n",
            "Iterations 202 X value is -9.780410969038249\n",
            "Iterations 203 X value is -9.784802749657484\n",
            "Iterations 204 X value is -9.789106694664333\n",
            "Iterations 205 X value is -9.793324560771048\n",
            "Iterations 206 X value is -9.797458069555626\n",
            "Iterations 207 X value is -9.801508908164513\n",
            "Iterations 208 X value is -9.805478730001223\n",
            "Iterations 209 X value is -9.809369155401198\n",
            "Iterations 210 X value is -9.813181772293174\n",
            "Iterations 211 X value is -9.81691813684731\n",
            "Iterations 212 X value is -9.820579774110364\n",
            "Iterations 213 X value is -9.824168178628156\n",
            "Iterations 214 X value is -9.827684815055592\n",
            "Iterations 215 X value is -9.831131118754481\n",
            "Iterations 216 X value is -9.83450849637939\n",
            "Iterations 217 X value is -9.837818326451803\n",
            "Iterations 218 X value is -9.841061959922767\n",
            "Iterations 219 X value is -9.844240720724311\n",
            "Iterations 220 X value is -9.847355906309826\n",
            "Iterations 221 X value is -9.850408788183628\n",
            "Iterations 222 X value is -9.853400612419955\n",
            "Iterations 223 X value is -9.856332600171557\n",
            "Iterations 224 X value is -9.859205948168126\n",
            "Iterations 225 X value is -9.862021829204764\n",
            "Iterations 226 X value is -9.864781392620669\n",
            "Iterations 227 X value is -9.867485764768256\n",
            "Iterations 228 X value is -9.87013604947289\n",
            "Iterations 229 X value is -9.872733328483433\n",
            "Iterations 230 X value is -9.875278661913764\n",
            "Iterations 231 X value is -9.87777308867549\n",
            "Iterations 232 X value is -9.88021762690198\n",
            "Iterations 233 X value is -9.88261327436394\n",
            "Iterations 234 X value is -9.884961008876662\n",
            "Iterations 235 X value is -9.887261788699128\n",
            "Iterations 236 X value is -9.889516552925146\n",
            "Iterations 237 X value is -9.891726221866643\n",
            "Iterations 238 X value is -9.893891697429309\n",
            "Iterations 239 X value is -9.896013863480723\n",
            "Iterations 240 X value is -9.89809358621111\n",
            "Iterations 241 X value is -9.900131714486887\n",
            "Iterations 242 X value is -9.902129080197149\n",
            "Iterations 243 X value is -9.904086498593205\n",
            "Iterations 244 X value is -9.906004768621342\n",
            "Iterations 245 X value is -9.907884673248915\n",
            "Iterations 246 X value is -9.909726979783937\n",
            "Iterations 247 X value is -9.911532440188259\n",
            "Iterations 248 X value is -9.913301791384493\n",
            "Iterations 249 X value is -9.915035755556802\n",
            "Iterations 250 X value is -9.916735040445666\n",
            "Iterations 251 X value is -9.918400339636753\n",
            "Iterations 252 X value is -9.920032332844018\n",
            "Iterations 253 X value is -9.921631686187137\n",
            "Iterations 254 X value is -9.923199052463394\n",
            "Iterations 255 X value is -9.924735071414126\n",
            "Iterations 256 X value is -9.926240369985845\n",
            "Iterations 257 X value is -9.927715562586128\n",
            "Iterations 258 X value is -9.929161251334406\n",
            "Iterations 259 X value is -9.930578026307717\n",
            "Iterations 260 X value is -9.931966465781564\n",
            "Iterations 261 X value is -9.933327136465932\n",
            "Iterations 262 X value is -9.934660593736613\n",
            "Iterations 263 X value is -9.93596738186188\n",
            "Iterations 264 X value is -9.937248034224643\n",
            "Iterations 265 X value is -9.93850307354015\n",
            "Iterations 266 X value is -9.939733012069349\n",
            "Iterations 267 X value is -9.940938351827961\n",
            "Iterations 268 X value is -9.942119584791403\n",
            "Iterations 269 X value is -9.943277193095575\n",
            "Iterations 270 X value is -9.944411649233663\n",
            "Iterations 271 X value is -9.94552341624899\n",
            "Iterations 272 X value is -9.946612947924011\n",
            "Iterations 273 X value is -9.947680688965532\n",
            "Iterations 274 X value is -9.948727075186222\n",
            "Iterations 275 X value is -9.949752533682497\n",
            "Iterations 276 X value is -9.950757483008848\n",
            "Iterations 277 X value is -9.95174233334867\n",
            "Iterations 278 X value is -9.952707486681698\n",
            "Iterations 279 X value is -9.953653336948063\n",
            "Iterations 280 X value is -9.954580270209101\n",
            "Iterations 281 X value is -9.95548866480492\n",
            "Iterations 282 X value is -9.956378891508821\n",
            "Iterations 283 X value is -9.957251313678645\n",
            "Iterations 284 X value is -9.958106287405073\n",
            "Iterations 285 X value is -9.958944161656971\n",
            "Iterations 286 X value is -9.959765278423832\n",
            "Iterations 287 X value is -9.960569972855355\n",
            "Iterations 288 X value is -9.961358573398249\n",
            "Iterations 289 X value is -9.962131401930284\n",
            "Iterations 290 X value is -9.96288877389168\n",
            "Iterations 291 X value is -9.963630998413846\n",
            "Iterations 292 X value is -9.964358378445569\n",
            "Iterations 293 X value is -9.965071210876658\n",
            "Iterations 294 X value is -9.965769786659125\n",
            "Iterations 295 X value is -9.966454390925943\n",
            "Iterations 296 X value is -9.967125303107425\n",
            "Iterations 297 X value is -9.967782797045276\n",
            "Iterations 298 X value is -9.968427141104371\n",
            "Iterations 299 X value is -9.969058598282283\n",
            "Iterations 300 X value is -9.969677426316638\n",
            "Iterations 301 X value is -9.970283877790305\n",
            "Iterations 302 X value is -9.970878200234498\n",
            "Iterations 303 X value is -9.971460636229809\n",
            "Iterations 304 X value is -9.972031423505213\n",
            "Iterations 305 X value is -9.972590795035108\n",
            "Iterations 306 X value is -9.973138979134406\n",
            "Iterations 307 X value is -9.973676199551718\n",
            "Iterations 308 X value is -9.974202675560685\n",
            "Iterations 309 X value is -9.97471862204947\n",
            "Iterations 310 X value is -9.975224249608482\n",
            "Iterations 311 X value is -9.975719764616313\n",
            "Iterations 312 X value is -9.976205369323987\n",
            "Iterations 313 X value is -9.976681261937507\n",
            "Iterations 314 X value is -9.977147636698756\n",
            "Iterations 315 X value is -9.977604683964781\n",
            "Iterations 316 X value is -9.978052590285486\n",
            "Iterations 317 X value is -9.978491538479776\n",
            "Iterations 318 X value is -9.97892170771018\n",
            "Iterations 319 X value is -9.979343273555976\n",
            "Iterations 320 X value is -9.979756408084857\n",
            "Iterations 321 X value is -9.98016127992316\n",
            "Iterations 322 X value is -9.980558054324696\n",
            "Iterations 323 X value is -9.980946893238203\n",
            "Iterations 324 X value is -9.98132795537344\n",
            "Iterations 325 X value is -9.98170139626597\n",
            "Iterations 326 X value is -9.982067368340651\n",
            "Iterations 327 X value is -9.982426020973838\n",
            "Iterations 328 X value is -9.982777500554361\n",
            "Iterations 329 X value is -9.983121950543273\n",
            "Iterations 330 X value is -9.983459511532407\n",
            "Iterations 331 X value is -9.98379032130176\n",
            "Iterations 332 X value is -9.984114514875724\n",
            "Iterations 333 X value is -9.98443222457821\n",
            "Iterations 334 X value is -9.984743580086645\n",
            "Iterations 335 X value is -9.985048708484912\n",
            "Iterations 336 X value is -9.985347734315214\n",
            "Iterations 337 X value is -9.985640779628909\n",
            "Iterations 338 X value is -9.98592796403633\n",
            "Iterations 339 X value is -9.986209404755604\n",
            "Iterations 340 X value is -9.986485216660492\n",
            "Iterations 341 X value is -9.986755512327282\n",
            "Iterations 342 X value is -9.987020402080736\n",
            "Iterations 343 X value is -9.987279994039122\n",
            "Iterations 344 X value is -9.98753439415834\n",
            "Iterations 345 X value is -9.987783706275174\n",
            "Iterations 346 X value is -9.98802803214967\n",
            "Iterations 347 X value is -9.988267471506676\n",
            "Iterations 348 X value is -9.988502122076543\n",
            "Iterations 349 X value is -9.988732079635012\n",
            "Iterations 350 X value is -9.988957438042313\n",
            "Iterations 351 X value is -9.989178289281467\n",
            "Iterations 352 X value is -9.989394723495838\n",
            "Iterations 353 X value is -9.989606829025922\n",
            "Iterations 354 X value is -9.989814692445403\n",
            "Iterations 355 X value is -9.990018398596495\n",
            "Iterations 356 X value is -9.990218030624565\n",
            "Iterations 357 X value is -9.990413670012073\n",
            "Iterations 358 X value is -9.990605396611832\n",
            "Iterations 359 X value is -9.990793288679596\n",
            "Iterations 360 X value is -9.990977422906004\n",
            "Iterations 361 X value is -9.991157874447884\n",
            "Iterations 362 X value is -9.991334716958926\n",
            "Iterations 363 X value is -9.991508022619747\n",
            "Iterations 364 X value is -9.991677862167352\n",
            "Iterations 365 X value is -9.991844304924005\n",
            "Iterations 366 X value is -9.992007418825525\n",
            "Iterations 367 X value is -9.992167270449015\n",
            "Iterations 368 X value is -9.992323925040035\n",
            "Iterations 369 X value is -9.992477446539233\n",
            "Iterations 370 X value is -9.992627897608449\n",
            "Iterations 371 X value is -9.99277533965628\n",
            "Iterations 372 X value is -9.992919832863155\n",
            "Iterations 373 X value is -9.993061436205892\n",
            "Iterations 374 X value is -9.993200207481774\n",
            "Iterations 375 X value is -9.993336203332138\n",
            "Iterations 376 X value is -9.993469479265496\n",
            "Iterations 377 X value is -9.993600089680186\n",
            "Iterations 378 X value is -9.993728087886582\n",
            "Iterations 379 X value is -9.99385352612885\n",
            "Iterations 380 X value is -9.993976455606273\n",
            "Iterations 381 X value is -9.994096926494148\n",
            "Iterations 382 X value is -9.994214987964265\n",
            "Iterations 383 X value is -9.994330688204979\n",
            "Iterations 384 X value is -9.99444407444088\n",
            "Iterations 385 X value is -9.994555192952062\n",
            "Iterations 386 X value is -9.994664089093021\n",
            "Iterations 387 X value is -9.994770807311161\n",
            "Iterations 388 X value is -9.994875391164937\n",
            "Iterations 389 X value is -9.994977883341639\n",
            "Iterations 390 X value is -9.995078325674806\n",
            "Iterations 391 X value is -9.995176759161309\n",
            "Iterations 392 X value is -9.995273223978083\n",
            "Iterations 393 X value is -9.99536775949852\n",
            "Iterations 394 X value is -9.99546040430855\n",
            "Iterations 395 X value is -9.99555119622238\n",
            "Iterations 396 X value is -9.995640172297932\n",
            "Iterations 397 X value is -9.995727368851973\n",
            "Iterations 398 X value is -9.995812821474933\n",
            "Iterations 399 X value is -9.995896565045435\n",
            "Iterations 400 X value is -9.995978633744526\n",
            "Iterations 401 X value is -9.996059061069635\n",
            "Iterations 402 X value is -9.996137879848243\n",
            "Iterations 403 X value is -9.996215122251279\n",
            "Iterations 404 X value is -9.996290819806253\n",
            "Iterations 405 X value is -9.996365003410128\n",
            "Iterations 406 X value is -9.996437703341925\n",
            "Iterations 407 X value is -9.996508949275087\n",
            "Iterations 408 X value is -9.996578770289586\n",
            "Iterations 409 X value is -9.996647194883794\n",
            "Iterations 410 X value is -9.996714250986118\n",
            "Iterations 411 X value is -9.996779965966395\n",
            "Iterations 412 X value is -9.996844366647068\n",
            "Iterations 413 X value is -9.996907479314126\n",
            "Iterations 414 X value is -9.996969329727843\n",
            "Iterations 415 X value is -9.997029943133287\n",
            "Iterations 416 X value is -9.99708934427062\n",
            "Iterations 417 X value is -9.997147557385208\n",
            "Iterations 418 X value is -9.997204606237505\n",
            "Iterations 419 X value is -9.997260514112755\n",
            "Iterations 420 X value is -9.997315303830499\n",
            "Iterations 421 X value is -9.997368997753888\n",
            "Iterations 422 X value is -9.99742161779881\n",
            "Iterations 423 X value is -9.997473185442834\n",
            "Iterations 424 X value is -9.997523721733977\n",
            "Iterations 425 X value is -9.997573247299297\n",
            "Iterations 426 X value is -9.997621782353312\n",
            "Iterations 427 X value is -9.997669346706246\n",
            "Iterations 428 X value is -9.99771595977212\n",
            "Iterations 429 X value is -9.997761640576678\n",
            "Iterations 430 X value is -9.997806407765145\n",
            "Iterations 431 X value is -9.997850279609843\n",
            "Iterations 432 X value is -9.997893274017645\n",
            "Iterations 433 X value is -9.997935408537293\n",
            "Iterations 434 X value is -9.997976700366547\n",
            "Iterations 435 X value is -9.998017166359215\n",
            "Iterations 436 X value is -9.99805682303203\n",
            "Iterations 437 X value is -9.99809568657139\n",
            "Iterations 438 X value is -9.998133772839962\n",
            "Iterations 439 X value is -9.998171097383162\n",
            "Iterations 440 X value is -9.998207675435498\n",
            "Iterations 441 X value is -9.998243521926788\n",
            "Iterations 442 X value is -9.998278651488253\n",
            "Iterations 443 X value is -9.998313078458487\n",
            "Iterations 444 X value is -9.998346816889317\n",
            "Iterations 445 X value is -9.99837988055153\n",
            "Iterations 446 X value is -9.9984122829405\n",
            "Iterations 447 X value is -9.99844403728169\n",
            "Iterations 448 X value is -9.998475156536056\n",
            "Iterations 449 X value is -9.998505653405335\n",
            "Iterations 450 X value is -9.998535540337228\n",
            "Iterations 451 X value is -9.998564829530483\n",
            "Iterations 452 X value is -9.998593532939873\n",
            "Iterations 453 X value is -9.998621662281076\n",
            "Iterations 454 X value is -9.998649229035454\n",
            "Iterations 455 X value is -9.998676244454744\n",
            "Iterations 456 X value is -9.99870271956565\n",
            "Iterations 457 X value is -9.998728665174337\n",
            "Iterations 458 X value is -9.99875409187085\n",
            "Iterations 459 X value is -9.998779010033433\n",
            "Iterations 460 X value is -9.998803429832764\n",
            "Iterations 461 X value is -9.998827361236108\n",
            "Iterations 462 X value is -9.998850814011385\n",
            "Iterations 463 X value is -9.998873797731157\n",
            "Iterations 464 X value is -9.998896321776535\n",
            "Iterations 465 X value is -9.998918395341004\n",
            "Iterations 466 X value is -9.998940027434184\n",
            "Iterations 467 X value is -9.9989612268855\n",
            "Iterations 468 X value is -9.99898200234779\n",
            "Iterations 469 X value is -9.999002362300834\n",
            "Iterations 470 X value is -9.999022315054818\n",
            "Iterations 471 X value is -9.999041868753721\n",
            "Iterations 472 X value is -9.999061031378647\n",
            "Iterations 473 X value is -9.999079810751073\n",
            "Iterations 474 X value is -9.999098214536051\n",
            "Iterations 475 X value is -9.999116250245331\n",
            "Iterations 476 X value is -9.999133925240425\n",
            "Iterations 477 X value is -9.999151246735616\n",
            "Iterations 478 X value is -9.999168221800904\n",
            "Iterations 479 X value is -9.999184857364886\n",
            "Iterations 480 X value is -9.999201160217588\n",
            "Iterations 481 X value is -9.999217137013236\n",
            "Iterations 482 X value is -9.999232794272972\n",
            "Iterations 483 X value is -9.999248138387513\n",
            "Iterations 484 X value is -9.999263175619763\n",
            "Iterations 485 X value is -9.999277912107368\n",
            "Iterations 486 X value is -9.99929235386522\n",
            "Iterations 487 X value is -9.999306506787915\n",
            "Iterations 488 X value is -9.999320376652157\n",
            "Iterations 489 X value is -9.999333969119114\n",
            "Iterations 490 X value is -9.99934728973673\n",
            "Iterations 491 X value is -9.999360343941996\n",
            "Iterations 492 X value is -9.999373137063156\n",
            "Iterations 493 X value is -9.999385674321893\n",
            "Iterations 494 X value is -9.999397960835456\n",
            "Iterations 495 X value is -9.999410001618747\n",
            "Iterations 496 X value is -9.999421801586372\n",
            "Iterations 497 X value is -9.999433365554644\n",
            "Iterations 498 X value is -9.99944469824355\n",
            "Iterations 499 X value is -9.99945580427868\n",
            "Iterations 500 X value is -9.999466688193106\n",
            "Iterations 501 X value is -9.999477354429244\n",
            "Iterations 502 X value is -9.999487807340659\n",
            "Iterations 503 X value is -9.999498051193845\n",
            "Iterations 504 X value is -9.999508090169968\n",
            "Iterations 505 X value is -9.999517928366568\n",
            "Iterations 506 X value is -9.999527569799238\n",
            "Iterations 507 X value is -9.999537018403252\n",
            "Iterations 508 X value is -9.999546278035186\n",
            "Iterations 509 X value is -9.999555352474482\n",
            "Iterations 510 X value is -9.999564245424994\n",
            "Iterations 511 X value is -9.999572960516494\n",
            "Iterations 512 X value is -9.999581501306164\n",
            "Iterations 513 X value is -9.99958987128004\n",
            "Iterations 514 X value is -9.99959807385444\n",
            "Iterations 515 X value is -9.99960611237735\n",
            "Iterations 516 X value is -9.999613990129802\n",
            "Iterations 517 X value is -9.999621710327206\n",
            "Iterations 518 X value is -9.999629276120663\n",
            "Iterations 519 X value is -9.99963669059825\n",
            "Iterations 520 X value is -9.999643956786285\n",
            "Iterations 521 X value is -9.99965107765056\n",
            "Iterations 522 X value is -9.999658056097548\n",
            "Iterations 523 X value is -9.999664894975597\n",
            "Iterations 524 X value is -9.999671597076086\n",
            "Iterations 525 X value is -9.999678165134563\n",
            "Iterations 526 X value is -9.999684601831872\n",
            "Iterations 527 X value is -9.999690909795234\n",
            "Iterations 528 X value is -9.99969709159933\n",
            "Iterations 529 X value is -9.999703149767344\n",
            "Iterations 530 X value is -9.999709086771997\n",
            "Iterations 531 X value is -9.999714905036557\n",
            "Iterations 532 X value is -9.999720606935826\n",
            "Iterations 533 X value is -9.999726194797109\n",
            "Iterations 534 X value is -9.999731670901166\n",
            "Iterations 535 X value is -9.999737037483143\n",
            "Iterations 536 X value is -9.99974229673348\n",
            "Iterations 537 X value is -9.999747450798811\n",
            "Iterations 538 X value is -9.999752501782835\n",
            "Iterations 539 X value is -9.999757451747179\n",
            "Iterations 540 X value is -9.999762302712236\n",
            "Iterations 541 X value is -9.99976705665799\n",
            "Iterations 542 X value is -9.999771715524831\n",
            "Iterations 543 X value is -9.999776281214334\n",
            "Iterations 544 X value is -9.999780755590047\n",
            "Iterations 545 X value is -9.999785140478245\n",
            "Iterations 546 X value is -9.99978943766868\n",
            "Iterations 547 X value is -9.999793648915306\n",
            "Iterations 548 X value is -9.999797775937\n",
            "Iterations 549 X value is -9.99980182041826\n",
            "Iterations 550 X value is -9.999805784009894\n",
            "Iterations 551 X value is -9.999809668329696\n",
            "Iterations 552 X value is -9.999813474963103\n",
            "Iterations 553 X value is -9.999817205463842\n",
            "Iterations 554 X value is -9.999820861354564\n",
            "Iterations 555 X value is -9.999824444127473\n",
            "Iterations 556 X value is -9.999827955244923\n",
            "Iterations 557 X value is -9.999831396140024\n",
            "Iterations 558 X value is -9.999834768217223\n",
            "Iterations 559 X value is -9.999838072852878\n",
            "Iterations 560 X value is -9.999841311395821\n",
            "Iterations 561 X value is -9.999844485167905\n",
            "Iterations 562 X value is -9.999847595464548\n",
            "Iterations 563 X value is -9.999850643555257\n",
            "Iterations 564 X value is -9.999853630684152\n",
            "Iterations 565 X value is -9.99985655807047\n",
            "Iterations 566 X value is -9.99985942690906\n",
            "Iterations 567 X value is -9.999862238370879\n",
            "Iterations 568 X value is -9.999864993603461\n",
            "Iterations 569 X value is -9.999867693731392\n",
            "Iterations 570 X value is -9.999870339856765\n",
            "Iterations 571 X value is -9.99987293305963\n",
            "Iterations 572 X value is -9.999875474398436\n",
            "Iterations 573 X value is -9.999877964910468\n",
            "Iterations 574 X value is -9.999880405612258\n",
            "Iterations 575 X value is -9.999882797500012\n",
            "Iterations 576 X value is -9.999885141550012\n",
            "Iterations 577 X value is -9.99988743871901\n",
            "Iterations 578 X value is -9.99988968994463\n",
            "Iterations 579 X value is -9.999891896145739\n",
            "Iterations 580 X value is -9.999894058222823\n",
            "Iterations 581 X value is -9.999896177058368\n",
            "Iterations 582 X value is -9.9998982535172\n",
            "Iterations 583 X value is -9.999900288446856\n",
            "Iterations 584 X value is -9.999902282677919\n",
            "Iterations 585 X value is -9.99990423702436\n",
            "Iterations 586 X value is -9.999906152283874\n",
            "Iterations 587 X value is -9.999908029238195\n",
            "Iterations 588 X value is -9.99990986865343\n",
            "Iterations 589 X value is -9.999911671280362\n",
            "Iterations 590 X value is -9.999913437854755\n",
            "Iterations 591 X value is -9.99991516909766\n",
            "Iterations 592 X value is -9.999916865715706\n",
            "Iterations 593 X value is -9.999918528401391\n",
            "Iterations 594 X value is -9.999920157833364\n",
            "Iterations 595 X value is -9.999921754676697\n",
            "Iterations 596 X value is -9.999923319583162\n",
            "Iterations 597 X value is -9.9999248531915\n",
            "Iterations 598 X value is -9.99992635612767\n",
            "Iterations 599 X value is -9.999927829005117\n",
            "Iterations 600 X value is -9.999929272425014\n",
            "Iterations 601 X value is -9.999930686976514\n",
            "Iterations 602 X value is -9.999932073236984\n",
            "Iterations 603 X value is -9.999933431772245\n",
            "Iterations 604 X value is -9.9999347631368\n",
            "Iterations 605 X value is -9.999936067874064\n",
            "Iterations 606 X value is -9.999937346516582\n",
            "Iterations 607 X value is -9.99993859958625\n",
            "Iterations 608 X value is -9.999939827594524\n",
            "Iterations 609 X value is -9.999941031042633\n",
            "Iterations 610 X value is -9.99994221042178\n",
            "Iterations 611 X value is -9.999943366213344\n",
            "Iterations 612 X value is -9.999944498889077\n",
            "Iterations 613 X value is -9.999945608911295\n",
            "Iterations 614 X value is -9.999946696733069\n",
            "Iterations 615 X value is -9.999947762798408\n",
            "Iterations 616 X value is -9.99994880754244\n",
            "Iterations 617 X value is -9.999949831391591\n",
            "Iterations 618 X value is -9.999950834763759\n",
            "Iterations 619 X value is -9.999951818068483\n"
          ],
          "name": "stdout"
        }
      ]
    },
    {
      "cell_type": "code",
      "metadata": {
        "colab": {
          "base_uri": "https://localhost:8080/"
        },
        "id": "RYNkgXZQmc_s",
        "outputId": "bd90171e-7eb3-4720-b738-480b4b5d394e"
      },
      "source": [
        "print('The local minima is', x_nought,'Occurs at',iters,'th iteration') "
      ],
      "execution_count": 82,
      "outputs": [
        {
          "output_type": "stream",
          "text": [
            "The local minima is -9.999951818068483 Occurs at 619 th iteration\n"
          ],
          "name": "stdout"
        }
      ]
    },
    {
      "cell_type": "code",
      "metadata": {
        "colab": {
          "base_uri": "https://localhost:8080/"
        },
        "id": "2xWn72igm99j",
        "outputId": "ceafea0a-2fc6-4af5-f405-6d952028a2e9"
      },
      "source": [
        "plot"
      ],
      "execution_count": 83,
      "outputs": [
        {
          "output_type": "execute_result",
          "data": {
            "text/plain": [
              "[2.74,\n",
              " 2.4852000000000003,\n",
              " 2.2354960000000004,\n",
              " 1.9907860800000003,\n",
              " 1.7509703584000003,\n",
              " 1.5159509512320002,\n",
              " 1.2856319322073602,\n",
              " 1.059919293563213,\n",
              " 0.8387209076919486,\n",
              " 0.6219464895381097,\n",
              " 0.40950755974734754,\n",
              " 0.2013174085524006,\n",
              " -0.0027089396186474046,\n",
              " -0.20265476082627445,\n",
              " -0.39860166560974897,\n",
              " -0.5906296322975539,\n",
              " -0.7788170396516029,\n",
              " -0.9632406988585708,\n",
              " -1.1439758848813995,\n",
              " -1.3210963671837714,\n",
              " -1.494674439840096,\n",
              " -1.664780951043294,\n",
              " -1.8314853320224282,\n",
              " -1.9948556253819798,\n",
              " -2.15495851287434,\n",
              " -2.311859342616853,\n",
              " -2.465622155764516,\n",
              " -2.616309712649226,\n",
              " -2.7639835183962416,\n",
              " -2.908703848028317,\n",
              " -3.0505297710677506,\n",
              " -3.1895191756463954,\n",
              " -3.3257287921334675,\n",
              " -3.459214216290798,\n",
              " -3.590029931964982,\n",
              " -3.718229333325682,\n",
              " -3.8438647466591687,\n",
              " -3.966987451725985,\n",
              " -4.0876477026914655,\n",
              " -4.205894748637636,\n",
              " -4.3217768536648835,\n",
              " -4.435341316591586,\n",
              " -4.546634490259755,\n",
              " -4.655701800454559,\n",
              " -4.762587764445468,\n",
              " -4.867336009156558,\n",
              " -4.9699892889734265,\n",
              " -5.070589503193958,\n",
              " -5.169177713130079,\n",
              " -5.265794158867477,\n",
              " -5.360478275690127,\n",
              " -5.453268710176324,\n",
              " -5.544203335972798,\n",
              " -5.633319269253342,\n",
              " -5.720652883868275,\n",
              " -5.806239826190909,\n",
              " -5.890115029667091,\n",
              " -5.9723127290737485,\n",
              " -6.052866474492274,\n",
              " -6.131809145002428,\n",
              " -6.20917296210238,\n",
              " -6.284989502860332,\n",
              " -6.359289712803125,\n",
              " -6.432103918547063,\n",
              " -6.503461840176122,\n",
              " -6.5733926033726,\n",
              " -6.641924751305148,\n",
              " -6.709086256279045,\n",
              " -6.774904531153465,\n",
              " -6.839406440530396,\n",
              " -6.902618311719788,\n",
              " -6.9645659454853925,\n",
              " -7.025274626575685,\n",
              " -7.084769134044172,\n",
              " -7.143073751363288,\n",
              " -7.200212276336022,\n",
              " -7.256208030809302,\n",
              " -7.311083870193116,\n",
              " -7.3648621927892535,\n",
              " -7.417564948933468,\n",
              " -7.469213649954799,\n",
              " -7.519829376955704,\n",
              " -7.56943278941659,\n",
              " -7.618044133628258,\n",
              " -7.665683250955693,\n",
              " -7.712369585936579,\n",
              " -7.758122194217847,\n",
              " -7.80295975033349,\n",
              " -7.84690055532682,\n",
              " -7.889962544220284,\n",
              " -7.932163293335878,\n",
              " -7.973520027469161,\n",
              " -8.014049626919778,\n",
              " -8.053768634381383,\n",
              " -8.092693261693755,\n",
              " -8.13083939645988,\n",
              " -8.168222608530682,\n",
              " -8.204858156360068,\n",
              " -8.240760993232866,\n",
              " -8.275945773368209,\n",
              " -8.310426857900845,\n",
              " -8.344218320742828,\n",
              " -8.377333954327971,\n",
              " -8.409787275241412,\n",
              " -8.441591529736584,\n",
              " -8.472759699141852,\n",
              " -8.503304505159015,\n",
              " -8.533238415055834,\n",
              " -8.562573646754718,\n",
              " -8.591322173819623,\n",
              " -8.619495730343232,\n",
              " -8.647105815736367,\n",
              " -8.67416369942164,\n",
              " -8.700680425433207,\n",
              " -8.726666816924542,\n",
              " -8.752133480586052,\n",
              " -8.77709081097433,\n",
              " -8.801548994754844,\n",
              " -8.825518014859748,\n",
              " -8.849007654562552,\n",
              " -8.872027501471301,\n",
              " -8.894586951441875,\n",
              " -8.916695212413037,\n",
              " -8.938361308164776,\n",
              " -8.95959408200148,\n",
              " -8.98040220036145,\n",
              " -9.000794156354221,\n",
              " -9.020778273227137,\n",
              " -9.040362707762593,\n",
              " -9.059555453607341,\n",
              " -9.078364344535194,\n",
              " -9.09679705764449,\n",
              " -9.114861116491602,\n",
              " -9.13256389416177,\n",
              " -9.149912616278534,\n",
              " -9.166914363952964,\n",
              " -9.183576076673905,\n",
              " -9.199904555140426,\n",
              " -9.215906464037618,\n",
              " -9.231588334756864,\n",
              " -9.246956568061727,\n",
              " -9.262017436700493,\n",
              " -9.276777087966483,\n",
              " -9.291241546207154,\n",
              " -9.30541671528301,\n",
              " -9.31930838097735,\n",
              " -9.332922213357804,\n",
              " -9.346263769090648,\n",
              " -9.359338493708835,\n",
              " -9.372151723834659,\n",
              " -9.384708689357966,\n",
              " -9.397014515570806,\n",
              " -9.40907422525939,\n",
              " -9.420892740754203,\n",
              " -9.432474885939119,\n",
              " -9.443825388220336,\n",
              " -9.45494888045593,\n",
              " -9.465849902846811,\n",
              " -9.476532904789876,\n",
              " -9.487002246694079,\n",
              " -9.497262201760197,\n",
              " -9.507316957724994,\n",
              " -9.517170618570495,\n",
              " -9.526827206199085,\n",
              " -9.536290662075103,\n",
              " -9.545564848833601,\n",
              " -9.55465355185693,\n",
              " -9.563560480819792,\n",
              " -9.572289271203395,\n",
              " -9.580843485779328,\n",
              " -9.58922661606374,\n",
              " -9.597442083742466,\n",
              " -9.605493242067617,\n",
              " -9.613383377226265,\n",
              " -9.62111570968174,\n",
              " -9.628693395488106,\n",
              " -9.636119527578344,\n",
              " -9.643397137026778,\n",
              " -9.650529194286243,\n",
              " -9.657518610400517,\n",
              " -9.664368238192507,\n",
              " -9.671080873428657,\n",
              " -9.677659255960084,\n",
              " -9.684106070840881,\n",
              " -9.690423949424064,\n",
              " -9.696615470435583,\n",
              " -9.702683161026872,\n",
              " -9.708629497806335,\n",
              " -9.714456907850208,\n",
              " -9.720167769693203,\n",
              " -9.72576441429934,\n",
              " -9.731249126013353,\n",
              " -9.736624143493085,\n",
              " -9.741891660623223,\n",
              " -9.747053827410758,\n",
              " -9.752112750862542,\n",
              " -9.75707049584529,\n",
              " -9.761929085928385,\n",
              " -9.766690504209818,\n",
              " -9.771356694125622,\n",
              " -9.77592956024311,\n",
              " -9.780410969038249,\n",
              " -9.784802749657484,\n",
              " -9.789106694664333,\n",
              " -9.793324560771048,\n",
              " -9.797458069555626,\n",
              " -9.801508908164513,\n",
              " -9.805478730001223,\n",
              " -9.809369155401198,\n",
              " -9.813181772293174,\n",
              " -9.81691813684731,\n",
              " -9.820579774110364,\n",
              " -9.824168178628156,\n",
              " -9.827684815055592,\n",
              " -9.831131118754481,\n",
              " -9.83450849637939,\n",
              " -9.837818326451803,\n",
              " -9.841061959922767,\n",
              " -9.844240720724311,\n",
              " -9.847355906309826,\n",
              " -9.850408788183628,\n",
              " -9.853400612419955,\n",
              " -9.856332600171557,\n",
              " -9.859205948168126,\n",
              " -9.862021829204764,\n",
              " -9.864781392620669,\n",
              " -9.867485764768256,\n",
              " -9.87013604947289,\n",
              " -9.872733328483433,\n",
              " -9.875278661913764,\n",
              " -9.87777308867549,\n",
              " -9.88021762690198,\n",
              " -9.88261327436394,\n",
              " -9.884961008876662,\n",
              " -9.887261788699128,\n",
              " -9.889516552925146,\n",
              " -9.891726221866643,\n",
              " -9.893891697429309,\n",
              " -9.896013863480723,\n",
              " -9.89809358621111,\n",
              " -9.900131714486887,\n",
              " -9.902129080197149,\n",
              " -9.904086498593205,\n",
              " -9.906004768621342,\n",
              " -9.907884673248915,\n",
              " -9.909726979783937,\n",
              " -9.911532440188259,\n",
              " -9.913301791384493,\n",
              " -9.915035755556802,\n",
              " -9.916735040445666,\n",
              " -9.918400339636753,\n",
              " -9.920032332844018,\n",
              " -9.921631686187137,\n",
              " -9.923199052463394,\n",
              " -9.924735071414126,\n",
              " -9.926240369985845,\n",
              " -9.927715562586128,\n",
              " -9.929161251334406,\n",
              " -9.930578026307717,\n",
              " -9.931966465781564,\n",
              " -9.933327136465932,\n",
              " -9.934660593736613,\n",
              " -9.93596738186188,\n",
              " -9.937248034224643,\n",
              " -9.93850307354015,\n",
              " -9.939733012069349,\n",
              " -9.940938351827961,\n",
              " -9.942119584791403,\n",
              " -9.943277193095575,\n",
              " -9.944411649233663,\n",
              " -9.94552341624899,\n",
              " -9.946612947924011,\n",
              " -9.947680688965532,\n",
              " -9.948727075186222,\n",
              " -9.949752533682497,\n",
              " -9.950757483008848,\n",
              " -9.95174233334867,\n",
              " -9.952707486681698,\n",
              " -9.953653336948063,\n",
              " -9.954580270209101,\n",
              " -9.95548866480492,\n",
              " -9.956378891508821,\n",
              " -9.957251313678645,\n",
              " -9.958106287405073,\n",
              " -9.958944161656971,\n",
              " -9.959765278423832,\n",
              " -9.960569972855355,\n",
              " -9.961358573398249,\n",
              " -9.962131401930284,\n",
              " -9.96288877389168,\n",
              " -9.963630998413846,\n",
              " -9.964358378445569,\n",
              " -9.965071210876658,\n",
              " -9.965769786659125,\n",
              " -9.966454390925943,\n",
              " -9.967125303107425,\n",
              " -9.967782797045276,\n",
              " -9.968427141104371,\n",
              " -9.969058598282283,\n",
              " -9.969677426316638,\n",
              " -9.970283877790305,\n",
              " -9.970878200234498,\n",
              " -9.971460636229809,\n",
              " -9.972031423505213,\n",
              " -9.972590795035108,\n",
              " -9.973138979134406,\n",
              " -9.973676199551718,\n",
              " -9.974202675560685,\n",
              " -9.97471862204947,\n",
              " -9.975224249608482,\n",
              " -9.975719764616313,\n",
              " -9.976205369323987,\n",
              " -9.976681261937507,\n",
              " -9.977147636698756,\n",
              " -9.977604683964781,\n",
              " -9.978052590285486,\n",
              " -9.978491538479776,\n",
              " -9.97892170771018,\n",
              " -9.979343273555976,\n",
              " -9.979756408084857,\n",
              " -9.98016127992316,\n",
              " -9.980558054324696,\n",
              " -9.980946893238203,\n",
              " -9.98132795537344,\n",
              " -9.98170139626597,\n",
              " -9.982067368340651,\n",
              " -9.982426020973838,\n",
              " -9.982777500554361,\n",
              " -9.983121950543273,\n",
              " -9.983459511532407,\n",
              " -9.98379032130176,\n",
              " -9.984114514875724,\n",
              " -9.98443222457821,\n",
              " -9.984743580086645,\n",
              " -9.985048708484912,\n",
              " -9.985347734315214,\n",
              " -9.985640779628909,\n",
              " -9.98592796403633,\n",
              " -9.986209404755604,\n",
              " -9.986485216660492,\n",
              " -9.986755512327282,\n",
              " -9.987020402080736,\n",
              " -9.987279994039122,\n",
              " -9.98753439415834,\n",
              " -9.987783706275174,\n",
              " -9.98802803214967,\n",
              " -9.988267471506676,\n",
              " -9.988502122076543,\n",
              " -9.988732079635012,\n",
              " -9.988957438042313,\n",
              " -9.989178289281467,\n",
              " -9.989394723495838,\n",
              " -9.989606829025922,\n",
              " -9.989814692445403,\n",
              " -9.990018398596495,\n",
              " -9.990218030624565,\n",
              " -9.990413670012073,\n",
              " -9.990605396611832,\n",
              " -9.990793288679596,\n",
              " -9.990977422906004,\n",
              " -9.991157874447884,\n",
              " -9.991334716958926,\n",
              " -9.991508022619747,\n",
              " -9.991677862167352,\n",
              " -9.991844304924005,\n",
              " -9.992007418825525,\n",
              " -9.992167270449015,\n",
              " -9.992323925040035,\n",
              " -9.992477446539233,\n",
              " -9.992627897608449,\n",
              " -9.99277533965628,\n",
              " -9.992919832863155,\n",
              " -9.993061436205892,\n",
              " -9.993200207481774,\n",
              " -9.993336203332138,\n",
              " -9.993469479265496,\n",
              " -9.993600089680186,\n",
              " -9.993728087886582,\n",
              " -9.99385352612885,\n",
              " -9.993976455606273,\n",
              " -9.994096926494148,\n",
              " -9.994214987964265,\n",
              " -9.994330688204979,\n",
              " -9.99444407444088,\n",
              " -9.994555192952062,\n",
              " -9.994664089093021,\n",
              " -9.994770807311161,\n",
              " -9.994875391164937,\n",
              " -9.994977883341639,\n",
              " -9.995078325674806,\n",
              " -9.995176759161309,\n",
              " -9.995273223978083,\n",
              " -9.99536775949852,\n",
              " -9.99546040430855,\n",
              " -9.99555119622238,\n",
              " -9.995640172297932,\n",
              " -9.995727368851973,\n",
              " -9.995812821474933,\n",
              " -9.995896565045435,\n",
              " -9.995978633744526,\n",
              " -9.996059061069635,\n",
              " -9.996137879848243,\n",
              " -9.996215122251279,\n",
              " -9.996290819806253,\n",
              " -9.996365003410128,\n",
              " -9.996437703341925,\n",
              " -9.996508949275087,\n",
              " -9.996578770289586,\n",
              " -9.996647194883794,\n",
              " -9.996714250986118,\n",
              " -9.996779965966395,\n",
              " -9.996844366647068,\n",
              " -9.996907479314126,\n",
              " -9.996969329727843,\n",
              " -9.997029943133287,\n",
              " -9.99708934427062,\n",
              " -9.997147557385208,\n",
              " -9.997204606237505,\n",
              " -9.997260514112755,\n",
              " -9.997315303830499,\n",
              " -9.997368997753888,\n",
              " -9.99742161779881,\n",
              " -9.997473185442834,\n",
              " -9.997523721733977,\n",
              " -9.997573247299297,\n",
              " -9.997621782353312,\n",
              " -9.997669346706246,\n",
              " -9.99771595977212,\n",
              " -9.997761640576678,\n",
              " -9.997806407765145,\n",
              " -9.997850279609843,\n",
              " -9.997893274017645,\n",
              " -9.997935408537293,\n",
              " -9.997976700366547,\n",
              " -9.998017166359215,\n",
              " -9.99805682303203,\n",
              " -9.99809568657139,\n",
              " -9.998133772839962,\n",
              " -9.998171097383162,\n",
              " -9.998207675435498,\n",
              " -9.998243521926788,\n",
              " -9.998278651488253,\n",
              " -9.998313078458487,\n",
              " -9.998346816889317,\n",
              " -9.99837988055153,\n",
              " -9.9984122829405,\n",
              " -9.99844403728169,\n",
              " -9.998475156536056,\n",
              " -9.998505653405335,\n",
              " -9.998535540337228,\n",
              " -9.998564829530483,\n",
              " -9.998593532939873,\n",
              " -9.998621662281076,\n",
              " -9.998649229035454,\n",
              " -9.998676244454744,\n",
              " -9.99870271956565,\n",
              " -9.998728665174337,\n",
              " -9.99875409187085,\n",
              " -9.998779010033433,\n",
              " -9.998803429832764,\n",
              " -9.998827361236108,\n",
              " -9.998850814011385,\n",
              " -9.998873797731157,\n",
              " -9.998896321776535,\n",
              " -9.998918395341004,\n",
              " -9.998940027434184,\n",
              " -9.9989612268855,\n",
              " -9.99898200234779,\n",
              " -9.999002362300834,\n",
              " -9.999022315054818,\n",
              " -9.999041868753721,\n",
              " -9.999061031378647,\n",
              " -9.999079810751073,\n",
              " -9.999098214536051,\n",
              " -9.999116250245331,\n",
              " -9.999133925240425,\n",
              " -9.999151246735616,\n",
              " -9.999168221800904,\n",
              " -9.999184857364886,\n",
              " -9.999201160217588,\n",
              " -9.999217137013236,\n",
              " -9.999232794272972,\n",
              " -9.999248138387513,\n",
              " -9.999263175619763,\n",
              " -9.999277912107368,\n",
              " -9.99929235386522,\n",
              " -9.999306506787915,\n",
              " -9.999320376652157,\n",
              " -9.999333969119114,\n",
              " -9.99934728973673,\n",
              " -9.999360343941996,\n",
              " -9.999373137063156,\n",
              " -9.999385674321893,\n",
              " -9.999397960835456,\n",
              " -9.999410001618747,\n",
              " -9.999421801586372,\n",
              " -9.999433365554644,\n",
              " -9.99944469824355,\n",
              " -9.99945580427868,\n",
              " -9.999466688193106,\n",
              " -9.999477354429244,\n",
              " -9.999487807340659,\n",
              " -9.999498051193845,\n",
              " -9.999508090169968,\n",
              " -9.999517928366568,\n",
              " -9.999527569799238,\n",
              " -9.999537018403252,\n",
              " -9.999546278035186,\n",
              " -9.999555352474482,\n",
              " -9.999564245424994,\n",
              " -9.999572960516494,\n",
              " -9.999581501306164,\n",
              " -9.99958987128004,\n",
              " -9.99959807385444,\n",
              " -9.99960611237735,\n",
              " -9.999613990129802,\n",
              " -9.999621710327206,\n",
              " -9.999629276120663,\n",
              " -9.99963669059825,\n",
              " -9.999643956786285,\n",
              " -9.99965107765056,\n",
              " -9.999658056097548,\n",
              " -9.999664894975597,\n",
              " -9.999671597076086,\n",
              " -9.999678165134563,\n",
              " -9.999684601831872,\n",
              " -9.999690909795234,\n",
              " -9.99969709159933,\n",
              " -9.999703149767344,\n",
              " -9.999709086771997,\n",
              " -9.999714905036557,\n",
              " -9.999720606935826,\n",
              " -9.999726194797109,\n",
              " -9.999731670901166,\n",
              " -9.999737037483143,\n",
              " -9.99974229673348,\n",
              " -9.999747450798811,\n",
              " -9.999752501782835,\n",
              " -9.999757451747179,\n",
              " -9.999762302712236,\n",
              " -9.99976705665799,\n",
              " -9.999771715524831,\n",
              " -9.999776281214334,\n",
              " -9.999780755590047,\n",
              " -9.999785140478245,\n",
              " -9.99978943766868,\n",
              " -9.999793648915306,\n",
              " -9.999797775937,\n",
              " -9.99980182041826,\n",
              " -9.999805784009894,\n",
              " -9.999809668329696,\n",
              " -9.999813474963103,\n",
              " -9.999817205463842,\n",
              " -9.999820861354564,\n",
              " -9.999824444127473,\n",
              " -9.999827955244923,\n",
              " -9.999831396140024,\n",
              " -9.999834768217223,\n",
              " -9.999838072852878,\n",
              " -9.999841311395821,\n",
              " -9.999844485167905,\n",
              " -9.999847595464548,\n",
              " -9.999850643555257,\n",
              " -9.999853630684152,\n",
              " -9.99985655807047,\n",
              " -9.99985942690906,\n",
              " -9.999862238370879,\n",
              " -9.999864993603461,\n",
              " -9.999867693731392,\n",
              " -9.999870339856765,\n",
              " -9.99987293305963,\n",
              " -9.999875474398436,\n",
              " -9.999877964910468,\n",
              " -9.999880405612258,\n",
              " -9.999882797500012,\n",
              " -9.999885141550012,\n",
              " -9.99988743871901,\n",
              " -9.99988968994463,\n",
              " -9.999891896145739,\n",
              " -9.999894058222823,\n",
              " -9.999896177058368,\n",
              " -9.9998982535172,\n",
              " -9.999900288446856,\n",
              " -9.999902282677919,\n",
              " -9.99990423702436,\n",
              " -9.999906152283874,\n",
              " -9.999908029238195,\n",
              " -9.99990986865343,\n",
              " -9.999911671280362,\n",
              " -9.999913437854755,\n",
              " -9.99991516909766,\n",
              " -9.999916865715706,\n",
              " -9.999918528401391,\n",
              " -9.999920157833364,\n",
              " -9.999921754676697,\n",
              " -9.999923319583162,\n",
              " -9.9999248531915,\n",
              " -9.99992635612767,\n",
              " -9.999927829005117,\n",
              " -9.999929272425014,\n",
              " -9.999930686976514,\n",
              " -9.999932073236984,\n",
              " -9.999933431772245,\n",
              " -9.9999347631368,\n",
              " -9.999936067874064,\n",
              " -9.999937346516582,\n",
              " -9.99993859958625,\n",
              " -9.999939827594524,\n",
              " -9.999941031042633,\n",
              " -9.99994221042178,\n",
              " -9.999943366213344,\n",
              " -9.999944498889077,\n",
              " -9.999945608911295,\n",
              " -9.999946696733069,\n",
              " -9.999947762798408,\n",
              " -9.99994880754244,\n",
              " -9.999949831391591,\n",
              " -9.999950834763759,\n",
              " -9.999951818068483]"
            ]
          },
          "metadata": {
            "tags": []
          },
          "execution_count": 83
        }
      ]
    },
    {
      "cell_type": "code",
      "metadata": {
        "colab": {
          "base_uri": "https://localhost:8080/",
          "height": 282
        },
        "id": "IynC1Zjd0ltb",
        "outputId": "5c8121b8-8c82-42c1-960c-0e88c106e30c"
      },
      "source": [
        "sns.scatterplot(x=plot, y=iter_plot)"
      ],
      "execution_count": 84,
      "outputs": [
        {
          "output_type": "execute_result",
          "data": {
            "text/plain": [
              "<matplotlib.axes._subplots.AxesSubplot at 0x7f83cdc879d0>"
            ]
          },
          "metadata": {
            "tags": []
          },
          "execution_count": 84
        },
        {
          "output_type": "display_data",
          "data": {
            "image/png": "[encoded data removed]",
            "text/plain": [
              "<Figure size 432x288 with 1 Axes>"
            ]
          },
          "metadata": {
            "tags": [],
            "needs_background": "light"
          }
        }
      ]
    },
    {
      "cell_type": "code",
      "metadata": {
        "colab": {
          "base_uri": "https://localhost:8080/",
          "height": 282
        },
        "id": "TlZ_Zixv02oj",
        "outputId": "925b9faf-183a-41fd-f012-7ae656c5535e"
      },
      "source": [
        "sns.lineplot(x=plot, y=iter_plot)"
      ],
      "execution_count": 87,
      "outputs": [
        {
          "output_type": "execute_result",
          "data": {
            "text/plain": [
              "<matplotlib.axes._subplots.AxesSubplot at 0x7f83cdf24810>"
            ]
          },
          "metadata": {
            "tags": []
          },
          "execution_count": 87
        },
        {
          "output_type": "display_data",
          "data": {
            "image/png": "[encoded data removed]",
            "text/plain": [
              "<Figure size 432x288 with 1 Axes>"
            ]
          },
          "metadata": {
            "tags": [],
            "needs_background": "light"
          }
        }
      ]
    },
    {
      "cell_type": "code",
      "metadata": {
        "colab": {
          "base_uri": "https://localhost:8080/",
          "height": 282
        },
        "id": "pIj-o8mC2oRg",
        "outputId": "766e4b51-e65a-44ed-cf13-6ad3806da1b3"
      },
      "source": [
        "sns.stripplot(x=plot, y=iter_plot)"
      ],
      "execution_count": 66,
      "outputs": [
        {
          "output_type": "execute_result",
          "data": {
            "text/plain": [
              "<matplotlib.axes._subplots.AxesSubplot at 0x7f83cdec6950>"
            ]
          },
          "metadata": {
            "tags": []
          },
          "execution_count": 66
        },
        {
          "output_type": "display_data",
          "data": {
            "image/png": "[encoded data removed]",
            "text/plain": [
              "<Figure size 432x288 with 1 Axes>"
            ]
          },
          "metadata": {
            "tags": [],
            "needs_background": "light"
          }
        }
      ]
    },
    {
      "cell_type": "code",
      "metadata": {
        "colab": {
          "base_uri": "https://localhost:8080/",
          "height": 336
        },
        "id": "cUaOq2aS3Cgp",
        "outputId": "681f2be6-5de0-4289-df57-73eec903cee6"
      },
      "source": [
        "sns.swarmplot(x=plot)"
      ],
      "execution_count": 88,
      "outputs": [
        {
          "output_type": "stream",
          "text": [
            "/usr/local/lib/python3.7/dist-packages/seaborn/categorical.py:1296: UserWarning: 60.6% of the points cannot be placed; you may want to decrease the size of the markers or use stripplot.\n",
            "  warnings.warn(msg, UserWarning)\n"
          ],
          "name": "stderr"
        },
        {
          "output_type": "execute_result",
          "data": {
            "text/plain": [
              "<matplotlib.axes._subplots.AxesSubplot at 0x7f83c3d81e90>"
            ]
          },
          "metadata": {
            "tags": []
          },
          "execution_count": 88
        },
        {
          "output_type": "display_data",
          "data": {
            "image/png": "[encoded data removed]",
            "text/plain": [
              "<Figure size 432x288 with 1 Axes>"
            ]
          },
          "metadata": {
            "tags": [],
            "needs_background": "light"
          }
        }
      ]
    },
    {
      "cell_type": "markdown",
      "metadata": {
        "id": "WotTOChV3a8Y"
      },
      "source": [
        "lets increase the learning rate"
      ]
    },
    {
      "cell_type": "code",
      "metadata": {
        "colab": {
          "base_uri": "https://localhost:8080/",
          "height": 336
        },
        "id": "q_y8BCFE5YQU",
        "outputId": "d517ab74-d37a-4bb6-ccbd-ab9138dcd162"
      },
      "source": [
        "sns.distplot(x=plot)"
      ],
      "execution_count": 89,
      "outputs": [
        {
          "output_type": "stream",
          "text": [
            "/usr/local/lib/python3.7/dist-packages/seaborn/distributions.py:2557: FutureWarning: `distplot` is a deprecated function and will be removed in a future version. Please adapt your code to use either `displot` (a figure-level function with similar flexibility) or `histplot` (an axes-level function for histograms).\n",
            "  warnings.warn(msg, FutureWarning)\n"
          ],
          "name": "stderr"
        },
        {
          "output_type": "execute_result",
          "data": {
            "text/plain": [
              "<matplotlib.axes._subplots.AxesSubplot at 0x7f83c3c47990>"
            ]
          },
          "metadata": {
            "tags": []
          },
          "execution_count": 89
        },
        {
          "output_type": "display_data",
          "data": {
            "image/png": "[encoded data removed]",
            "text/plain": [
              "<Figure size 432x288 with 1 Axes>"
            ]
          },
          "metadata": {
            "tags": [],
            "needs_background": "light"
          }
        }
      ]
    },
    {
      "cell_type": "code",
      "metadata": {
        "colab": {
          "base_uri": "https://localhost:8080/"
        },
        "id": "TTg-uWzd3Q9z",
        "outputId": "ec01f39a-7671-4902-a086-16d302588d68"
      },
      "source": [
        "x_nought = 3 #wheer the algorithm starts\n",
        "alpha = 0.01 #alpha_learning_rate\n",
        "precision = 0.000001\n",
        "previous_step_size  = 1\n",
        "max_iters = 10000 #maximum numbers of iterations that need to be carried\n",
        "iters =0 #initiating the iter counter\n",
        "df = lambda x: 2*(x+10) #gradient of our function\n",
        "\n",
        "plot = []\n",
        "iter_plot = []\n",
        "while previous_step_size > precision and iters < max_iters:\n",
        "  prev_x = x_nought #store current x value in prev_x\n",
        "  x_nought = x_nought - alpha*df(prev_x) #grad descent\n",
        "  previous_step_size = abs(x_nought - prev_x)# change in x\n",
        "  iters = iters+1 #iteration count\n",
        "  plot.append(x_nought)\n",
        "  iter_plot.append(iters)\n",
        "  print('Iterations', iters, 'X value is', x_nought) #prints all the iterations"
      ],
      "execution_count": 86,
      "outputs": [
        {
          "output_type": "stream",
          "text": [
            "Iterations 1 X value is 2.74\n",
            "Iterations 2 X value is 2.4852000000000003\n",
            "Iterations 3 X value is 2.2354960000000004\n",
            "Iterations 4 X value is 1.9907860800000003\n",
            "Iterations 5 X value is 1.7509703584000003\n",
            "Iterations 6 X value is 1.5159509512320002\n",
            "Iterations 7 X value is 1.2856319322073602\n",
            "Iterations 8 X value is 1.059919293563213\n",
            "Iterations 9 X value is 0.8387209076919486\n",
            "Iterations 10 X value is 0.6219464895381097\n",
            "Iterations 11 X value is 0.40950755974734754\n",
            "Iterations 12 X value is 0.2013174085524006\n",
            "Iterations 13 X value is -0.0027089396186474046\n",
            "Iterations 14 X value is -0.20265476082627445\n",
            "Iterations 15 X value is -0.39860166560974897\n",
            "Iterations 16 X value is -0.5906296322975539\n",
            "Iterations 17 X value is -0.7788170396516029\n",
            "Iterations 18 X value is -0.9632406988585708\n",
            "Iterations 19 X value is -1.1439758848813995\n",
            "Iterations 20 X value is -1.3210963671837714\n",
            "Iterations 21 X value is -1.494674439840096\n",
            "Iterations 22 X value is -1.664780951043294\n",
            "Iterations 23 X value is -1.8314853320224282\n",
            "Iterations 24 X value is -1.9948556253819798\n",
            "Iterations 25 X value is -2.15495851287434\n",
            "Iterations 26 X value is -2.311859342616853\n",
            "Iterations 27 X value is -2.465622155764516\n",
            "Iterations 28 X value is -2.616309712649226\n",
            "Iterations 29 X value is -2.7639835183962416\n",
            "Iterations 30 X value is -2.908703848028317\n",
            "Iterations 31 X value is -3.0505297710677506\n",
            "Iterations 32 X value is -3.1895191756463954\n",
            "Iterations 33 X value is -3.3257287921334675\n",
            "Iterations 34 X value is -3.459214216290798\n",
            "Iterations 35 X value is -3.590029931964982\n",
            "Iterations 36 X value is -3.718229333325682\n",
            "Iterations 37 X value is -3.8438647466591687\n",
            "Iterations 38 X value is -3.966987451725985\n",
            "Iterations 39 X value is -4.0876477026914655\n",
            "Iterations 40 X value is -4.205894748637636\n",
            "Iterations 41 X value is -4.3217768536648835\n",
            "Iterations 42 X value is -4.435341316591586\n",
            "Iterations 43 X value is -4.546634490259755\n",
            "Iterations 44 X value is -4.655701800454559\n",
            "Iterations 45 X value is -4.762587764445468\n",
            "Iterations 46 X value is -4.867336009156558\n",
            "Iterations 47 X value is -4.9699892889734265\n",
            "Iterations 48 X value is -5.070589503193958\n",
            "Iterations 49 X value is -5.169177713130079\n",
            "Iterations 50 X value is -5.265794158867477\n",
            "Iterations 51 X value is -5.360478275690127\n",
            "Iterations 52 X value is -5.453268710176324\n",
            "Iterations 53 X value is -5.544203335972798\n",
            "Iterations 54 X value is -5.633319269253342\n",
            "Iterations 55 X value is -5.720652883868275\n",
            "Iterations 56 X value is -5.806239826190909\n",
            "Iterations 57 X value is -5.890115029667091\n",
            "Iterations 58 X value is -5.9723127290737485\n",
            "Iterations 59 X value is -6.052866474492274\n",
            "Iterations 60 X value is -6.131809145002428\n",
            "Iterations 61 X value is -6.20917296210238\n",
            "Iterations 62 X value is -6.284989502860332\n",
            "Iterations 63 X value is -6.359289712803125\n",
            "Iterations 64 X value is -6.432103918547063\n",
            "Iterations 65 X value is -6.503461840176122\n",
            "Iterations 66 X value is -6.5733926033726\n",
            "Iterations 67 X value is -6.641924751305148\n",
            "Iterations 68 X value is -6.709086256279045\n",
            "Iterations 69 X value is -6.774904531153465\n",
            "Iterations 70 X value is -6.839406440530396\n",
            "Iterations 71 X value is -6.902618311719788\n",
            "Iterations 72 X value is -6.9645659454853925\n",
            "Iterations 73 X value is -7.025274626575685\n",
            "Iterations 74 X value is -7.084769134044172\n",
            "Iterations 75 X value is -7.143073751363288\n",
            "Iterations 76 X value is -7.200212276336022\n",
            "Iterations 77 X value is -7.256208030809302\n",
            "Iterations 78 X value is -7.311083870193116\n",
            "Iterations 79 X value is -7.3648621927892535\n",
            "Iterations 80 X value is -7.417564948933468\n",
            "Iterations 81 X value is -7.469213649954799\n",
            "Iterations 82 X value is -7.519829376955704\n",
            "Iterations 83 X value is -7.56943278941659\n",
            "Iterations 84 X value is -7.618044133628258\n",
            "Iterations 85 X value is -7.665683250955693\n",
            "Iterations 86 X value is -7.712369585936579\n",
            "Iterations 87 X value is -7.758122194217847\n",
            "Iterations 88 X value is -7.80295975033349\n",
            "Iterations 89 X value is -7.84690055532682\n",
            "Iterations 90 X value is -7.889962544220284\n",
            "Iterations 91 X value is -7.932163293335878\n",
            "Iterations 92 X value is -7.973520027469161\n",
            "Iterations 93 X value is -8.014049626919778\n",
            "Iterations 94 X value is -8.053768634381383\n",
            "Iterations 95 X value is -8.092693261693755\n",
            "Iterations 96 X value is -8.13083939645988\n",
            "Iterations 97 X value is -8.168222608530682\n",
            "Iterations 98 X value is -8.204858156360068\n",
            "Iterations 99 X value is -8.240760993232866\n",
            "Iterations 100 X value is -8.275945773368209\n",
            "Iterations 101 X value is -8.310426857900845\n",
            "Iterations 102 X value is -8.344218320742828\n",
            "Iterations 103 X value is -8.377333954327971\n",
            "Iterations 104 X value is -8.409787275241412\n",
            "Iterations 105 X value is -8.441591529736584\n",
            "Iterations 106 X value is -8.472759699141852\n",
            "Iterations 107 X value is -8.503304505159015\n",
            "Iterations 108 X value is -8.533238415055834\n",
            "Iterations 109 X value is -8.562573646754718\n",
            "Iterations 110 X value is -8.591322173819623\n",
            "Iterations 111 X value is -8.619495730343232\n",
            "Iterations 112 X value is -8.647105815736367\n",
            "Iterations 113 X value is -8.67416369942164\n",
            "Iterations 114 X value is -8.700680425433207\n",
            "Iterations 115 X value is -8.726666816924542\n",
            "Iterations 116 X value is -8.752133480586052\n",
            "Iterations 117 X value is -8.77709081097433\n",
            "Iterations 118 X value is -8.801548994754844\n",
            "Iterations 119 X value is -8.825518014859748\n",
            "Iterations 120 X value is -8.849007654562552\n",
            "Iterations 121 X value is -8.872027501471301\n",
            "Iterations 122 X value is -8.894586951441875\n",
            "Iterations 123 X value is -8.916695212413037\n",
            "Iterations 124 X value is -8.938361308164776\n",
            "Iterations 125 X value is -8.95959408200148\n",
            "Iterations 126 X value is -8.98040220036145\n",
            "Iterations 127 X value is -9.000794156354221\n",
            "Iterations 128 X value is -9.020778273227137\n",
            "Iterations 129 X value is -9.040362707762593\n",
            "Iterations 130 X value is -9.059555453607341\n",
            "Iterations 131 X value is -9.078364344535194\n",
            "Iterations 132 X value is -9.09679705764449\n",
            "Iterations 133 X value is -9.114861116491602\n",
            "Iterations 134 X value is -9.13256389416177\n",
            "Iterations 135 X value is -9.149912616278534\n",
            "Iterations 136 X value is -9.166914363952964\n",
            "Iterations 137 X value is -9.183576076673905\n",
            "Iterations 138 X value is -9.199904555140426\n",
            "Iterations 139 X value is -9.215906464037618\n",
            "Iterations 140 X value is -9.231588334756864\n",
            "Iterations 141 X value is -9.246956568061727\n",
            "Iterations 142 X value is -9.262017436700493\n",
            "Iterations 143 X value is -9.276777087966483\n",
            "Iterations 144 X value is -9.291241546207154\n",
            "Iterations 145 X value is -9.30541671528301\n",
            "Iterations 146 X value is -9.31930838097735\n",
            "Iterations 147 X value is -9.332922213357804\n",
            "Iterations 148 X value is -9.346263769090648\n",
            "Iterations 149 X value is -9.359338493708835\n",
            "Iterations 150 X value is -9.372151723834659\n",
            "Iterations 151 X value is -9.384708689357966\n",
            "Iterations 152 X value is -9.397014515570806\n",
            "Iterations 153 X value is -9.40907422525939\n",
            "Iterations 154 X value is -9.420892740754203\n",
            "Iterations 155 X value is -9.432474885939119\n",
            "Iterations 156 X value is -9.443825388220336\n",
            "Iterations 157 X value is -9.45494888045593\n",
            "Iterations 158 X value is -9.465849902846811\n",
            "Iterations 159 X value is -9.476532904789876\n",
            "Iterations 160 X value is -9.487002246694079\n",
            "Iterations 161 X value is -9.497262201760197\n",
            "Iterations 162 X value is -9.507316957724994\n",
            "Iterations 163 X value is -9.517170618570495\n",
            "Iterations 164 X value is -9.526827206199085\n",
            "Iterations 165 X value is -9.536290662075103\n",
            "Iterations 166 X value is -9.545564848833601\n",
            "Iterations 167 X value is -9.55465355185693\n",
            "Iterations 168 X value is -9.563560480819792\n",
            "Iterations 169 X value is -9.572289271203395\n",
            "Iterations 170 X value is -9.580843485779328\n",
            "Iterations 171 X value is -9.58922661606374\n",
            "Iterations 172 X value is -9.597442083742466\n",
            "Iterations 173 X value is -9.605493242067617\n",
            "Iterations 174 X value is -9.613383377226265\n",
            "Iterations 175 X value is -9.62111570968174\n",
            "Iterations 176 X value is -9.628693395488106\n",
            "Iterations 177 X value is -9.636119527578344\n",
            "Iterations 178 X value is -9.643397137026778\n",
            "Iterations 179 X value is -9.650529194286243\n",
            "Iterations 180 X value is -9.657518610400517\n",
            "Iterations 181 X value is -9.664368238192507\n",
            "Iterations 182 X value is -9.671080873428657\n",
            "Iterations 183 X value is -9.677659255960084\n",
            "Iterations 184 X value is -9.684106070840881\n",
            "Iterations 185 X value is -9.690423949424064\n",
            "Iterations 186 X value is -9.696615470435583\n",
            "Iterations 187 X value is -9.702683161026872\n",
            "Iterations 188 X value is -9.708629497806335\n",
            "Iterations 189 X value is -9.714456907850208\n",
            "Iterations 190 X value is -9.720167769693203\n",
            "Iterations 191 X value is -9.72576441429934\n",
            "Iterations 192 X value is -9.731249126013353\n",
            "Iterations 193 X value is -9.736624143493085\n",
            "Iterations 194 X value is -9.741891660623223\n",
            "Iterations 195 X value is -9.747053827410758\n",
            "Iterations 196 X value is -9.752112750862542\n",
            "Iterations 197 X value is -9.75707049584529\n",
            "Iterations 198 X value is -9.761929085928385\n",
            "Iterations 199 X value is -9.766690504209818\n",
            "Iterations 200 X value is -9.771356694125622\n",
            "Iterations 201 X value is -9.77592956024311\n",
            "Iterations 202 X value is -9.780410969038249\n",
            "Iterations 203 X value is -9.784802749657484\n",
            "Iterations 204 X value is -9.789106694664333\n",
            "Iterations 205 X value is -9.793324560771048\n",
            "Iterations 206 X value is -9.797458069555626\n",
            "Iterations 207 X value is -9.801508908164513\n",
            "Iterations 208 X value is -9.805478730001223\n",
            "Iterations 209 X value is -9.809369155401198\n",
            "Iterations 210 X value is -9.813181772293174\n",
            "Iterations 211 X value is -9.81691813684731\n",
            "Iterations 212 X value is -9.820579774110364\n",
            "Iterations 213 X value is -9.824168178628156\n",
            "Iterations 214 X value is -9.827684815055592\n",
            "Iterations 215 X value is -9.831131118754481\n",
            "Iterations 216 X value is -9.83450849637939\n",
            "Iterations 217 X value is -9.837818326451803\n",
            "Iterations 218 X value is -9.841061959922767\n",
            "Iterations 219 X value is -9.844240720724311\n",
            "Iterations 220 X value is -9.847355906309826\n",
            "Iterations 221 X value is -9.850408788183628\n",
            "Iterations 222 X value is -9.853400612419955\n",
            "Iterations 223 X value is -9.856332600171557\n",
            "Iterations 224 X value is -9.859205948168126\n",
            "Iterations 225 X value is -9.862021829204764\n",
            "Iterations 226 X value is -9.864781392620669\n",
            "Iterations 227 X value is -9.867485764768256\n",
            "Iterations 228 X value is -9.87013604947289\n",
            "Iterations 229 X value is -9.872733328483433\n",
            "Iterations 230 X value is -9.875278661913764\n",
            "Iterations 231 X value is -9.87777308867549\n",
            "Iterations 232 X value is -9.88021762690198\n",
            "Iterations 233 X value is -9.88261327436394\n",
            "Iterations 234 X value is -9.884961008876662\n",
            "Iterations 235 X value is -9.887261788699128\n",
            "Iterations 236 X value is -9.889516552925146\n",
            "Iterations 237 X value is -9.891726221866643\n",
            "Iterations 238 X value is -9.893891697429309\n",
            "Iterations 239 X value is -9.896013863480723\n",
            "Iterations 240 X value is -9.89809358621111\n",
            "Iterations 241 X value is -9.900131714486887\n",
            "Iterations 242 X value is -9.902129080197149\n",
            "Iterations 243 X value is -9.904086498593205\n",
            "Iterations 244 X value is -9.906004768621342\n",
            "Iterations 245 X value is -9.907884673248915\n",
            "Iterations 246 X value is -9.909726979783937\n",
            "Iterations 247 X value is -9.911532440188259\n",
            "Iterations 248 X value is -9.913301791384493\n",
            "Iterations 249 X value is -9.915035755556802\n",
            "Iterations 250 X value is -9.916735040445666\n",
            "Iterations 251 X value is -9.918400339636753\n",
            "Iterations 252 X value is -9.920032332844018\n",
            "Iterations 253 X value is -9.921631686187137\n",
            "Iterations 254 X value is -9.923199052463394\n",
            "Iterations 255 X value is -9.924735071414126\n",
            "Iterations 256 X value is -9.926240369985845\n",
            "Iterations 257 X value is -9.927715562586128\n",
            "Iterations 258 X value is -9.929161251334406\n",
            "Iterations 259 X value is -9.930578026307717\n",
            "Iterations 260 X value is -9.931966465781564\n",
            "Iterations 261 X value is -9.933327136465932\n",
            "Iterations 262 X value is -9.934660593736613\n",
            "Iterations 263 X value is -9.93596738186188\n",
            "Iterations 264 X value is -9.937248034224643\n",
            "Iterations 265 X value is -9.93850307354015\n",
            "Iterations 266 X value is -9.939733012069349\n",
            "Iterations 267 X value is -9.940938351827961\n",
            "Iterations 268 X value is -9.942119584791403\n",
            "Iterations 269 X value is -9.943277193095575\n",
            "Iterations 270 X value is -9.944411649233663\n",
            "Iterations 271 X value is -9.94552341624899\n",
            "Iterations 272 X value is -9.946612947924011\n",
            "Iterations 273 X value is -9.947680688965532\n",
            "Iterations 274 X value is -9.948727075186222\n",
            "Iterations 275 X value is -9.949752533682497\n",
            "Iterations 276 X value is -9.950757483008848\n",
            "Iterations 277 X value is -9.95174233334867\n",
            "Iterations 278 X value is -9.952707486681698\n",
            "Iterations 279 X value is -9.953653336948063\n",
            "Iterations 280 X value is -9.954580270209101\n",
            "Iterations 281 X value is -9.95548866480492\n",
            "Iterations 282 X value is -9.956378891508821\n",
            "Iterations 283 X value is -9.957251313678645\n",
            "Iterations 284 X value is -9.958106287405073\n",
            "Iterations 285 X value is -9.958944161656971\n",
            "Iterations 286 X value is -9.959765278423832\n",
            "Iterations 287 X value is -9.960569972855355\n",
            "Iterations 288 X value is -9.961358573398249\n",
            "Iterations 289 X value is -9.962131401930284\n",
            "Iterations 290 X value is -9.96288877389168\n",
            "Iterations 291 X value is -9.963630998413846\n",
            "Iterations 292 X value is -9.964358378445569\n",
            "Iterations 293 X value is -9.965071210876658\n",
            "Iterations 294 X value is -9.965769786659125\n",
            "Iterations 295 X value is -9.966454390925943\n",
            "Iterations 296 X value is -9.967125303107425\n",
            "Iterations 297 X value is -9.967782797045276\n",
            "Iterations 298 X value is -9.968427141104371\n",
            "Iterations 299 X value is -9.969058598282283\n",
            "Iterations 300 X value is -9.969677426316638\n",
            "Iterations 301 X value is -9.970283877790305\n",
            "Iterations 302 X value is -9.970878200234498\n",
            "Iterations 303 X value is -9.971460636229809\n",
            "Iterations 304 X value is -9.972031423505213\n",
            "Iterations 305 X value is -9.972590795035108\n",
            "Iterations 306 X value is -9.973138979134406\n",
            "Iterations 307 X value is -9.973676199551718\n",
            "Iterations 308 X value is -9.974202675560685\n",
            "Iterations 309 X value is -9.97471862204947\n",
            "Iterations 310 X value is -9.975224249608482\n",
            "Iterations 311 X value is -9.975719764616313\n",
            "Iterations 312 X value is -9.976205369323987\n",
            "Iterations 313 X value is -9.976681261937507\n",
            "Iterations 314 X value is -9.977147636698756\n",
            "Iterations 315 X value is -9.977604683964781\n",
            "Iterations 316 X value is -9.978052590285486\n",
            "Iterations 317 X value is -9.978491538479776\n",
            "Iterations 318 X value is -9.97892170771018\n",
            "Iterations 319 X value is -9.979343273555976\n",
            "Iterations 320 X value is -9.979756408084857\n",
            "Iterations 321 X value is -9.98016127992316\n",
            "Iterations 322 X value is -9.980558054324696\n",
            "Iterations 323 X value is -9.980946893238203\n",
            "Iterations 324 X value is -9.98132795537344\n",
            "Iterations 325 X value is -9.98170139626597\n",
            "Iterations 326 X value is -9.982067368340651\n",
            "Iterations 327 X value is -9.982426020973838\n",
            "Iterations 328 X value is -9.982777500554361\n",
            "Iterations 329 X value is -9.983121950543273\n",
            "Iterations 330 X value is -9.983459511532407\n",
            "Iterations 331 X value is -9.98379032130176\n",
            "Iterations 332 X value is -9.984114514875724\n",
            "Iterations 333 X value is -9.98443222457821\n",
            "Iterations 334 X value is -9.984743580086645\n",
            "Iterations 335 X value is -9.985048708484912\n",
            "Iterations 336 X value is -9.985347734315214\n",
            "Iterations 337 X value is -9.985640779628909\n",
            "Iterations 338 X value is -9.98592796403633\n",
            "Iterations 339 X value is -9.986209404755604\n",
            "Iterations 340 X value is -9.986485216660492\n",
            "Iterations 341 X value is -9.986755512327282\n",
            "Iterations 342 X value is -9.987020402080736\n",
            "Iterations 343 X value is -9.987279994039122\n",
            "Iterations 344 X value is -9.98753439415834\n",
            "Iterations 345 X value is -9.987783706275174\n",
            "Iterations 346 X value is -9.98802803214967\n",
            "Iterations 347 X value is -9.988267471506676\n",
            "Iterations 348 X value is -9.988502122076543\n",
            "Iterations 349 X value is -9.988732079635012\n",
            "Iterations 350 X value is -9.988957438042313\n",
            "Iterations 351 X value is -9.989178289281467\n",
            "Iterations 352 X value is -9.989394723495838\n",
            "Iterations 353 X value is -9.989606829025922\n",
            "Iterations 354 X value is -9.989814692445403\n",
            "Iterations 355 X value is -9.990018398596495\n",
            "Iterations 356 X value is -9.990218030624565\n",
            "Iterations 357 X value is -9.990413670012073\n",
            "Iterations 358 X value is -9.990605396611832\n",
            "Iterations 359 X value is -9.990793288679596\n",
            "Iterations 360 X value is -9.990977422906004\n",
            "Iterations 361 X value is -9.991157874447884\n",
            "Iterations 362 X value is -9.991334716958926\n",
            "Iterations 363 X value is -9.991508022619747\n",
            "Iterations 364 X value is -9.991677862167352\n",
            "Iterations 365 X value is -9.991844304924005\n",
            "Iterations 366 X value is -9.992007418825525\n",
            "Iterations 367 X value is -9.992167270449015\n",
            "Iterations 368 X value is -9.992323925040035\n",
            "Iterations 369 X value is -9.992477446539233\n",
            "Iterations 370 X value is -9.992627897608449\n",
            "Iterations 371 X value is -9.99277533965628\n",
            "Iterations 372 X value is -9.992919832863155\n",
            "Iterations 373 X value is -9.993061436205892\n",
            "Iterations 374 X value is -9.993200207481774\n",
            "Iterations 375 X value is -9.993336203332138\n",
            "Iterations 376 X value is -9.993469479265496\n",
            "Iterations 377 X value is -9.993600089680186\n",
            "Iterations 378 X value is -9.993728087886582\n",
            "Iterations 379 X value is -9.99385352612885\n",
            "Iterations 380 X value is -9.993976455606273\n",
            "Iterations 381 X value is -9.994096926494148\n",
            "Iterations 382 X value is -9.994214987964265\n",
            "Iterations 383 X value is -9.994330688204979\n",
            "Iterations 384 X value is -9.99444407444088\n",
            "Iterations 385 X value is -9.994555192952062\n",
            "Iterations 386 X value is -9.994664089093021\n",
            "Iterations 387 X value is -9.994770807311161\n",
            "Iterations 388 X value is -9.994875391164937\n",
            "Iterations 389 X value is -9.994977883341639\n",
            "Iterations 390 X value is -9.995078325674806\n",
            "Iterations 391 X value is -9.995176759161309\n",
            "Iterations 392 X value is -9.995273223978083\n",
            "Iterations 393 X value is -9.99536775949852\n",
            "Iterations 394 X value is -9.99546040430855\n",
            "Iterations 395 X value is -9.99555119622238\n",
            "Iterations 396 X value is -9.995640172297932\n",
            "Iterations 397 X value is -9.995727368851973\n",
            "Iterations 398 X value is -9.995812821474933\n",
            "Iterations 399 X value is -9.995896565045435\n",
            "Iterations 400 X value is -9.995978633744526\n",
            "Iterations 401 X value is -9.996059061069635\n",
            "Iterations 402 X value is -9.996137879848243\n",
            "Iterations 403 X value is -9.996215122251279\n",
            "Iterations 404 X value is -9.996290819806253\n",
            "Iterations 405 X value is -9.996365003410128\n",
            "Iterations 406 X value is -9.996437703341925\n",
            "Iterations 407 X value is -9.996508949275087\n",
            "Iterations 408 X value is -9.996578770289586\n",
            "Iterations 409 X value is -9.996647194883794\n",
            "Iterations 410 X value is -9.996714250986118\n",
            "Iterations 411 X value is -9.996779965966395\n",
            "Iterations 412 X value is -9.996844366647068\n",
            "Iterations 413 X value is -9.996907479314126\n",
            "Iterations 414 X value is -9.996969329727843\n",
            "Iterations 415 X value is -9.997029943133287\n",
            "Iterations 416 X value is -9.99708934427062\n",
            "Iterations 417 X value is -9.997147557385208\n",
            "Iterations 418 X value is -9.997204606237505\n",
            "Iterations 419 X value is -9.997260514112755\n",
            "Iterations 420 X value is -9.997315303830499\n",
            "Iterations 421 X value is -9.997368997753888\n",
            "Iterations 422 X value is -9.99742161779881\n",
            "Iterations 423 X value is -9.997473185442834\n",
            "Iterations 424 X value is -9.997523721733977\n",
            "Iterations 425 X value is -9.997573247299297\n",
            "Iterations 426 X value is -9.997621782353312\n",
            "Iterations 427 X value is -9.997669346706246\n",
            "Iterations 428 X value is -9.99771595977212\n",
            "Iterations 429 X value is -9.997761640576678\n",
            "Iterations 430 X value is -9.997806407765145\n",
            "Iterations 431 X value is -9.997850279609843\n",
            "Iterations 432 X value is -9.997893274017645\n",
            "Iterations 433 X value is -9.997935408537293\n",
            "Iterations 434 X value is -9.997976700366547\n",
            "Iterations 435 X value is -9.998017166359215\n",
            "Iterations 436 X value is -9.99805682303203\n",
            "Iterations 437 X value is -9.99809568657139\n",
            "Iterations 438 X value is -9.998133772839962\n",
            "Iterations 439 X value is -9.998171097383162\n",
            "Iterations 440 X value is -9.998207675435498\n",
            "Iterations 441 X value is -9.998243521926788\n",
            "Iterations 442 X value is -9.998278651488253\n",
            "Iterations 443 X value is -9.998313078458487\n",
            "Iterations 444 X value is -9.998346816889317\n",
            "Iterations 445 X value is -9.99837988055153\n",
            "Iterations 446 X value is -9.9984122829405\n",
            "Iterations 447 X value is -9.99844403728169\n",
            "Iterations 448 X value is -9.998475156536056\n",
            "Iterations 449 X value is -9.998505653405335\n",
            "Iterations 450 X value is -9.998535540337228\n",
            "Iterations 451 X value is -9.998564829530483\n",
            "Iterations 452 X value is -9.998593532939873\n",
            "Iterations 453 X value is -9.998621662281076\n",
            "Iterations 454 X value is -9.998649229035454\n",
            "Iterations 455 X value is -9.998676244454744\n",
            "Iterations 456 X value is -9.99870271956565\n",
            "Iterations 457 X value is -9.998728665174337\n",
            "Iterations 458 X value is -9.99875409187085\n",
            "Iterations 459 X value is -9.998779010033433\n",
            "Iterations 460 X value is -9.998803429832764\n",
            "Iterations 461 X value is -9.998827361236108\n",
            "Iterations 462 X value is -9.998850814011385\n",
            "Iterations 463 X value is -9.998873797731157\n",
            "Iterations 464 X value is -9.998896321776535\n",
            "Iterations 465 X value is -9.998918395341004\n",
            "Iterations 466 X value is -9.998940027434184\n",
            "Iterations 467 X value is -9.9989612268855\n",
            "Iterations 468 X value is -9.99898200234779\n",
            "Iterations 469 X value is -9.999002362300834\n",
            "Iterations 470 X value is -9.999022315054818\n",
            "Iterations 471 X value is -9.999041868753721\n",
            "Iterations 472 X value is -9.999061031378647\n",
            "Iterations 473 X value is -9.999079810751073\n",
            "Iterations 474 X value is -9.999098214536051\n",
            "Iterations 475 X value is -9.999116250245331\n",
            "Iterations 476 X value is -9.999133925240425\n",
            "Iterations 477 X value is -9.999151246735616\n",
            "Iterations 478 X value is -9.999168221800904\n",
            "Iterations 479 X value is -9.999184857364886\n",
            "Iterations 480 X value is -9.999201160217588\n",
            "Iterations 481 X value is -9.999217137013236\n",
            "Iterations 482 X value is -9.999232794272972\n",
            "Iterations 483 X value is -9.999248138387513\n",
            "Iterations 484 X value is -9.999263175619763\n",
            "Iterations 485 X value is -9.999277912107368\n",
            "Iterations 486 X value is -9.99929235386522\n",
            "Iterations 487 X value is -9.999306506787915\n",
            "Iterations 488 X value is -9.999320376652157\n",
            "Iterations 489 X value is -9.999333969119114\n",
            "Iterations 490 X value is -9.99934728973673\n",
            "Iterations 491 X value is -9.999360343941996\n",
            "Iterations 492 X value is -9.999373137063156\n",
            "Iterations 493 X value is -9.999385674321893\n",
            "Iterations 494 X value is -9.999397960835456\n",
            "Iterations 495 X value is -9.999410001618747\n",
            "Iterations 496 X value is -9.999421801586372\n",
            "Iterations 497 X value is -9.999433365554644\n",
            "Iterations 498 X value is -9.99944469824355\n",
            "Iterations 499 X value is -9.99945580427868\n",
            "Iterations 500 X value is -9.999466688193106\n",
            "Iterations 501 X value is -9.999477354429244\n",
            "Iterations 502 X value is -9.999487807340659\n",
            "Iterations 503 X value is -9.999498051193845\n",
            "Iterations 504 X value is -9.999508090169968\n",
            "Iterations 505 X value is -9.999517928366568\n",
            "Iterations 506 X value is -9.999527569799238\n",
            "Iterations 507 X value is -9.999537018403252\n",
            "Iterations 508 X value is -9.999546278035186\n",
            "Iterations 509 X value is -9.999555352474482\n",
            "Iterations 510 X value is -9.999564245424994\n",
            "Iterations 511 X value is -9.999572960516494\n",
            "Iterations 512 X value is -9.999581501306164\n",
            "Iterations 513 X value is -9.99958987128004\n",
            "Iterations 514 X value is -9.99959807385444\n",
            "Iterations 515 X value is -9.99960611237735\n",
            "Iterations 516 X value is -9.999613990129802\n",
            "Iterations 517 X value is -9.999621710327206\n",
            "Iterations 518 X value is -9.999629276120663\n",
            "Iterations 519 X value is -9.99963669059825\n",
            "Iterations 520 X value is -9.999643956786285\n",
            "Iterations 521 X value is -9.99965107765056\n",
            "Iterations 522 X value is -9.999658056097548\n",
            "Iterations 523 X value is -9.999664894975597\n",
            "Iterations 524 X value is -9.999671597076086\n",
            "Iterations 525 X value is -9.999678165134563\n",
            "Iterations 526 X value is -9.999684601831872\n",
            "Iterations 527 X value is -9.999690909795234\n",
            "Iterations 528 X value is -9.99969709159933\n",
            "Iterations 529 X value is -9.999703149767344\n",
            "Iterations 530 X value is -9.999709086771997\n",
            "Iterations 531 X value is -9.999714905036557\n",
            "Iterations 532 X value is -9.999720606935826\n",
            "Iterations 533 X value is -9.999726194797109\n",
            "Iterations 534 X value is -9.999731670901166\n",
            "Iterations 535 X value is -9.999737037483143\n",
            "Iterations 536 X value is -9.99974229673348\n",
            "Iterations 537 X value is -9.999747450798811\n",
            "Iterations 538 X value is -9.999752501782835\n",
            "Iterations 539 X value is -9.999757451747179\n",
            "Iterations 540 X value is -9.999762302712236\n",
            "Iterations 541 X value is -9.99976705665799\n",
            "Iterations 542 X value is -9.999771715524831\n",
            "Iterations 543 X value is -9.999776281214334\n",
            "Iterations 544 X value is -9.999780755590047\n",
            "Iterations 545 X value is -9.999785140478245\n",
            "Iterations 546 X value is -9.99978943766868\n",
            "Iterations 547 X value is -9.999793648915306\n",
            "Iterations 548 X value is -9.999797775937\n",
            "Iterations 549 X value is -9.99980182041826\n",
            "Iterations 550 X value is -9.999805784009894\n",
            "Iterations 551 X value is -9.999809668329696\n",
            "Iterations 552 X value is -9.999813474963103\n",
            "Iterations 553 X value is -9.999817205463842\n",
            "Iterations 554 X value is -9.999820861354564\n",
            "Iterations 555 X value is -9.999824444127473\n",
            "Iterations 556 X value is -9.999827955244923\n",
            "Iterations 557 X value is -9.999831396140024\n",
            "Iterations 558 X value is -9.999834768217223\n",
            "Iterations 559 X value is -9.999838072852878\n",
            "Iterations 560 X value is -9.999841311395821\n",
            "Iterations 561 X value is -9.999844485167905\n",
            "Iterations 562 X value is -9.999847595464548\n",
            "Iterations 563 X value is -9.999850643555257\n",
            "Iterations 564 X value is -9.999853630684152\n",
            "Iterations 565 X value is -9.99985655807047\n",
            "Iterations 566 X value is -9.99985942690906\n",
            "Iterations 567 X value is -9.999862238370879\n",
            "Iterations 568 X value is -9.999864993603461\n",
            "Iterations 569 X value is -9.999867693731392\n",
            "Iterations 570 X value is -9.999870339856765\n",
            "Iterations 571 X value is -9.99987293305963\n",
            "Iterations 572 X value is -9.999875474398436\n",
            "Iterations 573 X value is -9.999877964910468\n",
            "Iterations 574 X value is -9.999880405612258\n",
            "Iterations 575 X value is -9.999882797500012\n",
            "Iterations 576 X value is -9.999885141550012\n",
            "Iterations 577 X value is -9.99988743871901\n",
            "Iterations 578 X value is -9.99988968994463\n",
            "Iterations 579 X value is -9.999891896145739\n",
            "Iterations 580 X value is -9.999894058222823\n",
            "Iterations 581 X value is -9.999896177058368\n",
            "Iterations 582 X value is -9.9998982535172\n",
            "Iterations 583 X value is -9.999900288446856\n",
            "Iterations 584 X value is -9.999902282677919\n",
            "Iterations 585 X value is -9.99990423702436\n",
            "Iterations 586 X value is -9.999906152283874\n",
            "Iterations 587 X value is -9.999908029238195\n",
            "Iterations 588 X value is -9.99990986865343\n",
            "Iterations 589 X value is -9.999911671280362\n",
            "Iterations 590 X value is -9.999913437854755\n",
            "Iterations 591 X value is -9.99991516909766\n",
            "Iterations 592 X value is -9.999916865715706\n",
            "Iterations 593 X value is -9.999918528401391\n",
            "Iterations 594 X value is -9.999920157833364\n",
            "Iterations 595 X value is -9.999921754676697\n",
            "Iterations 596 X value is -9.999923319583162\n",
            "Iterations 597 X value is -9.9999248531915\n",
            "Iterations 598 X value is -9.99992635612767\n",
            "Iterations 599 X value is -9.999927829005117\n",
            "Iterations 600 X value is -9.999929272425014\n",
            "Iterations 601 X value is -9.999930686976514\n",
            "Iterations 602 X value is -9.999932073236984\n",
            "Iterations 603 X value is -9.999933431772245\n",
            "Iterations 604 X value is -9.9999347631368\n",
            "Iterations 605 X value is -9.999936067874064\n",
            "Iterations 606 X value is -9.999937346516582\n",
            "Iterations 607 X value is -9.99993859958625\n",
            "Iterations 608 X value is -9.999939827594524\n",
            "Iterations 609 X value is -9.999941031042633\n",
            "Iterations 610 X value is -9.99994221042178\n",
            "Iterations 611 X value is -9.999943366213344\n",
            "Iterations 612 X value is -9.999944498889077\n",
            "Iterations 613 X value is -9.999945608911295\n",
            "Iterations 614 X value is -9.999946696733069\n",
            "Iterations 615 X value is -9.999947762798408\n",
            "Iterations 616 X value is -9.99994880754244\n",
            "Iterations 617 X value is -9.999949831391591\n",
            "Iterations 618 X value is -9.999950834763759\n",
            "Iterations 619 X value is -9.999951818068483\n"
          ],
          "name": "stdout"
        }
      ]
    },
    {
      "cell_type": "code",
      "metadata": {
        "colab": {
          "base_uri": "https://localhost:8080/",
          "height": 336
        },
        "id": "BhH2FhWp3gr7",
        "outputId": "d8c3ecf0-521e-47e3-c0e6-2329dd9a89f5"
      },
      "source": [
        "sns.swarmplot(x=plot)"
      ],
      "execution_count": 69,
      "outputs": [
        {
          "output_type": "stream",
          "text": [
            "/usr/local/lib/python3.7/dist-packages/seaborn/categorical.py:1296: UserWarning: 22.1% of the points cannot be placed; you may want to decrease the size of the markers or use stripplot.\n",
            "  warnings.warn(msg, UserWarning)\n"
          ],
          "name": "stderr"
        },
        {
          "output_type": "execute_result",
          "data": {
            "text/plain": [
              "<matplotlib.axes._subplots.AxesSubplot at 0x7f83ce2a7110>"
            ]
          },
          "metadata": {
            "tags": []
          },
          "execution_count": 69
        },
        {
          "output_type": "display_data",
          "data": {
            "image/png": "[encoded data removed]",
            "text/plain": [
              "<Figure size 432x288 with 1 Axes>"
            ]
          },
          "metadata": {
            "tags": [],
            "needs_background": "light"
          }
        }
      ]
    },
    {
      "cell_type": "code",
      "metadata": {
        "colab": {
          "base_uri": "https://localhost:8080/",
          "height": 282
        },
        "id": "uhREU12v3mAd",
        "outputId": "73d2826a-c77e-4812-cc12-07d217434b58"
      },
      "source": [
        "sns.lineplot(x=plot, y=iter_plot)"
      ],
      "execution_count": 70,
      "outputs": [
        {
          "output_type": "execute_result",
          "data": {
            "text/plain": [
              "<matplotlib.axes._subplots.AxesSubplot at 0x7f83ccdca710>"
            ]
          },
          "metadata": {
            "tags": []
          },
          "execution_count": 70
        },
        {
          "output_type": "display_data",
          "data": {
            "image/png": "[encoded data removed]",
            "text/plain": [
              "<Figure size 432x288 with 1 Axes>"
            ]
          },
          "metadata": {
            "tags": [],
            "needs_background": "light"
          }
        }
      ]
    },
    {
      "cell_type": "code",
      "metadata": {
        "colab": {
          "base_uri": "https://localhost:8080/",
          "height": 458
        },
        "id": "Qysmh5qo3qCj",
        "outputId": "38b2f6ab-8b86-4f77-fb0a-9a18a79ab488"
      },
      "source": [
        "sns.jointplot(x=plot, y=iter_plot)"
      ],
      "execution_count": 80,
      "outputs": [
        {
          "output_type": "execute_result",
          "data": {
            "text/plain": [
              "<seaborn.axisgrid.JointGrid at 0x7f83c4266a90>"
            ]
          },
          "metadata": {
            "tags": []
          },
          "execution_count": 80
        },
        {
          "output_type": "display_data",
          "data": {
            "image/png": "[encoded data removed]",
            "text/plain": [
              "<Figure size 432x432 with 3 Axes>"
            ]
          },
          "metadata": {
            "tags": [],
            "needs_background": "light"
          }
        }
      ]
    },
    {
      "cell_type": "code",
      "metadata": {
        "colab": {
          "base_uri": "https://localhost:8080/",
          "height": 163
        },
        "id": "fX_UW1Tj4RbQ",
        "outputId": "bb72600f-72c6-4c0b-fc29-65b2373324ce"
      },
      "source": [
        ""
      ],
      "execution_count": 76,
      "outputs": [
        {
          "output_type": "error",
          "ename": "AttributeError",
          "evalue": "ignored",
          "traceback": [
            "\u001b[0;31m---------------------------------------------------------------------------\u001b[0m",
            "\u001b[0;31mAttributeError\u001b[0m                            Traceback (most recent call last)",
            "\u001b[0;32m<ipython-input-76-ef54a157b3df>\u001b[0m in \u001b[0;36m<module>\u001b[0;34m()\u001b[0m\n\u001b[0;32m----> 1\u001b[0;31m \u001b[0mplot\u001b[0m\u001b[0;34m.\u001b[0m\u001b[0mminimum\u001b[0m\u001b[0;34m(\u001b[0m\u001b[0;34m)\u001b[0m\u001b[0;34m\u001b[0m\u001b[0;34m\u001b[0m\u001b[0m\n\u001b[0m",
            "\u001b[0;31mAttributeError\u001b[0m: 'list' object has no attribute 'minimum'"
          ]
        }
      ]
    },
    {
      "cell_type": "code",
      "metadata": {
        "id": "txFE9Ztf4aW2"
      },
      "source": [
        ""
      ],
      "execution_count": null,
      "outputs": []
    }
  ]
}