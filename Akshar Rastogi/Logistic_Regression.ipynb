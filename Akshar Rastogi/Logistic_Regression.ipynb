{
  "nbformat": 4,
  "nbformat_minor": 0,
  "metadata": {
    "colab": {
      "name": "Logistic Regression.ipynb",
      "provenance": []
    },
    "kernelspec": {
      "name": "python3",
      "display_name": "Python 3"
    },
    "language_info": {
      "name": "python"
    }
  },
  "cells": [
    {
      "cell_type": "code",
      "metadata": {
        "id": "AMvpofmYwrhB"
      },
      "source": [
        "import pandas as pd\n",
        "import numpy as np \n",
        "import seaborn as sns\n",
        "import matplotlib.pyplot as plt\n",
        "from math import exp"
      ],
      "execution_count": 4,
      "outputs": []
    },
    {
      "cell_type": "code",
      "metadata": {
        "id": "p2zYoVWMw1MA"
      },
      "source": [
        "def predict(row, coff):\n",
        "  yhat = coff[0]\n",
        "  for i in range(len(row)-1):\n",
        "    yhat += coff[i+1]* row[i]\n",
        "  return 1.0/(1.0 + exp(-yhat))    \n",
        "  '''\n",
        "  yhat is b0 and coff[i] is b1 row[i] is x\n",
        "  '''"
      ],
      "execution_count": 5,
      "outputs": []
    },
    {
      "cell_type": "code",
      "metadata": {
        "colab": {
          "base_uri": "https://localhost:8080/"
        },
        "id": "gbz1gxwB5TP0",
        "outputId": "4a2dfc4d-d4ba-4dbc-bcd2-af714d5e90fc"
      },
      "source": [
        "dataset = [[2.7810836,2.550537003,0],\n",
        "\t[1.465489372,2.362125076,0],\n",
        "\t[3.396561688,4.400293529,0],\n",
        "\t[1.38807019,1.850220317,0],\n",
        "\t[3.06407232,3.005305973,0],\n",
        "\t[7.627531214,2.759262235,1],\n",
        "\t[5.332441248,2.088626775,1],\n",
        "\t[6.922596716,1.77106367,1],\n",
        "\t[8.675418651,-0.242068655,1],\n",
        "\t[7.673756466,3.508563011,1]]\n",
        "coef = [-0.406605464, 0.852573316, -1.104746259]\n",
        "for row in dataset:\n",
        "  yhat = predict(row, coef)\n",
        "  print('Expected=%.4f, predicted=%.4f [%d]'% (row[-1], yhat, round(yhat)))"
      ],
      "execution_count": 6,
      "outputs": [
        {
          "output_type": "stream",
          "text": [
            "Expected=0.0000, predicted=0.2988 [0]\n",
            "Expected=0.0000, predicted=0.1460 [0]\n",
            "Expected=0.0000, predicted=0.0853 [0]\n",
            "Expected=0.0000, predicted=0.2197 [0]\n",
            "Expected=0.0000, predicted=0.2471 [0]\n",
            "Expected=1.0000, predicted=0.9547 [1]\n",
            "Expected=1.0000, predicted=0.8620 [1]\n",
            "Expected=1.0000, predicted=0.9718 [1]\n",
            "Expected=1.0000, predicted=0.9993 [1]\n",
            "Expected=1.0000, predicted=0.9055 [1]\n"
          ],
          "name": "stdout"
        }
      ]
    },
    {
      "cell_type": "code",
      "metadata": {
        "id": "cPf3zbJNDQav"
      },
      "source": [
        "def coefficients_sgd(train,alpha, num_epoch):\n",
        " #to estimate logistic regression coefficient using gradient descent\n",
        " #\n",
        "\tcoef = [0.0 for i in range(len(train[0]))]\n",
        "\tfor epoch in range(num_epoch):\n",
        "\t\tsum_error = 0\n",
        "\t\tfor row in train:\n",
        "\t\t\tyhat = predict(row, coef)\n",
        "\t\t\terror = row[-1] - yhat\n",
        "\t\t\tsum_error += error**2\n",
        "\t\t\tcoef[0] = coef[0] +alpha * error * yhat * (1.0 - yhat)\n",
        "\t\t\tfor i in range(len(row)-1):\n",
        "\t\t\t\tcoef[i + 1] = coef[i + 1] +alpha * error * yhat * (1.0 - yhat) * row[i]\n",
        "\t\tprint('>epoch=%d, lrate=%.3f, error=%.3f' % (epoch,alpha, sum_error))\n",
        "\treturn coef\n",
        "  "
      ],
      "execution_count": 7,
      "outputs": []
    },
    {
      "cell_type": "code",
      "metadata": {
        "id": "eZvADjGQ22hT"
      },
      "source": [
        ""
      ],
      "execution_count": null,
      "outputs": []
    }
  ]
}